{
 "cells": [
  {
   "cell_type": "markdown",
   "metadata": {},
   "source": [
    "### Restart and run all"
   ]
  },
  {
   "cell_type": "code",
   "execution_count": 5,
   "metadata": {},
   "outputs": [
    {
     "data": {
      "text/plain": [
       "datetime.date(2023, 1, 9)"
      ]
     },
     "execution_count": 5,
     "metadata": {},
     "output_type": "execute_result"
    }
   ],
   "source": [
    "%matplotlib inline\n",
    "import matplotlib.pyplot as plt\n",
    "import pandas as pd\n",
    "from sqlalchemy import create_engine\n",
    "from datetime import date, timedelta\n",
    "import calendar\n",
    "\n",
    "engine = create_engine(\"sqlite:///c:\\\\ruby\\\\expense\\\\db\\\\development.sqlite3\")\n",
    "connection = engine.connect()\n",
    "\n",
    "format_dict = {'amount':'{:,}','y_amt':'{:,}','yoy_gain':'{:,}',\n",
    "               'q_amt_c':'{:,}','q_amt_p':'{:,}',\n",
    "               'aq_amt':'{:,}','ay_amt':'{:,}','acc_gain':'{:,}',\n",
    "               'latest_amt':'{:,}','previous_amt':'{:,}','inc_amt':'{:,}',\n",
    "               'latest_amt_q':'{:,}','previous_amt_q':'{:,}','inc_amt_q':'{:,}',\n",
    "               'latest_amt_y':'{:,}','previous_amt_y':'{:,}','inc_amt_y':'{:,}',\n",
    "               'inc_pct':'{:.2f}','inc_pct_q':'{:.2f}','inc_pct_y':'{:.2f}'}\n",
    "year = 2023\n",
    "month = 1\n",
    "today = date.today()\n",
    "today"
   ]
  },
  {
   "cell_type": "code",
   "execution_count": 8,
   "metadata": {},
   "outputs": [
    {
     "name": "stdout",
     "output_type": "stream",
     "text": [
      "\n",
      "SELECT date, amount, C.name AS item, G.name AS kind, strftime(\"%m\", date) as Month \n",
      "FROM transactions T \n",
      "JOIN categories C ON category_id = C.id \n",
      "JOIN groups G ON group_id = G.id \n",
      "WHERE strftime('%Y', date) = '2023'\n",
      "\n"
     ]
    }
   ],
   "source": [
    "sql = \"\"\"\n",
    "SELECT date, amount, C.name AS item, G.name AS kind, strftime(\"%m\", date) as Month \n",
    "FROM transactions T \n",
    "JOIN categories C ON category_id = C.id \n",
    "JOIN groups G ON group_id = G.id \n",
    "WHERE strftime('%Y', date) = '2023'\n",
    "\"\"\"\n",
    "#sql = sql % year\n",
    "print(sql)"
   ]
  },
  {
   "cell_type": "code",
   "execution_count": 3,
   "metadata": {},
   "outputs": [
    {
     "data": {
      "text/html": [
       "<style type=\"text/css\">\n",
       "</style>\n",
       "<table id=\"T_75fa0_\">\n",
       "  <thead>\n",
       "    <tr>\n",
       "      <th class=\"blank level0\" >&nbsp;</th>\n",
       "      <th class=\"col_heading level0 col0\" >date</th>\n",
       "      <th class=\"col_heading level0 col1\" >amount</th>\n",
       "      <th class=\"col_heading level0 col2\" >item</th>\n",
       "      <th class=\"col_heading level0 col3\" >kind</th>\n",
       "      <th class=\"col_heading level0 col4\" >Month</th>\n",
       "    </tr>\n",
       "  </thead>\n",
       "  <tbody>\n",
       "    <tr>\n",
       "      <th id=\"T_75fa0_level0_row0\" class=\"row_heading level0 row0\" >0</th>\n",
       "      <td id=\"T_75fa0_row0_col0\" class=\"data row0 col0\" >2023-01-04</td>\n",
       "      <td id=\"T_75fa0_row0_col1\" class=\"data row0 col1\" >5,670</td>\n",
       "      <td id=\"T_75fa0_row0_col2\" class=\"data row0 col2\" >Pets</td>\n",
       "      <td id=\"T_75fa0_row0_col3\" class=\"data row0 col3\" >Pets</td>\n",
       "      <td id=\"T_75fa0_row0_col4\" class=\"data row0 col4\" >01</td>\n",
       "    </tr>\n",
       "    <tr>\n",
       "      <th id=\"T_75fa0_level0_row1\" class=\"row_heading level0 row1\" >1</th>\n",
       "      <td id=\"T_75fa0_row1_col0\" class=\"data row1 col0\" >2023-01-04</td>\n",
       "      <td id=\"T_75fa0_row1_col1\" class=\"data row1 col1\" >10,960</td>\n",
       "      <td id=\"T_75fa0_row1_col2\" class=\"data row1 col2\" >Medicine</td>\n",
       "      <td id=\"T_75fa0_row1_col3\" class=\"data row1 col3\" >Medicine</td>\n",
       "      <td id=\"T_75fa0_row1_col4\" class=\"data row1 col4\" >01</td>\n",
       "    </tr>\n",
       "    <tr>\n",
       "      <th id=\"T_75fa0_level0_row2\" class=\"row_heading level0 row2\" >2</th>\n",
       "      <td id=\"T_75fa0_row2_col0\" class=\"data row2 col0\" >2023-01-02</td>\n",
       "      <td id=\"T_75fa0_row2_col1\" class=\"data row2 col1\" >1,670</td>\n",
       "      <td id=\"T_75fa0_row2_col2\" class=\"data row2 col2\" >Food</td>\n",
       "      <td id=\"T_75fa0_row2_col3\" class=\"data row2 col3\" >Food</td>\n",
       "      <td id=\"T_75fa0_row2_col4\" class=\"data row2 col4\" >01</td>\n",
       "    </tr>\n",
       "    <tr>\n",
       "      <th id=\"T_75fa0_level0_row3\" class=\"row_heading level0 row3\" >3</th>\n",
       "      <td id=\"T_75fa0_row3_col0\" class=\"data row3 col0\" >2023-01-04</td>\n",
       "      <td id=\"T_75fa0_row3_col1\" class=\"data row3 col1\" >280</td>\n",
       "      <td id=\"T_75fa0_row3_col2\" class=\"data row3 col2\" >Food</td>\n",
       "      <td id=\"T_75fa0_row3_col3\" class=\"data row3 col3\" >Food</td>\n",
       "      <td id=\"T_75fa0_row3_col4\" class=\"data row3 col4\" >01</td>\n",
       "    </tr>\n",
       "    <tr>\n",
       "      <th id=\"T_75fa0_level0_row4\" class=\"row_heading level0 row4\" >4</th>\n",
       "      <td id=\"T_75fa0_row4_col0\" class=\"data row4 col0\" >2023-01-03</td>\n",
       "      <td id=\"T_75fa0_row4_col1\" class=\"data row4 col1\" >100</td>\n",
       "      <td id=\"T_75fa0_row4_col2\" class=\"data row4 col2\" >Food</td>\n",
       "      <td id=\"T_75fa0_row4_col3\" class=\"data row4 col3\" >Food</td>\n",
       "      <td id=\"T_75fa0_row4_col4\" class=\"data row4 col4\" >01</td>\n",
       "    </tr>\n",
       "    <tr>\n",
       "      <th id=\"T_75fa0_level0_row5\" class=\"row_heading level0 row5\" >5</th>\n",
       "      <td id=\"T_75fa0_row5_col0\" class=\"data row5 col0\" >2023-01-01</td>\n",
       "      <td id=\"T_75fa0_row5_col1\" class=\"data row5 col1\" >1,200</td>\n",
       "      <td id=\"T_75fa0_row5_col2\" class=\"data row5 col2\" >Fuel</td>\n",
       "      <td id=\"T_75fa0_row5_col3\" class=\"data row5 col3\" >Transportation</td>\n",
       "      <td id=\"T_75fa0_row5_col4\" class=\"data row5 col4\" >01</td>\n",
       "    </tr>\n",
       "    <tr>\n",
       "      <th id=\"T_75fa0_level0_row6\" class=\"row_heading level0 row6\" >6</th>\n",
       "      <td id=\"T_75fa0_row6_col0\" class=\"data row6 col0\" >2023-01-01</td>\n",
       "      <td id=\"T_75fa0_row6_col1\" class=\"data row6 col1\" >120</td>\n",
       "      <td id=\"T_75fa0_row6_col2\" class=\"data row6 col2\" >Food</td>\n",
       "      <td id=\"T_75fa0_row6_col3\" class=\"data row6 col3\" >Food</td>\n",
       "      <td id=\"T_75fa0_row6_col4\" class=\"data row6 col4\" >01</td>\n",
       "    </tr>\n",
       "    <tr>\n",
       "      <th id=\"T_75fa0_level0_row7\" class=\"row_heading level0 row7\" >7</th>\n",
       "      <td id=\"T_75fa0_row7_col0\" class=\"data row7 col0\" >2023-01-05</td>\n",
       "      <td id=\"T_75fa0_row7_col1\" class=\"data row7 col1\" >920</td>\n",
       "      <td id=\"T_75fa0_row7_col2\" class=\"data row7 col2\" >Pets</td>\n",
       "      <td id=\"T_75fa0_row7_col3\" class=\"data row7 col3\" >Pets</td>\n",
       "      <td id=\"T_75fa0_row7_col4\" class=\"data row7 col4\" >01</td>\n",
       "    </tr>\n",
       "    <tr>\n",
       "      <th id=\"T_75fa0_level0_row8\" class=\"row_heading level0 row8\" >8</th>\n",
       "      <td id=\"T_75fa0_row8_col0\" class=\"data row8 col0\" >2023-01-04</td>\n",
       "      <td id=\"T_75fa0_row8_col1\" class=\"data row8 col1\" >100</td>\n",
       "      <td id=\"T_75fa0_row8_col2\" class=\"data row8 col2\" >Merit Making</td>\n",
       "      <td id=\"T_75fa0_row8_col3\" class=\"data row8 col3\" >Others</td>\n",
       "      <td id=\"T_75fa0_row8_col4\" class=\"data row8 col4\" >01</td>\n",
       "    </tr>\n",
       "    <tr>\n",
       "      <th id=\"T_75fa0_level0_row9\" class=\"row_heading level0 row9\" >9</th>\n",
       "      <td id=\"T_75fa0_row9_col0\" class=\"data row9 col0\" >2023-01-09</td>\n",
       "      <td id=\"T_75fa0_row9_col1\" class=\"data row9 col1\" >3,590</td>\n",
       "      <td id=\"T_75fa0_row9_col2\" class=\"data row9 col2\" >Plum</td>\n",
       "      <td id=\"T_75fa0_row9_col3\" class=\"data row9 col3\" >Shelter</td>\n",
       "      <td id=\"T_75fa0_row9_col4\" class=\"data row9 col4\" >01</td>\n",
       "    </tr>\n",
       "    <tr>\n",
       "      <th id=\"T_75fa0_level0_row10\" class=\"row_heading level0 row10\" >10</th>\n",
       "      <td id=\"T_75fa0_row10_col0\" class=\"data row10 col0\" >2023-01-05</td>\n",
       "      <td id=\"T_75fa0_row10_col1\" class=\"data row10 col1\" >10,100</td>\n",
       "      <td id=\"T_75fa0_row10_col2\" class=\"data row10 col2\" >Plum</td>\n",
       "      <td id=\"T_75fa0_row10_col3\" class=\"data row10 col3\" >Shelter</td>\n",
       "      <td id=\"T_75fa0_row10_col4\" class=\"data row10 col4\" >01</td>\n",
       "    </tr>\n",
       "  </tbody>\n",
       "</table>\n"
      ],
      "text/plain": [
       "<pandas.io.formats.style.Styler at 0x243f193e070>"
      ]
     },
     "execution_count": 3,
     "metadata": {},
     "output_type": "execute_result"
    }
   ],
   "source": [
    "df_t = pd.read_sql(sql, connection)\n",
    "df_t.style.format(format_dict)"
   ]
  },
  {
   "cell_type": "code",
   "execution_count": 4,
   "metadata": {},
   "outputs": [
    {
     "data": {
      "text/plain": [
       "'฿34,710.00'"
      ]
     },
     "execution_count": 4,
     "metadata": {},
     "output_type": "execute_result"
    }
   ],
   "source": [
    "float_formatter = \"฿{:,.2f}\"\n",
    "ttl_exp = df_t.amount.sum()\n",
    "float_formatter.format(ttl_exp)"
   ]
  },
  {
   "cell_type": "code",
   "execution_count": null,
   "metadata": {},
   "outputs": [],
   "source": []
  }
 ],
 "metadata": {
  "anaconda-cloud": {},
  "kernelspec": {
   "display_name": "Python 3 (ipykernel)",
   "language": "python",
   "name": "python3"
  },
  "language_info": {
   "codemirror_mode": {
    "name": "ipython",
    "version": 3
   },
   "file_extension": ".py",
   "mimetype": "text/x-python",
   "name": "python",
   "nbconvert_exporter": "python",
   "pygments_lexer": "ipython3",
   "version": "3.8.11"
  }
 },
 "nbformat": 4,
 "nbformat_minor": 1
}
