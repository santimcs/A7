{
 "cells": [
  {
   "cell_type": "markdown",
   "metadata": {},
   "source": [
    "### Restart and run all"
   ]
  },
  {
   "cell_type": "code",
   "execution_count": 1,
   "metadata": {},
   "outputs": [
    {
     "data": {
      "text/plain": [
       "datetime.date(2023, 1, 9)"
      ]
     },
     "execution_count": 1,
     "metadata": {},
     "output_type": "execute_result"
    }
   ],
   "source": [
    "%matplotlib inline\n",
    "import matplotlib.pyplot as plt\n",
    "import pandas as pd\n",
    "from sqlalchemy import create_engine\n",
    "from datetime import date, timedelta\n",
    "import calendar\n",
    "\n",
    "engine = create_engine(\"sqlite:///c:\\\\ruby\\\\expense\\\\db\\\\development.sqlite3\")\n",
    "conep = engine.connect()\n",
    "\n",
    "engine = create_engine('mysql+pymysql://root:@localhost:3306/portfolio_development')\n",
    "conpf = engine.connect()\n",
    "\n",
    "format_dict = {'amount':'{:,}','y_amt':'{:,}','yoy_gain':'{:,}',\n",
    "               'q_amt_c':'{:,}','q_amt_p':'{:,}',\n",
    "               'aq_amt':'{:,}','ay_amt':'{:,}','acc_gain':'{:,}',\n",
    "               'latest_amt':'{:,}','previous_amt':'{:,}','inc_amt':'{:,}',\n",
    "               'latest_amt_q':'{:,}','previous_amt_q':'{:,}','inc_amt_q':'{:,}',\n",
    "               'latest_amt_y':'{:,}','previous_amt_y':'{:,}','inc_amt_y':'{:,}',\n",
    "               'inc_pct':'{:.2f}','inc_pct_q':'{:.2f}','inc_pct_y':'{:.2f}'}\n",
    "year = 2023\n",
    "month = 1\n",
    "today = date.today()\n",
    "today"
   ]
  },
  {
   "cell_type": "code",
   "execution_count": 2,
   "metadata": {},
   "outputs": [
    {
     "name": "stdout",
     "output_type": "stream",
     "text": [
      "\n",
      "SELECT date, amount, C.name AS item, G.name AS kind, strftime(\"%m\", date) as Month \n",
      "FROM transactions T \n",
      "JOIN categories C ON category_id = C.id \n",
      "JOIN groups G ON group_id = G.id \n",
      "WHERE strftime('%Y', date) = '2023'\n",
      "\n"
     ]
    }
   ],
   "source": [
    "sql = \"\"\"\n",
    "SELECT date, amount, C.name AS item, G.name AS kind, strftime(\"%m\", date) as Month \n",
    "FROM transactions T \n",
    "JOIN categories C ON category_id = C.id \n",
    "JOIN groups G ON group_id = G.id \n",
    "WHERE strftime('%Y', date) = '2023'\n",
    "\"\"\"\n",
    "#sql = sql % year\n",
    "print(sql)"
   ]
  },
  {
   "cell_type": "code",
   "execution_count": 3,
   "metadata": {},
   "outputs": [
    {
     "data": {
      "text/html": [
       "<style type=\"text/css\">\n",
       "</style>\n",
       "<table id=\"T_f7bbb_\">\n",
       "  <thead>\n",
       "    <tr>\n",
       "      <th class=\"blank level0\" >&nbsp;</th>\n",
       "      <th class=\"col_heading level0 col0\" >date</th>\n",
       "      <th class=\"col_heading level0 col1\" >amount</th>\n",
       "      <th class=\"col_heading level0 col2\" >item</th>\n",
       "      <th class=\"col_heading level0 col3\" >kind</th>\n",
       "      <th class=\"col_heading level0 col4\" >Month</th>\n",
       "    </tr>\n",
       "  </thead>\n",
       "  <tbody>\n",
       "    <tr>\n",
       "      <th id=\"T_f7bbb_level0_row0\" class=\"row_heading level0 row0\" >0</th>\n",
       "      <td id=\"T_f7bbb_row0_col0\" class=\"data row0 col0\" >2023-01-04</td>\n",
       "      <td id=\"T_f7bbb_row0_col1\" class=\"data row0 col1\" >5,670</td>\n",
       "      <td id=\"T_f7bbb_row0_col2\" class=\"data row0 col2\" >Pets</td>\n",
       "      <td id=\"T_f7bbb_row0_col3\" class=\"data row0 col3\" >Pets</td>\n",
       "      <td id=\"T_f7bbb_row0_col4\" class=\"data row0 col4\" >01</td>\n",
       "    </tr>\n",
       "    <tr>\n",
       "      <th id=\"T_f7bbb_level0_row1\" class=\"row_heading level0 row1\" >1</th>\n",
       "      <td id=\"T_f7bbb_row1_col0\" class=\"data row1 col0\" >2023-01-04</td>\n",
       "      <td id=\"T_f7bbb_row1_col1\" class=\"data row1 col1\" >10,960</td>\n",
       "      <td id=\"T_f7bbb_row1_col2\" class=\"data row1 col2\" >Medicine</td>\n",
       "      <td id=\"T_f7bbb_row1_col3\" class=\"data row1 col3\" >Medicine</td>\n",
       "      <td id=\"T_f7bbb_row1_col4\" class=\"data row1 col4\" >01</td>\n",
       "    </tr>\n",
       "    <tr>\n",
       "      <th id=\"T_f7bbb_level0_row2\" class=\"row_heading level0 row2\" >2</th>\n",
       "      <td id=\"T_f7bbb_row2_col0\" class=\"data row2 col0\" >2023-01-02</td>\n",
       "      <td id=\"T_f7bbb_row2_col1\" class=\"data row2 col1\" >1,670</td>\n",
       "      <td id=\"T_f7bbb_row2_col2\" class=\"data row2 col2\" >Food</td>\n",
       "      <td id=\"T_f7bbb_row2_col3\" class=\"data row2 col3\" >Food</td>\n",
       "      <td id=\"T_f7bbb_row2_col4\" class=\"data row2 col4\" >01</td>\n",
       "    </tr>\n",
       "    <tr>\n",
       "      <th id=\"T_f7bbb_level0_row3\" class=\"row_heading level0 row3\" >3</th>\n",
       "      <td id=\"T_f7bbb_row3_col0\" class=\"data row3 col0\" >2023-01-04</td>\n",
       "      <td id=\"T_f7bbb_row3_col1\" class=\"data row3 col1\" >280</td>\n",
       "      <td id=\"T_f7bbb_row3_col2\" class=\"data row3 col2\" >Food</td>\n",
       "      <td id=\"T_f7bbb_row3_col3\" class=\"data row3 col3\" >Food</td>\n",
       "      <td id=\"T_f7bbb_row3_col4\" class=\"data row3 col4\" >01</td>\n",
       "    </tr>\n",
       "    <tr>\n",
       "      <th id=\"T_f7bbb_level0_row4\" class=\"row_heading level0 row4\" >4</th>\n",
       "      <td id=\"T_f7bbb_row4_col0\" class=\"data row4 col0\" >2023-01-03</td>\n",
       "      <td id=\"T_f7bbb_row4_col1\" class=\"data row4 col1\" >100</td>\n",
       "      <td id=\"T_f7bbb_row4_col2\" class=\"data row4 col2\" >Food</td>\n",
       "      <td id=\"T_f7bbb_row4_col3\" class=\"data row4 col3\" >Food</td>\n",
       "      <td id=\"T_f7bbb_row4_col4\" class=\"data row4 col4\" >01</td>\n",
       "    </tr>\n",
       "    <tr>\n",
       "      <th id=\"T_f7bbb_level0_row5\" class=\"row_heading level0 row5\" >5</th>\n",
       "      <td id=\"T_f7bbb_row5_col0\" class=\"data row5 col0\" >2023-01-01</td>\n",
       "      <td id=\"T_f7bbb_row5_col1\" class=\"data row5 col1\" >1,200</td>\n",
       "      <td id=\"T_f7bbb_row5_col2\" class=\"data row5 col2\" >Fuel</td>\n",
       "      <td id=\"T_f7bbb_row5_col3\" class=\"data row5 col3\" >Transportation</td>\n",
       "      <td id=\"T_f7bbb_row5_col4\" class=\"data row5 col4\" >01</td>\n",
       "    </tr>\n",
       "    <tr>\n",
       "      <th id=\"T_f7bbb_level0_row6\" class=\"row_heading level0 row6\" >6</th>\n",
       "      <td id=\"T_f7bbb_row6_col0\" class=\"data row6 col0\" >2023-01-01</td>\n",
       "      <td id=\"T_f7bbb_row6_col1\" class=\"data row6 col1\" >120</td>\n",
       "      <td id=\"T_f7bbb_row6_col2\" class=\"data row6 col2\" >Food</td>\n",
       "      <td id=\"T_f7bbb_row6_col3\" class=\"data row6 col3\" >Food</td>\n",
       "      <td id=\"T_f7bbb_row6_col4\" class=\"data row6 col4\" >01</td>\n",
       "    </tr>\n",
       "    <tr>\n",
       "      <th id=\"T_f7bbb_level0_row7\" class=\"row_heading level0 row7\" >7</th>\n",
       "      <td id=\"T_f7bbb_row7_col0\" class=\"data row7 col0\" >2023-01-05</td>\n",
       "      <td id=\"T_f7bbb_row7_col1\" class=\"data row7 col1\" >920</td>\n",
       "      <td id=\"T_f7bbb_row7_col2\" class=\"data row7 col2\" >Pets</td>\n",
       "      <td id=\"T_f7bbb_row7_col3\" class=\"data row7 col3\" >Pets</td>\n",
       "      <td id=\"T_f7bbb_row7_col4\" class=\"data row7 col4\" >01</td>\n",
       "    </tr>\n",
       "    <tr>\n",
       "      <th id=\"T_f7bbb_level0_row8\" class=\"row_heading level0 row8\" >8</th>\n",
       "      <td id=\"T_f7bbb_row8_col0\" class=\"data row8 col0\" >2023-01-04</td>\n",
       "      <td id=\"T_f7bbb_row8_col1\" class=\"data row8 col1\" >100</td>\n",
       "      <td id=\"T_f7bbb_row8_col2\" class=\"data row8 col2\" >Merit Making</td>\n",
       "      <td id=\"T_f7bbb_row8_col3\" class=\"data row8 col3\" >Others</td>\n",
       "      <td id=\"T_f7bbb_row8_col4\" class=\"data row8 col4\" >01</td>\n",
       "    </tr>\n",
       "    <tr>\n",
       "      <th id=\"T_f7bbb_level0_row9\" class=\"row_heading level0 row9\" >9</th>\n",
       "      <td id=\"T_f7bbb_row9_col0\" class=\"data row9 col0\" >2023-01-09</td>\n",
       "      <td id=\"T_f7bbb_row9_col1\" class=\"data row9 col1\" >3,590</td>\n",
       "      <td id=\"T_f7bbb_row9_col2\" class=\"data row9 col2\" >Plum</td>\n",
       "      <td id=\"T_f7bbb_row9_col3\" class=\"data row9 col3\" >Shelter</td>\n",
       "      <td id=\"T_f7bbb_row9_col4\" class=\"data row9 col4\" >01</td>\n",
       "    </tr>\n",
       "    <tr>\n",
       "      <th id=\"T_f7bbb_level0_row10\" class=\"row_heading level0 row10\" >10</th>\n",
       "      <td id=\"T_f7bbb_row10_col0\" class=\"data row10 col0\" >2023-01-05</td>\n",
       "      <td id=\"T_f7bbb_row10_col1\" class=\"data row10 col1\" >10,100</td>\n",
       "      <td id=\"T_f7bbb_row10_col2\" class=\"data row10 col2\" >Plum</td>\n",
       "      <td id=\"T_f7bbb_row10_col3\" class=\"data row10 col3\" >Shelter</td>\n",
       "      <td id=\"T_f7bbb_row10_col4\" class=\"data row10 col4\" >01</td>\n",
       "    </tr>\n",
       "  </tbody>\n",
       "</table>\n"
      ],
      "text/plain": [
       "<pandas.io.formats.style.Styler at 0x1d836e1fa30>"
      ]
     },
     "execution_count": 3,
     "metadata": {},
     "output_type": "execute_result"
    }
   ],
   "source": [
    "df_t = pd.read_sql(sql, conep)\n",
    "df_t.style.format(format_dict)"
   ]
  },
  {
   "cell_type": "code",
   "execution_count": 4,
   "metadata": {},
   "outputs": [
    {
     "data": {
      "text/plain": [
       "'฿34,710.00'"
      ]
     },
     "execution_count": 4,
     "metadata": {},
     "output_type": "execute_result"
    }
   ],
   "source": [
    "float_formatter = \"฿{:,.2f}\"\n",
    "ttl_exp = df_t.amount.sum()\n",
    "float_formatter.format(ttl_exp)"
   ]
  },
  {
   "cell_type": "code",
   "execution_count": 5,
   "metadata": {},
   "outputs": [
    {
     "name": "stdout",
     "output_type": "stream",
     "text": [
      "\n",
      "SELECT name, YEAR(sells.date) AS sell_year, MONTH(sells.date) AS sell_month, \n",
      "       YEAR(buys.date) AS buy_year, MONTH(buys.date) AS buy_month,\n",
      "       sells.price AS sell_price, buys.price AS buy_price,\n",
      "       (sells.price - buys.price) AS diff, \n",
      "       qty, (sells.price * qty) AS sell_amt, (buys.price * qty) AS buy_amt, \n",
      "       (sells.price - buys.price) * qty AS gross, \n",
      "       ROUND((sells.price - buys.price)/buys.price*100,2) AS pct, profit AS net, \n",
      "       buys.kind\n",
      "FROM sells JOIN buys ON sells.buy_id = buys.id\n",
      "JOIN stocks ON buys.stock_id = stocks.id\n",
      "WHERE YEAR(sells.date) = 2023\n",
      "ORDER BY sells.date DESC, name\n"
     ]
    }
   ],
   "source": [
    "sql = '''\n",
    "SELECT name, YEAR(sells.date) AS sell_year, MONTH(sells.date) AS sell_month, \n",
    "       YEAR(buys.date) AS buy_year, MONTH(buys.date) AS buy_month,\n",
    "       sells.price AS sell_price, buys.price AS buy_price,\n",
    "       (sells.price - buys.price) AS diff, \n",
    "       qty, (sells.price * qty) AS sell_amt, (buys.price * qty) AS buy_amt, \n",
    "       (sells.price - buys.price) * qty AS gross, \n",
    "       ROUND((sells.price - buys.price)/buys.price*100,2) AS pct, profit AS net, \n",
    "       buys.kind\n",
    "FROM sells JOIN buys ON sells.buy_id = buys.id\n",
    "JOIN stocks ON buys.stock_id = stocks.id\n",
    "WHERE YEAR(sells.date) = %s\n",
    "ORDER BY sells.date DESC, name'''\n",
    "sql = sql % year\n",
    "sells_df = pd.read_sql(sql, conpf)\n",
    "print(sql)"
   ]
  },
  {
   "cell_type": "code",
   "execution_count": 6,
   "metadata": {},
   "outputs": [
    {
     "data": {
      "text/html": [
       "<style type=\"text/css\">\n",
       "</style>\n",
       "<table id=\"T_9130f_\">\n",
       "  <thead>\n",
       "    <tr>\n",
       "      <th class=\"blank level0\" >&nbsp;</th>\n",
       "      <th class=\"col_heading level0 col0\" >name</th>\n",
       "      <th class=\"col_heading level0 col1\" >sell_year</th>\n",
       "      <th class=\"col_heading level0 col2\" >sell_month</th>\n",
       "      <th class=\"col_heading level0 col3\" >buy_year</th>\n",
       "      <th class=\"col_heading level0 col4\" >buy_month</th>\n",
       "      <th class=\"col_heading level0 col5\" >sell_price</th>\n",
       "      <th class=\"col_heading level0 col6\" >buy_price</th>\n",
       "      <th class=\"col_heading level0 col7\" >diff</th>\n",
       "      <th class=\"col_heading level0 col8\" >qty</th>\n",
       "      <th class=\"col_heading level0 col9\" >sell_amt</th>\n",
       "      <th class=\"col_heading level0 col10\" >buy_amt</th>\n",
       "      <th class=\"col_heading level0 col11\" >gross</th>\n",
       "      <th class=\"col_heading level0 col12\" >pct</th>\n",
       "      <th class=\"col_heading level0 col13\" >net</th>\n",
       "      <th class=\"col_heading level0 col14\" >kind</th>\n",
       "    </tr>\n",
       "  </thead>\n",
       "  <tbody>\n",
       "    <tr>\n",
       "      <th id=\"T_9130f_level0_row0\" class=\"row_heading level0 row0\" >0</th>\n",
       "      <td id=\"T_9130f_row0_col0\" class=\"data row0 col0\" >JMART</td>\n",
       "      <td id=\"T_9130f_row0_col1\" class=\"data row0 col1\" >2023</td>\n",
       "      <td id=\"T_9130f_row0_col2\" class=\"data row0 col2\" >1</td>\n",
       "      <td id=\"T_9130f_row0_col3\" class=\"data row0 col3\" >2022</td>\n",
       "      <td id=\"T_9130f_row0_col4\" class=\"data row0 col4\" >12</td>\n",
       "      <td id=\"T_9130f_row0_col5\" class=\"data row0 col5\" >42.000000</td>\n",
       "      <td id=\"T_9130f_row0_col6\" class=\"data row0 col6\" >40.000000</td>\n",
       "      <td id=\"T_9130f_row0_col7\" class=\"data row0 col7\" >2.000000</td>\n",
       "      <td id=\"T_9130f_row0_col8\" class=\"data row0 col8\" >3000</td>\n",
       "      <td id=\"T_9130f_row0_col9\" class=\"data row0 col9\" >126000.000000</td>\n",
       "      <td id=\"T_9130f_row0_col10\" class=\"data row0 col10\" >120000.000000</td>\n",
       "      <td id=\"T_9130f_row0_col11\" class=\"data row0 col11\" >6000.000000</td>\n",
       "      <td id=\"T_9130f_row0_col12\" class=\"data row0 col12\" >5.000000</td>\n",
       "      <td id=\"T_9130f_row0_col13\" class=\"data row0 col13\" >5455.130000</td>\n",
       "      <td id=\"T_9130f_row0_col14\" class=\"data row0 col14\" >DTD</td>\n",
       "    </tr>\n",
       "    <tr>\n",
       "      <th id=\"T_9130f_level0_row1\" class=\"row_heading level0 row1\" >1</th>\n",
       "      <td id=\"T_9130f_row1_col0\" class=\"data row1 col0\" >SINGER</td>\n",
       "      <td id=\"T_9130f_row1_col1\" class=\"data row1 col1\" >2023</td>\n",
       "      <td id=\"T_9130f_row1_col2\" class=\"data row1 col2\" >1</td>\n",
       "      <td id=\"T_9130f_row1_col3\" class=\"data row1 col3\" >2023</td>\n",
       "      <td id=\"T_9130f_row1_col4\" class=\"data row1 col4\" >1</td>\n",
       "      <td id=\"T_9130f_row1_col5\" class=\"data row1 col5\" >29.250000</td>\n",
       "      <td id=\"T_9130f_row1_col6\" class=\"data row1 col6\" >27.500000</td>\n",
       "      <td id=\"T_9130f_row1_col7\" class=\"data row1 col7\" >1.750000</td>\n",
       "      <td id=\"T_9130f_row1_col8\" class=\"data row1 col8\" >3600</td>\n",
       "      <td id=\"T_9130f_row1_col9\" class=\"data row1 col9\" >105300.000000</td>\n",
       "      <td id=\"T_9130f_row1_col10\" class=\"data row1 col10\" >99000.000000</td>\n",
       "      <td id=\"T_9130f_row1_col11\" class=\"data row1 col11\" >6300.000000</td>\n",
       "      <td id=\"T_9130f_row1_col12\" class=\"data row1 col12\" >6.360000</td>\n",
       "      <td id=\"T_9130f_row1_col13\" class=\"data row1 col13\" >5847.490000</td>\n",
       "      <td id=\"T_9130f_row1_col14\" class=\"data row1 col14\" >DTD</td>\n",
       "    </tr>\n",
       "    <tr>\n",
       "      <th id=\"T_9130f_level0_row2\" class=\"row_heading level0 row2\" >2</th>\n",
       "      <td id=\"T_9130f_row2_col0\" class=\"data row2 col0\" >GFPT</td>\n",
       "      <td id=\"T_9130f_row2_col1\" class=\"data row2 col1\" >2023</td>\n",
       "      <td id=\"T_9130f_row2_col2\" class=\"data row2 col2\" >1</td>\n",
       "      <td id=\"T_9130f_row2_col3\" class=\"data row2 col3\" >2022</td>\n",
       "      <td id=\"T_9130f_row2_col4\" class=\"data row2 col4\" >12</td>\n",
       "      <td id=\"T_9130f_row2_col5\" class=\"data row2 col5\" >13.100000</td>\n",
       "      <td id=\"T_9130f_row2_col6\" class=\"data row2 col6\" >12.500000</td>\n",
       "      <td id=\"T_9130f_row2_col7\" class=\"data row2 col7\" >0.600000</td>\n",
       "      <td id=\"T_9130f_row2_col8\" class=\"data row2 col8\" >7500</td>\n",
       "      <td id=\"T_9130f_row2_col9\" class=\"data row2 col9\" >98250.000000</td>\n",
       "      <td id=\"T_9130f_row2_col10\" class=\"data row2 col10\" >93750.000000</td>\n",
       "      <td id=\"T_9130f_row2_col11\" class=\"data row2 col11\" >4500.000000</td>\n",
       "      <td id=\"T_9130f_row2_col12\" class=\"data row2 col12\" >4.800000</td>\n",
       "      <td id=\"T_9130f_row2_col13\" class=\"data row2 col13\" >4074.740000</td>\n",
       "      <td id=\"T_9130f_row2_col14\" class=\"data row2 col14\" >DTD</td>\n",
       "    </tr>\n",
       "  </tbody>\n",
       "</table>\n"
      ],
      "text/plain": [
       "<pandas.io.formats.style.Styler at 0x1d83ac00e80>"
      ]
     },
     "execution_count": 6,
     "metadata": {},
     "output_type": "execute_result"
    }
   ],
   "source": [
    "sells_df.style.format(format_dict)"
   ]
  },
  {
   "cell_type": "code",
   "execution_count": 7,
   "metadata": {},
   "outputs": [
    {
     "data": {
      "text/html": [
       "<div>\n",
       "<style scoped>\n",
       "    .dataframe tbody tr th:only-of-type {\n",
       "        vertical-align: middle;\n",
       "    }\n",
       "\n",
       "    .dataframe tbody tr th {\n",
       "        vertical-align: top;\n",
       "    }\n",
       "\n",
       "    .dataframe thead th {\n",
       "        text-align: right;\n",
       "    }\n",
       "</style>\n",
       "<table border=\"1\" class=\"dataframe\">\n",
       "  <thead>\n",
       "    <tr style=\"text-align: right;\">\n",
       "      <th></th>\n",
       "      <th>gross</th>\n",
       "      <th>net</th>\n",
       "    </tr>\n",
       "    <tr>\n",
       "      <th>name</th>\n",
       "      <th></th>\n",
       "      <th></th>\n",
       "    </tr>\n",
       "  </thead>\n",
       "  <tbody>\n",
       "    <tr>\n",
       "      <th>GFPT</th>\n",
       "      <td>4500.0</td>\n",
       "      <td>4074.74</td>\n",
       "    </tr>\n",
       "    <tr>\n",
       "      <th>JMART</th>\n",
       "      <td>6000.0</td>\n",
       "      <td>5455.13</td>\n",
       "    </tr>\n",
       "    <tr>\n",
       "      <th>SINGER</th>\n",
       "      <td>6300.0</td>\n",
       "      <td>5847.49</td>\n",
       "    </tr>\n",
       "  </tbody>\n",
       "</table>\n",
       "</div>"
      ],
      "text/plain": [
       "         gross      net\n",
       "name                   \n",
       "GFPT    4500.0  4074.74\n",
       "JMART   6000.0  5455.13\n",
       "SINGER  6300.0  5847.49"
      ]
     },
     "execution_count": 7,
     "metadata": {},
     "output_type": "execute_result"
    }
   ],
   "source": [
    "sells_df.groupby(['name'])[['gross','net']].sum()"
   ]
  },
  {
   "cell_type": "code",
   "execution_count": 8,
   "metadata": {},
   "outputs": [
    {
     "data": {
      "text/plain": [
       "'฿15,377.36'"
      ]
     },
     "execution_count": 8,
     "metadata": {},
     "output_type": "execute_result"
    }
   ],
   "source": [
    "float_formatter = \"฿{:,.2f}\"\n",
    "ttl_net = sells_df.net.sum()\n",
    "float_formatter.format(ttl_net)"
   ]
  },
  {
   "cell_type": "code",
   "execution_count": 9,
   "metadata": {},
   "outputs": [
    {
     "data": {
      "text/plain": [
       "[15377.359999999999, 34710, -19332.64]"
      ]
     },
     "execution_count": 9,
     "metadata": {},
     "output_type": "execute_result"
    }
   ],
   "source": [
    "net_flow = ttl_net - ttl_exp\n",
    "ary = [ttl_net, ttl_exp, net_flow]\n",
    "ary"
   ]
  },
  {
   "cell_type": "code",
   "execution_count": null,
   "metadata": {},
   "outputs": [],
   "source": []
  }
 ],
 "metadata": {
  "anaconda-cloud": {},
  "kernelspec": {
   "display_name": "Python 3 (ipykernel)",
   "language": "python",
   "name": "python3"
  },
  "language_info": {
   "codemirror_mode": {
    "name": "ipython",
    "version": 3
   },
   "file_extension": ".py",
   "mimetype": "text/x-python",
   "name": "python",
   "nbconvert_exporter": "python",
   "pygments_lexer": "ipython3",
   "version": "3.8.11"
  }
 },
 "nbformat": 4,
 "nbformat_minor": 1
}
