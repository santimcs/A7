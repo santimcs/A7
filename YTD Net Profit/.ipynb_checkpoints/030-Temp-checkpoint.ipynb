{
 "cells": [
  {
   "cell_type": "code",
   "execution_count": 1,
   "metadata": {},
   "outputs": [
    {
     "data": {
      "text/plain": [
       "datetime.date(2023, 1, 13)"
      ]
     },
     "execution_count": 1,
     "metadata": {},
     "output_type": "execute_result"
    }
   ],
   "source": [
    "import pandas as pd\n",
    "from datetime import date, timedelta\n",
    "from sqlalchemy import create_engine\n",
    "\n",
    "engine = create_engine('mysql+pymysql://root:@localhost:3306/portfolio_development')\n",
    "conpf = engine.connect()\n",
    "\n",
    "data_path = \"../data/\"\n",
    "csv_path = \"\\\\Users\\\\User\\\\iCloudDrive\\\\\"\n",
    "box_path = \"\\\\Users\\\\User\\\\Dropbox\\\\\"\n",
    "\n",
    "format_dict = {'qty':'{:,}',\n",
    "              'sell_price':'{:,.2f}','buy_price':'{:,.2f}','diff':'{:,.2f}',\n",
    "              'sell_amt':'{:,.2f}','buy_amt':'{:,.2f}','gross':'{:,.2f}',\n",
    "              'pct':'{:,.2f}','net':'{:,.2f}'}\n",
    "pd.set_option('display.float_format','{:,.2f}'.format)\n",
    "year = 2023\n",
    "refund = 0.00   # 112,167.31\n",
    "dividend = 0\n",
    "expense  = 39_000\n",
    "\n",
    "today = date.today()\n",
    "today"
   ]
  },
  {
   "cell_type": "markdown",
   "metadata": {},
   "source": [
    "### Restart and Run All Cells"
   ]
  },
  {
   "cell_type": "markdown",
   "metadata": {},
   "source": [
    "### Record selection for transactions"
   ]
  },
  {
   "cell_type": "code",
   "execution_count": 2,
   "metadata": {},
   "outputs": [
    {
     "name": "stdout",
     "output_type": "stream",
     "text": [
      "\n",
      "SELECT name, YEAR(sells.date) AS sell_year, MONTH(sells.date) AS sell_month, \n",
      "       YEAR(buys.date) AS buy_year, MONTH(buys.date) AS buy_month,\n",
      "       sells.price AS sell_price, buys.price AS buy_price, (sells.price - buys.price) AS diff, \n",
      "       qty, (sells.price * qty) AS sell_amt, (buys.price * qty) AS buy_amt, \n",
      "       (sells.price - buys.price) * qty AS gross, \n",
      "       ROUND((sells.price - buys.price)/buys.price*100,2) AS pct, profit AS net, buys.kind\n",
      "FROM sells JOIN buys ON sells.buy_id = buys.id\n",
      "JOIN stocks ON buys.stock_id = stocks.id\n",
      "WHERE YEAR(sells.date) = 2023\n",
      "ORDER BY sells.date DESC, name\n"
     ]
    }
   ],
   "source": [
    "sql = '''\n",
    "SELECT name, YEAR(sells.date) AS sell_year, MONTH(sells.date) AS sell_month, \n",
    "       YEAR(buys.date) AS buy_year, MONTH(buys.date) AS buy_month,\n",
    "       sells.price AS sell_price, buys.price AS buy_price, (sells.price - buys.price) AS diff, \n",
    "       qty, (sells.price * qty) AS sell_amt, (buys.price * qty) AS buy_amt, \n",
    "       (sells.price - buys.price) * qty AS gross, \n",
    "       ROUND((sells.price - buys.price)/buys.price*100,2) AS pct, profit AS net, buys.kind\n",
    "FROM sells JOIN buys ON sells.buy_id = buys.id\n",
    "JOIN stocks ON buys.stock_id = stocks.id\n",
    "WHERE YEAR(sells.date) = %s\n",
    "ORDER BY sells.date DESC, name'''\n",
    "sql = sql % year\n",
    "sells_df = pd.read_sql(sql, conpf)\n",
    "print(sql)"
   ]
  },
  {
   "cell_type": "code",
   "execution_count": 3,
   "metadata": {},
   "outputs": [
    {
     "data": {
      "text/html": [
       "<style type=\"text/css\">\n",
       "</style>\n",
       "<table id=\"T_64831_\">\n",
       "  <thead>\n",
       "    <tr>\n",
       "      <th class=\"blank level0\" >&nbsp;</th>\n",
       "      <th class=\"col_heading level0 col0\" >name</th>\n",
       "      <th class=\"col_heading level0 col1\" >sell_year</th>\n",
       "      <th class=\"col_heading level0 col2\" >sell_month</th>\n",
       "      <th class=\"col_heading level0 col3\" >buy_year</th>\n",
       "      <th class=\"col_heading level0 col4\" >buy_month</th>\n",
       "      <th class=\"col_heading level0 col5\" >sell_price</th>\n",
       "      <th class=\"col_heading level0 col6\" >buy_price</th>\n",
       "      <th class=\"col_heading level0 col7\" >diff</th>\n",
       "      <th class=\"col_heading level0 col8\" >qty</th>\n",
       "      <th class=\"col_heading level0 col9\" >sell_amt</th>\n",
       "      <th class=\"col_heading level0 col10\" >buy_amt</th>\n",
       "      <th class=\"col_heading level0 col11\" >gross</th>\n",
       "      <th class=\"col_heading level0 col12\" >pct</th>\n",
       "      <th class=\"col_heading level0 col13\" >net</th>\n",
       "      <th class=\"col_heading level0 col14\" >kind</th>\n",
       "    </tr>\n",
       "  </thead>\n",
       "  <tbody>\n",
       "    <tr>\n",
       "      <th id=\"T_64831_level0_row0\" class=\"row_heading level0 row0\" >0</th>\n",
       "      <td id=\"T_64831_row0_col0\" class=\"data row0 col0\" >JMART</td>\n",
       "      <td id=\"T_64831_row0_col1\" class=\"data row0 col1\" >2023</td>\n",
       "      <td id=\"T_64831_row0_col2\" class=\"data row0 col2\" >1</td>\n",
       "      <td id=\"T_64831_row0_col3\" class=\"data row0 col3\" >2022</td>\n",
       "      <td id=\"T_64831_row0_col4\" class=\"data row0 col4\" >12</td>\n",
       "      <td id=\"T_64831_row0_col5\" class=\"data row0 col5\" >42.00</td>\n",
       "      <td id=\"T_64831_row0_col6\" class=\"data row0 col6\" >40.00</td>\n",
       "      <td id=\"T_64831_row0_col7\" class=\"data row0 col7\" >2.00</td>\n",
       "      <td id=\"T_64831_row0_col8\" class=\"data row0 col8\" >3,000</td>\n",
       "      <td id=\"T_64831_row0_col9\" class=\"data row0 col9\" >126,000.00</td>\n",
       "      <td id=\"T_64831_row0_col10\" class=\"data row0 col10\" >120,000.00</td>\n",
       "      <td id=\"T_64831_row0_col11\" class=\"data row0 col11\" >6,000.00</td>\n",
       "      <td id=\"T_64831_row0_col12\" class=\"data row0 col12\" >5.00</td>\n",
       "      <td id=\"T_64831_row0_col13\" class=\"data row0 col13\" >5,455.13</td>\n",
       "      <td id=\"T_64831_row0_col14\" class=\"data row0 col14\" >DTD</td>\n",
       "    </tr>\n",
       "    <tr>\n",
       "      <th id=\"T_64831_level0_row1\" class=\"row_heading level0 row1\" >1</th>\n",
       "      <td id=\"T_64831_row1_col0\" class=\"data row1 col0\" >SINGER</td>\n",
       "      <td id=\"T_64831_row1_col1\" class=\"data row1 col1\" >2023</td>\n",
       "      <td id=\"T_64831_row1_col2\" class=\"data row1 col2\" >1</td>\n",
       "      <td id=\"T_64831_row1_col3\" class=\"data row1 col3\" >2023</td>\n",
       "      <td id=\"T_64831_row1_col4\" class=\"data row1 col4\" >1</td>\n",
       "      <td id=\"T_64831_row1_col5\" class=\"data row1 col5\" >29.25</td>\n",
       "      <td id=\"T_64831_row1_col6\" class=\"data row1 col6\" >27.50</td>\n",
       "      <td id=\"T_64831_row1_col7\" class=\"data row1 col7\" >1.75</td>\n",
       "      <td id=\"T_64831_row1_col8\" class=\"data row1 col8\" >3,600</td>\n",
       "      <td id=\"T_64831_row1_col9\" class=\"data row1 col9\" >105,300.00</td>\n",
       "      <td id=\"T_64831_row1_col10\" class=\"data row1 col10\" >99,000.00</td>\n",
       "      <td id=\"T_64831_row1_col11\" class=\"data row1 col11\" >6,300.00</td>\n",
       "      <td id=\"T_64831_row1_col12\" class=\"data row1 col12\" >6.36</td>\n",
       "      <td id=\"T_64831_row1_col13\" class=\"data row1 col13\" >5,847.49</td>\n",
       "      <td id=\"T_64831_row1_col14\" class=\"data row1 col14\" >DTD</td>\n",
       "    </tr>\n",
       "    <tr>\n",
       "      <th id=\"T_64831_level0_row2\" class=\"row_heading level0 row2\" >2</th>\n",
       "      <td id=\"T_64831_row2_col0\" class=\"data row2 col0\" >GFPT</td>\n",
       "      <td id=\"T_64831_row2_col1\" class=\"data row2 col1\" >2023</td>\n",
       "      <td id=\"T_64831_row2_col2\" class=\"data row2 col2\" >1</td>\n",
       "      <td id=\"T_64831_row2_col3\" class=\"data row2 col3\" >2022</td>\n",
       "      <td id=\"T_64831_row2_col4\" class=\"data row2 col4\" >12</td>\n",
       "      <td id=\"T_64831_row2_col5\" class=\"data row2 col5\" >13.10</td>\n",
       "      <td id=\"T_64831_row2_col6\" class=\"data row2 col6\" >12.50</td>\n",
       "      <td id=\"T_64831_row2_col7\" class=\"data row2 col7\" >0.60</td>\n",
       "      <td id=\"T_64831_row2_col8\" class=\"data row2 col8\" >7,500</td>\n",
       "      <td id=\"T_64831_row2_col9\" class=\"data row2 col9\" >98,250.00</td>\n",
       "      <td id=\"T_64831_row2_col10\" class=\"data row2 col10\" >93,750.00</td>\n",
       "      <td id=\"T_64831_row2_col11\" class=\"data row2 col11\" >4,500.00</td>\n",
       "      <td id=\"T_64831_row2_col12\" class=\"data row2 col12\" >4.80</td>\n",
       "      <td id=\"T_64831_row2_col13\" class=\"data row2 col13\" >4,074.74</td>\n",
       "      <td id=\"T_64831_row2_col14\" class=\"data row2 col14\" >DTD</td>\n",
       "    </tr>\n",
       "  </tbody>\n",
       "</table>\n"
      ],
      "text/plain": [
       "<pandas.io.formats.style.Styler at 0x26306870c70>"
      ]
     },
     "execution_count": 3,
     "metadata": {},
     "output_type": "execute_result"
    }
   ],
   "source": [
    "sells_df.style.format(format_dict)"
   ]
  },
  {
   "cell_type": "code",
   "execution_count": 4,
   "metadata": {},
   "outputs": [
    {
     "data": {
      "text/plain": [
       "sell_year  sell_month  buy_year  buy_month  name  \n",
       "2023       1           2022      12         GFPT     4,074.74\n",
       "                                            JMART    5,455.13\n",
       "                       2023      1          SINGER   5,847.49\n",
       "Name: net, dtype: float64"
      ]
     },
     "execution_count": 4,
     "metadata": {},
     "output_type": "execute_result"
    }
   ],
   "source": [
    "sells_df.groupby(['sell_year','sell_month','buy_year','buy_month','name']).net.sum()"
   ]
  },
  {
   "cell_type": "code",
   "execution_count": 6,
   "metadata": {},
   "outputs": [
    {
     "data": {
      "text/html": [
       "<div>\n",
       "<style scoped>\n",
       "    .dataframe tbody tr th:only-of-type {\n",
       "        vertical-align: middle;\n",
       "    }\n",
       "\n",
       "    .dataframe tbody tr th {\n",
       "        vertical-align: top;\n",
       "    }\n",
       "\n",
       "    .dataframe thead th {\n",
       "        text-align: right;\n",
       "    }\n",
       "</style>\n",
       "<table border=\"1\" class=\"dataframe\">\n",
       "  <thead>\n",
       "    <tr style=\"text-align: right;\">\n",
       "      <th></th>\n",
       "      <th>gross</th>\n",
       "      <th>net</th>\n",
       "    </tr>\n",
       "    <tr>\n",
       "      <th>name</th>\n",
       "      <th></th>\n",
       "      <th></th>\n",
       "    </tr>\n",
       "  </thead>\n",
       "  <tbody>\n",
       "    <tr>\n",
       "      <th>GFPT</th>\n",
       "      <td>4,500.00</td>\n",
       "      <td>4,074.74</td>\n",
       "    </tr>\n",
       "    <tr>\n",
       "      <th>JMART</th>\n",
       "      <td>6,000.00</td>\n",
       "      <td>5,455.13</td>\n",
       "    </tr>\n",
       "    <tr>\n",
       "      <th>SINGER</th>\n",
       "      <td>6,300.00</td>\n",
       "      <td>5,847.49</td>\n",
       "    </tr>\n",
       "  </tbody>\n",
       "</table>\n",
       "</div>"
      ],
      "text/plain": [
       "          gross      net\n",
       "name                    \n",
       "GFPT   4,500.00 4,074.74\n",
       "JMART  6,000.00 5,455.13\n",
       "SINGER 6,300.00 5,847.49"
      ]
     },
     "execution_count": 6,
     "metadata": {},
     "output_type": "execute_result"
    }
   ],
   "source": [
    "sells_df.groupby(['name'])[['gross','net']].sum().head(5)"
   ]
  },
  {
   "cell_type": "code",
   "execution_count": 7,
   "metadata": {},
   "outputs": [
    {
     "data": {
      "text/html": [
       "<style type=\"text/css\">\n",
       "</style>\n",
       "<table id=\"T_0d68f_\">\n",
       "  <thead>\n",
       "    <tr>\n",
       "      <th class=\"blank level0\" >&nbsp;</th>\n",
       "      <th class=\"col_heading level0 col0\" >gross</th>\n",
       "      <th class=\"col_heading level0 col1\" >net</th>\n",
       "    </tr>\n",
       "    <tr>\n",
       "      <th class=\"index_name level0\" >name</th>\n",
       "      <th class=\"blank col0\" >&nbsp;</th>\n",
       "      <th class=\"blank col1\" >&nbsp;</th>\n",
       "    </tr>\n",
       "  </thead>\n",
       "  <tbody>\n",
       "    <tr>\n",
       "      <th id=\"T_0d68f_level0_row0\" class=\"row_heading level0 row0\" >SINGER</th>\n",
       "      <td id=\"T_0d68f_row0_col0\" class=\"data row0 col0\" >6,300.00</td>\n",
       "      <td id=\"T_0d68f_row0_col1\" class=\"data row0 col1\" >5,847.49</td>\n",
       "    </tr>\n",
       "    <tr>\n",
       "      <th id=\"T_0d68f_level0_row1\" class=\"row_heading level0 row1\" >JMART</th>\n",
       "      <td id=\"T_0d68f_row1_col0\" class=\"data row1 col0\" >6,000.00</td>\n",
       "      <td id=\"T_0d68f_row1_col1\" class=\"data row1 col1\" >5,455.13</td>\n",
       "    </tr>\n",
       "    <tr>\n",
       "      <th id=\"T_0d68f_level0_row2\" class=\"row_heading level0 row2\" >GFPT</th>\n",
       "      <td id=\"T_0d68f_row2_col0\" class=\"data row2 col0\" >4,500.00</td>\n",
       "      <td id=\"T_0d68f_row2_col1\" class=\"data row2 col1\" >4,074.74</td>\n",
       "    </tr>\n",
       "  </tbody>\n",
       "</table>\n"
      ],
      "text/plain": [
       "<pandas.io.formats.style.Styler at 0x2630787e160>"
      ]
     },
     "execution_count": 7,
     "metadata": {},
     "output_type": "execute_result"
    }
   ],
   "source": [
    "total_df = sells_df.groupby(['name'])[['gross','net']].sum()\n",
    "total_df.nlargest(5, 'gross')[['gross','net']].style.format(format_dict)"
   ]
  },
  {
   "cell_type": "code",
   "execution_count": 8,
   "metadata": {},
   "outputs": [],
   "source": [
    "file_name = 'ytd-profit.csv'\n",
    "data_file = data_path + file_name\n",
    "csv_file = csv_path + file_name\n",
    "box_file = box_path + file_name\n",
    "\n",
    "sells_df.groupby(['sell_year','sell_month','buy_year','buy_month','name']).net.sum().to_csv(csv_file)\n",
    "sells_df.groupby(['sell_year','sell_month','buy_year','buy_month','name']).net.sum().to_csv(data_file)\n",
    "sells_df.groupby(['sell_year','sell_month','buy_year','buy_month','name']).net.sum().to_csv(box_file)"
   ]
  },
  {
   "cell_type": "code",
   "execution_count": 9,
   "metadata": {
    "scrolled": true
   },
   "outputs": [
    {
     "data": {
      "text/plain": [
       "sell_month\n",
       "1   15,377.36\n",
       "Name: net, dtype: float64"
      ]
     },
     "execution_count": 9,
     "metadata": {},
     "output_type": "execute_result"
    }
   ],
   "source": [
    "output = sells_df.groupby(['sell_month']).net.sum()\n",
    "output"
   ]
  },
  {
   "cell_type": "code",
   "execution_count": 10,
   "metadata": {},
   "outputs": [],
   "source": [
    "data_path = \"../data/\"\n",
    "file_name = 'tmp-file-of-profits.csv'\n",
    "data_file = data_path + file_name\n",
    "output.to_csv(data_file, index=True)"
   ]
  },
  {
   "cell_type": "code",
   "execution_count": 11,
   "metadata": {},
   "outputs": [
    {
     "data": {
      "text/plain": [
       "(15377.359999999999, 0, 15377.359999999999)"
      ]
     },
     "execution_count": 11,
     "metadata": {},
     "output_type": "execute_result"
    }
   ],
   "source": [
    "profit = sells_df.net.sum()\n",
    "ttl_profit = profit + dividend\n",
    "profit,dividend,ttl_profit"
   ]
  },
  {
   "cell_type": "code",
   "execution_count": 12,
   "metadata": {},
   "outputs": [
    {
     "data": {
      "text/plain": [
       "(15377.0, 0, 39000, -23623.0)"
      ]
     },
     "execution_count": 12,
     "metadata": {},
     "output_type": "execute_result"
    }
   ],
   "source": [
    "profit = sells_df.net.sum()\n",
    "net = profit + dividend - expense\n",
    "round(profit,0),dividend,expense, round(net,0)"
   ]
  },
  {
   "cell_type": "markdown",
   "metadata": {},
   "source": [
    "### Bottom line of up to date transactions"
   ]
  },
  {
   "cell_type": "code",
   "execution_count": 13,
   "metadata": {},
   "outputs": [
    {
     "data": {
      "text/plain": [
       "-23622.64"
      ]
     },
     "execution_count": 13,
     "metadata": {},
     "output_type": "execute_result"
    }
   ],
   "source": [
    "total = refund + net\n",
    "total"
   ]
  },
  {
   "cell_type": "code",
   "execution_count": null,
   "metadata": {},
   "outputs": [],
   "source": []
  },
  {
   "cell_type": "code",
   "execution_count": null,
   "metadata": {},
   "outputs": [],
   "source": []
  }
 ],
 "metadata": {
  "anaconda-cloud": {},
  "kernelspec": {
   "display_name": "Python 3 (ipykernel)",
   "language": "python",
   "name": "python3"
  },
  "language_info": {
   "codemirror_mode": {
    "name": "ipython",
    "version": 3
   },
   "file_extension": ".py",
   "mimetype": "text/x-python",
   "name": "python",
   "nbconvert_exporter": "python",
   "pygments_lexer": "ipython3",
   "version": "3.8.11"
  }
 },
 "nbformat": 4,
 "nbformat_minor": 1
}
