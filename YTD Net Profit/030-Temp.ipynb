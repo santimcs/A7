{
 "cells": [
  {
   "cell_type": "code",
   "execution_count": 1,
   "metadata": {},
   "outputs": [
    {
     "data": {
      "text/plain": [
       "datetime.date(2023, 2, 5)"
      ]
     },
     "execution_count": 1,
     "metadata": {},
     "output_type": "execute_result"
    }
   ],
   "source": [
    "import pandas as pd\n",
    "from datetime import date, timedelta\n",
    "from sqlalchemy import create_engine\n",
    "\n",
    "engine = create_engine('mysql+pymysql://root:@localhost:3306/portfolio_development')\n",
    "conpf = engine.connect()\n",
    "\n",
    "data_path = \"../data/\"\n",
    "csv_path = \"\\\\Users\\\\User\\\\iCloudDrive\\\\\"\n",
    "box_path = \"\\\\Users\\\\User\\\\Dropbox\\\\\"\n",
    "osd_path = \"\\\\Users\\\\User\\\\OneDrive\\\\Documents\\\\obsidian-git-sync\\\\Data\\\\\"\n",
    "\n",
    "format_dict = {'qty':'{:,}',\n",
    "              'sell_price':'{:,.2f}','buy_price':'{:,.2f}','diff':'{:,.2f}',\n",
    "              'sell_amt':'{:,.2f}','buy_amt':'{:,.2f}','gross':'{:,.2f}',\n",
    "              'pct':'{:,.2f}','net':'{:,.2f}'}\n",
    "pd.set_option('display.float_format','{:,.2f}'.format)\n",
    "year = 2023\n",
    "refund = 102_000   # 102,052.50\n",
    "dividend = 0\n",
    "expense  = 105_000\n",
    "\n",
    "today = date.today()\n",
    "today"
   ]
  },
  {
   "cell_type": "markdown",
   "metadata": {},
   "source": [
    "### Restart and Run All Cells"
   ]
  },
  {
   "cell_type": "markdown",
   "metadata": {},
   "source": [
    "### Record selection for transactions"
   ]
  },
  {
   "cell_type": "code",
   "execution_count": 2,
   "metadata": {},
   "outputs": [
    {
     "name": "stdout",
     "output_type": "stream",
     "text": [
      "\n",
      "SELECT name, YEAR(sells.date) AS sell_year, MONTH(sells.date) AS sell_month, \n",
      "       YEAR(buys.date) AS buy_year, MONTH(buys.date) AS buy_month,\n",
      "       sells.price AS sell_price, buys.price AS buy_price, (sells.price - buys.price) AS diff, \n",
      "       qty, (sells.price * qty) AS sell_amt, (buys.price * qty) AS buy_amt, \n",
      "       (sells.price - buys.price) * qty AS gross, \n",
      "       ROUND((sells.price - buys.price)/buys.price*100,2) AS pct, profit AS net, buys.kind\n",
      "FROM sells JOIN buys ON sells.buy_id = buys.id\n",
      "JOIN stocks ON buys.stock_id = stocks.id\n",
      "WHERE YEAR(sells.date) = 2023\n",
      "ORDER BY sells.date DESC, name\n"
     ]
    }
   ],
   "source": [
    "sql = '''\n",
    "SELECT name, YEAR(sells.date) AS sell_year, MONTH(sells.date) AS sell_month, \n",
    "       YEAR(buys.date) AS buy_year, MONTH(buys.date) AS buy_month,\n",
    "       sells.price AS sell_price, buys.price AS buy_price, (sells.price - buys.price) AS diff, \n",
    "       qty, (sells.price * qty) AS sell_amt, (buys.price * qty) AS buy_amt, \n",
    "       (sells.price - buys.price) * qty AS gross, \n",
    "       ROUND((sells.price - buys.price)/buys.price*100,2) AS pct, profit AS net, buys.kind\n",
    "FROM sells JOIN buys ON sells.buy_id = buys.id\n",
    "JOIN stocks ON buys.stock_id = stocks.id\n",
    "WHERE YEAR(sells.date) = %s\n",
    "ORDER BY sells.date DESC, name'''\n",
    "sql = sql % year\n",
    "sells_df = pd.read_sql(sql, conpf)\n",
    "print(sql)"
   ]
  },
  {
   "cell_type": "code",
   "execution_count": 3,
   "metadata": {},
   "outputs": [
    {
     "data": {
      "text/html": [
       "<style type=\"text/css\">\n",
       "</style>\n",
       "<table id=\"T_774d9_\">\n",
       "  <thead>\n",
       "    <tr>\n",
       "      <th class=\"blank level0\" >&nbsp;</th>\n",
       "      <th class=\"col_heading level0 col0\" >name</th>\n",
       "      <th class=\"col_heading level0 col1\" >sell_year</th>\n",
       "      <th class=\"col_heading level0 col2\" >sell_month</th>\n",
       "      <th class=\"col_heading level0 col3\" >buy_year</th>\n",
       "      <th class=\"col_heading level0 col4\" >buy_month</th>\n",
       "      <th class=\"col_heading level0 col5\" >sell_price</th>\n",
       "      <th class=\"col_heading level0 col6\" >buy_price</th>\n",
       "      <th class=\"col_heading level0 col7\" >diff</th>\n",
       "      <th class=\"col_heading level0 col8\" >qty</th>\n",
       "      <th class=\"col_heading level0 col9\" >sell_amt</th>\n",
       "      <th class=\"col_heading level0 col10\" >buy_amt</th>\n",
       "      <th class=\"col_heading level0 col11\" >gross</th>\n",
       "      <th class=\"col_heading level0 col12\" >pct</th>\n",
       "      <th class=\"col_heading level0 col13\" >net</th>\n",
       "      <th class=\"col_heading level0 col14\" >kind</th>\n",
       "    </tr>\n",
       "  </thead>\n",
       "  <tbody>\n",
       "    <tr>\n",
       "      <th id=\"T_774d9_level0_row0\" class=\"row_heading level0 row0\" >0</th>\n",
       "      <td id=\"T_774d9_row0_col0\" class=\"data row0 col0\" >KCE</td>\n",
       "      <td id=\"T_774d9_row0_col1\" class=\"data row0 col1\" >2023</td>\n",
       "      <td id=\"T_774d9_row0_col2\" class=\"data row0 col2\" >2</td>\n",
       "      <td id=\"T_774d9_row0_col3\" class=\"data row0 col3\" >2022</td>\n",
       "      <td id=\"T_774d9_row0_col4\" class=\"data row0 col4\" >4</td>\n",
       "      <td id=\"T_774d9_row0_col5\" class=\"data row0 col5\" >56.00</td>\n",
       "      <td id=\"T_774d9_row0_col6\" class=\"data row0 col6\" >62.75</td>\n",
       "      <td id=\"T_774d9_row0_col7\" class=\"data row0 col7\" >-6.75</td>\n",
       "      <td id=\"T_774d9_row0_col8\" class=\"data row0 col8\" >1,000</td>\n",
       "      <td id=\"T_774d9_row0_col9\" class=\"data row0 col9\" >56,000.00</td>\n",
       "      <td id=\"T_774d9_row0_col10\" class=\"data row0 col10\" >62,750.00</td>\n",
       "      <td id=\"T_774d9_row0_col11\" class=\"data row0 col11\" >-6,750.00</td>\n",
       "      <td id=\"T_774d9_row0_col12\" class=\"data row0 col12\" >-10.76</td>\n",
       "      <td id=\"T_774d9_row0_col13\" class=\"data row0 col13\" >-7,013.01</td>\n",
       "      <td id=\"T_774d9_row0_col14\" class=\"data row0 col14\" >DTD</td>\n",
       "    </tr>\n",
       "    <tr>\n",
       "      <th id=\"T_774d9_level0_row1\" class=\"row_heading level0 row1\" >1</th>\n",
       "      <td id=\"T_774d9_row1_col0\" class=\"data row1 col0\" >KCE</td>\n",
       "      <td id=\"T_774d9_row1_col1\" class=\"data row1 col1\" >2023</td>\n",
       "      <td id=\"T_774d9_row1_col2\" class=\"data row1 col2\" >1</td>\n",
       "      <td id=\"T_774d9_row1_col3\" class=\"data row1 col3\" >2022</td>\n",
       "      <td id=\"T_774d9_row1_col4\" class=\"data row1 col4\" >6</td>\n",
       "      <td id=\"T_774d9_row1_col5\" class=\"data row1 col5\" >53.75</td>\n",
       "      <td id=\"T_774d9_row1_col6\" class=\"data row1 col6\" >61.25</td>\n",
       "      <td id=\"T_774d9_row1_col7\" class=\"data row1 col7\" >-7.50</td>\n",
       "      <td id=\"T_774d9_row1_col8\" class=\"data row1 col8\" >1,000</td>\n",
       "      <td id=\"T_774d9_row1_col9\" class=\"data row1 col9\" >53,750.00</td>\n",
       "      <td id=\"T_774d9_row1_col10\" class=\"data row1 col10\" >61,250.00</td>\n",
       "      <td id=\"T_774d9_row1_col11\" class=\"data row1 col11\" >-7,500.00</td>\n",
       "      <td id=\"T_774d9_row1_col12\" class=\"data row1 col12\" >-12.24</td>\n",
       "      <td id=\"T_774d9_row1_col13\" class=\"data row1 col13\" >-7,754.72</td>\n",
       "      <td id=\"T_774d9_row1_col14\" class=\"data row1 col14\" >DTD</td>\n",
       "    </tr>\n",
       "    <tr>\n",
       "      <th id=\"T_774d9_level0_row2\" class=\"row_heading level0 row2\" >2</th>\n",
       "      <td id=\"T_774d9_row2_col0\" class=\"data row2 col0\" >WHAIR</td>\n",
       "      <td id=\"T_774d9_row2_col1\" class=\"data row2 col1\" >2023</td>\n",
       "      <td id=\"T_774d9_row2_col2\" class=\"data row2 col2\" >1</td>\n",
       "      <td id=\"T_774d9_row2_col3\" class=\"data row2 col3\" >2023</td>\n",
       "      <td id=\"T_774d9_row2_col4\" class=\"data row2 col4\" >1</td>\n",
       "      <td id=\"T_774d9_row2_col5\" class=\"data row2 col5\" >7.80</td>\n",
       "      <td id=\"T_774d9_row2_col6\" class=\"data row2 col6\" >7.70</td>\n",
       "      <td id=\"T_774d9_row2_col7\" class=\"data row2 col7\" >0.10</td>\n",
       "      <td id=\"T_774d9_row2_col8\" class=\"data row2 col8\" >10,000</td>\n",
       "      <td id=\"T_774d9_row2_col9\" class=\"data row2 col9\" >78,000.00</td>\n",
       "      <td id=\"T_774d9_row2_col10\" class=\"data row2 col10\" >77,000.00</td>\n",
       "      <td id=\"T_774d9_row2_col11\" class=\"data row2 col11\" >1,000.00</td>\n",
       "      <td id=\"T_774d9_row2_col12\" class=\"data row2 col12\" >1.30</td>\n",
       "      <td id=\"T_774d9_row2_col13\" class=\"data row2 col13\" >656.69</td>\n",
       "      <td id=\"T_774d9_row2_col14\" class=\"data row2 col14\" >HD</td>\n",
       "    </tr>\n",
       "    <tr>\n",
       "      <th id=\"T_774d9_level0_row3\" class=\"row_heading level0 row3\" >3</th>\n",
       "      <td id=\"T_774d9_row3_col0\" class=\"data row3 col0\" >STA</td>\n",
       "      <td id=\"T_774d9_row3_col1\" class=\"data row3 col1\" >2023</td>\n",
       "      <td id=\"T_774d9_row3_col2\" class=\"data row3 col2\" >1</td>\n",
       "      <td id=\"T_774d9_row3_col3\" class=\"data row3 col3\" >2021</td>\n",
       "      <td id=\"T_774d9_row3_col4\" class=\"data row3 col4\" >9</td>\n",
       "      <td id=\"T_774d9_row3_col5\" class=\"data row3 col5\" >21.90</td>\n",
       "      <td id=\"T_774d9_row3_col6\" class=\"data row3 col6\" >35.25</td>\n",
       "      <td id=\"T_774d9_row3_col7\" class=\"data row3 col7\" >-13.35</td>\n",
       "      <td id=\"T_774d9_row3_col8\" class=\"data row3 col8\" >2,500</td>\n",
       "      <td id=\"T_774d9_row3_col9\" class=\"data row3 col9\" >54,750.00</td>\n",
       "      <td id=\"T_774d9_row3_col10\" class=\"data row3 col10\" >88,125.00</td>\n",
       "      <td id=\"T_774d9_row3_col11\" class=\"data row3 col11\" >-33,375.00</td>\n",
       "      <td id=\"T_774d9_row3_col12\" class=\"data row3 col12\" >-37.87</td>\n",
       "      <td id=\"T_774d9_row3_col13\" class=\"data row3 col13\" >-33,691.45</td>\n",
       "      <td id=\"T_774d9_row3_col14\" class=\"data row3 col14\" >HD</td>\n",
       "    </tr>\n",
       "    <tr>\n",
       "      <th id=\"T_774d9_level0_row4\" class=\"row_heading level0 row4\" >4</th>\n",
       "      <td id=\"T_774d9_row4_col0\" class=\"data row4 col0\" >STA</td>\n",
       "      <td id=\"T_774d9_row4_col1\" class=\"data row4 col1\" >2023</td>\n",
       "      <td id=\"T_774d9_row4_col2\" class=\"data row4 col2\" >1</td>\n",
       "      <td id=\"T_774d9_row4_col3\" class=\"data row4 col3\" >2021</td>\n",
       "      <td id=\"T_774d9_row4_col4\" class=\"data row4 col4\" >9</td>\n",
       "      <td id=\"T_774d9_row4_col5\" class=\"data row4 col5\" >21.40</td>\n",
       "      <td id=\"T_774d9_row4_col6\" class=\"data row4 col6\" >33.25</td>\n",
       "      <td id=\"T_774d9_row4_col7\" class=\"data row4 col7\" >-11.85</td>\n",
       "      <td id=\"T_774d9_row4_col8\" class=\"data row4 col8\" >2,500</td>\n",
       "      <td id=\"T_774d9_row4_col9\" class=\"data row4 col9\" >53,500.00</td>\n",
       "      <td id=\"T_774d9_row4_col10\" class=\"data row4 col10\" >83,125.00</td>\n",
       "      <td id=\"T_774d9_row4_col11\" class=\"data row4 col11\" >-29,625.00</td>\n",
       "      <td id=\"T_774d9_row4_col12\" class=\"data row4 col12\" >-35.64</td>\n",
       "      <td id=\"T_774d9_row4_col13\" class=\"data row4 col13\" >-29,927.61</td>\n",
       "      <td id=\"T_774d9_row4_col14\" class=\"data row4 col14\" >HD</td>\n",
       "    </tr>\n",
       "    <tr>\n",
       "      <th id=\"T_774d9_level0_row5\" class=\"row_heading level0 row5\" >5</th>\n",
       "      <td id=\"T_774d9_row5_col0\" class=\"data row5 col0\" >MAKRO</td>\n",
       "      <td id=\"T_774d9_row5_col1\" class=\"data row5 col1\" >2023</td>\n",
       "      <td id=\"T_774d9_row5_col2\" class=\"data row5 col2\" >1</td>\n",
       "      <td id=\"T_774d9_row5_col3\" class=\"data row5 col3\" >2022</td>\n",
       "      <td id=\"T_774d9_row5_col4\" class=\"data row5 col4\" >2</td>\n",
       "      <td id=\"T_774d9_row5_col5\" class=\"data row5 col5\" >42.50</td>\n",
       "      <td id=\"T_774d9_row5_col6\" class=\"data row5 col6\" >40.40</td>\n",
       "      <td id=\"T_774d9_row5_col7\" class=\"data row5 col7\" >2.10</td>\n",
       "      <td id=\"T_774d9_row5_col8\" class=\"data row5 col8\" >7,500</td>\n",
       "      <td id=\"T_774d9_row5_col9\" class=\"data row5 col9\" >318,750.00</td>\n",
       "      <td id=\"T_774d9_row5_col10\" class=\"data row5 col10\" >303,000.00</td>\n",
       "      <td id=\"T_774d9_row5_col11\" class=\"data row5 col11\" >15,750.00</td>\n",
       "      <td id=\"T_774d9_row5_col12\" class=\"data row5 col12\" >5.20</td>\n",
       "      <td id=\"T_774d9_row5_col13\" class=\"data row5 col13\" >14,372.89</td>\n",
       "      <td id=\"T_774d9_row5_col14\" class=\"data row5 col14\" >DTD</td>\n",
       "    </tr>\n",
       "    <tr>\n",
       "      <th id=\"T_774d9_level0_row6\" class=\"row_heading level0 row6\" >6</th>\n",
       "      <td id=\"T_774d9_row6_col0\" class=\"data row6 col0\" >STA</td>\n",
       "      <td id=\"T_774d9_row6_col1\" class=\"data row6 col1\" >2023</td>\n",
       "      <td id=\"T_774d9_row6_col2\" class=\"data row6 col2\" >1</td>\n",
       "      <td id=\"T_774d9_row6_col3\" class=\"data row6 col3\" >2021</td>\n",
       "      <td id=\"T_774d9_row6_col4\" class=\"data row6 col4\" >10</td>\n",
       "      <td id=\"T_774d9_row6_col5\" class=\"data row6 col5\" >21.20</td>\n",
       "      <td id=\"T_774d9_row6_col6\" class=\"data row6 col6\" >32.75</td>\n",
       "      <td id=\"T_774d9_row6_col7\" class=\"data row6 col7\" >-11.55</td>\n",
       "      <td id=\"T_774d9_row6_col8\" class=\"data row6 col8\" >2,500</td>\n",
       "      <td id=\"T_774d9_row6_col9\" class=\"data row6 col9\" >53,000.00</td>\n",
       "      <td id=\"T_774d9_row6_col10\" class=\"data row6 col10\" >81,875.00</td>\n",
       "      <td id=\"T_774d9_row6_col11\" class=\"data row6 col11\" >-28,875.00</td>\n",
       "      <td id=\"T_774d9_row6_col12\" class=\"data row6 col12\" >-35.27</td>\n",
       "      <td id=\"T_774d9_row6_col13\" class=\"data row6 col13\" >-29,173.73</td>\n",
       "      <td id=\"T_774d9_row6_col14\" class=\"data row6 col14\" >HD</td>\n",
       "    </tr>\n",
       "    <tr>\n",
       "      <th id=\"T_774d9_level0_row7\" class=\"row_heading level0 row7\" >7</th>\n",
       "      <td id=\"T_774d9_row7_col0\" class=\"data row7 col0\" >PTTGC</td>\n",
       "      <td id=\"T_774d9_row7_col1\" class=\"data row7 col1\" >2023</td>\n",
       "      <td id=\"T_774d9_row7_col2\" class=\"data row7 col2\" >1</td>\n",
       "      <td id=\"T_774d9_row7_col3\" class=\"data row7 col3\" >2022</td>\n",
       "      <td id=\"T_774d9_row7_col4\" class=\"data row7 col4\" >2</td>\n",
       "      <td id=\"T_774d9_row7_col5\" class=\"data row7 col5\" >50.75</td>\n",
       "      <td id=\"T_774d9_row7_col6\" class=\"data row7 col6\" >54.25</td>\n",
       "      <td id=\"T_774d9_row7_col7\" class=\"data row7 col7\" >-3.50</td>\n",
       "      <td id=\"T_774d9_row7_col8\" class=\"data row7 col8\" >3,000</td>\n",
       "      <td id=\"T_774d9_row7_col9\" class=\"data row7 col9\" >152,250.00</td>\n",
       "      <td id=\"T_774d9_row7_col10\" class=\"data row7 col10\" >162,750.00</td>\n",
       "      <td id=\"T_774d9_row7_col11\" class=\"data row7 col11\" >-10,500.00</td>\n",
       "      <td id=\"T_774d9_row7_col12\" class=\"data row7 col12\" >-6.45</td>\n",
       "      <td id=\"T_774d9_row7_col13\" class=\"data row7 col13\" >-11,197.69</td>\n",
       "      <td id=\"T_774d9_row7_col14\" class=\"data row7 col14\" >DTD</td>\n",
       "    </tr>\n",
       "    <tr>\n",
       "      <th id=\"T_774d9_level0_row8\" class=\"row_heading level0 row8\" >8</th>\n",
       "      <td id=\"T_774d9_row8_col0\" class=\"data row8 col0\" >JMART</td>\n",
       "      <td id=\"T_774d9_row8_col1\" class=\"data row8 col1\" >2023</td>\n",
       "      <td id=\"T_774d9_row8_col2\" class=\"data row8 col2\" >1</td>\n",
       "      <td id=\"T_774d9_row8_col3\" class=\"data row8 col3\" >2022</td>\n",
       "      <td id=\"T_774d9_row8_col4\" class=\"data row8 col4\" >12</td>\n",
       "      <td id=\"T_774d9_row8_col5\" class=\"data row8 col5\" >42.00</td>\n",
       "      <td id=\"T_774d9_row8_col6\" class=\"data row8 col6\" >40.00</td>\n",
       "      <td id=\"T_774d9_row8_col7\" class=\"data row8 col7\" >2.00</td>\n",
       "      <td id=\"T_774d9_row8_col8\" class=\"data row8 col8\" >3,000</td>\n",
       "      <td id=\"T_774d9_row8_col9\" class=\"data row8 col9\" >126,000.00</td>\n",
       "      <td id=\"T_774d9_row8_col10\" class=\"data row8 col10\" >120,000.00</td>\n",
       "      <td id=\"T_774d9_row8_col11\" class=\"data row8 col11\" >6,000.00</td>\n",
       "      <td id=\"T_774d9_row8_col12\" class=\"data row8 col12\" >5.00</td>\n",
       "      <td id=\"T_774d9_row8_col13\" class=\"data row8 col13\" >5,455.13</td>\n",
       "      <td id=\"T_774d9_row8_col14\" class=\"data row8 col14\" >DTD</td>\n",
       "    </tr>\n",
       "    <tr>\n",
       "      <th id=\"T_774d9_level0_row9\" class=\"row_heading level0 row9\" >9</th>\n",
       "      <td id=\"T_774d9_row9_col0\" class=\"data row9 col0\" >SINGER</td>\n",
       "      <td id=\"T_774d9_row9_col1\" class=\"data row9 col1\" >2023</td>\n",
       "      <td id=\"T_774d9_row9_col2\" class=\"data row9 col2\" >1</td>\n",
       "      <td id=\"T_774d9_row9_col3\" class=\"data row9 col3\" >2023</td>\n",
       "      <td id=\"T_774d9_row9_col4\" class=\"data row9 col4\" >1</td>\n",
       "      <td id=\"T_774d9_row9_col5\" class=\"data row9 col5\" >29.25</td>\n",
       "      <td id=\"T_774d9_row9_col6\" class=\"data row9 col6\" >27.50</td>\n",
       "      <td id=\"T_774d9_row9_col7\" class=\"data row9 col7\" >1.75</td>\n",
       "      <td id=\"T_774d9_row9_col8\" class=\"data row9 col8\" >3,600</td>\n",
       "      <td id=\"T_774d9_row9_col9\" class=\"data row9 col9\" >105,300.00</td>\n",
       "      <td id=\"T_774d9_row9_col10\" class=\"data row9 col10\" >99,000.00</td>\n",
       "      <td id=\"T_774d9_row9_col11\" class=\"data row9 col11\" >6,300.00</td>\n",
       "      <td id=\"T_774d9_row9_col12\" class=\"data row9 col12\" >6.36</td>\n",
       "      <td id=\"T_774d9_row9_col13\" class=\"data row9 col13\" >5,847.49</td>\n",
       "      <td id=\"T_774d9_row9_col14\" class=\"data row9 col14\" >DTD</td>\n",
       "    </tr>\n",
       "    <tr>\n",
       "      <th id=\"T_774d9_level0_row10\" class=\"row_heading level0 row10\" >10</th>\n",
       "      <td id=\"T_774d9_row10_col0\" class=\"data row10 col0\" >GFPT</td>\n",
       "      <td id=\"T_774d9_row10_col1\" class=\"data row10 col1\" >2023</td>\n",
       "      <td id=\"T_774d9_row10_col2\" class=\"data row10 col2\" >1</td>\n",
       "      <td id=\"T_774d9_row10_col3\" class=\"data row10 col3\" >2022</td>\n",
       "      <td id=\"T_774d9_row10_col4\" class=\"data row10 col4\" >12</td>\n",
       "      <td id=\"T_774d9_row10_col5\" class=\"data row10 col5\" >13.10</td>\n",
       "      <td id=\"T_774d9_row10_col6\" class=\"data row10 col6\" >12.50</td>\n",
       "      <td id=\"T_774d9_row10_col7\" class=\"data row10 col7\" >0.60</td>\n",
       "      <td id=\"T_774d9_row10_col8\" class=\"data row10 col8\" >7,500</td>\n",
       "      <td id=\"T_774d9_row10_col9\" class=\"data row10 col9\" >98,250.00</td>\n",
       "      <td id=\"T_774d9_row10_col10\" class=\"data row10 col10\" >93,750.00</td>\n",
       "      <td id=\"T_774d9_row10_col11\" class=\"data row10 col11\" >4,500.00</td>\n",
       "      <td id=\"T_774d9_row10_col12\" class=\"data row10 col12\" >4.80</td>\n",
       "      <td id=\"T_774d9_row10_col13\" class=\"data row10 col13\" >4,074.74</td>\n",
       "      <td id=\"T_774d9_row10_col14\" class=\"data row10 col14\" >DTD</td>\n",
       "    </tr>\n",
       "  </tbody>\n",
       "</table>\n"
      ],
      "text/plain": [
       "<pandas.io.formats.style.Styler at 0x235e04829d0>"
      ]
     },
     "execution_count": 3,
     "metadata": {},
     "output_type": "execute_result"
    }
   ],
   "source": [
    "sells_df.style.format(format_dict)"
   ]
  },
  {
   "cell_type": "code",
   "execution_count": 4,
   "metadata": {},
   "outputs": [
    {
     "data": {
      "text/plain": [
       "sell_year  sell_month  buy_year  buy_month  name  \n",
       "2023       1           2021      9          STA      -63,619.06\n",
       "                                 10         STA      -29,173.73\n",
       "                       2022      2          MAKRO     14,372.89\n",
       "                                            PTTGC    -11,197.69\n",
       "                                 6          KCE       -7,754.72\n",
       "                                 12         GFPT       4,074.74\n",
       "                                            JMART      5,455.13\n",
       "                       2023      1          SINGER     5,847.49\n",
       "                                            WHAIR        656.69\n",
       "           2           2022      4          KCE       -7,013.01\n",
       "Name: net, dtype: float64"
      ]
     },
     "execution_count": 4,
     "metadata": {},
     "output_type": "execute_result"
    }
   ],
   "source": [
    "sells_df.groupby(['sell_year','sell_month','buy_year','buy_month','name']).net.sum()"
   ]
  },
  {
   "cell_type": "code",
   "execution_count": 5,
   "metadata": {},
   "outputs": [
    {
     "data": {
      "text/html": [
       "<div>\n",
       "<style scoped>\n",
       "    .dataframe tbody tr th:only-of-type {\n",
       "        vertical-align: middle;\n",
       "    }\n",
       "\n",
       "    .dataframe tbody tr th {\n",
       "        vertical-align: top;\n",
       "    }\n",
       "\n",
       "    .dataframe thead th {\n",
       "        text-align: right;\n",
       "    }\n",
       "</style>\n",
       "<table border=\"1\" class=\"dataframe\">\n",
       "  <thead>\n",
       "    <tr style=\"text-align: right;\">\n",
       "      <th></th>\n",
       "      <th>gross</th>\n",
       "      <th>net</th>\n",
       "    </tr>\n",
       "    <tr>\n",
       "      <th>name</th>\n",
       "      <th></th>\n",
       "      <th></th>\n",
       "    </tr>\n",
       "  </thead>\n",
       "  <tbody>\n",
       "    <tr>\n",
       "      <th>GFPT</th>\n",
       "      <td>4,500.00</td>\n",
       "      <td>4,074.74</td>\n",
       "    </tr>\n",
       "    <tr>\n",
       "      <th>JMART</th>\n",
       "      <td>6,000.00</td>\n",
       "      <td>5,455.13</td>\n",
       "    </tr>\n",
       "    <tr>\n",
       "      <th>KCE</th>\n",
       "      <td>-14,250.00</td>\n",
       "      <td>-14,767.73</td>\n",
       "    </tr>\n",
       "    <tr>\n",
       "      <th>MAKRO</th>\n",
       "      <td>15,750.00</td>\n",
       "      <td>14,372.89</td>\n",
       "    </tr>\n",
       "    <tr>\n",
       "      <th>PTTGC</th>\n",
       "      <td>-10,500.00</td>\n",
       "      <td>-11,197.69</td>\n",
       "    </tr>\n",
       "  </tbody>\n",
       "</table>\n",
       "</div>"
      ],
      "text/plain": [
       "           gross        net\n",
       "name                       \n",
       "GFPT    4,500.00   4,074.74\n",
       "JMART   6,000.00   5,455.13\n",
       "KCE   -14,250.00 -14,767.73\n",
       "MAKRO  15,750.00  14,372.89\n",
       "PTTGC -10,500.00 -11,197.69"
      ]
     },
     "execution_count": 5,
     "metadata": {},
     "output_type": "execute_result"
    }
   ],
   "source": [
    "sells_df.groupby(['name'])[['gross','net']].sum().head(5)"
   ]
  },
  {
   "cell_type": "code",
   "execution_count": 6,
   "metadata": {},
   "outputs": [
    {
     "data": {
      "text/html": [
       "<style type=\"text/css\">\n",
       "</style>\n",
       "<table id=\"T_33c26_\">\n",
       "  <thead>\n",
       "    <tr>\n",
       "      <th class=\"blank level0\" >&nbsp;</th>\n",
       "      <th class=\"col_heading level0 col0\" >gross</th>\n",
       "      <th class=\"col_heading level0 col1\" >net</th>\n",
       "    </tr>\n",
       "    <tr>\n",
       "      <th class=\"index_name level0\" >name</th>\n",
       "      <th class=\"blank col0\" >&nbsp;</th>\n",
       "      <th class=\"blank col1\" >&nbsp;</th>\n",
       "    </tr>\n",
       "  </thead>\n",
       "  <tbody>\n",
       "    <tr>\n",
       "      <th id=\"T_33c26_level0_row0\" class=\"row_heading level0 row0\" >MAKRO</th>\n",
       "      <td id=\"T_33c26_row0_col0\" class=\"data row0 col0\" >15,750.00</td>\n",
       "      <td id=\"T_33c26_row0_col1\" class=\"data row0 col1\" >14,372.89</td>\n",
       "    </tr>\n",
       "    <tr>\n",
       "      <th id=\"T_33c26_level0_row1\" class=\"row_heading level0 row1\" >SINGER</th>\n",
       "      <td id=\"T_33c26_row1_col0\" class=\"data row1 col0\" >6,300.00</td>\n",
       "      <td id=\"T_33c26_row1_col1\" class=\"data row1 col1\" >5,847.49</td>\n",
       "    </tr>\n",
       "    <tr>\n",
       "      <th id=\"T_33c26_level0_row2\" class=\"row_heading level0 row2\" >JMART</th>\n",
       "      <td id=\"T_33c26_row2_col0\" class=\"data row2 col0\" >6,000.00</td>\n",
       "      <td id=\"T_33c26_row2_col1\" class=\"data row2 col1\" >5,455.13</td>\n",
       "    </tr>\n",
       "    <tr>\n",
       "      <th id=\"T_33c26_level0_row3\" class=\"row_heading level0 row3\" >GFPT</th>\n",
       "      <td id=\"T_33c26_row3_col0\" class=\"data row3 col0\" >4,500.00</td>\n",
       "      <td id=\"T_33c26_row3_col1\" class=\"data row3 col1\" >4,074.74</td>\n",
       "    </tr>\n",
       "    <tr>\n",
       "      <th id=\"T_33c26_level0_row4\" class=\"row_heading level0 row4\" >WHAIR</th>\n",
       "      <td id=\"T_33c26_row4_col0\" class=\"data row4 col0\" >1,000.00</td>\n",
       "      <td id=\"T_33c26_row4_col1\" class=\"data row4 col1\" >656.69</td>\n",
       "    </tr>\n",
       "  </tbody>\n",
       "</table>\n"
      ],
      "text/plain": [
       "<pandas.io.formats.style.Styler at 0x235e14c4d90>"
      ]
     },
     "execution_count": 6,
     "metadata": {},
     "output_type": "execute_result"
    }
   ],
   "source": [
    "total_df = sells_df.groupby(['name'])[['gross','net']].sum()\n",
    "total_df.nlargest(5, 'gross')[['gross','net']].style.format(format_dict)"
   ]
  },
  {
   "cell_type": "code",
   "execution_count": 7,
   "metadata": {},
   "outputs": [],
   "source": [
    "file_name = 'ytd-profit.csv'\n",
    "data_file = data_path + file_name\n",
    "csv_file = csv_path + file_name\n",
    "box_file = box_path + file_name\n",
    "osd_file = osd_path + file_name\n",
    "\n",
    "sells_df.groupby(['sell_year','sell_month','buy_year','buy_month','name']).net.sum().to_csv(csv_file)\n",
    "sells_df.groupby(['sell_year','sell_month','buy_year','buy_month','name']).net.sum().to_csv(data_file)\n",
    "sells_df.groupby(['sell_year','sell_month','buy_year','buy_month','name']).net.sum().to_csv(box_file)\n",
    "sells_df.groupby(['sell_year','sell_month','buy_year','buy_month','name']).net.sum().to_csv(osd_file)"
   ]
  },
  {
   "cell_type": "code",
   "execution_count": 8,
   "metadata": {
    "scrolled": true
   },
   "outputs": [
    {
     "data": {
      "text/plain": [
       "sell_month\n",
       "1   -81,338.26\n",
       "2    -7,013.01\n",
       "Name: net, dtype: float64"
      ]
     },
     "execution_count": 8,
     "metadata": {},
     "output_type": "execute_result"
    }
   ],
   "source": [
    "output = sells_df.groupby(['sell_month']).net.sum()\n",
    "output"
   ]
  },
  {
   "cell_type": "code",
   "execution_count": 9,
   "metadata": {},
   "outputs": [],
   "source": [
    "data_path = \"../data/\"\n",
    "file_name = 'tmp-file-of-profits.csv'\n",
    "data_file = data_path + file_name\n",
    "osd_file = osd_path + file_name\n",
    "\n",
    "output.to_csv(data_file, index=True)\n",
    "output.to_csv(osd_file, index=True)"
   ]
  },
  {
   "cell_type": "code",
   "execution_count": 10,
   "metadata": {},
   "outputs": [
    {
     "data": {
      "text/plain": [
       "(-88351.26999999997, 0, -88351.26999999997)"
      ]
     },
     "execution_count": 10,
     "metadata": {},
     "output_type": "execute_result"
    }
   ],
   "source": [
    "profit = sells_df.net.sum()\n",
    "ttl_profit = profit + dividend\n",
    "profit,dividend,ttl_profit"
   ]
  },
  {
   "cell_type": "code",
   "execution_count": 11,
   "metadata": {},
   "outputs": [
    {
     "data": {
      "text/plain": [
       "(-88351.0, 0, 105000, -193351.0)"
      ]
     },
     "execution_count": 11,
     "metadata": {},
     "output_type": "execute_result"
    }
   ],
   "source": [
    "profit = sells_df.net.sum()\n",
    "net = profit + dividend - expense\n",
    "round(profit,0),dividend,expense, round(net,0)"
   ]
  },
  {
   "cell_type": "markdown",
   "metadata": {},
   "source": [
    "### Bottom line of up to date transactions"
   ]
  },
  {
   "cell_type": "code",
   "execution_count": 12,
   "metadata": {},
   "outputs": [
    {
     "data": {
      "text/plain": [
       "-91351.26999999996"
      ]
     },
     "execution_count": 12,
     "metadata": {},
     "output_type": "execute_result"
    }
   ],
   "source": [
    "total = refund + net\n",
    "total"
   ]
  }
 ],
 "metadata": {
  "anaconda-cloud": {},
  "kernelspec": {
   "display_name": "Python 3 (ipykernel)",
   "language": "python",
   "name": "python3"
  },
  "language_info": {
   "codemirror_mode": {
    "name": "ipython",
    "version": 3
   },
   "file_extension": ".py",
   "mimetype": "text/x-python",
   "name": "python",
   "nbconvert_exporter": "python",
   "pygments_lexer": "ipython3",
   "version": "3.8.11"
  }
 },
 "nbformat": 4,
 "nbformat_minor": 1
}
