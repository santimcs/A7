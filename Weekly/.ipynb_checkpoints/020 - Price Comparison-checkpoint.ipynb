{
 "cells": [
  {
   "cell_type": "markdown",
   "metadata": {},
   "source": [
    "### portmy database: stocks table\n",
    "### stock database: buy, price tables"
   ]
  },
  {
   "cell_type": "code",
   "execution_count": 1,
   "metadata": {},
   "outputs": [
    {
     "data": {
      "text/plain": [
       "datetime.date(2022, 12, 31)"
      ]
     },
     "execution_count": 1,
     "metadata": {},
     "output_type": "execute_result"
    }
   ],
   "source": [
    "import pandas as pd\n",
    "import numpy as np\n",
    "from datetime import date, timedelta\n",
    "from sqlalchemy import create_engine\n",
    "from pandas.tseries.offsets import BDay\n",
    "\n",
    "engine = create_engine(\"sqlite:///c:\\\\ruby\\\\portmy\\\\db\\\\development.sqlite3\")\n",
    "conmy = engine.connect()\n",
    "conmy = engine.connect()\n",
    "engine = create_engine(\"mysql+pymysql://root:@localhost:3306/stock\")\n",
    "const = engine.connect()\n",
    "\n",
    "pd.set_option('display.float_format','{:,.2f}'.format)\n",
    "\n",
    "data_path = \"../data/\"\n",
    "csv_path = \"\\\\Users\\\\User\\\\iCloudDrive\\\\\"\n",
    "box_path = \"\\\\Users\\\\User\\\\Dropbox\\\\\"\n",
    "\n",
    "today = date.today()\n",
    "today"
   ]
  },
  {
   "cell_type": "markdown",
   "metadata": {},
   "source": [
    "### Process after last business day, yesterday must be last business day"
   ]
  },
  {
   "cell_type": "code",
   "execution_count": 2,
   "metadata": {},
   "outputs": [
    {
     "name": "stdout",
     "output_type": "stream",
     "text": [
      "today: 2022-12-31\n",
      "yesterday: 2022-12-30 00:00:00\n"
     ]
    }
   ],
   "source": [
    "# convert the timedelta object to a BusinessDay object\n",
    "num_business_days = BDay(1)\n",
    "yesterday = today - num_business_days\n",
    "print(f'today: {today}')\n",
    "print(f'yesterday: {yesterday}')"
   ]
  },
  {
   "cell_type": "code",
   "execution_count": 3,
   "metadata": {},
   "outputs": [
    {
     "name": "stdout",
     "output_type": "stream",
     "text": [
      "a week ago: 2022-12-23\n",
      "yesterday: 2022-12-30\n"
     ]
    }
   ],
   "source": [
    "yesterday = yesterday.date()\n",
    "week_ago = yesterday -timedelta(days = 7)\n",
    "print(f'a week ago: {week_ago}')\n",
    "print(f'yesterday: {yesterday}')"
   ]
  },
  {
   "cell_type": "markdown",
   "metadata": {},
   "source": [
    "### Restart & Run All Cells"
   ]
  },
  {
   "cell_type": "markdown",
   "metadata": {},
   "source": [
    "### This process affects only already in port stocks. To highlight price changes in percent."
   ]
  },
  {
   "cell_type": "code",
   "execution_count": 4,
   "metadata": {},
   "outputs": [],
   "source": [
    "cols = 'name price_d price_w percent perform mrkt '.split()\n",
    "\n",
    "format_dict = {\n",
    "    'qty':'{:,}',    \n",
    "    'price':'{:.2f}','price_d':'{:.2f}','price_w':'{:.2f}',\n",
    "    'max_price':'{:.2f}','min_price':'{:.2f}',\n",
    "    'maxp':'{:.2f}','minp':'{:.2f}','opnp':'{:.2f}',    \n",
    "    'pct':'{:,.2f}%','percent':'{:,.2f}%',\n",
    "    \n",
    "    'pe':'{:.2f}','pbv':'{:.2f}',\n",
    "    'paid_up':'{:,.2f}','market_cap':'{:,.2f}',\n",
    "    'daily_volume':'{:,.2f}','beta':'{:,.2f}', \n",
    "    'dly_vol':'{:,.2f}', \n",
    "}"
   ]
  },
  {
   "cell_type": "code",
   "execution_count": 5,
   "metadata": {},
   "outputs": [
    {
     "data": {
      "text/html": [
       "<style type=\"text/css\">\n",
       "</style>\n",
       "<table id=\"T_65a8f_\">\n",
       "  <thead>\n",
       "    <tr>\n",
       "      <th class=\"blank level0\" >&nbsp;</th>\n",
       "      <th class=\"col_heading level0 col0\" >name</th>\n",
       "      <th class=\"col_heading level0 col1\" >date</th>\n",
       "      <th class=\"col_heading level0 col2\" >price</th>\n",
       "    </tr>\n",
       "  </thead>\n",
       "  <tbody>\n",
       "    <tr>\n",
       "      <th id=\"T_65a8f_level0_row0\" class=\"row_heading level0 row0\" >0</th>\n",
       "      <td id=\"T_65a8f_row0_col0\" class=\"data row0 col0\" >GFPT</td>\n",
       "      <td id=\"T_65a8f_row0_col1\" class=\"data row0 col1\" >2022-12-21</td>\n",
       "      <td id=\"T_65a8f_row0_col2\" class=\"data row0 col2\" >12.50</td>\n",
       "    </tr>\n",
       "  </tbody>\n",
       "</table>\n"
      ],
      "text/plain": [
       "<pandas.io.formats.style.Styler at 0x183b2faa5e0>"
      ]
     },
     "execution_count": 5,
     "metadata": {},
     "output_type": "execute_result"
    }
   ],
   "source": [
    "sql = \"\"\"\n",
    "SELECT name, date, price \n",
    "FROM buy \n",
    "ORDER BY date DESC \n",
    "LIMIT 1\n",
    "\"\"\"\n",
    "df_buy = pd.read_sql(sql, const)\n",
    "df_buy.style.format(format_dict)"
   ]
  },
  {
   "cell_type": "code",
   "execution_count": 6,
   "metadata": {},
   "outputs": [
    {
     "name": "stdout",
     "output_type": "stream",
     "text": [
      "\n",
      "SELECT * FROM stocks WHERE name = 'GFPT'\n",
      "\n"
     ]
    },
    {
     "data": {
      "text/html": [
       "<style type=\"text/css\">\n",
       "</style>\n",
       "<table id=\"T_3bcc3_\">\n",
       "  <thead>\n",
       "    <tr>\n",
       "      <th class=\"blank level0\" >&nbsp;</th>\n",
       "      <th class=\"col_heading level0 col0\" >id</th>\n",
       "      <th class=\"col_heading level0 col1\" >name</th>\n",
       "      <th class=\"col_heading level0 col2\" >market</th>\n",
       "      <th class=\"col_heading level0 col3\" >price</th>\n",
       "      <th class=\"col_heading level0 col4\" >max_price</th>\n",
       "      <th class=\"col_heading level0 col5\" >min_price</th>\n",
       "      <th class=\"col_heading level0 col6\" >pe</th>\n",
       "      <th class=\"col_heading level0 col7\" >pbv</th>\n",
       "      <th class=\"col_heading level0 col8\" >paid_up</th>\n",
       "      <th class=\"col_heading level0 col9\" >market_cap</th>\n",
       "      <th class=\"col_heading level0 col10\" >daily_volume</th>\n",
       "      <th class=\"col_heading level0 col11\" >beta</th>\n",
       "      <th class=\"col_heading level0 col12\" >ticker_id</th>\n",
       "      <th class=\"col_heading level0 col13\" >created_at</th>\n",
       "      <th class=\"col_heading level0 col14\" >updated_at</th>\n",
       "    </tr>\n",
       "  </thead>\n",
       "  <tbody>\n",
       "    <tr>\n",
       "      <th id=\"T_3bcc3_level0_row0\" class=\"row_heading level0 row0\" >0</th>\n",
       "      <td id=\"T_3bcc3_row0_col0\" class=\"data row0 col0\" >187</td>\n",
       "      <td id=\"T_3bcc3_row0_col1\" class=\"data row0 col1\" >GFPT</td>\n",
       "      <td id=\"T_3bcc3_row0_col2\" class=\"data row0 col2\" >sSET / SETTHSI / SETWB    </td>\n",
       "      <td id=\"T_3bcc3_row0_col3\" class=\"data row0 col3\" >12.80</td>\n",
       "      <td id=\"T_3bcc3_row0_col4\" class=\"data row0 col4\" >18.70</td>\n",
       "      <td id=\"T_3bcc3_row0_col5\" class=\"data row0 col5\" >11.80</td>\n",
       "      <td id=\"T_3bcc3_row0_col6\" class=\"data row0 col6\" >9.74</td>\n",
       "      <td id=\"T_3bcc3_row0_col7\" class=\"data row0 col7\" >1.00</td>\n",
       "      <td id=\"T_3bcc3_row0_col8\" class=\"data row0 col8\" >1,253.82</td>\n",
       "      <td id=\"T_3bcc3_row0_col9\" class=\"data row0 col9\" >16,048.91</td>\n",
       "      <td id=\"T_3bcc3_row0_col10\" class=\"data row0 col10\" >100.41</td>\n",
       "      <td id=\"T_3bcc3_row0_col11\" class=\"data row0 col11\" >0.59</td>\n",
       "      <td id=\"T_3bcc3_row0_col12\" class=\"data row0 col12\" >187</td>\n",
       "      <td id=\"T_3bcc3_row0_col13\" class=\"data row0 col13\" >2017-07-23 07:24:45.610475</td>\n",
       "      <td id=\"T_3bcc3_row0_col14\" class=\"data row0 col14\" >2022-12-31 03:01:51.760679</td>\n",
       "    </tr>\n",
       "  </tbody>\n",
       "</table>\n"
      ],
      "text/plain": [
       "<pandas.io.formats.style.Styler at 0x183b6c9b970>"
      ]
     },
     "execution_count": 6,
     "metadata": {},
     "output_type": "execute_result"
    }
   ],
   "source": [
    "names = df_buy['name']\n",
    "name = names.to_string(index=False)\n",
    "\n",
    "sql = '''\n",
    "SELECT * FROM stocks WHERE name = '%s'\n",
    "'''\n",
    "sql = sql % name\n",
    "print(sql)\n",
    "\n",
    "df_stocks = pd.read_sql(sql, conmy)\n",
    "df_stocks.style.format(format_dict) "
   ]
  },
  {
   "cell_type": "code",
   "execution_count": 7,
   "metadata": {},
   "outputs": [
    {
     "name": "stdout",
     "output_type": "stream",
     "text": [
      "\n",
      "SELECT * FROM price WHERE name = \"GFPT\" ORDER BY date DESC LIMIT 5\n",
      "\n"
     ]
    },
    {
     "data": {
      "text/html": [
       "<style type=\"text/css\">\n",
       "</style>\n",
       "<table id=\"T_037e2_\">\n",
       "  <thead>\n",
       "    <tr>\n",
       "      <th class=\"blank level0\" >&nbsp;</th>\n",
       "      <th class=\"col_heading level0 col0\" >name</th>\n",
       "      <th class=\"col_heading level0 col1\" >date</th>\n",
       "      <th class=\"col_heading level0 col2\" >price</th>\n",
       "      <th class=\"col_heading level0 col3\" >maxp</th>\n",
       "      <th class=\"col_heading level0 col4\" >minp</th>\n",
       "      <th class=\"col_heading level0 col5\" >qty</th>\n",
       "      <th class=\"col_heading level0 col6\" >opnp</th>\n",
       "    </tr>\n",
       "  </thead>\n",
       "  <tbody>\n",
       "    <tr>\n",
       "      <th id=\"T_037e2_level0_row0\" class=\"row_heading level0 row0\" >0</th>\n",
       "      <td id=\"T_037e2_row0_col0\" class=\"data row0 col0\" >GFPT</td>\n",
       "      <td id=\"T_037e2_row0_col1\" class=\"data row0 col1\" >2022-12-30</td>\n",
       "      <td id=\"T_037e2_row0_col2\" class=\"data row0 col2\" >12.80</td>\n",
       "      <td id=\"T_037e2_row0_col3\" class=\"data row0 col3\" >13.00</td>\n",
       "      <td id=\"T_037e2_row0_col4\" class=\"data row0 col4\" >12.80</td>\n",
       "      <td id=\"T_037e2_row0_col5\" class=\"data row0 col5\" >2,201,202</td>\n",
       "      <td id=\"T_037e2_row0_col6\" class=\"data row0 col6\" >12.90</td>\n",
       "    </tr>\n",
       "    <tr>\n",
       "      <th id=\"T_037e2_level0_row1\" class=\"row_heading level0 row1\" >1</th>\n",
       "      <td id=\"T_037e2_row1_col0\" class=\"data row1 col0\" >GFPT</td>\n",
       "      <td id=\"T_037e2_row1_col1\" class=\"data row1 col1\" >2022-12-29</td>\n",
       "      <td id=\"T_037e2_row1_col2\" class=\"data row1 col2\" >12.90</td>\n",
       "      <td id=\"T_037e2_row1_col3\" class=\"data row1 col3\" >13.00</td>\n",
       "      <td id=\"T_037e2_row1_col4\" class=\"data row1 col4\" >12.70</td>\n",
       "      <td id=\"T_037e2_row1_col5\" class=\"data row1 col5\" >3,744,149</td>\n",
       "      <td id=\"T_037e2_row1_col6\" class=\"data row1 col6\" >12.80</td>\n",
       "    </tr>\n",
       "    <tr>\n",
       "      <th id=\"T_037e2_level0_row2\" class=\"row_heading level0 row2\" >2</th>\n",
       "      <td id=\"T_037e2_row2_col0\" class=\"data row2 col0\" >GFPT</td>\n",
       "      <td id=\"T_037e2_row2_col1\" class=\"data row2 col1\" >2022-12-28</td>\n",
       "      <td id=\"T_037e2_row2_col2\" class=\"data row2 col2\" >12.70</td>\n",
       "      <td id=\"T_037e2_row2_col3\" class=\"data row2 col3\" >13.00</td>\n",
       "      <td id=\"T_037e2_row2_col4\" class=\"data row2 col4\" >12.70</td>\n",
       "      <td id=\"T_037e2_row2_col5\" class=\"data row2 col5\" >2,251,958</td>\n",
       "      <td id=\"T_037e2_row2_col6\" class=\"data row2 col6\" >12.90</td>\n",
       "    </tr>\n",
       "    <tr>\n",
       "      <th id=\"T_037e2_level0_row3\" class=\"row_heading level0 row3\" >3</th>\n",
       "      <td id=\"T_037e2_row3_col0\" class=\"data row3 col0\" >GFPT</td>\n",
       "      <td id=\"T_037e2_row3_col1\" class=\"data row3 col1\" >2022-12-27</td>\n",
       "      <td id=\"T_037e2_row3_col2\" class=\"data row3 col2\" >12.90</td>\n",
       "      <td id=\"T_037e2_row3_col3\" class=\"data row3 col3\" >12.90</td>\n",
       "      <td id=\"T_037e2_row3_col4\" class=\"data row3 col4\" >12.70</td>\n",
       "      <td id=\"T_037e2_row3_col5\" class=\"data row3 col5\" >3,203,459</td>\n",
       "      <td id=\"T_037e2_row3_col6\" class=\"data row3 col6\" >12.90</td>\n",
       "    </tr>\n",
       "    <tr>\n",
       "      <th id=\"T_037e2_level0_row4\" class=\"row_heading level0 row4\" >4</th>\n",
       "      <td id=\"T_037e2_row4_col0\" class=\"data row4 col0\" >GFPT</td>\n",
       "      <td id=\"T_037e2_row4_col1\" class=\"data row4 col1\" >2022-12-26</td>\n",
       "      <td id=\"T_037e2_row4_col2\" class=\"data row4 col2\" >12.90</td>\n",
       "      <td id=\"T_037e2_row4_col3\" class=\"data row4 col3\" >13.00</td>\n",
       "      <td id=\"T_037e2_row4_col4\" class=\"data row4 col4\" >12.70</td>\n",
       "      <td id=\"T_037e2_row4_col5\" class=\"data row4 col5\" >2,469,024</td>\n",
       "      <td id=\"T_037e2_row4_col6\" class=\"data row4 col6\" >12.80</td>\n",
       "    </tr>\n",
       "  </tbody>\n",
       "</table>\n"
      ],
      "text/plain": [
       "<pandas.io.formats.style.Styler at 0x183b6c9b6d0>"
      ]
     },
     "execution_count": 7,
     "metadata": {},
     "output_type": "execute_result"
    }
   ],
   "source": [
    "sql = '''\n",
    "SELECT * FROM price WHERE name = \"%s\" ORDER BY date DESC LIMIT 5\n",
    "'''\n",
    "sql = sql % name\n",
    "print(sql)\n",
    "\n",
    "df_price = pd.read_sql(sql, const)\n",
    "df_price.style.format(format_dict)"
   ]
  },
  {
   "cell_type": "code",
   "execution_count": 8,
   "metadata": {},
   "outputs": [
    {
     "name": "stdout",
     "output_type": "stream",
     "text": [
      "\n",
      "SELECT name, price AS price_d \n",
      "FROM price \n",
      "WHERE date = '2022-12-30' AND name IN ('ASP', 'BCH', 'CPNREIT', 'DCC', 'DIF', 'GFPT', 'GVREIT', 'IVL', 'JASIF', 'JMART', 'KCE', 'MAKRO', 'MCS', 'NER', 'ORI', 'PTTGC', 'RCL', 'SCC', 'SCCC', 'SENA', 'STA', 'SYNEX', 'TFFIF', 'TMT', 'WHAIR', 'WHART')\n",
      "ORDER BY name, date\n"
     ]
    },
    {
     "data": {
      "text/plain": [
       "26"
      ]
     },
     "execution_count": 8,
     "metadata": {},
     "output_type": "execute_result"
    }
   ],
   "source": [
    "sql = '''\n",
    "SELECT name\n",
    "FROM buy \n",
    "WHERE active = 1\n",
    "ORDER BY name'''\n",
    "df_price = pd.read_sql(sql, const)\n",
    "\n",
    "names = df_price.name.tolist()\n",
    "in_p = \", \".join(map(lambda name: \"'%s'\" % name, names))\n",
    "\n",
    "sql = \"\"\"\n",
    "SELECT name, price AS price_d \n",
    "FROM price \n",
    "WHERE date = '%s' AND name IN (%s)\n",
    "ORDER BY name, date\"\"\"\n",
    "sql = sql % (yesterday, in_p)\n",
    "print(sql)\n",
    "\n",
    "df_today = pd.read_sql(sql, const)\n",
    "df_today.shape[0]"
   ]
  },
  {
   "cell_type": "code",
   "execution_count": 9,
   "metadata": {},
   "outputs": [
    {
     "name": "stdout",
     "output_type": "stream",
     "text": [
      "\n",
      "SELECT name, price AS price_w\n",
      "FROM price \n",
      "WHERE date = '2022-12-23' AND name IN ('ASP', 'BCH', 'CPNREIT', 'DCC', 'DIF', 'GFPT', 'GVREIT', 'IVL', 'JASIF', 'JMART', 'KCE', 'MAKRO', 'MCS', 'NER', 'ORI', 'PTTGC', 'RCL', 'SCC', 'SCCC', 'SENA', 'STA', 'SYNEX', 'TFFIF', 'TMT', 'WHAIR', 'WHART') \n",
      "ORDER BY name\n"
     ]
    },
    {
     "data": {
      "text/plain": [
       "26"
      ]
     },
     "execution_count": 9,
     "metadata": {},
     "output_type": "execute_result"
    }
   ],
   "source": [
    "sql = \"\"\"\n",
    "SELECT name, price AS price_w\n",
    "FROM price \n",
    "WHERE date = '%s' AND name IN (%s) \n",
    "ORDER BY name\"\"\"\n",
    "sql = sql % (week_ago, in_p)\n",
    "print(sql)\n",
    "\n",
    "df_wkago = pd.read_sql(sql, const)\n",
    "df_wkago.shape[0]"
   ]
  },
  {
   "cell_type": "code",
   "execution_count": 10,
   "metadata": {},
   "outputs": [
    {
     "data": {
      "text/plain": [
       "(26, 3)"
      ]
     },
     "execution_count": 10,
     "metadata": {},
     "output_type": "execute_result"
    }
   ],
   "source": [
    "trend = pd.merge(df_today, df_wkago, on='name',how='inner')\n",
    "trend.shape"
   ]
  },
  {
   "cell_type": "code",
   "execution_count": 11,
   "metadata": {},
   "outputs": [],
   "source": [
    "def performance(vals):\n",
    "    price_d, price_w = vals\n",
    "    if (price_d > price_w):\n",
    "        return 'Better'\n",
    "    elif (price_d < price_w):\n",
    "        return 'Worse'\n",
    "    else:\n",
    "        return 'No Change'"
   ]
  },
  {
   "cell_type": "code",
   "execution_count": 12,
   "metadata": {},
   "outputs": [],
   "source": [
    "trend['percent'] = (trend.price_d-trend.price_w)/trend.price_w * 100"
   ]
  },
  {
   "cell_type": "code",
   "execution_count": 13,
   "metadata": {},
   "outputs": [
    {
     "data": {
      "text/html": [
       "<div>\n",
       "<style scoped>\n",
       "    .dataframe tbody tr th:only-of-type {\n",
       "        vertical-align: middle;\n",
       "    }\n",
       "\n",
       "    .dataframe tbody tr th {\n",
       "        vertical-align: top;\n",
       "    }\n",
       "\n",
       "    .dataframe thead th {\n",
       "        text-align: right;\n",
       "    }\n",
       "</style>\n",
       "<table border=\"1\" class=\"dataframe\">\n",
       "  <thead>\n",
       "    <tr style=\"text-align: right;\">\n",
       "      <th></th>\n",
       "      <th>name</th>\n",
       "      <th>price_d</th>\n",
       "      <th>price_w</th>\n",
       "      <th>percent</th>\n",
       "    </tr>\n",
       "  </thead>\n",
       "  <tbody>\n",
       "    <tr>\n",
       "      <th>0</th>\n",
       "      <td>ASP</td>\n",
       "      <td>2.98</td>\n",
       "      <td>2.96</td>\n",
       "      <td>0.68</td>\n",
       "    </tr>\n",
       "    <tr>\n",
       "      <th>1</th>\n",
       "      <td>BCH</td>\n",
       "      <td>20.50</td>\n",
       "      <td>19.80</td>\n",
       "      <td>3.54</td>\n",
       "    </tr>\n",
       "    <tr>\n",
       "      <th>2</th>\n",
       "      <td>CPNREIT</td>\n",
       "      <td>19.50</td>\n",
       "      <td>19.50</td>\n",
       "      <td>0.00</td>\n",
       "    </tr>\n",
       "    <tr>\n",
       "      <th>3</th>\n",
       "      <td>DCC</td>\n",
       "      <td>2.82</td>\n",
       "      <td>2.78</td>\n",
       "      <td>1.44</td>\n",
       "    </tr>\n",
       "    <tr>\n",
       "      <th>4</th>\n",
       "      <td>DIF</td>\n",
       "      <td>13.20</td>\n",
       "      <td>13.20</td>\n",
       "      <td>0.00</td>\n",
       "    </tr>\n",
       "    <tr>\n",
       "      <th>5</th>\n",
       "      <td>GFPT</td>\n",
       "      <td>12.80</td>\n",
       "      <td>12.70</td>\n",
       "      <td>0.79</td>\n",
       "    </tr>\n",
       "    <tr>\n",
       "      <th>6</th>\n",
       "      <td>GVREIT</td>\n",
       "      <td>9.10</td>\n",
       "      <td>9.10</td>\n",
       "      <td>0.00</td>\n",
       "    </tr>\n",
       "    <tr>\n",
       "      <th>7</th>\n",
       "      <td>IVL</td>\n",
       "      <td>40.75</td>\n",
       "      <td>39.50</td>\n",
       "      <td>3.16</td>\n",
       "    </tr>\n",
       "    <tr>\n",
       "      <th>8</th>\n",
       "      <td>JASIF</td>\n",
       "      <td>8.05</td>\n",
       "      <td>8.00</td>\n",
       "      <td>0.63</td>\n",
       "    </tr>\n",
       "    <tr>\n",
       "      <th>9</th>\n",
       "      <td>JMART</td>\n",
       "      <td>40.75</td>\n",
       "      <td>39.25</td>\n",
       "      <td>3.82</td>\n",
       "    </tr>\n",
       "    <tr>\n",
       "      <th>10</th>\n",
       "      <td>KCE</td>\n",
       "      <td>46.50</td>\n",
       "      <td>45.50</td>\n",
       "      <td>2.20</td>\n",
       "    </tr>\n",
       "    <tr>\n",
       "      <th>11</th>\n",
       "      <td>MAKRO</td>\n",
       "      <td>40.00</td>\n",
       "      <td>39.50</td>\n",
       "      <td>1.27</td>\n",
       "    </tr>\n",
       "    <tr>\n",
       "      <th>12</th>\n",
       "      <td>MCS</td>\n",
       "      <td>8.95</td>\n",
       "      <td>8.90</td>\n",
       "      <td>0.56</td>\n",
       "    </tr>\n",
       "    <tr>\n",
       "      <th>13</th>\n",
       "      <td>NER</td>\n",
       "      <td>6.35</td>\n",
       "      <td>5.90</td>\n",
       "      <td>7.63</td>\n",
       "    </tr>\n",
       "    <tr>\n",
       "      <th>14</th>\n",
       "      <td>ORI</td>\n",
       "      <td>12.10</td>\n",
       "      <td>11.20</td>\n",
       "      <td>8.04</td>\n",
       "    </tr>\n",
       "    <tr>\n",
       "      <th>15</th>\n",
       "      <td>PTTGC</td>\n",
       "      <td>47.25</td>\n",
       "      <td>44.75</td>\n",
       "      <td>5.59</td>\n",
       "    </tr>\n",
       "    <tr>\n",
       "      <th>16</th>\n",
       "      <td>RCL</td>\n",
       "      <td>30.75</td>\n",
       "      <td>30.50</td>\n",
       "      <td>0.82</td>\n",
       "    </tr>\n",
       "    <tr>\n",
       "      <th>17</th>\n",
       "      <td>SCC</td>\n",
       "      <td>342.00</td>\n",
       "      <td>334.00</td>\n",
       "      <td>2.40</td>\n",
       "    </tr>\n",
       "    <tr>\n",
       "      <th>18</th>\n",
       "      <td>SCCC</td>\n",
       "      <td>153.50</td>\n",
       "      <td>149.50</td>\n",
       "      <td>2.68</td>\n",
       "    </tr>\n",
       "    <tr>\n",
       "      <th>19</th>\n",
       "      <td>SENA</td>\n",
       "      <td>3.94</td>\n",
       "      <td>3.92</td>\n",
       "      <td>0.51</td>\n",
       "    </tr>\n",
       "    <tr>\n",
       "      <th>20</th>\n",
       "      <td>STA</td>\n",
       "      <td>21.10</td>\n",
       "      <td>19.00</td>\n",
       "      <td>11.05</td>\n",
       "    </tr>\n",
       "    <tr>\n",
       "      <th>21</th>\n",
       "      <td>SYNEX</td>\n",
       "      <td>16.40</td>\n",
       "      <td>15.70</td>\n",
       "      <td>4.46</td>\n",
       "    </tr>\n",
       "    <tr>\n",
       "      <th>22</th>\n",
       "      <td>TFFIF</td>\n",
       "      <td>7.65</td>\n",
       "      <td>7.80</td>\n",
       "      <td>-1.92</td>\n",
       "    </tr>\n",
       "    <tr>\n",
       "      <th>23</th>\n",
       "      <td>TMT</td>\n",
       "      <td>7.80</td>\n",
       "      <td>7.65</td>\n",
       "      <td>1.96</td>\n",
       "    </tr>\n",
       "    <tr>\n",
       "      <th>24</th>\n",
       "      <td>WHAIR</td>\n",
       "      <td>7.45</td>\n",
       "      <td>7.45</td>\n",
       "      <td>0.00</td>\n",
       "    </tr>\n",
       "    <tr>\n",
       "      <th>25</th>\n",
       "      <td>WHART</td>\n",
       "      <td>10.70</td>\n",
       "      <td>10.50</td>\n",
       "      <td>1.90</td>\n",
       "    </tr>\n",
       "  </tbody>\n",
       "</table>\n",
       "</div>"
      ],
      "text/plain": [
       "       name  price_d  price_w  percent\n",
       "0       ASP     2.98     2.96     0.68\n",
       "1       BCH    20.50    19.80     3.54\n",
       "2   CPNREIT    19.50    19.50     0.00\n",
       "3       DCC     2.82     2.78     1.44\n",
       "4       DIF    13.20    13.20     0.00\n",
       "5      GFPT    12.80    12.70     0.79\n",
       "6    GVREIT     9.10     9.10     0.00\n",
       "7       IVL    40.75    39.50     3.16\n",
       "8     JASIF     8.05     8.00     0.63\n",
       "9     JMART    40.75    39.25     3.82\n",
       "10      KCE    46.50    45.50     2.20\n",
       "11    MAKRO    40.00    39.50     1.27\n",
       "12      MCS     8.95     8.90     0.56\n",
       "13      NER     6.35     5.90     7.63\n",
       "14      ORI    12.10    11.20     8.04\n",
       "15    PTTGC    47.25    44.75     5.59\n",
       "16      RCL    30.75    30.50     0.82\n",
       "17      SCC   342.00   334.00     2.40\n",
       "18     SCCC   153.50   149.50     2.68\n",
       "19     SENA     3.94     3.92     0.51\n",
       "20      STA    21.10    19.00    11.05\n",
       "21    SYNEX    16.40    15.70     4.46\n",
       "22    TFFIF     7.65     7.80    -1.92\n",
       "23      TMT     7.80     7.65     1.96\n",
       "24    WHAIR     7.45     7.45     0.00\n",
       "25    WHART    10.70    10.50     1.90"
      ]
     },
     "execution_count": 13,
     "metadata": {},
     "output_type": "execute_result"
    }
   ],
   "source": [
    "trend"
   ]
  },
  {
   "cell_type": "code",
   "execution_count": 14,
   "metadata": {},
   "outputs": [],
   "source": [
    "trend[\"perform\"] = trend[[\"price_d\",\"price_w\"]].apply(performance, axis=1)"
   ]
  },
  {
   "cell_type": "code",
   "execution_count": 15,
   "metadata": {},
   "outputs": [
    {
     "data": {
      "text/html": [
       "<style type=\"text/css\">\n",
       "</style>\n",
       "<table id=\"T_a2b79_\">\n",
       "  <thead>\n",
       "    <tr>\n",
       "      <th class=\"blank level0\" >&nbsp;</th>\n",
       "      <th class=\"col_heading level0 col0\" >name</th>\n",
       "      <th class=\"col_heading level0 col1\" >price_d</th>\n",
       "      <th class=\"col_heading level0 col2\" >price_w</th>\n",
       "      <th class=\"col_heading level0 col3\" >percent</th>\n",
       "      <th class=\"col_heading level0 col4\" >perform</th>\n",
       "    </tr>\n",
       "  </thead>\n",
       "  <tbody>\n",
       "    <tr>\n",
       "      <th id=\"T_a2b79_level0_row0\" class=\"row_heading level0 row0\" >22</th>\n",
       "      <td id=\"T_a2b79_row0_col0\" class=\"data row0 col0\" >TFFIF</td>\n",
       "      <td id=\"T_a2b79_row0_col1\" class=\"data row0 col1\" >7.65</td>\n",
       "      <td id=\"T_a2b79_row0_col2\" class=\"data row0 col2\" >7.80</td>\n",
       "      <td id=\"T_a2b79_row0_col3\" class=\"data row0 col3\" >-1.92%</td>\n",
       "      <td id=\"T_a2b79_row0_col4\" class=\"data row0 col4\" >Worse</td>\n",
       "    </tr>\n",
       "    <tr>\n",
       "      <th id=\"T_a2b79_level0_row1\" class=\"row_heading level0 row1\" >2</th>\n",
       "      <td id=\"T_a2b79_row1_col0\" class=\"data row1 col0\" >CPNREIT</td>\n",
       "      <td id=\"T_a2b79_row1_col1\" class=\"data row1 col1\" >19.50</td>\n",
       "      <td id=\"T_a2b79_row1_col2\" class=\"data row1 col2\" >19.50</td>\n",
       "      <td id=\"T_a2b79_row1_col3\" class=\"data row1 col3\" >0.00%</td>\n",
       "      <td id=\"T_a2b79_row1_col4\" class=\"data row1 col4\" >No Change</td>\n",
       "    </tr>\n",
       "    <tr>\n",
       "      <th id=\"T_a2b79_level0_row2\" class=\"row_heading level0 row2\" >4</th>\n",
       "      <td id=\"T_a2b79_row2_col0\" class=\"data row2 col0\" >DIF</td>\n",
       "      <td id=\"T_a2b79_row2_col1\" class=\"data row2 col1\" >13.20</td>\n",
       "      <td id=\"T_a2b79_row2_col2\" class=\"data row2 col2\" >13.20</td>\n",
       "      <td id=\"T_a2b79_row2_col3\" class=\"data row2 col3\" >0.00%</td>\n",
       "      <td id=\"T_a2b79_row2_col4\" class=\"data row2 col4\" >No Change</td>\n",
       "    </tr>\n",
       "    <tr>\n",
       "      <th id=\"T_a2b79_level0_row3\" class=\"row_heading level0 row3\" >24</th>\n",
       "      <td id=\"T_a2b79_row3_col0\" class=\"data row3 col0\" >WHAIR</td>\n",
       "      <td id=\"T_a2b79_row3_col1\" class=\"data row3 col1\" >7.45</td>\n",
       "      <td id=\"T_a2b79_row3_col2\" class=\"data row3 col2\" >7.45</td>\n",
       "      <td id=\"T_a2b79_row3_col3\" class=\"data row3 col3\" >0.00%</td>\n",
       "      <td id=\"T_a2b79_row3_col4\" class=\"data row3 col4\" >No Change</td>\n",
       "    </tr>\n",
       "    <tr>\n",
       "      <th id=\"T_a2b79_level0_row4\" class=\"row_heading level0 row4\" >6</th>\n",
       "      <td id=\"T_a2b79_row4_col0\" class=\"data row4 col0\" >GVREIT</td>\n",
       "      <td id=\"T_a2b79_row4_col1\" class=\"data row4 col1\" >9.10</td>\n",
       "      <td id=\"T_a2b79_row4_col2\" class=\"data row4 col2\" >9.10</td>\n",
       "      <td id=\"T_a2b79_row4_col3\" class=\"data row4 col3\" >0.00%</td>\n",
       "      <td id=\"T_a2b79_row4_col4\" class=\"data row4 col4\" >No Change</td>\n",
       "    </tr>\n",
       "    <tr>\n",
       "      <th id=\"T_a2b79_level0_row5\" class=\"row_heading level0 row5\" >19</th>\n",
       "      <td id=\"T_a2b79_row5_col0\" class=\"data row5 col0\" >SENA</td>\n",
       "      <td id=\"T_a2b79_row5_col1\" class=\"data row5 col1\" >3.94</td>\n",
       "      <td id=\"T_a2b79_row5_col2\" class=\"data row5 col2\" >3.92</td>\n",
       "      <td id=\"T_a2b79_row5_col3\" class=\"data row5 col3\" >0.51%</td>\n",
       "      <td id=\"T_a2b79_row5_col4\" class=\"data row5 col4\" >Better</td>\n",
       "    </tr>\n",
       "    <tr>\n",
       "      <th id=\"T_a2b79_level0_row6\" class=\"row_heading level0 row6\" >12</th>\n",
       "      <td id=\"T_a2b79_row6_col0\" class=\"data row6 col0\" >MCS</td>\n",
       "      <td id=\"T_a2b79_row6_col1\" class=\"data row6 col1\" >8.95</td>\n",
       "      <td id=\"T_a2b79_row6_col2\" class=\"data row6 col2\" >8.90</td>\n",
       "      <td id=\"T_a2b79_row6_col3\" class=\"data row6 col3\" >0.56%</td>\n",
       "      <td id=\"T_a2b79_row6_col4\" class=\"data row6 col4\" >Better</td>\n",
       "    </tr>\n",
       "    <tr>\n",
       "      <th id=\"T_a2b79_level0_row7\" class=\"row_heading level0 row7\" >8</th>\n",
       "      <td id=\"T_a2b79_row7_col0\" class=\"data row7 col0\" >JASIF</td>\n",
       "      <td id=\"T_a2b79_row7_col1\" class=\"data row7 col1\" >8.05</td>\n",
       "      <td id=\"T_a2b79_row7_col2\" class=\"data row7 col2\" >8.00</td>\n",
       "      <td id=\"T_a2b79_row7_col3\" class=\"data row7 col3\" >0.63%</td>\n",
       "      <td id=\"T_a2b79_row7_col4\" class=\"data row7 col4\" >Better</td>\n",
       "    </tr>\n",
       "    <tr>\n",
       "      <th id=\"T_a2b79_level0_row8\" class=\"row_heading level0 row8\" >0</th>\n",
       "      <td id=\"T_a2b79_row8_col0\" class=\"data row8 col0\" >ASP</td>\n",
       "      <td id=\"T_a2b79_row8_col1\" class=\"data row8 col1\" >2.98</td>\n",
       "      <td id=\"T_a2b79_row8_col2\" class=\"data row8 col2\" >2.96</td>\n",
       "      <td id=\"T_a2b79_row8_col3\" class=\"data row8 col3\" >0.68%</td>\n",
       "      <td id=\"T_a2b79_row8_col4\" class=\"data row8 col4\" >Better</td>\n",
       "    </tr>\n",
       "    <tr>\n",
       "      <th id=\"T_a2b79_level0_row9\" class=\"row_heading level0 row9\" >5</th>\n",
       "      <td id=\"T_a2b79_row9_col0\" class=\"data row9 col0\" >GFPT</td>\n",
       "      <td id=\"T_a2b79_row9_col1\" class=\"data row9 col1\" >12.80</td>\n",
       "      <td id=\"T_a2b79_row9_col2\" class=\"data row9 col2\" >12.70</td>\n",
       "      <td id=\"T_a2b79_row9_col3\" class=\"data row9 col3\" >0.79%</td>\n",
       "      <td id=\"T_a2b79_row9_col4\" class=\"data row9 col4\" >Better</td>\n",
       "    </tr>\n",
       "    <tr>\n",
       "      <th id=\"T_a2b79_level0_row10\" class=\"row_heading level0 row10\" >16</th>\n",
       "      <td id=\"T_a2b79_row10_col0\" class=\"data row10 col0\" >RCL</td>\n",
       "      <td id=\"T_a2b79_row10_col1\" class=\"data row10 col1\" >30.75</td>\n",
       "      <td id=\"T_a2b79_row10_col2\" class=\"data row10 col2\" >30.50</td>\n",
       "      <td id=\"T_a2b79_row10_col3\" class=\"data row10 col3\" >0.82%</td>\n",
       "      <td id=\"T_a2b79_row10_col4\" class=\"data row10 col4\" >Better</td>\n",
       "    </tr>\n",
       "    <tr>\n",
       "      <th id=\"T_a2b79_level0_row11\" class=\"row_heading level0 row11\" >11</th>\n",
       "      <td id=\"T_a2b79_row11_col0\" class=\"data row11 col0\" >MAKRO</td>\n",
       "      <td id=\"T_a2b79_row11_col1\" class=\"data row11 col1\" >40.00</td>\n",
       "      <td id=\"T_a2b79_row11_col2\" class=\"data row11 col2\" >39.50</td>\n",
       "      <td id=\"T_a2b79_row11_col3\" class=\"data row11 col3\" >1.27%</td>\n",
       "      <td id=\"T_a2b79_row11_col4\" class=\"data row11 col4\" >Better</td>\n",
       "    </tr>\n",
       "    <tr>\n",
       "      <th id=\"T_a2b79_level0_row12\" class=\"row_heading level0 row12\" >3</th>\n",
       "      <td id=\"T_a2b79_row12_col0\" class=\"data row12 col0\" >DCC</td>\n",
       "      <td id=\"T_a2b79_row12_col1\" class=\"data row12 col1\" >2.82</td>\n",
       "      <td id=\"T_a2b79_row12_col2\" class=\"data row12 col2\" >2.78</td>\n",
       "      <td id=\"T_a2b79_row12_col3\" class=\"data row12 col3\" >1.44%</td>\n",
       "      <td id=\"T_a2b79_row12_col4\" class=\"data row12 col4\" >Better</td>\n",
       "    </tr>\n",
       "    <tr>\n",
       "      <th id=\"T_a2b79_level0_row13\" class=\"row_heading level0 row13\" >25</th>\n",
       "      <td id=\"T_a2b79_row13_col0\" class=\"data row13 col0\" >WHART</td>\n",
       "      <td id=\"T_a2b79_row13_col1\" class=\"data row13 col1\" >10.70</td>\n",
       "      <td id=\"T_a2b79_row13_col2\" class=\"data row13 col2\" >10.50</td>\n",
       "      <td id=\"T_a2b79_row13_col3\" class=\"data row13 col3\" >1.90%</td>\n",
       "      <td id=\"T_a2b79_row13_col4\" class=\"data row13 col4\" >Better</td>\n",
       "    </tr>\n",
       "    <tr>\n",
       "      <th id=\"T_a2b79_level0_row14\" class=\"row_heading level0 row14\" >23</th>\n",
       "      <td id=\"T_a2b79_row14_col0\" class=\"data row14 col0\" >TMT</td>\n",
       "      <td id=\"T_a2b79_row14_col1\" class=\"data row14 col1\" >7.80</td>\n",
       "      <td id=\"T_a2b79_row14_col2\" class=\"data row14 col2\" >7.65</td>\n",
       "      <td id=\"T_a2b79_row14_col3\" class=\"data row14 col3\" >1.96%</td>\n",
       "      <td id=\"T_a2b79_row14_col4\" class=\"data row14 col4\" >Better</td>\n",
       "    </tr>\n",
       "    <tr>\n",
       "      <th id=\"T_a2b79_level0_row15\" class=\"row_heading level0 row15\" >10</th>\n",
       "      <td id=\"T_a2b79_row15_col0\" class=\"data row15 col0\" >KCE</td>\n",
       "      <td id=\"T_a2b79_row15_col1\" class=\"data row15 col1\" >46.50</td>\n",
       "      <td id=\"T_a2b79_row15_col2\" class=\"data row15 col2\" >45.50</td>\n",
       "      <td id=\"T_a2b79_row15_col3\" class=\"data row15 col3\" >2.20%</td>\n",
       "      <td id=\"T_a2b79_row15_col4\" class=\"data row15 col4\" >Better</td>\n",
       "    </tr>\n",
       "    <tr>\n",
       "      <th id=\"T_a2b79_level0_row16\" class=\"row_heading level0 row16\" >17</th>\n",
       "      <td id=\"T_a2b79_row16_col0\" class=\"data row16 col0\" >SCC</td>\n",
       "      <td id=\"T_a2b79_row16_col1\" class=\"data row16 col1\" >342.00</td>\n",
       "      <td id=\"T_a2b79_row16_col2\" class=\"data row16 col2\" >334.00</td>\n",
       "      <td id=\"T_a2b79_row16_col3\" class=\"data row16 col3\" >2.40%</td>\n",
       "      <td id=\"T_a2b79_row16_col4\" class=\"data row16 col4\" >Better</td>\n",
       "    </tr>\n",
       "    <tr>\n",
       "      <th id=\"T_a2b79_level0_row17\" class=\"row_heading level0 row17\" >18</th>\n",
       "      <td id=\"T_a2b79_row17_col0\" class=\"data row17 col0\" >SCCC</td>\n",
       "      <td id=\"T_a2b79_row17_col1\" class=\"data row17 col1\" >153.50</td>\n",
       "      <td id=\"T_a2b79_row17_col2\" class=\"data row17 col2\" >149.50</td>\n",
       "      <td id=\"T_a2b79_row17_col3\" class=\"data row17 col3\" >2.68%</td>\n",
       "      <td id=\"T_a2b79_row17_col4\" class=\"data row17 col4\" >Better</td>\n",
       "    </tr>\n",
       "    <tr>\n",
       "      <th id=\"T_a2b79_level0_row18\" class=\"row_heading level0 row18\" >7</th>\n",
       "      <td id=\"T_a2b79_row18_col0\" class=\"data row18 col0\" >IVL</td>\n",
       "      <td id=\"T_a2b79_row18_col1\" class=\"data row18 col1\" >40.75</td>\n",
       "      <td id=\"T_a2b79_row18_col2\" class=\"data row18 col2\" >39.50</td>\n",
       "      <td id=\"T_a2b79_row18_col3\" class=\"data row18 col3\" >3.16%</td>\n",
       "      <td id=\"T_a2b79_row18_col4\" class=\"data row18 col4\" >Better</td>\n",
       "    </tr>\n",
       "    <tr>\n",
       "      <th id=\"T_a2b79_level0_row19\" class=\"row_heading level0 row19\" >1</th>\n",
       "      <td id=\"T_a2b79_row19_col0\" class=\"data row19 col0\" >BCH</td>\n",
       "      <td id=\"T_a2b79_row19_col1\" class=\"data row19 col1\" >20.50</td>\n",
       "      <td id=\"T_a2b79_row19_col2\" class=\"data row19 col2\" >19.80</td>\n",
       "      <td id=\"T_a2b79_row19_col3\" class=\"data row19 col3\" >3.54%</td>\n",
       "      <td id=\"T_a2b79_row19_col4\" class=\"data row19 col4\" >Better</td>\n",
       "    </tr>\n",
       "    <tr>\n",
       "      <th id=\"T_a2b79_level0_row20\" class=\"row_heading level0 row20\" >9</th>\n",
       "      <td id=\"T_a2b79_row20_col0\" class=\"data row20 col0\" >JMART</td>\n",
       "      <td id=\"T_a2b79_row20_col1\" class=\"data row20 col1\" >40.75</td>\n",
       "      <td id=\"T_a2b79_row20_col2\" class=\"data row20 col2\" >39.25</td>\n",
       "      <td id=\"T_a2b79_row20_col3\" class=\"data row20 col3\" >3.82%</td>\n",
       "      <td id=\"T_a2b79_row20_col4\" class=\"data row20 col4\" >Better</td>\n",
       "    </tr>\n",
       "    <tr>\n",
       "      <th id=\"T_a2b79_level0_row21\" class=\"row_heading level0 row21\" >21</th>\n",
       "      <td id=\"T_a2b79_row21_col0\" class=\"data row21 col0\" >SYNEX</td>\n",
       "      <td id=\"T_a2b79_row21_col1\" class=\"data row21 col1\" >16.40</td>\n",
       "      <td id=\"T_a2b79_row21_col2\" class=\"data row21 col2\" >15.70</td>\n",
       "      <td id=\"T_a2b79_row21_col3\" class=\"data row21 col3\" >4.46%</td>\n",
       "      <td id=\"T_a2b79_row21_col4\" class=\"data row21 col4\" >Better</td>\n",
       "    </tr>\n",
       "    <tr>\n",
       "      <th id=\"T_a2b79_level0_row22\" class=\"row_heading level0 row22\" >15</th>\n",
       "      <td id=\"T_a2b79_row22_col0\" class=\"data row22 col0\" >PTTGC</td>\n",
       "      <td id=\"T_a2b79_row22_col1\" class=\"data row22 col1\" >47.25</td>\n",
       "      <td id=\"T_a2b79_row22_col2\" class=\"data row22 col2\" >44.75</td>\n",
       "      <td id=\"T_a2b79_row22_col3\" class=\"data row22 col3\" >5.59%</td>\n",
       "      <td id=\"T_a2b79_row22_col4\" class=\"data row22 col4\" >Better</td>\n",
       "    </tr>\n",
       "    <tr>\n",
       "      <th id=\"T_a2b79_level0_row23\" class=\"row_heading level0 row23\" >13</th>\n",
       "      <td id=\"T_a2b79_row23_col0\" class=\"data row23 col0\" >NER</td>\n",
       "      <td id=\"T_a2b79_row23_col1\" class=\"data row23 col1\" >6.35</td>\n",
       "      <td id=\"T_a2b79_row23_col2\" class=\"data row23 col2\" >5.90</td>\n",
       "      <td id=\"T_a2b79_row23_col3\" class=\"data row23 col3\" >7.63%</td>\n",
       "      <td id=\"T_a2b79_row23_col4\" class=\"data row23 col4\" >Better</td>\n",
       "    </tr>\n",
       "    <tr>\n",
       "      <th id=\"T_a2b79_level0_row24\" class=\"row_heading level0 row24\" >14</th>\n",
       "      <td id=\"T_a2b79_row24_col0\" class=\"data row24 col0\" >ORI</td>\n",
       "      <td id=\"T_a2b79_row24_col1\" class=\"data row24 col1\" >12.10</td>\n",
       "      <td id=\"T_a2b79_row24_col2\" class=\"data row24 col2\" >11.20</td>\n",
       "      <td id=\"T_a2b79_row24_col3\" class=\"data row24 col3\" >8.04%</td>\n",
       "      <td id=\"T_a2b79_row24_col4\" class=\"data row24 col4\" >Better</td>\n",
       "    </tr>\n",
       "    <tr>\n",
       "      <th id=\"T_a2b79_level0_row25\" class=\"row_heading level0 row25\" >20</th>\n",
       "      <td id=\"T_a2b79_row25_col0\" class=\"data row25 col0\" >STA</td>\n",
       "      <td id=\"T_a2b79_row25_col1\" class=\"data row25 col1\" >21.10</td>\n",
       "      <td id=\"T_a2b79_row25_col2\" class=\"data row25 col2\" >19.00</td>\n",
       "      <td id=\"T_a2b79_row25_col3\" class=\"data row25 col3\" >11.05%</td>\n",
       "      <td id=\"T_a2b79_row25_col4\" class=\"data row25 col4\" >Better</td>\n",
       "    </tr>\n",
       "  </tbody>\n",
       "</table>\n"
      ],
      "text/plain": [
       "<pandas.io.formats.style.Styler at 0x183b6ce41f0>"
      ]
     },
     "execution_count": 15,
     "metadata": {},
     "output_type": "execute_result"
    }
   ],
   "source": [
    "trend.sort_values(by=['percent'],ascending=[True]).style.format(format_dict)"
   ]
  },
  {
   "cell_type": "code",
   "execution_count": 16,
   "metadata": {},
   "outputs": [
    {
     "data": {
      "text/html": [
       "<style type=\"text/css\">\n",
       "</style>\n",
       "<table id=\"T_92bd6_\">\n",
       "  <thead>\n",
       "    <tr>\n",
       "      <th class=\"blank level0\" >&nbsp;</th>\n",
       "      <th class=\"col_heading level0 col0\" >perform</th>\n",
       "    </tr>\n",
       "  </thead>\n",
       "  <tbody>\n",
       "    <tr>\n",
       "      <th id=\"T_92bd6_level0_row0\" class=\"row_heading level0 row0\" >Better</th>\n",
       "      <td id=\"T_92bd6_row0_col0\" class=\"data row0 col0\" >80.77%</td>\n",
       "    </tr>\n",
       "    <tr>\n",
       "      <th id=\"T_92bd6_level0_row1\" class=\"row_heading level0 row1\" >No Change</th>\n",
       "      <td id=\"T_92bd6_row1_col0\" class=\"data row1 col0\" >15.38%</td>\n",
       "    </tr>\n",
       "    <tr>\n",
       "      <th id=\"T_92bd6_level0_row2\" class=\"row_heading level0 row2\" >Worse</th>\n",
       "      <td id=\"T_92bd6_row2_col0\" class=\"data row2 col0\" >3.85%</td>\n",
       "    </tr>\n",
       "  </tbody>\n",
       "</table>\n"
      ],
      "text/plain": [
       "<pandas.io.formats.style.Styler at 0x183b6d30340>"
      ]
     },
     "execution_count": 16,
     "metadata": {},
     "output_type": "execute_result"
    }
   ],
   "source": [
    "trend.perform.value_counts(normalize=True).to_frame().style.format('{:.2%}')"
   ]
  },
  {
   "cell_type": "code",
   "execution_count": 17,
   "metadata": {},
   "outputs": [
    {
     "data": {
      "text/plain": [
       "(253, 8)"
      ]
     },
     "execution_count": 17,
     "metadata": {},
     "output_type": "execute_result"
    }
   ],
   "source": [
    "sql = '''\n",
    "SELECT name, max_price AS max, min_price AS min, pe, pbv, daily_volume AS volume, beta, market\n",
    "FROM stocks\n",
    "'''\n",
    "my_stocks = pd.read_sql(sql, conmy)\n",
    "my_stocks.shape"
   ]
  },
  {
   "cell_type": "code",
   "execution_count": 18,
   "metadata": {},
   "outputs": [],
   "source": [
    "filters = [\n",
    "   (my_stocks.market.str.contains('SET50')),\n",
    "   (my_stocks.market.str.contains('SET100')),\n",
    "   (my_stocks.market.str.contains('mai'))]\n",
    "values = ['SET50','SET100','mai']\n",
    "my_stocks[\"mrkt\"] = np.select(filters, values, default='SET999')"
   ]
  },
  {
   "cell_type": "code",
   "execution_count": 19,
   "metadata": {},
   "outputs": [
    {
     "data": {
      "text/plain": [
       "(26, 13)"
      ]
     },
     "execution_count": 19,
     "metadata": {},
     "output_type": "execute_result"
    }
   ],
   "source": [
    "trend2 = pd.merge(trend, my_stocks, on='name', how='inner')\n",
    "trend2.sort_values(['percent'],ascending=[True]).shape"
   ]
  },
  {
   "cell_type": "code",
   "execution_count": 20,
   "metadata": {},
   "outputs": [
    {
     "data": {
      "text/html": [
       "<style type=\"text/css\">\n",
       "</style>\n",
       "<table id=\"T_f1eef_\">\n",
       "  <thead>\n",
       "    <tr>\n",
       "      <th class=\"blank level0\" >&nbsp;</th>\n",
       "      <th class=\"col_heading level0 col0\" >name</th>\n",
       "      <th class=\"col_heading level0 col1\" >price_d</th>\n",
       "      <th class=\"col_heading level0 col2\" >price_w</th>\n",
       "      <th class=\"col_heading level0 col3\" >percent</th>\n",
       "      <th class=\"col_heading level0 col4\" >perform</th>\n",
       "      <th class=\"col_heading level0 col5\" >mrkt</th>\n",
       "    </tr>\n",
       "  </thead>\n",
       "  <tbody>\n",
       "    <tr>\n",
       "      <th id=\"T_f1eef_level0_row0\" class=\"row_heading level0 row0\" >10</th>\n",
       "      <td id=\"T_f1eef_row0_col0\" class=\"data row0 col0\" >KCE</td>\n",
       "      <td id=\"T_f1eef_row0_col1\" class=\"data row0 col1\" >46.50</td>\n",
       "      <td id=\"T_f1eef_row0_col2\" class=\"data row0 col2\" >45.50</td>\n",
       "      <td id=\"T_f1eef_row0_col3\" class=\"data row0 col3\" >2.20%</td>\n",
       "      <td id=\"T_f1eef_row0_col4\" class=\"data row0 col4\" >Better</td>\n",
       "      <td id=\"T_f1eef_row0_col5\" class=\"data row0 col5\" >SET50</td>\n",
       "    </tr>\n",
       "    <tr>\n",
       "      <th id=\"T_f1eef_level0_row1\" class=\"row_heading level0 row1\" >17</th>\n",
       "      <td id=\"T_f1eef_row1_col0\" class=\"data row1 col0\" >SCC</td>\n",
       "      <td id=\"T_f1eef_row1_col1\" class=\"data row1 col1\" >342.00</td>\n",
       "      <td id=\"T_f1eef_row1_col2\" class=\"data row1 col2\" >334.00</td>\n",
       "      <td id=\"T_f1eef_row1_col3\" class=\"data row1 col3\" >2.40%</td>\n",
       "      <td id=\"T_f1eef_row1_col4\" class=\"data row1 col4\" >Better</td>\n",
       "      <td id=\"T_f1eef_row1_col5\" class=\"data row1 col5\" >SET50</td>\n",
       "    </tr>\n",
       "    <tr>\n",
       "      <th id=\"T_f1eef_level0_row2\" class=\"row_heading level0 row2\" >7</th>\n",
       "      <td id=\"T_f1eef_row2_col0\" class=\"data row2 col0\" >IVL</td>\n",
       "      <td id=\"T_f1eef_row2_col1\" class=\"data row2 col1\" >40.75</td>\n",
       "      <td id=\"T_f1eef_row2_col2\" class=\"data row2 col2\" >39.50</td>\n",
       "      <td id=\"T_f1eef_row2_col3\" class=\"data row2 col3\" >3.16%</td>\n",
       "      <td id=\"T_f1eef_row2_col4\" class=\"data row2 col4\" >Better</td>\n",
       "      <td id=\"T_f1eef_row2_col5\" class=\"data row2 col5\" >SET50</td>\n",
       "    </tr>\n",
       "    <tr>\n",
       "      <th id=\"T_f1eef_level0_row3\" class=\"row_heading level0 row3\" >9</th>\n",
       "      <td id=\"T_f1eef_row3_col0\" class=\"data row3 col0\" >JMART</td>\n",
       "      <td id=\"T_f1eef_row3_col1\" class=\"data row3 col1\" >40.75</td>\n",
       "      <td id=\"T_f1eef_row3_col2\" class=\"data row3 col2\" >39.25</td>\n",
       "      <td id=\"T_f1eef_row3_col3\" class=\"data row3 col3\" >3.82%</td>\n",
       "      <td id=\"T_f1eef_row3_col4\" class=\"data row3 col4\" >Better</td>\n",
       "      <td id=\"T_f1eef_row3_col5\" class=\"data row3 col5\" >SET50</td>\n",
       "    </tr>\n",
       "    <tr>\n",
       "      <th id=\"T_f1eef_level0_row4\" class=\"row_heading level0 row4\" >15</th>\n",
       "      <td id=\"T_f1eef_row4_col0\" class=\"data row4 col0\" >PTTGC</td>\n",
       "      <td id=\"T_f1eef_row4_col1\" class=\"data row4 col1\" >47.25</td>\n",
       "      <td id=\"T_f1eef_row4_col2\" class=\"data row4 col2\" >44.75</td>\n",
       "      <td id=\"T_f1eef_row4_col3\" class=\"data row4 col3\" >5.59%</td>\n",
       "      <td id=\"T_f1eef_row4_col4\" class=\"data row4 col4\" >Better</td>\n",
       "      <td id=\"T_f1eef_row4_col5\" class=\"data row4 col5\" >SET50</td>\n",
       "    </tr>\n",
       "  </tbody>\n",
       "</table>\n"
      ],
      "text/plain": [
       "<pandas.io.formats.style.Styler at 0x183b6d38130>"
      ]
     },
     "execution_count": 20,
     "metadata": {},
     "output_type": "execute_result"
    }
   ],
   "source": [
    "set50 = trend2.mrkt.str.contains('SET50') \n",
    "flt_set50 = trend2[set50]\n",
    "flt_set50[cols].sort_values(by=['percent','name'],ascending=[True,True]).style.format(format_dict)"
   ]
  },
  {
   "cell_type": "code",
   "execution_count": 21,
   "metadata": {},
   "outputs": [
    {
     "data": {
      "text/html": [
       "<style type=\"text/css\">\n",
       "</style>\n",
       "<table id=\"T_ed21a_\">\n",
       "  <thead>\n",
       "    <tr>\n",
       "      <th class=\"blank level0\" >&nbsp;</th>\n",
       "      <th class=\"col_heading level0 col0\" >perform</th>\n",
       "    </tr>\n",
       "  </thead>\n",
       "  <tbody>\n",
       "    <tr>\n",
       "      <th id=\"T_ed21a_level0_row0\" class=\"row_heading level0 row0\" >Better</th>\n",
       "      <td id=\"T_ed21a_row0_col0\" class=\"data row0 col0\" >100.00%</td>\n",
       "    </tr>\n",
       "  </tbody>\n",
       "</table>\n"
      ],
      "text/plain": [
       "<pandas.io.formats.style.Styler at 0x183b6d380d0>"
      ]
     },
     "execution_count": 21,
     "metadata": {},
     "output_type": "execute_result"
    }
   ],
   "source": [
    "flt_set50.perform.value_counts(normalize=True).to_frame().style.format('{:.2%}')"
   ]
  },
  {
   "cell_type": "code",
   "execution_count": 22,
   "metadata": {
    "scrolled": true
   },
   "outputs": [
    {
     "data": {
      "text/html": [
       "<style type=\"text/css\">\n",
       "</style>\n",
       "<table id=\"T_acabb_\">\n",
       "  <thead>\n",
       "    <tr>\n",
       "      <th class=\"blank level0\" >&nbsp;</th>\n",
       "      <th class=\"col_heading level0 col0\" >name</th>\n",
       "      <th class=\"col_heading level0 col1\" >price_d</th>\n",
       "      <th class=\"col_heading level0 col2\" >price_w</th>\n",
       "      <th class=\"col_heading level0 col3\" >percent</th>\n",
       "      <th class=\"col_heading level0 col4\" >perform</th>\n",
       "      <th class=\"col_heading level0 col5\" >mrkt</th>\n",
       "    </tr>\n",
       "  </thead>\n",
       "  <tbody>\n",
       "    <tr>\n",
       "      <th id=\"T_acabb_level0_row0\" class=\"row_heading level0 row0\" >16</th>\n",
       "      <td id=\"T_acabb_row0_col0\" class=\"data row0 col0\" >RCL</td>\n",
       "      <td id=\"T_acabb_row0_col1\" class=\"data row0 col1\" >30.75</td>\n",
       "      <td id=\"T_acabb_row0_col2\" class=\"data row0 col2\" >30.50</td>\n",
       "      <td id=\"T_acabb_row0_col3\" class=\"data row0 col3\" >0.82%</td>\n",
       "      <td id=\"T_acabb_row0_col4\" class=\"data row0 col4\" >Better</td>\n",
       "      <td id=\"T_acabb_row0_col5\" class=\"data row0 col5\" >SET100</td>\n",
       "    </tr>\n",
       "    <tr>\n",
       "      <th id=\"T_acabb_level0_row1\" class=\"row_heading level0 row1\" >1</th>\n",
       "      <td id=\"T_acabb_row1_col0\" class=\"data row1 col0\" >BCH</td>\n",
       "      <td id=\"T_acabb_row1_col1\" class=\"data row1 col1\" >20.50</td>\n",
       "      <td id=\"T_acabb_row1_col2\" class=\"data row1 col2\" >19.80</td>\n",
       "      <td id=\"T_acabb_row1_col3\" class=\"data row1 col3\" >3.54%</td>\n",
       "      <td id=\"T_acabb_row1_col4\" class=\"data row1 col4\" >Better</td>\n",
       "      <td id=\"T_acabb_row1_col5\" class=\"data row1 col5\" >SET100</td>\n",
       "    </tr>\n",
       "    <tr>\n",
       "      <th id=\"T_acabb_level0_row2\" class=\"row_heading level0 row2\" >21</th>\n",
       "      <td id=\"T_acabb_row2_col0\" class=\"data row2 col0\" >SYNEX</td>\n",
       "      <td id=\"T_acabb_row2_col1\" class=\"data row2 col1\" >16.40</td>\n",
       "      <td id=\"T_acabb_row2_col2\" class=\"data row2 col2\" >15.70</td>\n",
       "      <td id=\"T_acabb_row2_col3\" class=\"data row2 col3\" >4.46%</td>\n",
       "      <td id=\"T_acabb_row2_col4\" class=\"data row2 col4\" >Better</td>\n",
       "      <td id=\"T_acabb_row2_col5\" class=\"data row2 col5\" >SET100</td>\n",
       "    </tr>\n",
       "    <tr>\n",
       "      <th id=\"T_acabb_level0_row3\" class=\"row_heading level0 row3\" >14</th>\n",
       "      <td id=\"T_acabb_row3_col0\" class=\"data row3 col0\" >ORI</td>\n",
       "      <td id=\"T_acabb_row3_col1\" class=\"data row3 col1\" >12.10</td>\n",
       "      <td id=\"T_acabb_row3_col2\" class=\"data row3 col2\" >11.20</td>\n",
       "      <td id=\"T_acabb_row3_col3\" class=\"data row3 col3\" >8.04%</td>\n",
       "      <td id=\"T_acabb_row3_col4\" class=\"data row3 col4\" >Better</td>\n",
       "      <td id=\"T_acabb_row3_col5\" class=\"data row3 col5\" >SET100</td>\n",
       "    </tr>\n",
       "    <tr>\n",
       "      <th id=\"T_acabb_level0_row4\" class=\"row_heading level0 row4\" >20</th>\n",
       "      <td id=\"T_acabb_row4_col0\" class=\"data row4 col0\" >STA</td>\n",
       "      <td id=\"T_acabb_row4_col1\" class=\"data row4 col1\" >21.10</td>\n",
       "      <td id=\"T_acabb_row4_col2\" class=\"data row4 col2\" >19.00</td>\n",
       "      <td id=\"T_acabb_row4_col3\" class=\"data row4 col3\" >11.05%</td>\n",
       "      <td id=\"T_acabb_row4_col4\" class=\"data row4 col4\" >Better</td>\n",
       "      <td id=\"T_acabb_row4_col5\" class=\"data row4 col5\" >SET100</td>\n",
       "    </tr>\n",
       "  </tbody>\n",
       "</table>\n"
      ],
      "text/plain": [
       "<pandas.io.formats.style.Styler at 0x183b2fb4ca0>"
      ]
     },
     "execution_count": 22,
     "metadata": {},
     "output_type": "execute_result"
    }
   ],
   "source": [
    "set100 = trend2.mrkt.str.contains('SET100')\n",
    "flt_set100 = trend2[set100]\n",
    "flt_set100[cols].sort_values(by=['percent','name'],ascending=[True,True]).style.format(format_dict)"
   ]
  },
  {
   "cell_type": "code",
   "execution_count": 23,
   "metadata": {},
   "outputs": [
    {
     "data": {
      "text/html": [
       "<style type=\"text/css\">\n",
       "</style>\n",
       "<table id=\"T_cd959_\">\n",
       "  <thead>\n",
       "    <tr>\n",
       "      <th class=\"blank level0\" >&nbsp;</th>\n",
       "      <th class=\"col_heading level0 col0\" >perform</th>\n",
       "    </tr>\n",
       "  </thead>\n",
       "  <tbody>\n",
       "    <tr>\n",
       "      <th id=\"T_cd959_level0_row0\" class=\"row_heading level0 row0\" >Better</th>\n",
       "      <td id=\"T_cd959_row0_col0\" class=\"data row0 col0\" >100.00%</td>\n",
       "    </tr>\n",
       "  </tbody>\n",
       "</table>\n"
      ],
      "text/plain": [
       "<pandas.io.formats.style.Styler at 0x183b6d30d30>"
      ]
     },
     "execution_count": 23,
     "metadata": {},
     "output_type": "execute_result"
    }
   ],
   "source": [
    "flt_set100[cols].perform.value_counts(normalize=True).to_frame().style.format('{:.2%}')"
   ]
  },
  {
   "cell_type": "code",
   "execution_count": 24,
   "metadata": {},
   "outputs": [
    {
     "data": {
      "text/html": [
       "<style type=\"text/css\">\n",
       "</style>\n",
       "<table id=\"T_c7bfb_\">\n",
       "  <thead>\n",
       "    <tr>\n",
       "      <th class=\"blank level0\" >&nbsp;</th>\n",
       "      <th class=\"col_heading level0 col0\" >name</th>\n",
       "      <th class=\"col_heading level0 col1\" >price_d</th>\n",
       "      <th class=\"col_heading level0 col2\" >price_w</th>\n",
       "      <th class=\"col_heading level0 col3\" >percent</th>\n",
       "      <th class=\"col_heading level0 col4\" >perform</th>\n",
       "      <th class=\"col_heading level0 col5\" >mrkt</th>\n",
       "    </tr>\n",
       "  </thead>\n",
       "  <tbody>\n",
       "    <tr>\n",
       "      <th id=\"T_c7bfb_level0_row0\" class=\"row_heading level0 row0\" >22</th>\n",
       "      <td id=\"T_c7bfb_row0_col0\" class=\"data row0 col0\" >TFFIF</td>\n",
       "      <td id=\"T_c7bfb_row0_col1\" class=\"data row0 col1\" >7.65</td>\n",
       "      <td id=\"T_c7bfb_row0_col2\" class=\"data row0 col2\" >7.80</td>\n",
       "      <td id=\"T_c7bfb_row0_col3\" class=\"data row0 col3\" >-1.92%</td>\n",
       "      <td id=\"T_c7bfb_row0_col4\" class=\"data row0 col4\" >Worse</td>\n",
       "      <td id=\"T_c7bfb_row0_col5\" class=\"data row0 col5\" >SET999</td>\n",
       "    </tr>\n",
       "    <tr>\n",
       "      <th id=\"T_c7bfb_level0_row1\" class=\"row_heading level0 row1\" >2</th>\n",
       "      <td id=\"T_c7bfb_row1_col0\" class=\"data row1 col0\" >CPNREIT</td>\n",
       "      <td id=\"T_c7bfb_row1_col1\" class=\"data row1 col1\" >19.50</td>\n",
       "      <td id=\"T_c7bfb_row1_col2\" class=\"data row1 col2\" >19.50</td>\n",
       "      <td id=\"T_c7bfb_row1_col3\" class=\"data row1 col3\" >0.00%</td>\n",
       "      <td id=\"T_c7bfb_row1_col4\" class=\"data row1 col4\" >No Change</td>\n",
       "      <td id=\"T_c7bfb_row1_col5\" class=\"data row1 col5\" >SET999</td>\n",
       "    </tr>\n",
       "    <tr>\n",
       "      <th id=\"T_c7bfb_level0_row2\" class=\"row_heading level0 row2\" >4</th>\n",
       "      <td id=\"T_c7bfb_row2_col0\" class=\"data row2 col0\" >DIF</td>\n",
       "      <td id=\"T_c7bfb_row2_col1\" class=\"data row2 col1\" >13.20</td>\n",
       "      <td id=\"T_c7bfb_row2_col2\" class=\"data row2 col2\" >13.20</td>\n",
       "      <td id=\"T_c7bfb_row2_col3\" class=\"data row2 col3\" >0.00%</td>\n",
       "      <td id=\"T_c7bfb_row2_col4\" class=\"data row2 col4\" >No Change</td>\n",
       "      <td id=\"T_c7bfb_row2_col5\" class=\"data row2 col5\" >SET999</td>\n",
       "    </tr>\n",
       "    <tr>\n",
       "      <th id=\"T_c7bfb_level0_row3\" class=\"row_heading level0 row3\" >6</th>\n",
       "      <td id=\"T_c7bfb_row3_col0\" class=\"data row3 col0\" >GVREIT</td>\n",
       "      <td id=\"T_c7bfb_row3_col1\" class=\"data row3 col1\" >9.10</td>\n",
       "      <td id=\"T_c7bfb_row3_col2\" class=\"data row3 col2\" >9.10</td>\n",
       "      <td id=\"T_c7bfb_row3_col3\" class=\"data row3 col3\" >0.00%</td>\n",
       "      <td id=\"T_c7bfb_row3_col4\" class=\"data row3 col4\" >No Change</td>\n",
       "      <td id=\"T_c7bfb_row3_col5\" class=\"data row3 col5\" >SET999</td>\n",
       "    </tr>\n",
       "    <tr>\n",
       "      <th id=\"T_c7bfb_level0_row4\" class=\"row_heading level0 row4\" >24</th>\n",
       "      <td id=\"T_c7bfb_row4_col0\" class=\"data row4 col0\" >WHAIR</td>\n",
       "      <td id=\"T_c7bfb_row4_col1\" class=\"data row4 col1\" >7.45</td>\n",
       "      <td id=\"T_c7bfb_row4_col2\" class=\"data row4 col2\" >7.45</td>\n",
       "      <td id=\"T_c7bfb_row4_col3\" class=\"data row4 col3\" >0.00%</td>\n",
       "      <td id=\"T_c7bfb_row4_col4\" class=\"data row4 col4\" >No Change</td>\n",
       "      <td id=\"T_c7bfb_row4_col5\" class=\"data row4 col5\" >SET999</td>\n",
       "    </tr>\n",
       "    <tr>\n",
       "      <th id=\"T_c7bfb_level0_row5\" class=\"row_heading level0 row5\" >19</th>\n",
       "      <td id=\"T_c7bfb_row5_col0\" class=\"data row5 col0\" >SENA</td>\n",
       "      <td id=\"T_c7bfb_row5_col1\" class=\"data row5 col1\" >3.94</td>\n",
       "      <td id=\"T_c7bfb_row5_col2\" class=\"data row5 col2\" >3.92</td>\n",
       "      <td id=\"T_c7bfb_row5_col3\" class=\"data row5 col3\" >0.51%</td>\n",
       "      <td id=\"T_c7bfb_row5_col4\" class=\"data row5 col4\" >Better</td>\n",
       "      <td id=\"T_c7bfb_row5_col5\" class=\"data row5 col5\" >SET999</td>\n",
       "    </tr>\n",
       "    <tr>\n",
       "      <th id=\"T_c7bfb_level0_row6\" class=\"row_heading level0 row6\" >12</th>\n",
       "      <td id=\"T_c7bfb_row6_col0\" class=\"data row6 col0\" >MCS</td>\n",
       "      <td id=\"T_c7bfb_row6_col1\" class=\"data row6 col1\" >8.95</td>\n",
       "      <td id=\"T_c7bfb_row6_col2\" class=\"data row6 col2\" >8.90</td>\n",
       "      <td id=\"T_c7bfb_row6_col3\" class=\"data row6 col3\" >0.56%</td>\n",
       "      <td id=\"T_c7bfb_row6_col4\" class=\"data row6 col4\" >Better</td>\n",
       "      <td id=\"T_c7bfb_row6_col5\" class=\"data row6 col5\" >SET999</td>\n",
       "    </tr>\n",
       "    <tr>\n",
       "      <th id=\"T_c7bfb_level0_row7\" class=\"row_heading level0 row7\" >8</th>\n",
       "      <td id=\"T_c7bfb_row7_col0\" class=\"data row7 col0\" >JASIF</td>\n",
       "      <td id=\"T_c7bfb_row7_col1\" class=\"data row7 col1\" >8.05</td>\n",
       "      <td id=\"T_c7bfb_row7_col2\" class=\"data row7 col2\" >8.00</td>\n",
       "      <td id=\"T_c7bfb_row7_col3\" class=\"data row7 col3\" >0.63%</td>\n",
       "      <td id=\"T_c7bfb_row7_col4\" class=\"data row7 col4\" >Better</td>\n",
       "      <td id=\"T_c7bfb_row7_col5\" class=\"data row7 col5\" >SET999</td>\n",
       "    </tr>\n",
       "    <tr>\n",
       "      <th id=\"T_c7bfb_level0_row8\" class=\"row_heading level0 row8\" >0</th>\n",
       "      <td id=\"T_c7bfb_row8_col0\" class=\"data row8 col0\" >ASP</td>\n",
       "      <td id=\"T_c7bfb_row8_col1\" class=\"data row8 col1\" >2.98</td>\n",
       "      <td id=\"T_c7bfb_row8_col2\" class=\"data row8 col2\" >2.96</td>\n",
       "      <td id=\"T_c7bfb_row8_col3\" class=\"data row8 col3\" >0.68%</td>\n",
       "      <td id=\"T_c7bfb_row8_col4\" class=\"data row8 col4\" >Better</td>\n",
       "      <td id=\"T_c7bfb_row8_col5\" class=\"data row8 col5\" >SET999</td>\n",
       "    </tr>\n",
       "    <tr>\n",
       "      <th id=\"T_c7bfb_level0_row9\" class=\"row_heading level0 row9\" >5</th>\n",
       "      <td id=\"T_c7bfb_row9_col0\" class=\"data row9 col0\" >GFPT</td>\n",
       "      <td id=\"T_c7bfb_row9_col1\" class=\"data row9 col1\" >12.80</td>\n",
       "      <td id=\"T_c7bfb_row9_col2\" class=\"data row9 col2\" >12.70</td>\n",
       "      <td id=\"T_c7bfb_row9_col3\" class=\"data row9 col3\" >0.79%</td>\n",
       "      <td id=\"T_c7bfb_row9_col4\" class=\"data row9 col4\" >Better</td>\n",
       "      <td id=\"T_c7bfb_row9_col5\" class=\"data row9 col5\" >SET999</td>\n",
       "    </tr>\n",
       "    <tr>\n",
       "      <th id=\"T_c7bfb_level0_row10\" class=\"row_heading level0 row10\" >11</th>\n",
       "      <td id=\"T_c7bfb_row10_col0\" class=\"data row10 col0\" >MAKRO</td>\n",
       "      <td id=\"T_c7bfb_row10_col1\" class=\"data row10 col1\" >40.00</td>\n",
       "      <td id=\"T_c7bfb_row10_col2\" class=\"data row10 col2\" >39.50</td>\n",
       "      <td id=\"T_c7bfb_row10_col3\" class=\"data row10 col3\" >1.27%</td>\n",
       "      <td id=\"T_c7bfb_row10_col4\" class=\"data row10 col4\" >Better</td>\n",
       "      <td id=\"T_c7bfb_row10_col5\" class=\"data row10 col5\" >SET999</td>\n",
       "    </tr>\n",
       "    <tr>\n",
       "      <th id=\"T_c7bfb_level0_row11\" class=\"row_heading level0 row11\" >3</th>\n",
       "      <td id=\"T_c7bfb_row11_col0\" class=\"data row11 col0\" >DCC</td>\n",
       "      <td id=\"T_c7bfb_row11_col1\" class=\"data row11 col1\" >2.82</td>\n",
       "      <td id=\"T_c7bfb_row11_col2\" class=\"data row11 col2\" >2.78</td>\n",
       "      <td id=\"T_c7bfb_row11_col3\" class=\"data row11 col3\" >1.44%</td>\n",
       "      <td id=\"T_c7bfb_row11_col4\" class=\"data row11 col4\" >Better</td>\n",
       "      <td id=\"T_c7bfb_row11_col5\" class=\"data row11 col5\" >SET999</td>\n",
       "    </tr>\n",
       "    <tr>\n",
       "      <th id=\"T_c7bfb_level0_row12\" class=\"row_heading level0 row12\" >25</th>\n",
       "      <td id=\"T_c7bfb_row12_col0\" class=\"data row12 col0\" >WHART</td>\n",
       "      <td id=\"T_c7bfb_row12_col1\" class=\"data row12 col1\" >10.70</td>\n",
       "      <td id=\"T_c7bfb_row12_col2\" class=\"data row12 col2\" >10.50</td>\n",
       "      <td id=\"T_c7bfb_row12_col3\" class=\"data row12 col3\" >1.90%</td>\n",
       "      <td id=\"T_c7bfb_row12_col4\" class=\"data row12 col4\" >Better</td>\n",
       "      <td id=\"T_c7bfb_row12_col5\" class=\"data row12 col5\" >SET999</td>\n",
       "    </tr>\n",
       "    <tr>\n",
       "      <th id=\"T_c7bfb_level0_row13\" class=\"row_heading level0 row13\" >23</th>\n",
       "      <td id=\"T_c7bfb_row13_col0\" class=\"data row13 col0\" >TMT</td>\n",
       "      <td id=\"T_c7bfb_row13_col1\" class=\"data row13 col1\" >7.80</td>\n",
       "      <td id=\"T_c7bfb_row13_col2\" class=\"data row13 col2\" >7.65</td>\n",
       "      <td id=\"T_c7bfb_row13_col3\" class=\"data row13 col3\" >1.96%</td>\n",
       "      <td id=\"T_c7bfb_row13_col4\" class=\"data row13 col4\" >Better</td>\n",
       "      <td id=\"T_c7bfb_row13_col5\" class=\"data row13 col5\" >SET999</td>\n",
       "    </tr>\n",
       "    <tr>\n",
       "      <th id=\"T_c7bfb_level0_row14\" class=\"row_heading level0 row14\" >18</th>\n",
       "      <td id=\"T_c7bfb_row14_col0\" class=\"data row14 col0\" >SCCC</td>\n",
       "      <td id=\"T_c7bfb_row14_col1\" class=\"data row14 col1\" >153.50</td>\n",
       "      <td id=\"T_c7bfb_row14_col2\" class=\"data row14 col2\" >149.50</td>\n",
       "      <td id=\"T_c7bfb_row14_col3\" class=\"data row14 col3\" >2.68%</td>\n",
       "      <td id=\"T_c7bfb_row14_col4\" class=\"data row14 col4\" >Better</td>\n",
       "      <td id=\"T_c7bfb_row14_col5\" class=\"data row14 col5\" >SET999</td>\n",
       "    </tr>\n",
       "    <tr>\n",
       "      <th id=\"T_c7bfb_level0_row15\" class=\"row_heading level0 row15\" >13</th>\n",
       "      <td id=\"T_c7bfb_row15_col0\" class=\"data row15 col0\" >NER</td>\n",
       "      <td id=\"T_c7bfb_row15_col1\" class=\"data row15 col1\" >6.35</td>\n",
       "      <td id=\"T_c7bfb_row15_col2\" class=\"data row15 col2\" >5.90</td>\n",
       "      <td id=\"T_c7bfb_row15_col3\" class=\"data row15 col3\" >7.63%</td>\n",
       "      <td id=\"T_c7bfb_row15_col4\" class=\"data row15 col4\" >Better</td>\n",
       "      <td id=\"T_c7bfb_row15_col5\" class=\"data row15 col5\" >SET999</td>\n",
       "    </tr>\n",
       "  </tbody>\n",
       "</table>\n"
      ],
      "text/plain": [
       "<pandas.io.formats.style.Styler at 0x183b6ce4f10>"
      ]
     },
     "execution_count": 24,
     "metadata": {},
     "output_type": "execute_result"
    }
   ],
   "source": [
    "set999 = trend2.mrkt.str.contains('SET999')\n",
    "flt_set999 = trend2[set999]\n",
    "flt_set999[cols].sort_values(by=['percent','name'],ascending=[True,True]).style.format(format_dict)"
   ]
  },
  {
   "cell_type": "code",
   "execution_count": 25,
   "metadata": {},
   "outputs": [
    {
     "data": {
      "text/html": [
       "<style type=\"text/css\">\n",
       "</style>\n",
       "<table id=\"T_15018_\">\n",
       "  <thead>\n",
       "    <tr>\n",
       "      <th class=\"blank level0\" >&nbsp;</th>\n",
       "      <th class=\"col_heading level0 col0\" >perform</th>\n",
       "    </tr>\n",
       "  </thead>\n",
       "  <tbody>\n",
       "    <tr>\n",
       "      <th id=\"T_15018_level0_row0\" class=\"row_heading level0 row0\" >Better</th>\n",
       "      <td id=\"T_15018_row0_col0\" class=\"data row0 col0\" >68.75%</td>\n",
       "    </tr>\n",
       "    <tr>\n",
       "      <th id=\"T_15018_level0_row1\" class=\"row_heading level0 row1\" >No Change</th>\n",
       "      <td id=\"T_15018_row1_col0\" class=\"data row1 col0\" >25.00%</td>\n",
       "    </tr>\n",
       "    <tr>\n",
       "      <th id=\"T_15018_level0_row2\" class=\"row_heading level0 row2\" >Worse</th>\n",
       "      <td id=\"T_15018_row2_col0\" class=\"data row2 col0\" >6.25%</td>\n",
       "    </tr>\n",
       "  </tbody>\n",
       "</table>\n"
      ],
      "text/plain": [
       "<pandas.io.formats.style.Styler at 0x183b6cc8be0>"
      ]
     },
     "execution_count": 25,
     "metadata": {},
     "output_type": "execute_result"
    }
   ],
   "source": [
    "flt_set999[cols].perform.value_counts(normalize=True).to_frame().style.format('{:.2%}')"
   ]
  },
  {
   "cell_type": "code",
   "execution_count": null,
   "metadata": {},
   "outputs": [],
   "source": [
    "setmai = trend2.mrkt.str.contains('mai')\n",
    "flt_setmai = trend2[setmai]\n",
    "flt_setmai[cols].sort_values(by=['percent','name'],ascending=[True,True]).style.format(format_dict)"
   ]
  },
  {
   "cell_type": "code",
   "execution_count": null,
   "metadata": {},
   "outputs": [],
   "source": [
    "flt_setmai[cols].perform.value_counts(normalize=True).to_frame().style.format('{:.2%}')"
   ]
  },
  {
   "cell_type": "code",
   "execution_count": null,
   "metadata": {},
   "outputs": [],
   "source": []
  }
 ],
 "metadata": {
  "anaconda-cloud": {},
  "kernelspec": {
   "display_name": "Python 3 (ipykernel)",
   "language": "python",
   "name": "python3"
  },
  "language_info": {
   "codemirror_mode": {
    "name": "ipython",
    "version": 3
   },
   "file_extension": ".py",
   "mimetype": "text/x-python",
   "name": "python",
   "nbconvert_exporter": "python",
   "pygments_lexer": "ipython3",
   "version": "3.8.11"
  }
 },
 "nbformat": 4,
 "nbformat_minor": 1
}
