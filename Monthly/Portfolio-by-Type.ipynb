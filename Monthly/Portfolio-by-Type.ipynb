{
 "cells": [
  {
   "cell_type": "code",
   "execution_count": 1,
   "metadata": {},
   "outputs": [
    {
     "data": {
      "application/javascript": [
       "require.config({\n",
       "    paths: {\n",
       "        datatables: 'https://cdn.datatables.net/1.10.19/js/jquery.dataTables.min',\n",
       "    }\n",
       "});\n",
       "\n",
       "$('head').append('<link rel=\"stylesheet\" type=\"text/css\" \\\n",
       "                href = \"https://cdn.datatables.net/1.10.19/css/jquery.dataTables.min.css\" > ');\n",
       "\n",
       "$('head').append('<style> table td { text-overflow: ellipsis; overflow: hidden; } </style>');\n",
       "\n",
       "$('head').append(`<script>\n",
       "function eval_functions(map_or_text) {\n",
       "    if (typeof map_or_text === \"string\") {\n",
       "        if (map_or_text.startsWith(\"function\")) {\n",
       "            try {\n",
       "                // Note: parenthesis are required around the whole expression for eval to return a value!\n",
       "                // See https://stackoverflow.com/a/7399078/911298.\n",
       "                //\n",
       "                // eval(\"local_fun = \" + map_or_text) would fail because local_fun is not declared\n",
       "                // (using var, let or const would work, but it would only be declared in the local scope\n",
       "                // and therefore the value could not be retrieved).\n",
       "                const func = eval(\"(\" + map_or_text + \")\");\n",
       "                if (typeof func !== \"function\") {\n",
       "                    // Note: backquotes are super convenient!\n",
       "                    // https://developer.mozilla.org/en-US/docs/Web/JavaScript/Reference/Template_literals\n",
       "                    console.error(\"Evaluated expression \" + map_or_text + \" is not a function (type is \" + typeof func + \")\");\n",
       "                    return map_or_text;\n",
       "                }\n",
       "                // Return the function\n",
       "                return func;\n",
       "            } catch (e) {\n",
       "                // Make sure to print the error with a second argument to console.error().\n",
       "                console.error(\"itables was not able to parse \" + map_or_text, e);\n",
       "            }\n",
       "        }\n",
       "    } else if (typeof map_or_text === \"object\") {\n",
       "        if (map_or_text instanceof Array) {\n",
       "            // Note: \"var\" is now superseded by \"let\" and \"const\".\n",
       "            // https://medium.com/javascript-scene/javascript-es6-var-let-or-const-ba58b8dcde75\n",
       "            const result = [];\n",
       "            // Note: \"for of\" is the best way to iterate through an iterable.\n",
       "            // https://developer.mozilla.org/en-US/docs/Web/JavaScript/Reference/Statements/for...of\n",
       "            for (const item of map_or_text) {\n",
       "                result.push(eval_functions(item));\n",
       "            }\n",
       "            return result;\n",
       "\n",
       "            // Alternatively, more functional approach in one line:\n",
       "            // return map_or_text.map(eval_functions);\n",
       "        } else {\n",
       "            const result = {};\n",
       "            // Object.keys() is safer than \"for in\" because otherwise you might have keys\n",
       "            // that aren't defined in the object itself.\n",
       "            //\n",
       "            // See https://stackoverflow.com/a/684692/911298.\n",
       "            for (const item of Object.keys(map_or_text)) {\n",
       "                result[item] = eval_functions(map_or_text[item]);\n",
       "            }\n",
       "            return result;\n",
       "        }\n",
       "    }\n",
       "\n",
       "    return map_or_text;\n",
       "}\n",
       "\n",
       "</` + 'script>');"
      ],
      "text/plain": [
       "<IPython.core.display.Javascript object>"
      ]
     },
     "metadata": {},
     "output_type": "display_data"
    }
   ],
   "source": [
    "%matplotlib inline\n",
    "import matplotlib.pyplot as plt\n",
    "import pandas as pd\n",
    "from sqlalchemy import create_engine\n",
    "from datetime import date, timedelta\n",
    "import calendar\n",
    "\n",
    "from itables import init_notebook_mode\n",
    "init_notebook_mode(all_interactive=True)\n",
    "\n",
    "data_path = \"../data/\"\n",
    "csv_path = \"\\\\Users\\\\User\\\\iCloudDrive\\\\\"\n",
    "box_path = \"\\\\Users\\\\User\\\\Dropbox\\\\\"\n",
    "one_path = \"\\\\Users\\\\User\\\\OneDrive\\\\Documents\\\\Data\\\\\"\n",
    "osd_path = \"\\\\Users\\\\User\\\\OneDrive\\\\Documents\\\\obsidian-git-sync\\\\Data\\\\\"\n",
    "\n",
    "pd.options.display.max_rows = 38\n",
    "\n",
    "engine = create_engine(\"mysql+pymysql://root:@localhost:3306/stock\")\n",
    "const = engine.connect()"
   ]
  },
  {
   "cell_type": "code",
   "execution_count": 2,
   "metadata": {},
   "outputs": [
    {
     "data": {
      "text/plain": [
       "(datetime.date(2023, 5, 1), datetime.date(2023, 5, 31))"
      ]
     },
     "execution_count": 2,
     "metadata": {},
     "output_type": "execute_result"
    }
   ],
   "source": [
    "bom = date(2023, 5, 1)\n",
    "eom = bom.replace(day=calendar.monthrange(bom.year, bom.month)[1])\n",
    "bom, eom"
   ]
  },
  {
   "cell_type": "code",
   "execution_count": 3,
   "metadata": {},
   "outputs": [],
   "source": [
    "#eom = date(2023, 4, 28)"
   ]
  },
  {
   "cell_type": "code",
   "execution_count": 3,
   "metadata": {},
   "outputs": [
    {
     "name": "stdout",
     "output_type": "stream",
     "text": [
      "\n",
      "SELECT B.name, B.date, volbuy, volbuy * B.price AS cost_amount, \n",
      "volbuy * P.price AS market_value, period \n",
      "FROM buy B \n",
      "JOIN price P USING (name) \n",
      "WHERE active=1 AND P.date = \"2023-05-31\" \n",
      "ORDER BY period, B.name\n"
     ]
    },
    {
     "data": {
      "text/html": [
       "<div><table id=\"46a0e476-a02a-4cd2-a135-e692fd9ea84b\" class=\"display\"><thead>\n",
       "    <tr style=\"text-align: right;\">\n",
       "      <th></th>\n",
       "      <th>date</th>\n",
       "      <th>volbuy</th>\n",
       "      <th>cost_amount</th>\n",
       "      <th>market_value</th>\n",
       "      <th>period</th>\n",
       "    </tr>\n",
       "    <tr>\n",
       "      <th>name</th>\n",
       "      <th></th>\n",
       "      <th></th>\n",
       "      <th></th>\n",
       "      <th></th>\n",
       "      <th></th>\n",
       "    </tr>\n",
       "  </thead></table>\n",
       "<script type=\"text/javascript\">\n",
       "require([\"datatables\"], function (datatables) {\n",
       "    $(document).ready(function () {\n",
       "        var dt_args = {\"columnDefs\": [{\"width\": \"70px\", \"targets\": \"_all\"}], \"data\": [[\"JASIF\", \"2018-05-17\", 130000.0, 1300000.0, 903500.0, \"1\"], [\"MCS\", \"2016-09-20\", 78000.0, 1177800.0, 553800.0, \"1\"], [\"PTTGC\", \"2021-03-17\", 6000.0, 388500.0, 211500.0, \"1\"], [\"TMT\", \"2021-08-16\", 36000.0, 367200.0, 270000.0, \"1\"], [\"ASK\", \"2023-02-16\", 4500.0, 139500.0, 127125.0, \"2\"], [\"ASP\", \"2022-03-07\", 30000.0, 114000.0, 86400.0, \"2\"], [\"BANPU\", \"2023-01-06\", 30000.0, 345000.0, 247500.0, \"2\"], [\"CPNREIT\", \"2022-08-16\", 60000.0, 1053000.0, 768000.0, \"2\"], [\"DIF\", \"2020-08-01\", 30000.0, 441000.0, 369000.0, \"2\"], [\"GVREIT\", \"2022-08-24\", 30000.0, 267000.0, 271500.0, \"2\"], [\"NER\", \"2021-09-01\", 32000.0, 224000.0, 145280.0, \"2\"], [\"ORI\", \"2022-04-07\", 48000.0, 525600.0, 518400.0, \"2\"], [\"RCL\", \"2021-11-08\", 27000.0, 1046250.0, 648000.0, \"2\"], [\"SENA\", \"2022-03-29\", 105000.0, 470400.0, 329700.0, \"2\"], [\"STA\", \"2021-06-15\", 5000.0, 200000.0, 95000.0, \"2\"], [\"TFFIF\", \"2023-05-19\", 20000.0, 153000.0, 151000.0, \"2\"], [\"WHAIR\", \"2021-10-11\", 50000.0, 435000.0, 357500.0, \"2\"], [\"WHART\", \"2022-01-05\", 30000.0, 351000.0, 330000.0, \"2\"], [\"IVL\", \"2022-08-29\", 7200.0, 288000.0, 228600.0, \"3\"], [\"JMT\", \"2023-01-26\", 4200.0, 233100.0, 180600.0, \"3\"], [\"SCC\", \"2021-09-20\", 600.0, 243000.0, 191400.0, \"3\"], [\"SINGER\", \"2023-01-19\", 6000.0, 148800.0, 68400.0, \"3\"], [\"BCH\", \"2021-09-07\", 15000.0, 321900.0, 277500.0, \"4\"], [\"JMART\", \"2023-01-20\", 6000.0, 207000.0, 122400.0, \"4\"], [\"KCE\", \"2021-10-07\", 10000.0, 772500.0, 390000.0, \"4\"], [\"SYNEX\", \"2022-01-07\", 15000.0, 430500.0, 199500.0, \"4\"]]};\n",
       "        dt_args = eval_functions(dt_args);\n",
       "        table = $('#46a0e476-a02a-4cd2-a135-e692fd9ea84b').DataTable(dt_args);\n",
       "    });\n",
       "})\n",
       "</script>\n",
       "</div>\n"
      ],
      "text/plain": [
       "              date    volbuy  cost_amount  market_value period\n",
       "name                                                          \n",
       "JASIF   2018-05-17  130000.0    1300000.0      903500.0      1\n",
       "MCS     2016-09-20   78000.0    1177800.0      553800.0      1\n",
       "PTTGC   2021-03-17    6000.0     388500.0      211500.0      1\n",
       "TMT     2021-08-16   36000.0     367200.0      270000.0      1\n",
       "ASK     2023-02-16    4500.0     139500.0      127125.0      2\n",
       "ASP     2022-03-07   30000.0     114000.0       86400.0      2\n",
       "BANPU   2023-01-06   30000.0     345000.0      247500.0      2\n",
       "CPNREIT 2022-08-16   60000.0    1053000.0      768000.0      2\n",
       "DIF     2020-08-01   30000.0     441000.0      369000.0      2\n",
       "GVREIT  2022-08-24   30000.0     267000.0      271500.0      2\n",
       "NER     2021-09-01   32000.0     224000.0      145280.0      2\n",
       "ORI     2022-04-07   48000.0     525600.0      518400.0      2\n",
       "RCL     2021-11-08   27000.0    1046250.0      648000.0      2\n",
       "SENA    2022-03-29  105000.0     470400.0      329700.0      2\n",
       "STA     2021-06-15    5000.0     200000.0       95000.0      2\n",
       "TFFIF   2023-05-19   20000.0     153000.0      151000.0      2\n",
       "WHAIR   2021-10-11   50000.0     435000.0      357500.0      2\n",
       "WHART   2022-01-05   30000.0     351000.0      330000.0      2\n",
       "IVL     2022-08-29    7200.0     288000.0      228600.0      3\n",
       "JMT     2023-01-26    4200.0     233100.0      180600.0      3\n",
       "SCC     2021-09-20     600.0     243000.0      191400.0      3\n",
       "SINGER  2023-01-19    6000.0     148800.0       68400.0      3\n",
       "BCH     2021-09-07   15000.0     321900.0      277500.0      4\n",
       "JMART   2023-01-20    6000.0     207000.0      122400.0      4\n",
       "KCE     2021-10-07   10000.0     772500.0      390000.0      4\n",
       "SYNEX   2022-01-07   15000.0     430500.0      199500.0      4"
      ]
     },
     "execution_count": 3,
     "metadata": {},
     "output_type": "execute_result"
    }
   ],
   "source": [
    "sql = \"\"\"\n",
    "SELECT B.name, B.date, volbuy, volbuy * B.price AS cost_amount, \n",
    "volbuy * P.price AS market_value, period \n",
    "FROM buy B \n",
    "JOIN price P USING (name) \n",
    "WHERE active=1 AND P.date = \"%s\" \n",
    "ORDER BY period, B.name\"\"\"\n",
    "sql = sql % eom\n",
    "print(sql)\n",
    "\n",
    "pd.options.display.max_rows = 30\n",
    "df = pd.read_sql(sql, const, parse_dates=[\"date\"], index_col=\"name\")\n",
    "df"
   ]
  },
  {
   "cell_type": "code",
   "execution_count": 4,
   "metadata": {},
   "outputs": [],
   "source": [
    "df_out = df"
   ]
  },
  {
   "cell_type": "code",
   "execution_count": 5,
   "metadata": {},
   "outputs": [],
   "source": [
    "file_name = \"stock-by-period.csv\"\n",
    "data_file = data_path + file_name\n",
    "output_file = csv_path + file_name\n",
    "box_file = box_path + file_name\n",
    "one_file = one_path + file_name\n",
    "osd_file = osd_path + file_name\n",
    "\n",
    "df_out.sort_values(by=['period','name'],ascending=[True,True]).to_csv(output_file)\n",
    "df_out.sort_values(by=['period','name'],ascending=[True,True]).to_csv(data_file)\n",
    "df_out.sort_values(by=['period','name'],ascending=[True,True]).to_csv(box_file)\n",
    "df_out.sort_values(by=['period','name'],ascending=[True,True]).to_csv(one_file)\n",
    "df_out.sort_values(by=['period','name'],ascending=[True,True]).to_csv(osd_file)"
   ]
  },
  {
   "cell_type": "code",
   "execution_count": 6,
   "metadata": {},
   "outputs": [
    {
     "data": {
      "text/html": [
       "<div><table id=\"8dc5926c-94d3-4bdb-bc33-61d8448a20da\" class=\"display\"><thead>\n",
       "    <tr style=\"text-align: right;\">\n",
       "      <th></th>\n",
       "      <th>cost_amount</th>\n",
       "      <th>market_value</th>\n",
       "    </tr>\n",
       "    <tr>\n",
       "      <th>period</th>\n",
       "      <th></th>\n",
       "      <th></th>\n",
       "    </tr>\n",
       "  </thead></table>\n",
       "<script type=\"text/javascript\">\n",
       "require([\"datatables\"], function (datatables) {\n",
       "    $(document).ready(function () {\n",
       "        var dt_args = {\"columnDefs\": [{\"width\": \"70px\", \"targets\": \"_all\"}], \"paging\": false, \"data\": [[\"disposal\", 3233500.0, 1938800.0], [\"high dividend\", 5764750.0, 4444405.0], [\"long term\", 912900.0, 669000.0], [\"short term\", 1731900.0, 989400.0]]};\n",
       "        dt_args = eval_functions(dt_args);\n",
       "        table = $('#8dc5926c-94d3-4bdb-bc33-61d8448a20da').DataTable(dt_args);\n",
       "    });\n",
       "})\n",
       "</script>\n",
       "</div>\n"
      ],
      "text/plain": [
       "               cost_amount  market_value\n",
       "period                                  \n",
       "disposal         3233500.0     1938800.0\n",
       "high dividend    5764750.0     4444405.0\n",
       "long term         912900.0      669000.0\n",
       "short term       1731900.0      989400.0"
      ]
     },
     "execution_count": 6,
     "metadata": {},
     "output_type": "execute_result"
    }
   ],
   "source": [
    "df.period.replace(\n",
    "    [\"1\", \"2\", \"3\", \"4\"],\n",
    "    [\"disposal\", \"high dividend\", \"long term\", \"short term\"],\n",
    "    inplace=True\n",
    ")\n",
    "grouped = df.groupby(by=\"period\")\n",
    "grouped[[\"cost_amount\", \"market_value\"]].sum()"
   ]
  },
  {
   "cell_type": "code",
   "execution_count": 7,
   "metadata": {},
   "outputs": [
    {
     "data": {
      "text/html": [
       "<div><table id=\"f4649df6-517a-4bba-961b-7d6b87eb9731\" class=\"display\"><thead>\n",
       "    <tr style=\"text-align: right;\">\n",
       "      <th></th>\n",
       "      <th>cost_amount</th>\n",
       "    </tr>\n",
       "    <tr>\n",
       "      <th>period</th>\n",
       "      <th></th>\n",
       "    </tr>\n",
       "  </thead></table>\n",
       "<script type=\"text/javascript\">\n",
       "require([\"datatables\"], function (datatables) {\n",
       "    $(document).ready(function () {\n",
       "        var dt_args = {\"columnDefs\": [{\"width\": \"70px\", \"targets\": \"_all\"}], \"paging\": false, \"data\": [[\"disposal\", 3233500.0], [\"high dividend\", 5764750.0], [\"long term\", 912900.0], [\"short term\", 1731900.0]]};\n",
       "        dt_args = eval_functions(dt_args);\n",
       "        table = $('#f4649df6-517a-4bba-961b-7d6b87eb9731').DataTable(dt_args);\n",
       "    });\n",
       "})\n",
       "</script>\n",
       "</div>\n"
      ],
      "text/plain": [
       "period\n",
       "disposal         3233500.0\n",
       "high dividend    5764750.0\n",
       "long term         912900.0\n",
       "short term       1731900.0\n",
       "Name: cost_amount, dtype: float64"
      ]
     },
     "execution_count": 7,
     "metadata": {},
     "output_type": "execute_result"
    }
   ],
   "source": [
    "cost_summary = grouped.sum().cost_amount\n",
    "cost_summary"
   ]
  },
  {
   "cell_type": "code",
   "execution_count": 8,
   "metadata": {},
   "outputs": [
    {
     "data": {
      "text/plain": [
       "pandas.core.series.Series"
      ]
     },
     "execution_count": 8,
     "metadata": {},
     "output_type": "execute_result"
    }
   ],
   "source": [
    "type(cost_summary)"
   ]
  },
  {
   "cell_type": "code",
   "execution_count": 9,
   "metadata": {
    "scrolled": true
   },
   "outputs": [
    {
     "name": "stdout",
     "output_type": "stream",
     "text": [
      "period\n",
      "disposal         3,233,500.00\n",
      "high dividend    5,764,750.00\n",
      "long term          912,900.00\n",
      "short term       1,731,900.00\n",
      "Name: cost_amount, dtype: object\n"
     ]
    }
   ],
   "source": [
    "# Define a formatting function that converts a float to a string with two decimal places\n",
    "def to_currency(x):\n",
    "    return '{:,.2f}'.format(x)\n",
    "\n",
    "# Apply the formatting function to the float column\n",
    "cost_format = cost_summary.apply(to_currency)\n",
    "\n",
    "print(cost_format)\n"
   ]
  },
  {
   "cell_type": "code",
   "execution_count": 10,
   "metadata": {},
   "outputs": [
    {
     "name": "stdout",
     "output_type": "stream",
     "text": [
      "cost_amount    11643050.0\n",
      "dtype: float64\n"
     ]
    }
   ],
   "source": [
    "#cost_amt = f'{sum(cost_summary):,.2f}'\n",
    "cost_amt = grouped[[\"cost_amount\"]].sum()\n",
    "print(cost_amt.sum())"
   ]
  },
  {
   "cell_type": "code",
   "execution_count": 11,
   "metadata": {
    "scrolled": true
   },
   "outputs": [
    {
     "data": {
      "image/png": "[encoded data removed]",
      "text/plain": [
       "<Figure size 864x864 with 1 Axes>"
      ]
     },
     "metadata": {},
     "output_type": "display_data"
    }
   ],
   "source": [
    "fig_path = \"../fig/Portfolio-at-Cost-2305.png\"\n",
    "with plt.style.context(\"my_custom_style\"):\n",
    "    plt.figure(figsize=(12, 12))\n",
    "    ax = cost_summary.plot.pie(\n",
    "        colors=[\"green\", \"red\", \"orange\", \"cyan\"], startangle=90, autopct=\"%1.1f%%\"\n",
    "    )\n",
    "    plt.savefig(fig_path)"
   ]
  },
  {
   "cell_type": "code",
   "execution_count": 12,
   "metadata": {},
   "outputs": [
    {
     "data": {
      "text/html": [
       "<div><table id=\"7e64f389-9a1b-4641-ae6d-ab2436048ecd\" class=\"display\"><thead>\n",
       "    <tr style=\"text-align: right;\">\n",
       "      <th></th>\n",
       "      <th>market_value</th>\n",
       "    </tr>\n",
       "    <tr>\n",
       "      <th>period</th>\n",
       "      <th></th>\n",
       "    </tr>\n",
       "  </thead></table>\n",
       "<script type=\"text/javascript\">\n",
       "require([\"datatables\"], function (datatables) {\n",
       "    $(document).ready(function () {\n",
       "        var dt_args = {\"columnDefs\": [{\"width\": \"70px\", \"targets\": \"_all\"}], \"paging\": false, \"data\": [[\"disposal\", 1938800.0], [\"high dividend\", 4444405.0], [\"long term\", 669000.0], [\"short term\", 989400.0]]};\n",
       "        dt_args = eval_functions(dt_args);\n",
       "        table = $('#7e64f389-9a1b-4641-ae6d-ab2436048ecd').DataTable(dt_args);\n",
       "    });\n",
       "})\n",
       "</script>\n",
       "</div>\n"
      ],
      "text/plain": [
       "period\n",
       "disposal         1938800.0\n",
       "high dividend    4444405.0\n",
       "long term         669000.0\n",
       "short term        989400.0\n",
       "Name: market_value, dtype: float64"
      ]
     },
     "execution_count": 12,
     "metadata": {},
     "output_type": "execute_result"
    }
   ],
   "source": [
    "market_summary = grouped.sum().market_value\n",
    "market_summary"
   ]
  },
  {
   "cell_type": "code",
   "execution_count": 13,
   "metadata": {},
   "outputs": [
    {
     "data": {
      "text/plain": [
       "8041605.0"
      ]
     },
     "execution_count": 13,
     "metadata": {},
     "output_type": "execute_result"
    }
   ],
   "source": [
    "sum(market_summary)"
   ]
  },
  {
   "cell_type": "code",
   "execution_count": 14,
   "metadata": {},
   "outputs": [
    {
     "data": {
      "image/png": "[encoded data removed]",
      "text/plain": [
       "<Figure size 864x864 with 1 Axes>"
      ]
     },
     "metadata": {},
     "output_type": "display_data"
    }
   ],
   "source": [
    "fig_path = \"../fig/Portfolio-at-Market-2305.png\"\n",
    "with plt.style.context(\"my_custom_style\"):\n",
    "    plt.figure(figsize=(12, 12))\n",
    "    ax = market_summary.plot.pie(\n",
    "        colors=[\"green\", \"red\", \"orange\", \"cyan\"], startangle=90, autopct=\"%1.1f%%\"\n",
    "    )\n",
    "    plt.savefig(fig_path)"
   ]
  },
  {
   "cell_type": "code",
   "execution_count": null,
   "metadata": {
    "collapsed": true
   },
   "outputs": [],
   "source": []
  }
 ],
 "metadata": {
  "anaconda-cloud": {},
  "kernelspec": {
   "display_name": "Python 3 (ipykernel)",
   "language": "python",
   "name": "python3"
  },
  "language_info": {
   "codemirror_mode": {
    "name": "ipython",
    "version": 3
   },
   "file_extension": ".py",
   "mimetype": "text/x-python",
   "name": "python",
   "nbconvert_exporter": "python",
   "pygments_lexer": "ipython3",
   "version": "3.8.11"
  }
 },
 "nbformat": 4,
 "nbformat_minor": 1
}
