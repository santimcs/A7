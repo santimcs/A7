{
 "cells": [
  {
   "cell_type": "code",
   "execution_count": 1,
   "metadata": {},
   "outputs": [
    {
     "data": {
      "text/plain": [
       "datetime.date(2023, 6, 30)"
      ]
     },
     "execution_count": 1,
     "metadata": {},
     "output_type": "execute_result"
    }
   ],
   "source": [
    "%matplotlib inline\n",
    "import matplotlib.pyplot as plt\n",
    "import pandas as pd\n",
    "from sqlalchemy import create_engine\n",
    "from datetime import date, timedelta\n",
    "import calendar\n",
    "\n",
    "from IPython.core.interactiveshell import InteractiveShell\n",
    "InteractiveShell.ast_node_interactivity = \"all\"\n",
    "\n",
    "from itables import show\n",
    "pd.options.display.max_rows = 31\n",
    "\n",
    "engine = create_engine(\"sqlite:///c:\\\\ruby\\\\expense\\\\db\\\\development.sqlite3\")\n",
    "conn = engine.connect()\n",
    "today = date.today()\n",
    "today"
   ]
  },
  {
   "cell_type": "code",
   "execution_count": 2,
   "metadata": {},
   "outputs": [
    {
     "data": {
      "text/html": [
       "<div>\n",
       "<style scoped>\n",
       "    .dataframe tbody tr th:only-of-type {\n",
       "        vertical-align: middle;\n",
       "    }\n",
       "\n",
       "    .dataframe tbody tr th {\n",
       "        vertical-align: top;\n",
       "    }\n",
       "\n",
       "    .dataframe thead th {\n",
       "        text-align: right;\n",
       "    }\n",
       "</style>\n",
       "<table border=\"1\" class=\"dataframe\">\n",
       "  <thead>\n",
       "    <tr style=\"text-align: right;\">\n",
       "      <th></th>\n",
       "      <th>id</th>\n",
       "      <th>item</th>\n",
       "      <th>kind</th>\n",
       "      <th>id</th>\n",
       "    </tr>\n",
       "  </thead>\n",
       "  <tbody>\n",
       "    <tr>\n",
       "      <th>0</th>\n",
       "      <td>1</td>\n",
       "      <td>Books &amp; Software</td>\n",
       "      <td>Edutainment</td>\n",
       "      <td>3</td>\n",
       "    </tr>\n",
       "    <tr>\n",
       "      <th>1</th>\n",
       "      <td>2</td>\n",
       "      <td>CCF</td>\n",
       "      <td>Luxury</td>\n",
       "      <td>5</td>\n",
       "    </tr>\n",
       "    <tr>\n",
       "      <th>2</th>\n",
       "      <td>3</td>\n",
       "      <td>Cigarette</td>\n",
       "      <td>Luxury</td>\n",
       "      <td>5</td>\n",
       "    </tr>\n",
       "    <tr>\n",
       "      <th>3</th>\n",
       "      <td>4</td>\n",
       "      <td>Food</td>\n",
       "      <td>Food</td>\n",
       "      <td>4</td>\n",
       "    </tr>\n",
       "    <tr>\n",
       "      <th>4</th>\n",
       "      <td>5</td>\n",
       "      <td>Fuel</td>\n",
       "      <td>Transportation</td>\n",
       "      <td>10</td>\n",
       "    </tr>\n",
       "  </tbody>\n",
       "</table>\n",
       "</div>"
      ],
      "text/plain": [
       "   id              item            kind  id\n",
       "0   1  Books & Software     Edutainment   3\n",
       "1   2               CCF          Luxury   5\n",
       "2   3         Cigarette          Luxury   5\n",
       "3   4              Food            Food   4\n",
       "4   5              Fuel  Transportation  10"
      ]
     },
     "execution_count": 2,
     "metadata": {},
     "output_type": "execute_result"
    }
   ],
   "source": [
    "sql = \"SELECT C.id, C.name AS item, G.name AS kind, G.id FROM categories C \\\n",
    "       JOIN groups G ON group_id = G.id\"\n",
    "df_c = pd.read_sql(sql, conn)\n",
    "df_c.head()"
   ]
  },
  {
   "cell_type": "code",
   "execution_count": 3,
   "metadata": {},
   "outputs": [
    {
     "name": "stdout",
     "output_type": "stream",
     "text": [
      "Month start: 2023-06-01\n",
      "Month end: 2023-06-30\n"
     ]
    }
   ],
   "source": [
    "# create a date object\n",
    "date = pd.to_datetime('2023-06-30')\n",
    "\n",
    "# find the beginning of the month for the given date\n",
    "bom = date.to_period('M').start_time\n",
    "eom = date.to_period('M').end_time\n",
    "bom = bom.date()\n",
    "eom = eom.date()\n",
    "print(f'Month start: {bom}')\n",
    "print(f'Month end: {eom}')"
   ]
  },
  {
   "cell_type": "code",
   "execution_count": 4,
   "metadata": {
    "scrolled": true
   },
   "outputs": [
    {
     "name": "stdout",
     "output_type": "stream",
     "text": [
      "\n",
      "SELECT date,amount,C.name AS item, G.name AS kind FROM transactions T \n",
      "JOIN categories C ON category_id = C.id \n",
      "JOIN groups G ON group_id = G.id \n",
      "WHERE date = \"2023-06-30\" \n",
      "ORDER BY amount DESC\n",
      "\n"
     ]
    },
    {
     "data": {
      "text/html": [
       "<div>\n",
       "<style scoped>\n",
       "    .dataframe tbody tr th:only-of-type {\n",
       "        vertical-align: middle;\n",
       "    }\n",
       "\n",
       "    .dataframe tbody tr th {\n",
       "        vertical-align: top;\n",
       "    }\n",
       "\n",
       "    .dataframe thead th {\n",
       "        text-align: right;\n",
       "    }\n",
       "</style>\n",
       "<table border=\"1\" class=\"dataframe\">\n",
       "  <thead>\n",
       "    <tr style=\"text-align: right;\">\n",
       "      <th></th>\n",
       "      <th>date</th>\n",
       "      <th>amount</th>\n",
       "      <th>item</th>\n",
       "      <th>kind</th>\n",
       "    </tr>\n",
       "  </thead>\n",
       "  <tbody>\n",
       "    <tr>\n",
       "      <th>0</th>\n",
       "      <td>2023-06-30</td>\n",
       "      <td>10000</td>\n",
       "      <td>Parent</td>\n",
       "      <td>Parent</td>\n",
       "    </tr>\n",
       "    <tr>\n",
       "      <th>1</th>\n",
       "      <td>2023-06-30</td>\n",
       "      <td>1050</td>\n",
       "      <td>MidJourney</td>\n",
       "      <td>Edutainment</td>\n",
       "    </tr>\n",
       "    <tr>\n",
       "      <th>2</th>\n",
       "      <td>2023-06-30</td>\n",
       "      <td>710</td>\n",
       "      <td>ChatGPT</td>\n",
       "      <td>Edutainment</td>\n",
       "    </tr>\n",
       "    <tr>\n",
       "      <th>3</th>\n",
       "      <td>2023-06-30</td>\n",
       "      <td>640</td>\n",
       "      <td>Internet Home</td>\n",
       "      <td>Communication</td>\n",
       "    </tr>\n",
       "    <tr>\n",
       "      <th>4</th>\n",
       "      <td>2023-06-30</td>\n",
       "      <td>540</td>\n",
       "      <td>Telephone Dtac</td>\n",
       "      <td>Communication</td>\n",
       "    </tr>\n",
       "    <tr>\n",
       "      <th>5</th>\n",
       "      <td>2023-06-30</td>\n",
       "      <td>420</td>\n",
       "      <td>Netflix</td>\n",
       "      <td>Edutainment</td>\n",
       "    </tr>\n",
       "    <tr>\n",
       "      <th>6</th>\n",
       "      <td>2023-06-30</td>\n",
       "      <td>170</td>\n",
       "      <td>Google</td>\n",
       "      <td>Edutainment</td>\n",
       "    </tr>\n",
       "    <tr>\n",
       "      <th>7</th>\n",
       "      <td>2023-06-30</td>\n",
       "      <td>150</td>\n",
       "      <td>Apple</td>\n",
       "      <td>Edutainment</td>\n",
       "    </tr>\n",
       "    <tr>\n",
       "      <th>8</th>\n",
       "      <td>2023-06-30</td>\n",
       "      <td>40</td>\n",
       "      <td>Apple</td>\n",
       "      <td>Edutainment</td>\n",
       "    </tr>\n",
       "  </tbody>\n",
       "</table>\n",
       "</div>"
      ],
      "text/plain": [
       "         date  amount            item           kind\n",
       "0  2023-06-30   10000          Parent         Parent\n",
       "1  2023-06-30    1050      MidJourney    Edutainment\n",
       "2  2023-06-30     710         ChatGPT    Edutainment\n",
       "3  2023-06-30     640   Internet Home  Communication\n",
       "4  2023-06-30     540  Telephone Dtac  Communication\n",
       "5  2023-06-30     420         Netflix    Edutainment\n",
       "6  2023-06-30     170          Google    Edutainment\n",
       "7  2023-06-30     150           Apple    Edutainment\n",
       "8  2023-06-30      40           Apple    Edutainment"
      ]
     },
     "execution_count": 4,
     "metadata": {},
     "output_type": "execute_result"
    }
   ],
   "source": [
    "sql = \"\"\"\n",
    "SELECT date,amount,C.name AS item, G.name AS kind FROM transactions T \n",
    "JOIN categories C ON category_id = C.id \n",
    "JOIN groups G ON group_id = G.id \n",
    "WHERE date = \"%s\" \n",
    "ORDER BY amount DESC\n",
    "\"\"\"\n",
    "sql = sql % eom\n",
    "print(sql)\n",
    "\n",
    "df = pd.read_sql(sql, conn)\n",
    "df"
   ]
  },
  {
   "cell_type": "code",
   "execution_count": 5,
   "metadata": {},
   "outputs": [
    {
     "data": {
      "text/plain": [
       "13720"
      ]
     },
     "execution_count": 5,
     "metadata": {},
     "output_type": "execute_result"
    }
   ],
   "source": [
    "df.amount.sum()"
   ]
  },
  {
   "cell_type": "code",
   "execution_count": 6,
   "metadata": {},
   "outputs": [
    {
     "name": "stdout",
     "output_type": "stream",
     "text": [
      "\n",
      "SELECT date,amount,C.name AS item, G.name AS kind FROM transactions T \n",
      "JOIN categories C ON category_id = C.id \n",
      "JOIN groups G ON group_id = G.id \n",
      "WHERE date = \"2023-06-30\" \n",
      "ORDER BY amount DESC\n",
      "\n"
     ]
    },
    {
     "data": {
      "text/html": [
       "<div>\n",
       "<style scoped>\n",
       "    .dataframe tbody tr th:only-of-type {\n",
       "        vertical-align: middle;\n",
       "    }\n",
       "\n",
       "    .dataframe tbody tr th {\n",
       "        vertical-align: top;\n",
       "    }\n",
       "\n",
       "    .dataframe thead th {\n",
       "        text-align: right;\n",
       "    }\n",
       "</style>\n",
       "<table border=\"1\" class=\"dataframe\">\n",
       "  <thead>\n",
       "    <tr style=\"text-align: right;\">\n",
       "      <th></th>\n",
       "      <th>date</th>\n",
       "      <th>amount</th>\n",
       "      <th>item</th>\n",
       "      <th>kind</th>\n",
       "    </tr>\n",
       "  </thead>\n",
       "  <tbody>\n",
       "    <tr>\n",
       "      <th>0</th>\n",
       "      <td>2023-06-30</td>\n",
       "      <td>10000</td>\n",
       "      <td>Parent</td>\n",
       "      <td>Parent</td>\n",
       "    </tr>\n",
       "    <tr>\n",
       "      <th>1</th>\n",
       "      <td>2023-06-30</td>\n",
       "      <td>1050</td>\n",
       "      <td>MidJourney</td>\n",
       "      <td>Edutainment</td>\n",
       "    </tr>\n",
       "    <tr>\n",
       "      <th>2</th>\n",
       "      <td>2023-06-30</td>\n",
       "      <td>710</td>\n",
       "      <td>ChatGPT</td>\n",
       "      <td>Edutainment</td>\n",
       "    </tr>\n",
       "    <tr>\n",
       "      <th>3</th>\n",
       "      <td>2023-06-30</td>\n",
       "      <td>640</td>\n",
       "      <td>Internet Home</td>\n",
       "      <td>Communication</td>\n",
       "    </tr>\n",
       "    <tr>\n",
       "      <th>4</th>\n",
       "      <td>2023-06-30</td>\n",
       "      <td>540</td>\n",
       "      <td>Telephone Dtac</td>\n",
       "      <td>Communication</td>\n",
       "    </tr>\n",
       "    <tr>\n",
       "      <th>5</th>\n",
       "      <td>2023-06-30</td>\n",
       "      <td>420</td>\n",
       "      <td>Netflix</td>\n",
       "      <td>Edutainment</td>\n",
       "    </tr>\n",
       "    <tr>\n",
       "      <th>6</th>\n",
       "      <td>2023-06-30</td>\n",
       "      <td>170</td>\n",
       "      <td>Google</td>\n",
       "      <td>Edutainment</td>\n",
       "    </tr>\n",
       "    <tr>\n",
       "      <th>7</th>\n",
       "      <td>2023-06-30</td>\n",
       "      <td>150</td>\n",
       "      <td>Apple</td>\n",
       "      <td>Edutainment</td>\n",
       "    </tr>\n",
       "    <tr>\n",
       "      <th>8</th>\n",
       "      <td>2023-06-30</td>\n",
       "      <td>40</td>\n",
       "      <td>Apple</td>\n",
       "      <td>Edutainment</td>\n",
       "    </tr>\n",
       "  </tbody>\n",
       "</table>\n",
       "</div>"
      ],
      "text/plain": [
       "         date  amount            item           kind\n",
       "0  2023-06-30   10000          Parent         Parent\n",
       "1  2023-06-30    1050      MidJourney    Edutainment\n",
       "2  2023-06-30     710         ChatGPT    Edutainment\n",
       "3  2023-06-30     640   Internet Home  Communication\n",
       "4  2023-06-30     540  Telephone Dtac  Communication\n",
       "5  2023-06-30     420         Netflix    Edutainment\n",
       "6  2023-06-30     170          Google    Edutainment\n",
       "7  2023-06-30     150           Apple    Edutainment\n",
       "8  2023-06-30      40           Apple    Edutainment"
      ]
     },
     "execution_count": 6,
     "metadata": {},
     "output_type": "execute_result"
    }
   ],
   "source": [
    "sql = \"\"\"\n",
    "SELECT date,amount,C.name AS item, G.name AS kind FROM transactions T \n",
    "JOIN categories C ON category_id = C.id \n",
    "JOIN groups G ON group_id = G.id \n",
    "WHERE date = \"%s\" \n",
    "ORDER BY amount DESC\n",
    "\"\"\"\n",
    "sql = sql % (eom)\n",
    "print(sql)\n",
    "\n",
    "df_eom = pd.read_sql(sql, conn)\n",
    "df_eom"
   ]
  },
  {
   "cell_type": "code",
   "execution_count": 7,
   "metadata": {},
   "outputs": [
    {
     "name": "stdout",
     "output_type": "stream",
     "text": [
      "\n",
      "SELECT date,amount,C.name AS item, G.name AS kind FROM transactions T \n",
      "JOIN categories C ON category_id = C.id \n",
      "JOIN groups G ON group_id = G.id \n",
      "WHERE date BETWEEN \"2023-06-01\" AND \"2023-06-30\" \n",
      "ORDER BY date\n",
      "\n"
     ]
    },
    {
     "data": {
      "text/html": [
       "<div>\n",
       "<style scoped>\n",
       "    .dataframe tbody tr th:only-of-type {\n",
       "        vertical-align: middle;\n",
       "    }\n",
       "\n",
       "    .dataframe tbody tr th {\n",
       "        vertical-align: top;\n",
       "    }\n",
       "\n",
       "    .dataframe thead th {\n",
       "        text-align: right;\n",
       "    }\n",
       "</style>\n",
       "<table border=\"1\" class=\"dataframe\">\n",
       "  <thead>\n",
       "    <tr style=\"text-align: right;\">\n",
       "      <th></th>\n",
       "      <th>date</th>\n",
       "      <th>amount</th>\n",
       "      <th>item</th>\n",
       "      <th>kind</th>\n",
       "    </tr>\n",
       "  </thead>\n",
       "  <tbody>\n",
       "    <tr>\n",
       "      <th>0</th>\n",
       "      <td>2023-06-03</td>\n",
       "      <td>100</td>\n",
       "      <td>Food</td>\n",
       "      <td>Food</td>\n",
       "    </tr>\n",
       "    <tr>\n",
       "      <th>1</th>\n",
       "      <td>2023-06-03</td>\n",
       "      <td>3740</td>\n",
       "      <td>Pets</td>\n",
       "      <td>Pets</td>\n",
       "    </tr>\n",
       "    <tr>\n",
       "      <th>2</th>\n",
       "      <td>2023-06-05</td>\n",
       "      <td>100</td>\n",
       "      <td>Food</td>\n",
       "      <td>Food</td>\n",
       "    </tr>\n",
       "    <tr>\n",
       "      <th>3</th>\n",
       "      <td>2023-06-05</td>\n",
       "      <td>9150</td>\n",
       "      <td>Pets</td>\n",
       "      <td>Pets</td>\n",
       "    </tr>\n",
       "    <tr>\n",
       "      <th>4</th>\n",
       "      <td>2023-06-06</td>\n",
       "      <td>90</td>\n",
       "      <td>Food</td>\n",
       "      <td>Food</td>\n",
       "    </tr>\n",
       "  </tbody>\n",
       "</table>\n",
       "</div>"
      ],
      "text/plain": [
       "         date  amount  item  kind\n",
       "0  2023-06-03     100  Food  Food\n",
       "1  2023-06-03    3740  Pets  Pets\n",
       "2  2023-06-05     100  Food  Food\n",
       "3  2023-06-05    9150  Pets  Pets\n",
       "4  2023-06-06      90  Food  Food"
      ]
     },
     "execution_count": 7,
     "metadata": {},
     "output_type": "execute_result"
    }
   ],
   "source": [
    "sql = \"\"\"\n",
    "SELECT date,amount,C.name AS item, G.name AS kind FROM transactions T \n",
    "JOIN categories C ON category_id = C.id \n",
    "JOIN groups G ON group_id = G.id \n",
    "WHERE date BETWEEN \"%s\" AND \"%s\" \n",
    "ORDER BY date\n",
    "\"\"\"\n",
    "sql = sql % (bom, eom)\n",
    "print(sql)\n",
    "\n",
    "df_t = pd.read_sql(sql, conn)\n",
    "df_t.head()"
   ]
  },
  {
   "cell_type": "code",
   "execution_count": 8,
   "metadata": {},
   "outputs": [
    {
     "data": {
      "text/plain": [
       "item\n",
       "Apple               190\n",
       "ChatGPT             710\n",
       "Food               2170\n",
       "Fuel               1300\n",
       "Google              170\n",
       "Internet Home       640\n",
       "Merit Making       3000\n",
       "MidJourney         1050\n",
       "Netflix             420\n",
       "Parent            10000\n",
       "Pets              22900\n",
       "Telephone Dtac      540\n",
       "Name: amount, dtype: int64"
      ]
     },
     "execution_count": 8,
     "metadata": {},
     "output_type": "execute_result"
    }
   ],
   "source": [
    "grouped = df_t.groupby(\"item\")\n",
    "grouped['amount'].sum()"
   ]
  },
  {
   "cell_type": "code",
   "execution_count": 9,
   "metadata": {
    "scrolled": true
   },
   "outputs": [
    {
     "data": {
      "text/plain": [
       "kind\n",
       "Communication      1180\n",
       "Edutainment        2540\n",
       "Food               2170\n",
       "Others             3000\n",
       "Parent            10000\n",
       "Pets              22900\n",
       "Transportation     1300\n",
       "Name: amount, dtype: int64"
      ]
     },
     "execution_count": 9,
     "metadata": {},
     "output_type": "execute_result"
    }
   ],
   "source": [
    "grouped = df_t.groupby(\"kind\")\n",
    "grouped['amount'].sum()"
   ]
  },
  {
   "cell_type": "code",
   "execution_count": 10,
   "metadata": {},
   "outputs": [
    {
     "data": {
      "text/plain": [
       "43090"
      ]
     },
     "execution_count": 10,
     "metadata": {},
     "output_type": "execute_result"
    }
   ],
   "source": [
    "expense = grouped.amount.sum()\n",
    "sum(expense)"
   ]
  },
  {
   "cell_type": "code",
   "execution_count": 11,
   "metadata": {},
   "outputs": [
    {
     "data": {
      "text/plain": [
       "<Figure size 864x864 with 0 Axes>"
      ]
     },
     "execution_count": 11,
     "metadata": {},
     "output_type": "execute_result"
    },
    {
     "data": {
      "image/png": "[encoded data removed]",
      "text/plain": [
       "<Figure size 864x864 with 1 Axes>"
      ]
     },
     "metadata": {},
     "output_type": "display_data"
    }
   ],
   "source": [
    "fig_path = \"../fig/Expense-2306.png\"\n",
    "with plt.style.context(\"my_custom_style\"):\n",
    "    plt.figure(figsize=(12, 12))\n",
    "    ax = expense.plot.pie(\n",
    "        colors=[\"green\", \"red\", \"orange\", \"cyan\", \"yellow\", \"blue\", \"gold\"],\n",
    "        startangle=90,\n",
    "        autopct=\"%1.1f%%\",\n",
    "    )\n",
    "    plt.savefig(fig_path)"
   ]
  },
  {
   "cell_type": "code",
   "execution_count": 12,
   "metadata": {},
   "outputs": [],
   "source": [
    "expense.to_csv(\"../data/expense-2306.csv\")"
   ]
  },
  {
   "cell_type": "code",
   "execution_count": 13,
   "metadata": {},
   "outputs": [
    {
     "name": "stdout",
     "output_type": "stream",
     "text": [
      "\n",
      "SELECT date,amount,C.name AS item, G.name AS kind FROM transactions T \n",
      "JOIN categories C ON category_id = C.id \n",
      "JOIN groups G ON group_id = G.id \n",
      "WHERE date = \"2023-06-30\" \n",
      "ORDER BY date\n",
      "\n"
     ]
    }
   ],
   "source": [
    "sql = \"\"\"\n",
    "SELECT date,amount,C.name AS item, G.name AS kind FROM transactions T \n",
    "JOIN categories C ON category_id = C.id \n",
    "JOIN groups G ON group_id = G.id \n",
    "WHERE date = \"%s\" \n",
    "ORDER BY date\n",
    "\"\"\"\n",
    "sql = sql % (eom)\n",
    "print(sql)"
   ]
  },
  {
   "cell_type": "code",
   "execution_count": 14,
   "metadata": {},
   "outputs": [
    {
     "data": {
      "application/javascript": [
       "require.config({\n",
       "    paths: {\n",
       "        datatables: 'https://cdn.datatables.net/1.10.19/js/jquery.dataTables.min',\n",
       "    }\n",
       "});\n",
       "\n",
       "$('head').append('<link rel=\"stylesheet\" type=\"text/css\" \\\n",
       "                href = \"https://cdn.datatables.net/1.10.19/css/jquery.dataTables.min.css\" > ');\n",
       "\n",
       "$('head').append('<style> table td { text-overflow: ellipsis; overflow: hidden; } </style>');\n",
       "\n",
       "$('head').append(`<script>\n",
       "function eval_functions(map_or_text) {\n",
       "    if (typeof map_or_text === \"string\") {\n",
       "        if (map_or_text.startsWith(\"function\")) {\n",
       "            try {\n",
       "                // Note: parenthesis are required around the whole expression for eval to return a value!\n",
       "                // See https://stackoverflow.com/a/7399078/911298.\n",
       "                //\n",
       "                // eval(\"local_fun = \" + map_or_text) would fail because local_fun is not declared\n",
       "                // (using var, let or const would work, but it would only be declared in the local scope\n",
       "                // and therefore the value could not be retrieved).\n",
       "                const func = eval(\"(\" + map_or_text + \")\");\n",
       "                if (typeof func !== \"function\") {\n",
       "                    // Note: backquotes are super convenient!\n",
       "                    // https://developer.mozilla.org/en-US/docs/Web/JavaScript/Reference/Template_literals\n",
       "                    console.error(\"Evaluated expression \" + map_or_text + \" is not a function (type is \" + typeof func + \")\");\n",
       "                    return map_or_text;\n",
       "                }\n",
       "                // Return the function\n",
       "                return func;\n",
       "            } catch (e) {\n",
       "                // Make sure to print the error with a second argument to console.error().\n",
       "                console.error(\"itables was not able to parse \" + map_or_text, e);\n",
       "            }\n",
       "        }\n",
       "    } else if (typeof map_or_text === \"object\") {\n",
       "        if (map_or_text instanceof Array) {\n",
       "            // Note: \"var\" is now superseded by \"let\" and \"const\".\n",
       "            // https://medium.com/javascript-scene/javascript-es6-var-let-or-const-ba58b8dcde75\n",
       "            const result = [];\n",
       "            // Note: \"for of\" is the best way to iterate through an iterable.\n",
       "            // https://developer.mozilla.org/en-US/docs/Web/JavaScript/Reference/Statements/for...of\n",
       "            for (const item of map_or_text) {\n",
       "                result.push(eval_functions(item));\n",
       "            }\n",
       "            return result;\n",
       "\n",
       "            // Alternatively, more functional approach in one line:\n",
       "            // return map_or_text.map(eval_functions);\n",
       "        } else {\n",
       "            const result = {};\n",
       "            // Object.keys() is safer than \"for in\" because otherwise you might have keys\n",
       "            // that aren't defined in the object itself.\n",
       "            //\n",
       "            // See https://stackoverflow.com/a/684692/911298.\n",
       "            for (const item of Object.keys(map_or_text)) {\n",
       "                result[item] = eval_functions(map_or_text[item]);\n",
       "            }\n",
       "            return result;\n",
       "        }\n",
       "    }\n",
       "\n",
       "    return map_or_text;\n",
       "}\n",
       "\n",
       "</` + 'script>');"
      ],
      "text/plain": [
       "<IPython.core.display.Javascript object>"
      ]
     },
     "metadata": {},
     "output_type": "display_data"
    },
    {
     "data": {
      "text/html": [
       "<div><table id=\"ea446360-cba9-4423-b3fc-bda3e460341f\" class=\"display\"><thead>\n",
       "    <tr style=\"text-align: right;\">\n",
       "      \n",
       "      <th>date</th>\n",
       "      <th>amount</th>\n",
       "      <th>item</th>\n",
       "      <th>kind</th>\n",
       "    </tr>\n",
       "  </thead></table>\n",
       "<script type=\"text/javascript\">\n",
       "require([\"datatables\"], function (datatables) {\n",
       "    $(document).ready(function () {\n",
       "        var dt_args = {\"columnDefs\": [{\"width\": \"70px\", \"targets\": \"_all\"}], \"paging\": false, \"data\": [[\"2023-06-30\", 10000, \"Parent\", \"Parent\"], [\"2023-06-30\", 640, \"Internet Home\", \"Communication\"], [\"2023-06-30\", 420, \"Netflix\", \"Edutainment\"], [\"2023-06-30\", 540, \"Telephone Dtac\", \"Communication\"], [\"2023-06-30\", 170, \"Google\", \"Edutainment\"], [\"2023-06-30\", 150, \"Apple\", \"Edutainment\"], [\"2023-06-30\", 40, \"Apple\", \"Edutainment\"], [\"2023-06-30\", 710, \"ChatGPT\", \"Edutainment\"], [\"2023-06-30\", 1050, \"MidJourney\", \"Edutainment\"]]};\n",
       "        dt_args = eval_functions(dt_args);\n",
       "        table = $('#ea446360-cba9-4423-b3fc-bda3e460341f').DataTable(dt_args);\n",
       "    });\n",
       "})\n",
       "</script>\n",
       "</div>\n"
      ],
      "text/plain": [
       "<IPython.core.display.HTML object>"
      ]
     },
     "metadata": {},
     "output_type": "display_data"
    }
   ],
   "source": [
    "df_tmp = pd.read_sql(sql, conn)\n",
    "show(df_tmp[['date','amount','item','kind']])"
   ]
  },
  {
   "cell_type": "code",
   "execution_count": 15,
   "metadata": {},
   "outputs": [],
   "source": [
    "df_tmp.to_csv(\"../data/expense-eom.csv\")"
   ]
  },
  {
   "cell_type": "code",
   "execution_count": null,
   "metadata": {},
   "outputs": [],
   "source": []
  }
 ],
 "metadata": {
  "anaconda-cloud": {},
  "kernelspec": {
   "display_name": "Python 3 (ipykernel)",
   "language": "python",
   "name": "python3"
  },
  "language_info": {
   "codemirror_mode": {
    "name": "ipython",
    "version": 3
   },
   "file_extension": ".py",
   "mimetype": "text/x-python",
   "name": "python",
   "nbconvert_exporter": "python",
   "pygments_lexer": "ipython3",
   "version": "3.8.11"
  }
 },
 "nbformat": 4,
 "nbformat_minor": 1
}
