{
 "cells": [
  {
   "cell_type": "code",
   "execution_count": 1,
   "metadata": {},
   "outputs": [],
   "source": [
    "import pandas as pd\n",
    "from datetime import date, timedelta\n",
    "from sqlalchemy import create_engine\n",
    "\n",
    "engine = create_engine('mysql+pymysql://root:@localhost:3306/portfolio_development')\n",
    "conpf = engine.connect()"
   ]
  },
  {
   "cell_type": "code",
   "execution_count": 2,
   "metadata": {},
   "outputs": [
    {
     "data": {
      "text/plain": [
       "id               int64\n",
       "buy_id           int64\n",
       "date            object\n",
       "price          float64\n",
       "fee            float64\n",
       "vat            float64\n",
       "net            float64\n",
       "days             int64\n",
       "profit         float64\n",
       "percent        float64\n",
       "yearly         float64\n",
       "sequence         int64\n",
       "chart           object\n",
       "dividend_id      int64\n",
       "dtype: object"
      ]
     },
     "execution_count": 2,
     "metadata": {},
     "output_type": "execute_result"
    }
   ],
   "source": [
    "sql = '''\n",
    "SELECT * FROM sells LIMIT 1'''\n",
    "sells = pd.read_sql(sql, conpf)\n",
    "sells.dtypes"
   ]
  },
  {
   "cell_type": "code",
   "execution_count": 3,
   "metadata": {},
   "outputs": [
    {
     "data": {
      "text/plain": [
       "(699, 14)"
      ]
     },
     "execution_count": 3,
     "metadata": {},
     "output_type": "execute_result"
    }
   ],
   "source": [
    "sql = '''\n",
    "SELECT * FROM sells ORDER BY id DESC'''\n",
    "sells = pd.read_sql(sql, conpf)\n",
    "sells.shape"
   ]
  },
  {
   "cell_type": "code",
   "execution_count": 5,
   "metadata": {},
   "outputs": [
    {
     "data": {
      "text/html": [
       "<div>\n",
       "<style scoped>\n",
       "    .dataframe tbody tr th:only-of-type {\n",
       "        vertical-align: middle;\n",
       "    }\n",
       "\n",
       "    .dataframe tbody tr th {\n",
       "        vertical-align: top;\n",
       "    }\n",
       "\n",
       "    .dataframe thead th {\n",
       "        text-align: right;\n",
       "    }\n",
       "</style>\n",
       "<table border=\"1\" class=\"dataframe\">\n",
       "  <thead>\n",
       "    <tr style=\"text-align: right;\">\n",
       "      <th></th>\n",
       "      <th>id</th>\n",
       "      <th>buy_id</th>\n",
       "      <th>date</th>\n",
       "      <th>price</th>\n",
       "      <th>fee</th>\n",
       "      <th>vat</th>\n",
       "      <th>net</th>\n",
       "      <th>days</th>\n",
       "      <th>profit</th>\n",
       "      <th>percent</th>\n",
       "      <th>yearly</th>\n",
       "      <th>sequence</th>\n",
       "      <th>chart</th>\n",
       "      <th>dividend_id</th>\n",
       "    </tr>\n",
       "  </thead>\n",
       "  <tbody>\n",
       "    <tr>\n",
       "      <th>0</th>\n",
       "      <td>1034</td>\n",
       "      <td>1266</td>\n",
       "      <td>2023-06-23</td>\n",
       "      <td>10.7</td>\n",
       "      <td>66.45</td>\n",
       "      <td>4.65</td>\n",
       "      <td>32028.9</td>\n",
       "      <td>3</td>\n",
       "      <td>1361.13</td>\n",
       "      <td>4.43831</td>\n",
       "      <td>539.99438</td>\n",
       "      <td>-34</td>\n",
       "      <td>None</td>\n",
       "      <td>0</td>\n",
       "    </tr>\n",
       "  </tbody>\n",
       "</table>\n",
       "</div>"
      ],
      "text/plain": [
       "     id  buy_id        date  price    fee   vat      net  days   profit  \\\n",
       "0  1034    1266  2023-06-23   10.7  66.45  4.65  32028.9     3  1361.13   \n",
       "\n",
       "   percent     yearly  sequence chart  dividend_id  \n",
       "0  4.43831  539.99438       -34  None            0  "
      ]
     },
     "execution_count": 5,
     "metadata": {},
     "output_type": "execute_result"
    }
   ],
   "source": [
    "sells.query('id == 1034')"
   ]
  },
  {
   "cell_type": "code",
   "execution_count": null,
   "metadata": {},
   "outputs": [],
   "source": []
  },
  {
   "cell_type": "code",
   "execution_count": 6,
   "metadata": {},
   "outputs": [],
   "source": [
    "file_name = 'sells.csv'\n",
    "osd_path = \"\\\\Users\\\\User\\\\OneDrive\\\\Documents\\\\obsidian-git-sync\\\\Data\\\\\"\n",
    "osd_file = osd_path + file_name\n",
    "sells.to_csv(osd_file, header=True, index=False)"
   ]
  },
  {
   "cell_type": "code",
   "execution_count": 7,
   "metadata": {},
   "outputs": [
    {
     "data": {
      "text/plain": [
       "id            int64\n",
       "stock_id      int64\n",
       "date         object\n",
       "qty           int64\n",
       "price       float64\n",
       "fee         float64\n",
       "vat         float64\n",
       "status       object\n",
       "net         float64\n",
       "kind         object\n",
       "chart        object\n",
       "dtype: object"
      ]
     },
     "execution_count": 7,
     "metadata": {},
     "output_type": "execute_result"
    }
   ],
   "source": [
    "sql = '''\n",
    "SELECT * FROM buys LIMIT 1'''\n",
    "buys = pd.read_sql(sql, conpf)\n",
    "buys.dtypes"
   ]
  },
  {
   "cell_type": "code",
   "execution_count": 8,
   "metadata": {},
   "outputs": [
    {
     "data": {
      "text/plain": [
       "(809, 11)"
      ]
     },
     "execution_count": 8,
     "metadata": {},
     "output_type": "execute_result"
    }
   ],
   "source": [
    "sql = '''\n",
    "SELECT * FROM buys ORDER BY id DESC'''\n",
    "buys = pd.read_sql(sql, conpf)\n",
    "buys.shape"
   ]
  },
  {
   "cell_type": "code",
   "execution_count": 9,
   "metadata": {},
   "outputs": [],
   "source": [
    "file_name = 'buys.csv'\n",
    "osd_path = \"\\\\Users\\\\User\\\\OneDrive\\\\Documents\\\\obsidian-git-sync\\\\Data\\\\\"\n",
    "osd_file = osd_path + file_name\n",
    "buys.to_csv(osd_file, header=True, index=False)"
   ]
  },
  {
   "cell_type": "code",
   "execution_count": 10,
   "metadata": {},
   "outputs": [
    {
     "data": {
      "text/plain": [
       "id              int64\n",
       "name           object\n",
       "category_id     int64\n",
       "website        object\n",
       "dtype: object"
      ]
     },
     "execution_count": 10,
     "metadata": {},
     "output_type": "execute_result"
    }
   ],
   "source": [
    "sql = '''\n",
    "SELECT * FROM stocks LIMIT 1'''\n",
    "stocks = pd.read_sql(sql, conpf)\n",
    "stocks.dtypes"
   ]
  },
  {
   "cell_type": "code",
   "execution_count": 11,
   "metadata": {},
   "outputs": [
    {
     "data": {
      "text/plain": [
       "(168, 4)"
      ]
     },
     "execution_count": 11,
     "metadata": {},
     "output_type": "execute_result"
    }
   ],
   "source": [
    "sql = '''\n",
    "SELECT * FROM stocks ORDER BY name'''\n",
    "stocks = pd.read_sql(sql, conpf)\n",
    "stocks.shape"
   ]
  },
  {
   "cell_type": "code",
   "execution_count": 12,
   "metadata": {},
   "outputs": [],
   "source": [
    "file_name = 'stocks.csv'\n",
    "osd_path = \"\\\\Users\\\\User\\\\OneDrive\\\\Documents\\\\obsidian-git-sync\\\\Data\\\\\"\n",
    "osd_file = osd_path + file_name\n",
    "stocks.to_csv(osd_file, header=True, index=False)"
   ]
  },
  {
   "cell_type": "code",
   "execution_count": 13,
   "metadata": {},
   "outputs": [
    {
     "data": {
      "text/plain": [
       "id            int64\n",
       "stock_id      int64\n",
       "name         object\n",
       "year          int64\n",
       "quarter       int64\n",
       "number        int64\n",
       "ppu         float64\n",
       "amt         float64\n",
       "net         float64\n",
       "x_date       object\n",
       "p_date       object\n",
       "dtype: object"
      ]
     },
     "execution_count": 13,
     "metadata": {},
     "output_type": "execute_result"
    }
   ],
   "source": [
    "sql = '''\n",
    "SELECT * FROM dividends LIMIT 1'''\n",
    "dividends = pd.read_sql(sql, conpf)\n",
    "dividends.dtypes"
   ]
  },
  {
   "cell_type": "code",
   "execution_count": 2,
   "metadata": {},
   "outputs": [
    {
     "data": {
      "text/plain": [
       "(394, 11)"
      ]
     },
     "execution_count": 2,
     "metadata": {},
     "output_type": "execute_result"
    }
   ],
   "source": [
    "sql = '''\n",
    "SELECT * FROM dividends ORDER BY id DESC'''\n",
    "dividends = pd.read_sql(sql, conpf)\n",
    "dividends.shape"
   ]
  },
  {
   "cell_type": "code",
   "execution_count": 3,
   "metadata": {},
   "outputs": [],
   "source": [
    "file_name = 'dividends.csv'\n",
    "osd_path = \"\\\\Users\\\\User\\\\OneDrive\\\\Documents\\\\obsidian-git-sync\\\\Data\\\\\"\n",
    "osd_file = osd_path + file_name\n",
    "dividends.to_csv(osd_file, header=True, index=False)"
   ]
  },
  {
   "cell_type": "markdown",
   "metadata": {},
   "source": [
    "### Delete from buys table en mass by stock name"
   ]
  },
  {
   "cell_type": "code",
   "execution_count": 20,
   "metadata": {},
   "outputs": [
    {
     "data": {
      "text/plain": [
       "Index(['id', 'stock_id', 'date', 'qty', 'price', 'fee', 'vat', 'status', 'net',\n",
       "       'kind', 'chart'],\n",
       "      dtype='object')"
      ]
     },
     "execution_count": 20,
     "metadata": {},
     "output_type": "execute_result"
    }
   ],
   "source": [
    "sql = '''\n",
    "SELECT * FROM buys LIMIT 1'''\n",
    "buys = pd.read_sql(sql, conpf)\n",
    "buys.columns"
   ]
  },
  {
   "cell_type": "code",
   "execution_count": 3,
   "metadata": {},
   "outputs": [
    {
     "data": {
      "text/plain": [
       "Index(['id', 'buy_id', 'date', 'price', 'fee', 'vat', 'net', 'days', 'profit',\n",
       "       'percent', 'yearly', 'sequence', 'chart', 'dividend_id'],\n",
       "      dtype='object')"
      ]
     },
     "execution_count": 3,
     "metadata": {},
     "output_type": "execute_result"
    }
   ],
   "source": [
    "sql = '''\n",
    "SELECT * FROM sells LIMIT 1'''\n",
    "sells = pd.read_sql(sql, conpf)\n",
    "sells.columns"
   ]
  },
  {
   "cell_type": "code",
   "execution_count": 2,
   "metadata": {},
   "outputs": [
    {
     "data": {
      "text/plain": [
       "Index(['id', 'name', 'category_id', 'website'], dtype='object')"
      ]
     },
     "execution_count": 2,
     "metadata": {},
     "output_type": "execute_result"
    }
   ],
   "source": [
    "sql = '''\n",
    "SELECT * FROM stocks LIMIT 1'''\n",
    "stocks = pd.read_sql(sql, conpf)\n",
    "stocks.columns"
   ]
  },
  {
   "cell_type": "code",
   "execution_count": 23,
   "metadata": {},
   "outputs": [
    {
     "data": {
      "text/html": [
       "<div>\n",
       "<style scoped>\n",
       "    .dataframe tbody tr th:only-of-type {\n",
       "        vertical-align: middle;\n",
       "    }\n",
       "\n",
       "    .dataframe tbody tr th {\n",
       "        vertical-align: top;\n",
       "    }\n",
       "\n",
       "    .dataframe thead th {\n",
       "        text-align: right;\n",
       "    }\n",
       "</style>\n",
       "<table border=\"1\" class=\"dataframe\">\n",
       "  <thead>\n",
       "    <tr style=\"text-align: right;\">\n",
       "      <th></th>\n",
       "      <th>id</th>\n",
       "      <th>name</th>\n",
       "      <th>category_id</th>\n",
       "      <th>website</th>\n",
       "    </tr>\n",
       "  </thead>\n",
       "  <tbody>\n",
       "    <tr>\n",
       "      <th>0</th>\n",
       "      <td>145</td>\n",
       "      <td>NOBLE</td>\n",
       "      <td>3</td>\n",
       "      <td></td>\n",
       "    </tr>\n",
       "  </tbody>\n",
       "</table>\n",
       "</div>"
      ],
      "text/plain": [
       "    id   name  category_id website\n",
       "0  145  NOBLE            3        "
      ]
     },
     "execution_count": 23,
     "metadata": {},
     "output_type": "execute_result"
    }
   ],
   "source": [
    "sql = '''\n",
    "SELECT * FROM stocks WHERE name = \"NOBLE\"'''\n",
    "stocks = pd.read_sql(sql, conpf)\n",
    "stocks"
   ]
  },
  {
   "cell_type": "code",
   "execution_count": 32,
   "metadata": {},
   "outputs": [
    {
     "data": {
      "text/html": [
       "<div>\n",
       "<style scoped>\n",
       "    .dataframe tbody tr th:only-of-type {\n",
       "        vertical-align: middle;\n",
       "    }\n",
       "\n",
       "    .dataframe tbody tr th {\n",
       "        vertical-align: top;\n",
       "    }\n",
       "\n",
       "    .dataframe thead th {\n",
       "        text-align: right;\n",
       "    }\n",
       "</style>\n",
       "<table border=\"1\" class=\"dataframe\">\n",
       "  <thead>\n",
       "    <tr style=\"text-align: right;\">\n",
       "      <th></th>\n",
       "      <th>id</th>\n",
       "      <th>stock_id</th>\n",
       "      <th>date</th>\n",
       "      <th>qty</th>\n",
       "      <th>price</th>\n",
       "      <th>fee</th>\n",
       "      <th>vat</th>\n",
       "      <th>status</th>\n",
       "      <th>net</th>\n",
       "      <th>kind</th>\n",
       "      <th>chart</th>\n",
       "    </tr>\n",
       "  </thead>\n",
       "  <tbody>\n",
       "    <tr>\n",
       "      <th>0</th>\n",
       "      <td>895</td>\n",
       "      <td>145</td>\n",
       "      <td>2021-05-13</td>\n",
       "      <td>6000</td>\n",
       "      <td>7.20</td>\n",
       "      <td>89.42</td>\n",
       "      <td>6.26</td>\n",
       "      <td>Active</td>\n",
       "      <td>43295.68</td>\n",
       "      <td>HD</td>\n",
       "      <td>None</td>\n",
       "    </tr>\n",
       "    <tr>\n",
       "      <th>1</th>\n",
       "      <td>889</td>\n",
       "      <td>145</td>\n",
       "      <td>2021-05-11</td>\n",
       "      <td>6000</td>\n",
       "      <td>8.00</td>\n",
       "      <td>99.36</td>\n",
       "      <td>6.96</td>\n",
       "      <td>Active</td>\n",
       "      <td>48106.32</td>\n",
       "      <td>HD</td>\n",
       "      <td>None</td>\n",
       "    </tr>\n",
       "    <tr>\n",
       "      <th>2</th>\n",
       "      <td>987</td>\n",
       "      <td>145</td>\n",
       "      <td>2021-08-13</td>\n",
       "      <td>6000</td>\n",
       "      <td>6.50</td>\n",
       "      <td>80.73</td>\n",
       "      <td>5.65</td>\n",
       "      <td>Active</td>\n",
       "      <td>39086.38</td>\n",
       "      <td>HD</td>\n",
       "      <td>None</td>\n",
       "    </tr>\n",
       "    <tr>\n",
       "      <th>3</th>\n",
       "      <td>1082</td>\n",
       "      <td>145</td>\n",
       "      <td>2021-12-20</td>\n",
       "      <td>21000</td>\n",
       "      <td>6.10</td>\n",
       "      <td>265.17</td>\n",
       "      <td>18.56</td>\n",
       "      <td>Active</td>\n",
       "      <td>128383.73</td>\n",
       "      <td>HD</td>\n",
       "      <td>None</td>\n",
       "    </tr>\n",
       "    <tr>\n",
       "      <th>4</th>\n",
       "      <td>1039</td>\n",
       "      <td>145</td>\n",
       "      <td>2021-11-03</td>\n",
       "      <td>6000</td>\n",
       "      <td>6.40</td>\n",
       "      <td>79.49</td>\n",
       "      <td>5.56</td>\n",
       "      <td>Active</td>\n",
       "      <td>38485.05</td>\n",
       "      <td>HD</td>\n",
       "      <td>None</td>\n",
       "    </tr>\n",
       "    <tr>\n",
       "      <th>5</th>\n",
       "      <td>1058</td>\n",
       "      <td>145</td>\n",
       "      <td>2021-11-29</td>\n",
       "      <td>6000</td>\n",
       "      <td>6.25</td>\n",
       "      <td>77.63</td>\n",
       "      <td>5.43</td>\n",
       "      <td>Active</td>\n",
       "      <td>37583.06</td>\n",
       "      <td>HD</td>\n",
       "      <td>None</td>\n",
       "    </tr>\n",
       "  </tbody>\n",
       "</table>\n",
       "</div>"
      ],
      "text/plain": [
       "     id  stock_id        date    qty  price     fee    vat  status        net  \\\n",
       "0   895       145  2021-05-13   6000   7.20   89.42   6.26  Active   43295.68   \n",
       "1   889       145  2021-05-11   6000   8.00   99.36   6.96  Active   48106.32   \n",
       "2   987       145  2021-08-13   6000   6.50   80.73   5.65  Active   39086.38   \n",
       "3  1082       145  2021-12-20  21000   6.10  265.17  18.56  Active  128383.73   \n",
       "4  1039       145  2021-11-03   6000   6.40   79.49   5.56  Active   38485.05   \n",
       "5  1058       145  2021-11-29   6000   6.25   77.63   5.43  Active   37583.06   \n",
       "\n",
       "  kind chart  \n",
       "0   HD  None  \n",
       "1   HD  None  \n",
       "2   HD  None  \n",
       "3   HD  None  \n",
       "4   HD  None  \n",
       "5   HD  None  "
      ]
     },
     "execution_count": 32,
     "metadata": {},
     "output_type": "execute_result"
    }
   ],
   "source": [
    "id = 145\n",
    "sql = '''\n",
    "SELECT * \n",
    "FROM buys\n",
    "WHERE stock_id = %s\n",
    "AND status = \"Active\"\n",
    "AND qty < 63000\n",
    "'''\n",
    "sql = sql % id\n",
    "df = pd.read_sql(sql, conpf)\n",
    "df"
   ]
  },
  {
   "cell_type": "code",
   "execution_count": 33,
   "metadata": {},
   "outputs": [
    {
     "data": {
      "text/plain": [
       "51000"
      ]
     },
     "execution_count": 33,
     "metadata": {},
     "output_type": "execute_result"
    }
   ],
   "source": [
    "df.qty.sum()"
   ]
  },
  {
   "cell_type": "code",
   "execution_count": 34,
   "metadata": {},
   "outputs": [
    {
     "name": "stdout",
     "output_type": "stream",
     "text": [
      "\n",
      "DELETE \n",
      "FROM buys\n",
      "WHERE stock_id = 145\n",
      "AND status = \"Active\"\n",
      "AND qty < 63000\n",
      "\n"
     ]
    }
   ],
   "source": [
    "sqlDel = '''\n",
    "DELETE \n",
    "FROM buys\n",
    "WHERE stock_id = 145\n",
    "AND status = \"Active\"\n",
    "AND qty < 63000\n",
    "'''\n",
    "print(sqlDel)"
   ]
  },
  {
   "cell_type": "code",
   "execution_count": 35,
   "metadata": {},
   "outputs": [
    {
     "data": {
      "text/plain": [
       "6"
      ]
     },
     "execution_count": 35,
     "metadata": {},
     "output_type": "execute_result"
    }
   ],
   "source": [
    "rp = conpf.execute(sqlDel)\n",
    "rp.rowcount"
   ]
  },
  {
   "cell_type": "code",
   "execution_count": null,
   "metadata": {},
   "outputs": [],
   "source": []
  }
 ],
 "metadata": {
  "anaconda-cloud": {},
  "kernelspec": {
   "display_name": "Python 3 (ipykernel)",
   "language": "python",
   "name": "python3"
  },
  "language_info": {
   "codemirror_mode": {
    "name": "ipython",
    "version": 3
   },
   "file_extension": ".py",
   "mimetype": "text/x-python",
   "name": "python",
   "nbconvert_exporter": "python",
   "pygments_lexer": "ipython3",
   "version": "3.8.11"
  }
 },
 "nbformat": 4,
 "nbformat_minor": 1
}
