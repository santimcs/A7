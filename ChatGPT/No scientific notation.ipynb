{
 "cells": [
  {
   "cell_type": "code",
   "execution_count": 1,
   "id": "09fdf3b9",
   "metadata": {},
   "outputs": [
    {
     "ename": "OptionError",
     "evalue": "'You can only set the value of existing options'",
     "output_type": "error",
     "traceback": [
      "\u001b[1;31m---------------------------------------------------------------------------\u001b[0m",
      "\u001b[1;31mOptionError\u001b[0m                               Traceback (most recent call last)",
      "\u001b[1;32m~\\AppData\\Local\\Temp/ipykernel_25640/4266274630.py\u001b[0m in \u001b[0;36m<module>\u001b[1;34m\u001b[0m\n\u001b[0;32m      5\u001b[0m \u001b[1;33m\u001b[0m\u001b[0m\n\u001b[0;32m      6\u001b[0m \u001b[1;31m# Set the display format for integers\u001b[0m\u001b[1;33m\u001b[0m\u001b[1;33m\u001b[0m\u001b[1;33m\u001b[0m\u001b[0m\n\u001b[1;32m----> 7\u001b[1;33m \u001b[0mpd\u001b[0m\u001b[1;33m.\u001b[0m\u001b[0moptions\u001b[0m\u001b[1;33m.\u001b[0m\u001b[0mdisplay\u001b[0m\u001b[1;33m.\u001b[0m\u001b[0mint_format\u001b[0m \u001b[1;33m=\u001b[0m \u001b[1;34m'{:d}'\u001b[0m\u001b[1;33m.\u001b[0m\u001b[0mformat\u001b[0m\u001b[1;33m\u001b[0m\u001b[1;33m\u001b[0m\u001b[0m\n\u001b[0m\u001b[0;32m      8\u001b[0m \u001b[1;33m\u001b[0m\u001b[0m\n\u001b[0;32m      9\u001b[0m \u001b[1;31m# Create a sample dataframe with both integer and floating-point columns\u001b[0m\u001b[1;33m\u001b[0m\u001b[1;33m\u001b[0m\u001b[1;33m\u001b[0m\u001b[0m\n",
      "\u001b[1;32mC:\\ProgramData\\Anaconda3\\lib\\site-packages\\pandas\\_config\\config.py\u001b[0m in \u001b[0;36m__setattr__\u001b[1;34m(self, key, val)\u001b[0m\n\u001b[0;32m    206\u001b[0m             \u001b[0m_set_option\u001b[0m\u001b[1;33m(\u001b[0m\u001b[0mprefix\u001b[0m\u001b[1;33m,\u001b[0m \u001b[0mval\u001b[0m\u001b[1;33m)\u001b[0m\u001b[1;33m\u001b[0m\u001b[1;33m\u001b[0m\u001b[0m\n\u001b[0;32m    207\u001b[0m         \u001b[1;32melse\u001b[0m\u001b[1;33m:\u001b[0m\u001b[1;33m\u001b[0m\u001b[1;33m\u001b[0m\u001b[0m\n\u001b[1;32m--> 208\u001b[1;33m             \u001b[1;32mraise\u001b[0m \u001b[0mOptionError\u001b[0m\u001b[1;33m(\u001b[0m\u001b[1;34m\"You can only set the value of existing options\"\u001b[0m\u001b[1;33m)\u001b[0m\u001b[1;33m\u001b[0m\u001b[1;33m\u001b[0m\u001b[0m\n\u001b[0m\u001b[0;32m    209\u001b[0m \u001b[1;33m\u001b[0m\u001b[0m\n\u001b[0;32m    210\u001b[0m     \u001b[1;32mdef\u001b[0m \u001b[0m__getattr__\u001b[0m\u001b[1;33m(\u001b[0m\u001b[0mself\u001b[0m\u001b[1;33m,\u001b[0m \u001b[0mkey\u001b[0m\u001b[1;33m:\u001b[0m \u001b[0mstr\u001b[0m\u001b[1;33m)\u001b[0m\u001b[1;33m:\u001b[0m\u001b[1;33m\u001b[0m\u001b[1;33m\u001b[0m\u001b[0m\n",
      "\u001b[1;31mOptionError\u001b[0m: 'You can only set the value of existing options'"
     ]
    }
   ],
   "source": [
    "import pandas as pd\n",
    "\n",
    "# Set the display format for floating-point numbers\n",
    "pd.options.display.float_format = '{:.2f}'.format\n",
    "\n",
    "# Set the display format for integers\n",
    "pd.options.display.int_format = '{:d}'.format\n",
    "\n",
    "# Create a sample dataframe with both integer and floating-point columns\n",
    "df = pd.DataFrame({\n",
    "    'int_col': [1, 2, 3],\n",
    "    'float_col': [1.234, 2.345, 3.456]\n",
    "})\n",
    "\n",
    "# Display the dataframe\n",
    "print(df)\n"
   ]
  },
  {
   "cell_type": "code",
   "execution_count": 3,
   "id": "c10a96d0",
   "metadata": {},
   "outputs": [
    {
     "data": {
      "text/html": [
       "<style type=\"text/css\">\n",
       "</style>\n",
       "<table id=\"T_71877_\">\n",
       "  <thead>\n",
       "    <tr>\n",
       "      <th class=\"blank level0\" >&nbsp;</th>\n",
       "      <th class=\"col_heading level0 col0\" >int_col</th>\n",
       "      <th class=\"col_heading level0 col1\" >float_col</th>\n",
       "    </tr>\n",
       "  </thead>\n",
       "  <tbody>\n",
       "    <tr>\n",
       "      <th id=\"T_71877_level0_row0\" class=\"row_heading level0 row0\" >0</th>\n",
       "      <td id=\"T_71877_row0_col0\" class=\"data row0 col0\" >100000000000</td>\n",
       "      <td id=\"T_71877_row0_col1\" class=\"data row0 col1\" >1.234000</td>\n",
       "    </tr>\n",
       "    <tr>\n",
       "      <th id=\"T_71877_level0_row1\" class=\"row_heading level0 row1\" >1</th>\n",
       "      <td id=\"T_71877_row1_col0\" class=\"data row1 col0\" >2</td>\n",
       "      <td id=\"T_71877_row1_col1\" class=\"data row1 col1\" >2.345000</td>\n",
       "    </tr>\n",
       "    <tr>\n",
       "      <th id=\"T_71877_level0_row2\" class=\"row_heading level0 row2\" >2</th>\n",
       "      <td id=\"T_71877_row2_col0\" class=\"data row2 col0\" >3</td>\n",
       "      <td id=\"T_71877_row2_col1\" class=\"data row2 col1\" >3.456000</td>\n",
       "    </tr>\n",
       "  </tbody>\n",
       "</table>\n"
      ],
      "text/plain": [
       "<pandas.io.formats.style.Styler at 0x2ac90146910>"
      ]
     },
     "execution_count": 3,
     "metadata": {},
     "output_type": "execute_result"
    }
   ],
   "source": [
    "import pandas as pd\n",
    "\n",
    "# Create a sample dataframe with both integer and floating-point columns\n",
    "df = pd.DataFrame({\n",
    "    'int_col': [100000000000, 2, 3],\n",
    "    'float_col': [1.234, 2.345, 3.456]\n",
    "})\n",
    "\n",
    "# Use the style.format method to format integer columns with zero decimal places\n",
    "styled_df = df.style.format(\"{:.0f}\", subset=pd.IndexSlice[:, df.dtypes == int])\n",
    "\n",
    "# Display the styled dataframe\n",
    "styled_df\n"
   ]
  },
  {
   "cell_type": "code",
   "execution_count": null,
   "id": "fb912d6e",
   "metadata": {},
   "outputs": [],
   "source": []
  }
 ],
 "metadata": {
  "kernelspec": {
   "display_name": "Python 3 (ipykernel)",
   "language": "python",
   "name": "python3"
  },
  "language_info": {
   "codemirror_mode": {
    "name": "ipython",
    "version": 3
   },
   "file_extension": ".py",
   "mimetype": "text/x-python",
   "name": "python",
   "nbconvert_exporter": "python",
   "pygments_lexer": "ipython3",
   "version": "3.8.11"
  }
 },
 "nbformat": 4,
 "nbformat_minor": 5
}
