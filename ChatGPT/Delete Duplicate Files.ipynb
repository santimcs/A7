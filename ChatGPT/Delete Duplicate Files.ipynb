{
 "cells": [
  {
   "cell_type": "code",
   "execution_count": 11,
   "id": "30ec4fce",
   "metadata": {},
   "outputs": [],
   "source": [
    "import os\n",
    "import re\n",
    "\n",
    "def delete_duplicate_files(dir_path):\n",
    "    # Get a list of all the files in the directory\n",
    "    files = os.listdir(dir_path)\n",
    "\n",
    "    # Iterate through each file\n",
    "    for file in files:\n",
    "        # Check if the file has a duplicate version with a number in parentheses\n",
    "        match = re.search(r'(.*)\\s+\\((\\d+)\\)\\.(.*)', file)\n",
    "        if match:\n",
    "          # Get the base name and extension of the original file\n",
    "            base_name = match.group(1)\n",
    "            extension = match.group(3)\n",
    "            original_file = base_name + '.' + extension\n",
    "\n",
    "            # Check if the original file exists in the directory\n",
    "            if original_file in files:\n",
    "                # If it does, delete the duplicate file\n",
    "                os.remove(os.path.join(dir_path, file))"
   ]
  },
  {
   "cell_type": "code",
   "execution_count": 14,
   "id": "fe104a99",
   "metadata": {},
   "outputs": [],
   "source": [
    "# Modify and call this statement\n",
    "delete_duplicate_files('/Users/User/Downloads/EXEs')"
   ]
  },
  {
   "cell_type": "code",
   "execution_count": null,
   "id": "63858015",
   "metadata": {},
   "outputs": [],
   "source": []
  }
 ],
 "metadata": {
  "kernelspec": {
   "display_name": "Python 3 (ipykernel)",
   "language": "python",
   "name": "python3"
  },
  "language_info": {
   "codemirror_mode": {
    "name": "ipython",
    "version": 3
   },
   "file_extension": ".py",
   "mimetype": "text/x-python",
   "name": "python",
   "nbconvert_exporter": "python",
   "pygments_lexer": "ipython3",
   "version": "3.8.11"
  }
 },
 "nbformat": 4,
 "nbformat_minor": 5
}
