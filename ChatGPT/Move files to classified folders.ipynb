{
 "cells": [
  {
   "cell_type": "code",
   "execution_count": 1,
   "id": "72e93886",
   "metadata": {},
   "outputs": [
    {
     "data": {
      "text/plain": [
       "'<a href=\"https://www.youtube.com/watch?v=WYiU0NuyQwk\">Click here to watch the video</a>'"
      ]
     },
     "execution_count": 1,
     "metadata": {},
     "output_type": "execute_result"
    }
   ],
   "source": [
    "# Define the URL of the YouTube video\n",
    "url = 'https://www.youtube.com/watch?v=WYiU0NuyQwk'\n",
    "\n",
    "# Create the clickable link using the '<a>' element\n",
    "link_text = 'Click here to watch the video'\n",
    "link = f'<a href=\"{url}\">{link_text}</a>'\n",
    "\n",
    "# Use the link as the comment text\n",
    "comment = link\n",
    "link"
   ]
  },
  {
   "cell_type": "code",
   "execution_count": 2,
   "id": "f380e382",
   "metadata": {},
   "outputs": [],
   "source": [
    "import os\n",
    "import time\n",
    "\n",
    "# Directory to be monitored\n",
    "directory = '/Users/User/Downloads'\n",
    "\n",
    "# Dictionary of file categories and their extensions\n",
    "categories = {\n",
    "    'Images': ['jpeg', 'jpg', 'png'],\n",
    "    'PDFs': ['pdf'],\n",
    "    'Datasets': ['csv', 'xlsx', 'xls', 'json'],\n",
    "    'Videos': ['mp4','m4a'],\n",
    "    'Zips': ['zip'],\n",
    "    'EXEs': ['exe', 'msi'],\n",
    "    'Pythons': ['ipynb'],\n",
    "}"
   ]
  },
  {
   "cell_type": "code",
   "execution_count": 3,
   "id": "be646d6d",
   "metadata": {},
   "outputs": [],
   "source": [
    "# Modify and execute in case there are new types to be added\n",
    "#for category in ['Images', 'PDFs', 'Datasets', 'Videos', 'Zips', 'EXEs', 'Pythons']:\n",
    "#    os.makedirs(os.path.join(directory, category), exist_ok=True)"
   ]
  },
  {
   "cell_type": "code",
   "execution_count": 4,
   "id": "41b4c5fe",
   "metadata": {},
   "outputs": [],
   "source": [
    "# Function to classify a file\n",
    "def classify_file(filename):\n",
    "    # Find the file extension\n",
    "    extension = filename.split('.')[-1]\n",
    "\n",
    "    # Iterate over the categories\n",
    "    for category, extensions in categories.items():\n",
    "        # If the extension matches one of the extensions in the category, move the file\n",
    "        if extension in extensions:\n",
    "            # Construct the file paths\n",
    "            source_path = os.path.join(directory, filename)\n",
    "            dest_path = os.path.join(directory, category, filename)\n",
    "\n",
    "            # Move the file\n",
    "            os.rename(source_path, dest_path)\n",
    "            print(f'Moved {filename} to {category}')\n",
    "            break"
   ]
  },
  {
   "cell_type": "markdown",
   "id": "5a2dc8ad",
   "metadata": {},
   "source": [
    "### The underlined code will be used if want to execute on demand"
   ]
  },
  {
   "cell_type": "code",
   "execution_count": 7,
   "id": "62b77562",
   "metadata": {},
   "outputs": [
    {
     "name": "stdout",
     "output_type": "stream",
     "text": [
      "Moved Attach PDF to Evernote.pdf to PDFs\n"
     ]
    }
   ],
   "source": [
    "# Classify all existing files in the directory\n",
    "for filename in os.listdir(directory):\n",
    "    classify_file(filename)"
   ]
  },
  {
   "cell_type": "code",
   "execution_count": null,
   "id": "7fb2ed0b",
   "metadata": {},
   "outputs": [],
   "source": [
    "### The underlined code will be used if want to execute automatically"
   ]
  },
  {
   "cell_type": "code",
   "execution_count": null,
   "id": "f2c8d6b7",
   "metadata": {},
   "outputs": [],
   "source": [
    "# Initial list of files in the directory\n",
    "initial_files = os.listdir(directory)\n",
    "\n",
    "while True:\n",
    "    # List of files in the directory after a short sleep\n",
    "    time.sleep(5)\n",
    "    current_files = os.listdir(directory)\n",
    "\n",
    "    # Find the new files\n",
    "    new_files = list(set(current_files) - set(initial_files))\n",
    "\n",
    "    # Classify the new files\n",
    "    for filename in new_files:\n",
    "        classify_file(filename)\n",
    "\n",
    "    # Update the initial list of files\n",
    "    initial_files = current_files"
   ]
  }
 ],
 "metadata": {
  "kernelspec": {
   "display_name": "Python 3 (ipykernel)",
   "language": "python",
   "name": "python3"
  },
  "language_info": {
   "codemirror_mode": {
    "name": "ipython",
    "version": 3
   },
   "file_extension": ".py",
   "mimetype": "text/x-python",
   "name": "python",
   "nbconvert_exporter": "python",
   "pygments_lexer": "ipython3",
   "version": "3.8.11"
  }
 },
 "nbformat": 4,
 "nbformat_minor": 5
}
