{
 "cells": [
  {
   "cell_type": "code",
   "execution_count": 1,
   "id": "eeac9c7b",
   "metadata": {},
   "outputs": [],
   "source": [
    "import requests\n",
    "from bs4 import BeautifulSoup\n",
    "import pandas as pd\n",
    "\n",
    "# Retrieve the HTML content of the website\n",
    "url = 'https://www.imdb.com/chart/top/?ref_=nv_mv_250'\n",
    "response = requests.get(url)\n",
    "\n",
    "# Parse the HTML content\n",
    "soup = BeautifulSoup(response.text, 'html.parser')\n",
    "\n",
    "# Find all movie elements\n",
    "movies = soup.find_all('td', class_='titleColumn')\n",
    "\n",
    "# Extract the desired information\n",
    "data = []\n",
    "for movie in movies:\n",
    "    title = movie.find('a').text\n",
    "    year = movie.find('span', class_='secondaryInfo').text\n",
    "    data.append({'title': title, 'year': year})\n",
    "\n",
    "# Create a dataframe and save it to a csv\n",
    "df = pd.DataFrame(data)\n",
    "df.to_csv('imdb_top_movies.csv', index=False)"
   ]
  },
  {
   "cell_type": "code",
   "execution_count": 2,
   "id": "b37080ad",
   "metadata": {},
   "outputs": [
    {
     "data": {
      "text/plain": [
       "'C:\\\\Users\\\\User\\\\OneDrive\\\\A7\\\\ChatGPT'"
      ]
     },
     "execution_count": 2,
     "metadata": {},
     "output_type": "execute_result"
    }
   ],
   "source": [
    "%pwd"
   ]
  },
  {
   "cell_type": "code",
   "execution_count": null,
   "id": "f57a302e",
   "metadata": {},
   "outputs": [],
   "source": []
  }
 ],
 "metadata": {
  "kernelspec": {
   "display_name": "Python 3 (ipykernel)",
   "language": "python",
   "name": "python3"
  },
  "language_info": {
   "codemirror_mode": {
    "name": "ipython",
    "version": 3
   },
   "file_extension": ".py",
   "mimetype": "text/x-python",
   "name": "python",
   "nbconvert_exporter": "python",
   "pygments_lexer": "ipython3",
   "version": "3.8.11"
  }
 },
 "nbformat": 4,
 "nbformat_minor": 5
}
