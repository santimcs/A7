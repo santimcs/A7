{
 "cells": [
  {
   "cell_type": "code",
   "execution_count": 1,
   "id": "6fb4f4ef",
   "metadata": {},
   "outputs": [
    {
     "name": "stdout",
     "output_type": "stream",
     "text": [
      "  Animal  count    percent  cumulative_count  cumulative_percent\n",
      "0    Dog      3  50.000000                 3           50.000000\n",
      "1   Fish      2  33.333333                 5           83.333333\n",
      "2    Cat      1  16.666667                 6          100.000000\n"
     ]
    }
   ],
   "source": [
    "import pandas as pd\n",
    "from sidetable import sidetable\n",
    "\n",
    "# Create a sample dataframe\n",
    "df = pd.DataFrame({'Animal': ['Dog', 'Cat', 'Dog', 'Fish', 'Fish', 'Dog'],\n",
    "                   'Number of Legs': [4, 4, 4, 0, 0, 4]})\n",
    "\n",
    "# Use sidetable to create a summary table\n",
    "stb = df.stb.freq(['Animal'])\n",
    "\n",
    "print(stb)\n"
   ]
  },
  {
   "cell_type": "code",
   "execution_count": 3,
   "id": "9b26a17b",
   "metadata": {},
   "outputs": [
    {
     "name": "stdout",
     "output_type": "stream",
     "text": [
      "  Animal  Number of Legs  percent  cumulative_Number of Legs  \\\n",
      "0    Dog              12     75.0                         12   \n",
      "1    Cat               4     25.0                         16   \n",
      "\n",
      "   cumulative_percent  \n",
      "0                75.0  \n",
      "1               100.0  \n"
     ]
    }
   ],
   "source": [
    "stb = df.stb.freq(['Animal'], value='Number of Legs')\n",
    "print(stb)"
   ]
  },
  {
   "cell_type": "code",
   "execution_count": 4,
   "id": "661da99a",
   "metadata": {},
   "outputs": [
    {
     "name": "stdout",
     "output_type": "stream",
     "text": [
      "  Animal  Number of Legs  percent  cumulative_Number of Legs  \\\n",
      "0    Dog              12     75.0                         12   \n",
      "1    Cat               4     25.0                         16   \n",
      "\n",
      "   cumulative_percent  \n",
      "0                75.0  \n",
      "1               100.0  \n"
     ]
    }
   ],
   "source": [
    "import pandas as pd\n",
    "from sidetable import sidetable\n",
    "\n",
    "# Create a sample dataframe\n",
    "df = pd.DataFrame({'Animal': ['Dog', 'Cat', 'Dog', 'Fish', 'Fish', 'Dog'],\n",
    "                   'Number of Legs': [4, 4, 4, 0, 0, 4]})\n",
    "\n",
    "# Use sidetable to create a summary table\n",
    "stb = df.stb.freq(['Animal'], value='Number of Legs')\n",
    "print(stb)"
   ]
  },
  {
   "cell_type": "code",
   "execution_count": 5,
   "id": "aefca881",
   "metadata": {},
   "outputs": [
    {
     "ename": "AttributeError",
     "evalue": "'SideTableAccessor' object has no attribute 'aggregate'",
     "output_type": "error",
     "traceback": [
      "\u001b[1;31m---------------------------------------------------------------------------\u001b[0m",
      "\u001b[1;31mAttributeError\u001b[0m                            Traceback (most recent call last)",
      "\u001b[1;32m~\\AppData\\Local\\Temp/ipykernel_34152/1292137665.py\u001b[0m in \u001b[0;36m<module>\u001b[1;34m\u001b[0m\n\u001b[0;32m      7\u001b[0m \u001b[1;33m\u001b[0m\u001b[0m\n\u001b[0;32m      8\u001b[0m \u001b[1;31m# Use sidetable to create a summary table\u001b[0m\u001b[1;33m\u001b[0m\u001b[1;33m\u001b[0m\u001b[1;33m\u001b[0m\u001b[0m\n\u001b[1;32m----> 9\u001b[1;33m \u001b[0mstb\u001b[0m \u001b[1;33m=\u001b[0m \u001b[0mdf\u001b[0m\u001b[1;33m.\u001b[0m\u001b[0mstb\u001b[0m\u001b[1;33m.\u001b[0m\u001b[0maggregate\u001b[0m\u001b[1;33m(\u001b[0m\u001b[0mvalue\u001b[0m\u001b[1;33m=\u001b[0m\u001b[1;33m[\u001b[0m\u001b[1;34m'sum'\u001b[0m\u001b[1;33m]\u001b[0m\u001b[1;33m)\u001b[0m\u001b[1;33m\u001b[0m\u001b[1;33m\u001b[0m\u001b[0m\n\u001b[0m\u001b[0;32m     10\u001b[0m \u001b[1;33m\u001b[0m\u001b[0m\n\u001b[0;32m     11\u001b[0m \u001b[1;31m# Calculate the cumulative number of legs and cumulative percentage\u001b[0m\u001b[1;33m\u001b[0m\u001b[1;33m\u001b[0m\u001b[1;33m\u001b[0m\u001b[0m\n",
      "\u001b[1;31mAttributeError\u001b[0m: 'SideTableAccessor' object has no attribute 'aggregate'"
     ]
    }
   ],
   "source": [
    "import pandas as pd\n",
    "from sidetable import sidetable\n",
    "\n",
    "# Create a sample dataframe\n",
    "df = pd.DataFrame({'Animal': ['Dog', 'Cat', 'Fish'],\n",
    "                   'Number of Legs': [4, 4, 0]})\n",
    "\n",
    "# Use sidetable to create a summary table\n",
    "stb = df.stb.aggregate(value=['sum'])\n",
    "\n",
    "# Calculate the cumulative number of legs and cumulative percentage\n",
    "stb['cumulative_Number of Legs'] = stb['Number of Legs sum'].cumsum()\n",
    "stb['cumulative_percent'] = 100 * stb['cumulative_Number of Legs'] / stb['Number of Legs sum'].sum()\n",
    "\n",
    "print(stb)\n"
   ]
  },
  {
   "cell_type": "code",
   "execution_count": 6,
   "id": "165254df",
   "metadata": {},
   "outputs": [
    {
     "name": "stdout",
     "output_type": "stream",
     "text": [
      "  Animal  Number of Legs  percent  cumulative_Number of Legs  \\\n",
      "0    Dog               4     50.0                          4   \n",
      "1    Cat               4     50.0                          8   \n",
      "\n",
      "   cumulative_percent  \n",
      "0                50.0  \n",
      "1               100.0  \n"
     ]
    }
   ],
   "source": [
    "import pandas as pd\n",
    "from sidetable import sidetable\n",
    "\n",
    "# Create a sample dataframe\n",
    "df = pd.DataFrame({'Animal': ['Dog', 'Cat', 'Fish'],\n",
    "                   'Number of Legs': [4, 4, 0]})\n",
    "\n",
    "# Use sidetable to create a summary table\n",
    "stb = df.stb.freq(['Animal'], value='Number of Legs')\n",
    "\n",
    "# Calculate the cumulative number of legs and cumulative percentage\n",
    "stb['cumulative_Number of Legs'] = stb['Number of Legs'].cumsum()\n",
    "stb['cumulative_percent'] = 100 * stb['cumulative_Number of Legs'] / stb['Number of Legs'].sum()\n",
    "\n",
    "print(stb)\n"
   ]
  },
  {
   "cell_type": "code",
   "execution_count": 7,
   "id": "b1cd7717",
   "metadata": {},
   "outputs": [
    {
     "name": "stdout",
     "output_type": "stream",
     "text": [
      "  Animal  Number of Legs  percent  cumulative_Number of Legs  \\\n",
      "0    Dog               4     50.0                          4   \n",
      "1    Cat               4     50.0                          8   \n",
      "\n",
      "   cumulative_percent  \n",
      "0                50.0  \n",
      "1               100.0  \n"
     ]
    }
   ],
   "source": [
    "import pandas as pd\n",
    "from sidetable import sidetable\n",
    "\n",
    "# Create a sample dataframe\n",
    "df = pd.DataFrame({'Animal': ['Dog', 'Cat', 'Fish'],\n",
    "                   'Number of Legs': [4, 4, 0]})\n",
    "\n",
    "# Use sidetable to create a summary table\n",
    "stb = df.stb.freq(['Animal'], value='Number of Legs')\n",
    "\n",
    "# Calculate the cumulative number of legs and cumulative percentage\n",
    "stb['cumulative_Number of Legs'] = stb['Number of Legs'].cumsum()\n",
    "stb['cumulative_percent'] = 100 * stb['cumulative_Number of Legs'] / stb['Number of Legs'].sum()\n",
    "\n",
    "print(stb)\n"
   ]
  },
  {
   "cell_type": "code",
   "execution_count": 8,
   "id": "f363647e",
   "metadata": {},
   "outputs": [
    {
     "name": "stdout",
     "output_type": "stream",
     "text": [
      "         cut  count    percent  cumulative_count  cumulative_percent\n",
      "0      Ideal  21551  39.953652             21551           39.953652\n",
      "1    Premium  13791  25.567297             35342           65.520949\n",
      "2  Very Good  12082  22.398962             47424           87.919911\n",
      "3       Good   4906   9.095291             52330           97.015202\n",
      "4       Fair   1610   2.984798             53940          100.000000\n"
     ]
    }
   ],
   "source": [
    "import seaborn as sns\n",
    "import sidetable\n",
    "\n",
    "# Load the diamonds dataset\n",
    "df = sns.load_dataset('diamonds')\n",
    "\n",
    "# Create a frequency table of the 'cut' column\n",
    "cut_freq_table = df.stb.freq(['cut'])\n",
    "\n",
    "# Display the frequency table\n",
    "print(cut_freq_table)\n"
   ]
  },
  {
   "cell_type": "code",
   "execution_count": 9,
   "id": "4ea7e20d",
   "metadata": {},
   "outputs": [
    {
     "ename": "AttributeError",
     "evalue": "'SideTableAccessor' object has no attribute 'crosstab'",
     "output_type": "error",
     "traceback": [
      "\u001b[1;31m---------------------------------------------------------------------------\u001b[0m",
      "\u001b[1;31mAttributeError\u001b[0m                            Traceback (most recent call last)",
      "\u001b[1;32m~\\AppData\\Local\\Temp/ipykernel_34152/1119271963.py\u001b[0m in \u001b[0;36m<module>\u001b[1;34m\u001b[0m\n\u001b[0;32m      1\u001b[0m \u001b[1;31m# Create a cross-tabulation of the 'cut' and 'color' columns\u001b[0m\u001b[1;33m\u001b[0m\u001b[1;33m\u001b[0m\u001b[1;33m\u001b[0m\u001b[0m\n\u001b[1;32m----> 2\u001b[1;33m \u001b[0mcut_color_table\u001b[0m \u001b[1;33m=\u001b[0m \u001b[0mdf\u001b[0m\u001b[1;33m.\u001b[0m\u001b[0mstb\u001b[0m\u001b[1;33m.\u001b[0m\u001b[0mcrosstab\u001b[0m\u001b[1;33m(\u001b[0m\u001b[1;34m'cut'\u001b[0m\u001b[1;33m,\u001b[0m \u001b[1;34m'color'\u001b[0m\u001b[1;33m)\u001b[0m\u001b[1;33m\u001b[0m\u001b[1;33m\u001b[0m\u001b[0m\n\u001b[0m\u001b[0;32m      3\u001b[0m \u001b[1;33m\u001b[0m\u001b[0m\n\u001b[0;32m      4\u001b[0m \u001b[1;31m# Display the cross-tabulation table\u001b[0m\u001b[1;33m\u001b[0m\u001b[1;33m\u001b[0m\u001b[1;33m\u001b[0m\u001b[0m\n\u001b[0;32m      5\u001b[0m \u001b[0mprint\u001b[0m\u001b[1;33m(\u001b[0m\u001b[0mcut_color_table\u001b[0m\u001b[1;33m)\u001b[0m\u001b[1;33m\u001b[0m\u001b[1;33m\u001b[0m\u001b[0m\n",
      "\u001b[1;31mAttributeError\u001b[0m: 'SideTableAccessor' object has no attribute 'crosstab'"
     ]
    }
   ],
   "source": [
    "# Create a cross-tabulation of the 'cut' and 'color' columns\n",
    "cut_color_table = df.stb.crosstab('cut', 'color')\n",
    "\n",
    "# Display the cross-tabulation table\n",
    "print(cut_color_table)\n"
   ]
  },
  {
   "cell_type": "code",
   "execution_count": null,
   "id": "fabe98f2",
   "metadata": {},
   "outputs": [],
   "source": []
  }
 ],
 "metadata": {
  "kernelspec": {
   "display_name": "Python 3 (ipykernel)",
   "language": "python",
   "name": "python3"
  },
  "language_info": {
   "codemirror_mode": {
    "name": "ipython",
    "version": 3
   },
   "file_extension": ".py",
   "mimetype": "text/x-python",
   "name": "python",
   "nbconvert_exporter": "python",
   "pygments_lexer": "ipython3",
   "version": "3.8.11"
  }
 },
 "nbformat": 4,
 "nbformat_minor": 5
}
