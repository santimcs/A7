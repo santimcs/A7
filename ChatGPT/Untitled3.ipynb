{
 "cells": [
  {
   "cell_type": "code",
   "execution_count": 1,
   "id": "e61bda9d",
   "metadata": {},
   "outputs": [],
   "source": [
    "import os\n",
    "import shutil\n",
    "\n",
    "def organize_files_by_month(folder_path):\n",
    "    # Get a list of all the files in the folder\n",
    "    files = os.listdir(folder_path)\n",
    "\n",
    "    # Loop through the files and move them to the appropriate subfolder\n",
    "    for file_name in files:\n",
    "        # Extract the year and month from the file name\n",
    "        year = file_name[:4]\n",
    "        month = file_name[4:6]\n",
    "\n",
    "        # Create the subfolder if it doesn't already exist\n",
    "        subfolder_path = os.path.join(folder_path, month)\n",
    "        if not os.path.exists(subfolder_path):\n",
    "            os.mkdir(subfolder_path)\n",
    "\n",
    "        # Move the file to the subfolder\n",
    "        file_path = os.path.join(folder_path, file_name)\n",
    "        subfolder_file_path = os.path.join(subfolder_path, file_name)\n",
    "        shutil.move(file_path, subfolder_file_path)\n",
    "\n",
    "    print(\"Files have been organized into subfolders by month.\")\n",
    "\n"
   ]
  },
  {
   "cell_type": "code",
   "execution_count": 3,
   "id": "1cc65a6e",
   "metadata": {},
   "outputs": [
    {
     "name": "stdout",
     "output_type": "stream",
     "text": [
      "Files have been organized into subfolders by month.\n"
     ]
    }
   ],
   "source": [
    "organize_files_by_month('C:\\\\Users\\\\User\\\\OneDrive\\\\Pictures\\\\Camera Roll\\\\jpg\\\\2018')"
   ]
  },
  {
   "cell_type": "code",
   "execution_count": null,
   "id": "ab6a4b60",
   "metadata": {},
   "outputs": [],
   "source": []
  }
 ],
 "metadata": {
  "kernelspec": {
   "display_name": "Python 3 (ipykernel)",
   "language": "python",
   "name": "python3"
  },
  "language_info": {
   "codemirror_mode": {
    "name": "ipython",
    "version": 3
   },
   "file_extension": ".py",
   "mimetype": "text/x-python",
   "name": "python",
   "nbconvert_exporter": "python",
   "pygments_lexer": "ipython3",
   "version": "3.8.11"
  }
 },
 "nbformat": 4,
 "nbformat_minor": 5
}
