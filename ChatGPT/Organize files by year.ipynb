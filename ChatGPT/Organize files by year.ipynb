{
 "cells": [
  {
   "cell_type": "code",
   "execution_count": 1,
   "id": "1d216e65",
   "metadata": {},
   "outputs": [],
   "source": [
    "import os\n",
    "import shutil\n",
    "\n",
    "def organize_files_by_year(folder_path):\n",
    "    # Get a list of all the files in the folder\n",
    "    files = os.listdir(folder_path)\n",
    "\n",
    "    # Loop through the files and move them to the appropriate subfolder\n",
    "    for file_name in files:\n",
    "        # Extract the year from the file name\n",
    "        year = file_name[:4]\n",
    "\n",
    "        # Create the subfolder if it doesn't already exist\n",
    "        subfolder_path = os.path.join(folder_path, year)\n",
    "        if not os.path.exists(subfolder_path):\n",
    "            os.mkdir(subfolder_path)\n",
    "\n",
    "        # Move the file to the subfolder\n",
    "        file_path = os.path.join(folder_path, file_name)\n",
    "        subfolder_file_path = os.path.join(subfolder_path, file_name)\n",
    "        shutil.move(file_path, subfolder_file_path)\n",
    "\n",
    "    print(\"Files have been organized into subfolders by year.\")\n",
    "\n"
   ]
  },
  {
   "cell_type": "code",
   "execution_count": 2,
   "id": "3ca8f07c",
   "metadata": {},
   "outputs": [
    {
     "name": "stdout",
     "output_type": "stream",
     "text": [
      "Files have been organized into subfolders by year.\n"
     ]
    }
   ],
   "source": [
    "organize_files_by_year('C:\\\\Users\\\\User\\\\OneDrive\\\\Pictures\\\\Camera Roll\\\\jpg')\n"
   ]
  },
  {
   "cell_type": "code",
   "execution_count": null,
   "id": "b8f5098d",
   "metadata": {},
   "outputs": [],
   "source": []
  }
 ],
 "metadata": {
  "kernelspec": {
   "display_name": "Python 3 (ipykernel)",
   "language": "python",
   "name": "python3"
  },
  "language_info": {
   "codemirror_mode": {
    "name": "ipython",
    "version": 3
   },
   "file_extension": ".py",
   "mimetype": "text/x-python",
   "name": "python",
   "nbconvert_exporter": "python",
   "pygments_lexer": "ipython3",
   "version": "3.8.11"
  }
 },
 "nbformat": 4,
 "nbformat_minor": 5
}
