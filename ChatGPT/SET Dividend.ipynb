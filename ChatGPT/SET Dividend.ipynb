{
 "cells": [
  {
   "cell_type": "code",
   "execution_count": 146,
   "id": "a70c7f97",
   "metadata": {},
   "outputs": [],
   "source": [
    "name = 'PTTEP'\n",
    "import pandas as pd\n",
    "import requests\n",
    "from bs4 import BeautifulSoup\n",
    "from sqlalchemy import create_engine\n",
    "\n",
    "engine = create_engine(\"mysql+pymysql://root:@localhost:3306/stock\")\n",
    "const = engine.connect()\n",
    "\n",
    "format_dict = {    \n",
    "    'shares':'{:,}',    \n",
    "    'q4':'{:.4f}','q3':'{:.4f}','q2':'{:.4f}','q1':'{:.4f}','dividend':'{:.4f}','qtrly':'{:.4f}',\n",
    "    'price':'{:.2f}',    \n",
    "    'amount':'{:,.2f}','net':'{:,.2f}','cost_amt':'{:,.2f}',\n",
    "    'yield':'{:,.2f}%','pct':'{:,.2f}%',\n",
    "    'xdate':'{:%Y-%m-%d}','paiddate':'{:%Y-%m-%d}',\n",
    "              }"
   ]
  },
  {
   "cell_type": "code",
   "execution_count": 147,
   "id": "464fcb11",
   "metadata": {},
   "outputs": [
    {
     "data": {
      "text/html": [
       "<style type=\"text/css\">\n",
       "</style>\n",
       "<table id=\"T_3cfbe_\">\n",
       "  <thead>\n",
       "    <tr>\n",
       "      <th class=\"blank level0\" >&nbsp;</th>\n",
       "      <th class=\"col_heading level0 col0\" >name</th>\n",
       "      <th class=\"col_heading level0 col1\" >q4</th>\n",
       "      <th class=\"col_heading level0 col2\" >q3</th>\n",
       "      <th class=\"col_heading level0 col3\" >q2</th>\n",
       "      <th class=\"col_heading level0 col4\" >q1</th>\n",
       "      <th class=\"col_heading level0 col5\" >dividend</th>\n",
       "      <th class=\"col_heading level0 col6\" >shares</th>\n",
       "      <th class=\"col_heading level0 col7\" >xdate</th>\n",
       "      <th class=\"col_heading level0 col8\" >paiddate</th>\n",
       "      <th class=\"col_heading level0 col9\" >kind</th>\n",
       "      <th class=\"col_heading level0 col10\" >actual</th>\n",
       "    </tr>\n",
       "  </thead>\n",
       "  <tbody>\n",
       "    <tr>\n",
       "      <th id=\"T_3cfbe_level0_row0\" class=\"row_heading level0 row0\" >0</th>\n",
       "      <td id=\"T_3cfbe_row0_col0\" class=\"data row0 col0\" >PTTEP</td>\n",
       "      <td id=\"T_3cfbe_row0_col1\" class=\"data row0 col1\" >3.0000</td>\n",
       "      <td id=\"T_3cfbe_row0_col2\" class=\"data row0 col2\" >0.0000</td>\n",
       "      <td id=\"T_3cfbe_row0_col3\" class=\"data row0 col3\" >4.2500</td>\n",
       "      <td id=\"T_3cfbe_row0_col4\" class=\"data row0 col4\" >0.0000</td>\n",
       "      <td id=\"T_3cfbe_row0_col5\" class=\"data row0 col5\" >7.2500</td>\n",
       "      <td id=\"T_3cfbe_row0_col6\" class=\"data row0 col6\" >0</td>\n",
       "      <td id=\"T_3cfbe_row0_col7\" class=\"data row0 col7\" >2023-02-10</td>\n",
       "      <td id=\"T_3cfbe_row0_col8\" class=\"data row0 col8\" >2023-04-18</td>\n",
       "      <td id=\"T_3cfbe_row0_col9\" class=\"data row0 col9\" ></td>\n",
       "      <td id=\"T_3cfbe_row0_col10\" class=\"data row0 col10\" >0</td>\n",
       "    </tr>\n",
       "  </tbody>\n",
       "</table>\n"
      ],
      "text/plain": [
       "<pandas.io.formats.style.Styler at 0x1fcc0e441f0>"
      ]
     },
     "execution_count": 147,
     "metadata": {},
     "output_type": "execute_result"
    }
   ],
   "source": [
    "sql = \"\"\"\n",
    "SELECT * \n",
    "FROM DIVIDEND\n",
    "WHERE name = '%s'\n",
    "\"\"\"\n",
    "sql = sql % name\n",
    "dividend = pd.read_sql(sql, const)\n",
    "dividend.drop(['PRICE', 'PERCENT'], axis=1, inplace=True)\n",
    "dividend.columns = dividend.columns.str.lower()\n",
    "dividend['shares'] = dividend['shares'].astype('int64')\n",
    "dividend['xdate'] = pd.to_datetime(dividend['xdate'])\n",
    "dividend['paiddate'] = pd.to_datetime(dividend['paiddate'])\n",
    "dividend.style.format(format_dict)"
   ]
  },
  {
   "cell_type": "code",
   "execution_count": 148,
   "id": "e9ee1eac",
   "metadata": {},
   "outputs": [],
   "source": [
    "url = 'https://classic.settrade.com/C04_07_stock_rightsandbenefit_p1.jsp?txtSymbol=' \\\n",
    "+ name + '&ssoPageId=15&selectPage=7'\n",
    "# Set the encoding in the headers parameter\n",
    "headers = {'encoding': 'utf-8'}\n",
    "r = requests.get(url, headers=headers)\n",
    "html = r.text\n",
    "soup = BeautifulSoup(html, 'html.parser')\n",
    "table = soup.find('table')\n",
    "df = pd.read_html(str(table), encoding='utf-8')[0]"
   ]
  },
  {
   "cell_type": "code",
   "execution_count": 149,
   "id": "54f3dd5c",
   "metadata": {
    "scrolled": true
   },
   "outputs": [
    {
     "data": {
      "text/html": [
       "<div>\n",
       "<style scoped>\n",
       "    .dataframe tbody tr th:only-of-type {\n",
       "        vertical-align: middle;\n",
       "    }\n",
       "\n",
       "    .dataframe tbody tr th {\n",
       "        vertical-align: top;\n",
       "    }\n",
       "\n",
       "    .dataframe thead th {\n",
       "        text-align: right;\n",
       "    }\n",
       "</style>\n",
       "<table border=\"1\" class=\"dataframe\">\n",
       "  <thead>\n",
       "    <tr style=\"text-align: right;\">\n",
       "      <th></th>\n",
       "      <th>col 1</th>\n",
       "      <th>col 4</th>\n",
       "      <th>col 6</th>\n",
       "      <th>col 8</th>\n",
       "    </tr>\n",
       "  </thead>\n",
       "  <tbody>\n",
       "    <tr>\n",
       "      <th>0</th>\n",
       "      <td>15/08/22</td>\n",
       "      <td>26/08/22</td>\n",
       "      <td>4.25</td>\n",
       "      <td>01/01/22-30/06/22</td>\n",
       "    </tr>\n",
       "    <tr>\n",
       "      <th>1</th>\n",
       "      <td>10/02/22</td>\n",
       "      <td>18/04/22</td>\n",
       "      <td>3.00</td>\n",
       "      <td>NaN</td>\n",
       "    </tr>\n",
       "    <tr>\n",
       "      <th>2</th>\n",
       "      <td>11/08/21</td>\n",
       "      <td>27/08/21</td>\n",
       "      <td>2.00</td>\n",
       "      <td>01/01/21-30/06/21</td>\n",
       "    </tr>\n",
       "    <tr>\n",
       "      <th>3</th>\n",
       "      <td>01/03/21</td>\n",
       "      <td>26/04/21</td>\n",
       "      <td>2.75</td>\n",
       "      <td>NaN</td>\n",
       "    </tr>\n",
       "    <tr>\n",
       "      <th>4</th>\n",
       "      <td>13/08/20</td>\n",
       "      <td>28/08/20</td>\n",
       "      <td>1.50</td>\n",
       "      <td>01/01/20-30/06/20</td>\n",
       "    </tr>\n",
       "    <tr>\n",
       "      <th>5</th>\n",
       "      <td>13/02/20</td>\n",
       "      <td>10/04/20</td>\n",
       "      <td>3.75</td>\n",
       "      <td>NaN</td>\n",
       "    </tr>\n",
       "    <tr>\n",
       "      <th>6</th>\n",
       "      <td>08/08/19</td>\n",
       "      <td>23/08/19</td>\n",
       "      <td>2.25</td>\n",
       "      <td>NaN</td>\n",
       "    </tr>\n",
       "    <tr>\n",
       "      <th>7</th>\n",
       "      <td>12/02/19</td>\n",
       "      <td>11/04/19</td>\n",
       "      <td>3.25</td>\n",
       "      <td>NaN</td>\n",
       "    </tr>\n",
       "    <tr>\n",
       "      <th>8</th>\n",
       "      <td>08/08/18</td>\n",
       "      <td>24/08/18</td>\n",
       "      <td>1.75</td>\n",
       "      <td>NaN</td>\n",
       "    </tr>\n",
       "    <tr>\n",
       "      <th>9</th>\n",
       "      <td>07/02/18</td>\n",
       "      <td>12/04/18</td>\n",
       "      <td>2.75</td>\n",
       "      <td>NaN</td>\n",
       "    </tr>\n",
       "    <tr>\n",
       "      <th>10</th>\n",
       "      <td>-</td>\n",
       "      <td>-</td>\n",
       "      <td>-</td>\n",
       "      <td>01/01/19-31/12/19</td>\n",
       "    </tr>\n",
       "  </tbody>\n",
       "</table>\n",
       "</div>"
      ],
      "text/plain": [
       "       col 1     col 4 col 6              col 8\n",
       "0   15/08/22  26/08/22  4.25  01/01/22-30/06/22\n",
       "1   10/02/22  18/04/22  3.00                NaN\n",
       "2   11/08/21  27/08/21  2.00  01/01/21-30/06/21\n",
       "3   01/03/21  26/04/21  2.75                NaN\n",
       "4   13/08/20  28/08/20  1.50  01/01/20-30/06/20\n",
       "5   13/02/20  10/04/20  3.75                NaN\n",
       "6   08/08/19  23/08/19  2.25                NaN\n",
       "7   12/02/19  11/04/19  3.25                NaN\n",
       "8   08/08/18  24/08/18  1.75                NaN\n",
       "9   07/02/18  12/04/18  2.75                NaN\n",
       "10         -         -     -  01/01/19-31/12/19"
      ]
     },
     "execution_count": 149,
     "metadata": {},
     "output_type": "execute_result"
    }
   ],
   "source": [
    "# Specify the new col names in a list\n",
    "new_col_names = ['col 1', 'col 2', 'col 3','col 4', 'col 5', 'col 6','col 7', 'col 8', 'col 9']\n",
    "# Assign the new col names to the cols attribute of the DataFrame\n",
    "df.columns = new_col_names\n",
    "# Drop the second and third columns\n",
    "df = df.drop(df.columns[[1, 2, 4, 6, 8]], axis=1)\n",
    "df"
   ]
  },
  {
   "cell_type": "code",
   "execution_count": 104,
   "id": "8d614075",
   "metadata": {},
   "outputs": [
    {
     "data": {
      "text/html": [
       "<div>\n",
       "<style scoped>\n",
       "    .dataframe tbody tr th:only-of-type {\n",
       "        vertical-align: middle;\n",
       "    }\n",
       "\n",
       "    .dataframe tbody tr th {\n",
       "        vertical-align: top;\n",
       "    }\n",
       "\n",
       "    .dataframe thead th {\n",
       "        text-align: right;\n",
       "    }\n",
       "</style>\n",
       "<table border=\"1\" class=\"dataframe\">\n",
       "  <thead>\n",
       "    <tr style=\"text-align: right;\">\n",
       "      <th></th>\n",
       "      <th>col 1</th>\n",
       "      <th>col 4</th>\n",
       "      <th>col 6</th>\n",
       "      <th>col 8</th>\n",
       "    </tr>\n",
       "  </thead>\n",
       "  <tbody>\n",
       "    <tr>\n",
       "      <th>1</th>\n",
       "      <td>07/03/22</td>\n",
       "      <td>06/05/22</td>\n",
       "      <td>1.1</td>\n",
       "      <td>01/01/21-31/12/21</td>\n",
       "    </tr>\n",
       "  </tbody>\n",
       "</table>\n",
       "</div>"
      ],
      "text/plain": [
       "      col 1     col 4  col 6              col 8\n",
       "1  07/03/22  06/05/22    1.1  01/01/21-31/12/21"
      ]
     },
     "execution_count": 104,
     "metadata": {},
     "output_type": "execute_result"
    }
   ],
   "source": [
    "# Keep rows with position 0 and 2\n",
    "mask = df.index.isin([1])\n",
    "df_filtered = df[mask].copy()\n",
    "df_filtered"
   ]
  },
  {
   "cell_type": "code",
   "execution_count": 85,
   "id": "9eacb4af",
   "metadata": {},
   "outputs": [],
   "source": [
    "# Convert the 'date' column to datetime\n",
    "df_filtered['col 1'] = pd.to_datetime(df_filtered['col 1'], format='%d/%m/%y')\n",
    "df_filtered['col 4'] = pd.to_datetime(df_filtered['col 4'], format='%d/%m/%y')\n",
    "\n",
    "# Format the 'date' column as strings using the strftime function\n",
    "df_filtered['col 1'] = df_filtered['col 1'].dt.strftime('%Y-%m-%d')\n",
    "df_filtered['col 4'] = df_filtered['col 4'].dt.strftime('%Y-%m-%d')\n",
    "\n",
    "df_filtered['col 1'] = pd.to_datetime(df_filtered['col 1'])\n",
    "df_filtered['col 4'] = pd.to_datetime(df_filtered['col 4'])\n",
    "df_filtered['col 6'] = df_filtered['col 6'].astype('float')"
   ]
  },
  {
   "cell_type": "code",
   "execution_count": 86,
   "id": "933a373c",
   "metadata": {},
   "outputs": [
    {
     "name": "stdout",
     "output_type": "stream",
     "text": [
      "       col 1      col 4  col 6                  col 8\n",
      "1 2022-03-08 2022-05-13   0.24  2021-07-01-2021-12-31\n"
     ]
    }
   ],
   "source": [
    "# Define a lambda function that splits the date range into start and end dates, converts them to datetime and formats them as strings\n",
    "convert_dates = lambda x: pd.to_datetime(x.split('-')[0], format='%d/%m/%y').strftime('%Y-%m-%d') + '-' + pd.to_datetime(x.split('-')[1], format='%d/%m/%y').strftime('%Y-%m-%d')\n",
    "\n",
    "# Apply the lambda function to the 'date_range' column\n",
    "df_filtered['col 8'] = df_filtered['col 8'].apply(convert_dates)\n",
    "\n",
    "# Print the modified DataFrame\n",
    "print(df_filtered)"
   ]
  },
  {
   "cell_type": "code",
   "execution_count": 87,
   "id": "f77c276a",
   "metadata": {},
   "outputs": [
    {
     "name": "stdout",
     "output_type": "stream",
     "text": [
      "2023-03-08\n"
     ]
    }
   ],
   "source": [
    "xdate = df_filtered.iloc[0, 0]\n",
    "# Add 1 year to the Timestamp\n",
    "xdate = xdate.replace(year=xdate.year+1)\n",
    "xdate = xdate.date()\n",
    "# Print the modified Timestamp\n",
    "print(xdate)"
   ]
  },
  {
   "cell_type": "code",
   "execution_count": 88,
   "id": "5f3305d9",
   "metadata": {},
   "outputs": [
    {
     "name": "stdout",
     "output_type": "stream",
     "text": [
      "2023-05-13\n"
     ]
    }
   ],
   "source": [
    "pdate = df_filtered.iloc[0, 1]\n",
    "# Add 1 year to the Timestamp\n",
    "pdate = pdate.replace(year=pdate.year+1)\n",
    "pdate = pdate.date()\n",
    "# Print the modified Timestamp\n",
    "print(pdate)"
   ]
  },
  {
   "cell_type": "code",
   "execution_count": 89,
   "id": "2601df28",
   "metadata": {},
   "outputs": [
    {
     "name": "stdout",
     "output_type": "stream",
     "text": [
      "0.24\n"
     ]
    }
   ],
   "source": [
    "q4 = df_filtered.iloc[0, 2]\n",
    "print(q4)"
   ]
  },
  {
   "cell_type": "code",
   "execution_count": 72,
   "id": "9475f2bf",
   "metadata": {},
   "outputs": [
    {
     "data": {
      "text/html": [
       "<style type=\"text/css\">\n",
       "</style>\n",
       "<table id=\"T_41322_\">\n",
       "  <thead>\n",
       "    <tr>\n",
       "      <th class=\"blank level0\" >&nbsp;</th>\n",
       "      <th class=\"col_heading level0 col0\" >name</th>\n",
       "      <th class=\"col_heading level0 col1\" >q4</th>\n",
       "      <th class=\"col_heading level0 col2\" >q3</th>\n",
       "      <th class=\"col_heading level0 col3\" >q2</th>\n",
       "      <th class=\"col_heading level0 col4\" >q1</th>\n",
       "      <th class=\"col_heading level0 col5\" >dividend</th>\n",
       "      <th class=\"col_heading level0 col6\" >shares</th>\n",
       "      <th class=\"col_heading level0 col7\" >xdate</th>\n",
       "      <th class=\"col_heading level0 col8\" >paiddate</th>\n",
       "      <th class=\"col_heading level0 col9\" >kind</th>\n",
       "      <th class=\"col_heading level0 col10\" >actual</th>\n",
       "    </tr>\n",
       "  </thead>\n",
       "  <tbody>\n",
       "    <tr>\n",
       "      <th id=\"T_41322_level0_row0\" class=\"row_heading level0 row0\" >0</th>\n",
       "      <td id=\"T_41322_row0_col0\" class=\"data row0 col0\" >PSH</td>\n",
       "      <td id=\"T_41322_row0_col1\" class=\"data row0 col1\" >0.5000</td>\n",
       "      <td id=\"T_41322_row0_col2\" class=\"data row0 col2\" >0.0000</td>\n",
       "      <td id=\"T_41322_row0_col3\" class=\"data row0 col3\" >0.3100</td>\n",
       "      <td id=\"T_41322_row0_col4\" class=\"data row0 col4\" >0.0000</td>\n",
       "      <td id=\"T_41322_row0_col5\" class=\"data row0 col5\" >0.8100</td>\n",
       "      <td id=\"T_41322_row0_col6\" class=\"data row0 col6\" >0</td>\n",
       "      <td id=\"T_41322_row0_col7\" class=\"data row0 col7\" >2023-03-10</td>\n",
       "      <td id=\"T_41322_row0_col8\" class=\"data row0 col8\" >2023-05-20</td>\n",
       "      <td id=\"T_41322_row0_col9\" class=\"data row0 col9\" >None</td>\n",
       "      <td id=\"T_41322_row0_col10\" class=\"data row0 col10\" >0</td>\n",
       "    </tr>\n",
       "  </tbody>\n",
       "</table>\n"
      ],
      "text/plain": [
       "<pandas.io.formats.style.Styler at 0x1fcc0e30d90>"
      ]
     },
     "execution_count": 72,
     "metadata": {},
     "output_type": "execute_result"
    }
   ],
   "source": [
    "dividend.style.format(format_dict)"
   ]
  },
  {
   "cell_type": "code",
   "execution_count": 73,
   "id": "7713379e",
   "metadata": {},
   "outputs": [],
   "source": [
    "sqlUpd = \"\"\"\n",
    "UPDATE dividend\n",
    "SET q4 = %s, dividend = q1+q2+q3+q4, xdate = '%s', paiddate = '%s'\n",
    "WHERE name = '%s'\n",
    "\"\"\"\n",
    "sqlUpd = sqlUpd % (q4, xdate, pdate, name)\n",
    "rp = const.execute(sqlUpd)"
   ]
  },
  {
   "cell_type": "code",
   "execution_count": 74,
   "id": "0dd1bf48",
   "metadata": {},
   "outputs": [
    {
     "data": {
      "text/html": [
       "<style type=\"text/css\">\n",
       "</style>\n",
       "<table id=\"T_7247b_\">\n",
       "  <thead>\n",
       "    <tr>\n",
       "      <th class=\"blank level0\" >&nbsp;</th>\n",
       "      <th class=\"col_heading level0 col0\" >name</th>\n",
       "      <th class=\"col_heading level0 col1\" >q4</th>\n",
       "      <th class=\"col_heading level0 col2\" >q3</th>\n",
       "      <th class=\"col_heading level0 col3\" >q2</th>\n",
       "      <th class=\"col_heading level0 col4\" >q1</th>\n",
       "      <th class=\"col_heading level0 col5\" >dividend</th>\n",
       "      <th class=\"col_heading level0 col6\" >shares</th>\n",
       "      <th class=\"col_heading level0 col7\" >xdate</th>\n",
       "      <th class=\"col_heading level0 col8\" >paiddate</th>\n",
       "      <th class=\"col_heading level0 col9\" >kind</th>\n",
       "      <th class=\"col_heading level0 col10\" >actual</th>\n",
       "    </tr>\n",
       "  </thead>\n",
       "  <tbody>\n",
       "    <tr>\n",
       "      <th id=\"T_7247b_level0_row0\" class=\"row_heading level0 row0\" >0</th>\n",
       "      <td id=\"T_7247b_row0_col0\" class=\"data row0 col0\" >PSH</td>\n",
       "      <td id=\"T_7247b_row0_col1\" class=\"data row0 col1\" >0.6500</td>\n",
       "      <td id=\"T_7247b_row0_col2\" class=\"data row0 col2\" >0.0000</td>\n",
       "      <td id=\"T_7247b_row0_col3\" class=\"data row0 col3\" >0.3100</td>\n",
       "      <td id=\"T_7247b_row0_col4\" class=\"data row0 col4\" >0.0000</td>\n",
       "      <td id=\"T_7247b_row0_col5\" class=\"data row0 col5\" >0.9600</td>\n",
       "      <td id=\"T_7247b_row0_col6\" class=\"data row0 col6\" >0</td>\n",
       "      <td id=\"T_7247b_row0_col7\" class=\"data row0 col7\" >2023-03-10</td>\n",
       "      <td id=\"T_7247b_row0_col8\" class=\"data row0 col8\" >2023-05-20</td>\n",
       "      <td id=\"T_7247b_row0_col9\" class=\"data row0 col9\" >None</td>\n",
       "      <td id=\"T_7247b_row0_col10\" class=\"data row0 col10\" >0</td>\n",
       "    </tr>\n",
       "  </tbody>\n",
       "</table>\n"
      ],
      "text/plain": [
       "<pandas.io.formats.style.Styler at 0x1fcbb324ca0>"
      ]
     },
     "execution_count": 74,
     "metadata": {},
     "output_type": "execute_result"
    }
   ],
   "source": [
    "sql = \"\"\"\n",
    "SELECT * \n",
    "FROM DIVIDEND\n",
    "WHERE name = '%s'\n",
    "\"\"\"\n",
    "sql = sql % name\n",
    "dividend = pd.read_sql(sql, const)\n",
    "dividend.drop(['PRICE', 'PERCENT'], axis=1, inplace=True)\n",
    "dividend.columns = dividend.columns.str.lower()\n",
    "dividend['shares'] = dividend['shares'].astype('int64')\n",
    "dividend['xdate'] = pd.to_datetime(dividend['xdate'])\n",
    "dividend['paiddate'] = pd.to_datetime(dividend['paiddate'])\n",
    "dividend.style.format(format_dict)"
   ]
  },
  {
   "cell_type": "markdown",
   "id": "ed31821b",
   "metadata": {},
   "source": [
    "### Delete dividend record that no longer interested"
   ]
  },
  {
   "cell_type": "code",
   "execution_count": 145,
   "id": "ec04cec4",
   "metadata": {},
   "outputs": [
    {
     "data": {
      "text/plain": [
       "1"
      ]
     },
     "execution_count": 145,
     "metadata": {},
     "output_type": "execute_result"
    }
   ],
   "source": [
    "sqlDel = \"\"\"\n",
    "DELETE FROM dividend\n",
    "WHERE name = 'SCB'\"\"\"\n",
    "rp = const.execute(sqlDel)\n",
    "rp.rowcount"
   ]
  },
  {
   "cell_type": "code",
   "execution_count": null,
   "id": "49c5d907",
   "metadata": {},
   "outputs": [],
   "source": []
  }
 ],
 "metadata": {
  "kernelspec": {
   "display_name": "Python 3 (ipykernel)",
   "language": "python",
   "name": "python3"
  },
  "language_info": {
   "codemirror_mode": {
    "name": "ipython",
    "version": 3
   },
   "file_extension": ".py",
   "mimetype": "text/x-python",
   "name": "python",
   "nbconvert_exporter": "python",
   "pygments_lexer": "ipython3",
   "version": "3.8.11"
  }
 },
 "nbformat": 4,
 "nbformat_minor": 5
}
