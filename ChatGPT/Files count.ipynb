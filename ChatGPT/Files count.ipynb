{
 "cells": [
  {
   "cell_type": "code",
   "execution_count": 1,
   "id": "656f290c",
   "metadata": {},
   "outputs": [],
   "source": [
    "import os\n",
    "\n",
    "def count_files_in_folders(root_folder):\n",
    "    \"\"\"\n",
    "    Count the number of files in each folder under the specified root folder.\n",
    "    \"\"\"\n",
    "    # Create a dictionary to store the counts for each folder\n",
    "    counts = {}\n",
    "\n",
    "    # Walk through the directory tree and count the files in each folder\n",
    "    for root, dirs, files in os.walk(root_folder):\n",
    "        # Count the number of files in this folder\n",
    "        count = len(files)\n",
    "\n",
    "        # Add the count to the dictionary\n",
    "        counts[root] = count\n",
    "\n",
    "    # Return the dictionary of counts\n",
    "    return counts\n"
   ]
  },
  {
   "cell_type": "code",
   "execution_count": 2,
   "id": "af1eca08",
   "metadata": {
    "scrolled": false
   },
   "outputs": [
    {
     "data": {
      "text/plain": [
       "{'C:\\\\Users\\\\User\\\\OneDrive\\\\Pictures\\\\Camera Roll': 1,\n",
       " 'C:\\\\Users\\\\User\\\\OneDrive\\\\Pictures\\\\Camera Roll\\\\2018': 0,\n",
       " 'C:\\\\Users\\\\User\\\\OneDrive\\\\Pictures\\\\Camera Roll\\\\2018\\\\09': 4,\n",
       " 'C:\\\\Users\\\\User\\\\OneDrive\\\\Pictures\\\\Camera Roll\\\\2018\\\\10': 9,\n",
       " 'C:\\\\Users\\\\User\\\\OneDrive\\\\Pictures\\\\Camera Roll\\\\2018\\\\11': 5,\n",
       " 'C:\\\\Users\\\\User\\\\OneDrive\\\\Pictures\\\\Camera Roll\\\\2018\\\\12': 11,\n",
       " 'C:\\\\Users\\\\User\\\\OneDrive\\\\Pictures\\\\Camera Roll\\\\2019': 0,\n",
       " 'C:\\\\Users\\\\User\\\\OneDrive\\\\Pictures\\\\Camera Roll\\\\2019\\\\01': 5,\n",
       " 'C:\\\\Users\\\\User\\\\OneDrive\\\\Pictures\\\\Camera Roll\\\\2019\\\\02': 10,\n",
       " 'C:\\\\Users\\\\User\\\\OneDrive\\\\Pictures\\\\Camera Roll\\\\2019\\\\03': 1,\n",
       " 'C:\\\\Users\\\\User\\\\OneDrive\\\\Pictures\\\\Camera Roll\\\\2019\\\\05': 5,\n",
       " 'C:\\\\Users\\\\User\\\\OneDrive\\\\Pictures\\\\Camera Roll\\\\2019\\\\06': 4,\n",
       " 'C:\\\\Users\\\\User\\\\OneDrive\\\\Pictures\\\\Camera Roll\\\\2019\\\\07': 2,\n",
       " 'C:\\\\Users\\\\User\\\\OneDrive\\\\Pictures\\\\Camera Roll\\\\2019\\\\08': 0,\n",
       " 'C:\\\\Users\\\\User\\\\OneDrive\\\\Pictures\\\\Camera Roll\\\\2019\\\\09': 19,\n",
       " 'C:\\\\Users\\\\User\\\\OneDrive\\\\Pictures\\\\Camera Roll\\\\2019\\\\10': 12,\n",
       " 'C:\\\\Users\\\\User\\\\OneDrive\\\\Pictures\\\\Camera Roll\\\\2019\\\\11': 5,\n",
       " 'C:\\\\Users\\\\User\\\\OneDrive\\\\Pictures\\\\Camera Roll\\\\2019\\\\12': 7,\n",
       " 'C:\\\\Users\\\\User\\\\OneDrive\\\\Pictures\\\\Camera Roll\\\\2020': 0,\n",
       " 'C:\\\\Users\\\\User\\\\OneDrive\\\\Pictures\\\\Camera Roll\\\\2020\\\\01': 7,\n",
       " 'C:\\\\Users\\\\User\\\\OneDrive\\\\Pictures\\\\Camera Roll\\\\2020\\\\02': 12,\n",
       " 'C:\\\\Users\\\\User\\\\OneDrive\\\\Pictures\\\\Camera Roll\\\\2020\\\\03': 12,\n",
       " 'C:\\\\Users\\\\User\\\\OneDrive\\\\Pictures\\\\Camera Roll\\\\2020\\\\04': 4,\n",
       " 'C:\\\\Users\\\\User\\\\OneDrive\\\\Pictures\\\\Camera Roll\\\\2020\\\\05': 4,\n",
       " 'C:\\\\Users\\\\User\\\\OneDrive\\\\Pictures\\\\Camera Roll\\\\2020\\\\06': 13,\n",
       " 'C:\\\\Users\\\\User\\\\OneDrive\\\\Pictures\\\\Camera Roll\\\\2020\\\\07': 3,\n",
       " 'C:\\\\Users\\\\User\\\\OneDrive\\\\Pictures\\\\Camera Roll\\\\2020\\\\08': 79,\n",
       " 'C:\\\\Users\\\\User\\\\OneDrive\\\\Pictures\\\\Camera Roll\\\\2020\\\\09': 1,\n",
       " 'C:\\\\Users\\\\User\\\\OneDrive\\\\Pictures\\\\Camera Roll\\\\2020\\\\10': 0,\n",
       " 'C:\\\\Users\\\\User\\\\OneDrive\\\\Pictures\\\\Camera Roll\\\\2020\\\\11': 12,\n",
       " 'C:\\\\Users\\\\User\\\\OneDrive\\\\Pictures\\\\Camera Roll\\\\2020\\\\12': 24,\n",
       " 'C:\\\\Users\\\\User\\\\OneDrive\\\\Pictures\\\\Camera Roll\\\\2021': 0,\n",
       " 'C:\\\\Users\\\\User\\\\OneDrive\\\\Pictures\\\\Camera Roll\\\\2021\\\\01': 1,\n",
       " 'C:\\\\Users\\\\User\\\\OneDrive\\\\Pictures\\\\Camera Roll\\\\2021\\\\02': 20,\n",
       " 'C:\\\\Users\\\\User\\\\OneDrive\\\\Pictures\\\\Camera Roll\\\\2021\\\\03': 21,\n",
       " 'C:\\\\Users\\\\User\\\\OneDrive\\\\Pictures\\\\Camera Roll\\\\2021\\\\04': 1,\n",
       " 'C:\\\\Users\\\\User\\\\OneDrive\\\\Pictures\\\\Camera Roll\\\\2021\\\\05': 0,\n",
       " 'C:\\\\Users\\\\User\\\\OneDrive\\\\Pictures\\\\Camera Roll\\\\2021\\\\06': 2,\n",
       " 'C:\\\\Users\\\\User\\\\OneDrive\\\\Pictures\\\\Camera Roll\\\\2021\\\\07': 0,\n",
       " 'C:\\\\Users\\\\User\\\\OneDrive\\\\Pictures\\\\Camera Roll\\\\2021\\\\08': 0,\n",
       " 'C:\\\\Users\\\\User\\\\OneDrive\\\\Pictures\\\\Camera Roll\\\\2021\\\\09': 3,\n",
       " 'C:\\\\Users\\\\User\\\\OneDrive\\\\Pictures\\\\Camera Roll\\\\2021\\\\10': 25,\n",
       " 'C:\\\\Users\\\\User\\\\OneDrive\\\\Pictures\\\\Camera Roll\\\\2021\\\\11': 7,\n",
       " 'C:\\\\Users\\\\User\\\\OneDrive\\\\Pictures\\\\Camera Roll\\\\2021\\\\12': 6,\n",
       " 'C:\\\\Users\\\\User\\\\OneDrive\\\\Pictures\\\\Camera Roll\\\\2022': 0,\n",
       " 'C:\\\\Users\\\\User\\\\OneDrive\\\\Pictures\\\\Camera Roll\\\\2022\\\\01': 6,\n",
       " 'C:\\\\Users\\\\User\\\\OneDrive\\\\Pictures\\\\Camera Roll\\\\2022\\\\02': 9,\n",
       " 'C:\\\\Users\\\\User\\\\OneDrive\\\\Pictures\\\\Camera Roll\\\\2022\\\\03': 12,\n",
       " 'C:\\\\Users\\\\User\\\\OneDrive\\\\Pictures\\\\Camera Roll\\\\2022\\\\04': 11,\n",
       " 'C:\\\\Users\\\\User\\\\OneDrive\\\\Pictures\\\\Camera Roll\\\\2022\\\\05': 23,\n",
       " 'C:\\\\Users\\\\User\\\\OneDrive\\\\Pictures\\\\Camera Roll\\\\2022\\\\06': 30,\n",
       " 'C:\\\\Users\\\\User\\\\OneDrive\\\\Pictures\\\\Camera Roll\\\\2022\\\\07': 23,\n",
       " 'C:\\\\Users\\\\User\\\\OneDrive\\\\Pictures\\\\Camera Roll\\\\2022\\\\08': 14,\n",
       " 'C:\\\\Users\\\\User\\\\OneDrive\\\\Pictures\\\\Camera Roll\\\\2022\\\\09': 29,\n",
       " 'C:\\\\Users\\\\User\\\\OneDrive\\\\Pictures\\\\Camera Roll\\\\2022\\\\10': 19,\n",
       " 'C:\\\\Users\\\\User\\\\OneDrive\\\\Pictures\\\\Camera Roll\\\\2022\\\\11': 12,\n",
       " 'C:\\\\Users\\\\User\\\\OneDrive\\\\Pictures\\\\Camera Roll\\\\2022\\\\12': 5,\n",
       " 'C:\\\\Users\\\\User\\\\OneDrive\\\\Pictures\\\\Camera Roll\\\\2023': 0,\n",
       " 'C:\\\\Users\\\\User\\\\OneDrive\\\\Pictures\\\\Camera Roll\\\\2023\\\\01': 6,\n",
       " 'C:\\\\Users\\\\User\\\\OneDrive\\\\Pictures\\\\Camera Roll\\\\2023\\\\02': 0,\n",
       " 'C:\\\\Users\\\\User\\\\OneDrive\\\\Pictures\\\\Camera Roll\\\\cats': 6,\n",
       " 'C:\\\\Users\\\\User\\\\OneDrive\\\\Pictures\\\\Camera Roll\\\\Fri': 17,\n",
       " 'C:\\\\Users\\\\User\\\\OneDrive\\\\Pictures\\\\Camera Roll\\\\jpg': 0,\n",
       " 'C:\\\\Users\\\\User\\\\OneDrive\\\\Pictures\\\\Camera Roll\\\\jpg\\\\2016': 1,\n",
       " 'C:\\\\Users\\\\User\\\\OneDrive\\\\Pictures\\\\Camera Roll\\\\jpg\\\\2017': 0,\n",
       " 'C:\\\\Users\\\\User\\\\OneDrive\\\\Pictures\\\\Camera Roll\\\\jpg\\\\2017\\\\01': 31,\n",
       " 'C:\\\\Users\\\\User\\\\OneDrive\\\\Pictures\\\\Camera Roll\\\\jpg\\\\2017\\\\02': 4,\n",
       " 'C:\\\\Users\\\\User\\\\OneDrive\\\\Pictures\\\\Camera Roll\\\\jpg\\\\2017\\\\03': 14,\n",
       " 'C:\\\\Users\\\\User\\\\OneDrive\\\\Pictures\\\\Camera Roll\\\\jpg\\\\2017\\\\04': 10,\n",
       " 'C:\\\\Users\\\\User\\\\OneDrive\\\\Pictures\\\\Camera Roll\\\\jpg\\\\2017\\\\05': 3,\n",
       " 'C:\\\\Users\\\\User\\\\OneDrive\\\\Pictures\\\\Camera Roll\\\\jpg\\\\2017\\\\06': 12,\n",
       " 'C:\\\\Users\\\\User\\\\OneDrive\\\\Pictures\\\\Camera Roll\\\\jpg\\\\2017\\\\09': 5,\n",
       " 'C:\\\\Users\\\\User\\\\OneDrive\\\\Pictures\\\\Camera Roll\\\\jpg\\\\2017\\\\10': 7,\n",
       " 'C:\\\\Users\\\\User\\\\OneDrive\\\\Pictures\\\\Camera Roll\\\\jpg\\\\2017\\\\11': 8,\n",
       " 'C:\\\\Users\\\\User\\\\OneDrive\\\\Pictures\\\\Camera Roll\\\\jpg\\\\2017\\\\12': 1,\n",
       " 'C:\\\\Users\\\\User\\\\OneDrive\\\\Pictures\\\\Camera Roll\\\\jpg\\\\2018': 0,\n",
       " 'C:\\\\Users\\\\User\\\\OneDrive\\\\Pictures\\\\Camera Roll\\\\jpg\\\\2018\\\\01': 2,\n",
       " 'C:\\\\Users\\\\User\\\\OneDrive\\\\Pictures\\\\Camera Roll\\\\jpg\\\\2018\\\\02': 2,\n",
       " 'C:\\\\Users\\\\User\\\\OneDrive\\\\Pictures\\\\Camera Roll\\\\jpg\\\\2018\\\\03': 5,\n",
       " 'C:\\\\Users\\\\User\\\\OneDrive\\\\Pictures\\\\Camera Roll\\\\jpg\\\\2018\\\\04': 5,\n",
       " 'C:\\\\Users\\\\User\\\\OneDrive\\\\Pictures\\\\Camera Roll\\\\jpg\\\\2018\\\\05': 8,\n",
       " 'C:\\\\Users\\\\User\\\\OneDrive\\\\Pictures\\\\Camera Roll\\\\jpg\\\\2018\\\\07': 6,\n",
       " 'C:\\\\Users\\\\User\\\\OneDrive\\\\Pictures\\\\Camera Roll\\\\jpg\\\\2018\\\\08': 1,\n",
       " 'C:\\\\Users\\\\User\\\\OneDrive\\\\Pictures\\\\Camera Roll\\\\jpg\\\\2018\\\\09': 1,\n",
       " 'C:\\\\Users\\\\User\\\\OneDrive\\\\Pictures\\\\Camera Roll\\\\Mon': 19,\n",
       " 'C:\\\\Users\\\\User\\\\OneDrive\\\\Pictures\\\\Camera Roll\\\\Pol Sci': 26,\n",
       " 'C:\\\\Users\\\\User\\\\OneDrive\\\\Pictures\\\\Camera Roll\\\\Sat': 18,\n",
       " 'C:\\\\Users\\\\User\\\\OneDrive\\\\Pictures\\\\Camera Roll\\\\Sun': 18,\n",
       " 'C:\\\\Users\\\\User\\\\OneDrive\\\\Pictures\\\\Camera Roll\\\\Thu': 14,\n",
       " 'C:\\\\Users\\\\User\\\\OneDrive\\\\Pictures\\\\Camera Roll\\\\Tue': 28,\n",
       " 'C:\\\\Users\\\\User\\\\OneDrive\\\\Pictures\\\\Camera Roll\\\\Wed': 15}"
      ]
     },
     "execution_count": 2,
     "metadata": {},
     "output_type": "execute_result"
    }
   ],
   "source": [
    "counts = count_files_in_folders('C:\\\\Users\\\\User\\\\OneDrive\\\\Pictures\\\\Camera Roll')\n",
    "counts"
   ]
  },
  {
   "cell_type": "code",
   "execution_count": 3,
   "id": "eebb4775",
   "metadata": {},
   "outputs": [
    {
     "data": {
      "text/plain": [
       "{'C:\\\\Users\\\\User\\\\OneDrive\\\\Pictures\\\\Camera Roll\\\\jpg\\\\2017': 0,\n",
       " 'C:\\\\Users\\\\User\\\\OneDrive\\\\Pictures\\\\Camera Roll\\\\jpg\\\\2017\\\\01': 31,\n",
       " 'C:\\\\Users\\\\User\\\\OneDrive\\\\Pictures\\\\Camera Roll\\\\jpg\\\\2017\\\\02': 4,\n",
       " 'C:\\\\Users\\\\User\\\\OneDrive\\\\Pictures\\\\Camera Roll\\\\jpg\\\\2017\\\\03': 14,\n",
       " 'C:\\\\Users\\\\User\\\\OneDrive\\\\Pictures\\\\Camera Roll\\\\jpg\\\\2017\\\\04': 10,\n",
       " 'C:\\\\Users\\\\User\\\\OneDrive\\\\Pictures\\\\Camera Roll\\\\jpg\\\\2017\\\\05': 3,\n",
       " 'C:\\\\Users\\\\User\\\\OneDrive\\\\Pictures\\\\Camera Roll\\\\jpg\\\\2017\\\\06': 12,\n",
       " 'C:\\\\Users\\\\User\\\\OneDrive\\\\Pictures\\\\Camera Roll\\\\jpg\\\\2017\\\\09': 5,\n",
       " 'C:\\\\Users\\\\User\\\\OneDrive\\\\Pictures\\\\Camera Roll\\\\jpg\\\\2017\\\\10': 7,\n",
       " 'C:\\\\Users\\\\User\\\\OneDrive\\\\Pictures\\\\Camera Roll\\\\jpg\\\\2017\\\\11': 8,\n",
       " 'C:\\\\Users\\\\User\\\\OneDrive\\\\Pictures\\\\Camera Roll\\\\jpg\\\\2017\\\\12': 1}"
      ]
     },
     "execution_count": 3,
     "metadata": {},
     "output_type": "execute_result"
    }
   ],
   "source": [
    "counts = count_files_in_folders('C:\\\\Users\\\\User\\\\OneDrive\\\\Pictures\\\\Camera Roll\\\\jpg\\\\2017')\n",
    "counts"
   ]
  },
  {
   "cell_type": "code",
   "execution_count": null,
   "id": "3d638090",
   "metadata": {},
   "outputs": [],
   "source": []
  }
 ],
 "metadata": {
  "kernelspec": {
   "display_name": "Python 3 (ipykernel)",
   "language": "python",
   "name": "python3"
  },
  "language_info": {
   "codemirror_mode": {
    "name": "ipython",
    "version": 3
   },
   "file_extension": ".py",
   "mimetype": "text/x-python",
   "name": "python",
   "nbconvert_exporter": "python",
   "pygments_lexer": "ipython3",
   "version": "3.8.11"
  }
 },
 "nbformat": 4,
 "nbformat_minor": 5
}
