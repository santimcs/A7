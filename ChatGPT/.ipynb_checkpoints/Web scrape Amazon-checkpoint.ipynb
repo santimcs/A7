{
 "cells": [
  {
   "cell_type": "code",
   "execution_count": 1,
   "id": "03ed3c2e",
   "metadata": {},
   "outputs": [],
   "source": [
    "from selenium import webdriver\n",
    "from selenium.webdriver.common.by import By\n",
    "from time import sleep"
   ]
  },
  {
   "cell_type": "code",
   "execution_count": 2,
   "id": "f437011a",
   "metadata": {},
   "outputs": [
    {
     "name": "stderr",
     "output_type": "stream",
     "text": [
      "C:\\Users\\User\\AppData\\Local\\Temp/ipykernel_11860/1947799219.py:2: DeprecationWarning: executable_path has been deprecated, please pass in a Service object\n",
      "  driver = webdriver.Chrome(\"C:\\\\Users\\\\User\\\\Documents\\\\chromedriver.exe\")\n"
     ]
    }
   ],
   "source": [
    "#initialize webdriver\n",
    "driver = webdriver.Chrome(\"C:\\\\Users\\\\User\\\\Documents\\\\chromedriver.exe\")\n"
   ]
  },
  {
   "cell_type": "code",
   "execution_count": 3,
   "id": "bf2569d6",
   "metadata": {},
   "outputs": [],
   "source": [
    "#navigate to the website\n",
    "driver.get(\"https://www.amazon.com/s?k=self+help+books&sprefix=self+help+%2Caps%2C158&ref=nb_sb_ss_ts-doa-p_2_10\")\n",
    "\n",
    "#wait 5 seconds to let the page load\n",
    "sleep(5)"
   ]
  },
  {
   "cell_type": "code",
   "execution_count": 4,
   "id": "b055dc18",
   "metadata": {},
   "outputs": [
    {
     "name": "stdout",
     "output_type": "stream",
     "text": [
      "Stop Overthinking: 23 Techniques to Relieve Stress, Stop Negative Spirals, Declutter Your Mind, and Focus on the Present (The Path to Calm)\n",
      "Healthy Boundaries: How to Set Strong Boundaries, Say No Without Guilt, and Maintain Good Relationships With Your Parents, Family, and Friends\n",
      "The Core of Success: Step by Step Principles for Achieving Anything - Mastering the Skills of Top Performers to Build Happiness, Wealth & Freedom (The core of Success Series)\n",
      "The Gifts of Imperfection: 10th Anniversary Edition: Features a new foreword and brand-new tools\n",
      "Stop Overthinking: 23 Techniques to Relieve Stress, Stop Negative Spirals, Declutter Your Mind, and Focus on the Present (The Path to Calm)\n",
      "Let That Sh*t Go: A Journal for Leaving Your Bullsh*t Behind and Creating a Happy Life (Zen as F*ck Journals)\n",
      "Unfuck Your Brain: Getting Over Anxiety, Depression, Anger, Freak-Outs, and Triggers with science (5-Minute Therapy)\n",
      "The Body Keeps the Score: Brain, Mind, and Body in the Healing of Trauma\n",
      "Atomic Habits: An Easy & Proven Way to Build Good Habits & Break Bad Ones\n",
      "Don't Believe Everything You Think: Why Your Thinking Is The Beginning & End Of Suffering (Beyond Suffering)\n",
      "The Four Agreements: A Practical Guide to Personal Freedom (A Toltec Wisdom Book)\n",
      "Make Your Bed: Little Things That Can Change Your Life...And Maybe the World\n",
      "How to Talk to Anyone: Master Small Talk, Improve your Social Skills, and Build Meaningful Relationships (Communication Mastery Series)\n",
      "Memory Games for Seniors: A Large Print XXL Puzzle Activity Book with 501 Exciting and Funny Brain Exercises to Increase Cognitive Abilities [The Smart Senior Adult's Gift]\n",
      "Holy Donkeys, I'm over 60!\n",
      "Recovery from Narcissistic Abuse, Gaslighting, Codependency and Complex PTSD (4 Books in 1): Workbook and Guide to Overcome Trauma, Toxic ... and Recover from Unhealthy Relationships)\n",
      "The Gifts of Imperfection: 10th Anniversary Edition: Features a new foreword and brand-new tools\n",
      "A New Earth: Awakening to Your Life's Purpose (Oprah's Book Club, Selection 61)\n",
      "Stop Overthinking: 23 Techniques to Relieve Stress, Stop Negative Spirals, Declutter Your Mind, and Focus on the Present (The Path to Calm)\n",
      "\n",
      "\n",
      "\n",
      "The 48 Laws of Power\n",
      "The Mountain Is You: Transforming Self-Sabotage into Self-Mastery\n",
      "The Alchemist, 25th Anniversary: A Fable About Following Your Dream\n",
      "Unstuck (for women): Break Free From Self-Doubt and Stop Overthinking Using The Spiral Stopper Method To Take Control of Your Emotions, Build Confidence & Self Love\n",
      "Empath and Psychic Abilities: A Survival Guide for Overcoming Stress, Eliminating Negative Energy, and Ditching Toxic Relationships\n",
      "How Highly Effective People Speak: How High Performers Use Psychology to Influence With Ease (Speak for Success)\n",
      "Master Your Emotions: A Practical Guide to Overcome Negativity and Better Manage Your Feelings (Mastery Series)\n",
      "Self-Love Workbook for Women: Release Self-Doubt, Build Self-Compassion, and Embrace Who You Are (Self-Help Workbooks for Women)\n",
      "The Subtle Art of Not Giving a F*ck: A Counterintuitive Approach to Living a Good Life\n",
      "Signs: The Secret Language of the Universe\n",
      "The Makings of a Powerful Bitch: A Woman's Guide to Embracing Change and Finding Peace and Purpose\n",
      "Ikigai: The Japanese Secret to a Long and Happy Life\n",
      "It Didn't Start with You: How Inherited Family Trauma Shapes Who We Are and How to End the Cycle\n",
      "Can't Hurt Me: Master Your Mind and Defy the Odds\n",
      "How to Win Friends & Influence People\n",
      "You Are a Badass: How to Stop Doubting Your Greatness and Start Living an Awesome Life\n",
      "Better Small Talk: Talk to Anyone, Avoid Awkwardness, Generate Deep Conversations, and Make Real Friends (How to be More Likable and Charismatic)\n",
      "The Power of One More: The Ultimate Guide to Happiness and Success\n",
      "Think Like a Monk: Train Your Mind for Peace and Purpose Every Day\n",
      "Healing Is a Gift: Poems for Those Who Need to Grow\n",
      "Unfu*k Yourself: Get Out of Your Head and into Your Life\n",
      "Good Vibes, Good Life: How Self-Love Is the Key to Unlocking Your Greatness\n",
      "Daily Rituals: Positive Affirmations to Attract Love, Happiness and Peace\n",
      "Stop Overthinking!: 9 Steps to Eliminate Stress, Anxiety, Negativity and Focus on Your Productivity\n",
      "Soul Therapy: A 365 day journal for self exploration, healing and reflection\n",
      "Becoming the One: Heal Your Past, Transform Your Relationship Patterns, and Come Home to Yourself\n",
      "Read People Like a Book: How to Analyze, Understand, and Predict People’s Emotions, Thoughts, Intentions, and Behaviors (How to be More Likable and Charismatic)\n",
      "I'm Setting Healthy Boundaries, Don't Ask Me for Sh!t: A Guide to Set Boundaries with Friends, Family, at Work, and Everyday Life\n",
      "The Mastery of Self: A Toltec Guide to Personal Freedom (Toltec Mastery Series)\n",
      "How to Stop Worrying and Start Living: Time-Tested Methods for Conquering Worry\n",
      "You Owe You: Ignite Your Power, Your Purpose, and Your Why\n",
      "Master Your Emotions: A Practical Guide to Overcome Negativity and Better Manage Your Feelings (Mastery Series)\n",
      "Set Boundaries, Find Peace: A Guide to Reclaiming Yourself\n",
      "The 7 Habits of Highly Effective People: 30th Anniversary Edition\n",
      "Eliminate Negative Thinking: How to Overcome Negativity, Control Your Thoughts, And Stop Overthinking. Shift Your Focus into Positive Thinking, Self-Acceptance, And Radical Self Love\n",
      "Dear Self\n",
      "Winning the War in Your Mind: Change Your Thinking, Change Your Life\n",
      "Forgiving What You Can't Forget: Discover How to Move On, Make Peace with Painful Memories, and Create a Life That’s Beautiful Again\n",
      "Mindfulness: The Most Effective Techniques: Connect With Your Inner Self To Reach Your Goals Easily and Peacefully (Down-to-Earth Spirituality for Everyday People)\n",
      "How Highly Effective People Speak: How High Performers Use Psychology to Influence With Ease (Speak for Success)\n",
      "The Magic of Thinking Big\n",
      "Daily Life Book Series for the Twenty Somethings: 365 Daily Chapters\n",
      "Tiny Habits: The Small Changes That Change Everything\n"
     ]
    }
   ],
   "source": [
    "#locate all the elements with the following xpath\n",
    "elements = driver.find_elements(By.XPATH, '//span[@class=\"a-size-base-plus a-color-base a-text-normal\"]')\n",
    "\n",
    "#get the text attribute of each element and print it\n",
    "for element in elements:\n",
    "    print(element.text)\n",
    "\n",
    "#close the webdriver\n",
    "driver.close()"
   ]
  },
  {
   "cell_type": "code",
   "execution_count": null,
   "id": "9a311dca",
   "metadata": {},
   "outputs": [],
   "source": []
  }
 ],
 "metadata": {
  "kernelspec": {
   "display_name": "Python 3 (ipykernel)",
   "language": "python",
   "name": "python3"
  },
  "language_info": {
   "codemirror_mode": {
    "name": "ipython",
    "version": 3
   },
   "file_extension": ".py",
   "mimetype": "text/x-python",
   "name": "python",
   "nbconvert_exporter": "python",
   "pygments_lexer": "ipython3",
   "version": "3.8.11"
  }
 },
 "nbformat": 4,
 "nbformat_minor": 5
}
