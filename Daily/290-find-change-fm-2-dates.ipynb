{
 "cells": [
  {
   "cell_type": "code",
   "execution_count": 1,
   "id": "31be311b",
   "metadata": {},
   "outputs": [
    {
     "data": {
      "text/plain": [
       "(datetime.date(2023, 9, 1), datetime.date(2023, 8, 31))"
      ]
     },
     "execution_count": 1,
     "metadata": {},
     "output_type": "execute_result"
    }
   ],
   "source": [
    "import os\n",
    "import pandas as pd\n",
    "import numpy as np\n",
    "from sqlalchemy import create_engine\n",
    "from datetime import date, timedelta\n",
    "from pandas.tseries.offsets import * \n",
    "import calendar\n",
    "\n",
    "pd.options.display.max_rows = 30\n",
    "float_formatter = \"฿{:,.2f}\"\n",
    "\n",
    "engine = create_engine(\"mysql+pymysql://root:@localhost:3306/stock\")\n",
    "const = engine.connect()\n",
    "\n",
    "data_path = \"../data/\"\n",
    "csv_path = \"\\\\Users\\\\User\\\\iCloudDrive\\\\\"\n",
    "one_path = \"\\\\Users\\\\User\\\\OneDrive\\\\Documents\\\\Data\\\\\"\n",
    "osd_path = \"\\\\Users\\\\User\\\\OneDrive\\\\Documents\\\\obsidian-git-sync\\\\Data\\\\\"\n",
    "\n",
    "today = date.today()\n",
    "yesterday = today - timedelta(days=1)\n",
    "today, yesterday"
   ]
  },
  {
   "cell_type": "code",
   "execution_count": 2,
   "id": "63fb0153",
   "metadata": {},
   "outputs": [
    {
     "data": {
      "text/plain": [
       "(datetime.date(2023, 9, 1), datetime.date(2023, 8, 31))"
      ]
     },
     "execution_count": 2,
     "metadata": {},
     "output_type": "execute_result"
    }
   ],
   "source": [
    "#today = date(2023, 4, 25)\n",
    "yesterday = today - timedelta(days=1)\n",
    "today, yesterday"
   ]
  },
  {
   "cell_type": "code",
   "execution_count": 3,
   "id": "980e1dce",
   "metadata": {},
   "outputs": [
    {
     "name": "stdout",
     "output_type": "stream",
     "text": [
      "today: 2023-09-01\n",
      "Today in mm-dd format: 09-01\n",
      "yesterday: 2023-08-31 00:00:00\n"
     ]
    }
   ],
   "source": [
    "# convert the timedelta object to a BusinessDay object\n",
    "num_business_days = BDay(1)\n",
    "yesterday = today - num_business_days\n",
    "print(f'today: {today}')\n",
    "to_mmdd = today.strftime('%m-%d')\n",
    "print(f'Today in mm-dd format: {to_mmdd}')\n",
    "print(f'yesterday: {yesterday}')"
   ]
  },
  {
   "cell_type": "code",
   "execution_count": 4,
   "id": "5fbb9102",
   "metadata": {},
   "outputs": [
    {
     "data": {
      "text/plain": [
       "Timestamp('2023-08-31 00:00:00')"
      ]
     },
     "execution_count": 4,
     "metadata": {},
     "output_type": "execute_result"
    }
   ],
   "source": [
    "#yesterday = yesterday.date()\n",
    "yesterday"
   ]
  },
  {
   "cell_type": "code",
   "execution_count": 5,
   "id": "4e39170b",
   "metadata": {},
   "outputs": [
    {
     "data": {
      "text/html": [
       "<div>\n",
       "<style scoped>\n",
       "    .dataframe tbody tr th:only-of-type {\n",
       "        vertical-align: middle;\n",
       "    }\n",
       "\n",
       "    .dataframe tbody tr th {\n",
       "        vertical-align: top;\n",
       "    }\n",
       "\n",
       "    .dataframe thead th {\n",
       "        text-align: right;\n",
       "    }\n",
       "</style>\n",
       "<table border=\"1\" class=\"dataframe\">\n",
       "  <thead>\n",
       "    <tr style=\"text-align: right;\">\n",
       "      <th></th>\n",
       "      <th>period</th>\n",
       "      <th>name</th>\n",
       "      <th>shares</th>\n",
       "    </tr>\n",
       "  </thead>\n",
       "  <tbody>\n",
       "    <tr>\n",
       "      <th>0</th>\n",
       "      <td>1</td>\n",
       "      <td>MCS</td>\n",
       "      <td>78000</td>\n",
       "    </tr>\n",
       "    <tr>\n",
       "      <th>1</th>\n",
       "      <td>1</td>\n",
       "      <td>PTTGC</td>\n",
       "      <td>6000</td>\n",
       "    </tr>\n",
       "    <tr>\n",
       "      <th>2</th>\n",
       "      <td>1</td>\n",
       "      <td>SINGER</td>\n",
       "      <td>6000</td>\n",
       "    </tr>\n",
       "    <tr>\n",
       "      <th>3</th>\n",
       "      <td>1</td>\n",
       "      <td>SYNEX</td>\n",
       "      <td>15000</td>\n",
       "    </tr>\n",
       "    <tr>\n",
       "      <th>4</th>\n",
       "      <td>2</td>\n",
       "      <td>AIMIRT</td>\n",
       "      <td>10000</td>\n",
       "    </tr>\n",
       "    <tr>\n",
       "      <th>...</th>\n",
       "      <td>...</td>\n",
       "      <td>...</td>\n",
       "      <td>...</td>\n",
       "    </tr>\n",
       "    <tr>\n",
       "      <th>26</th>\n",
       "      <td>4</td>\n",
       "      <td>KCE</td>\n",
       "      <td>10000</td>\n",
       "    </tr>\n",
       "    <tr>\n",
       "      <th>27</th>\n",
       "      <td>4</td>\n",
       "      <td>PTG</td>\n",
       "      <td>3600</td>\n",
       "    </tr>\n",
       "    <tr>\n",
       "      <th>28</th>\n",
       "      <td>4</td>\n",
       "      <td>SCC</td>\n",
       "      <td>600</td>\n",
       "    </tr>\n",
       "    <tr>\n",
       "      <th>29</th>\n",
       "      <td>4</td>\n",
       "      <td>SENA</td>\n",
       "      <td>105000</td>\n",
       "    </tr>\n",
       "    <tr>\n",
       "      <th>30</th>\n",
       "      <td>4</td>\n",
       "      <td>TMT</td>\n",
       "      <td>36000</td>\n",
       "    </tr>\n",
       "  </tbody>\n",
       "</table>\n",
       "<p>31 rows × 3 columns</p>\n",
       "</div>"
      ],
      "text/plain": [
       "   period    name  shares\n",
       "0       1     MCS   78000\n",
       "1       1   PTTGC    6000\n",
       "2       1  SINGER    6000\n",
       "3       1   SYNEX   15000\n",
       "4       2  AIMIRT   10000\n",
       "..    ...     ...     ...\n",
       "26      4     KCE   10000\n",
       "27      4     PTG    3600\n",
       "28      4     SCC     600\n",
       "29      4    SENA  105000\n",
       "30      4     TMT   36000\n",
       "\n",
       "[31 rows x 3 columns]"
      ]
     },
     "execution_count": 5,
     "metadata": {},
     "output_type": "execute_result"
    }
   ],
   "source": [
    "sql = '''\n",
    "SELECT period, name, volbuy AS shares\n",
    "FROM buy\n",
    "ORDER BY period, name'''\n",
    "buy = pd.read_sql(sql, const)\n",
    "buy['shares'] = buy['shares'].astype('int64')\n",
    "buy"
   ]
  },
  {
   "cell_type": "code",
   "execution_count": 6,
   "id": "6d7f4cee",
   "metadata": {},
   "outputs": [],
   "source": [
    "file_name = \"buy-input.csv\"\n",
    "data_file = data_path + file_name\n",
    "osd_file = osd_path + file_name\n",
    "buy.to_csv(data_file, index=False)\n",
    "buy.to_csv(osd_file, index=False)"
   ]
  },
  {
   "cell_type": "code",
   "execution_count": 7,
   "id": "ab5982d3",
   "metadata": {},
   "outputs": [
    {
     "data": {
      "text/plain": [
       "name      object\n",
       "date      object\n",
       "price    float64\n",
       "maxp     float64\n",
       "minp     float64\n",
       "qty        int64\n",
       "opnp     float64\n",
       "dtype: object"
      ]
     },
     "execution_count": 7,
     "metadata": {},
     "output_type": "execute_result"
    }
   ],
   "source": [
    "sql = \"\"\"\n",
    "SELECT *\n",
    "FROM price\n",
    "LIMIT 1\"\"\"\n",
    "prices = pd.read_sql(sql, const)\n",
    "prices.dtypes"
   ]
  },
  {
   "cell_type": "markdown",
   "id": "44d7b76b",
   "metadata": {},
   "source": [
    "### Call ruby ruby\\find-change-fm-2-dates.rb"
   ]
  },
  {
   "cell_type": "code",
   "execution_count": 8,
   "id": "cdbb2775",
   "metadata": {},
   "outputs": [
    {
     "data": {
      "text/plain": [
       "'C:\\\\Users\\\\User\\\\OneDrive\\\\A7\\\\Daily'"
      ]
     },
     "execution_count": 8,
     "metadata": {},
     "output_type": "execute_result"
    }
   ],
   "source": [
    "%pwd"
   ]
  },
  {
   "cell_type": "code",
   "execution_count": 9,
   "id": "cdf8bc38",
   "metadata": {},
   "outputs": [
    {
     "data": {
      "text/plain": [
       "'C:\\\\users\\\\user\\\\onedrive\\\\a7'"
      ]
     },
     "execution_count": 9,
     "metadata": {},
     "output_type": "execute_result"
    }
   ],
   "source": [
    "os.chdir(\"C:\\\\users\\\\user\\\\onedrive\\\\a7\")\n",
    "%pwd"
   ]
  },
  {
   "cell_type": "code",
   "execution_count": 10,
   "id": "0e9cf2df",
   "metadata": {
    "scrolled": true
   },
   "outputs": [
    {
     "name": "stdout",
     "output_type": "stream",
     "text": [
      "    period       name     shares      date1      date2     price1     price2     change    %change     amount        spd\n",
      "         1        MCS      78000   22-12-30   23-09-01       8.95       6.80      -2.15     -24.02 -167,700.00        -43\n",
      "         1      PTTGC       6000   22-12-30   23-09-01      47.25      37.00     -10.25     -21.69 -61,500.00        -41\n",
      "         1     SINGER       6000   22-12-30   23-09-01      28.75      14.10     -14.65     -50.96 -87,900.00       -124\n",
      "         1      SYNEX      15000   22-12-30   23-09-01      16.40      13.60      -2.80     -17.07 -42,000.00        -28\n",
      "         2     AIMIRT      10000   22-12-30   23-09-01      12.10      10.80      -1.30     -10.74 -13,000.00        -13\n",
      "         2     AIMIRT      10000   22-12-30   23-09-01      12.10      10.80      -1.30     -10.74 -13,000.00        -13\n",
      "         2     AIMIRT      10000   22-12-30   23-09-01      12.10      10.80      -1.30     -10.74 -13,000.00        -13\n",
      "         2        ASP      30000   22-12-30   23-09-01       2.98       2.94      -0.04      -1.34  -1,200.00         -2\n",
      "         2    CPNREIT      60000   22-12-30   23-09-01      19.50      11.00      -8.50     -43.59 -510,000.00        -85\n",
      "         2        DIF      30000   22-12-30   23-09-01      13.20       9.35      -3.85     -29.17 -115,500.00        -45\n",
      "         2     GVREIT      42000   22-12-30   23-09-01       9.10       7.00      -2.10     -23.08 -88,200.00        -42\n",
      "         2      JASIF     130000   22-12-30   23-09-01       8.05       6.75      -1.30     -16.15 -169,000.00        -26\n",
      "         2        RCL      27000   22-12-30   23-09-01      30.75      21.50      -9.25     -30.08 -249,750.00        -58\n",
      "         2        STA       5000   22-12-30   23-09-01      21.10      15.30      -5.80     -27.49 -29,000.00        -58\n",
      "         2      TFFIF      20000   22-12-30   23-09-01       7.65       7.50      -0.15      -1.96  -3,000.00         -3\n",
      "         2      WHAIR      50000   22-12-30   23-09-01       7.45       7.00      -0.45      -6.04 -22,500.00         -9\n",
      "         2      WHART      20000   22-12-30   23-09-01      10.70      10.60      -0.10      -0.93  -2,000.00         -1\n",
      "         3         AH       1200   22-12-30   23-09-01      29.75      36.00       6.25      21.01   7,500.00         25\n",
      "         3        ASK       4500   22-12-30   23-09-01      35.50      25.25     -10.25     -28.87 -46,125.00        -41\n",
      "         3        AWC       9000   22-12-30   23-09-01       6.30       4.26      -2.04     -32.38 -18,360.00        -63\n",
      "         3        JMT       4200   22-12-30   23-09-01      69.00      46.25     -22.75     -32.97 -95,550.00        -91\n",
      "         3        NER      27000   22-12-30   23-09-01       6.35       4.92      -1.43     -22.52 -38,610.00        -31\n",
      "         3        ORI      45000   22-12-30   23-09-01      12.10      10.50      -1.60     -13.22 -72,000.00        -16\n",
      "         4        BCH      15000   22-12-30   23-09-01      20.50      19.00      -1.50      -7.32 -22,500.00        -15\n",
      "         4        IVL       7200   22-12-30   23-09-01      40.75      29.00     -11.75     -28.83 -84,600.00        -47\n",
      "         4      JMART       6000   22-12-30   23-09-01      40.75      23.20     -17.55     -43.07 -105,300.00        -81\n",
      "         4        KCE      10000   22-12-30   23-09-01      46.50      51.50       5.00      10.75  50,000.00         20\n",
      "         4        PTG       3600   22-12-30   23-09-01      14.50      10.40      -4.10     -28.28 -14,760.00        -41\n",
      "         4        SCC        600   22-12-30   23-09-01     342.00     312.00     -30.00      -8.77 -18,000.00        -30\n",
      "         4       SENA     105000   22-12-30   23-09-01       3.94       2.86      -1.08     -27.41 -113,400.00        -54\n",
      "         4        TMT      36000   22-12-30   23-09-01       7.80       7.10      -0.70      -8.97 -25,200.00        -14\n"
     ]
    }
   ],
   "source": [
    "!ruby ruby\\\\find-change-fm-2-dates.rb '2022-12-30' '2023-09-01'"
   ]
  },
  {
   "cell_type": "code",
   "execution_count": 11,
   "id": "c2eec668",
   "metadata": {},
   "outputs": [
    {
     "data": {
      "text/plain": [
       "'C:\\\\users\\\\user\\\\onedrive\\\\a7\\\\Daily'"
      ]
     },
     "execution_count": 11,
     "metadata": {},
     "output_type": "execute_result"
    }
   ],
   "source": [
    "os.chdir(\"C:\\\\users\\\\user\\\\onedrive\\\\a7\\\\Daily\")\n",
    "%pwd"
   ]
  },
  {
   "cell_type": "code",
   "execution_count": 12,
   "id": "8ff4ebf6",
   "metadata": {},
   "outputs": [
    {
     "data": {
      "text/html": [
       "<div>\n",
       "<style scoped>\n",
       "    .dataframe tbody tr th:only-of-type {\n",
       "        vertical-align: middle;\n",
       "    }\n",
       "\n",
       "    .dataframe tbody tr th {\n",
       "        vertical-align: top;\n",
       "    }\n",
       "\n",
       "    .dataframe thead th {\n",
       "        text-align: right;\n",
       "    }\n",
       "</style>\n",
       "<table border=\"1\" class=\"dataframe\">\n",
       "  <thead>\n",
       "    <tr style=\"text-align: right;\">\n",
       "      <th></th>\n",
       "      <th>period</th>\n",
       "      <th>name</th>\n",
       "      <th>shares</th>\n",
       "      <th>date1</th>\n",
       "      <th>date2</th>\n",
       "      <th>price1</th>\n",
       "      <th>price2</th>\n",
       "      <th>change</th>\n",
       "      <th>%change</th>\n",
       "      <th>amount</th>\n",
       "      <th>spd</th>\n",
       "    </tr>\n",
       "  </thead>\n",
       "  <tbody>\n",
       "    <tr>\n",
       "      <th>26</th>\n",
       "      <td>4</td>\n",
       "      <td>KCE</td>\n",
       "      <td>10000</td>\n",
       "      <td>2022-12-30</td>\n",
       "      <td>2023-09-01</td>\n",
       "      <td>46.5</td>\n",
       "      <td>51.50</td>\n",
       "      <td>5.00</td>\n",
       "      <td>10.75</td>\n",
       "      <td>50000.0</td>\n",
       "      <td>20</td>\n",
       "    </tr>\n",
       "    <tr>\n",
       "      <th>19</th>\n",
       "      <td>3</td>\n",
       "      <td>AWC</td>\n",
       "      <td>9000</td>\n",
       "      <td>2022-12-30</td>\n",
       "      <td>2023-09-01</td>\n",
       "      <td>6.3</td>\n",
       "      <td>4.26</td>\n",
       "      <td>-2.04</td>\n",
       "      <td>-32.38</td>\n",
       "      <td>-18360.0</td>\n",
       "      <td>-63</td>\n",
       "    </tr>\n",
       "    <tr>\n",
       "      <th>28</th>\n",
       "      <td>4</td>\n",
       "      <td>SCC</td>\n",
       "      <td>600</td>\n",
       "      <td>2022-12-30</td>\n",
       "      <td>2023-09-01</td>\n",
       "      <td>342.0</td>\n",
       "      <td>312.00</td>\n",
       "      <td>-30.00</td>\n",
       "      <td>-8.77</td>\n",
       "      <td>-18000.0</td>\n",
       "      <td>-30</td>\n",
       "    </tr>\n",
       "    <tr>\n",
       "      <th>5</th>\n",
       "      <td>2</td>\n",
       "      <td>AIMIRT</td>\n",
       "      <td>10000</td>\n",
       "      <td>2022-12-30</td>\n",
       "      <td>2023-09-01</td>\n",
       "      <td>12.1</td>\n",
       "      <td>10.80</td>\n",
       "      <td>-1.30</td>\n",
       "      <td>-10.74</td>\n",
       "      <td>-13000.0</td>\n",
       "      <td>-13</td>\n",
       "    </tr>\n",
       "    <tr>\n",
       "      <th>23</th>\n",
       "      <td>4</td>\n",
       "      <td>BCH</td>\n",
       "      <td>15000</td>\n",
       "      <td>2022-12-30</td>\n",
       "      <td>2023-09-01</td>\n",
       "      <td>20.5</td>\n",
       "      <td>19.00</td>\n",
       "      <td>-1.50</td>\n",
       "      <td>-7.32</td>\n",
       "      <td>-22500.0</td>\n",
       "      <td>-15</td>\n",
       "    </tr>\n",
       "  </tbody>\n",
       "</table>\n",
       "</div>"
      ],
      "text/plain": [
       "    period    name  shares       date1       date2  price1  price2  change  \\\n",
       "26       4     KCE   10000  2022-12-30  2023-09-01    46.5   51.50    5.00   \n",
       "19       3     AWC    9000  2022-12-30  2023-09-01     6.3    4.26   -2.04   \n",
       "28       4     SCC     600  2022-12-30  2023-09-01   342.0  312.00  -30.00   \n",
       "5        2  AIMIRT   10000  2022-12-30  2023-09-01    12.1   10.80   -1.30   \n",
       "23       4     BCH   15000  2022-12-30  2023-09-01    20.5   19.00   -1.50   \n",
       "\n",
       "    %change   amount  spd  \n",
       "26    10.75  50000.0   20  \n",
       "19   -32.38 -18360.0  -63  \n",
       "28    -8.77 -18000.0  -30  \n",
       "5    -10.74 -13000.0  -13  \n",
       "23    -7.32 -22500.0  -15  "
      ]
     },
     "execution_count": 12,
     "metadata": {},
     "output_type": "execute_result"
    }
   ],
   "source": [
    "data_path = \"../data/\"\n",
    "file_name   = 'prices-change.csv'\n",
    "input_file = data_path + file_name\n",
    "df = pd.read_csv(input_file, sep=',', index_col=None)\n",
    "df.sample(5)"
   ]
  },
  {
   "cell_type": "code",
   "execution_count": 13,
   "id": "e7588588",
   "metadata": {},
   "outputs": [
    {
     "data": {
      "text/html": [
       "<div>\n",
       "<style scoped>\n",
       "    .dataframe tbody tr th:only-of-type {\n",
       "        vertical-align: middle;\n",
       "    }\n",
       "\n",
       "    .dataframe tbody tr th {\n",
       "        vertical-align: top;\n",
       "    }\n",
       "\n",
       "    .dataframe thead th {\n",
       "        text-align: right;\n",
       "    }\n",
       "</style>\n",
       "<table border=\"1\" class=\"dataframe\">\n",
       "  <thead>\n",
       "    <tr style=\"text-align: right;\">\n",
       "      <th></th>\n",
       "      <th>period</th>\n",
       "      <th>name</th>\n",
       "      <th>shares</th>\n",
       "      <th>date1</th>\n",
       "      <th>date2</th>\n",
       "      <th>price1</th>\n",
       "      <th>price2</th>\n",
       "      <th>change</th>\n",
       "      <th>%change</th>\n",
       "      <th>amount</th>\n",
       "      <th>spd</th>\n",
       "    </tr>\n",
       "  </thead>\n",
       "  <tbody>\n",
       "    <tr>\n",
       "      <th>6</th>\n",
       "      <td>2</td>\n",
       "      <td>AIMIRT</td>\n",
       "      <td>10000</td>\n",
       "      <td>2022-12-30</td>\n",
       "      <td>2023-09-01</td>\n",
       "      <td>12.10</td>\n",
       "      <td>10.80</td>\n",
       "      <td>-1.30</td>\n",
       "      <td>-10.74</td>\n",
       "      <td>-13000.0</td>\n",
       "      <td>-13</td>\n",
       "    </tr>\n",
       "    <tr>\n",
       "      <th>22</th>\n",
       "      <td>3</td>\n",
       "      <td>ORI</td>\n",
       "      <td>45000</td>\n",
       "      <td>2022-12-30</td>\n",
       "      <td>2023-09-01</td>\n",
       "      <td>12.10</td>\n",
       "      <td>10.50</td>\n",
       "      <td>-1.60</td>\n",
       "      <td>-13.22</td>\n",
       "      <td>-72000.0</td>\n",
       "      <td>-16</td>\n",
       "    </tr>\n",
       "    <tr>\n",
       "      <th>21</th>\n",
       "      <td>3</td>\n",
       "      <td>NER</td>\n",
       "      <td>27000</td>\n",
       "      <td>2022-12-30</td>\n",
       "      <td>2023-09-01</td>\n",
       "      <td>6.35</td>\n",
       "      <td>4.92</td>\n",
       "      <td>-1.43</td>\n",
       "      <td>-22.52</td>\n",
       "      <td>-38610.0</td>\n",
       "      <td>-31</td>\n",
       "    </tr>\n",
       "    <tr>\n",
       "      <th>24</th>\n",
       "      <td>4</td>\n",
       "      <td>IVL</td>\n",
       "      <td>7200</td>\n",
       "      <td>2022-12-30</td>\n",
       "      <td>2023-09-01</td>\n",
       "      <td>40.75</td>\n",
       "      <td>29.00</td>\n",
       "      <td>-11.75</td>\n",
       "      <td>-28.83</td>\n",
       "      <td>-84600.0</td>\n",
       "      <td>-47</td>\n",
       "    </tr>\n",
       "    <tr>\n",
       "      <th>12</th>\n",
       "      <td>2</td>\n",
       "      <td>RCL</td>\n",
       "      <td>27000</td>\n",
       "      <td>2022-12-30</td>\n",
       "      <td>2023-09-01</td>\n",
       "      <td>30.75</td>\n",
       "      <td>21.50</td>\n",
       "      <td>-9.25</td>\n",
       "      <td>-30.08</td>\n",
       "      <td>-249750.0</td>\n",
       "      <td>-58</td>\n",
       "    </tr>\n",
       "  </tbody>\n",
       "</table>\n",
       "</div>"
      ],
      "text/plain": [
       "    period    name  shares       date1       date2  price1  price2  change  \\\n",
       "6        2  AIMIRT   10000  2022-12-30  2023-09-01   12.10   10.80   -1.30   \n",
       "22       3     ORI   45000  2022-12-30  2023-09-01   12.10   10.50   -1.60   \n",
       "21       3     NER   27000  2022-12-30  2023-09-01    6.35    4.92   -1.43   \n",
       "24       4     IVL    7200  2022-12-30  2023-09-01   40.75   29.00  -11.75   \n",
       "12       2     RCL   27000  2022-12-30  2023-09-01   30.75   21.50   -9.25   \n",
       "\n",
       "    %change    amount  spd  \n",
       "6    -10.74  -13000.0  -13  \n",
       "22   -13.22  -72000.0  -16  \n",
       "21   -22.52  -38610.0  -31  \n",
       "24   -28.83  -84600.0  -47  \n",
       "12   -30.08 -249750.0  -58  "
      ]
     },
     "execution_count": 13,
     "metadata": {},
     "output_type": "execute_result"
    }
   ],
   "source": [
    "df.sample(5).sort_values(['spd'],ascending=False)"
   ]
  },
  {
   "cell_type": "code",
   "execution_count": 14,
   "id": "edebab08",
   "metadata": {},
   "outputs": [
    {
     "data": {
      "text/html": [
       "<div>\n",
       "<style scoped>\n",
       "    .dataframe tbody tr th:only-of-type {\n",
       "        vertical-align: middle;\n",
       "    }\n",
       "\n",
       "    .dataframe tbody tr th {\n",
       "        vertical-align: top;\n",
       "    }\n",
       "\n",
       "    .dataframe thead th {\n",
       "        text-align: right;\n",
       "    }\n",
       "</style>\n",
       "<table border=\"1\" class=\"dataframe\">\n",
       "  <thead>\n",
       "    <tr style=\"text-align: right;\">\n",
       "      <th></th>\n",
       "      <th>period</th>\n",
       "      <th>name</th>\n",
       "      <th>shares</th>\n",
       "      <th>date1</th>\n",
       "      <th>date2</th>\n",
       "      <th>price1</th>\n",
       "      <th>price2</th>\n",
       "      <th>change</th>\n",
       "      <th>%change</th>\n",
       "      <th>amount</th>\n",
       "      <th>spd</th>\n",
       "    </tr>\n",
       "  </thead>\n",
       "  <tbody>\n",
       "    <tr>\n",
       "      <th>2</th>\n",
       "      <td>1</td>\n",
       "      <td>SINGER</td>\n",
       "      <td>6000</td>\n",
       "      <td>2022-12-30</td>\n",
       "      <td>2023-09-01</td>\n",
       "      <td>28.75</td>\n",
       "      <td>14.10</td>\n",
       "      <td>-14.65</td>\n",
       "      <td>-50.96</td>\n",
       "      <td>-87900.0</td>\n",
       "      <td>-124</td>\n",
       "    </tr>\n",
       "    <tr>\n",
       "      <th>9</th>\n",
       "      <td>2</td>\n",
       "      <td>DIF</td>\n",
       "      <td>30000</td>\n",
       "      <td>2022-12-30</td>\n",
       "      <td>2023-09-01</td>\n",
       "      <td>13.20</td>\n",
       "      <td>9.35</td>\n",
       "      <td>-3.85</td>\n",
       "      <td>-29.17</td>\n",
       "      <td>-115500.0</td>\n",
       "      <td>-45</td>\n",
       "    </tr>\n",
       "    <tr>\n",
       "      <th>18</th>\n",
       "      <td>3</td>\n",
       "      <td>ASK</td>\n",
       "      <td>4500</td>\n",
       "      <td>2022-12-30</td>\n",
       "      <td>2023-09-01</td>\n",
       "      <td>35.50</td>\n",
       "      <td>25.25</td>\n",
       "      <td>-10.25</td>\n",
       "      <td>-28.87</td>\n",
       "      <td>-46125.0</td>\n",
       "      <td>-41</td>\n",
       "    </tr>\n",
       "    <tr>\n",
       "      <th>4</th>\n",
       "      <td>2</td>\n",
       "      <td>AIMIRT</td>\n",
       "      <td>10000</td>\n",
       "      <td>2022-12-30</td>\n",
       "      <td>2023-09-01</td>\n",
       "      <td>12.10</td>\n",
       "      <td>10.80</td>\n",
       "      <td>-1.30</td>\n",
       "      <td>-10.74</td>\n",
       "      <td>-13000.0</td>\n",
       "      <td>-13</td>\n",
       "    </tr>\n",
       "    <tr>\n",
       "      <th>14</th>\n",
       "      <td>2</td>\n",
       "      <td>TFFIF</td>\n",
       "      <td>20000</td>\n",
       "      <td>2022-12-30</td>\n",
       "      <td>2023-09-01</td>\n",
       "      <td>7.65</td>\n",
       "      <td>7.50</td>\n",
       "      <td>-0.15</td>\n",
       "      <td>-1.96</td>\n",
       "      <td>-3000.0</td>\n",
       "      <td>-3</td>\n",
       "    </tr>\n",
       "  </tbody>\n",
       "</table>\n",
       "</div>"
      ],
      "text/plain": [
       "    period    name  shares       date1       date2  price1  price2  change  \\\n",
       "2        1  SINGER    6000  2022-12-30  2023-09-01   28.75   14.10  -14.65   \n",
       "9        2     DIF   30000  2022-12-30  2023-09-01   13.20    9.35   -3.85   \n",
       "18       3     ASK    4500  2022-12-30  2023-09-01   35.50   25.25  -10.25   \n",
       "4        2  AIMIRT   10000  2022-12-30  2023-09-01   12.10   10.80   -1.30   \n",
       "14       2   TFFIF   20000  2022-12-30  2023-09-01    7.65    7.50   -0.15   \n",
       "\n",
       "    %change    amount  spd  \n",
       "2    -50.96  -87900.0 -124  \n",
       "9    -29.17 -115500.0  -45  \n",
       "18   -28.87  -46125.0  -41  \n",
       "4    -10.74  -13000.0  -13  \n",
       "14    -1.96   -3000.0   -3  "
      ]
     },
     "execution_count": 14,
     "metadata": {},
     "output_type": "execute_result"
    }
   ],
   "source": [
    "df.sample(5).sort_values(['spd'],ascending=True)"
   ]
  },
  {
   "cell_type": "code",
   "execution_count": 15,
   "id": "a35a52f3",
   "metadata": {},
   "outputs": [
    {
     "data": {
      "text/html": [
       "<div>\n",
       "<style scoped>\n",
       "    .dataframe tbody tr th:only-of-type {\n",
       "        vertical-align: middle;\n",
       "    }\n",
       "\n",
       "    .dataframe tbody tr th {\n",
       "        vertical-align: top;\n",
       "    }\n",
       "\n",
       "    .dataframe thead th {\n",
       "        text-align: right;\n",
       "    }\n",
       "</style>\n",
       "<table border=\"1\" class=\"dataframe\">\n",
       "  <thead>\n",
       "    <tr style=\"text-align: right;\">\n",
       "      <th></th>\n",
       "      <th>shares</th>\n",
       "      <th>price1</th>\n",
       "      <th>price2</th>\n",
       "      <th>change</th>\n",
       "      <th>%change</th>\n",
       "      <th>amount</th>\n",
       "      <th>spd</th>\n",
       "    </tr>\n",
       "    <tr>\n",
       "      <th>period</th>\n",
       "      <th></th>\n",
       "      <th></th>\n",
       "      <th></th>\n",
       "      <th></th>\n",
       "      <th></th>\n",
       "      <th></th>\n",
       "      <th></th>\n",
       "    </tr>\n",
       "  </thead>\n",
       "  <tbody>\n",
       "    <tr>\n",
       "      <th>1</th>\n",
       "      <td>105000</td>\n",
       "      <td>101.35</td>\n",
       "      <td>71.50</td>\n",
       "      <td>-29.85</td>\n",
       "      <td>-113.74</td>\n",
       "      <td>-359100.0</td>\n",
       "      <td>-236</td>\n",
       "    </tr>\n",
       "    <tr>\n",
       "      <th>2</th>\n",
       "      <td>444000</td>\n",
       "      <td>166.78</td>\n",
       "      <td>131.34</td>\n",
       "      <td>-35.44</td>\n",
       "      <td>-212.05</td>\n",
       "      <td>-1229150.0</td>\n",
       "      <td>-368</td>\n",
       "    </tr>\n",
       "    <tr>\n",
       "      <th>3</th>\n",
       "      <td>90900</td>\n",
       "      <td>159.00</td>\n",
       "      <td>127.18</td>\n",
       "      <td>-31.82</td>\n",
       "      <td>-108.95</td>\n",
       "      <td>-263145.0</td>\n",
       "      <td>-217</td>\n",
       "    </tr>\n",
       "    <tr>\n",
       "      <th>4</th>\n",
       "      <td>183400</td>\n",
       "      <td>516.74</td>\n",
       "      <td>455.06</td>\n",
       "      <td>-61.68</td>\n",
       "      <td>-141.90</td>\n",
       "      <td>-333760.0</td>\n",
       "      <td>-262</td>\n",
       "    </tr>\n",
       "  </tbody>\n",
       "</table>\n",
       "</div>"
      ],
      "text/plain": [
       "        shares  price1  price2  change  %change     amount  spd\n",
       "period                                                         \n",
       "1       105000  101.35   71.50  -29.85  -113.74  -359100.0 -236\n",
       "2       444000  166.78  131.34  -35.44  -212.05 -1229150.0 -368\n",
       "3        90900  159.00  127.18  -31.82  -108.95  -263145.0 -217\n",
       "4       183400  516.74  455.06  -61.68  -141.90  -333760.0 -262"
      ]
     },
     "execution_count": 15,
     "metadata": {},
     "output_type": "execute_result"
    }
   ],
   "source": [
    "period = df.groupby(\"period\")\n",
    "period.sum()"
   ]
  },
  {
   "cell_type": "code",
   "execution_count": 16,
   "id": "04485489",
   "metadata": {},
   "outputs": [
    {
     "data": {
      "text/html": [
       "<div>\n",
       "<style scoped>\n",
       "    .dataframe tbody tr th:only-of-type {\n",
       "        vertical-align: middle;\n",
       "    }\n",
       "\n",
       "    .dataframe tbody tr th {\n",
       "        vertical-align: top;\n",
       "    }\n",
       "\n",
       "    .dataframe thead th {\n",
       "        text-align: right;\n",
       "    }\n",
       "</style>\n",
       "<table border=\"1\" class=\"dataframe\">\n",
       "  <thead>\n",
       "    <tr style=\"text-align: right;\">\n",
       "      <th></th>\n",
       "      <th>ttl_shr</th>\n",
       "      <th>avr_p1</th>\n",
       "      <th>avr_p2</th>\n",
       "      <th>avr_chg</th>\n",
       "      <th>avr_spd</th>\n",
       "      <th>ttl_amt</th>\n",
       "    </tr>\n",
       "    <tr>\n",
       "      <th>period</th>\n",
       "      <th></th>\n",
       "      <th></th>\n",
       "      <th></th>\n",
       "      <th></th>\n",
       "      <th></th>\n",
       "      <th></th>\n",
       "    </tr>\n",
       "  </thead>\n",
       "  <tbody>\n",
       "    <tr>\n",
       "      <th>1</th>\n",
       "      <td>105000</td>\n",
       "      <td>25.337500</td>\n",
       "      <td>17.875000</td>\n",
       "      <td>-7.462500</td>\n",
       "      <td>-59.000000</td>\n",
       "      <td>-359100.0</td>\n",
       "    </tr>\n",
       "    <tr>\n",
       "      <th>2</th>\n",
       "      <td>444000</td>\n",
       "      <td>12.829231</td>\n",
       "      <td>10.103077</td>\n",
       "      <td>-2.726154</td>\n",
       "      <td>-28.307692</td>\n",
       "      <td>-1229150.0</td>\n",
       "    </tr>\n",
       "    <tr>\n",
       "      <th>3</th>\n",
       "      <td>90900</td>\n",
       "      <td>26.500000</td>\n",
       "      <td>21.196667</td>\n",
       "      <td>-5.303333</td>\n",
       "      <td>-36.166667</td>\n",
       "      <td>-263145.0</td>\n",
       "    </tr>\n",
       "    <tr>\n",
       "      <th>4</th>\n",
       "      <td>183400</td>\n",
       "      <td>64.592500</td>\n",
       "      <td>56.882500</td>\n",
       "      <td>-7.710000</td>\n",
       "      <td>-32.750000</td>\n",
       "      <td>-333760.0</td>\n",
       "    </tr>\n",
       "  </tbody>\n",
       "</table>\n",
       "</div>"
      ],
      "text/plain": [
       "        ttl_shr     avr_p1     avr_p2   avr_chg    avr_spd    ttl_amt\n",
       "period                                                               \n",
       "1        105000  25.337500  17.875000 -7.462500 -59.000000  -359100.0\n",
       "2        444000  12.829231  10.103077 -2.726154 -28.307692 -1229150.0\n",
       "3         90900  26.500000  21.196667 -5.303333 -36.166667  -263145.0\n",
       "4        183400  64.592500  56.882500 -7.710000 -32.750000  -333760.0"
      ]
     },
     "execution_count": 16,
     "metadata": {},
     "output_type": "execute_result"
    }
   ],
   "source": [
    "df.groupby('period').agg(\n",
    "      ttl_shr = pd.NamedAgg('shares', 'sum'),\n",
    "      avr_p1  = pd.NamedAgg('price1','mean'),\n",
    "      avr_p2  = pd.NamedAgg('price2','mean'),  \n",
    "      avr_chg = pd.NamedAgg('change','mean'),\n",
    "      avr_spd = pd.NamedAgg('spd','mean'),\n",
    "      ttl_amt = pd.NamedAgg('amount', 'sum')\n",
    "   )"
   ]
  },
  {
   "cell_type": "code",
   "execution_count": 17,
   "id": "00e37c9d",
   "metadata": {},
   "outputs": [
    {
     "data": {
      "text/plain": [
       "'฿-2,185,155.00'"
      ]
     },
     "execution_count": 17,
     "metadata": {},
     "output_type": "execute_result"
    }
   ],
   "source": [
    "pl = df.amount.sum()\n",
    "float_formatter.format(pl)"
   ]
  },
  {
   "cell_type": "code",
   "execution_count": 18,
   "id": "23765c28",
   "metadata": {},
   "outputs": [
    {
     "data": {
      "text/plain": [
       "'฿-49,265.00'"
      ]
     },
     "execution_count": 18,
     "metadata": {},
     "output_type": "execute_result"
    }
   ],
   "source": [
    "prev_pl = -2_135_890\n",
    "diff = pl - prev_pl\n",
    "float_formatter.format(diff)"
   ]
  },
  {
   "cell_type": "code",
   "execution_count": null,
   "id": "d912df4a",
   "metadata": {},
   "outputs": [],
   "source": []
  }
 ],
 "metadata": {
  "kernelspec": {
   "display_name": "Python 3 (ipykernel)",
   "language": "python",
   "name": "python3"
  },
  "language_info": {
   "codemirror_mode": {
    "name": "ipython",
    "version": 3
   },
   "file_extension": ".py",
   "mimetype": "text/x-python",
   "name": "python",
   "nbconvert_exporter": "python",
   "pygments_lexer": "ipython3",
   "version": "3.8.11"
  }
 },
 "nbformat": 4,
 "nbformat_minor": 5
}
