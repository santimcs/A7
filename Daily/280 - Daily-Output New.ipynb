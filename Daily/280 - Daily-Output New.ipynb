{
 "cells": [
  {
   "cell_type": "markdown",
   "metadata": {},
   "source": [
    "#### Restart and Run All"
   ]
  },
  {
   "cell_type": "code",
   "execution_count": 1,
   "metadata": {},
   "outputs": [
    {
     "data": {
      "text/plain": [
       "datetime.date(2023, 4, 27)"
      ]
     },
     "execution_count": 1,
     "metadata": {},
     "output_type": "execute_result"
    }
   ],
   "source": [
    "import numpy as np\n",
    "import os\n",
    "import pandas as pd\n",
    "from datetime import date, timedelta\n",
    "from sqlalchemy import create_engine\n",
    "from pandas.tseries.offsets import BDay\n",
    "\n",
    "engine = create_engine(\"sqlite:///c:\\\\ruby\\\\port_lite\\\\db\\\\development.sqlite3\")\n",
    "conlite = engine.connect()\n",
    "\n",
    "data_path = \"../data/\"\n",
    "#data_path = \"\\\\users\\\\user\\\\onedrive\\\\a7\\\\Data\"\n",
    "csv_path = \"\\\\Users\\\\User\\\\iCloudDrive\\\\\"\n",
    "one_path = \"\\\\Users\\\\User\\\\OneDrive\\\\Documents\\\\Data\\\\\"\n",
    "osd_path = \"\\\\Users\\\\User\\\\OneDrive\\\\Documents\\\\obsidian-git-sync\\\\Data\\\\\"\n",
    "\n",
    "today = date.today()\n",
    "today"
   ]
  },
  {
   "cell_type": "markdown",
   "metadata": {},
   "source": [
    "### Today = Last business day"
   ]
  },
  {
   "cell_type": "code",
   "execution_count": 2,
   "metadata": {},
   "outputs": [
    {
     "data": {
      "text/plain": [
       "datetime.date(2023, 4, 27)"
      ]
     },
     "execution_count": 2,
     "metadata": {},
     "output_type": "execute_result"
    }
   ],
   "source": [
    "#today = date(2023, 3, 13)\n",
    "today"
   ]
  },
  {
   "cell_type": "code",
   "execution_count": 3,
   "metadata": {},
   "outputs": [
    {
     "name": "stdout",
     "output_type": "stream",
     "text": [
      "today: 2023-04-27\n",
      "yesterday: 2023-04-24\n"
     ]
    }
   ],
   "source": [
    "# convert the timedelta object to a BusinessDay object\n",
    "num_business_days = BDay(3)\n",
    "yesterday = today - num_business_days\n",
    "yesterday = yesterday.date()\n",
    "print(f'today: {today}')\n",
    "print(f'yesterday: {yesterday}')"
   ]
  },
  {
   "cell_type": "code",
   "execution_count": 4,
   "metadata": {},
   "outputs": [],
   "source": [
    "cols = 'name fm_date to_date fm_price to_price qty max_price min_price percent status'.split()\n",
    "\n",
    "format_dict = {\n",
    "    'fm_price':'{:.2f}','to_price':'{:.2f}','diff':'{:.2f}',\n",
    "    'max_price':'{:.2f}','min_price':'{:.2f}',\n",
    "    'volume':'{:,.2f}','beta':'{:,.2f}',\n",
    "    'pct':'{:,.2f}%','percent':'{:,.2f}%',   \n",
    "    'fm_date':'{:%Y-%m-%d}','to_date':'{:%Y-%m-%d}',\n",
    "    'created_at':'{:%Y-%m-%d}','updated_at':'{:%Y-%m-%d}',\n",
    "    \n",
    "    'qty':'{:,}','available_qty':'{:,}',\n",
    "    'cost':'{:.2f}','buy_target':'{:.2f}','sell_target':'{:.2f}',\n",
    "}"
   ]
  },
  {
   "cell_type": "markdown",
   "metadata": {},
   "source": [
    "### Begin of Tables in the process"
   ]
  },
  {
   "cell_type": "code",
   "execution_count": 5,
   "metadata": {},
   "outputs": [
    {
     "data": {
      "text/html": [
       "<style type=\"text/css\">\n",
       "</style>\n",
       "<table id=\"T_edec6_\">\n",
       "  <thead>\n",
       "    <tr>\n",
       "      <th class=\"blank level0\" >&nbsp;</th>\n",
       "      <th class=\"col_heading level0 col0\" >id</th>\n",
       "      <th class=\"col_heading level0 col1\" >name</th>\n",
       "      <th class=\"col_heading level0 col2\" >fm_date</th>\n",
       "      <th class=\"col_heading level0 col3\" >to_date</th>\n",
       "      <th class=\"col_heading level0 col4\" >days</th>\n",
       "      <th class=\"col_heading level0 col5\" >fm_price</th>\n",
       "      <th class=\"col_heading level0 col6\" >to_price</th>\n",
       "      <th class=\"col_heading level0 col7\" >diff</th>\n",
       "      <th class=\"col_heading level0 col8\" >pct</th>\n",
       "      <th class=\"col_heading level0 col9\" >ttl_spread</th>\n",
       "      <th class=\"col_heading level0 col10\" >avg_spread</th>\n",
       "      <th class=\"col_heading level0 col11\" >max_price</th>\n",
       "      <th class=\"col_heading level0 col12\" >min_price</th>\n",
       "      <th class=\"col_heading level0 col13\" >qty</th>\n",
       "      <th class=\"col_heading level0 col14\" >created_at</th>\n",
       "      <th class=\"col_heading level0 col15\" >updated_at</th>\n",
       "      <th class=\"col_heading level0 col16\" >latest_date_id</th>\n",
       "    </tr>\n",
       "  </thead>\n",
       "  <tbody>\n",
       "    <tr>\n",
       "      <th id=\"T_edec6_level0_row0\" class=\"row_heading level0 row0\" >0</th>\n",
       "      <td id=\"T_edec6_row0_col0\" class=\"data row0 col0\" >1250727</td>\n",
       "      <td id=\"T_edec6_row0_col1\" class=\"data row0 col1\" >SYNEX</td>\n",
       "      <td id=\"T_edec6_row0_col2\" class=\"data row0 col2\" >2023-04-26</td>\n",
       "      <td id=\"T_edec6_row0_col3\" class=\"data row0 col3\" >2023-04-26</td>\n",
       "      <td id=\"T_edec6_row0_col4\" class=\"data row0 col4\" >0</td>\n",
       "      <td id=\"T_edec6_row0_col5\" class=\"data row0 col5\" >12.80</td>\n",
       "      <td id=\"T_edec6_row0_col6\" class=\"data row0 col6\" >12.90</td>\n",
       "      <td id=\"T_edec6_row0_col7\" class=\"data row0 col7\" >0.10</td>\n",
       "      <td id=\"T_edec6_row0_col8\" class=\"data row0 col8\" >0.78%</td>\n",
       "      <td id=\"T_edec6_row0_col9\" class=\"data row0 col9\" >1</td>\n",
       "      <td id=\"T_edec6_row0_col10\" class=\"data row0 col10\" >0</td>\n",
       "      <td id=\"T_edec6_row0_col11\" class=\"data row0 col11\" >14.20</td>\n",
       "      <td id=\"T_edec6_row0_col12\" class=\"data row0 col12\" >12.80</td>\n",
       "      <td id=\"T_edec6_row0_col13\" class=\"data row0 col13\" >5,929,024</td>\n",
       "      <td id=\"T_edec6_row0_col14\" class=\"data row0 col14\" >2023-04-26</td>\n",
       "      <td id=\"T_edec6_row0_col15\" class=\"data row0 col15\" >2023-04-26</td>\n",
       "      <td id=\"T_edec6_row0_col16\" class=\"data row0 col16\" >1</td>\n",
       "    </tr>\n",
       "  </tbody>\n",
       "</table>\n"
      ],
      "text/plain": [
       "<pandas.io.formats.style.Styler at 0x203d041ca90>"
      ]
     },
     "execution_count": 5,
     "metadata": {},
     "output_type": "execute_result"
    }
   ],
   "source": [
    "sql = \"\"\"\n",
    "SELECT * \n",
    "FROM sales \n",
    "ORDER BY id DESC LIMIT 1\n",
    "\"\"\"\n",
    "tmp = pd.read_sql(sql, conlite)\n",
    "tmp[\"fm_date\"] = pd.to_datetime(tmp[\"fm_date\"])\n",
    "tmp[\"to_date\"] = pd.to_datetime(tmp[\"to_date\"])\n",
    "tmp[\"created_at\"] = pd.to_datetime(tmp[\"created_at\"])\n",
    "tmp[\"updated_at\"] = pd.to_datetime(tmp[\"updated_at\"])\n",
    "tmp.style.format(format_dict)"
   ]
  },
  {
   "cell_type": "code",
   "execution_count": 6,
   "metadata": {},
   "outputs": [
    {
     "data": {
      "text/plain": [
       "pandas.core.series.Series"
      ]
     },
     "execution_count": 6,
     "metadata": {},
     "output_type": "execute_result"
    }
   ],
   "source": [
    "names = tmp[\"name\"]\n",
    "type(names)"
   ]
  },
  {
   "cell_type": "code",
   "execution_count": 7,
   "metadata": {},
   "outputs": [
    {
     "data": {
      "text/plain": [
       "str"
      ]
     },
     "execution_count": 7,
     "metadata": {},
     "output_type": "execute_result"
    }
   ],
   "source": [
    "name = names.to_string(index=False)\n",
    "type(name)"
   ]
  },
  {
   "cell_type": "code",
   "execution_count": 8,
   "metadata": {},
   "outputs": [
    {
     "name": "stdout",
     "output_type": "stream",
     "text": [
      "\n",
      "SELECT * \n",
      "FROM stocks\n",
      "WHERE name = 'SYNEX'\n",
      "\n"
     ]
    },
    {
     "data": {
      "text/html": [
       "<style type=\"text/css\">\n",
       "</style>\n",
       "<table id=\"T_17000_\">\n",
       "  <thead>\n",
       "    <tr>\n",
       "      <th class=\"blank level0\" >&nbsp;</th>\n",
       "      <th class=\"col_heading level0 col0\" >id</th>\n",
       "      <th class=\"col_heading level0 col1\" >name</th>\n",
       "      <th class=\"col_heading level0 col2\" >max_price</th>\n",
       "      <th class=\"col_heading level0 col3\" >min_price</th>\n",
       "      <th class=\"col_heading level0 col4\" >status</th>\n",
       "      <th class=\"col_heading level0 col5\" >buy_target</th>\n",
       "      <th class=\"col_heading level0 col6\" >sell_target</th>\n",
       "      <th class=\"col_heading level0 col7\" >volume</th>\n",
       "      <th class=\"col_heading level0 col8\" >beta</th>\n",
       "      <th class=\"col_heading level0 col9\" >cost</th>\n",
       "      <th class=\"col_heading level0 col10\" >qty</th>\n",
       "      <th class=\"col_heading level0 col11\" >buy_spread</th>\n",
       "      <th class=\"col_heading level0 col12\" >sell_spread</th>\n",
       "      <th class=\"col_heading level0 col13\" >available_qty</th>\n",
       "      <th class=\"col_heading level0 col14\" >bl</th>\n",
       "      <th class=\"col_heading level0 col15\" >sh</th>\n",
       "      <th class=\"col_heading level0 col16\" >reason</th>\n",
       "      <th class=\"col_heading level0 col17\" >market</th>\n",
       "    </tr>\n",
       "  </thead>\n",
       "  <tbody>\n",
       "    <tr>\n",
       "      <th id=\"T_17000_level0_row0\" class=\"row_heading level0 row0\" >0</th>\n",
       "      <td id=\"T_17000_row0_col0\" class=\"data row0 col0\" >603</td>\n",
       "      <td id=\"T_17000_row0_col1\" class=\"data row0 col1\" >SYNEX</td>\n",
       "      <td id=\"T_17000_row0_col2\" class=\"data row0 col2\" >37.00</td>\n",
       "      <td id=\"T_17000_row0_col3\" class=\"data row0 col3\" >23.00</td>\n",
       "      <td id=\"T_17000_row0_col4\" class=\"data row0 col4\" >B</td>\n",
       "      <td id=\"T_17000_row0_col5\" class=\"data row0 col5\" >12.50</td>\n",
       "      <td id=\"T_17000_row0_col6\" class=\"data row0 col6\" >21.50</td>\n",
       "      <td id=\"T_17000_row0_col7\" class=\"data row0 col7\" >103.17</td>\n",
       "      <td id=\"T_17000_row0_col8\" class=\"data row0 col8\" >1.32</td>\n",
       "      <td id=\"T_17000_row0_col9\" class=\"data row0 col9\" >28.70</td>\n",
       "      <td id=\"T_17000_row0_col10\" class=\"data row0 col10\" >3,000</td>\n",
       "      <td id=\"T_17000_row0_col11\" class=\"data row0 col11\" >-10</td>\n",
       "      <td id=\"T_17000_row0_col12\" class=\"data row0 col12\" >15</td>\n",
       "      <td id=\"T_17000_row0_col13\" class=\"data row0 col13\" >15,000</td>\n",
       "      <td id=\"T_17000_row0_col14\" class=\"data row0 col14\" >1</td>\n",
       "      <td id=\"T_17000_row0_col15\" class=\"data row0 col15\" >12</td>\n",
       "      <td id=\"T_17000_row0_col16\" class=\"data row0 col16\" >RND55pct</td>\n",
       "      <td id=\"T_17000_row0_col17\" class=\"data row0 col17\" >SET</td>\n",
       "    </tr>\n",
       "  </tbody>\n",
       "</table>\n"
      ],
      "text/plain": [
       "<pandas.io.formats.style.Styler at 0x203d2e898e0>"
      ]
     },
     "execution_count": 8,
     "metadata": {},
     "output_type": "execute_result"
    }
   ],
   "source": [
    "sql = \"\"\"\n",
    "SELECT * \n",
    "FROM stocks\n",
    "WHERE name = '%s'\n",
    "\"\"\"\n",
    "sql = sql % name\n",
    "print(sql)\n",
    "tmp = pd.read_sql(sql, conlite)\n",
    "tmp.style.format(format_dict)"
   ]
  },
  {
   "cell_type": "markdown",
   "metadata": {},
   "source": [
    "### End of Tables in the process"
   ]
  },
  {
   "cell_type": "code",
   "execution_count": 9,
   "metadata": {},
   "outputs": [
    {
     "name": "stdout",
     "output_type": "stream",
     "text": [
      "\n",
      "SELECT DISTINCT a.name\n",
      "FROM sales a \n",
      "WHERE to_date = '2023-04-24'\n",
      "ORDER BY a.name\n",
      "\n"
     ]
    },
    {
     "data": {
      "text/html": [
       "<div>\n",
       "<style scoped>\n",
       "    .dataframe tbody tr th:only-of-type {\n",
       "        vertical-align: middle;\n",
       "    }\n",
       "\n",
       "    .dataframe tbody tr th {\n",
       "        vertical-align: top;\n",
       "    }\n",
       "\n",
       "    .dataframe thead th {\n",
       "        text-align: right;\n",
       "    }\n",
       "</style>\n",
       "<table border=\"1\" class=\"dataframe\">\n",
       "  <thead>\n",
       "    <tr style=\"text-align: right;\">\n",
       "      <th></th>\n",
       "      <th>name</th>\n",
       "    </tr>\n",
       "  </thead>\n",
       "  <tbody>\n",
       "    <tr>\n",
       "      <th>0</th>\n",
       "      <td>BCH</td>\n",
       "    </tr>\n",
       "    <tr>\n",
       "      <th>1</th>\n",
       "      <td>GVREIT</td>\n",
       "    </tr>\n",
       "    <tr>\n",
       "      <th>2</th>\n",
       "      <td>JASIF</td>\n",
       "    </tr>\n",
       "    <tr>\n",
       "      <th>3</th>\n",
       "      <td>JMART</td>\n",
       "    </tr>\n",
       "    <tr>\n",
       "      <th>4</th>\n",
       "      <td>JMT</td>\n",
       "    </tr>\n",
       "  </tbody>\n",
       "</table>\n",
       "</div>"
      ],
      "text/plain": [
       "     name\n",
       "0     BCH\n",
       "1  GVREIT\n",
       "2   JASIF\n",
       "3   JMART\n",
       "4     JMT"
      ]
     },
     "execution_count": 9,
     "metadata": {},
     "output_type": "execute_result"
    }
   ],
   "source": [
    "sql = \"\"\"\n",
    "SELECT DISTINCT a.name\n",
    "FROM sales a \n",
    "WHERE to_date = '%s'\n",
    "ORDER BY a.name\n",
    "\"\"\"\n",
    "sql = sql % yesterday\n",
    "print(sql)\n",
    "tmp = pd.read_sql(sql, conlite)\n",
    "tmp"
   ]
  },
  {
   "cell_type": "code",
   "execution_count": 10,
   "metadata": {},
   "outputs": [
    {
     "name": "stdout",
     "output_type": "stream",
     "text": [
      "\n",
      "SELECT a.name,fm_date,to_date,fm_price,to_price,\n",
      "a.qty,a.max_price,a.min_price,t.status,t.market\n",
      "FROM sales a \n",
      "JOIN stocks t ON a.name = t.name \n",
      "WHERE to_date = '2023-04-24' AND t.status IN (\"B\",\"I\", \"O\", \"S\") \n",
      "ORDER BY t.status, a.name\n",
      "\n"
     ]
    }
   ],
   "source": [
    "sql = \"\"\"\n",
    "SELECT a.name,fm_date,to_date,fm_price,to_price,\n",
    "a.qty,a.max_price,a.min_price,t.status,t.market\n",
    "FROM sales a \n",
    "JOIN stocks t ON a.name = t.name \n",
    "WHERE to_date = '%s' AND t.status IN (\"B\",\"I\", \"O\", \"S\") \n",
    "ORDER BY t.status, a.name\n",
    "\"\"\"\n",
    "sql = sql % yesterday\n",
    "print(sql)"
   ]
  },
  {
   "cell_type": "markdown",
   "metadata": {},
   "source": [
    "### This statement causes program to hang when there is no data"
   ]
  },
  {
   "cell_type": "code",
   "execution_count": 11,
   "metadata": {},
   "outputs": [
    {
     "data": {
      "text/html": [
       "<style type=\"text/css\">\n",
       "</style>\n",
       "<table id=\"T_771e0_\">\n",
       "  <thead>\n",
       "    <tr>\n",
       "      <th class=\"blank level0\" >&nbsp;</th>\n",
       "      <th class=\"col_heading level0 col0\" >name</th>\n",
       "      <th class=\"col_heading level0 col1\" >fm_date</th>\n",
       "      <th class=\"col_heading level0 col2\" >to_date</th>\n",
       "      <th class=\"col_heading level0 col3\" >fm_price</th>\n",
       "      <th class=\"col_heading level0 col4\" >to_price</th>\n",
       "      <th class=\"col_heading level0 col5\" >qty</th>\n",
       "      <th class=\"col_heading level0 col6\" >max_price</th>\n",
       "      <th class=\"col_heading level0 col7\" >min_price</th>\n",
       "      <th class=\"col_heading level0 col8\" >status</th>\n",
       "      <th class=\"col_heading level0 col9\" >market</th>\n",
       "      <th class=\"col_heading level0 col10\" >diff</th>\n",
       "      <th class=\"col_heading level0 col11\" >percent</th>\n",
       "    </tr>\n",
       "  </thead>\n",
       "  <tbody>\n",
       "    <tr>\n",
       "      <th id=\"T_771e0_level0_row0\" class=\"row_heading level0 row0\" >0</th>\n",
       "      <td id=\"T_771e0_row0_col0\" class=\"data row0 col0\" >JMART</td>\n",
       "      <td id=\"T_771e0_row0_col1\" class=\"data row0 col1\" >2023-04-24</td>\n",
       "      <td id=\"T_771e0_row0_col2\" class=\"data row0 col2\" >2023-04-24</td>\n",
       "      <td id=\"T_771e0_row0_col3\" class=\"data row0 col3\" >19.10</td>\n",
       "      <td id=\"T_771e0_row0_col4\" class=\"data row0 col4\" >19.40</td>\n",
       "      <td id=\"T_771e0_row0_col5\" class=\"data row0 col5\" >106,301,812</td>\n",
       "      <td id=\"T_771e0_row0_col6\" class=\"data row0 col6\" >22.00</td>\n",
       "      <td id=\"T_771e0_row0_col7\" class=\"data row0 col7\" >18.80</td>\n",
       "      <td id=\"T_771e0_row0_col8\" class=\"data row0 col8\" >B</td>\n",
       "      <td id=\"T_771e0_row0_col9\" class=\"data row0 col9\" >SET50</td>\n",
       "      <td id=\"T_771e0_row0_col10\" class=\"data row0 col10\" >0.30</td>\n",
       "      <td id=\"T_771e0_row0_col11\" class=\"data row0 col11\" >1.57%</td>\n",
       "    </tr>\n",
       "    <tr>\n",
       "      <th id=\"T_771e0_level0_row1\" class=\"row_heading level0 row1\" >1</th>\n",
       "      <td id=\"T_771e0_row1_col0\" class=\"data row1 col0\" >JMT</td>\n",
       "      <td id=\"T_771e0_row1_col1\" class=\"data row1 col1\" >2023-04-21</td>\n",
       "      <td id=\"T_771e0_row1_col2\" class=\"data row1 col2\" >2023-04-24</td>\n",
       "      <td id=\"T_771e0_row1_col3\" class=\"data row1 col3\" >39.25</td>\n",
       "      <td id=\"T_771e0_row1_col4\" class=\"data row1 col4\" >40.50</td>\n",
       "      <td id=\"T_771e0_row1_col5\" class=\"data row1 col5\" >23,392,700</td>\n",
       "      <td id=\"T_771e0_row1_col6\" class=\"data row1 col6\" >40.50</td>\n",
       "      <td id=\"T_771e0_row1_col7\" class=\"data row1 col7\" >38.25</td>\n",
       "      <td id=\"T_771e0_row1_col8\" class=\"data row1 col8\" >B</td>\n",
       "      <td id=\"T_771e0_row1_col9\" class=\"data row1 col9\" >SET50</td>\n",
       "      <td id=\"T_771e0_row1_col10\" class=\"data row1 col10\" >1.25</td>\n",
       "      <td id=\"T_771e0_row1_col11\" class=\"data row1 col11\" >3.18%</td>\n",
       "    </tr>\n",
       "    <tr>\n",
       "      <th id=\"T_771e0_level0_row2\" class=\"row_heading level0 row2\" >2</th>\n",
       "      <td id=\"T_771e0_row2_col0\" class=\"data row2 col0\" >BCH</td>\n",
       "      <td id=\"T_771e0_row2_col1\" class=\"data row2 col1\" >2023-04-21</td>\n",
       "      <td id=\"T_771e0_row2_col2\" class=\"data row2 col2\" >2023-04-24</td>\n",
       "      <td id=\"T_771e0_row2_col3\" class=\"data row2 col3\" >21.70</td>\n",
       "      <td id=\"T_771e0_row2_col4\" class=\"data row2 col4\" >21.50</td>\n",
       "      <td id=\"T_771e0_row2_col5\" class=\"data row2 col5\" >18,607,526</td>\n",
       "      <td id=\"T_771e0_row2_col6\" class=\"data row2 col6\" >21.70</td>\n",
       "      <td id=\"T_771e0_row2_col7\" class=\"data row2 col7\" >21.30</td>\n",
       "      <td id=\"T_771e0_row2_col8\" class=\"data row2 col8\" >I</td>\n",
       "      <td id=\"T_771e0_row2_col9\" class=\"data row2 col9\" >SET100</td>\n",
       "      <td id=\"T_771e0_row2_col10\" class=\"data row2 col10\" >-0.20</td>\n",
       "      <td id=\"T_771e0_row2_col11\" class=\"data row2 col11\" >-0.92%</td>\n",
       "    </tr>\n",
       "    <tr>\n",
       "      <th id=\"T_771e0_level0_row3\" class=\"row_heading level0 row3\" >3</th>\n",
       "      <td id=\"T_771e0_row3_col0\" class=\"data row3 col0\" >GVREIT</td>\n",
       "      <td id=\"T_771e0_row3_col1\" class=\"data row3 col1\" >2023-04-17</td>\n",
       "      <td id=\"T_771e0_row3_col2\" class=\"data row3 col2\" >2023-04-24</td>\n",
       "      <td id=\"T_771e0_row3_col3\" class=\"data row3 col3\" >9.30</td>\n",
       "      <td id=\"T_771e0_row3_col4\" class=\"data row3 col4\" >9.00</td>\n",
       "      <td id=\"T_771e0_row3_col5\" class=\"data row3 col5\" >2,102,298</td>\n",
       "      <td id=\"T_771e0_row3_col6\" class=\"data row3 col6\" >9.45</td>\n",
       "      <td id=\"T_771e0_row3_col7\" class=\"data row3 col7\" >9.00</td>\n",
       "      <td id=\"T_771e0_row3_col8\" class=\"data row3 col8\" >I</td>\n",
       "      <td id=\"T_771e0_row3_col9\" class=\"data row3 col9\" >SET</td>\n",
       "      <td id=\"T_771e0_row3_col10\" class=\"data row3 col10\" >-0.30</td>\n",
       "      <td id=\"T_771e0_row3_col11\" class=\"data row3 col11\" >-3.23%</td>\n",
       "    </tr>\n",
       "    <tr>\n",
       "      <th id=\"T_771e0_level0_row4\" class=\"row_heading level0 row4\" >4</th>\n",
       "      <td id=\"T_771e0_row4_col0\" class=\"data row4 col0\" >JASIF</td>\n",
       "      <td id=\"T_771e0_row4_col1\" class=\"data row4 col1\" >2023-04-24</td>\n",
       "      <td id=\"T_771e0_row4_col2\" class=\"data row4 col2\" >2023-04-24</td>\n",
       "      <td id=\"T_771e0_row4_col3\" class=\"data row4 col3\" >7.00</td>\n",
       "      <td id=\"T_771e0_row4_col4\" class=\"data row4 col4\" >7.05</td>\n",
       "      <td id=\"T_771e0_row4_col5\" class=\"data row4 col5\" >62,967,060</td>\n",
       "      <td id=\"T_771e0_row4_col6\" class=\"data row4 col6\" >7.15</td>\n",
       "      <td id=\"T_771e0_row4_col7\" class=\"data row4 col7\" >6.95</td>\n",
       "      <td id=\"T_771e0_row4_col8\" class=\"data row4 col8\" >S</td>\n",
       "      <td id=\"T_771e0_row4_col9\" class=\"data row4 col9\" >SET</td>\n",
       "      <td id=\"T_771e0_row4_col10\" class=\"data row4 col10\" >0.05</td>\n",
       "      <td id=\"T_771e0_row4_col11\" class=\"data row4 col11\" >0.71%</td>\n",
       "    </tr>\n",
       "  </tbody>\n",
       "</table>\n"
      ],
      "text/plain": [
       "<pandas.io.formats.style.Styler at 0x203d3ec7a00>"
      ]
     },
     "execution_count": 11,
     "metadata": {},
     "output_type": "execute_result"
    }
   ],
   "source": [
    "df = pd.read_sql(sql, conlite)\n",
    "#df.set_index([\"name\"], inplace=True)\n",
    "df['fm_date'] = pd.to_datetime(df['fm_date'])\n",
    "df['to_date'] = pd.to_datetime(df['to_date'])\n",
    "df.eval('diff = to_price - fm_price',inplace=True)\n",
    "df['percent'] = round(df['diff']/df['fm_price']*100,2)\n",
    "df.style.format(format_dict)"
   ]
  },
  {
   "cell_type": "code",
   "execution_count": 12,
   "metadata": {},
   "outputs": [
    {
     "data": {
      "text/plain": [
       "(5, 12)"
      ]
     },
     "execution_count": 12,
     "metadata": {},
     "output_type": "execute_result"
    }
   ],
   "source": [
    "df.shape"
   ]
  },
  {
   "cell_type": "markdown",
   "metadata": {},
   "source": [
    "### IF the above count not equal number of orders, there must be something incorrect"
   ]
  },
  {
   "cell_type": "markdown",
   "metadata": {},
   "source": [
    "### Create daily-sales from sales"
   ]
  },
  {
   "cell_type": "code",
   "execution_count": 13,
   "metadata": {},
   "outputs": [
    {
     "data": {
      "text/html": [
       "<style type=\"text/css\">\n",
       "</style>\n",
       "<table id=\"T_a76c3_\">\n",
       "  <thead>\n",
       "    <tr>\n",
       "      <th class=\"blank level0\" >&nbsp;</th>\n",
       "      <th class=\"col_heading level0 col0\" >name</th>\n",
       "      <th class=\"col_heading level0 col1\" >fm_date</th>\n",
       "      <th class=\"col_heading level0 col2\" >to_date</th>\n",
       "      <th class=\"col_heading level0 col3\" >fm_price</th>\n",
       "      <th class=\"col_heading level0 col4\" >to_price</th>\n",
       "      <th class=\"col_heading level0 col5\" >qty</th>\n",
       "      <th class=\"col_heading level0 col6\" >max_price</th>\n",
       "      <th class=\"col_heading level0 col7\" >min_price</th>\n",
       "      <th class=\"col_heading level0 col8\" >percent</th>\n",
       "      <th class=\"col_heading level0 col9\" >status</th>\n",
       "    </tr>\n",
       "  </thead>\n",
       "  <tbody>\n",
       "    <tr>\n",
       "      <th id=\"T_a76c3_level0_row0\" class=\"row_heading level0 row0\" >0</th>\n",
       "      <td id=\"T_a76c3_row0_col0\" class=\"data row0 col0\" >JMART</td>\n",
       "      <td id=\"T_a76c3_row0_col1\" class=\"data row0 col1\" >2023-04-24</td>\n",
       "      <td id=\"T_a76c3_row0_col2\" class=\"data row0 col2\" >2023-04-24</td>\n",
       "      <td id=\"T_a76c3_row0_col3\" class=\"data row0 col3\" >19.10</td>\n",
       "      <td id=\"T_a76c3_row0_col4\" class=\"data row0 col4\" >19.40</td>\n",
       "      <td id=\"T_a76c3_row0_col5\" class=\"data row0 col5\" >106,301,812</td>\n",
       "      <td id=\"T_a76c3_row0_col6\" class=\"data row0 col6\" >22.00</td>\n",
       "      <td id=\"T_a76c3_row0_col7\" class=\"data row0 col7\" >18.80</td>\n",
       "      <td id=\"T_a76c3_row0_col8\" class=\"data row0 col8\" >1.57%</td>\n",
       "      <td id=\"T_a76c3_row0_col9\" class=\"data row0 col9\" >B</td>\n",
       "    </tr>\n",
       "    <tr>\n",
       "      <th id=\"T_a76c3_level0_row1\" class=\"row_heading level0 row1\" >1</th>\n",
       "      <td id=\"T_a76c3_row1_col0\" class=\"data row1 col0\" >JMT</td>\n",
       "      <td id=\"T_a76c3_row1_col1\" class=\"data row1 col1\" >2023-04-21</td>\n",
       "      <td id=\"T_a76c3_row1_col2\" class=\"data row1 col2\" >2023-04-24</td>\n",
       "      <td id=\"T_a76c3_row1_col3\" class=\"data row1 col3\" >39.25</td>\n",
       "      <td id=\"T_a76c3_row1_col4\" class=\"data row1 col4\" >40.50</td>\n",
       "      <td id=\"T_a76c3_row1_col5\" class=\"data row1 col5\" >23,392,700</td>\n",
       "      <td id=\"T_a76c3_row1_col6\" class=\"data row1 col6\" >40.50</td>\n",
       "      <td id=\"T_a76c3_row1_col7\" class=\"data row1 col7\" >38.25</td>\n",
       "      <td id=\"T_a76c3_row1_col8\" class=\"data row1 col8\" >3.18%</td>\n",
       "      <td id=\"T_a76c3_row1_col9\" class=\"data row1 col9\" >B</td>\n",
       "    </tr>\n",
       "    <tr>\n",
       "      <th id=\"T_a76c3_level0_row2\" class=\"row_heading level0 row2\" >2</th>\n",
       "      <td id=\"T_a76c3_row2_col0\" class=\"data row2 col0\" >BCH</td>\n",
       "      <td id=\"T_a76c3_row2_col1\" class=\"data row2 col1\" >2023-04-21</td>\n",
       "      <td id=\"T_a76c3_row2_col2\" class=\"data row2 col2\" >2023-04-24</td>\n",
       "      <td id=\"T_a76c3_row2_col3\" class=\"data row2 col3\" >21.70</td>\n",
       "      <td id=\"T_a76c3_row2_col4\" class=\"data row2 col4\" >21.50</td>\n",
       "      <td id=\"T_a76c3_row2_col5\" class=\"data row2 col5\" >18,607,526</td>\n",
       "      <td id=\"T_a76c3_row2_col6\" class=\"data row2 col6\" >21.70</td>\n",
       "      <td id=\"T_a76c3_row2_col7\" class=\"data row2 col7\" >21.30</td>\n",
       "      <td id=\"T_a76c3_row2_col8\" class=\"data row2 col8\" >-0.92%</td>\n",
       "      <td id=\"T_a76c3_row2_col9\" class=\"data row2 col9\" >I</td>\n",
       "    </tr>\n",
       "    <tr>\n",
       "      <th id=\"T_a76c3_level0_row3\" class=\"row_heading level0 row3\" >3</th>\n",
       "      <td id=\"T_a76c3_row3_col0\" class=\"data row3 col0\" >GVREIT</td>\n",
       "      <td id=\"T_a76c3_row3_col1\" class=\"data row3 col1\" >2023-04-17</td>\n",
       "      <td id=\"T_a76c3_row3_col2\" class=\"data row3 col2\" >2023-04-24</td>\n",
       "      <td id=\"T_a76c3_row3_col3\" class=\"data row3 col3\" >9.30</td>\n",
       "      <td id=\"T_a76c3_row3_col4\" class=\"data row3 col4\" >9.00</td>\n",
       "      <td id=\"T_a76c3_row3_col5\" class=\"data row3 col5\" >2,102,298</td>\n",
       "      <td id=\"T_a76c3_row3_col6\" class=\"data row3 col6\" >9.45</td>\n",
       "      <td id=\"T_a76c3_row3_col7\" class=\"data row3 col7\" >9.00</td>\n",
       "      <td id=\"T_a76c3_row3_col8\" class=\"data row3 col8\" >-3.23%</td>\n",
       "      <td id=\"T_a76c3_row3_col9\" class=\"data row3 col9\" >I</td>\n",
       "    </tr>\n",
       "    <tr>\n",
       "      <th id=\"T_a76c3_level0_row4\" class=\"row_heading level0 row4\" >4</th>\n",
       "      <td id=\"T_a76c3_row4_col0\" class=\"data row4 col0\" >JASIF</td>\n",
       "      <td id=\"T_a76c3_row4_col1\" class=\"data row4 col1\" >2023-04-24</td>\n",
       "      <td id=\"T_a76c3_row4_col2\" class=\"data row4 col2\" >2023-04-24</td>\n",
       "      <td id=\"T_a76c3_row4_col3\" class=\"data row4 col3\" >7.00</td>\n",
       "      <td id=\"T_a76c3_row4_col4\" class=\"data row4 col4\" >7.05</td>\n",
       "      <td id=\"T_a76c3_row4_col5\" class=\"data row4 col5\" >62,967,060</td>\n",
       "      <td id=\"T_a76c3_row4_col6\" class=\"data row4 col6\" >7.15</td>\n",
       "      <td id=\"T_a76c3_row4_col7\" class=\"data row4 col7\" >6.95</td>\n",
       "      <td id=\"T_a76c3_row4_col8\" class=\"data row4 col8\" >0.71%</td>\n",
       "      <td id=\"T_a76c3_row4_col9\" class=\"data row4 col9\" >S</td>\n",
       "    </tr>\n",
       "  </tbody>\n",
       "</table>\n"
      ],
      "text/plain": [
       "<pandas.io.formats.style.Styler at 0x203d3f15490>"
      ]
     },
     "execution_count": 13,
     "metadata": {},
     "output_type": "execute_result"
    }
   ],
   "source": [
    "df[cols].style.format(format_dict)"
   ]
  },
  {
   "cell_type": "code",
   "execution_count": 14,
   "metadata": {},
   "outputs": [],
   "source": [
    "file_name = \"daily-sales.csv\"\n",
    "data_file = data_path + file_name\n",
    "output_file = csv_path + file_name\n",
    "one_file = one_path + file_name\n",
    "osd_file = osd_path + file_name\n",
    "\n",
    "df[cols].sort_values(['status','percent'],ascending=[True,True]).to_csv(output_file, header=True, index=False)\n",
    "df[cols].sort_values(['status','percent'],ascending=[True,True]).to_csv(data_file, header=True, index=False)\n",
    "df[cols].sort_values(['status','percent'],ascending=[True,True]).to_csv(one_file, header=True, index=False)\n",
    "df[cols].sort_values(['status','percent'],ascending=[True,True]).to_csv(osd_file, header=True, index=False)"
   ]
  },
  {
   "cell_type": "code",
   "execution_count": 15,
   "metadata": {},
   "outputs": [
    {
     "data": {
      "text/plain": [
       "(5, 10)"
      ]
     },
     "execution_count": 15,
     "metadata": {},
     "output_type": "execute_result"
    }
   ],
   "source": [
    "df[cols].shape"
   ]
  },
  {
   "cell_type": "code",
   "execution_count": 16,
   "metadata": {},
   "outputs": [
    {
     "data": {
      "text/html": [
       "<div>\n",
       "<style scoped>\n",
       "    .dataframe tbody tr th:only-of-type {\n",
       "        vertical-align: middle;\n",
       "    }\n",
       "\n",
       "    .dataframe tbody tr th {\n",
       "        vertical-align: top;\n",
       "    }\n",
       "\n",
       "    .dataframe thead th {\n",
       "        text-align: right;\n",
       "    }\n",
       "</style>\n",
       "<table border=\"1\" class=\"dataframe\">\n",
       "  <thead>\n",
       "    <tr style=\"text-align: right;\">\n",
       "      <th></th>\n",
       "      <th>name</th>\n",
       "      <th>fm_date</th>\n",
       "      <th>to_date</th>\n",
       "      <th>fm_price</th>\n",
       "      <th>to_price</th>\n",
       "      <th>qty</th>\n",
       "      <th>max_price</th>\n",
       "      <th>min_price</th>\n",
       "      <th>percent</th>\n",
       "      <th>status</th>\n",
       "    </tr>\n",
       "  </thead>\n",
       "  <tbody>\n",
       "    <tr>\n",
       "      <th>0</th>\n",
       "      <td>JMART</td>\n",
       "      <td>2023-04-24</td>\n",
       "      <td>2023-04-24</td>\n",
       "      <td>19.10</td>\n",
       "      <td>19.40</td>\n",
       "      <td>106301812</td>\n",
       "      <td>22.00</td>\n",
       "      <td>18.80</td>\n",
       "      <td>1.57</td>\n",
       "      <td>B</td>\n",
       "    </tr>\n",
       "    <tr>\n",
       "      <th>1</th>\n",
       "      <td>JMT</td>\n",
       "      <td>2023-04-21</td>\n",
       "      <td>2023-04-24</td>\n",
       "      <td>39.25</td>\n",
       "      <td>40.50</td>\n",
       "      <td>23392700</td>\n",
       "      <td>40.50</td>\n",
       "      <td>38.25</td>\n",
       "      <td>3.18</td>\n",
       "      <td>B</td>\n",
       "    </tr>\n",
       "    <tr>\n",
       "      <th>2</th>\n",
       "      <td>BCH</td>\n",
       "      <td>2023-04-21</td>\n",
       "      <td>2023-04-24</td>\n",
       "      <td>21.70</td>\n",
       "      <td>21.50</td>\n",
       "      <td>18607526</td>\n",
       "      <td>21.70</td>\n",
       "      <td>21.30</td>\n",
       "      <td>-0.92</td>\n",
       "      <td>I</td>\n",
       "    </tr>\n",
       "    <tr>\n",
       "      <th>3</th>\n",
       "      <td>GVREIT</td>\n",
       "      <td>2023-04-17</td>\n",
       "      <td>2023-04-24</td>\n",
       "      <td>9.30</td>\n",
       "      <td>9.00</td>\n",
       "      <td>2102298</td>\n",
       "      <td>9.45</td>\n",
       "      <td>9.00</td>\n",
       "      <td>-3.23</td>\n",
       "      <td>I</td>\n",
       "    </tr>\n",
       "    <tr>\n",
       "      <th>4</th>\n",
       "      <td>JASIF</td>\n",
       "      <td>2023-04-24</td>\n",
       "      <td>2023-04-24</td>\n",
       "      <td>7.00</td>\n",
       "      <td>7.05</td>\n",
       "      <td>62967060</td>\n",
       "      <td>7.15</td>\n",
       "      <td>6.95</td>\n",
       "      <td>0.71</td>\n",
       "      <td>S</td>\n",
       "    </tr>\n",
       "  </tbody>\n",
       "</table>\n",
       "</div>"
      ],
      "text/plain": [
       "     name    fm_date    to_date  fm_price  to_price        qty  max_price  \\\n",
       "0   JMART 2023-04-24 2023-04-24     19.10     19.40  106301812      22.00   \n",
       "1     JMT 2023-04-21 2023-04-24     39.25     40.50   23392700      40.50   \n",
       "2     BCH 2023-04-21 2023-04-24     21.70     21.50   18607526      21.70   \n",
       "3  GVREIT 2023-04-17 2023-04-24      9.30      9.00    2102298       9.45   \n",
       "4   JASIF 2023-04-24 2023-04-24      7.00      7.05   62967060       7.15   \n",
       "\n",
       "   min_price  percent status  \n",
       "0      18.80     1.57      B  \n",
       "1      38.25     3.18      B  \n",
       "2      21.30    -0.92      I  \n",
       "3       9.00    -3.23      I  \n",
       "4       6.95     0.71      S  "
      ]
     },
     "execution_count": 16,
     "metadata": {},
     "output_type": "execute_result"
    }
   ],
   "source": [
    "sales = df[cols]\n",
    "sales"
   ]
  },
  {
   "cell_type": "code",
   "execution_count": 17,
   "metadata": {},
   "outputs": [
    {
     "data": {
      "text/html": [
       "<div>\n",
       "<style scoped>\n",
       "    .dataframe tbody tr th:only-of-type {\n",
       "        vertical-align: middle;\n",
       "    }\n",
       "\n",
       "    .dataframe tbody tr th {\n",
       "        vertical-align: top;\n",
       "    }\n",
       "\n",
       "    .dataframe thead th {\n",
       "        text-align: right;\n",
       "    }\n",
       "</style>\n",
       "<table border=\"1\" class=\"dataframe\">\n",
       "  <thead>\n",
       "    <tr style=\"text-align: right;\">\n",
       "      <th></th>\n",
       "      <th>name</th>\n",
       "      <th>date</th>\n",
       "      <th>price</th>\n",
       "      <th>change</th>\n",
       "      <th>%change</th>\n",
       "      <th>open</th>\n",
       "      <th>high</th>\n",
       "      <th>low</th>\n",
       "      <th>volume</th>\n",
       "      <th>value(m)</th>\n",
       "    </tr>\n",
       "  </thead>\n",
       "  <tbody>\n",
       "    <tr>\n",
       "      <th>0</th>\n",
       "      <td>ACE</td>\n",
       "      <td>2023-04-27</td>\n",
       "      <td>1.99</td>\n",
       "      <td>0.01</td>\n",
       "      <td>0.505051</td>\n",
       "      <td>2.00</td>\n",
       "      <td>2.02</td>\n",
       "      <td>1.97</td>\n",
       "      <td>14639262</td>\n",
       "      <td>2.920112e+04</td>\n",
       "    </tr>\n",
       "    <tr>\n",
       "      <th>1</th>\n",
       "      <td>ADVANC</td>\n",
       "      <td>2023-04-27</td>\n",
       "      <td>214.00</td>\n",
       "      <td>2.00</td>\n",
       "      <td>0.943396</td>\n",
       "      <td>213.00</td>\n",
       "      <td>216.00</td>\n",
       "      <td>212.00</td>\n",
       "      <td>11134929</td>\n",
       "      <td>2.379005e+06</td>\n",
       "    </tr>\n",
       "    <tr>\n",
       "      <th>2</th>\n",
       "      <td>AEONTS</td>\n",
       "      <td>2023-04-27</td>\n",
       "      <td>190.00</td>\n",
       "      <td>2.00</td>\n",
       "      <td>1.063830</td>\n",
       "      <td>189.00</td>\n",
       "      <td>190.50</td>\n",
       "      <td>187.50</td>\n",
       "      <td>264563</td>\n",
       "      <td>5.003452e+04</td>\n",
       "    </tr>\n",
       "    <tr>\n",
       "      <th>3</th>\n",
       "      <td>AH</td>\n",
       "      <td>2023-04-27</td>\n",
       "      <td>31.75</td>\n",
       "      <td>-0.25</td>\n",
       "      <td>-0.781250</td>\n",
       "      <td>32.00</td>\n",
       "      <td>32.25</td>\n",
       "      <td>31.50</td>\n",
       "      <td>793010</td>\n",
       "      <td>2.520392e+04</td>\n",
       "    </tr>\n",
       "    <tr>\n",
       "      <th>4</th>\n",
       "      <td>AIE</td>\n",
       "      <td>2023-04-27</td>\n",
       "      <td>1.83</td>\n",
       "      <td>-0.03</td>\n",
       "      <td>-1.612903</td>\n",
       "      <td>1.85</td>\n",
       "      <td>1.87</td>\n",
       "      <td>1.82</td>\n",
       "      <td>185149</td>\n",
       "      <td>3.396002e+02</td>\n",
       "    </tr>\n",
       "    <tr>\n",
       "      <th>...</th>\n",
       "      <td>...</td>\n",
       "      <td>...</td>\n",
       "      <td>...</td>\n",
       "      <td>...</td>\n",
       "      <td>...</td>\n",
       "      <td>...</td>\n",
       "      <td>...</td>\n",
       "      <td>...</td>\n",
       "      <td>...</td>\n",
       "      <td>...</td>\n",
       "    </tr>\n",
       "    <tr>\n",
       "      <th>187</th>\n",
       "      <td>WHAIR</td>\n",
       "      <td>2023-04-27</td>\n",
       "      <td>7.45</td>\n",
       "      <td>0.00</td>\n",
       "      <td>0.000000</td>\n",
       "      <td>7.45</td>\n",
       "      <td>7.45</td>\n",
       "      <td>7.40</td>\n",
       "      <td>54502</td>\n",
       "      <td>4.043718e+02</td>\n",
       "    </tr>\n",
       "    <tr>\n",
       "      <th>188</th>\n",
       "      <td>WHART</td>\n",
       "      <td>2023-04-27</td>\n",
       "      <td>11.00</td>\n",
       "      <td>0.00</td>\n",
       "      <td>0.000000</td>\n",
       "      <td>10.90</td>\n",
       "      <td>11.00</td>\n",
       "      <td>10.90</td>\n",
       "      <td>313801</td>\n",
       "      <td>3.447561e+03</td>\n",
       "    </tr>\n",
       "    <tr>\n",
       "      <th>189</th>\n",
       "      <td>WHAUP</td>\n",
       "      <td>2023-04-27</td>\n",
       "      <td>3.78</td>\n",
       "      <td>-0.10</td>\n",
       "      <td>-2.577320</td>\n",
       "      <td>3.78</td>\n",
       "      <td>3.80</td>\n",
       "      <td>3.76</td>\n",
       "      <td>3512248</td>\n",
       "      <td>1.328914e+04</td>\n",
       "    </tr>\n",
       "    <tr>\n",
       "      <th>190</th>\n",
       "      <td>WICE</td>\n",
       "      <td>2023-04-27</td>\n",
       "      <td>8.15</td>\n",
       "      <td>-0.30</td>\n",
       "      <td>-3.550296</td>\n",
       "      <td>8.50</td>\n",
       "      <td>8.50</td>\n",
       "      <td>8.15</td>\n",
       "      <td>2162927</td>\n",
       "      <td>1.787900e+04</td>\n",
       "    </tr>\n",
       "    <tr>\n",
       "      <th>191</th>\n",
       "      <td>WORK</td>\n",
       "      <td>2023-04-27</td>\n",
       "      <td>16.00</td>\n",
       "      <td>-0.40</td>\n",
       "      <td>-2.439024</td>\n",
       "      <td>16.30</td>\n",
       "      <td>16.40</td>\n",
       "      <td>16.00</td>\n",
       "      <td>348019</td>\n",
       "      <td>5.600551e+03</td>\n",
       "    </tr>\n",
       "  </tbody>\n",
       "</table>\n",
       "<p>192 rows × 10 columns</p>\n",
       "</div>"
      ],
      "text/plain": [
       "       name        date   price  change   %change    open    high     low  \\\n",
       "0       ACE  2023-04-27    1.99    0.01  0.505051    2.00    2.02    1.97   \n",
       "1    ADVANC  2023-04-27  214.00    2.00  0.943396  213.00  216.00  212.00   \n",
       "2    AEONTS  2023-04-27  190.00    2.00  1.063830  189.00  190.50  187.50   \n",
       "3        AH  2023-04-27   31.75   -0.25 -0.781250   32.00   32.25   31.50   \n",
       "4       AIE  2023-04-27    1.83   -0.03 -1.612903    1.85    1.87    1.82   \n",
       "..      ...         ...     ...     ...       ...     ...     ...     ...   \n",
       "187   WHAIR  2023-04-27    7.45    0.00  0.000000    7.45    7.45    7.40   \n",
       "188   WHART  2023-04-27   11.00    0.00  0.000000   10.90   11.00   10.90   \n",
       "189   WHAUP  2023-04-27    3.78   -0.10 -2.577320    3.78    3.80    3.76   \n",
       "190    WICE  2023-04-27    8.15   -0.30 -3.550296    8.50    8.50    8.15   \n",
       "191    WORK  2023-04-27   16.00   -0.40 -2.439024   16.30   16.40   16.00   \n",
       "\n",
       "       volume      value(m)  \n",
       "0    14639262  2.920112e+04  \n",
       "1    11134929  2.379005e+06  \n",
       "2      264563  5.003452e+04  \n",
       "3      793010  2.520392e+04  \n",
       "4      185149  3.396002e+02  \n",
       "..        ...           ...  \n",
       "187     54502  4.043718e+02  \n",
       "188    313801  3.447561e+03  \n",
       "189   3512248  1.328914e+04  \n",
       "190   2162927  1.787900e+04  \n",
       "191    348019  5.600551e+03  \n",
       "\n",
       "[192 rows x 10 columns]"
      ]
     },
     "execution_count": 17,
     "metadata": {},
     "output_type": "execute_result"
    }
   ],
   "source": [
    "file_name = \"Price-Today.csv\"\n",
    "input_file = data_path + file_name\n",
    "prices = pd.read_csv(input_file)\n",
    "prices"
   ]
  },
  {
   "cell_type": "code",
   "execution_count": 18,
   "metadata": {},
   "outputs": [
    {
     "data": {
      "text/html": [
       "<div>\n",
       "<style scoped>\n",
       "    .dataframe tbody tr th:only-of-type {\n",
       "        vertical-align: middle;\n",
       "    }\n",
       "\n",
       "    .dataframe tbody tr th {\n",
       "        vertical-align: top;\n",
       "    }\n",
       "\n",
       "    .dataframe thead th {\n",
       "        text-align: right;\n",
       "    }\n",
       "</style>\n",
       "<table border=\"1\" class=\"dataframe\">\n",
       "  <thead>\n",
       "    <tr style=\"text-align: right;\">\n",
       "      <th></th>\n",
       "      <th>name</th>\n",
       "      <th>fm_date</th>\n",
       "      <th>to_date</th>\n",
       "      <th>fm_price</th>\n",
       "      <th>to_price</th>\n",
       "      <th>qty</th>\n",
       "      <th>max_price</th>\n",
       "      <th>min_price</th>\n",
       "      <th>percent</th>\n",
       "      <th>status</th>\n",
       "      <th>date</th>\n",
       "      <th>price</th>\n",
       "      <th>change</th>\n",
       "      <th>%change</th>\n",
       "      <th>open</th>\n",
       "      <th>high</th>\n",
       "      <th>low</th>\n",
       "      <th>volume</th>\n",
       "      <th>value(m)</th>\n",
       "    </tr>\n",
       "  </thead>\n",
       "  <tbody>\n",
       "    <tr>\n",
       "      <th>0</th>\n",
       "      <td>JMART</td>\n",
       "      <td>2023-04-24</td>\n",
       "      <td>2023-04-24</td>\n",
       "      <td>19.10</td>\n",
       "      <td>19.40</td>\n",
       "      <td>106301812</td>\n",
       "      <td>22.00</td>\n",
       "      <td>18.80</td>\n",
       "      <td>1.57</td>\n",
       "      <td>B</td>\n",
       "      <td>2023-04-27</td>\n",
       "      <td>18.60</td>\n",
       "      <td>0.20</td>\n",
       "      <td>1.086957</td>\n",
       "      <td>18.30</td>\n",
       "      <td>18.70</td>\n",
       "      <td>17.80</td>\n",
       "      <td>15271833</td>\n",
       "      <td>277845.22410</td>\n",
       "    </tr>\n",
       "    <tr>\n",
       "      <th>1</th>\n",
       "      <td>JMT</td>\n",
       "      <td>2023-04-21</td>\n",
       "      <td>2023-04-24</td>\n",
       "      <td>39.25</td>\n",
       "      <td>40.50</td>\n",
       "      <td>23392700</td>\n",
       "      <td>40.50</td>\n",
       "      <td>38.25</td>\n",
       "      <td>3.18</td>\n",
       "      <td>B</td>\n",
       "      <td>2023-04-27</td>\n",
       "      <td>38.75</td>\n",
       "      <td>-0.50</td>\n",
       "      <td>-1.273885</td>\n",
       "      <td>39.00</td>\n",
       "      <td>39.25</td>\n",
       "      <td>37.75</td>\n",
       "      <td>9169121</td>\n",
       "      <td>352608.43125</td>\n",
       "    </tr>\n",
       "    <tr>\n",
       "      <th>2</th>\n",
       "      <td>BCH</td>\n",
       "      <td>2023-04-21</td>\n",
       "      <td>2023-04-24</td>\n",
       "      <td>21.70</td>\n",
       "      <td>21.50</td>\n",
       "      <td>18607526</td>\n",
       "      <td>21.70</td>\n",
       "      <td>21.30</td>\n",
       "      <td>-0.92</td>\n",
       "      <td>I</td>\n",
       "      <td>2023-04-27</td>\n",
       "      <td>21.90</td>\n",
       "      <td>0.20</td>\n",
       "      <td>0.921659</td>\n",
       "      <td>21.70</td>\n",
       "      <td>22.00</td>\n",
       "      <td>21.50</td>\n",
       "      <td>14519673</td>\n",
       "      <td>316449.69570</td>\n",
       "    </tr>\n",
       "    <tr>\n",
       "      <th>3</th>\n",
       "      <td>GVREIT</td>\n",
       "      <td>2023-04-17</td>\n",
       "      <td>2023-04-24</td>\n",
       "      <td>9.30</td>\n",
       "      <td>9.00</td>\n",
       "      <td>2102298</td>\n",
       "      <td>9.45</td>\n",
       "      <td>9.00</td>\n",
       "      <td>-3.23</td>\n",
       "      <td>I</td>\n",
       "      <td>2023-04-27</td>\n",
       "      <td>9.20</td>\n",
       "      <td>0.10</td>\n",
       "      <td>1.098901</td>\n",
       "      <td>9.10</td>\n",
       "      <td>9.20</td>\n",
       "      <td>9.10</td>\n",
       "      <td>98500</td>\n",
       "      <td>903.56000</td>\n",
       "    </tr>\n",
       "    <tr>\n",
       "      <th>4</th>\n",
       "      <td>JASIF</td>\n",
       "      <td>2023-04-24</td>\n",
       "      <td>2023-04-24</td>\n",
       "      <td>7.00</td>\n",
       "      <td>7.05</td>\n",
       "      <td>62967060</td>\n",
       "      <td>7.15</td>\n",
       "      <td>6.95</td>\n",
       "      <td>0.71</td>\n",
       "      <td>S</td>\n",
       "      <td>2023-04-27</td>\n",
       "      <td>7.05</td>\n",
       "      <td>-0.05</td>\n",
       "      <td>-0.704225</td>\n",
       "      <td>7.05</td>\n",
       "      <td>7.15</td>\n",
       "      <td>7.05</td>\n",
       "      <td>6607832</td>\n",
       "      <td>46900.09465</td>\n",
       "    </tr>\n",
       "  </tbody>\n",
       "</table>\n",
       "</div>"
      ],
      "text/plain": [
       "     name    fm_date    to_date  fm_price  to_price        qty  max_price  \\\n",
       "0   JMART 2023-04-24 2023-04-24     19.10     19.40  106301812      22.00   \n",
       "1     JMT 2023-04-21 2023-04-24     39.25     40.50   23392700      40.50   \n",
       "2     BCH 2023-04-21 2023-04-24     21.70     21.50   18607526      21.70   \n",
       "3  GVREIT 2023-04-17 2023-04-24      9.30      9.00    2102298       9.45   \n",
       "4   JASIF 2023-04-24 2023-04-24      7.00      7.05   62967060       7.15   \n",
       "\n",
       "   min_price  percent status        date  price  change   %change   open  \\\n",
       "0      18.80     1.57      B  2023-04-27  18.60    0.20  1.086957  18.30   \n",
       "1      38.25     3.18      B  2023-04-27  38.75   -0.50 -1.273885  39.00   \n",
       "2      21.30    -0.92      I  2023-04-27  21.90    0.20  0.921659  21.70   \n",
       "3       9.00    -3.23      I  2023-04-27   9.20    0.10  1.098901   9.10   \n",
       "4       6.95     0.71      S  2023-04-27   7.05   -0.05 -0.704225   7.05   \n",
       "\n",
       "    high    low    volume      value(m)  \n",
       "0  18.70  17.80  15271833  277845.22410  \n",
       "1  39.25  37.75   9169121  352608.43125  \n",
       "2  22.00  21.50  14519673  316449.69570  \n",
       "3   9.20   9.10     98500     903.56000  \n",
       "4   7.15   7.05   6607832   46900.09465  "
      ]
     },
     "execution_count": 18,
     "metadata": {},
     "output_type": "execute_result"
    }
   ],
   "source": [
    "df_merge = pd.merge(sales,prices,on='name', how='inner')\n",
    "df_merge"
   ]
  },
  {
   "cell_type": "code",
   "execution_count": 19,
   "metadata": {},
   "outputs": [
    {
     "data": {
      "text/plain": [
       "['name',\n",
       " 'fm_date',\n",
       " 'to_date',\n",
       " 'fm_price',\n",
       " 'to_price',\n",
       " 'qty',\n",
       " 'max_price',\n",
       " 'min_price',\n",
       " 'percent',\n",
       " 'status',\n",
       " 'price',\n",
       " 'change',\n",
       " 'volume',\n",
       " 'date']"
      ]
     },
     "execution_count": 19,
     "metadata": {},
     "output_type": "execute_result"
    }
   ],
   "source": [
    "colu = 'name fm_date to_date fm_price to_price qty max_price min_price percent status \\\n",
    "price change volume date'.split()\n",
    "colu"
   ]
  },
  {
   "cell_type": "code",
   "execution_count": 20,
   "metadata": {},
   "outputs": [
    {
     "data": {
      "text/html": [
       "<div>\n",
       "<style scoped>\n",
       "    .dataframe tbody tr th:only-of-type {\n",
       "        vertical-align: middle;\n",
       "    }\n",
       "\n",
       "    .dataframe tbody tr th {\n",
       "        vertical-align: top;\n",
       "    }\n",
       "\n",
       "    .dataframe thead th {\n",
       "        text-align: right;\n",
       "    }\n",
       "</style>\n",
       "<table border=\"1\" class=\"dataframe\">\n",
       "  <thead>\n",
       "    <tr style=\"text-align: right;\">\n",
       "      <th></th>\n",
       "      <th>name</th>\n",
       "      <th>fm_date</th>\n",
       "      <th>to_date</th>\n",
       "      <th>fm_price</th>\n",
       "      <th>to_price</th>\n",
       "      <th>qty</th>\n",
       "      <th>max_price</th>\n",
       "      <th>min_price</th>\n",
       "      <th>percent</th>\n",
       "      <th>status</th>\n",
       "      <th>price</th>\n",
       "      <th>change</th>\n",
       "      <th>volume</th>\n",
       "      <th>date</th>\n",
       "    </tr>\n",
       "  </thead>\n",
       "  <tbody>\n",
       "    <tr>\n",
       "      <th>0</th>\n",
       "      <td>JMART</td>\n",
       "      <td>2023-04-24</td>\n",
       "      <td>2023-04-24</td>\n",
       "      <td>19.10</td>\n",
       "      <td>19.40</td>\n",
       "      <td>106301812</td>\n",
       "      <td>22.00</td>\n",
       "      <td>18.80</td>\n",
       "      <td>1.57</td>\n",
       "      <td>B</td>\n",
       "      <td>18.60</td>\n",
       "      <td>0.20</td>\n",
       "      <td>15271833</td>\n",
       "      <td>2023-04-27</td>\n",
       "    </tr>\n",
       "    <tr>\n",
       "      <th>1</th>\n",
       "      <td>JMT</td>\n",
       "      <td>2023-04-21</td>\n",
       "      <td>2023-04-24</td>\n",
       "      <td>39.25</td>\n",
       "      <td>40.50</td>\n",
       "      <td>23392700</td>\n",
       "      <td>40.50</td>\n",
       "      <td>38.25</td>\n",
       "      <td>3.18</td>\n",
       "      <td>B</td>\n",
       "      <td>38.75</td>\n",
       "      <td>-0.50</td>\n",
       "      <td>9169121</td>\n",
       "      <td>2023-04-27</td>\n",
       "    </tr>\n",
       "    <tr>\n",
       "      <th>2</th>\n",
       "      <td>BCH</td>\n",
       "      <td>2023-04-21</td>\n",
       "      <td>2023-04-24</td>\n",
       "      <td>21.70</td>\n",
       "      <td>21.50</td>\n",
       "      <td>18607526</td>\n",
       "      <td>21.70</td>\n",
       "      <td>21.30</td>\n",
       "      <td>-0.92</td>\n",
       "      <td>I</td>\n",
       "      <td>21.90</td>\n",
       "      <td>0.20</td>\n",
       "      <td>14519673</td>\n",
       "      <td>2023-04-27</td>\n",
       "    </tr>\n",
       "    <tr>\n",
       "      <th>3</th>\n",
       "      <td>GVREIT</td>\n",
       "      <td>2023-04-17</td>\n",
       "      <td>2023-04-24</td>\n",
       "      <td>9.30</td>\n",
       "      <td>9.00</td>\n",
       "      <td>2102298</td>\n",
       "      <td>9.45</td>\n",
       "      <td>9.00</td>\n",
       "      <td>-3.23</td>\n",
       "      <td>I</td>\n",
       "      <td>9.20</td>\n",
       "      <td>0.10</td>\n",
       "      <td>98500</td>\n",
       "      <td>2023-04-27</td>\n",
       "    </tr>\n",
       "    <tr>\n",
       "      <th>4</th>\n",
       "      <td>JASIF</td>\n",
       "      <td>2023-04-24</td>\n",
       "      <td>2023-04-24</td>\n",
       "      <td>7.00</td>\n",
       "      <td>7.05</td>\n",
       "      <td>62967060</td>\n",
       "      <td>7.15</td>\n",
       "      <td>6.95</td>\n",
       "      <td>0.71</td>\n",
       "      <td>S</td>\n",
       "      <td>7.05</td>\n",
       "      <td>-0.05</td>\n",
       "      <td>6607832</td>\n",
       "      <td>2023-04-27</td>\n",
       "    </tr>\n",
       "  </tbody>\n",
       "</table>\n",
       "</div>"
      ],
      "text/plain": [
       "     name    fm_date    to_date  fm_price  to_price        qty  max_price  \\\n",
       "0   JMART 2023-04-24 2023-04-24     19.10     19.40  106301812      22.00   \n",
       "1     JMT 2023-04-21 2023-04-24     39.25     40.50   23392700      40.50   \n",
       "2     BCH 2023-04-21 2023-04-24     21.70     21.50   18607526      21.70   \n",
       "3  GVREIT 2023-04-17 2023-04-24      9.30      9.00    2102298       9.45   \n",
       "4   JASIF 2023-04-24 2023-04-24      7.00      7.05   62967060       7.15   \n",
       "\n",
       "   min_price  percent status  price  change    volume        date  \n",
       "0      18.80     1.57      B  18.60    0.20  15271833  2023-04-27  \n",
       "1      38.25     3.18      B  38.75   -0.50   9169121  2023-04-27  \n",
       "2      21.30    -0.92      I  21.90    0.20  14519673  2023-04-27  \n",
       "3       9.00    -3.23      I   9.20    0.10     98500  2023-04-27  \n",
       "4       6.95     0.71      S   7.05   -0.05   6607832  2023-04-27  "
      ]
     },
     "execution_count": 20,
     "metadata": {},
     "output_type": "execute_result"
    }
   ],
   "source": [
    "df_merge[colu]"
   ]
  },
  {
   "cell_type": "code",
   "execution_count": 21,
   "metadata": {},
   "outputs": [
    {
     "data": {
      "text/plain": [
       "(5, 14)"
      ]
     },
     "execution_count": 21,
     "metadata": {},
     "output_type": "execute_result"
    }
   ],
   "source": [
    "df_merge[colu].shape"
   ]
  },
  {
   "cell_type": "code",
   "execution_count": 22,
   "metadata": {},
   "outputs": [
    {
     "data": {
      "text/plain": [
       "(5, 19)"
      ]
     },
     "execution_count": 22,
     "metadata": {},
     "output_type": "execute_result"
    }
   ],
   "source": [
    "df_merge.shape"
   ]
  },
  {
   "cell_type": "code",
   "execution_count": 23,
   "metadata": {},
   "outputs": [],
   "source": [
    "file_name = \"daily-sales-prices.csv\"\n",
    "data_file = data_path + file_name\n",
    "output_file = csv_path + file_name\n",
    "one_file = one_path + file_name\n",
    "osd_file = osd_path + file_name\n",
    "\n",
    "df_merge[colu].sort_values(['name'],ascending=[True]).to_csv(output_file, header=True, index=False)\n",
    "df_merge[colu].sort_values(['name'],ascending=[True]).to_csv(data_file, header=True, index=False)\n",
    "df_merge[colu].sort_values(['name'],ascending=[True]).to_csv(one_file, header=True, index=False)\n",
    "df_merge[colu].sort_values(['name'],ascending=[True]).to_csv(osd_file, header=True, index=False)"
   ]
  },
  {
   "cell_type": "code",
   "execution_count": 24,
   "metadata": {},
   "outputs": [],
   "source": [
    "### Call ruby ruby\\daily-out-new.rb"
   ]
  },
  {
   "cell_type": "code",
   "execution_count": 25,
   "metadata": {},
   "outputs": [
    {
     "data": {
      "text/plain": [
       "'C:\\\\Users\\\\User\\\\OneDrive\\\\A7\\\\Daily'"
      ]
     },
     "execution_count": 25,
     "metadata": {},
     "output_type": "execute_result"
    }
   ],
   "source": [
    "%pwd"
   ]
  },
  {
   "cell_type": "code",
   "execution_count": 26,
   "metadata": {},
   "outputs": [
    {
     "data": {
      "text/plain": [
       "'C:\\\\users\\\\user\\\\onedrive\\\\a7'"
      ]
     },
     "execution_count": 26,
     "metadata": {},
     "output_type": "execute_result"
    }
   ],
   "source": [
    "os.chdir(\"C:\\\\users\\\\user\\\\onedrive\\\\a7\")\n",
    "%pwd"
   ]
  },
  {
   "cell_type": "code",
   "execution_count": 27,
   "metadata": {},
   "outputs": [
    {
     "name": "stdout",
     "output_type": "stream",
     "text": [
      "Name      From Date    To Date   From     To     Pct      Shares    Max    Min S Action\n",
      "---------------------------------------------------------------------------------------\n",
      "BCH      2023-04-27 2023-04-27  21.50  21.90   1.86%  18,607,526  21.90  21.30 I Insert\n",
      "GVREIT   2023-04-27 2023-04-27   9.00   9.20   2.22%   2,102,298   9.45   9.00 I Insert\n",
      "JASIF    2023-04-27 2023-04-27   7.05   7.05    0.0%  62,967,060   7.15   6.95 S Insert\n",
      "JMART    2023-04-24 2023-04-27  19.10  18.60  -2.62% 106,301,812  22.00  18.60 B Update\n",
      "JMT      2023-04-27 2023-04-27  40.50  38.75  -4.32%  23,392,700  40.50  38.25 B Insert\n",
      "=======================================================================================\n"
     ]
    }
   ],
   "source": [
    "!ruby ruby\\\\daily-out-new.rb"
   ]
  },
  {
   "cell_type": "code",
   "execution_count": 28,
   "metadata": {},
   "outputs": [
    {
     "data": {
      "text/plain": [
       "'C:\\\\users\\\\user\\\\onedrive\\\\a7\\\\Daily'"
      ]
     },
     "execution_count": 28,
     "metadata": {},
     "output_type": "execute_result"
    }
   ],
   "source": [
    "os.chdir(\"C:\\\\users\\\\user\\\\onedrive\\\\a7\\\\Daily\")\n",
    "%pwd"
   ]
  },
  {
   "cell_type": "markdown",
   "metadata": {},
   "source": [
    "### cd\\ruby\\port_lite\n",
    "### rails runner db/ins_sales.rb"
   ]
  },
  {
   "cell_type": "code",
   "execution_count": null,
   "metadata": {},
   "outputs": [],
   "source": []
  }
 ],
 "metadata": {
  "anaconda-cloud": {},
  "kernelspec": {
   "display_name": "Python 3 (ipykernel)",
   "language": "python",
   "name": "python3"
  },
  "language_info": {
   "codemirror_mode": {
    "name": "ipython",
    "version": 3
   },
   "file_extension": ".py",
   "mimetype": "text/x-python",
   "name": "python",
   "nbconvert_exporter": "python",
   "pygments_lexer": "ipython3",
   "version": "3.8.11"
  }
 },
 "nbformat": 4,
 "nbformat_minor": 1
}
