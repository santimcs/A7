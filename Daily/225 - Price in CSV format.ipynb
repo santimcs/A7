{
 "cells": [
  {
   "cell_type": "markdown",
   "metadata": {},
   "source": [
    "### Restart and Run All Cells"
   ]
  },
  {
   "cell_type": "code",
   "execution_count": 1,
   "metadata": {},
   "outputs": [],
   "source": [
    "import calendar\n",
    "import pandas as pd\n",
    "from datetime import datetime, timedelta, date\n",
    "from sqlalchemy import create_engine\n",
    "\n",
    "engine = create_engine(\"mysql+pymysql://root:@localhost:3306/stock\")\n",
    "const = engine.connect()\n",
    "\n",
    "inp_data_path = \"../data/\"\n",
    "csv_path = \"\\\\Users\\\\User\\\\iCloudDrive\\\\\"\n",
    "osd_path = \"\\\\Users\\\\User\\\\OneDrive\\\\Documents\\\\obsidian-git-sync\\\\Data\\\\\"\n",
    "pd.set_option('display.float_format','{:,.3f}'.format)\n",
    "\n",
    "today = date.today()\n",
    "today\n",
    "name = 'PTG'\n",
    "buy_date = '2020-12-23'"
   ]
  },
  {
   "cell_type": "code",
   "execution_count": 2,
   "metadata": {
    "scrolled": true
   },
   "outputs": [],
   "source": [
    "\n",
    "    sql = \"\"\"\n",
    "    SELECT name, date, opnp AS open, maxp AS high, minp AS low, price,\n",
    "    qty AS volume \n",
    "    FROM price \n",
    "    WHERE name = '%s' AND date >= '%s'\n",
    "    ORDER BY date\"\"\"    \n",
    "    sql = sql % (name, buy_date)\n",
    "    df = pd.read_sql(sql, const)\n",
    "    file_name = name + \".csv\"\n",
    "    data_file = osd_path + file_name  \n",
    "    csv_file = csv_path + file_name    \n",
    "    df.to_csv(data_file, index=False)\n",
    "    df.to_csv(csv_file, index=False)    "
   ]
  },
  {
   "cell_type": "code",
   "execution_count": null,
   "metadata": {},
   "outputs": [],
   "source": []
  }
 ],
 "metadata": {
  "anaconda-cloud": {},
  "kernelspec": {
   "display_name": "Python 3 (ipykernel)",
   "language": "python",
   "name": "python3"
  },
  "language_info": {
   "codemirror_mode": {
    "name": "ipython",
    "version": 3
   },
   "file_extension": ".py",
   "mimetype": "text/x-python",
   "name": "python",
   "nbconvert_exporter": "python",
   "pygments_lexer": "ipython3",
   "version": "3.8.11"
  }
 },
 "nbformat": 4,
 "nbformat_minor": 1
}
