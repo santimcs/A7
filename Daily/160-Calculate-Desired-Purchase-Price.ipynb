{
 "cells": [
  {
   "cell_type": "code",
   "execution_count": 1,
   "metadata": {},
   "outputs": [
    {
     "data": {
      "text/plain": [
       "(datetime.date(2023, 8, 26), datetime.date(2023, 8, 25))"
      ]
     },
     "execution_count": 1,
     "metadata": {},
     "output_type": "execute_result"
    }
   ],
   "source": [
    "import calendar\n",
    "import pandas as pd\n",
    "import numpy as np\n",
    "from datetime import date, timedelta\n",
    "from math import ceil, floor, trunc\n",
    "\n",
    "today = date.today()\n",
    "yesterday = today - timedelta(days=1)\n",
    "today, yesterday"
   ]
  },
  {
   "cell_type": "code",
   "execution_count": 2,
   "metadata": {},
   "outputs": [],
   "source": [
    "def number_of_spread(x):\n",
    "    # Unpack values from input list\n",
    "    q0 = x[0]   # old quantity\n",
    "    p0 = x[1]   # old unit price\n",
    "    old_unit_cost = x[1]  # store old unit price for later use\n",
    "    q1 = x[2]   # purchase quantity\n",
    "    d1 = x[3]   # spread according to price range\n",
    "    c0 = x[4]   # desired down percent to adjust purchase price\n",
    "\n",
    "    # Calculate old cost amount\n",
    "    a0 = q0 * p0\n",
    "\n",
    "    # Initialize loop variables\n",
    "    i = 1000\n",
    "    pct = 0\n",
    "    pt = 0\n",
    "    dt = 0\n",
    "    p2 = 0\n",
    "\n",
    "    # Loop until i becomes 0\n",
    "    while i > 0:\n",
    "        # Calculate simulated purchase price\n",
    "        p1 = p0 - d1\n",
    "\n",
    "        # Update old unit price for next iteration\n",
    "        p0 = p1\n",
    "\n",
    "        # Calculate new purchase amount\n",
    "        a1 = q1 * p1\n",
    "\n",
    "        # Calculate new total quantity and cost amount\n",
    "        q2 = q0 + q1\n",
    "        a2 = a0 + a1\n",
    "\n",
    "        # Calculate new unit cost\n",
    "        p2 = a2 / q2\n",
    "\n",
    "        # Round simulated purchase price and spread according to price range\n",
    "        pt = round(p2 * 100, 2)\n",
    "        dt = d1 * 100\n",
    "\n",
    "        # Debugging output\n",
    "        print('before if', i, 'p1=' + str(round(p1, 2)), 'a1=' + str(round(a1, 2)), 'a2=' + str(round(a2, 2)), 'p2=' + str(round(p2, 2)))\n",
    "\n",
    "        # Check if simulated purchase price is divisible by spread\n",
    "        if (pt % dt) == 0:\n",
    "            # Calculate percentage change in unit cost\n",
    "            pct = ((p1 - old_unit_cost) / old_unit_cost) * 100\n",
    "\n",
    "            # Debugging output\n",
    "            print('in loop', i, 'p2=' + str(round(p2, 2)), a2, 'p1=' + str(round(p1, 2)), 'pct=' + str(round(pct, 2)))\n",
    "\n",
    "            # Check if absolute value of percentage change is less than desired down percent\n",
    "            if abs(pct) < c0:\n",
    "                # Continue to next iteration if condition is met\n",
    "                continue\n",
    "\n",
    "            # Break loop if condition is not met\n",
    "            break\n",
    "\n",
    "        # Debugging output\n",
    "        print('out loop', i, 'p2=' + str(round(p2, 2)), a2, 'p1=' + str(round(p1, 2)), 'pct=' + str(round(pct, 2)))\n",
    "\n",
    "        # Decrement loop counter\n",
    "        i -= 1\n",
    "\n",
    "    # Return simulated purchase price, new unit cost, and percentage change in unit cost\n",
    "    return print('p1=' + str(round(p1, 2)), 'p2=' + str(round(p2, 2)), 'pct=' + str(round(pct, 2)))\n"
   ]
  },
  {
   "cell_type": "code",
   "execution_count": 4,
   "metadata": {
    "scrolled": true
   },
   "outputs": [
    {
     "name": "stdout",
     "output_type": "stream",
     "text": [
      "before if 1000 p1=8.4 a1=50400.0 a2=407400.0 p2=8.49\n",
      "out loop 1000 p2=8.49 407400.0 p1=8.4 pct=0\n",
      "before if 999 p1=8.3 a1=49800.0 a2=406800.0 p2=8.48\n",
      "out loop 999 p2=8.48 406800.0 p1=8.3 pct=0\n",
      "before if 998 p1=8.2 a1=49200.0 a2=406200.0 p2=8.46\n",
      "out loop 998 p2=8.46 406200.0 p1=8.2 pct=0\n",
      "before if 997 p1=8.1 a1=48600.0 a2=405600.0 p2=8.45\n",
      "out loop 997 p2=8.45 405600.0 p1=8.1 pct=0\n",
      "before if 996 p1=8.0 a1=48000.0 a2=405000.0 p2=8.44\n",
      "out loop 996 p2=8.44 405000.0 p1=8.0 pct=0\n",
      "before if 995 p1=7.9 a1=47400.0 a2=404400.0 p2=8.43\n",
      "out loop 995 p2=8.43 404400.0 p1=7.9 pct=0\n",
      "before if 994 p1=7.8 a1=46800.0 a2=403800.0 p2=8.41\n",
      "out loop 994 p2=8.41 403800.0 p1=7.8 pct=0\n",
      "before if 993 p1=7.7 a1=46200.0 a2=403200.0 p2=8.4\n",
      "in loop 993 p2=8.4 403200.0 p1=7.7 pct=-9.41\n",
      "before if 993 p1=7.6 a1=45600.0 a2=402600.0 p2=8.39\n",
      "out loop 993 p2=8.39 402600.0 p1=7.6 pct=-9.41\n",
      "before if 992 p1=7.5 a1=45000.0 a2=402000.0 p2=8.38\n",
      "out loop 992 p2=8.38 402000.0 p1=7.5 pct=-9.41\n",
      "before if 991 p1=7.4 a1=44400.0 a2=401400.0 p2=8.36\n",
      "out loop 991 p2=8.36 401400.0 p1=7.4 pct=-9.41\n",
      "before if 990 p1=7.3 a1=43800.0 a2=400800.0 p2=8.35\n",
      "out loop 990 p2=8.35 400800.0 p1=7.3 pct=-9.41\n",
      "before if 989 p1=7.2 a1=43200.0 a2=400200.0 p2=8.34\n",
      "out loop 989 p2=8.34 400200.0 p1=7.2 pct=-9.41\n",
      "before if 988 p1=7.1 a1=42600.0 a2=399600.0 p2=8.32\n",
      "out loop 988 p2=8.32 399600.0 p1=7.1 pct=-9.41\n",
      "before if 987 p1=7.0 a1=42000.0 a2=399000.0 p2=8.31\n",
      "out loop 987 p2=8.31 399000.0 p1=7.0 pct=-9.41\n",
      "before if 986 p1=6.9 a1=41400.0 a2=398400.0 p2=8.3\n",
      "in loop 986 p2=8.3 398400.00000000006 p1=6.9 pct=-18.82\n",
      "p1=6.9 p2=8.3 pct=-18.82\n"
     ]
    },
    {
     "data": {
      "text/plain": [
       "array([None], dtype=object)"
      ]
     },
     "execution_count": 4,
     "metadata": {},
     "output_type": "execute_result"
    }
   ],
   "source": [
    "my_array = [[42000,8.5,6000,.10,15]]\n",
    "tmp = (np.apply_along_axis(number_of_spread, axis=1, arr=my_array))\n",
    "tmp"
   ]
  },
  {
   "cell_type": "markdown",
   "metadata": {},
   "source": [
    "##### "
   ]
  }
 ],
 "metadata": {
  "anaconda-cloud": {},
  "kernelspec": {
   "display_name": "Python 3 (ipykernel)",
   "language": "python",
   "name": "python3"
  },
  "language_info": {
   "codemirror_mode": {
    "name": "ipython",
    "version": 3
   },
   "file_extension": ".py",
   "mimetype": "text/x-python",
   "name": "python",
   "nbconvert_exporter": "python",
   "pygments_lexer": "ipython3",
   "version": "3.8.11"
  }
 },
 "nbformat": 4,
 "nbformat_minor": 1
}
