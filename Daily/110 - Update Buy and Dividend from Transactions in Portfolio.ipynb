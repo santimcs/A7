{
 "cells": [
  {
   "cell_type": "code",
   "execution_count": 1,
   "metadata": {},
   "outputs": [
    {
     "data": {
      "text/plain": [
       "datetime.date(2023, 8, 25)"
      ]
     },
     "execution_count": 1,
     "metadata": {},
     "output_type": "execute_result"
    }
   ],
   "source": [
    "import pandas as pd\n",
    "from datetime import date, timedelta\n",
    "from sqlalchemy import create_engine\n",
    "from pandas.tseries.offsets import BDay\n",
    "\n",
    "engine = create_engine('mysql+pymysql://root:@localhost:3306/portfolio_development')\n",
    "conpf = engine.connect()\n",
    "\n",
    "engine = create_engine(\"mysql+pymysql://root:@localhost:3306/stock\")\n",
    "const = engine.connect()\n",
    "\n",
    "engine = create_engine(\"sqlite:///c:\\\\ruby\\\\port_lite\\\\db\\\\development.sqlite3\")\n",
    "conlite = engine.connect()\n",
    "\n",
    "data_path = \"../data/\"\n",
    "csv_path = \"\\\\Users\\\\User\\\\iCloudDrive\\\\\"\n",
    "one_path = \"\\\\Users\\\\User\\\\OneDrive\\\\Documents\\\\Data\\\\\"\n",
    "osd_path = \"\\\\Users\\\\User\\\\OneDrive\\\\Documents\\\\obsidian-git-sync\\\\Data\\\\\"\n",
    "\n",
    "today = date.today()\n",
    "today"
   ]
  },
  {
   "cell_type": "code",
   "execution_count": 2,
   "metadata": {},
   "outputs": [
    {
     "name": "stdout",
     "output_type": "stream",
     "text": [
      "today: 2023-08-25\n",
      "yesterday: 2023-08-24\n"
     ]
    }
   ],
   "source": [
    "# convert the timedelta object to a BusinessDay object\n",
    "num_business_days = BDay(1)\n",
    "yesterday = today - num_business_days\n",
    "yesterday = yesterday.date()\n",
    "print(f'today: {today}')\n",
    "print(f'yesterday: {yesterday}')"
   ]
  },
  {
   "cell_type": "markdown",
   "metadata": {},
   "source": [
    "### Tables in the process"
   ]
  },
  {
   "cell_type": "code",
   "execution_count": 3,
   "metadata": {},
   "outputs": [],
   "source": [
    "format_dict = {\n",
    "    'shares':'{:,}',    \n",
    "    'price':'{:.2f}',\n",
    "    'dividend':'{:.4f}', \n",
    "    'date':'{:%Y-%m-%d}', \n",
    "    \n",
    "    'qty':'{:,}','shares':'{:,}',\n",
    "    'price':'{:.2f}','buy_price':'{:.2f}',\n",
    "    'dividend':'{:.4f}',    \n",
    "    'fee':'{:,.2f}','vat':'{:,.2f}','net':'{:,.2f}',\n",
    "  \n",
    "    'days':'{:,}',\n",
    "    'price':'{:.2f}',\n",
    "    'fee':'{:,.2f}','vat':'{:,.2f}','net':'{:,.2f}','profit':'{:,.2f}',\n",
    "    'percent':'{:,.2f}%','yearly':'{:,.2f}%',   \n",
    "    \n",
    "    'shares':'{:,}',    \n",
    "    'q4':'{:.4f}','q3':'{:.4f}','q2':'{:.4f}','q1':'{:.4f}','dividend':'{:.4f}',\n",
    "    'xdate':'{:%Y-%m-%d}','paiddate':'{:%Y-%m-%d}',\n",
    "    \n",
    "    'qty':'{:,}','available_qty':'{:,}',\n",
    "    'cost':'{:.2f}','max_price':'{:.2f}','min_price':'{:.2f}','buy_target':'{:.2f}','sell_target':'{:.2f}',\n",
    "    'volume':'{:,.2f}','beta':'{:,.2f}',\n",
    "    \n",
    "    'qty':'{:,}','available_qty':'{:,}',\n",
    "    'cost':'{:.2f}','max_price':'{:.2f}','min_price':'{:.2f}','buy_target':'{:.2f}','sell_target':'{:.2f}',\n",
    "    'volume':'{:,.2f}','beta':'{:,.2f}',\n",
    "    }"
   ]
  },
  {
   "cell_type": "code",
   "execution_count": 4,
   "metadata": {},
   "outputs": [
    {
     "data": {
      "text/html": [
       "<style type=\"text/css\">\n",
       "</style>\n",
       "<table id=\"T_8d18d_\">\n",
       "  <thead>\n",
       "    <tr>\n",
       "      <th class=\"blank level0\" >&nbsp;</th>\n",
       "      <th class=\"col_heading level0 col0\" >name</th>\n",
       "      <th class=\"col_heading level0 col1\" >stock_id</th>\n",
       "      <th class=\"col_heading level0 col2\" >buy_date</th>\n",
       "      <th class=\"col_heading level0 col3\" >qty</th>\n",
       "      <th class=\"col_heading level0 col4\" >buy_price</th>\n",
       "      <th class=\"col_heading level0 col5\" >id</th>\n",
       "      <th class=\"col_heading level0 col6\" >buy_id</th>\n",
       "      <th class=\"col_heading level0 col7\" >date</th>\n",
       "      <th class=\"col_heading level0 col8\" >price</th>\n",
       "      <th class=\"col_heading level0 col9\" >fee</th>\n",
       "      <th class=\"col_heading level0 col10\" >vat</th>\n",
       "      <th class=\"col_heading level0 col11\" >net</th>\n",
       "      <th class=\"col_heading level0 col12\" >days</th>\n",
       "      <th class=\"col_heading level0 col13\" >profit</th>\n",
       "      <th class=\"col_heading level0 col14\" >percent</th>\n",
       "      <th class=\"col_heading level0 col15\" >yearly</th>\n",
       "      <th class=\"col_heading level0 col16\" >sequence</th>\n",
       "      <th class=\"col_heading level0 col17\" >chart</th>\n",
       "      <th class=\"col_heading level0 col18\" >dividend_id</th>\n",
       "    </tr>\n",
       "  </thead>\n",
       "  <tbody>\n",
       "    <tr>\n",
       "      <th id=\"T_8d18d_level0_row0\" class=\"row_heading level0 row0\" >0</th>\n",
       "      <td id=\"T_8d18d_row0_col0\" class=\"data row0 col0\" >JMART</td>\n",
       "      <td id=\"T_8d18d_row0_col1\" class=\"data row0 col1\" >158</td>\n",
       "      <td id=\"T_8d18d_row0_col2\" class=\"data row0 col2\" >2023-04-19</td>\n",
       "      <td id=\"T_8d18d_row0_col3\" class=\"data row0 col3\" >1,200</td>\n",
       "      <td id=\"T_8d18d_row0_col4\" class=\"data row0 col4\" >19.60</td>\n",
       "      <td id=\"T_8d18d_row0_col5\" class=\"data row0 col5\" >1050</td>\n",
       "      <td id=\"T_8d18d_row0_col6\" class=\"data row0 col6\" >1252</td>\n",
       "      <td id=\"T_8d18d_row0_col7\" class=\"data row0 col7\" >2023-08-23</td>\n",
       "      <td id=\"T_8d18d_row0_col8\" class=\"data row0 col8\" >20.60</td>\n",
       "      <td id=\"T_8d18d_row0_col9\" class=\"data row0 col9\" >51.17</td>\n",
       "      <td id=\"T_8d18d_row0_col10\" class=\"data row0 col10\" >3.58</td>\n",
       "      <td id=\"T_8d18d_row0_col11\" class=\"data row0 col11\" >24,665.25</td>\n",
       "      <td id=\"T_8d18d_row0_col12\" class=\"data row0 col12\" >126</td>\n",
       "      <td id=\"T_8d18d_row0_col13\" class=\"data row0 col13\" >1,093.15</td>\n",
       "      <td id=\"T_8d18d_row0_col14\" class=\"data row0 col14\" >4.64%</td>\n",
       "      <td id=\"T_8d18d_row0_col15\" class=\"data row0 col15\" >13.43%</td>\n",
       "      <td id=\"T_8d18d_row0_col16\" class=\"data row0 col16\" >-50</td>\n",
       "      <td id=\"T_8d18d_row0_col17\" class=\"data row0 col17\" >None</td>\n",
       "      <td id=\"T_8d18d_row0_col18\" class=\"data row0 col18\" >0</td>\n",
       "    </tr>\n",
       "  </tbody>\n",
       "</table>\n"
      ],
      "text/plain": [
       "<pandas.io.formats.style.Styler at 0x2856dc10610>"
      ]
     },
     "execution_count": 4,
     "metadata": {},
     "output_type": "execute_result"
    }
   ],
   "source": [
    "# Sells table in MySQL portfolio database\n",
    "sql = \"\"\"\n",
    "SELECT name, stock_id, B.date AS buy_date, qty, B.price AS buy_price, S.* \n",
    "FROM sells S\n",
    "JOIN buys B ON S.buy_id = B.id\n",
    "JOIN stocks T ON B.stock_id = T.id\n",
    "ORDER BY S.id DESC\n",
    "LIMIT 1\"\"\"\n",
    "sells = pd.read_sql(sql, conpf)\n",
    "sells.style.format(format_dict)"
   ]
  },
  {
   "cell_type": "markdown",
   "metadata": {},
   "source": [
    "### In case of sale, retreive buy id from sells record (buy_id)"
   ]
  },
  {
   "cell_type": "code",
   "execution_count": 5,
   "metadata": {},
   "outputs": [
    {
     "data": {
      "text/plain": [
       "'JMART'"
      ]
     },
     "execution_count": 5,
     "metadata": {},
     "output_type": "execute_result"
    }
   ],
   "source": [
    "# Buys table in MySQL portfolio database\n",
    "transaction = 'S'\n",
    "\n",
    "names = sells['name']\n",
    "name = names.to_string(index=False)\n",
    "name"
   ]
  },
  {
   "cell_type": "code",
   "execution_count": 6,
   "metadata": {},
   "outputs": [
    {
     "name": "stdout",
     "output_type": "stream",
     "text": [
      "\n",
      "SELECT name, B.* \n",
      "FROM buys B\n",
      "JOIN stocks T \n",
      "ON B.stock_id = T.id\n",
      "WHERE B.id = 1252\n",
      "\n"
     ]
    },
    {
     "data": {
      "text/html": [
       "<style type=\"text/css\">\n",
       "</style>\n",
       "<table id=\"T_d57ec_\">\n",
       "  <thead>\n",
       "    <tr>\n",
       "      <th class=\"blank level0\" >&nbsp;</th>\n",
       "      <th class=\"col_heading level0 col0\" >name</th>\n",
       "      <th class=\"col_heading level0 col1\" >id</th>\n",
       "      <th class=\"col_heading level0 col2\" >stock_id</th>\n",
       "      <th class=\"col_heading level0 col3\" >date</th>\n",
       "      <th class=\"col_heading level0 col4\" >qty</th>\n",
       "      <th class=\"col_heading level0 col5\" >price</th>\n",
       "      <th class=\"col_heading level0 col6\" >fee</th>\n",
       "      <th class=\"col_heading level0 col7\" >vat</th>\n",
       "      <th class=\"col_heading level0 col8\" >status</th>\n",
       "      <th class=\"col_heading level0 col9\" >net</th>\n",
       "      <th class=\"col_heading level0 col10\" >kind</th>\n",
       "      <th class=\"col_heading level0 col11\" >chart</th>\n",
       "    </tr>\n",
       "  </thead>\n",
       "  <tbody>\n",
       "    <tr>\n",
       "      <th id=\"T_d57ec_level0_row0\" class=\"row_heading level0 row0\" >0</th>\n",
       "      <td id=\"T_d57ec_row0_col0\" class=\"data row0 col0\" >JMART</td>\n",
       "      <td id=\"T_d57ec_row0_col1\" class=\"data row0 col1\" >1252</td>\n",
       "      <td id=\"T_d57ec_row0_col2\" class=\"data row0 col2\" >158</td>\n",
       "      <td id=\"T_d57ec_row0_col3\" class=\"data row0 col3\" >2023-04-19</td>\n",
       "      <td id=\"T_d57ec_row0_col4\" class=\"data row0 col4\" >1,200</td>\n",
       "      <td id=\"T_d57ec_row0_col5\" class=\"data row0 col5\" >19.60</td>\n",
       "      <td id=\"T_d57ec_row0_col6\" class=\"data row0 col6\" >48.69</td>\n",
       "      <td id=\"T_d57ec_row0_col7\" class=\"data row0 col7\" >3.41</td>\n",
       "      <td id=\"T_d57ec_row0_col8\" class=\"data row0 col8\" >Sold</td>\n",
       "      <td id=\"T_d57ec_row0_col9\" class=\"data row0 col9\" >23,572.10</td>\n",
       "      <td id=\"T_d57ec_row0_col10\" class=\"data row0 col10\" >DTD</td>\n",
       "      <td id=\"T_d57ec_row0_col11\" class=\"data row0 col11\" >None</td>\n",
       "    </tr>\n",
       "  </tbody>\n",
       "</table>\n"
      ],
      "text/plain": [
       "<pandas.io.formats.style.Styler at 0x244b62225e0>"
      ]
     },
     "execution_count": 6,
     "metadata": {},
     "output_type": "execute_result"
    }
   ],
   "source": [
    "sr_qty = sells['qty']\n",
    "qty = sr_qty.to_string(index=False)\n",
    "qty = int(qty) * -1\n",
    "\n",
    "sr_price = sells['buy_price']\n",
    "buy_price = sr_price.to_string(index=False)\n",
    "buy_price = float(buy_price)\n",
    "\n",
    "sr_price = sells['price']\n",
    "sell_price = sr_price.to_string(index=False)\n",
    "sell_price = float(sell_price)\n",
    "\n",
    "buy_ids = sells['buy_id']\n",
    "buy_id = buy_ids.to_string(index=False)\n",
    "\n",
    "sql = \"\"\"\n",
    "SELECT name, B.* \n",
    "FROM buys B\n",
    "JOIN stocks T \n",
    "ON B.stock_id = T.id\n",
    "WHERE B.id = %s\n",
    "\"\"\"\n",
    "sql = sql % buy_id\n",
    "print(sql)\n",
    "\n",
    "buys = pd.read_sql(sql, conpf)\n",
    "buys.style.format(format_dict)"
   ]
  },
  {
   "cell_type": "code",
   "execution_count": 7,
   "metadata": {},
   "outputs": [
    {
     "data": {
      "text/plain": [
       "('S', 'JMART', -1200, 20.6, 19.6)"
      ]
     },
     "execution_count": 7,
     "metadata": {},
     "output_type": "execute_result"
    }
   ],
   "source": [
    "transaction, name, qty, sell_price, buy_price"
   ]
  },
  {
   "cell_type": "markdown",
   "metadata": {},
   "source": [
    "### In case of buy, retreive buy id from latest buy record (id)"
   ]
  },
  {
   "cell_type": "code",
   "execution_count": 5,
   "metadata": {},
   "outputs": [
    {
     "name": "stdout",
     "output_type": "stream",
     "text": [
      "\n",
      "SELECT name, B.* \n",
      "FROM buys B\n",
      "JOIN stocks T \n",
      "ON B.stock_id = T.id\n",
      "ORDER BY id DESC\n",
      "LIMIT 1\n",
      "\n"
     ]
    },
    {
     "data": {
      "text/html": [
       "<style type=\"text/css\">\n",
       "</style>\n",
       "<table id=\"T_4c0a4_\">\n",
       "  <thead>\n",
       "    <tr>\n",
       "      <th class=\"blank level0\" >&nbsp;</th>\n",
       "      <th class=\"col_heading level0 col0\" >name</th>\n",
       "      <th class=\"col_heading level0 col1\" >id</th>\n",
       "      <th class=\"col_heading level0 col2\" >stock_id</th>\n",
       "      <th class=\"col_heading level0 col3\" >date</th>\n",
       "      <th class=\"col_heading level0 col4\" >qty</th>\n",
       "      <th class=\"col_heading level0 col5\" >price</th>\n",
       "      <th class=\"col_heading level0 col6\" >fee</th>\n",
       "      <th class=\"col_heading level0 col7\" >vat</th>\n",
       "      <th class=\"col_heading level0 col8\" >status</th>\n",
       "      <th class=\"col_heading level0 col9\" >net</th>\n",
       "      <th class=\"col_heading level0 col10\" >kind</th>\n",
       "      <th class=\"col_heading level0 col11\" >chart</th>\n",
       "    </tr>\n",
       "  </thead>\n",
       "  <tbody>\n",
       "    <tr>\n",
       "      <th id=\"T_4c0a4_level0_row0\" class=\"row_heading level0 row0\" >0</th>\n",
       "      <td id=\"T_4c0a4_row0_col0\" class=\"data row0 col0\" >GVREIT</td>\n",
       "      <td id=\"T_4c0a4_row0_col1\" class=\"data row0 col1\" >1280</td>\n",
       "      <td id=\"T_4c0a4_row0_col2\" class=\"data row0 col2\" >169</td>\n",
       "      <td id=\"T_4c0a4_row0_col3\" class=\"data row0 col3\" >2023-08-25</td>\n",
       "      <td id=\"T_4c0a4_row0_col4\" class=\"data row0 col4\" >6,000</td>\n",
       "      <td id=\"T_4c0a4_row0_col5\" class=\"data row0 col5\" >7.35</td>\n",
       "      <td id=\"T_4c0a4_row0_col6\" class=\"data row0 col6\" >91.29</td>\n",
       "      <td id=\"T_4c0a4_row0_col7\" class=\"data row0 col7\" >6.39</td>\n",
       "      <td id=\"T_4c0a4_row0_col8\" class=\"data row0 col8\" >Active</td>\n",
       "      <td id=\"T_4c0a4_row0_col9\" class=\"data row0 col9\" >44,197.68</td>\n",
       "      <td id=\"T_4c0a4_row0_col10\" class=\"data row0 col10\" >HD</td>\n",
       "      <td id=\"T_4c0a4_row0_col11\" class=\"data row0 col11\" >None</td>\n",
       "    </tr>\n",
       "  </tbody>\n",
       "</table>\n"
      ],
      "text/plain": [
       "<pandas.io.formats.style.Styler at 0x2856ec56700>"
      ]
     },
     "execution_count": 5,
     "metadata": {},
     "output_type": "execute_result"
    }
   ],
   "source": [
    "sql = \"\"\"\n",
    "SELECT name, B.* \n",
    "FROM buys B\n",
    "JOIN stocks T \n",
    "ON B.stock_id = T.id\n",
    "ORDER BY id DESC\n",
    "LIMIT 1\n",
    "\"\"\"\n",
    "print(sql)\n",
    "buys = pd.read_sql(sql, conpf)\n",
    "buys.style.format(format_dict)"
   ]
  },
  {
   "cell_type": "code",
   "execution_count": 6,
   "metadata": {},
   "outputs": [
    {
     "data": {
      "text/plain": [
       "('B', 'GVREIT', 6000, 7.35)"
      ]
     },
     "execution_count": 6,
     "metadata": {},
     "output_type": "execute_result"
    }
   ],
   "source": [
    "transaction = 'B'\n",
    "\n",
    "names = buys['name']\n",
    "name = names.to_string(index=False)\n",
    "\n",
    "sr_qty = buys['qty']\n",
    "qty = sr_qty.to_string(index=False)\n",
    "qty = int(qty)\n",
    "\n",
    "sr_price = buys['price']\n",
    "buy_price = sr_price.to_string(index=False)\n",
    "buy_price = float(buy_price)\n",
    "\n",
    "transaction, name, qty, buy_price"
   ]
  },
  {
   "cell_type": "markdown",
   "metadata": {},
   "source": [
    "## Begin of Sale transaction"
   ]
  },
  {
   "cell_type": "markdown",
   "metadata": {},
   "source": [
    "### Begin of Update buy table in MySQL stock database from sale transaction"
   ]
  },
  {
   "cell_type": "code",
   "execution_count": 8,
   "metadata": {},
   "outputs": [
    {
     "name": "stdout",
     "output_type": "stream",
     "text": [
      "\n",
      "SELECT * \n",
      "FROM buy \n",
      "WHERE name = 'JMART'\n",
      "\n"
     ]
    },
    {
     "data": {
      "text/html": [
       "<style type=\"text/css\">\n",
       "</style>\n",
       "<table id=\"T_9593a_\">\n",
       "  <thead>\n",
       "    <tr>\n",
       "      <th class=\"blank level0\" >&nbsp;</th>\n",
       "      <th class=\"col_heading level0 col0\" >name</th>\n",
       "      <th class=\"col_heading level0 col1\" >date</th>\n",
       "      <th class=\"col_heading level0 col2\" >shares</th>\n",
       "      <th class=\"col_heading level0 col3\" >price</th>\n",
       "      <th class=\"col_heading level0 col4\" >active</th>\n",
       "      <th class=\"col_heading level0 col5\" >period</th>\n",
       "      <th class=\"col_heading level0 col6\" >grade</th>\n",
       "    </tr>\n",
       "  </thead>\n",
       "  <tbody>\n",
       "    <tr>\n",
       "      <th id=\"T_9593a_level0_row0\" class=\"row_heading level0 row0\" >0</th>\n",
       "      <td id=\"T_9593a_row0_col0\" class=\"data row0 col0\" >JMART</td>\n",
       "      <td id=\"T_9593a_row0_col1\" class=\"data row0 col1\" >2023-01-20</td>\n",
       "      <td id=\"T_9593a_row0_col2\" class=\"data row0 col2\" >7,200</td>\n",
       "      <td id=\"T_9593a_row0_col3\" class=\"data row0 col3\" >32.00</td>\n",
       "      <td id=\"T_9593a_row0_col4\" class=\"data row0 col4\" >1</td>\n",
       "      <td id=\"T_9593a_row0_col5\" class=\"data row0 col5\" >4</td>\n",
       "      <td id=\"T_9593a_row0_col6\" class=\"data row0 col6\" >C3</td>\n",
       "    </tr>\n",
       "  </tbody>\n",
       "</table>\n"
      ],
      "text/plain": [
       "<pandas.io.formats.style.Styler at 0x244b3523e80>"
      ]
     },
     "execution_count": 8,
     "metadata": {},
     "output_type": "execute_result"
    }
   ],
   "source": [
    "sql = \"\"\"\n",
    "SELECT * \n",
    "FROM buy \n",
    "WHERE name = '%s'\n",
    "\"\"\"\n",
    "sql = sql % name\n",
    "print(sql)\n",
    "\n",
    "buy = pd.read_sql(sql, const)\n",
    "buy.drop(['volsell', 'volbal','dividend'], axis=1, inplace=True)\n",
    "buy.rename(columns={'volbuy':'shares'},inplace=True)\n",
    "buy['shares'] = buy['shares'].astype('int64')\n",
    "buy.style.format(format_dict)"
   ]
  },
  {
   "cell_type": "code",
   "execution_count": 9,
   "metadata": {},
   "outputs": [
    {
     "name": "stdout",
     "output_type": "stream",
     "text": [
      "\n",
      "UPDATE buy\n",
      "SET volbuy = volbuy + -1200, price = 34.5\n",
      "WHERE name = 'JMART'\n",
      "\n"
     ]
    }
   ],
   "source": [
    "#qty = -30000\n",
    "new_cost = 34.5\n",
    "sqlUpd = \"\"\"\n",
    "UPDATE buy\n",
    "SET volbuy = volbuy + %s, price = %s\n",
    "WHERE name = '%s'\n",
    "\"\"\"\n",
    "sqlUpd = sqlUpd % (qty, new_cost, name)\n",
    "print(sqlUpd)"
   ]
  },
  {
   "cell_type": "code",
   "execution_count": 10,
   "metadata": {},
   "outputs": [
    {
     "data": {
      "text/plain": [
       "1"
      ]
     },
     "execution_count": 10,
     "metadata": {},
     "output_type": "execute_result"
    }
   ],
   "source": [
    "rp = const.execute(sqlUpd)\n",
    "rp.rowcount"
   ]
  },
  {
   "cell_type": "code",
   "execution_count": 11,
   "metadata": {},
   "outputs": [
    {
     "name": "stdout",
     "output_type": "stream",
     "text": [
      "\n",
      "SELECT * \n",
      "FROM buy \n",
      "WHERE name = 'JMART'\n",
      "\n"
     ]
    },
    {
     "data": {
      "text/html": [
       "<style type=\"text/css\">\n",
       "</style>\n",
       "<table id=\"T_4ed8d_\">\n",
       "  <thead>\n",
       "    <tr>\n",
       "      <th class=\"blank level0\" >&nbsp;</th>\n",
       "      <th class=\"col_heading level0 col0\" >name</th>\n",
       "      <th class=\"col_heading level0 col1\" >date</th>\n",
       "      <th class=\"col_heading level0 col2\" >shares</th>\n",
       "      <th class=\"col_heading level0 col3\" >price</th>\n",
       "      <th class=\"col_heading level0 col4\" >active</th>\n",
       "      <th class=\"col_heading level0 col5\" >period</th>\n",
       "      <th class=\"col_heading level0 col6\" >grade</th>\n",
       "    </tr>\n",
       "  </thead>\n",
       "  <tbody>\n",
       "    <tr>\n",
       "      <th id=\"T_4ed8d_level0_row0\" class=\"row_heading level0 row0\" >0</th>\n",
       "      <td id=\"T_4ed8d_row0_col0\" class=\"data row0 col0\" >JMART</td>\n",
       "      <td id=\"T_4ed8d_row0_col1\" class=\"data row0 col1\" >2023-01-20</td>\n",
       "      <td id=\"T_4ed8d_row0_col2\" class=\"data row0 col2\" >6,000</td>\n",
       "      <td id=\"T_4ed8d_row0_col3\" class=\"data row0 col3\" >34.50</td>\n",
       "      <td id=\"T_4ed8d_row0_col4\" class=\"data row0 col4\" >1</td>\n",
       "      <td id=\"T_4ed8d_row0_col5\" class=\"data row0 col5\" >4</td>\n",
       "      <td id=\"T_4ed8d_row0_col6\" class=\"data row0 col6\" >C3</td>\n",
       "    </tr>\n",
       "  </tbody>\n",
       "</table>\n"
      ],
      "text/plain": [
       "<pandas.io.formats.style.Styler at 0x244b35382b0>"
      ]
     },
     "execution_count": 11,
     "metadata": {},
     "output_type": "execute_result"
    }
   ],
   "source": [
    "sql = \"\"\"\n",
    "SELECT * \n",
    "FROM buy \n",
    "WHERE name = '%s'\n",
    "\"\"\"\n",
    "sql = sql % name\n",
    "print(sql)\n",
    "\n",
    "buy = pd.read_sql(sql, const)\n",
    "buy.drop(['volsell', 'volbal','dividend'], axis=1, inplace=True)\n",
    "buy.rename(columns={'volbuy':'shares'},inplace=True)\n",
    "buy['shares'] = buy['shares'].astype('int64')\n",
    "buy.style.format(format_dict)"
   ]
  },
  {
   "cell_type": "markdown",
   "metadata": {},
   "source": [
    "### If shares become zero, must delete from buy table"
   ]
  },
  {
   "cell_type": "code",
   "execution_count": 48,
   "metadata": {},
   "outputs": [
    {
     "name": "stdout",
     "output_type": "stream",
     "text": [
      "\n",
      "DELETE FROM buy\n",
      "WHERE name = 'ICHI' AND volbuy = 0\n"
     ]
    }
   ],
   "source": [
    "sqlDel = \"\"\"\n",
    "DELETE FROM buy\n",
    "WHERE name = '%s' AND volbuy = 0\"\"\"\n",
    "sqlDel = sqlDel % name\n",
    "print(sqlDel)"
   ]
  },
  {
   "cell_type": "code",
   "execution_count": 49,
   "metadata": {},
   "outputs": [
    {
     "data": {
      "text/plain": [
       "1"
      ]
     },
     "execution_count": 49,
     "metadata": {},
     "output_type": "execute_result"
    }
   ],
   "source": [
    "rp = const.execute(sqlDel)\n",
    "rp.rowcount"
   ]
  },
  {
   "cell_type": "markdown",
   "metadata": {},
   "source": [
    "### End of Update buy table in MySQL stock database from sale transaction"
   ]
  },
  {
   "cell_type": "markdown",
   "metadata": {},
   "source": [
    "### Begin of Update dividend table in MySQL stock database from sale transaction"
   ]
  },
  {
   "cell_type": "code",
   "execution_count": 12,
   "metadata": {},
   "outputs": [
    {
     "name": "stdout",
     "output_type": "stream",
     "text": [
      "\n",
      "SELECT * \n",
      "FROM dividend \n",
      "WHERE name = 'JMART'\n",
      "\n"
     ]
    },
    {
     "data": {
      "text/html": [
       "<style type=\"text/css\">\n",
       "</style>\n",
       "<table id=\"T_901af_\">\n",
       "  <thead>\n",
       "    <tr>\n",
       "      <th class=\"blank level0\" >&nbsp;</th>\n",
       "      <th class=\"col_heading level0 col0\" >name</th>\n",
       "      <th class=\"col_heading level0 col1\" >q4</th>\n",
       "      <th class=\"col_heading level0 col2\" >q3</th>\n",
       "      <th class=\"col_heading level0 col3\" >q2</th>\n",
       "      <th class=\"col_heading level0 col4\" >q1</th>\n",
       "      <th class=\"col_heading level0 col5\" >dividend</th>\n",
       "      <th class=\"col_heading level0 col6\" >shares</th>\n",
       "      <th class=\"col_heading level0 col7\" >xdate</th>\n",
       "      <th class=\"col_heading level0 col8\" >paiddate</th>\n",
       "      <th class=\"col_heading level0 col9\" >kind</th>\n",
       "      <th class=\"col_heading level0 col10\" >actual</th>\n",
       "    </tr>\n",
       "  </thead>\n",
       "  <tbody>\n",
       "    <tr>\n",
       "      <th id=\"T_901af_level0_row0\" class=\"row_heading level0 row0\" >0</th>\n",
       "      <td id=\"T_901af_row0_col0\" class=\"data row0 col0\" >JMART</td>\n",
       "      <td id=\"T_901af_row0_col1\" class=\"data row0 col1\" >0.6600</td>\n",
       "      <td id=\"T_901af_row0_col2\" class=\"data row0 col2\" >0.0000</td>\n",
       "      <td id=\"T_901af_row0_col3\" class=\"data row0 col3\" >0.0000</td>\n",
       "      <td id=\"T_901af_row0_col4\" class=\"data row0 col4\" >0.0000</td>\n",
       "      <td id=\"T_901af_row0_col5\" class=\"data row0 col5\" >0.6600</td>\n",
       "      <td id=\"T_901af_row0_col6\" class=\"data row0 col6\" >7,200</td>\n",
       "      <td id=\"T_901af_row0_col7\" class=\"data row0 col7\" >2023-08-24</td>\n",
       "      <td id=\"T_901af_row0_col8\" class=\"data row0 col8\" >2023-09-08</td>\n",
       "      <td id=\"T_901af_row0_col9\" class=\"data row0 col9\" ></td>\n",
       "      <td id=\"T_901af_row0_col10\" class=\"data row0 col10\" >0</td>\n",
       "    </tr>\n",
       "  </tbody>\n",
       "</table>\n"
      ],
      "text/plain": [
       "<pandas.io.formats.style.Styler at 0x244b723aee0>"
      ]
     },
     "execution_count": 12,
     "metadata": {},
     "output_type": "execute_result"
    }
   ],
   "source": [
    "sql = \"\"\"\n",
    "SELECT * \n",
    "FROM dividend \n",
    "WHERE name = '%s'\n",
    "\"\"\"\n",
    "sql = sql % name\n",
    "print(sql)\n",
    "\n",
    "dividend = pd.read_sql(sql, const)\n",
    "dividend.drop(['PRICE', 'PERCENT'], axis=1, inplace=True)\n",
    "dividend.columns = dividend.columns.str.lower()\n",
    "dividend['shares'] = dividend['shares'].astype('int64')\n",
    "dividend['xdate'] = pd.to_datetime(dividend['xdate'])\n",
    "dividend['paiddate'] = pd.to_datetime(dividend['paiddate'])\n",
    "dividend.style.format(format_dict)"
   ]
  },
  {
   "cell_type": "code",
   "execution_count": 13,
   "metadata": {},
   "outputs": [
    {
     "name": "stdout",
     "output_type": "stream",
     "text": [
      "\n",
      "UPDATE dividend\n",
      "SET shares = shares + -1200\n",
      "WHERE name = 'JMART'\n",
      "\n"
     ]
    }
   ],
   "source": [
    "sqlUpd = \"\"\"\n",
    "UPDATE dividend\n",
    "SET shares = shares + %s\n",
    "WHERE name = '%s'\n",
    "\"\"\"\n",
    "sqlUpd = sqlUpd % (qty, name)\n",
    "print(sqlUpd)"
   ]
  },
  {
   "cell_type": "code",
   "execution_count": 14,
   "metadata": {},
   "outputs": [
    {
     "data": {
      "text/plain": [
       "1"
      ]
     },
     "execution_count": 14,
     "metadata": {},
     "output_type": "execute_result"
    }
   ],
   "source": [
    "rp = const.execute(sqlUpd)\n",
    "rp.rowcount"
   ]
  },
  {
   "cell_type": "code",
   "execution_count": 15,
   "metadata": {},
   "outputs": [
    {
     "name": "stdout",
     "output_type": "stream",
     "text": [
      "\n",
      "SELECT * \n",
      "FROM dividend \n",
      "WHERE name = 'JMART'\n",
      "\n"
     ]
    },
    {
     "data": {
      "text/html": [
       "<style type=\"text/css\">\n",
       "</style>\n",
       "<table id=\"T_cd0fc_\">\n",
       "  <thead>\n",
       "    <tr>\n",
       "      <th class=\"blank level0\" >&nbsp;</th>\n",
       "      <th class=\"col_heading level0 col0\" >name</th>\n",
       "      <th class=\"col_heading level0 col1\" >q4</th>\n",
       "      <th class=\"col_heading level0 col2\" >q3</th>\n",
       "      <th class=\"col_heading level0 col3\" >q2</th>\n",
       "      <th class=\"col_heading level0 col4\" >q1</th>\n",
       "      <th class=\"col_heading level0 col5\" >dividend</th>\n",
       "      <th class=\"col_heading level0 col6\" >shares</th>\n",
       "      <th class=\"col_heading level0 col7\" >xdate</th>\n",
       "      <th class=\"col_heading level0 col8\" >paiddate</th>\n",
       "      <th class=\"col_heading level0 col9\" >kind</th>\n",
       "      <th class=\"col_heading level0 col10\" >actual</th>\n",
       "    </tr>\n",
       "  </thead>\n",
       "  <tbody>\n",
       "    <tr>\n",
       "      <th id=\"T_cd0fc_level0_row0\" class=\"row_heading level0 row0\" >0</th>\n",
       "      <td id=\"T_cd0fc_row0_col0\" class=\"data row0 col0\" >JMART</td>\n",
       "      <td id=\"T_cd0fc_row0_col1\" class=\"data row0 col1\" >0.6600</td>\n",
       "      <td id=\"T_cd0fc_row0_col2\" class=\"data row0 col2\" >0.0000</td>\n",
       "      <td id=\"T_cd0fc_row0_col3\" class=\"data row0 col3\" >0.0000</td>\n",
       "      <td id=\"T_cd0fc_row0_col4\" class=\"data row0 col4\" >0.0000</td>\n",
       "      <td id=\"T_cd0fc_row0_col5\" class=\"data row0 col5\" >0.6600</td>\n",
       "      <td id=\"T_cd0fc_row0_col6\" class=\"data row0 col6\" >6,000</td>\n",
       "      <td id=\"T_cd0fc_row0_col7\" class=\"data row0 col7\" >2023-08-24</td>\n",
       "      <td id=\"T_cd0fc_row0_col8\" class=\"data row0 col8\" >2023-09-08</td>\n",
       "      <td id=\"T_cd0fc_row0_col9\" class=\"data row0 col9\" ></td>\n",
       "      <td id=\"T_cd0fc_row0_col10\" class=\"data row0 col10\" >0</td>\n",
       "    </tr>\n",
       "  </tbody>\n",
       "</table>\n"
      ],
      "text/plain": [
       "<pandas.io.formats.style.Styler at 0x244b34faca0>"
      ]
     },
     "execution_count": 15,
     "metadata": {},
     "output_type": "execute_result"
    }
   ],
   "source": [
    "sql = \"\"\"\n",
    "SELECT * \n",
    "FROM dividend \n",
    "WHERE name = '%s'\n",
    "\"\"\"\n",
    "sql = sql % name\n",
    "print(sql)\n",
    "\n",
    "dividend = pd.read_sql(sql, const)\n",
    "dividend.drop(['PRICE', 'PERCENT'], axis=1, inplace=True)\n",
    "dividend.columns = dividend.columns.str.lower()\n",
    "dividend['shares'] = dividend['shares'].astype('int64')\n",
    "dividend['xdate'] = pd.to_datetime(dividend['xdate'])\n",
    "dividend['paiddate'] = pd.to_datetime(dividend['paiddate'])\n",
    "dividend.style.format(format_dict)"
   ]
  },
  {
   "cell_type": "markdown",
   "metadata": {},
   "source": [
    "### If shares become zero and want to delete from DIVIDEND table"
   ]
  },
  {
   "cell_type": "code",
   "execution_count": 50,
   "metadata": {},
   "outputs": [
    {
     "name": "stdout",
     "output_type": "stream",
     "text": [
      "\n",
      "DELETE FROM dividend\n",
      "WHERE name = 'ICHI'\n",
      "\n"
     ]
    }
   ],
   "source": [
    "sqlDel = \"\"\"\n",
    "DELETE FROM dividend\n",
    "WHERE name = '%s'\n",
    "\"\"\"\n",
    "sqlDel = sqlDel % (name)\n",
    "print(sqlDel)"
   ]
  },
  {
   "cell_type": "code",
   "execution_count": 51,
   "metadata": {},
   "outputs": [
    {
     "data": {
      "text/plain": [
       "1"
      ]
     },
     "execution_count": 51,
     "metadata": {},
     "output_type": "execute_result"
    }
   ],
   "source": [
    "rp = const.execute(sqlDel)\n",
    "rp.rowcount"
   ]
  },
  {
   "cell_type": "markdown",
   "metadata": {},
   "source": [
    "### End of Update dividend table in MySQL stock database from sale transaction"
   ]
  },
  {
   "cell_type": "markdown",
   "metadata": {},
   "source": [
    "### Begin of Update stocks table in SQLite port_lite database from sale transaction"
   ]
  },
  {
   "cell_type": "code",
   "execution_count": 16,
   "metadata": {},
   "outputs": [
    {
     "name": "stdout",
     "output_type": "stream",
     "text": [
      "\n",
      "SELECT * \n",
      "FROM stocks \n",
      "WHERE name = 'JMART'\n",
      "\n"
     ]
    },
    {
     "data": {
      "text/html": [
       "<style type=\"text/css\">\n",
       "</style>\n",
       "<table id=\"T_35490_\">\n",
       "  <thead>\n",
       "    <tr>\n",
       "      <th class=\"blank level0\" >&nbsp;</th>\n",
       "      <th class=\"col_heading level0 col0\" >id</th>\n",
       "      <th class=\"col_heading level0 col1\" >name</th>\n",
       "      <th class=\"col_heading level0 col2\" >max_price</th>\n",
       "      <th class=\"col_heading level0 col3\" >min_price</th>\n",
       "      <th class=\"col_heading level0 col4\" >status</th>\n",
       "      <th class=\"col_heading level0 col5\" >buy_target</th>\n",
       "      <th class=\"col_heading level0 col6\" >sell_target</th>\n",
       "      <th class=\"col_heading level0 col7\" >volume</th>\n",
       "      <th class=\"col_heading level0 col8\" >beta</th>\n",
       "      <th class=\"col_heading level0 col9\" >cost</th>\n",
       "      <th class=\"col_heading level0 col10\" >qty</th>\n",
       "      <th class=\"col_heading level0 col11\" >buy_spread</th>\n",
       "      <th class=\"col_heading level0 col12\" >sell_spread</th>\n",
       "      <th class=\"col_heading level0 col13\" >available_qty</th>\n",
       "      <th class=\"col_heading level0 col14\" >bl</th>\n",
       "      <th class=\"col_heading level0 col15\" >sh</th>\n",
       "      <th class=\"col_heading level0 col16\" >reason</th>\n",
       "      <th class=\"col_heading level0 col17\" >market</th>\n",
       "    </tr>\n",
       "  </thead>\n",
       "  <tbody>\n",
       "    <tr>\n",
       "      <th id=\"T_35490_level0_row0\" class=\"row_heading level0 row0\" >0</th>\n",
       "      <td id=\"T_35490_row0_col0\" class=\"data row0 col0\" >111</td>\n",
       "      <td id=\"T_35490_row0_col1\" class=\"data row0 col1\" >JMART</td>\n",
       "      <td id=\"T_35490_row0_col2\" class=\"data row0 col2\" >0.00</td>\n",
       "      <td id=\"T_35490_row0_col3\" class=\"data row0 col3\" >0.00</td>\n",
       "      <td id=\"T_35490_row0_col4\" class=\"data row0 col4\" >I</td>\n",
       "      <td id=\"T_35490_row0_col5\" class=\"data row0 col5\" >0.00</td>\n",
       "      <td id=\"T_35490_row0_col6\" class=\"data row0 col6\" >20.60</td>\n",
       "      <td id=\"T_35490_row0_col7\" class=\"data row0 col7\" >0.00</td>\n",
       "      <td id=\"T_35490_row0_col8\" class=\"data row0 col8\" >0.00</td>\n",
       "      <td id=\"T_35490_row0_col9\" class=\"data row0 col9\" >32.00</td>\n",
       "      <td id=\"T_35490_row0_col10\" class=\"data row0 col10\" >1,200</td>\n",
       "      <td id=\"T_35490_row0_col11\" class=\"data row0 col11\" >-4</td>\n",
       "      <td id=\"T_35490_row0_col12\" class=\"data row0 col12\" >4</td>\n",
       "      <td id=\"T_35490_row0_col13\" class=\"data row0 col13\" >7,200</td>\n",
       "      <td id=\"T_35490_row0_col14\" class=\"data row0 col14\" >0.000000</td>\n",
       "      <td id=\"T_35490_row0_col15\" class=\"data row0 col15\" >0.000000</td>\n",
       "      <td id=\"T_35490_row0_col16\" class=\"data row0 col16\" >5pct</td>\n",
       "      <td id=\"T_35490_row0_col17\" class=\"data row0 col17\" >SET50</td>\n",
       "    </tr>\n",
       "  </tbody>\n",
       "</table>\n"
      ],
      "text/plain": [
       "<pandas.io.formats.style.Styler at 0x244b3523fa0>"
      ]
     },
     "execution_count": 16,
     "metadata": {},
     "output_type": "execute_result"
    }
   ],
   "source": [
    "sql = \"\"\"\n",
    "SELECT * \n",
    "FROM stocks \n",
    "WHERE name = '%s'\n",
    "\"\"\"\n",
    "sql = sql % name\n",
    "print(sql)\n",
    "\n",
    "stocks = pd.read_sql(sql, conlite)\n",
    "stocks.style.format(format_dict)"
   ]
  },
  {
   "cell_type": "code",
   "execution_count": 17,
   "metadata": {},
   "outputs": [
    {
     "name": "stdout",
     "output_type": "stream",
     "text": [
      "\n",
      "UPDATE stocks\n",
      "SET available_qty = available_qty + -1200,\n",
      "qty = 3000, buy_target = 18.9, sell_target = 23.5, cost = 34.5, reason = 'RD45pct', status = 'B'\n",
      "WHERE name = 'JMART'\n",
      "\n"
     ]
    }
   ],
   "source": [
    "buy_target  = 18.9 # must calculate manually beforehand\n",
    "sell_target = 23.5\n",
    "cost = 34.5\n",
    "status = 'B'\n",
    "reason = \"RD45pct\"\n",
    "sell_qty = 3000\n",
    "\n",
    "sqlUpd = \"\"\"\n",
    "UPDATE stocks\n",
    "SET available_qty = available_qty + %s,\n",
    "qty = %s, buy_target = %s, sell_target = %s, cost = %s, reason = '%s', status = '%s'\n",
    "WHERE name = '%s'\n",
    "\"\"\"\n",
    "sqlUpd = sqlUpd % (qty, sell_qty, buy_target, sell_target, cost, reason, status, name)\n",
    "print(sqlUpd)"
   ]
  },
  {
   "cell_type": "code",
   "execution_count": 18,
   "metadata": {},
   "outputs": [
    {
     "data": {
      "text/plain": [
       "1"
      ]
     },
     "execution_count": 18,
     "metadata": {},
     "output_type": "execute_result"
    }
   ],
   "source": [
    "rp = conlite.execute(sqlUpd)\n",
    "rp.rowcount"
   ]
  },
  {
   "cell_type": "code",
   "execution_count": 19,
   "metadata": {},
   "outputs": [
    {
     "name": "stdout",
     "output_type": "stream",
     "text": [
      "\n",
      "SELECT * \n",
      "FROM stocks \n",
      "WHERE name = 'JMART'\n",
      "\n"
     ]
    },
    {
     "data": {
      "text/html": [
       "<style type=\"text/css\">\n",
       "</style>\n",
       "<table id=\"T_111db_\">\n",
       "  <thead>\n",
       "    <tr>\n",
       "      <th class=\"blank level0\" >&nbsp;</th>\n",
       "      <th class=\"col_heading level0 col0\" >id</th>\n",
       "      <th class=\"col_heading level0 col1\" >name</th>\n",
       "      <th class=\"col_heading level0 col2\" >max_price</th>\n",
       "      <th class=\"col_heading level0 col3\" >min_price</th>\n",
       "      <th class=\"col_heading level0 col4\" >status</th>\n",
       "      <th class=\"col_heading level0 col5\" >buy_target</th>\n",
       "      <th class=\"col_heading level0 col6\" >sell_target</th>\n",
       "      <th class=\"col_heading level0 col7\" >volume</th>\n",
       "      <th class=\"col_heading level0 col8\" >beta</th>\n",
       "      <th class=\"col_heading level0 col9\" >cost</th>\n",
       "      <th class=\"col_heading level0 col10\" >qty</th>\n",
       "      <th class=\"col_heading level0 col11\" >buy_spread</th>\n",
       "      <th class=\"col_heading level0 col12\" >sell_spread</th>\n",
       "      <th class=\"col_heading level0 col13\" >available_qty</th>\n",
       "      <th class=\"col_heading level0 col14\" >bl</th>\n",
       "      <th class=\"col_heading level0 col15\" >sh</th>\n",
       "      <th class=\"col_heading level0 col16\" >reason</th>\n",
       "      <th class=\"col_heading level0 col17\" >market</th>\n",
       "    </tr>\n",
       "  </thead>\n",
       "  <tbody>\n",
       "    <tr>\n",
       "      <th id=\"T_111db_level0_row0\" class=\"row_heading level0 row0\" >0</th>\n",
       "      <td id=\"T_111db_row0_col0\" class=\"data row0 col0\" >111</td>\n",
       "      <td id=\"T_111db_row0_col1\" class=\"data row0 col1\" >JMART</td>\n",
       "      <td id=\"T_111db_row0_col2\" class=\"data row0 col2\" >0.00</td>\n",
       "      <td id=\"T_111db_row0_col3\" class=\"data row0 col3\" >0.00</td>\n",
       "      <td id=\"T_111db_row0_col4\" class=\"data row0 col4\" >B</td>\n",
       "      <td id=\"T_111db_row0_col5\" class=\"data row0 col5\" >18.90</td>\n",
       "      <td id=\"T_111db_row0_col6\" class=\"data row0 col6\" >23.50</td>\n",
       "      <td id=\"T_111db_row0_col7\" class=\"data row0 col7\" >0.00</td>\n",
       "      <td id=\"T_111db_row0_col8\" class=\"data row0 col8\" >0.00</td>\n",
       "      <td id=\"T_111db_row0_col9\" class=\"data row0 col9\" >34.50</td>\n",
       "      <td id=\"T_111db_row0_col10\" class=\"data row0 col10\" >3,000</td>\n",
       "      <td id=\"T_111db_row0_col11\" class=\"data row0 col11\" >-4</td>\n",
       "      <td id=\"T_111db_row0_col12\" class=\"data row0 col12\" >4</td>\n",
       "      <td id=\"T_111db_row0_col13\" class=\"data row0 col13\" >6,000</td>\n",
       "      <td id=\"T_111db_row0_col14\" class=\"data row0 col14\" >0.000000</td>\n",
       "      <td id=\"T_111db_row0_col15\" class=\"data row0 col15\" >0.000000</td>\n",
       "      <td id=\"T_111db_row0_col16\" class=\"data row0 col16\" >RD45pct</td>\n",
       "      <td id=\"T_111db_row0_col17\" class=\"data row0 col17\" >SET50</td>\n",
       "    </tr>\n",
       "  </tbody>\n",
       "</table>\n"
      ],
      "text/plain": [
       "<pandas.io.formats.style.Styler at 0x244b72941f0>"
      ]
     },
     "execution_count": 19,
     "metadata": {},
     "output_type": "execute_result"
    }
   ],
   "source": [
    "sql = \"\"\"\n",
    "SELECT * \n",
    "FROM stocks \n",
    "WHERE name = '%s'\n",
    "\"\"\"\n",
    "sql = sql % name\n",
    "print(sql)\n",
    "\n",
    "stocks = pd.read_sql(sql, conlite)\n",
    "stocks.style.format(format_dict)"
   ]
  },
  {
   "cell_type": "markdown",
   "metadata": {},
   "source": [
    "### End of Update stocks table in SQLite port_lite database from sale transaction"
   ]
  },
  {
   "cell_type": "markdown",
   "metadata": {},
   "source": [
    "### If shares become zero and no longer wants to keep STOCK record"
   ]
  },
  {
   "cell_type": "code",
   "execution_count": 24,
   "metadata": {},
   "outputs": [
    {
     "name": "stdout",
     "output_type": "stream",
     "text": [
      "\n",
      "DELETE FROM stocks\n",
      "WHERE name = 'BANPU' AND available_qty <= 0\n",
      "\n"
     ]
    }
   ],
   "source": [
    "sqlDel = \"\"\"\n",
    "DELETE FROM stocks\n",
    "WHERE name = '%s' AND available_qty <= 0\n",
    "\"\"\"\n",
    "sqlDel = sqlDel % name\n",
    "print(sqlDel)"
   ]
  },
  {
   "cell_type": "code",
   "execution_count": 25,
   "metadata": {},
   "outputs": [
    {
     "data": {
      "text/plain": [
       "1"
      ]
     },
     "execution_count": 25,
     "metadata": {},
     "output_type": "execute_result"
    }
   ],
   "source": [
    "rp = conlite.execute(sqlDel)\n",
    "rp.rowcount"
   ]
  },
  {
   "cell_type": "markdown",
   "metadata": {},
   "source": [
    "## End of Sale process"
   ]
  },
  {
   "cell_type": "markdown",
   "metadata": {},
   "source": [
    "## Begin of  Buy process"
   ]
  },
  {
   "cell_type": "markdown",
   "metadata": {},
   "source": [
    "### Begin of Update buy table in MySQL database from buy transaction"
   ]
  },
  {
   "cell_type": "code",
   "execution_count": 7,
   "metadata": {},
   "outputs": [
    {
     "name": "stdout",
     "output_type": "stream",
     "text": [
      "\n",
      "SELECT * \n",
      "FROM buy \n",
      "WHERE name = 'GVREIT'\n",
      "\n"
     ]
    },
    {
     "data": {
      "text/html": [
       "<div>\n",
       "<style scoped>\n",
       "    .dataframe tbody tr th:only-of-type {\n",
       "        vertical-align: middle;\n",
       "    }\n",
       "\n",
       "    .dataframe tbody tr th {\n",
       "        vertical-align: top;\n",
       "    }\n",
       "\n",
       "    .dataframe thead th {\n",
       "        text-align: right;\n",
       "    }\n",
       "</style>\n",
       "<table border=\"1\" class=\"dataframe\">\n",
       "  <thead>\n",
       "    <tr style=\"text-align: right;\">\n",
       "      <th></th>\n",
       "      <th>name</th>\n",
       "      <th>date</th>\n",
       "      <th>shares</th>\n",
       "      <th>price</th>\n",
       "      <th>active</th>\n",
       "      <th>dividend</th>\n",
       "      <th>period</th>\n",
       "      <th>grade</th>\n",
       "    </tr>\n",
       "  </thead>\n",
       "  <tbody>\n",
       "    <tr>\n",
       "      <th>0</th>\n",
       "      <td>GVREIT</td>\n",
       "      <td>2022-08-24</td>\n",
       "      <td>36000</td>\n",
       "      <td>8.7</td>\n",
       "      <td>1</td>\n",
       "      <td>0.792</td>\n",
       "      <td>2</td>\n",
       "      <td>B3</td>\n",
       "    </tr>\n",
       "  </tbody>\n",
       "</table>\n",
       "</div>"
      ],
      "text/plain": [
       "     name       date  shares  price  active  dividend period grade\n",
       "0  GVREIT 2022-08-24   36000    8.7       1     0.792      2    B3"
      ]
     },
     "execution_count": 7,
     "metadata": {},
     "output_type": "execute_result"
    }
   ],
   "source": [
    "sql = \"\"\"\n",
    "SELECT * \n",
    "FROM buy \n",
    "WHERE name = '%s'\n",
    "\"\"\"\n",
    "sql = sql % name\n",
    "print(sql)\n",
    "\n",
    "buy = pd.read_sql(sql, const)\n",
    "buy['date'] = pd.to_datetime(buy['date'])\n",
    "buy.drop(['volsell', 'volbal'], axis=1, inplace = True)\n",
    "buy.rename(columns={'volbuy':'shares'}, inplace = True)\n",
    "buy['shares'] = buy['shares'].astype('int64')\n",
    "buy"
   ]
  },
  {
   "cell_type": "markdown",
   "metadata": {},
   "source": [
    "### In case there is the same stock name in port"
   ]
  },
  {
   "cell_type": "code",
   "execution_count": 8,
   "metadata": {},
   "outputs": [
    {
     "name": "stdout",
     "output_type": "stream",
     "text": [
      "\n",
      "UPDATE buy\n",
      "SET volbuy = volbuy + 6000, price = 8.5\n",
      "WHERE name = 'GVREIT'\n",
      "\n"
     ]
    }
   ],
   "source": [
    "#qty = 1200\n",
    "new_cost = 8.50 # new average cost must be calculated manually beforehand\n",
    "sqlUpd = \"\"\"\n",
    "UPDATE buy\n",
    "SET volbuy = volbuy + %s, price = %s\n",
    "WHERE name = '%s'\n",
    "\"\"\"\n",
    "sqlUpd = sqlUpd % (qty, new_cost, name)\n",
    "print(sqlUpd)"
   ]
  },
  {
   "cell_type": "code",
   "execution_count": 9,
   "metadata": {},
   "outputs": [
    {
     "data": {
      "text/plain": [
       "1"
      ]
     },
     "execution_count": 9,
     "metadata": {},
     "output_type": "execute_result"
    }
   ],
   "source": [
    "rp = const.execute(sqlUpd)\n",
    "rp.rowcount"
   ]
  },
  {
   "cell_type": "code",
   "execution_count": 10,
   "metadata": {},
   "outputs": [
    {
     "name": "stdout",
     "output_type": "stream",
     "text": [
      "\n",
      "SELECT * \n",
      "FROM buy \n",
      "WHERE name = 'GVREIT'\n",
      "\n"
     ]
    },
    {
     "data": {
      "text/html": [
       "<style type=\"text/css\">\n",
       "</style>\n",
       "<table id=\"T_3e571_\">\n",
       "  <thead>\n",
       "    <tr>\n",
       "      <th class=\"blank level0\" >&nbsp;</th>\n",
       "      <th class=\"col_heading level0 col0\" >name</th>\n",
       "      <th class=\"col_heading level0 col1\" >date</th>\n",
       "      <th class=\"col_heading level0 col2\" >shares</th>\n",
       "      <th class=\"col_heading level0 col3\" >price</th>\n",
       "      <th class=\"col_heading level0 col4\" >active</th>\n",
       "      <th class=\"col_heading level0 col5\" >dividend</th>\n",
       "      <th class=\"col_heading level0 col6\" >period</th>\n",
       "      <th class=\"col_heading level0 col7\" >grade</th>\n",
       "    </tr>\n",
       "  </thead>\n",
       "  <tbody>\n",
       "    <tr>\n",
       "      <th id=\"T_3e571_level0_row0\" class=\"row_heading level0 row0\" >0</th>\n",
       "      <td id=\"T_3e571_row0_col0\" class=\"data row0 col0\" >GVREIT</td>\n",
       "      <td id=\"T_3e571_row0_col1\" class=\"data row0 col1\" >2022-08-24</td>\n",
       "      <td id=\"T_3e571_row0_col2\" class=\"data row0 col2\" >42,000</td>\n",
       "      <td id=\"T_3e571_row0_col3\" class=\"data row0 col3\" >8.50</td>\n",
       "      <td id=\"T_3e571_row0_col4\" class=\"data row0 col4\" >1</td>\n",
       "      <td id=\"T_3e571_row0_col5\" class=\"data row0 col5\" >0.7920</td>\n",
       "      <td id=\"T_3e571_row0_col6\" class=\"data row0 col6\" >2</td>\n",
       "      <td id=\"T_3e571_row0_col7\" class=\"data row0 col7\" >B3</td>\n",
       "    </tr>\n",
       "  </tbody>\n",
       "</table>\n"
      ],
      "text/plain": [
       "<pandas.io.formats.style.Styler at 0x2856af3aca0>"
      ]
     },
     "execution_count": 10,
     "metadata": {},
     "output_type": "execute_result"
    }
   ],
   "source": [
    "sql = \"\"\"\n",
    "SELECT * \n",
    "FROM buy \n",
    "WHERE name = '%s'\n",
    "\"\"\"\n",
    "sql = sql % name\n",
    "print(sql)\n",
    "\n",
    "buy = pd.read_sql(sql, const)\n",
    "buy.drop(['volsell', 'volbal'], axis=1, inplace=True)\n",
    "buy.rename(columns={'volbuy':'shares'},inplace=True)\n",
    "buy['shares'] = buy['shares'].astype('int64')\n",
    "buy.style.format(format_dict)"
   ]
  },
  {
   "cell_type": "markdown",
   "metadata": {},
   "source": [
    "### In case of totally new stock"
   ]
  },
  {
   "cell_type": "code",
   "execution_count": 8,
   "metadata": {},
   "outputs": [
    {
     "data": {
      "text/plain": [
       "['AIMIRT', '2023-08-17', 10000, 11, 0, 0, 1, 0, 2, 'A3']"
      ]
     },
     "execution_count": 8,
     "metadata": {},
     "output_type": "execute_result"
    }
   ],
   "source": [
    "rcd = ['AIMIRT', '2023-08-17', 10000, 11, 0, 0, 1, 0, 2,'A3']\n",
    "rcd"
   ]
  },
  {
   "cell_type": "code",
   "execution_count": 9,
   "metadata": {},
   "outputs": [
    {
     "name": "stdout",
     "output_type": "stream",
     "text": [
      "\n",
      "INSERT INTO buy (name, date, volbuy, price, volsell, volbal, active, dividend, period, grade)\n",
      "VALUES (%s, %s, %s, %s, %s, %s, %s, %s, %s, %s)\n",
      "\n"
     ]
    }
   ],
   "source": [
    "sqlIns = \"\"\"\n",
    "INSERT INTO buy (name, date, volbuy, price, volsell, volbal, active, dividend, period, grade)\n",
    "VALUES (%s, %s, %s, %s, %s, %s, %s, %s, %s, %s)\n",
    "\"\"\"\n",
    "print(sqlIns)"
   ]
  },
  {
   "cell_type": "code",
   "execution_count": 10,
   "metadata": {},
   "outputs": [
    {
     "data": {
      "text/plain": [
       "1"
      ]
     },
     "execution_count": 10,
     "metadata": {},
     "output_type": "execute_result"
    }
   ],
   "source": [
    "rp = const.execute(sqlIns, rcd)\n",
    "rp.rowcount"
   ]
  },
  {
   "cell_type": "code",
   "execution_count": 11,
   "metadata": {},
   "outputs": [
    {
     "name": "stdout",
     "output_type": "stream",
     "text": [
      "\n",
      "SELECT * \n",
      "FROM buy \n",
      "WHERE name = 'AIMIRT'\n",
      "\n"
     ]
    },
    {
     "data": {
      "text/html": [
       "<style type=\"text/css\">\n",
       "</style>\n",
       "<table id=\"T_82438_\">\n",
       "  <thead>\n",
       "    <tr>\n",
       "      <th class=\"blank level0\" >&nbsp;</th>\n",
       "      <th class=\"col_heading level0 col0\" >name</th>\n",
       "      <th class=\"col_heading level0 col1\" >date</th>\n",
       "      <th class=\"col_heading level0 col2\" >shares</th>\n",
       "      <th class=\"col_heading level0 col3\" >price</th>\n",
       "      <th class=\"col_heading level0 col4\" >active</th>\n",
       "      <th class=\"col_heading level0 col5\" >dividend</th>\n",
       "      <th class=\"col_heading level0 col6\" >period</th>\n",
       "      <th class=\"col_heading level0 col7\" >grade</th>\n",
       "    </tr>\n",
       "  </thead>\n",
       "  <tbody>\n",
       "    <tr>\n",
       "      <th id=\"T_82438_level0_row0\" class=\"row_heading level0 row0\" >0</th>\n",
       "      <td id=\"T_82438_row0_col0\" class=\"data row0 col0\" >AIMIRT</td>\n",
       "      <td id=\"T_82438_row0_col1\" class=\"data row0 col1\" >2023-08-17</td>\n",
       "      <td id=\"T_82438_row0_col2\" class=\"data row0 col2\" >10,000</td>\n",
       "      <td id=\"T_82438_row0_col3\" class=\"data row0 col3\" >11.00</td>\n",
       "      <td id=\"T_82438_row0_col4\" class=\"data row0 col4\" >1</td>\n",
       "      <td id=\"T_82438_row0_col5\" class=\"data row0 col5\" >0.0000</td>\n",
       "      <td id=\"T_82438_row0_col6\" class=\"data row0 col6\" >2</td>\n",
       "      <td id=\"T_82438_row0_col7\" class=\"data row0 col7\" >A3</td>\n",
       "    </tr>\n",
       "  </tbody>\n",
       "</table>\n"
      ],
      "text/plain": [
       "<pandas.io.formats.style.Styler at 0x1bed36c8070>"
      ]
     },
     "execution_count": 11,
     "metadata": {},
     "output_type": "execute_result"
    }
   ],
   "source": [
    "sql = \"\"\"\n",
    "SELECT * \n",
    "FROM buy \n",
    "WHERE name = '%s'\n",
    "\"\"\"\n",
    "sql = sql % name\n",
    "print(sql)\n",
    "\n",
    "buy = pd.read_sql(sql, const)\n",
    "buy.drop(['volsell', 'volbal'], axis=1, inplace=True)\n",
    "buy.rename(columns={'volbuy':'shares'},inplace=True)\n",
    "buy['shares'] = buy['shares'].astype('int64')\n",
    "buy.style.format(format_dict)"
   ]
  },
  {
   "cell_type": "markdown",
   "metadata": {},
   "source": [
    "### End of Update buy table in MySQL database from buy transaction"
   ]
  },
  {
   "cell_type": "markdown",
   "metadata": {},
   "source": [
    "### Begin of Update dividend table in MySQL stock database from buy transaction"
   ]
  },
  {
   "cell_type": "code",
   "execution_count": 11,
   "metadata": {},
   "outputs": [
    {
     "name": "stdout",
     "output_type": "stream",
     "text": [
      "\n",
      "SELECT * \n",
      "FROM dividend \n",
      "WHERE name = 'GVREIT' \n",
      "\n"
     ]
    },
    {
     "data": {
      "text/html": [
       "<style type=\"text/css\">\n",
       "</style>\n",
       "<table id=\"T_1d0ac_\">\n",
       "  <thead>\n",
       "    <tr>\n",
       "      <th class=\"blank level0\" >&nbsp;</th>\n",
       "      <th class=\"col_heading level0 col0\" >name</th>\n",
       "      <th class=\"col_heading level0 col1\" >q4</th>\n",
       "      <th class=\"col_heading level0 col2\" >q3</th>\n",
       "      <th class=\"col_heading level0 col3\" >q2</th>\n",
       "      <th class=\"col_heading level0 col4\" >q1</th>\n",
       "      <th class=\"col_heading level0 col5\" >dividend</th>\n",
       "      <th class=\"col_heading level0 col6\" >shares</th>\n",
       "      <th class=\"col_heading level0 col7\" >xdate</th>\n",
       "      <th class=\"col_heading level0 col8\" >paiddate</th>\n",
       "      <th class=\"col_heading level0 col9\" >kind</th>\n",
       "      <th class=\"col_heading level0 col10\" >actual</th>\n",
       "    </tr>\n",
       "  </thead>\n",
       "  <tbody>\n",
       "    <tr>\n",
       "      <th id=\"T_1d0ac_level0_row0\" class=\"row_heading level0 row0\" >0</th>\n",
       "      <td id=\"T_1d0ac_row0_col0\" class=\"data row0 col0\" >GVREIT</td>\n",
       "      <td id=\"T_1d0ac_row0_col1\" class=\"data row0 col1\" >0.1980</td>\n",
       "      <td id=\"T_1d0ac_row0_col2\" class=\"data row0 col2\" >0.2015</td>\n",
       "      <td id=\"T_1d0ac_row0_col3\" class=\"data row0 col3\" >0.2010</td>\n",
       "      <td id=\"T_1d0ac_row0_col4\" class=\"data row0 col4\" >0.1915</td>\n",
       "      <td id=\"T_1d0ac_row0_col5\" class=\"data row0 col5\" >0.7920</td>\n",
       "      <td id=\"T_1d0ac_row0_col6\" class=\"data row0 col6\" >36,000</td>\n",
       "      <td id=\"T_1d0ac_row0_col7\" class=\"data row0 col7\" >2023-08-28</td>\n",
       "      <td id=\"T_1d0ac_row0_col8\" class=\"data row0 col8\" >2023-09-14</td>\n",
       "      <td id=\"T_1d0ac_row0_col9\" class=\"data row0 col9\" ></td>\n",
       "      <td id=\"T_1d0ac_row0_col10\" class=\"data row0 col10\" >1</td>\n",
       "    </tr>\n",
       "  </tbody>\n",
       "</table>\n"
      ],
      "text/plain": [
       "<pandas.io.formats.style.Styler at 0x2856ec7cf70>"
      ]
     },
     "execution_count": 11,
     "metadata": {},
     "output_type": "execute_result"
    }
   ],
   "source": [
    "sql = \"\"\"\n",
    "SELECT * \n",
    "FROM dividend \n",
    "WHERE name = '%s' \n",
    "\"\"\"\n",
    "sql = sql % name\n",
    "print(sql)\n",
    "\n",
    "dividend = pd.read_sql(sql, const)\n",
    "dividend.drop(['PRICE', 'PERCENT'], axis=1, inplace=True)\n",
    "dividend.columns = dividend.columns.str.lower()\n",
    "dividend['shares'] = dividend['shares'].astype('int64')\n",
    "dividend['xdate'] = pd.to_datetime(dividend['xdate'])\n",
    "dividend['paiddate'] = pd.to_datetime(dividend['paiddate'])\n",
    "dividend.style.format(format_dict)"
   ]
  },
  {
   "cell_type": "code",
   "execution_count": 12,
   "metadata": {},
   "outputs": [
    {
     "name": "stdout",
     "output_type": "stream",
     "text": [
      "\n",
      "UPDATE dividend\n",
      "SET shares = shares + 6000\n",
      "WHERE name = 'GVREIT'\n",
      "\n"
     ]
    }
   ],
   "source": [
    "sqlUpd = \"\"\"\n",
    "UPDATE dividend\n",
    "SET shares = shares + %s\n",
    "WHERE name = '%s'\n",
    "\"\"\"\n",
    "sqlUpd = sqlUpd % (qty, name)\n",
    "print(sqlUpd)"
   ]
  },
  {
   "cell_type": "code",
   "execution_count": 13,
   "metadata": {},
   "outputs": [
    {
     "data": {
      "text/plain": [
       "1"
      ]
     },
     "execution_count": 13,
     "metadata": {},
     "output_type": "execute_result"
    }
   ],
   "source": [
    "rp = const.execute(sqlUpd)\n",
    "rp.rowcount"
   ]
  },
  {
   "cell_type": "code",
   "execution_count": 14,
   "metadata": {},
   "outputs": [
    {
     "name": "stdout",
     "output_type": "stream",
     "text": [
      "\n",
      "SELECT * \n",
      "FROM dividend \n",
      "WHERE name = 'GVREIT' \n",
      "\n"
     ]
    },
    {
     "data": {
      "text/html": [
       "<style type=\"text/css\">\n",
       "</style>\n",
       "<table id=\"T_ed2bd_\">\n",
       "  <thead>\n",
       "    <tr>\n",
       "      <th class=\"blank level0\" >&nbsp;</th>\n",
       "      <th class=\"col_heading level0 col0\" >name</th>\n",
       "      <th class=\"col_heading level0 col1\" >q4</th>\n",
       "      <th class=\"col_heading level0 col2\" >q3</th>\n",
       "      <th class=\"col_heading level0 col3\" >q2</th>\n",
       "      <th class=\"col_heading level0 col4\" >q1</th>\n",
       "      <th class=\"col_heading level0 col5\" >dividend</th>\n",
       "      <th class=\"col_heading level0 col6\" >shares</th>\n",
       "      <th class=\"col_heading level0 col7\" >xdate</th>\n",
       "      <th class=\"col_heading level0 col8\" >paiddate</th>\n",
       "      <th class=\"col_heading level0 col9\" >kind</th>\n",
       "      <th class=\"col_heading level0 col10\" >actual</th>\n",
       "    </tr>\n",
       "  </thead>\n",
       "  <tbody>\n",
       "    <tr>\n",
       "      <th id=\"T_ed2bd_level0_row0\" class=\"row_heading level0 row0\" >0</th>\n",
       "      <td id=\"T_ed2bd_row0_col0\" class=\"data row0 col0\" >GVREIT</td>\n",
       "      <td id=\"T_ed2bd_row0_col1\" class=\"data row0 col1\" >0.1980</td>\n",
       "      <td id=\"T_ed2bd_row0_col2\" class=\"data row0 col2\" >0.2015</td>\n",
       "      <td id=\"T_ed2bd_row0_col3\" class=\"data row0 col3\" >0.2010</td>\n",
       "      <td id=\"T_ed2bd_row0_col4\" class=\"data row0 col4\" >0.1915</td>\n",
       "      <td id=\"T_ed2bd_row0_col5\" class=\"data row0 col5\" >0.7920</td>\n",
       "      <td id=\"T_ed2bd_row0_col6\" class=\"data row0 col6\" >42,000</td>\n",
       "      <td id=\"T_ed2bd_row0_col7\" class=\"data row0 col7\" >2023-08-28</td>\n",
       "      <td id=\"T_ed2bd_row0_col8\" class=\"data row0 col8\" >2023-09-14</td>\n",
       "      <td id=\"T_ed2bd_row0_col9\" class=\"data row0 col9\" ></td>\n",
       "      <td id=\"T_ed2bd_row0_col10\" class=\"data row0 col10\" >1</td>\n",
       "    </tr>\n",
       "  </tbody>\n",
       "</table>\n"
      ],
      "text/plain": [
       "<pandas.io.formats.style.Styler at 0x2856ece0e20>"
      ]
     },
     "execution_count": 14,
     "metadata": {},
     "output_type": "execute_result"
    }
   ],
   "source": [
    "sql = \"\"\"\n",
    "SELECT * \n",
    "FROM dividend \n",
    "WHERE name = '%s' \n",
    "\"\"\"\n",
    "sql = sql % name\n",
    "print(sql)\n",
    "\n",
    "dividend = pd.read_sql(sql, const)\n",
    "dividend.drop(['PRICE', 'PERCENT'], axis=1, inplace=True)\n",
    "dividend.columns = dividend.columns.str.lower()\n",
    "dividend['shares'] = dividend['shares'].astype('int64')\n",
    "dividend['xdate'] = pd.to_datetime(dividend['xdate'])\n",
    "dividend['paiddate'] = pd.to_datetime(dividend['paiddate'])\n",
    "dividend.style.format(format_dict)"
   ]
  },
  {
   "cell_type": "markdown",
   "metadata": {},
   "source": [
    "### In case of totally new stock"
   ]
  },
  {
   "cell_type": "code",
   "execution_count": null,
   "metadata": {},
   "outputs": [],
   "source": [
    "rcd = ['ASK', 1.44, 0, 0, 0, 1.44, 4500, '2023-02-28', '2023-04-27', '', 1]\n",
    "rcd"
   ]
  },
  {
   "cell_type": "code",
   "execution_count": null,
   "metadata": {},
   "outputs": [],
   "source": [
    "sqlIns = \"\"\"\n",
    "INSERT INTO dividend (name, q4, q3, q2, q1, dividend, shares, xdate, paiddate, kind, actual)\n",
    "VALUES (%s, %s, %s, %s, %s, %s, %s, %s, %s, %s, %s)\n",
    "\"\"\"\n",
    "print(sqlIns)"
   ]
  },
  {
   "cell_type": "code",
   "execution_count": null,
   "metadata": {},
   "outputs": [],
   "source": [
    "rp = const.execute(sqlIns, rcd)\n",
    "rp.rowcount"
   ]
  },
  {
   "cell_type": "markdown",
   "metadata": {},
   "source": [
    "### End of Create dividend table in MySQL stock database from buy transaction"
   ]
  },
  {
   "cell_type": "markdown",
   "metadata": {},
   "source": [
    "### Begin of Update stocks table in SQLite port_lite database from buy transaction"
   ]
  },
  {
   "cell_type": "code",
   "execution_count": 15,
   "metadata": {
    "scrolled": true
   },
   "outputs": [
    {
     "name": "stdout",
     "output_type": "stream",
     "text": [
      "\n",
      "SELECT * \n",
      "FROM stocks \n",
      "WHERE name = 'GVREIT'\n",
      "\n"
     ]
    },
    {
     "data": {
      "text/html": [
       "<div>\n",
       "<style scoped>\n",
       "    .dataframe tbody tr th:only-of-type {\n",
       "        vertical-align: middle;\n",
       "    }\n",
       "\n",
       "    .dataframe tbody tr th {\n",
       "        vertical-align: top;\n",
       "    }\n",
       "\n",
       "    .dataframe thead th {\n",
       "        text-align: right;\n",
       "    }\n",
       "</style>\n",
       "<table border=\"1\" class=\"dataframe\">\n",
       "  <thead>\n",
       "    <tr style=\"text-align: right;\">\n",
       "      <th></th>\n",
       "      <th>id</th>\n",
       "      <th>name</th>\n",
       "      <th>max_price</th>\n",
       "      <th>min_price</th>\n",
       "      <th>status</th>\n",
       "      <th>buy_target</th>\n",
       "      <th>sell_target</th>\n",
       "      <th>volume</th>\n",
       "      <th>beta</th>\n",
       "      <th>cost</th>\n",
       "      <th>qty</th>\n",
       "      <th>buy_spread</th>\n",
       "      <th>sell_spread</th>\n",
       "      <th>available_qty</th>\n",
       "      <th>bl</th>\n",
       "      <th>sh</th>\n",
       "      <th>reason</th>\n",
       "      <th>market</th>\n",
       "    </tr>\n",
       "  </thead>\n",
       "  <tbody>\n",
       "    <tr>\n",
       "      <th>0</th>\n",
       "      <td>108</td>\n",
       "      <td>GVREIT</td>\n",
       "      <td>0.0</td>\n",
       "      <td>0.0</td>\n",
       "      <td>I</td>\n",
       "      <td>7.0</td>\n",
       "      <td>0.0</td>\n",
       "      <td>0.0</td>\n",
       "      <td>0.0</td>\n",
       "      <td>8.7</td>\n",
       "      <td>6000</td>\n",
       "      <td>-4</td>\n",
       "      <td>4</td>\n",
       "      <td>36000</td>\n",
       "      <td>0.0</td>\n",
       "      <td>0.0</td>\n",
       "      <td>RD20pct</td>\n",
       "      <td>SET</td>\n",
       "    </tr>\n",
       "  </tbody>\n",
       "</table>\n",
       "</div>"
      ],
      "text/plain": [
       "    id    name  max_price  min_price status  buy_target  sell_target  volume  \\\n",
       "0  108  GVREIT        0.0        0.0      I         7.0          0.0     0.0   \n",
       "\n",
       "   beta  cost   qty  buy_spread  sell_spread  available_qty   bl   sh  \\\n",
       "0   0.0   8.7  6000          -4            4          36000  0.0  0.0   \n",
       "\n",
       "    reason market  \n",
       "0  RD20pct    SET  "
      ]
     },
     "execution_count": 15,
     "metadata": {},
     "output_type": "execute_result"
    }
   ],
   "source": [
    "sql = \"\"\"\n",
    "SELECT * \n",
    "FROM stocks \n",
    "WHERE name = '%s'\n",
    "\"\"\"\n",
    "sql = sql % name\n",
    "print(sql)\n",
    "\n",
    "stocks = pd.read_sql(sql, conlite)\n",
    "stocks"
   ]
  },
  {
   "cell_type": "code",
   "execution_count": 16,
   "metadata": {},
   "outputs": [
    {
     "data": {
      "text/plain": [
       "(8.5, 6.9, 7.4, 'I', 'DOS', 6000, 6000)"
      ]
     },
     "execution_count": 16,
     "metadata": {},
     "output_type": "execute_result"
    }
   ],
   "source": [
    "new_cost = 8.5\n",
    "buy_target = 6.9\n",
    "sell_target = 7.4\n",
    "status = 'I'\n",
    "reason = 'DOS'\n",
    "new_buy_qty = 6000\n",
    "new_sell_qty = 6000\n",
    "new_cost, buy_target, sell_target, status, reason, new_buy_qty, new_sell_qty "
   ]
  },
  {
   "cell_type": "code",
   "execution_count": 17,
   "metadata": {},
   "outputs": [
    {
     "name": "stdout",
     "output_type": "stream",
     "text": [
      "\n",
      "UPDATE stocks\n",
      "SET available_qty = available_qty + 6000, \n",
      "cost = 8.5, buy_target = 6.9, sell_target = 7.4, status = 'I', \n",
      "reason = 'DOS', qty = 6000\n",
      "WHERE name = 'GVREIT'\n",
      "\n"
     ]
    }
   ],
   "source": [
    "#qty = 12000\n",
    "sqlUpd = \"\"\"\n",
    "UPDATE stocks\n",
    "SET available_qty = available_qty + %s, \n",
    "cost = %s, buy_target = %s, sell_target = %s, status = '%s', \n",
    "reason = '%s', qty = %s\n",
    "WHERE name = '%s'\n",
    "\"\"\"\n",
    "sqlUpd = sqlUpd % (qty, new_cost, buy_target, sell_target, status, reason, new_sell_qty, name)\n",
    "print(sqlUpd)"
   ]
  },
  {
   "cell_type": "code",
   "execution_count": 18,
   "metadata": {},
   "outputs": [
    {
     "data": {
      "text/plain": [
       "1"
      ]
     },
     "execution_count": 18,
     "metadata": {},
     "output_type": "execute_result"
    }
   ],
   "source": [
    "rp = conlite.execute(sqlUpd)\n",
    "rp.rowcount"
   ]
  },
  {
   "cell_type": "code",
   "execution_count": 19,
   "metadata": {},
   "outputs": [
    {
     "name": "stdout",
     "output_type": "stream",
     "text": [
      "\n",
      "SELECT * \n",
      "FROM stocks \n",
      "WHERE name = 'GVREIT'\n",
      "\n"
     ]
    },
    {
     "data": {
      "text/html": [
       "<style type=\"text/css\">\n",
       "</style>\n",
       "<table id=\"T_96293_\">\n",
       "  <thead>\n",
       "    <tr>\n",
       "      <th class=\"blank level0\" >&nbsp;</th>\n",
       "      <th class=\"col_heading level0 col0\" >id</th>\n",
       "      <th class=\"col_heading level0 col1\" >name</th>\n",
       "      <th class=\"col_heading level0 col2\" >max_price</th>\n",
       "      <th class=\"col_heading level0 col3\" >min_price</th>\n",
       "      <th class=\"col_heading level0 col4\" >status</th>\n",
       "      <th class=\"col_heading level0 col5\" >buy_target</th>\n",
       "      <th class=\"col_heading level0 col6\" >sell_target</th>\n",
       "      <th class=\"col_heading level0 col7\" >volume</th>\n",
       "      <th class=\"col_heading level0 col8\" >beta</th>\n",
       "      <th class=\"col_heading level0 col9\" >cost</th>\n",
       "      <th class=\"col_heading level0 col10\" >qty</th>\n",
       "      <th class=\"col_heading level0 col11\" >buy_spread</th>\n",
       "      <th class=\"col_heading level0 col12\" >sell_spread</th>\n",
       "      <th class=\"col_heading level0 col13\" >available_qty</th>\n",
       "      <th class=\"col_heading level0 col14\" >bl</th>\n",
       "      <th class=\"col_heading level0 col15\" >sh</th>\n",
       "      <th class=\"col_heading level0 col16\" >reason</th>\n",
       "      <th class=\"col_heading level0 col17\" >market</th>\n",
       "    </tr>\n",
       "  </thead>\n",
       "  <tbody>\n",
       "    <tr>\n",
       "      <th id=\"T_96293_level0_row0\" class=\"row_heading level0 row0\" >0</th>\n",
       "      <td id=\"T_96293_row0_col0\" class=\"data row0 col0\" >108</td>\n",
       "      <td id=\"T_96293_row0_col1\" class=\"data row0 col1\" >GVREIT</td>\n",
       "      <td id=\"T_96293_row0_col2\" class=\"data row0 col2\" >0.00</td>\n",
       "      <td id=\"T_96293_row0_col3\" class=\"data row0 col3\" >0.00</td>\n",
       "      <td id=\"T_96293_row0_col4\" class=\"data row0 col4\" >I</td>\n",
       "      <td id=\"T_96293_row0_col5\" class=\"data row0 col5\" >6.90</td>\n",
       "      <td id=\"T_96293_row0_col6\" class=\"data row0 col6\" >7.40</td>\n",
       "      <td id=\"T_96293_row0_col7\" class=\"data row0 col7\" >0.00</td>\n",
       "      <td id=\"T_96293_row0_col8\" class=\"data row0 col8\" >0.00</td>\n",
       "      <td id=\"T_96293_row0_col9\" class=\"data row0 col9\" >8.50</td>\n",
       "      <td id=\"T_96293_row0_col10\" class=\"data row0 col10\" >6,000</td>\n",
       "      <td id=\"T_96293_row0_col11\" class=\"data row0 col11\" >-4</td>\n",
       "      <td id=\"T_96293_row0_col12\" class=\"data row0 col12\" >4</td>\n",
       "      <td id=\"T_96293_row0_col13\" class=\"data row0 col13\" >42,000</td>\n",
       "      <td id=\"T_96293_row0_col14\" class=\"data row0 col14\" >0.000000</td>\n",
       "      <td id=\"T_96293_row0_col15\" class=\"data row0 col15\" >0.000000</td>\n",
       "      <td id=\"T_96293_row0_col16\" class=\"data row0 col16\" >DOS</td>\n",
       "      <td id=\"T_96293_row0_col17\" class=\"data row0 col17\" >SET</td>\n",
       "    </tr>\n",
       "  </tbody>\n",
       "</table>\n"
      ],
      "text/plain": [
       "<pandas.io.formats.style.Styler at 0x2856ec566d0>"
      ]
     },
     "execution_count": 19,
     "metadata": {},
     "output_type": "execute_result"
    }
   ],
   "source": [
    "sql = \"\"\"\n",
    "SELECT * \n",
    "FROM stocks \n",
    "WHERE name = '%s'\n",
    "\"\"\"\n",
    "sql = sql % name\n",
    "print(sql)\n",
    "\n",
    "stocks = pd.read_sql(sql, conlite)\n",
    "stocks.style.format(format_dict)"
   ]
  },
  {
   "cell_type": "markdown",
   "metadata": {},
   "source": [
    "### End of Update stocks table in SQLite port_lite database from buy transaction"
   ]
  },
  {
   "cell_type": "markdown",
   "metadata": {},
   "source": [
    "## End of  Buy process"
   ]
  },
  {
   "cell_type": "code",
   "execution_count": 20,
   "metadata": {},
   "outputs": [
    {
     "name": "stdout",
     "output_type": "stream",
     "text": [
      "SELECT period, buy.grade AS grade, buy.name AS name, buy.date AS date, FORMAT(volbuy,0) AS volbuy, FORMAT(buy.price,2) AS buy_price, price.price AS mkt_price,FORMAT((volbuy * buy.price),2) AS amtbuy, FORMAT((volbuy * price.price),2) AS amtmkt, FORMAT(((price.price - buy.price) * volbuy),2) AS amtpol, FORMAT((((price.price - buy.price)*volbuy)/(volbuy*buy.price)*100),2) AS pctpol FROM buy INNER JOIN price ON buy.name = price.name WHERE price.date = '2023-08-24' ORDER BY period, buy.name\n"
     ]
    }
   ],
   "source": [
    "sql = \"SELECT period, buy.grade AS grade, buy.name AS name, buy.date AS date, \\\n",
    "FORMAT(volbuy,0) AS volbuy, FORMAT(buy.price,2) AS buy_price, price.price AS mkt_price,\\\n",
    "FORMAT((volbuy * buy.price),2) AS amtbuy, FORMAT((volbuy * price.price),2) AS amtmkt, \\\n",
    "FORMAT(((price.price - buy.price) * volbuy),2) AS amtpol, \\\n",
    "FORMAT((((price.price - buy.price)*volbuy)/(volbuy*buy.price)*100),2) AS pctpol \\\n",
    "FROM buy INNER JOIN price ON buy.name = price.name WHERE price.date = '%s' \\\n",
    "ORDER BY period, buy.name\"\n",
    "sql = sql % (yesterday)\n",
    "print(sql)"
   ]
  },
  {
   "cell_type": "code",
   "execution_count": 21,
   "metadata": {},
   "outputs": [
    {
     "data": {
      "text/html": [
       "<div>\n",
       "<style scoped>\n",
       "    .dataframe tbody tr th:only-of-type {\n",
       "        vertical-align: middle;\n",
       "    }\n",
       "\n",
       "    .dataframe tbody tr th {\n",
       "        vertical-align: top;\n",
       "    }\n",
       "\n",
       "    .dataframe thead th {\n",
       "        text-align: right;\n",
       "    }\n",
       "</style>\n",
       "<table border=\"1\" class=\"dataframe\">\n",
       "  <thead>\n",
       "    <tr style=\"text-align: right;\">\n",
       "      <th></th>\n",
       "      <th>period</th>\n",
       "      <th>grade</th>\n",
       "      <th>name</th>\n",
       "      <th>date</th>\n",
       "      <th>volbuy</th>\n",
       "      <th>buy_price</th>\n",
       "      <th>mkt_price</th>\n",
       "      <th>amtbuy</th>\n",
       "      <th>amtmkt</th>\n",
       "      <th>amtpol</th>\n",
       "      <th>pctpol</th>\n",
       "    </tr>\n",
       "  </thead>\n",
       "  <tbody>\n",
       "    <tr>\n",
       "      <th>0</th>\n",
       "      <td>1</td>\n",
       "      <td>C1</td>\n",
       "      <td>MCS</td>\n",
       "      <td>2016-09-20</td>\n",
       "      <td>78,000</td>\n",
       "      <td>15.10</td>\n",
       "      <td>6.05</td>\n",
       "      <td>1,177,800.00</td>\n",
       "      <td>471,900.00</td>\n",
       "      <td>-705,900.00</td>\n",
       "      <td>-59.93</td>\n",
       "    </tr>\n",
       "    <tr>\n",
       "      <th>1</th>\n",
       "      <td>1</td>\n",
       "      <td>C1</td>\n",
       "      <td>PTTGC</td>\n",
       "      <td>2021-03-17</td>\n",
       "      <td>6,000</td>\n",
       "      <td>64.75</td>\n",
       "      <td>36.50</td>\n",
       "      <td>388,500.00</td>\n",
       "      <td>219,000.00</td>\n",
       "      <td>-169,500.00</td>\n",
       "      <td>-43.63</td>\n",
       "    </tr>\n",
       "    <tr>\n",
       "      <th>2</th>\n",
       "      <td>1</td>\n",
       "      <td>C3</td>\n",
       "      <td>SINGER</td>\n",
       "      <td>2023-01-19</td>\n",
       "      <td>6,000</td>\n",
       "      <td>24.80</td>\n",
       "      <td>10.30</td>\n",
       "      <td>148,800.00</td>\n",
       "      <td>61,800.00</td>\n",
       "      <td>-87,000.00</td>\n",
       "      <td>-58.47</td>\n",
       "    </tr>\n",
       "    <tr>\n",
       "      <th>3</th>\n",
       "      <td>1</td>\n",
       "      <td>C3</td>\n",
       "      <td>STA</td>\n",
       "      <td>2021-06-15</td>\n",
       "      <td>5,000</td>\n",
       "      <td>40.00</td>\n",
       "      <td>13.90</td>\n",
       "      <td>200,000.00</td>\n",
       "      <td>69,500.00</td>\n",
       "      <td>-130,500.00</td>\n",
       "      <td>-65.25</td>\n",
       "    </tr>\n",
       "    <tr>\n",
       "      <th>4</th>\n",
       "      <td>2</td>\n",
       "      <td>A3</td>\n",
       "      <td>AIMIRT</td>\n",
       "      <td>2023-08-17</td>\n",
       "      <td>10,000</td>\n",
       "      <td>11.00</td>\n",
       "      <td>10.90</td>\n",
       "      <td>110,000.00</td>\n",
       "      <td>109,000.00</td>\n",
       "      <td>-1,000.00</td>\n",
       "      <td>-0.91</td>\n",
       "    </tr>\n",
       "    <tr>\n",
       "      <th>5</th>\n",
       "      <td>2</td>\n",
       "      <td>B4</td>\n",
       "      <td>ASP</td>\n",
       "      <td>2022-03-07</td>\n",
       "      <td>30,000</td>\n",
       "      <td>3.80</td>\n",
       "      <td>2.96</td>\n",
       "      <td>114,000.00</td>\n",
       "      <td>88,800.00</td>\n",
       "      <td>-25,200.00</td>\n",
       "      <td>-22.11</td>\n",
       "    </tr>\n",
       "    <tr>\n",
       "      <th>6</th>\n",
       "      <td>2</td>\n",
       "      <td>A2</td>\n",
       "      <td>CPNREIT</td>\n",
       "      <td>2022-08-16</td>\n",
       "      <td>60,000</td>\n",
       "      <td>17.55</td>\n",
       "      <td>10.80</td>\n",
       "      <td>1,053,000.00</td>\n",
       "      <td>648,000.00</td>\n",
       "      <td>-405,000.00</td>\n",
       "      <td>-38.46</td>\n",
       "    </tr>\n",
       "    <tr>\n",
       "      <th>7</th>\n",
       "      <td>2</td>\n",
       "      <td>C3</td>\n",
       "      <td>DIF</td>\n",
       "      <td>2020-08-01</td>\n",
       "      <td>30,000</td>\n",
       "      <td>14.70</td>\n",
       "      <td>9.15</td>\n",
       "      <td>441,000.00</td>\n",
       "      <td>274,500.00</td>\n",
       "      <td>-166,500.00</td>\n",
       "      <td>-37.76</td>\n",
       "    </tr>\n",
       "    <tr>\n",
       "      <th>8</th>\n",
       "      <td>2</td>\n",
       "      <td>B3</td>\n",
       "      <td>GVREIT</td>\n",
       "      <td>2022-08-24</td>\n",
       "      <td>42,000</td>\n",
       "      <td>8.50</td>\n",
       "      <td>7.35</td>\n",
       "      <td>357,000.00</td>\n",
       "      <td>308,700.00</td>\n",
       "      <td>-48,300.00</td>\n",
       "      <td>-13.53</td>\n",
       "    </tr>\n",
       "    <tr>\n",
       "      <th>9</th>\n",
       "      <td>2</td>\n",
       "      <td>C3</td>\n",
       "      <td>JASIF</td>\n",
       "      <td>2018-05-17</td>\n",
       "      <td>130,000</td>\n",
       "      <td>10.00</td>\n",
       "      <td>6.85</td>\n",
       "      <td>1,300,000.00</td>\n",
       "      <td>890,500.00</td>\n",
       "      <td>-409,500.00</td>\n",
       "      <td>-31.50</td>\n",
       "    </tr>\n",
       "    <tr>\n",
       "      <th>10</th>\n",
       "      <td>2</td>\n",
       "      <td>C3</td>\n",
       "      <td>RCL</td>\n",
       "      <td>2021-11-08</td>\n",
       "      <td>27,000</td>\n",
       "      <td>38.75</td>\n",
       "      <td>21.40</td>\n",
       "      <td>1,046,250.00</td>\n",
       "      <td>577,800.00</td>\n",
       "      <td>-468,450.00</td>\n",
       "      <td>-44.77</td>\n",
       "    </tr>\n",
       "    <tr>\n",
       "      <th>11</th>\n",
       "      <td>2</td>\n",
       "      <td>C3</td>\n",
       "      <td>SYNEX</td>\n",
       "      <td>2022-01-07</td>\n",
       "      <td>15,000</td>\n",
       "      <td>28.70</td>\n",
       "      <td>12.80</td>\n",
       "      <td>430,500.00</td>\n",
       "      <td>192,000.00</td>\n",
       "      <td>-238,500.00</td>\n",
       "      <td>-55.40</td>\n",
       "    </tr>\n",
       "    <tr>\n",
       "      <th>12</th>\n",
       "      <td>2</td>\n",
       "      <td>A4</td>\n",
       "      <td>TFFIF</td>\n",
       "      <td>2023-07-06</td>\n",
       "      <td>20,000</td>\n",
       "      <td>7.50</td>\n",
       "      <td>7.50</td>\n",
       "      <td>150,000.00</td>\n",
       "      <td>150,000.00</td>\n",
       "      <td>0.00</td>\n",
       "      <td>0.00</td>\n",
       "    </tr>\n",
       "    <tr>\n",
       "      <th>13</th>\n",
       "      <td>2</td>\n",
       "      <td>C4</td>\n",
       "      <td>WHAIR</td>\n",
       "      <td>2021-10-11</td>\n",
       "      <td>50,000</td>\n",
       "      <td>8.70</td>\n",
       "      <td>6.90</td>\n",
       "      <td>435,000.00</td>\n",
       "      <td>345,000.00</td>\n",
       "      <td>-90,000.00</td>\n",
       "      <td>-20.69</td>\n",
       "    </tr>\n",
       "    <tr>\n",
       "      <th>14</th>\n",
       "      <td>2</td>\n",
       "      <td>A4</td>\n",
       "      <td>WHART</td>\n",
       "      <td>2022-01-05</td>\n",
       "      <td>30,000</td>\n",
       "      <td>11.70</td>\n",
       "      <td>10.40</td>\n",
       "      <td>351,000.00</td>\n",
       "      <td>312,000.00</td>\n",
       "      <td>-39,000.00</td>\n",
       "      <td>-11.11</td>\n",
       "    </tr>\n",
       "    <tr>\n",
       "      <th>15</th>\n",
       "      <td>3</td>\n",
       "      <td>A3</td>\n",
       "      <td>AH</td>\n",
       "      <td>2023-06-08</td>\n",
       "      <td>1,200</td>\n",
       "      <td>37.00</td>\n",
       "      <td>34.25</td>\n",
       "      <td>44,400.00</td>\n",
       "      <td>41,100.00</td>\n",
       "      <td>-3,300.00</td>\n",
       "      <td>-7.43</td>\n",
       "    </tr>\n",
       "    <tr>\n",
       "      <th>16</th>\n",
       "      <td>3</td>\n",
       "      <td>A4</td>\n",
       "      <td>ASK</td>\n",
       "      <td>2023-02-16</td>\n",
       "      <td>4,500</td>\n",
       "      <td>31.00</td>\n",
       "      <td>25.75</td>\n",
       "      <td>139,500.00</td>\n",
       "      <td>115,875.00</td>\n",
       "      <td>-23,625.00</td>\n",
       "      <td>-16.94</td>\n",
       "    </tr>\n",
       "    <tr>\n",
       "      <th>17</th>\n",
       "      <td>3</td>\n",
       "      <td>A1</td>\n",
       "      <td>AWC</td>\n",
       "      <td>2023-06-15</td>\n",
       "      <td>9,000</td>\n",
       "      <td>4.96</td>\n",
       "      <td>4.12</td>\n",
       "      <td>44,640.00</td>\n",
       "      <td>37,080.00</td>\n",
       "      <td>-7,560.00</td>\n",
       "      <td>-16.94</td>\n",
       "    </tr>\n",
       "    <tr>\n",
       "      <th>18</th>\n",
       "      <td>3</td>\n",
       "      <td>A4</td>\n",
       "      <td>JMT</td>\n",
       "      <td>2023-01-26</td>\n",
       "      <td>4,200</td>\n",
       "      <td>55.50</td>\n",
       "      <td>45.50</td>\n",
       "      <td>233,100.00</td>\n",
       "      <td>191,100.00</td>\n",
       "      <td>-42,000.00</td>\n",
       "      <td>-18.02</td>\n",
       "    </tr>\n",
       "    <tr>\n",
       "      <th>19</th>\n",
       "      <td>3</td>\n",
       "      <td>B3</td>\n",
       "      <td>NER</td>\n",
       "      <td>2021-09-01</td>\n",
       "      <td>27,000</td>\n",
       "      <td>7.45</td>\n",
       "      <td>4.62</td>\n",
       "      <td>201,150.00</td>\n",
       "      <td>124,740.00</td>\n",
       "      <td>-76,410.00</td>\n",
       "      <td>-37.99</td>\n",
       "    </tr>\n",
       "    <tr>\n",
       "      <th>20</th>\n",
       "      <td>3</td>\n",
       "      <td>B4</td>\n",
       "      <td>ORI</td>\n",
       "      <td>2022-04-07</td>\n",
       "      <td>45,000</td>\n",
       "      <td>11.00</td>\n",
       "      <td>10.60</td>\n",
       "      <td>495,000.00</td>\n",
       "      <td>477,000.00</td>\n",
       "      <td>-18,000.00</td>\n",
       "      <td>-3.64</td>\n",
       "    </tr>\n",
       "    <tr>\n",
       "      <th>21</th>\n",
       "      <td>4</td>\n",
       "      <td>C2</td>\n",
       "      <td>BCH</td>\n",
       "      <td>2021-09-07</td>\n",
       "      <td>15,000</td>\n",
       "      <td>21.46</td>\n",
       "      <td>19.20</td>\n",
       "      <td>321,900.00</td>\n",
       "      <td>288,000.00</td>\n",
       "      <td>-33,900.00</td>\n",
       "      <td>-10.53</td>\n",
       "    </tr>\n",
       "    <tr>\n",
       "      <th>22</th>\n",
       "      <td>4</td>\n",
       "      <td>C3</td>\n",
       "      <td>IVL</td>\n",
       "      <td>2022-08-29</td>\n",
       "      <td>7,200</td>\n",
       "      <td>40.00</td>\n",
       "      <td>28.75</td>\n",
       "      <td>288,000.00</td>\n",
       "      <td>207,000.00</td>\n",
       "      <td>-81,000.00</td>\n",
       "      <td>-28.13</td>\n",
       "    </tr>\n",
       "    <tr>\n",
       "      <th>23</th>\n",
       "      <td>4</td>\n",
       "      <td>C3</td>\n",
       "      <td>JMART</td>\n",
       "      <td>2023-01-20</td>\n",
       "      <td>6,000</td>\n",
       "      <td>34.50</td>\n",
       "      <td>21.20</td>\n",
       "      <td>207,000.00</td>\n",
       "      <td>127,200.00</td>\n",
       "      <td>-79,800.00</td>\n",
       "      <td>-38.55</td>\n",
       "    </tr>\n",
       "    <tr>\n",
       "      <th>24</th>\n",
       "      <td>4</td>\n",
       "      <td>B3</td>\n",
       "      <td>KCE</td>\n",
       "      <td>2021-10-07</td>\n",
       "      <td>10,000</td>\n",
       "      <td>77.25</td>\n",
       "      <td>50.75</td>\n",
       "      <td>772,500.00</td>\n",
       "      <td>507,500.00</td>\n",
       "      <td>-265,000.00</td>\n",
       "      <td>-34.30</td>\n",
       "    </tr>\n",
       "    <tr>\n",
       "      <th>25</th>\n",
       "      <td>4</td>\n",
       "      <td>C1</td>\n",
       "      <td>PTG</td>\n",
       "      <td>2023-07-12</td>\n",
       "      <td>3,600</td>\n",
       "      <td>11.40</td>\n",
       "      <td>10.50</td>\n",
       "      <td>41,040.00</td>\n",
       "      <td>37,800.00</td>\n",
       "      <td>-3,240.00</td>\n",
       "      <td>-7.89</td>\n",
       "    </tr>\n",
       "    <tr>\n",
       "      <th>26</th>\n",
       "      <td>4</td>\n",
       "      <td>C1</td>\n",
       "      <td>SCC</td>\n",
       "      <td>2021-09-20</td>\n",
       "      <td>600</td>\n",
       "      <td>405.00</td>\n",
       "      <td>316.00</td>\n",
       "      <td>243,000.00</td>\n",
       "      <td>189,600.00</td>\n",
       "      <td>-53,400.00</td>\n",
       "      <td>-21.98</td>\n",
       "    </tr>\n",
       "    <tr>\n",
       "      <th>27</th>\n",
       "      <td>4</td>\n",
       "      <td>C4</td>\n",
       "      <td>SENA</td>\n",
       "      <td>2022-03-29</td>\n",
       "      <td>105,000</td>\n",
       "      <td>4.48</td>\n",
       "      <td>2.84</td>\n",
       "      <td>470,400.00</td>\n",
       "      <td>298,200.00</td>\n",
       "      <td>-172,200.00</td>\n",
       "      <td>-36.61</td>\n",
       "    </tr>\n",
       "    <tr>\n",
       "      <th>28</th>\n",
       "      <td>4</td>\n",
       "      <td>C1</td>\n",
       "      <td>TMT</td>\n",
       "      <td>2021-08-16</td>\n",
       "      <td>36,000</td>\n",
       "      <td>10.20</td>\n",
       "      <td>6.95</td>\n",
       "      <td>367,200.00</td>\n",
       "      <td>250,200.00</td>\n",
       "      <td>-117,000.00</td>\n",
       "      <td>-31.86</td>\n",
       "    </tr>\n",
       "  </tbody>\n",
       "</table>\n",
       "</div>"
      ],
      "text/plain": [
       "   period grade     name        date   volbuy buy_price  mkt_price  \\\n",
       "0       1    C1      MCS  2016-09-20   78,000     15.10       6.05   \n",
       "1       1    C1    PTTGC  2021-03-17    6,000     64.75      36.50   \n",
       "2       1    C3   SINGER  2023-01-19    6,000     24.80      10.30   \n",
       "3       1    C3      STA  2021-06-15    5,000     40.00      13.90   \n",
       "4       2    A3   AIMIRT  2023-08-17   10,000     11.00      10.90   \n",
       "5       2    B4      ASP  2022-03-07   30,000      3.80       2.96   \n",
       "6       2    A2  CPNREIT  2022-08-16   60,000     17.55      10.80   \n",
       "7       2    C3      DIF  2020-08-01   30,000     14.70       9.15   \n",
       "8       2    B3   GVREIT  2022-08-24   42,000      8.50       7.35   \n",
       "9       2    C3    JASIF  2018-05-17  130,000     10.00       6.85   \n",
       "10      2    C3      RCL  2021-11-08   27,000     38.75      21.40   \n",
       "11      2    C3    SYNEX  2022-01-07   15,000     28.70      12.80   \n",
       "12      2    A4    TFFIF  2023-07-06   20,000      7.50       7.50   \n",
       "13      2    C4    WHAIR  2021-10-11   50,000      8.70       6.90   \n",
       "14      2    A4    WHART  2022-01-05   30,000     11.70      10.40   \n",
       "15      3    A3       AH  2023-06-08    1,200     37.00      34.25   \n",
       "16      3    A4      ASK  2023-02-16    4,500     31.00      25.75   \n",
       "17      3    A1      AWC  2023-06-15    9,000      4.96       4.12   \n",
       "18      3    A4      JMT  2023-01-26    4,200     55.50      45.50   \n",
       "19      3    B3      NER  2021-09-01   27,000      7.45       4.62   \n",
       "20      3    B4      ORI  2022-04-07   45,000     11.00      10.60   \n",
       "21      4    C2      BCH  2021-09-07   15,000     21.46      19.20   \n",
       "22      4    C3      IVL  2022-08-29    7,200     40.00      28.75   \n",
       "23      4    C3    JMART  2023-01-20    6,000     34.50      21.20   \n",
       "24      4    B3      KCE  2021-10-07   10,000     77.25      50.75   \n",
       "25      4    C1      PTG  2023-07-12    3,600     11.40      10.50   \n",
       "26      4    C1      SCC  2021-09-20      600    405.00     316.00   \n",
       "27      4    C4     SENA  2022-03-29  105,000      4.48       2.84   \n",
       "28      4    C1      TMT  2021-08-16   36,000     10.20       6.95   \n",
       "\n",
       "          amtbuy      amtmkt       amtpol  pctpol  \n",
       "0   1,177,800.00  471,900.00  -705,900.00  -59.93  \n",
       "1     388,500.00  219,000.00  -169,500.00  -43.63  \n",
       "2     148,800.00   61,800.00   -87,000.00  -58.47  \n",
       "3     200,000.00   69,500.00  -130,500.00  -65.25  \n",
       "4     110,000.00  109,000.00    -1,000.00   -0.91  \n",
       "5     114,000.00   88,800.00   -25,200.00  -22.11  \n",
       "6   1,053,000.00  648,000.00  -405,000.00  -38.46  \n",
       "7     441,000.00  274,500.00  -166,500.00  -37.76  \n",
       "8     357,000.00  308,700.00   -48,300.00  -13.53  \n",
       "9   1,300,000.00  890,500.00  -409,500.00  -31.50  \n",
       "10  1,046,250.00  577,800.00  -468,450.00  -44.77  \n",
       "11    430,500.00  192,000.00  -238,500.00  -55.40  \n",
       "12    150,000.00  150,000.00         0.00    0.00  \n",
       "13    435,000.00  345,000.00   -90,000.00  -20.69  \n",
       "14    351,000.00  312,000.00   -39,000.00  -11.11  \n",
       "15     44,400.00   41,100.00    -3,300.00   -7.43  \n",
       "16    139,500.00  115,875.00   -23,625.00  -16.94  \n",
       "17     44,640.00   37,080.00    -7,560.00  -16.94  \n",
       "18    233,100.00  191,100.00   -42,000.00  -18.02  \n",
       "19    201,150.00  124,740.00   -76,410.00  -37.99  \n",
       "20    495,000.00  477,000.00   -18,000.00   -3.64  \n",
       "21    321,900.00  288,000.00   -33,900.00  -10.53  \n",
       "22    288,000.00  207,000.00   -81,000.00  -28.13  \n",
       "23    207,000.00  127,200.00   -79,800.00  -38.55  \n",
       "24    772,500.00  507,500.00  -265,000.00  -34.30  \n",
       "25     41,040.00   37,800.00    -3,240.00   -7.89  \n",
       "26    243,000.00  189,600.00   -53,400.00  -21.98  \n",
       "27    470,400.00  298,200.00  -172,200.00  -36.61  \n",
       "28    367,200.00  250,200.00  -117,000.00  -31.86  "
      ]
     },
     "execution_count": 21,
     "metadata": {},
     "output_type": "execute_result"
    }
   ],
   "source": [
    "output = pd.read_sql(sql, const)\n",
    "output"
   ]
  },
  {
   "cell_type": "code",
   "execution_count": 22,
   "metadata": {},
   "outputs": [],
   "source": [
    "file_name = 'portfolio.csv'\n",
    "data_file = data_path + file_name\n",
    "output_file = csv_path + file_name\n",
    "one_file = one_path + file_name\n",
    "osd_file = osd_path + file_name\n",
    "\n",
    "output.to_csv(output_file, header=True, index=False)\n",
    "output.to_csv(data_file, header=True, index=False)\n",
    "output.to_csv(one_file, header=True, index=False)\n",
    "output.to_csv(osd_file, header=True, index=False)"
   ]
  },
  {
   "cell_type": "code",
   "execution_count": null,
   "metadata": {},
   "outputs": [],
   "source": []
  }
 ],
 "metadata": {
  "anaconda-cloud": {},
  "kernelspec": {
   "display_name": "Python 3 (ipykernel)",
   "language": "python",
   "name": "python3"
  },
  "language_info": {
   "codemirror_mode": {
    "name": "ipython",
    "version": 3
   },
   "file_extension": ".py",
   "mimetype": "text/x-python",
   "name": "python",
   "nbconvert_exporter": "python",
   "pygments_lexer": "ipython3",
   "version": "3.8.11"
  }
 },
 "nbformat": 4,
 "nbformat_minor": 1
}
