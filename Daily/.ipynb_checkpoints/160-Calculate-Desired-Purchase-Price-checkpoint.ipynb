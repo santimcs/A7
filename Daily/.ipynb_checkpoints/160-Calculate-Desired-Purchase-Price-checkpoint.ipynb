{
 "cells": [
  {
   "cell_type": "code",
   "execution_count": 1,
   "metadata": {},
   "outputs": [
    {
     "data": {
      "text/plain": [
       "(datetime.date(2023, 2, 20), datetime.date(2023, 2, 19))"
      ]
     },
     "execution_count": 1,
     "metadata": {},
     "output_type": "execute_result"
    }
   ],
   "source": [
    "import calendar\n",
    "import pandas as pd\n",
    "import numpy as np\n",
    "from datetime import date, timedelta\n",
    "from math import ceil, floor, trunc\n",
    "\n",
    "today = date.today()\n",
    "yesterday = today - timedelta(days=1)\n",
    "today, yesterday"
   ]
  },
  {
   "cell_type": "code",
   "execution_count": 2,
   "metadata": {},
   "outputs": [],
   "source": [
    "def number_of_spread(x):\n",
    "    # Unpack values from input list\n",
    "    q0 = x[0]   # old quantity\n",
    "    p0 = x[1]   # old unit price\n",
    "    old_unit_cost = x[1]  # store old unit price for later use\n",
    "    q1 = x[2]   # purchase quantity\n",
    "    d1 = x[3]   # spread according to price range\n",
    "    c0 = x[4]   # desired down percent to adjust purchase price\n",
    "\n",
    "    # Calculate old cost amount\n",
    "    a0 = q0 * p0\n",
    "\n",
    "    # Initialize loop variables\n",
    "    i = 1000\n",
    "    pct = 0\n",
    "    pt = 0\n",
    "    dt = 0\n",
    "    p2 = 0\n",
    "\n",
    "    # Loop until i becomes 0\n",
    "    while i > 0:\n",
    "        # Calculate simulated purchase price\n",
    "        p1 = p0 - d1\n",
    "\n",
    "        # Update old unit price for next iteration\n",
    "        p0 = p1\n",
    "\n",
    "        # Calculate new purchase amount\n",
    "        a1 = q1 * p1\n",
    "\n",
    "        # Calculate new total quantity and cost amount\n",
    "        q2 = q0 + q1\n",
    "        a2 = a0 + a1\n",
    "\n",
    "        # Calculate new unit cost\n",
    "        p2 = a2 / q2\n",
    "\n",
    "        # Round simulated purchase price and spread according to price range\n",
    "        pt = round(p2 * 100, 2)\n",
    "        dt = d1 * 100\n",
    "\n",
    "        # Debugging output\n",
    "        print('before if', i, 'p1=' + str(round(p1, 2)), 'a1=' + str(round(a1, 2)), 'a2=' + str(round(a2, 2)), 'p2=' + str(round(p2, 2)))\n",
    "\n",
    "        # Check if simulated purchase price is divisible by spread\n",
    "        if (pt % dt) == 0:\n",
    "            # Calculate percentage change in unit cost\n",
    "            pct = ((p1 - old_unit_cost) / old_unit_cost) * 100\n",
    "\n",
    "            # Debugging output\n",
    "            print('in loop', i, 'p2=' + str(round(p2, 2)), a2, 'p1=' + str(round(p1, 2)), 'pct=' + str(round(pct, 2)))\n",
    "\n",
    "            # Check if absolute value of percentage change is less than desired down percent\n",
    "            if abs(pct) < c0:\n",
    "                # Continue to next iteration if condition is met\n",
    "                continue\n",
    "\n",
    "            # Break loop if condition is not met\n",
    "            break\n",
    "\n",
    "        # Debugging output\n",
    "        print('out loop', i, 'p2=' + str(round(p2, 2)), a2, 'p1=' + str(round(p1, 2)), 'pct=' + str(round(pct, 2)))\n",
    "\n",
    "        # Decrement loop counter\n",
    "        i -= 1\n",
    "\n",
    "    # Return simulated purchase price, new unit cost, and percentage change in unit cost\n",
    "    return print('p1=' + str(round(p1, 2)), 'p2=' + str(round(p2, 2)), 'pct=' + str(round(pct, 2)))\n"
   ]
  },
  {
   "cell_type": "code",
   "execution_count": 5,
   "metadata": {
    "scrolled": true
   },
   "outputs": [
    {
     "name": "stdout",
     "output_type": "stream",
     "text": [
      "before if 1000 p1=37.0 a1=44400.0 a2=223200.0 p2=37.2\n",
      "out loop 1000 p2=37.2 223200.0 p1=37.0 pct=0\n",
      "before if 999 p1=36.75 a1=44100.0 a2=222900.0 p2=37.15\n",
      "out loop 999 p2=37.15 222900.0 p1=36.75 pct=0\n",
      "before if 998 p1=36.5 a1=43800.0 a2=222600.0 p2=37.1\n",
      "out loop 998 p2=37.1 222600.0 p1=36.5 pct=0\n",
      "before if 997 p1=36.25 a1=43500.0 a2=222300.0 p2=37.05\n",
      "out loop 997 p2=37.05 222300.0 p1=36.25 pct=0\n",
      "before if 996 p1=36.0 a1=43200.0 a2=222000.0 p2=37.0\n",
      "in loop 996 p2=37.0 222000.0 p1=36.0 pct=-3.36\n",
      "before if 996 p1=35.75 a1=42900.0 a2=221700.0 p2=36.95\n",
      "out loop 996 p2=36.95 221700.0 p1=35.75 pct=-3.36\n",
      "before if 995 p1=35.5 a1=42600.0 a2=221400.0 p2=36.9\n",
      "out loop 995 p2=36.9 221400.0 p1=35.5 pct=-3.36\n",
      "before if 994 p1=35.25 a1=42300.0 a2=221100.0 p2=36.85\n",
      "out loop 994 p2=36.85 221100.0 p1=35.25 pct=-3.36\n",
      "before if 993 p1=35.0 a1=42000.0 a2=220800.0 p2=36.8\n",
      "out loop 993 p2=36.8 220800.0 p1=35.0 pct=-3.36\n",
      "before if 992 p1=34.75 a1=41700.0 a2=220500.0 p2=36.75\n",
      "in loop 992 p2=36.75 220500.0 p1=34.75 pct=-6.71\n",
      "before if 992 p1=34.5 a1=41400.0 a2=220200.0 p2=36.7\n",
      "out loop 992 p2=36.7 220200.0 p1=34.5 pct=-6.71\n",
      "before if 991 p1=34.25 a1=41100.0 a2=219900.0 p2=36.65\n",
      "out loop 991 p2=36.65 219900.0 p1=34.25 pct=-6.71\n",
      "before if 990 p1=34.0 a1=40800.0 a2=219600.0 p2=36.6\n",
      "out loop 990 p2=36.6 219600.0 p1=34.0 pct=-6.71\n",
      "before if 989 p1=33.75 a1=40500.0 a2=219300.0 p2=36.55\n",
      "out loop 989 p2=36.55 219300.0 p1=33.75 pct=-6.71\n",
      "before if 988 p1=33.5 a1=40200.0 a2=219000.0 p2=36.5\n",
      "in loop 988 p2=36.5 219000.0 p1=33.5 pct=-10.07\n",
      "before if 988 p1=33.25 a1=39900.0 a2=218700.0 p2=36.45\n",
      "out loop 988 p2=36.45 218700.0 p1=33.25 pct=-10.07\n",
      "before if 987 p1=33.0 a1=39600.0 a2=218400.0 p2=36.4\n",
      "out loop 987 p2=36.4 218400.0 p1=33.0 pct=-10.07\n",
      "before if 986 p1=32.75 a1=39300.0 a2=218100.0 p2=36.35\n",
      "out loop 986 p2=36.35 218100.0 p1=32.75 pct=-10.07\n",
      "before if 985 p1=32.5 a1=39000.0 a2=217800.0 p2=36.3\n",
      "out loop 985 p2=36.3 217800.0 p1=32.5 pct=-10.07\n",
      "before if 984 p1=32.25 a1=38700.0 a2=217500.0 p2=36.25\n",
      "in loop 984 p2=36.25 217500.0 p1=32.25 pct=-13.42\n",
      "before if 984 p1=32.0 a1=38400.0 a2=217200.0 p2=36.2\n",
      "out loop 984 p2=36.2 217200.0 p1=32.0 pct=-13.42\n",
      "before if 983 p1=31.75 a1=38100.0 a2=216900.0 p2=36.15\n",
      "out loop 983 p2=36.15 216900.0 p1=31.75 pct=-13.42\n",
      "before if 982 p1=31.5 a1=37800.0 a2=216600.0 p2=36.1\n",
      "out loop 982 p2=36.1 216600.0 p1=31.5 pct=-13.42\n",
      "before if 981 p1=31.25 a1=37500.0 a2=216300.0 p2=36.05\n",
      "out loop 981 p2=36.05 216300.0 p1=31.25 pct=-13.42\n",
      "before if 980 p1=31.0 a1=37200.0 a2=216000.0 p2=36.0\n",
      "in loop 980 p2=36.0 216000.0 p1=31.0 pct=-16.78\n",
      "before if 980 p1=30.75 a1=36900.0 a2=215700.0 p2=35.95\n",
      "out loop 980 p2=35.95 215700.0 p1=30.75 pct=-16.78\n",
      "before if 979 p1=30.5 a1=36600.0 a2=215400.0 p2=35.9\n",
      "out loop 979 p2=35.9 215400.0 p1=30.5 pct=-16.78\n",
      "before if 978 p1=30.25 a1=36300.0 a2=215100.0 p2=35.85\n",
      "out loop 978 p2=35.85 215100.0 p1=30.25 pct=-16.78\n",
      "before if 977 p1=30.0 a1=36000.0 a2=214800.0 p2=35.8\n",
      "out loop 977 p2=35.8 214800.0 p1=30.0 pct=-16.78\n",
      "before if 976 p1=29.75 a1=35700.0 a2=214500.0 p2=35.75\n",
      "in loop 976 p2=35.75 214500.0 p1=29.75 pct=-20.13\n",
      "before if 976 p1=29.5 a1=35400.0 a2=214200.0 p2=35.7\n",
      "out loop 976 p2=35.7 214200.0 p1=29.5 pct=-20.13\n",
      "before if 975 p1=29.25 a1=35100.0 a2=213900.0 p2=35.65\n",
      "out loop 975 p2=35.65 213900.0 p1=29.25 pct=-20.13\n",
      "before if 974 p1=29.0 a1=34800.0 a2=213600.0 p2=35.6\n",
      "out loop 974 p2=35.6 213600.0 p1=29.0 pct=-20.13\n",
      "before if 973 p1=28.75 a1=34500.0 a2=213300.0 p2=35.55\n",
      "out loop 973 p2=35.55 213300.0 p1=28.75 pct=-20.13\n",
      "before if 972 p1=28.5 a1=34200.0 a2=213000.0 p2=35.5\n",
      "in loop 972 p2=35.5 213000.0 p1=28.5 pct=-23.49\n",
      "before if 972 p1=28.25 a1=33900.0 a2=212700.0 p2=35.45\n",
      "out loop 972 p2=35.45 212700.0 p1=28.25 pct=-23.49\n",
      "before if 971 p1=28.0 a1=33600.0 a2=212400.0 p2=35.4\n",
      "out loop 971 p2=35.4 212400.0 p1=28.0 pct=-23.49\n",
      "before if 970 p1=27.75 a1=33300.0 a2=212100.0 p2=35.35\n",
      "out loop 970 p2=35.35 212100.0 p1=27.75 pct=-23.49\n",
      "before if 969 p1=27.5 a1=33000.0 a2=211800.0 p2=35.3\n",
      "out loop 969 p2=35.3 211800.0 p1=27.5 pct=-23.49\n",
      "before if 968 p1=27.25 a1=32700.0 a2=211500.0 p2=35.25\n",
      "in loop 968 p2=35.25 211500.0 p1=27.25 pct=-26.85\n",
      "p1=27.25 p2=35.25 pct=-26.85\n"
     ]
    },
    {
     "data": {
      "text/plain": [
       "array([None], dtype=object)"
      ]
     },
     "execution_count": 5,
     "metadata": {},
     "output_type": "execute_result"
    }
   ],
   "source": [
    "my_array = [[4800,37.25,1200,.25,25]]\n",
    "tmp = (np.apply_along_axis(number_of_spread, axis=1, arr=my_array))\n",
    "tmp"
   ]
  },
  {
   "cell_type": "markdown",
   "metadata": {},
   "source": [
    "##### "
   ]
  }
 ],
 "metadata": {
  "anaconda-cloud": {},
  "kernelspec": {
   "display_name": "Python 3 (ipykernel)",
   "language": "python",
   "name": "python3"
  },
  "language_info": {
   "codemirror_mode": {
    "name": "ipython",
    "version": 3
   },
   "file_extension": ".py",
   "mimetype": "text/x-python",
   "name": "python",
   "nbconvert_exporter": "python",
   "pygments_lexer": "ipython3",
   "version": "3.8.11"
  }
 },
 "nbformat": 4,
 "nbformat_minor": 1
}
