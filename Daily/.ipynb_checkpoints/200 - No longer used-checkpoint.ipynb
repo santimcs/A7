{
 "cells": [
  {
   "cell_type": "code",
   "execution_count": null,
   "id": "2a2bb67d",
   "metadata": {},
   "outputs": [],
   "source": [
    "import pandas as pd\n",
    "\n",
    "data_path = \"../data/\"\n",
    "csv_path = \"\\\\Users\\\\User\\\\iCloudDrive\\\\\"\n",
    "xlx_path = \"../Excel/\"\n",
    "osd_path = \"\\\\Users\\\\User\\\\OneDrive\\\\Documents\\\\obsidian-git-sync\\\\Data\\\\\""
   ]
  },
  {
   "cell_type": "code",
   "execution_count": null,
   "id": "a1ba6b4f",
   "metadata": {},
   "outputs": [],
   "source": [
    "df = pd.DataFrame(json_data)\n",
    "df"
   ]
  },
  {
   "cell_type": "code",
   "execution_count": null,
   "id": "6d11de17",
   "metadata": {},
   "outputs": [],
   "source": [
    "df.dtypes"
   ]
  },
  {
   "cell_type": "code",
   "execution_count": null,
   "id": "ba765ec0",
   "metadata": {},
   "outputs": [],
   "source": [
    "cols = 'symbol date close high low totalVolume open'.split()\n",
    "df[cols]"
   ]
  },
  {
   "cell_type": "code",
   "execution_count": null,
   "id": "2cf68025",
   "metadata": {},
   "outputs": [],
   "source": [
    "U1 = \"https://www.setsmart.com/api/listed-company-api/eod-price-by-symbol?symbol=KCE&startDate=2023-01-31&endDate=2023-01-31&adjustedPriceFlag=N\"\n",
    "U1"
   ]
  },
  {
   "cell_type": "code",
   "execution_count": null,
   "id": "720425cb",
   "metadata": {},
   "outputs": [],
   "source": [
    "key = '40ace8d4-508b-4350-ba3c-970deacab5d9'\n",
    "key"
   ]
  },
  {
   "cell_type": "code",
   "execution_count": null,
   "id": "a0dd1abd",
   "metadata": {},
   "outputs": [],
   "source": [
    "url = U1 + '&api-key=' + key\n",
    "url"
   ]
  },
  {
   "cell_type": "code",
   "execution_count": null,
   "id": "70c4aab4",
   "metadata": {},
   "outputs": [],
   "source": [
    "df = pd.read_json(url)"
   ]
  },
  {
   "cell_type": "code",
   "execution_count": null,
   "id": "4a63a469",
   "metadata": {},
   "outputs": [],
   "source": [
    "data = curl -X GET \"https://www.setsmart.com/api/listed-company-api/eod-price-by-security-type?securityType=CS&adjustedPriceFlag=N&api-key=40ace8d4-508b-4350-ba3c-970deacab5d9\""
   ]
  },
  {
   "cell_type": "code",
   "execution_count": null,
   "id": "342e9595",
   "metadata": {},
   "outputs": [],
   "source": [
    "!curl \"https://www.setsmart.com/api/listed-company-api/eod-price-by-symbol?symbol=KCE&startDate=2023-01-31&endDate=2023-01-31&adjustedPriceFlag=N&api-key=40ace8d4-508b-4350-ba3c-970deacab5d9\""
   ]
  },
  {
   "cell_type": "code",
   "execution_count": null,
   "id": "68c05b40",
   "metadata": {},
   "outputs": [],
   "source": [
    "df = pd.read_excel(\"data.xlsx\", header=8)\n",
    "df"
   ]
  },
  {
   "cell_type": "code",
   "execution_count": null,
   "id": "39847c01",
   "metadata": {},
   "outputs": [],
   "source": [
    "df.rename(columns={col: col.replace(\" \", \"-\") for col in df.columns}, inplace=True)\n",
    "df[cols]"
   ]
  },
  {
   "cell_type": "code",
   "execution_count": null,
   "id": "70631a80",
   "metadata": {},
   "outputs": [],
   "source": [
    "df.insert(1, 'Date', '2023-02-01')\n",
    "colt = 'Symbol Date Last High Low Total-Volume Open'.split()\n",
    "df[colt]"
   ]
  },
  {
   "cell_type": "code",
   "execution_count": null,
   "id": "53127caf",
   "metadata": {},
   "outputs": [],
   "source": [
    "df_HD = pd.read_excel(\"StockQuotation (3).xlsx\", header=8)\n",
    "df_HD"
   ]
  },
  {
   "cell_type": "code",
   "execution_count": null,
   "id": "70121702",
   "metadata": {},
   "outputs": [],
   "source": [
    "df_HD.rename(columns={col: col.replace(\" \", \"-\") for col in df_HD.columns}, inplace=True)\n",
    "df_HD[cols]"
   ]
  },
  {
   "cell_type": "code",
   "execution_count": null,
   "id": "60d807ba",
   "metadata": {},
   "outputs": [],
   "source": []
  }
 ],
 "metadata": {
  "kernelspec": {
   "display_name": "Python 3 (ipykernel)",
   "language": "python",
   "name": "python3"
  },
  "language_info": {
   "codemirror_mode": {
    "name": "ipython",
    "version": 3
   },
   "file_extension": ".py",
   "mimetype": "text/x-python",
   "name": "python",
   "nbconvert_exporter": "python",
   "pygments_lexer": "ipython3",
   "version": "3.8.11"
  }
 },
 "nbformat": 4,
 "nbformat_minor": 5
}
