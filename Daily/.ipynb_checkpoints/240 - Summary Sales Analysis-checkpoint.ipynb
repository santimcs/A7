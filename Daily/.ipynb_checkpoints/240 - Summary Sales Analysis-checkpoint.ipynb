{
 "cells": [
  {
   "cell_type": "code",
   "execution_count": 1,
   "metadata": {},
   "outputs": [
    {
     "data": {
      "text/plain": [
       "(datetime.date(2023, 1, 15), datetime.date(2023, 1, 14))"
      ]
     },
     "execution_count": 1,
     "metadata": {},
     "output_type": "execute_result"
    }
   ],
   "source": [
    "import calendar\n",
    "import pandas as pd\n",
    "from datetime import date, timedelta\n",
    "from sqlalchemy import create_engine\n",
    "from pandas.tseries.offsets import BDay\n",
    "\n",
    "engine = create_engine(\"sqlite:///c:\\\\ruby\\\\port_lite\\\\db\\\\development.sqlite3\")\n",
    "conlite = engine.connect()\n",
    "\n",
    "engine = create_engine(\"mysql+pymysql://root:@localhost:3306/stock\")\n",
    "const = engine.connect()\n",
    "\n",
    "pd.set_option('display.max_row',None)\n",
    "\n",
    "data_path = \"../data/\"\n",
    "csv_path = \"\\\\Users\\\\User\\\\iCloudDrive\\\\\"\n",
    "box_path = \"\\\\Users\\\\User\\\\Dropbox\\\\\"\n",
    "one_path = \"\\\\Users\\\\User\\\\OneDrive\\\\Documents\\\\Data\\\\\"\n",
    "\n",
    "today = date.today()\n",
    "yesterday = today - timedelta(days=1)\n",
    "today, yesterday"
   ]
  },
  {
   "cell_type": "code",
   "execution_count": 2,
   "metadata": {},
   "outputs": [
    {
     "name": "stdout",
     "output_type": "stream",
     "text": [
      "today: 2023-01-15\n",
      "yesterday: 2023-01-13 00:00:00\n"
     ]
    }
   ],
   "source": [
    "# specify the number of business days\n",
    "num_days = 1\n",
    "# convert the timedelta object to a BusinessDay object\n",
    "num_business_days = BDay(num_days)\n",
    "yesterday = today - num_business_days\n",
    "#yesterday = yesterday.date()\n",
    "print(f'today: {today}')\n",
    "print(f'yesterday: {yesterday}')"
   ]
  },
  {
   "cell_type": "code",
   "execution_count": 3,
   "metadata": {},
   "outputs": [
    {
     "data": {
      "text/plain": [
       "(datetime.date(2023, 1, 13), datetime.date(2022, 1, 13))"
      ]
     },
     "execution_count": 3,
     "metadata": {},
     "output_type": "execute_result"
    }
   ],
   "source": [
    "yesterday = yesterday.date()\n",
    "a_year_ago = yesterday - timedelta(days=365)\n",
    "yesterday, a_year_ago"
   ]
  },
  {
   "cell_type": "markdown",
   "metadata": {},
   "source": [
    "### Get past one quarter data"
   ]
  },
  {
   "cell_type": "code",
   "execution_count": 4,
   "metadata": {},
   "outputs": [],
   "source": [
    "format_dict = {\n",
    "    'ttl_qty':'{:,}',\n",
    "    'from_price':'{:.2f}','to_price':'{:.2f}','diff':'{:.2f}',\n",
    "    'max_price':'{:.2f}','min_price':'{:.2f}',\n",
    "    'pct':'{:,.2f}%',  \n",
    "}"
   ]
  },
  {
   "cell_type": "code",
   "execution_count": 5,
   "metadata": {},
   "outputs": [
    {
     "data": {
      "text/plain": [
       "\"'ASP', 'BANPU', 'BCH', 'CPNREIT', 'DCC', 'DIF', 'GVREIT', 'IVL', 'JASIF', 'KCE', 'MAKRO', 'MCS', 'NER', 'ORI', 'PTTGC', 'RCL', 'SCC', 'SCCC', 'SENA', 'STA', 'SYNEX', 'TFFIF', 'TMT', 'WHAIR', 'WHART'\""
      ]
     },
     "execution_count": 5,
     "metadata": {},
     "output_type": "execute_result"
    }
   ],
   "source": [
    "sql = \"\"\"\n",
    "SELECT name\n",
    "FROM buy \n",
    "ORDER BY name\n",
    "\"\"\"\n",
    "df = pd.read_sql(sql, const)\n",
    "\n",
    "names = df['name'].values.tolist()\n",
    "in_p = \", \".join(map(lambda name: \"'%s'\" % name, names))\n",
    "in_p"
   ]
  },
  {
   "cell_type": "code",
   "execution_count": 6,
   "metadata": {},
   "outputs": [
    {
     "name": "stdout",
     "output_type": "stream",
     "text": [
      "\n",
      "SELECT name, date, price, qty, maxp, minp\n",
      "FROM price \n",
      "WHERE date >= '2022-12-16' AND name IN ('ASP', 'BANPU', 'BCH', 'CPNREIT', 'DCC', 'DIF', 'GVREIT', 'IVL', 'JASIF', 'KCE', 'MAKRO', 'MCS', 'NER', 'ORI', 'PTTGC', 'RCL', 'SCC', 'SCCC', 'SENA', 'STA', 'SYNEX', 'TFFIF', 'TMT', 'WHAIR', 'WHART') \n",
      "ORDER BY name, date\n"
     ]
    }
   ],
   "source": [
    "#one_qtr_ago = yesterday - timedelta(days=4)\n",
    "one_qtr_ago = date(2022, 12, 16)\n",
    "\n",
    "sql = \"\"\"\n",
    "SELECT name, date, price, qty, maxp, minp\n",
    "FROM price \n",
    "WHERE date >= '%s' AND name IN (%s) \n",
    "ORDER BY name, date\"\"\"\n",
    "sql = sql % (one_qtr_ago, in_p)\n",
    "print(sql)"
   ]
  },
  {
   "cell_type": "code",
   "execution_count": 7,
   "metadata": {},
   "outputs": [
    {
     "data": {
      "text/html": [
       "<div>\n",
       "<style scoped>\n",
       "    .dataframe tbody tr th:only-of-type {\n",
       "        vertical-align: middle;\n",
       "    }\n",
       "\n",
       "    .dataframe tbody tr th {\n",
       "        vertical-align: top;\n",
       "    }\n",
       "\n",
       "    .dataframe thead th {\n",
       "        text-align: right;\n",
       "    }\n",
       "</style>\n",
       "<table border=\"1\" class=\"dataframe\">\n",
       "  <thead>\n",
       "    <tr style=\"text-align: right;\">\n",
       "      <th></th>\n",
       "      <th>name</th>\n",
       "      <th>date</th>\n",
       "      <th>price</th>\n",
       "      <th>qty</th>\n",
       "      <th>maxp</th>\n",
       "      <th>minp</th>\n",
       "    </tr>\n",
       "  </thead>\n",
       "  <tbody>\n",
       "    <tr>\n",
       "      <th>217</th>\n",
       "      <td>MAKRO</td>\n",
       "      <td>2023-01-11</td>\n",
       "      <td>42.0</td>\n",
       "      <td>15615235</td>\n",
       "      <td>42.50</td>\n",
       "      <td>41.50</td>\n",
       "    </tr>\n",
       "    <tr>\n",
       "      <th>414</th>\n",
       "      <td>SYNEX</td>\n",
       "      <td>2023-01-06</td>\n",
       "      <td>17.0</td>\n",
       "      <td>2803616</td>\n",
       "      <td>17.10</td>\n",
       "      <td>16.40</td>\n",
       "    </tr>\n",
       "    <tr>\n",
       "      <th>130</th>\n",
       "      <td>GVREIT</td>\n",
       "      <td>2022-12-30</td>\n",
       "      <td>9.1</td>\n",
       "      <td>534645</td>\n",
       "      <td>9.15</td>\n",
       "      <td>9.05</td>\n",
       "    </tr>\n",
       "    <tr>\n",
       "      <th>351</th>\n",
       "      <td>SCCC</td>\n",
       "      <td>2023-01-03</td>\n",
       "      <td>154.5</td>\n",
       "      <td>94288</td>\n",
       "      <td>154.50</td>\n",
       "      <td>154.00</td>\n",
       "    </tr>\n",
       "    <tr>\n",
       "      <th>55</th>\n",
       "      <td>BCH</td>\n",
       "      <td>2023-01-09</td>\n",
       "      <td>21.8</td>\n",
       "      <td>10334905</td>\n",
       "      <td>22.00</td>\n",
       "      <td>21.50</td>\n",
       "    </tr>\n",
       "  </tbody>\n",
       "</table>\n",
       "</div>"
      ],
      "text/plain": [
       "       name        date  price       qty    maxp    minp\n",
       "217   MAKRO  2023-01-11   42.0  15615235   42.50   41.50\n",
       "414   SYNEX  2023-01-06   17.0   2803616   17.10   16.40\n",
       "130  GVREIT  2022-12-30    9.1    534645    9.15    9.05\n",
       "351    SCCC  2023-01-03  154.5     94288  154.50  154.00\n",
       "55      BCH  2023-01-09   21.8  10334905   22.00   21.50"
      ]
     },
     "execution_count": 7,
     "metadata": {},
     "output_type": "execute_result"
    }
   ],
   "source": [
    "df = pd.read_sql(sql, const)\n",
    "df.sample(5)"
   ]
  },
  {
   "cell_type": "code",
   "execution_count": 8,
   "metadata": {},
   "outputs": [],
   "source": [
    "data_path = \"../data/\"\n",
    "file_name = \"Quarterly-Price-by-Name.csv\"\n",
    "output_file = data_path + file_name\n",
    "\n",
    "df.set_index(\"name\", inplace=True)\n",
    "df.to_csv(output_file, header=None)"
   ]
  },
  {
   "cell_type": "markdown",
   "metadata": {},
   "source": [
    "### After call ruby ruby\\chat-fin.rb"
   ]
  },
  {
   "cell_type": "code",
   "execution_count": 9,
   "metadata": {},
   "outputs": [
    {
     "data": {
      "text/plain": [
       "Index(['name', 'from_date', 'to_date', 'days', 'from_price', 'to_price',\n",
       "       'diff', 'pct', 'spd', 'avg', 'max_price', 'min_price', 'ttl_qty'],\n",
       "      dtype='object')"
      ]
     },
     "execution_count": 9,
     "metadata": {},
     "output_type": "execute_result"
    }
   ],
   "source": [
    "file_name   = 'summary.csv'\n",
    "input_file = data_path + file_name\n",
    "df = pd.read_csv(input_file, sep=',', index_col=None)\n",
    "#df.sample(10).style.format(format_dict)\n",
    "df.columns"
   ]
  },
  {
   "cell_type": "code",
   "execution_count": 10,
   "metadata": {},
   "outputs": [
    {
     "data": {
      "text/html": [
       "<style type=\"text/css\">\n",
       "</style>\n",
       "<table id=\"T_28d33_\">\n",
       "  <thead>\n",
       "    <tr>\n",
       "      <th class=\"blank level0\" >&nbsp;</th>\n",
       "      <th class=\"col_heading level0 col0\" >name</th>\n",
       "      <th class=\"col_heading level0 col1\" >from_date</th>\n",
       "      <th class=\"col_heading level0 col2\" >to_date</th>\n",
       "      <th class=\"col_heading level0 col3\" >days</th>\n",
       "      <th class=\"col_heading level0 col4\" >from_price</th>\n",
       "      <th class=\"col_heading level0 col5\" >to_price</th>\n",
       "      <th class=\"col_heading level0 col6\" >diff</th>\n",
       "      <th class=\"col_heading level0 col7\" >pct</th>\n",
       "      <th class=\"col_heading level0 col8\" >spd</th>\n",
       "      <th class=\"col_heading level0 col9\" >avg</th>\n",
       "      <th class=\"col_heading level0 col10\" >max_price</th>\n",
       "      <th class=\"col_heading level0 col11\" >min_price</th>\n",
       "      <th class=\"col_heading level0 col12\" >ttl_qty</th>\n",
       "    </tr>\n",
       "  </thead>\n",
       "  <tbody>\n",
       "    <tr>\n",
       "      <th id=\"T_28d33_level0_row0\" class=\"row_heading level0 row0\" >48</th>\n",
       "      <td id=\"T_28d33_row0_col0\" class=\"data row0 col0\" >KCE</td>\n",
       "      <td id=\"T_28d33_row0_col1\" class=\"data row0 col1\" >2023-01-04</td>\n",
       "      <td id=\"T_28d33_row0_col2\" class=\"data row0 col2\" >2023-01-05</td>\n",
       "      <td id=\"T_28d33_row0_col3\" class=\"data row0 col3\" >2</td>\n",
       "      <td id=\"T_28d33_row0_col4\" class=\"data row0 col4\" >46.00</td>\n",
       "      <td id=\"T_28d33_row0_col5\" class=\"data row0 col5\" >45.00</td>\n",
       "      <td id=\"T_28d33_row0_col6\" class=\"data row0 col6\" >-1.00</td>\n",
       "      <td id=\"T_28d33_row0_col7\" class=\"data row0 col7\" >-2.17%</td>\n",
       "      <td id=\"T_28d33_row0_col8\" class=\"data row0 col8\" >-4</td>\n",
       "      <td id=\"T_28d33_row0_col9\" class=\"data row0 col9\" >-2</td>\n",
       "      <td id=\"T_28d33_row0_col10\" class=\"data row0 col10\" >47.50</td>\n",
       "      <td id=\"T_28d33_row0_col11\" class=\"data row0 col11\" >44.50</td>\n",
       "      <td id=\"T_28d33_row0_col12\" class=\"data row0 col12\" >31,517,549</td>\n",
       "    </tr>\n",
       "    <tr>\n",
       "      <th id=\"T_28d33_level0_row1\" class=\"row_heading level0 row1\" >85</th>\n",
       "      <td id=\"T_28d33_row1_col0\" class=\"data row1 col0\" >RCL</td>\n",
       "      <td id=\"T_28d33_row1_col1\" class=\"data row1 col1\" >2023-01-11</td>\n",
       "      <td id=\"T_28d33_row1_col2\" class=\"data row1 col2\" >2023-01-11</td>\n",
       "      <td id=\"T_28d33_row1_col3\" class=\"data row1 col3\" >1</td>\n",
       "      <td id=\"T_28d33_row1_col4\" class=\"data row1 col4\" >31.25</td>\n",
       "      <td id=\"T_28d33_row1_col5\" class=\"data row1 col5\" >31.25</td>\n",
       "      <td id=\"T_28d33_row1_col6\" class=\"data row1 col6\" >0.00</td>\n",
       "      <td id=\"T_28d33_row1_col7\" class=\"data row1 col7\" >0.00%</td>\n",
       "      <td id=\"T_28d33_row1_col8\" class=\"data row1 col8\" >0</td>\n",
       "      <td id=\"T_28d33_row1_col9\" class=\"data row1 col9\" >0</td>\n",
       "      <td id=\"T_28d33_row1_col10\" class=\"data row1 col10\" >31.75</td>\n",
       "      <td id=\"T_28d33_row1_col11\" class=\"data row1 col11\" >31.00</td>\n",
       "      <td id=\"T_28d33_row1_col12\" class=\"data row1 col12\" >3,769,557</td>\n",
       "    </tr>\n",
       "    <tr>\n",
       "      <th id=\"T_28d33_level0_row2\" class=\"row_heading level0 row2\" >83</th>\n",
       "      <td id=\"T_28d33_row2_col0\" class=\"data row2 col0\" >RCL</td>\n",
       "      <td id=\"T_28d33_row2_col1\" class=\"data row2 col1\" >2022-12-29</td>\n",
       "      <td id=\"T_28d33_row2_col2\" class=\"data row2 col2\" >2023-01-04</td>\n",
       "      <td id=\"T_28d33_row2_col3\" class=\"data row2 col3\" >5</td>\n",
       "      <td id=\"T_28d33_row2_col4\" class=\"data row2 col4\" >31.00</td>\n",
       "      <td id=\"T_28d33_row2_col5\" class=\"data row2 col5\" >29.25</td>\n",
       "      <td id=\"T_28d33_row2_col6\" class=\"data row2 col6\" >-1.75</td>\n",
       "      <td id=\"T_28d33_row2_col7\" class=\"data row2 col7\" >-5.65%</td>\n",
       "      <td id=\"T_28d33_row2_col8\" class=\"data row2 col8\" >-7</td>\n",
       "      <td id=\"T_28d33_row2_col9\" class=\"data row2 col9\" >-2</td>\n",
       "      <td id=\"T_28d33_row2_col10\" class=\"data row2 col10\" >31.50</td>\n",
       "      <td id=\"T_28d33_row2_col11\" class=\"data row2 col11\" >29.25</td>\n",
       "      <td id=\"T_28d33_row2_col12\" class=\"data row2 col12\" >14,676,956</td>\n",
       "    </tr>\n",
       "    <tr>\n",
       "      <th id=\"T_28d33_level0_row3\" class=\"row_heading level0 row3\" >123</th>\n",
       "      <td id=\"T_28d33_row3_col0\" class=\"data row3 col0\" >WHAIR</td>\n",
       "      <td id=\"T_28d33_row3_col1\" class=\"data row3 col1\" >2023-01-12</td>\n",
       "      <td id=\"T_28d33_row3_col2\" class=\"data row3 col2\" >2023-01-13</td>\n",
       "      <td id=\"T_28d33_row3_col3\" class=\"data row3 col3\" >2</td>\n",
       "      <td id=\"T_28d33_row3_col4\" class=\"data row3 col4\" >7.50</td>\n",
       "      <td id=\"T_28d33_row3_col5\" class=\"data row3 col5\" >7.50</td>\n",
       "      <td id=\"T_28d33_row3_col6\" class=\"data row3 col6\" >0.00</td>\n",
       "      <td id=\"T_28d33_row3_col7\" class=\"data row3 col7\" >0.00%</td>\n",
       "      <td id=\"T_28d33_row3_col8\" class=\"data row3 col8\" >0</td>\n",
       "      <td id=\"T_28d33_row3_col9\" class=\"data row3 col9\" >0</td>\n",
       "      <td id=\"T_28d33_row3_col10\" class=\"data row3 col10\" >7.55</td>\n",
       "      <td id=\"T_28d33_row3_col11\" class=\"data row3 col11\" >7.45</td>\n",
       "      <td id=\"T_28d33_row3_col12\" class=\"data row3 col12\" >3,222,117</td>\n",
       "    </tr>\n",
       "    <tr>\n",
       "      <th id=\"T_28d33_level0_row4\" class=\"row_heading level0 row4\" >2</th>\n",
       "      <td id=\"T_28d33_row4_col0\" class=\"data row4 col0\" >ASP</td>\n",
       "      <td id=\"T_28d33_row4_col1\" class=\"data row4 col1\" >2023-01-03</td>\n",
       "      <td id=\"T_28d33_row4_col2\" class=\"data row4 col2\" >2023-01-05</td>\n",
       "      <td id=\"T_28d33_row4_col3\" class=\"data row4 col3\" >3</td>\n",
       "      <td id=\"T_28d33_row4_col4\" class=\"data row4 col4\" >2.96</td>\n",
       "      <td id=\"T_28d33_row4_col5\" class=\"data row4 col5\" >2.96</td>\n",
       "      <td id=\"T_28d33_row4_col6\" class=\"data row4 col6\" >0.00</td>\n",
       "      <td id=\"T_28d33_row4_col7\" class=\"data row4 col7\" >0.00%</td>\n",
       "      <td id=\"T_28d33_row4_col8\" class=\"data row4 col8\" >0</td>\n",
       "      <td id=\"T_28d33_row4_col9\" class=\"data row4 col9\" >0</td>\n",
       "      <td id=\"T_28d33_row4_col10\" class=\"data row4 col10\" >2.98</td>\n",
       "      <td id=\"T_28d33_row4_col11\" class=\"data row4 col11\" >2.94</td>\n",
       "      <td id=\"T_28d33_row4_col12\" class=\"data row4 col12\" >8,840,544</td>\n",
       "    </tr>\n",
       "    <tr>\n",
       "      <th id=\"T_28d33_level0_row5\" class=\"row_heading level0 row5\" >63</th>\n",
       "      <td id=\"T_28d33_row5_col0\" class=\"data row5 col0\" >MCS</td>\n",
       "      <td id=\"T_28d33_row5_col1\" class=\"data row5 col1\" >2023-01-13</td>\n",
       "      <td id=\"T_28d33_row5_col2\" class=\"data row5 col2\" >2023-01-13</td>\n",
       "      <td id=\"T_28d33_row5_col3\" class=\"data row5 col3\" >1</td>\n",
       "      <td id=\"T_28d33_row5_col4\" class=\"data row5 col4\" >9.60</td>\n",
       "      <td id=\"T_28d33_row5_col5\" class=\"data row5 col5\" >9.60</td>\n",
       "      <td id=\"T_28d33_row5_col6\" class=\"data row5 col6\" >0.00</td>\n",
       "      <td id=\"T_28d33_row5_col7\" class=\"data row5 col7\" >0.00%</td>\n",
       "      <td id=\"T_28d33_row5_col8\" class=\"data row5 col8\" >0</td>\n",
       "      <td id=\"T_28d33_row5_col9\" class=\"data row5 col9\" >0</td>\n",
       "      <td id=\"T_28d33_row5_col10\" class=\"data row5 col10\" >9.65</td>\n",
       "      <td id=\"T_28d33_row5_col11\" class=\"data row5 col11\" >9.50</td>\n",
       "      <td id=\"T_28d33_row5_col12\" class=\"data row5 col12\" >1,280,266</td>\n",
       "    </tr>\n",
       "    <tr>\n",
       "      <th id=\"T_28d33_level0_row6\" class=\"row_heading level0 row6\" >98</th>\n",
       "      <td id=\"T_28d33_row6_col0\" class=\"data row6 col0\" >SENA</td>\n",
       "      <td id=\"T_28d33_row6_col1\" class=\"data row6 col1\" >2023-01-06</td>\n",
       "      <td id=\"T_28d33_row6_col2\" class=\"data row6 col2\" >2023-01-10</td>\n",
       "      <td id=\"T_28d33_row6_col3\" class=\"data row6 col3\" >3</td>\n",
       "      <td id=\"T_28d33_row6_col4\" class=\"data row6 col4\" >3.92</td>\n",
       "      <td id=\"T_28d33_row6_col5\" class=\"data row6 col5\" >3.94</td>\n",
       "      <td id=\"T_28d33_row6_col6\" class=\"data row6 col6\" >0.02</td>\n",
       "      <td id=\"T_28d33_row6_col7\" class=\"data row6 col7\" >0.51%</td>\n",
       "      <td id=\"T_28d33_row6_col8\" class=\"data row6 col8\" >1</td>\n",
       "      <td id=\"T_28d33_row6_col9\" class=\"data row6 col9\" >0</td>\n",
       "      <td id=\"T_28d33_row6_col10\" class=\"data row6 col10\" >3.94</td>\n",
       "      <td id=\"T_28d33_row6_col11\" class=\"data row6 col11\" >3.90</td>\n",
       "      <td id=\"T_28d33_row6_col12\" class=\"data row6 col12\" >5,681,848</td>\n",
       "    </tr>\n",
       "    <tr>\n",
       "      <th id=\"T_28d33_level0_row7\" class=\"row_heading level0 row7\" >50</th>\n",
       "      <td id=\"T_28d33_row7_col0\" class=\"data row7 col0\" >KCE</td>\n",
       "      <td id=\"T_28d33_row7_col1\" class=\"data row7 col1\" >2023-01-11</td>\n",
       "      <td id=\"T_28d33_row7_col2\" class=\"data row7 col2\" >2023-01-11</td>\n",
       "      <td id=\"T_28d33_row7_col3\" class=\"data row7 col3\" >1</td>\n",
       "      <td id=\"T_28d33_row7_col4\" class=\"data row7 col4\" >49.25</td>\n",
       "      <td id=\"T_28d33_row7_col5\" class=\"data row7 col5\" >49.25</td>\n",
       "      <td id=\"T_28d33_row7_col6\" class=\"data row7 col6\" >0.00</td>\n",
       "      <td id=\"T_28d33_row7_col7\" class=\"data row7 col7\" >0.00%</td>\n",
       "      <td id=\"T_28d33_row7_col8\" class=\"data row7 col8\" >0</td>\n",
       "      <td id=\"T_28d33_row7_col9\" class=\"data row7 col9\" >0</td>\n",
       "      <td id=\"T_28d33_row7_col10\" class=\"data row7 col10\" >50.75</td>\n",
       "      <td id=\"T_28d33_row7_col11\" class=\"data row7 col11\" >49.25</td>\n",
       "      <td id=\"T_28d33_row7_col12\" class=\"data row7 col12\" >19,885,273</td>\n",
       "    </tr>\n",
       "    <tr>\n",
       "      <th id=\"T_28d33_level0_row8\" class=\"row_heading level0 row8\" >40</th>\n",
       "      <td id=\"T_28d33_row8_col0\" class=\"data row8 col0\" >IVL</td>\n",
       "      <td id=\"T_28d33_row8_col1\" class=\"data row8 col1\" >2023-01-03</td>\n",
       "      <td id=\"T_28d33_row8_col2\" class=\"data row8 col2\" >2023-01-06</td>\n",
       "      <td id=\"T_28d33_row8_col3\" class=\"data row8 col3\" >4</td>\n",
       "      <td id=\"T_28d33_row8_col4\" class=\"data row8 col4\" >40.25</td>\n",
       "      <td id=\"T_28d33_row8_col5\" class=\"data row8 col5\" >37.75</td>\n",
       "      <td id=\"T_28d33_row8_col6\" class=\"data row8 col6\" >-2.50</td>\n",
       "      <td id=\"T_28d33_row8_col7\" class=\"data row8 col7\" >-6.21%</td>\n",
       "      <td id=\"T_28d33_row8_col8\" class=\"data row8 col8\" >-10</td>\n",
       "      <td id=\"T_28d33_row8_col9\" class=\"data row8 col9\" >-3</td>\n",
       "      <td id=\"T_28d33_row8_col10\" class=\"data row8 col10\" >41.00</td>\n",
       "      <td id=\"T_28d33_row8_col11\" class=\"data row8 col11\" >37.00</td>\n",
       "      <td id=\"T_28d33_row8_col12\" class=\"data row8 col12\" >104,236,282</td>\n",
       "    </tr>\n",
       "    <tr>\n",
       "      <th id=\"T_28d33_level0_row9\" class=\"row_heading level0 row9\" >127</th>\n",
       "      <td id=\"T_28d33_row9_col0\" class=\"data row9 col0\" >WHART</td>\n",
       "      <td id=\"T_28d33_row9_col1\" class=\"data row9 col1\" >2023-01-05</td>\n",
       "      <td id=\"T_28d33_row9_col2\" class=\"data row9 col2\" >2023-01-06</td>\n",
       "      <td id=\"T_28d33_row9_col3\" class=\"data row9 col3\" >2</td>\n",
       "      <td id=\"T_28d33_row9_col4\" class=\"data row9 col4\" >10.70</td>\n",
       "      <td id=\"T_28d33_row9_col5\" class=\"data row9 col5\" >10.70</td>\n",
       "      <td id=\"T_28d33_row9_col6\" class=\"data row9 col6\" >0.00</td>\n",
       "      <td id=\"T_28d33_row9_col7\" class=\"data row9 col7\" >0.00%</td>\n",
       "      <td id=\"T_28d33_row9_col8\" class=\"data row9 col8\" >0</td>\n",
       "      <td id=\"T_28d33_row9_col9\" class=\"data row9 col9\" >0</td>\n",
       "      <td id=\"T_28d33_row9_col10\" class=\"data row9 col10\" >10.90</td>\n",
       "      <td id=\"T_28d33_row9_col11\" class=\"data row9 col11\" >10.70</td>\n",
       "      <td id=\"T_28d33_row9_col12\" class=\"data row9 col12\" >1,791,615</td>\n",
       "    </tr>\n",
       "  </tbody>\n",
       "</table>\n"
      ],
      "text/plain": [
       "<pandas.io.formats.style.Styler at 0x19af726d130>"
      ]
     },
     "execution_count": 10,
     "metadata": {},
     "output_type": "execute_result"
    }
   ],
   "source": [
    "df.sample(10).style.format(format_dict)"
   ]
  },
  {
   "cell_type": "code",
   "execution_count": 44,
   "metadata": {},
   "outputs": [
    {
     "data": {
      "text/html": [
       "<style type=\"text/css\">\n",
       "</style>\n",
       "<table id=\"T_60931_\">\n",
       "  <thead>\n",
       "    <tr>\n",
       "      <th class=\"blank level0\" >&nbsp;</th>\n",
       "      <th class=\"col_heading level0 col0\" >name</th>\n",
       "      <th class=\"col_heading level0 col1\" >from_date</th>\n",
       "      <th class=\"col_heading level0 col2\" >to_date</th>\n",
       "      <th class=\"col_heading level0 col3\" >days</th>\n",
       "      <th class=\"col_heading level0 col4\" >from_price</th>\n",
       "      <th class=\"col_heading level0 col5\" >to_price</th>\n",
       "      <th class=\"col_heading level0 col6\" >diff</th>\n",
       "      <th class=\"col_heading level0 col7\" >pct</th>\n",
       "      <th class=\"col_heading level0 col8\" >spd</th>\n",
       "      <th class=\"col_heading level0 col9\" >avg</th>\n",
       "      <th class=\"col_heading level0 col10\" >max_price</th>\n",
       "      <th class=\"col_heading level0 col11\" >min_price</th>\n",
       "      <th class=\"col_heading level0 col12\" >ttl_qty</th>\n",
       "    </tr>\n",
       "  </thead>\n",
       "  <tbody>\n",
       "    <tr>\n",
       "      <th id=\"T_60931_level0_row0\" class=\"row_heading level0 row0\" >41</th>\n",
       "      <td id=\"T_60931_row0_col0\" class=\"data row0 col0\" >IVL</td>\n",
       "      <td id=\"T_60931_row0_col1\" class=\"data row0 col1\" >2023-01-09</td>\n",
       "      <td id=\"T_60931_row0_col2\" class=\"data row0 col2\" >2023-01-13</td>\n",
       "      <td id=\"T_60931_row0_col3\" class=\"data row0 col3\" >5</td>\n",
       "      <td id=\"T_60931_row0_col4\" class=\"data row0 col4\" >38.50</td>\n",
       "      <td id=\"T_60931_row0_col5\" class=\"data row0 col5\" >41.75</td>\n",
       "      <td id=\"T_60931_row0_col6\" class=\"data row0 col6\" >3.25</td>\n",
       "      <td id=\"T_60931_row0_col7\" class=\"data row0 col7\" >8.44%</td>\n",
       "      <td id=\"T_60931_row0_col8\" class=\"data row0 col8\" >13</td>\n",
       "      <td id=\"T_60931_row0_col9\" class=\"data row0 col9\" >2</td>\n",
       "      <td id=\"T_60931_row0_col10\" class=\"data row0 col10\" >42.25</td>\n",
       "      <td id=\"T_60931_row0_col11\" class=\"data row0 col11\" >37.75</td>\n",
       "      <td id=\"T_60931_row0_col12\" class=\"data row0 col12\" >158,282,681</td>\n",
       "    </tr>\n",
       "    <tr>\n",
       "      <th id=\"T_60931_level0_row1\" class=\"row_heading level0 row1\" >118</th>\n",
       "      <td id=\"T_60931_row1_col0\" class=\"data row1 col0\" >TMT</td>\n",
       "      <td id=\"T_60931_row1_col1\" class=\"data row1 col1\" >2023-01-06</td>\n",
       "      <td id=\"T_60931_row1_col2\" class=\"data row1 col2\" >2023-01-13</td>\n",
       "      <td id=\"T_60931_row1_col3\" class=\"data row1 col3\" >6</td>\n",
       "      <td id=\"T_60931_row1_col4\" class=\"data row1 col4\" >7.70</td>\n",
       "      <td id=\"T_60931_row1_col5\" class=\"data row1 col5\" >8.00</td>\n",
       "      <td id=\"T_60931_row1_col6\" class=\"data row1 col6\" >0.30</td>\n",
       "      <td id=\"T_60931_row1_col7\" class=\"data row1 col7\" >3.90%</td>\n",
       "      <td id=\"T_60931_row1_col8\" class=\"data row1 col8\" >6</td>\n",
       "      <td id=\"T_60931_row1_col9\" class=\"data row1 col9\" >1</td>\n",
       "      <td id=\"T_60931_row1_col10\" class=\"data row1 col10\" >8.05</td>\n",
       "      <td id=\"T_60931_row1_col11\" class=\"data row1 col11\" >7.55</td>\n",
       "      <td id=\"T_60931_row1_col12\" class=\"data row1 col12\" >1,913,871</td>\n",
       "    </tr>\n",
       "  </tbody>\n",
       "</table>\n"
      ],
      "text/plain": [
       "<pandas.io.formats.style.Styler at 0x19af84c24f0>"
      ]
     },
     "execution_count": 44,
     "metadata": {},
     "output_type": "execute_result"
    }
   ],
   "source": [
    "cols = 'name from_date to_date days from_price to_price pct spd max_price min_price ttl_qty'.split()\n",
    "yesterday = '2023-01-13'\n",
    "pct = 3.00\n",
    "df.query('to_date == @yesterday and pct >= @pct').style.format(format_dict)"
   ]
  },
  {
   "cell_type": "code",
   "execution_count": 49,
   "metadata": {},
   "outputs": [
    {
     "data": {
      "text/html": [
       "<style type=\"text/css\">\n",
       "</style>\n",
       "<table id=\"T_316b6_\">\n",
       "  <thead>\n",
       "    <tr>\n",
       "      <th class=\"blank level0\" >&nbsp;</th>\n",
       "      <th class=\"col_heading level0 col0\" >name</th>\n",
       "      <th class=\"col_heading level0 col1\" >from_date</th>\n",
       "      <th class=\"col_heading level0 col2\" >to_date</th>\n",
       "      <th class=\"col_heading level0 col3\" >days</th>\n",
       "      <th class=\"col_heading level0 col4\" >from_price</th>\n",
       "      <th class=\"col_heading level0 col5\" >to_price</th>\n",
       "      <th class=\"col_heading level0 col6\" >diff</th>\n",
       "      <th class=\"col_heading level0 col7\" >pct</th>\n",
       "      <th class=\"col_heading level0 col8\" >spd</th>\n",
       "      <th class=\"col_heading level0 col9\" >avg</th>\n",
       "      <th class=\"col_heading level0 col10\" >max_price</th>\n",
       "      <th class=\"col_heading level0 col11\" >min_price</th>\n",
       "      <th class=\"col_heading level0 col12\" >ttl_qty</th>\n",
       "    </tr>\n",
       "  </thead>\n",
       "  <tbody>\n",
       "    <tr>\n",
       "      <th id=\"T_316b6_level0_row0\" class=\"row_heading level0 row0\" >82</th>\n",
       "      <td id=\"T_316b6_row0_col0\" class=\"data row0 col0\" >PTTGC</td>\n",
       "      <td id=\"T_316b6_row0_col1\" class=\"data row0 col1\" >2023-01-12</td>\n",
       "      <td id=\"T_316b6_row0_col2\" class=\"data row0 col2\" >2023-01-13</td>\n",
       "      <td id=\"T_316b6_row0_col3\" class=\"data row0 col3\" >2</td>\n",
       "      <td id=\"T_316b6_row0_col4\" class=\"data row0 col4\" >50.25</td>\n",
       "      <td id=\"T_316b6_row0_col5\" class=\"data row0 col5\" >50.00</td>\n",
       "      <td id=\"T_316b6_row0_col6\" class=\"data row0 col6\" >-0.25</td>\n",
       "      <td id=\"T_316b6_row0_col7\" class=\"data row0 col7\" >-0.50%</td>\n",
       "      <td id=\"T_316b6_row0_col8\" class=\"data row0 col8\" >-1</td>\n",
       "      <td id=\"T_316b6_row0_col9\" class=\"data row0 col9\" >-1</td>\n",
       "      <td id=\"T_316b6_row0_col10\" class=\"data row0 col10\" >50.75</td>\n",
       "      <td id=\"T_316b6_row0_col11\" class=\"data row0 col11\" >49.25</td>\n",
       "      <td id=\"T_316b6_row0_col12\" class=\"data row0 col12\" >38,521,704</td>\n",
       "    </tr>\n",
       "    <tr>\n",
       "      <th id=\"T_316b6_level0_row1\" class=\"row_heading level0 row1\" >90</th>\n",
       "      <td id=\"T_316b6_row1_col0\" class=\"data row1 col0\" >SCC</td>\n",
       "      <td id=\"T_316b6_row1_col1\" class=\"data row1 col1\" >2023-01-12</td>\n",
       "      <td id=\"T_316b6_row1_col2\" class=\"data row1 col2\" >2023-01-13</td>\n",
       "      <td id=\"T_316b6_row1_col3\" class=\"data row1 col3\" >2</td>\n",
       "      <td id=\"T_316b6_row1_col4\" class=\"data row1 col4\" >356.00</td>\n",
       "      <td id=\"T_316b6_row1_col5\" class=\"data row1 col5\" >355.00</td>\n",
       "      <td id=\"T_316b6_row1_col6\" class=\"data row1 col6\" >-1.00</td>\n",
       "      <td id=\"T_316b6_row1_col7\" class=\"data row1 col7\" >-0.28%</td>\n",
       "      <td id=\"T_316b6_row1_col8\" class=\"data row1 col8\" >-1</td>\n",
       "      <td id=\"T_316b6_row1_col9\" class=\"data row1 col9\" >-1</td>\n",
       "      <td id=\"T_316b6_row1_col10\" class=\"data row1 col10\" >358.00</td>\n",
       "      <td id=\"T_316b6_row1_col11\" class=\"data row1 col11\" >353.00</td>\n",
       "      <td id=\"T_316b6_row1_col12\" class=\"data row1 col12\" >6,180,835</td>\n",
       "    </tr>\n",
       "  </tbody>\n",
       "</table>\n"
      ],
      "text/plain": [
       "<pandas.io.formats.style.Styler at 0x19af85d1f10>"
      ]
     },
     "execution_count": 49,
     "metadata": {},
     "output_type": "execute_result"
    }
   ],
   "source": [
    "pct = -0.01\n",
    "df.query('to_date == @yesterday and pct <= @pct').style.format(format_dict)"
   ]
  },
  {
   "cell_type": "code",
   "execution_count": null,
   "metadata": {},
   "outputs": [],
   "source": []
  }
 ],
 "metadata": {
  "anaconda-cloud": {},
  "kernelspec": {
   "display_name": "Python 3 (ipykernel)",
   "language": "python",
   "name": "python3"
  },
  "language_info": {
   "codemirror_mode": {
    "name": "ipython",
    "version": 3
   },
   "file_extension": ".py",
   "mimetype": "text/x-python",
   "name": "python",
   "nbconvert_exporter": "python",
   "pygments_lexer": "ipython3",
   "version": "3.8.11"
  }
 },
 "nbformat": 4,
 "nbformat_minor": 1
}
