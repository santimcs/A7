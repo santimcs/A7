{
 "cells": [
  {
   "cell_type": "markdown",
   "id": "3e1b59d2",
   "metadata": {},
   "source": [
    "### SET100, sSET, SETCLMV, SETHD, SETTHSI, SETWB, FIN, PROP, PFREIT, TRANS, ICT"
   ]
  },
  {
   "cell_type": "code",
   "execution_count": 1,
   "id": "8379c1b4",
   "metadata": {},
   "outputs": [
    {
     "data": {
      "text/plain": [
       "datetime.date(2023, 9, 1)"
      ]
     },
     "execution_count": 1,
     "metadata": {},
     "output_type": "execute_result"
    }
   ],
   "source": [
    "import glob\n",
    "import os\n",
    "from datetime import date, timedelta\n",
    "\n",
    "dts_path = \"/Users/User/Downloads/Datasets/\"\n",
    "today = date.today()\n",
    "today"
   ]
  },
  {
   "cell_type": "code",
   "execution_count": 2,
   "id": "ebb42b9f",
   "metadata": {},
   "outputs": [
    {
     "name": "stdout",
     "output_type": "stream",
     "text": [
      "Delete /Users/User/Downloads/Datasets\\StockQuotation (1).xlsx\n",
      "Delete /Users/User/Downloads/Datasets\\StockQuotation (10).xlsx\n",
      "Delete /Users/User/Downloads/Datasets\\StockQuotation (2).xlsx\n",
      "Delete /Users/User/Downloads/Datasets\\StockQuotation (3).xlsx\n",
      "Delete /Users/User/Downloads/Datasets\\StockQuotation (4).xlsx\n",
      "Delete /Users/User/Downloads/Datasets\\StockQuotation (5).xlsx\n",
      "Delete /Users/User/Downloads/Datasets\\StockQuotation (6).xlsx\n",
      "Delete /Users/User/Downloads/Datasets\\StockQuotation (7).xlsx\n",
      "Delete /Users/User/Downloads/Datasets\\StockQuotation (8).xlsx\n",
      "Delete /Users/User/Downloads/Datasets\\StockQuotation (9).xlsx\n",
      "Delete /Users/User/Downloads/Datasets\\StockQuotation.xlsx\n"
     ]
    }
   ],
   "source": [
    "for filename in glob.glob(os.path.join(dts_path, '*.xlsx')):\n",
    "    print(f'Delete {filename}')\n",
    "    os.remove(filename)"
   ]
  },
  {
   "cell_type": "code",
   "execution_count": null,
   "id": "f1dd6a1d",
   "metadata": {},
   "outputs": [],
   "source": []
  }
 ],
 "metadata": {
  "kernelspec": {
   "display_name": "Python 3 (ipykernel)",
   "language": "python",
   "name": "python3"
  },
  "language_info": {
   "codemirror_mode": {
    "name": "ipython",
    "version": 3
   },
   "file_extension": ".py",
   "mimetype": "text/x-python",
   "name": "python",
   "nbconvert_exporter": "python",
   "pygments_lexer": "ipython3",
   "version": "3.8.11"
  }
 },
 "nbformat": 4,
 "nbformat_minor": 5
}
