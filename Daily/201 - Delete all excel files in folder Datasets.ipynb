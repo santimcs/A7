{
 "cells": [
  {
   "cell_type": "markdown",
   "id": "d1d986cd",
   "metadata": {},
   "source": [
    "### SET100, sSET, SETCLMV, SETHD, SETTHSI, SETWB, FIN, PFREIT, TRANS, ICT"
   ]
  },
  {
   "cell_type": "code",
   "execution_count": 1,
   "id": "8379c1b4",
   "metadata": {},
   "outputs": [
    {
     "data": {
      "text/plain": [
       "datetime.date(2023, 7, 7)"
      ]
     },
     "execution_count": 1,
     "metadata": {},
     "output_type": "execute_result"
    }
   ],
   "source": [
    "import glob\n",
    "import os\n",
    "from datetime import date, timedelta\n",
    "\n",
    "dts_path = \"/Users/User/Downloads/Datasets/\"\n",
    "today = date.today()\n",
    "today"
   ]
  },
  {
   "cell_type": "code",
   "execution_count": 2,
   "id": "ebb42b9f",
   "metadata": {},
   "outputs": [],
   "source": [
    "for filename in glob.glob(os.path.join(dts_path, '*.xlsx')):\n",
    "    print(f'Delete {filename}')\n",
    "    os.remove(filename)"
   ]
  },
  {
   "cell_type": "code",
   "execution_count": null,
   "id": "f1dd6a1d",
   "metadata": {},
   "outputs": [],
   "source": []
  }
 ],
 "metadata": {
  "kernelspec": {
   "display_name": "Python 3 (ipykernel)",
   "language": "python",
   "name": "python3"
  },
  "language_info": {
   "codemirror_mode": {
    "name": "ipython",
    "version": 3
   },
   "file_extension": ".py",
   "mimetype": "text/x-python",
   "name": "python",
   "nbconvert_exporter": "python",
   "pygments_lexer": "ipython3",
   "version": "3.8.11"
  }
 },
 "nbformat": 4,
 "nbformat_minor": 5
}
