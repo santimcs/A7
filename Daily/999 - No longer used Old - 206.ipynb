{
 "cells": [
  {
   "cell_type": "code",
   "execution_count": 1,
   "id": "2a2bb67d",
   "metadata": {},
   "outputs": [
    {
     "data": {
      "text/plain": [
       "(datetime.date(2023, 3, 3), datetime.date(2023, 3, 2))"
      ]
     },
     "execution_count": 1,
     "metadata": {},
     "output_type": "execute_result"
    }
   ],
   "source": [
    "import glob\n",
    "import os\n",
    "import pandas as pd\n",
    "from datetime import date, timedelta\n",
    "from pandas.tseries.offsets import *\n",
    "from sqlalchemy import create_engine\n",
    "\n",
    "data_path = \"../data/\"\n",
    "osd_path = \"\\\\Users\\\\User\\\\OneDrive\\\\Documents\\\\obsidian-git-sync\\\\Data\\\\\"\n",
    "\n",
    "pd.options.display.max_rows = 11\n",
    "today = date.today()\n",
    "yesterday = today - timedelta(days=1)\n",
    "today, yesterday"
   ]
  },
  {
   "cell_type": "code",
   "execution_count": 2,
   "id": "20838b19",
   "metadata": {},
   "outputs": [
    {
     "name": "stdout",
     "output_type": "stream",
     "text": [
      "today: 2023-02-09\n",
      "yesterday: 2023-02-08\n"
     ]
    }
   ],
   "source": [
    "# convert the timedelta object to a BusinessDay object\n",
    "num_business_days = BDay(1)\n",
    "yesterday = today - num_business_days\n",
    "print(f'today: {today}')\n",
    "yesterday = yesterday.date()\n",
    "print(f'yesterday: {yesterday}')"
   ]
  },
  {
   "cell_type": "code",
   "execution_count": 3,
   "id": "36a884ca",
   "metadata": {},
   "outputs": [
    {
     "data": {
      "text/plain": [
       "'../data/Price.csv'"
      ]
     },
     "execution_count": 3,
     "metadata": {},
     "output_type": "execute_result"
    }
   ],
   "source": [
    "file_name = \"Price.csv\"\n",
    "input_file = data_path + file_name\n",
    "input_file"
   ]
  },
  {
   "cell_type": "code",
   "execution_count": 4,
   "id": "70631a80",
   "metadata": {},
   "outputs": [
    {
     "data": {
      "text/html": [
       "<div>\n",
       "<style scoped>\n",
       "    .dataframe tbody tr th:only-of-type {\n",
       "        vertical-align: middle;\n",
       "    }\n",
       "\n",
       "    .dataframe tbody tr th {\n",
       "        vertical-align: top;\n",
       "    }\n",
       "\n",
       "    .dataframe thead th {\n",
       "        text-align: right;\n",
       "    }\n",
       "</style>\n",
       "<table border=\"1\" class=\"dataframe\">\n",
       "  <thead>\n",
       "    <tr style=\"text-align: right;\">\n",
       "      <th></th>\n",
       "      <th>Symbol</th>\n",
       "      <th>Date</th>\n",
       "      <th>Last</th>\n",
       "      <th>High</th>\n",
       "      <th>Low</th>\n",
       "      <th>Total-Volume</th>\n",
       "      <th>Open</th>\n",
       "    </tr>\n",
       "  </thead>\n",
       "  <tbody>\n",
       "    <tr>\n",
       "      <th>0</th>\n",
       "      <td>name</td>\n",
       "      <td>date</td>\n",
       "      <td>price</td>\n",
       "      <td>high</td>\n",
       "      <td>low</td>\n",
       "      <td>volume</td>\n",
       "      <td>open</td>\n",
       "    </tr>\n",
       "    <tr>\n",
       "      <th>1</th>\n",
       "      <td>ACE</td>\n",
       "      <td>2023-02-09</td>\n",
       "      <td>2.52</td>\n",
       "      <td>2.56</td>\n",
       "      <td>2.5</td>\n",
       "      <td>25076913</td>\n",
       "      <td>2.54</td>\n",
       "    </tr>\n",
       "    <tr>\n",
       "      <th>2</th>\n",
       "      <td>ADVANC</td>\n",
       "      <td>2023-02-09</td>\n",
       "      <td>199.5</td>\n",
       "      <td>201.0</td>\n",
       "      <td>194.0</td>\n",
       "      <td>11698104</td>\n",
       "      <td>195.0</td>\n",
       "    </tr>\n",
       "    <tr>\n",
       "      <th>3</th>\n",
       "      <td>AH</td>\n",
       "      <td>2023-02-09</td>\n",
       "      <td>32.0</td>\n",
       "      <td>32.5</td>\n",
       "      <td>31.25</td>\n",
       "      <td>1470035</td>\n",
       "      <td>31.75</td>\n",
       "    </tr>\n",
       "    <tr>\n",
       "      <th>4</th>\n",
       "      <td>AIE</td>\n",
       "      <td>2023-02-09</td>\n",
       "      <td>3.04</td>\n",
       "      <td>3.12</td>\n",
       "      <td>2.96</td>\n",
       "      <td>12509482</td>\n",
       "      <td>3.0</td>\n",
       "    </tr>\n",
       "    <tr>\n",
       "      <th>...</th>\n",
       "      <td>...</td>\n",
       "      <td>...</td>\n",
       "      <td>...</td>\n",
       "      <td>...</td>\n",
       "      <td>...</td>\n",
       "      <td>...</td>\n",
       "      <td>...</td>\n",
       "    </tr>\n",
       "    <tr>\n",
       "      <th>188</th>\n",
       "      <td>WHAIR</td>\n",
       "      <td>2023-02-09</td>\n",
       "      <td>7.95</td>\n",
       "      <td>7.95</td>\n",
       "      <td>7.9</td>\n",
       "      <td>262747</td>\n",
       "      <td>7.95</td>\n",
       "    </tr>\n",
       "    <tr>\n",
       "      <th>189</th>\n",
       "      <td>WHART</td>\n",
       "      <td>2023-02-09</td>\n",
       "      <td>11.6</td>\n",
       "      <td>11.7</td>\n",
       "      <td>11.5</td>\n",
       "      <td>927026</td>\n",
       "      <td>11.7</td>\n",
       "    </tr>\n",
       "    <tr>\n",
       "      <th>190</th>\n",
       "      <td>WHAUP</td>\n",
       "      <td>2023-02-09</td>\n",
       "      <td>4.1</td>\n",
       "      <td>4.1</td>\n",
       "      <td>4.06</td>\n",
       "      <td>654965</td>\n",
       "      <td>4.08</td>\n",
       "    </tr>\n",
       "    <tr>\n",
       "      <th>191</th>\n",
       "      <td>WICE</td>\n",
       "      <td>2023-02-09</td>\n",
       "      <td>11.4</td>\n",
       "      <td>11.5</td>\n",
       "      <td>11.1</td>\n",
       "      <td>4658288</td>\n",
       "      <td>11.4</td>\n",
       "    </tr>\n",
       "    <tr>\n",
       "      <th>192</th>\n",
       "      <td>WORK</td>\n",
       "      <td>2023-02-09</td>\n",
       "      <td>18.3</td>\n",
       "      <td>18.5</td>\n",
       "      <td>18.3</td>\n",
       "      <td>287605</td>\n",
       "      <td>18.5</td>\n",
       "    </tr>\n",
       "  </tbody>\n",
       "</table>\n",
       "<p>193 rows × 7 columns</p>\n",
       "</div>"
      ],
      "text/plain": [
       "     Symbol        Date   Last   High    Low Total-Volume   Open\n",
       "0      name        date  price   high    low       volume   open\n",
       "1       ACE  2023-02-09   2.52   2.56    2.5     25076913   2.54\n",
       "2    ADVANC  2023-02-09  199.5  201.0  194.0     11698104  195.0\n",
       "3        AH  2023-02-09   32.0   32.5  31.25      1470035  31.75\n",
       "4       AIE  2023-02-09   3.04   3.12   2.96     12509482    3.0\n",
       "..      ...         ...    ...    ...    ...          ...    ...\n",
       "188   WHAIR  2023-02-09   7.95   7.95    7.9       262747   7.95\n",
       "189   WHART  2023-02-09   11.6   11.7   11.5       927026   11.7\n",
       "190   WHAUP  2023-02-09    4.1    4.1   4.06       654965   4.08\n",
       "191    WICE  2023-02-09   11.4   11.5   11.1      4658288   11.4\n",
       "192    WORK  2023-02-09   18.3   18.5   18.3       287605   18.5\n",
       "\n",
       "[193 rows x 7 columns]"
      ]
     },
     "execution_count": 4,
     "metadata": {},
     "output_type": "execute_result"
    }
   ],
   "source": [
    "colt = 'Symbol Date Last High Low Total-Volume Open'.split()\n",
    "prices = pd.read_csv(input_file, header=None)\n",
    "prices.columns = colt\n",
    "prices"
   ]
  },
  {
   "cell_type": "code",
   "execution_count": 5,
   "id": "d27ca4cf",
   "metadata": {},
   "outputs": [
    {
     "data": {
      "text/plain": [
       "Index(['symbol', 'date', 'last', 'high', 'low', 'total-volume', 'open'], dtype='object')"
      ]
     },
     "execution_count": 5,
     "metadata": {},
     "output_type": "execute_result"
    }
   ],
   "source": [
    "prices.columns = prices.columns.str.lower()\n",
    "prices.columns"
   ]
  },
  {
   "cell_type": "code",
   "execution_count": 6,
   "id": "cf5eb73d",
   "metadata": {},
   "outputs": [
    {
     "data": {
      "text/plain": [
       "'../data/orders.csv'"
      ]
     },
     "execution_count": 6,
     "metadata": {},
     "output_type": "execute_result"
    }
   ],
   "source": [
    "file_name = \"orders.csv\"\n",
    "input_file = data_path + file_name\n",
    "input_file"
   ]
  },
  {
   "cell_type": "code",
   "execution_count": 7,
   "id": "87c42aa7",
   "metadata": {},
   "outputs": [
    {
     "data": {
      "text/html": [
       "<div>\n",
       "<style scoped>\n",
       "    .dataframe tbody tr th:only-of-type {\n",
       "        vertical-align: middle;\n",
       "    }\n",
       "\n",
       "    .dataframe tbody tr th {\n",
       "        vertical-align: top;\n",
       "    }\n",
       "\n",
       "    .dataframe thead th {\n",
       "        text-align: right;\n",
       "    }\n",
       "</style>\n",
       "<table border=\"1\" class=\"dataframe\">\n",
       "  <thead>\n",
       "    <tr style=\"text-align: right;\">\n",
       "      <th></th>\n",
       "      <th>trade</th>\n",
       "      <th>name</th>\n",
       "      <th>qty</th>\n",
       "      <th>price</th>\n",
       "      <th>active</th>\n",
       "      <th>reason</th>\n",
       "      <th>market</th>\n",
       "      <th>xdate</th>\n",
       "    </tr>\n",
       "  </thead>\n",
       "  <tbody>\n",
       "    <tr>\n",
       "      <th>0</th>\n",
       "      <td>B</td>\n",
       "      <td>BANPU</td>\n",
       "      <td>6000</td>\n",
       "      <td>10.80</td>\n",
       "      <td>1</td>\n",
       "      <td>DTD</td>\n",
       "      <td>SET50</td>\n",
       "      <td>2023-04-08</td>\n",
       "    </tr>\n",
       "    <tr>\n",
       "      <th>1</th>\n",
       "      <td>B</td>\n",
       "      <td>KCE</td>\n",
       "      <td>1000</td>\n",
       "      <td>47.00</td>\n",
       "      <td>1</td>\n",
       "      <td>CUT</td>\n",
       "      <td>SET100</td>\n",
       "      <td>2023-03-21</td>\n",
       "    </tr>\n",
       "    <tr>\n",
       "      <th>2</th>\n",
       "      <td>B</td>\n",
       "      <td>RCL</td>\n",
       "      <td>3000</td>\n",
       "      <td>28.75</td>\n",
       "      <td>1</td>\n",
       "      <td>HD</td>\n",
       "      <td>SET100</td>\n",
       "      <td>2023-03-23</td>\n",
       "    </tr>\n",
       "    <tr>\n",
       "      <th>3</th>\n",
       "      <td>B</td>\n",
       "      <td>CK</td>\n",
       "      <td>4500</td>\n",
       "      <td>22.50</td>\n",
       "      <td>1</td>\n",
       "      <td>5pct</td>\n",
       "      <td>SET100</td>\n",
       "      <td>2022-12-22</td>\n",
       "    </tr>\n",
       "    <tr>\n",
       "      <th>4</th>\n",
       "      <td>B</td>\n",
       "      <td>CKP</td>\n",
       "      <td>20000</td>\n",
       "      <td>4.50</td>\n",
       "      <td>1</td>\n",
       "      <td>3L</td>\n",
       "      <td>SET100</td>\n",
       "      <td>2022-12-22</td>\n",
       "    </tr>\n",
       "    <tr>\n",
       "      <th>...</th>\n",
       "      <td>...</td>\n",
       "      <td>...</td>\n",
       "      <td>...</td>\n",
       "      <td>...</td>\n",
       "      <td>...</td>\n",
       "      <td>...</td>\n",
       "      <td>...</td>\n",
       "      <td>...</td>\n",
       "    </tr>\n",
       "    <tr>\n",
       "      <th>16</th>\n",
       "      <td>S</td>\n",
       "      <td>IVL</td>\n",
       "      <td>2400</td>\n",
       "      <td>44.25</td>\n",
       "      <td>1</td>\n",
       "      <td>DTD</td>\n",
       "      <td>SET50</td>\n",
       "      <td>2023-05-06</td>\n",
       "    </tr>\n",
       "    <tr>\n",
       "      <th>17</th>\n",
       "      <td>S</td>\n",
       "      <td>JMART</td>\n",
       "      <td>3600</td>\n",
       "      <td>41.50</td>\n",
       "      <td>1</td>\n",
       "      <td>DTD</td>\n",
       "      <td>SET50</td>\n",
       "      <td>2023-04-19</td>\n",
       "    </tr>\n",
       "    <tr>\n",
       "      <th>18</th>\n",
       "      <td>S</td>\n",
       "      <td>JMT</td>\n",
       "      <td>1500</td>\n",
       "      <td>60.00</td>\n",
       "      <td>1</td>\n",
       "      <td>DTD</td>\n",
       "      <td>SET50</td>\n",
       "      <td>2023-04-19</td>\n",
       "    </tr>\n",
       "    <tr>\n",
       "      <th>19</th>\n",
       "      <td>S</td>\n",
       "      <td>SINGER</td>\n",
       "      <td>1200</td>\n",
       "      <td>29.25</td>\n",
       "      <td>1</td>\n",
       "      <td>DTD</td>\n",
       "      <td>SET100</td>\n",
       "      <td>2023-04-29</td>\n",
       "    </tr>\n",
       "    <tr>\n",
       "      <th>20</th>\n",
       "      <td>B</td>\n",
       "      <td>CPNREIT</td>\n",
       "      <td>10000</td>\n",
       "      <td>17.90</td>\n",
       "      <td>1</td>\n",
       "      <td>RD05pct</td>\n",
       "      <td>PF&amp;REIT</td>\n",
       "      <td>2022-02-02</td>\n",
       "    </tr>\n",
       "  </tbody>\n",
       "</table>\n",
       "<p>21 rows × 8 columns</p>\n",
       "</div>"
      ],
      "text/plain": [
       "   trade     name    qty  price  active   reason   market       xdate\n",
       "0      B    BANPU   6000  10.80       1      DTD    SET50  2023-04-08\n",
       "1      B      KCE   1000  47.00       1      CUT   SET100  2023-03-21\n",
       "2      B      RCL   3000  28.75       1       HD   SET100  2023-03-23\n",
       "3      B       CK   4500  22.50       1     5pct   SET100  2022-12-22\n",
       "4      B      CKP  20000   4.50       1       3L   SET100  2022-12-22\n",
       "..   ...      ...    ...    ...     ...      ...      ...         ...\n",
       "16     S      IVL   2400  44.25       1      DTD    SET50  2023-05-06\n",
       "17     S    JMART   3600  41.50       1      DTD    SET50  2023-04-19\n",
       "18     S      JMT   1500  60.00       1      DTD    SET50  2023-04-19\n",
       "19     S   SINGER   1200  29.25       1      DTD   SET100  2023-04-29\n",
       "20     B  CPNREIT  10000  17.90       1  RD05pct  PF&REIT  2022-02-02\n",
       "\n",
       "[21 rows x 8 columns]"
      ]
     },
     "execution_count": 7,
     "metadata": {},
     "output_type": "execute_result"
    }
   ],
   "source": [
    "orders = pd.read_csv(input_file)\n",
    "orders"
   ]
  },
  {
   "cell_type": "code",
   "execution_count": 8,
   "id": "8216560c",
   "metadata": {},
   "outputs": [
    {
     "data": {
      "text/plain": [
       "Index(['trade', 'name', 'qty', 'price', 'active', 'reason', 'market', 'xdate',\n",
       "       'symbol', 'date', 'last', 'high', 'low', 'total-volume', 'open'],\n",
       "      dtype='object')"
      ]
     },
     "execution_count": 8,
     "metadata": {},
     "output_type": "execute_result"
    }
   ],
   "source": [
    "df = pd.merge(orders, prices, left_on='name', right_on='symbol', how='inner')\n",
    "df.columns"
   ]
  },
  {
   "cell_type": "code",
   "execution_count": null,
   "id": "5470edfd",
   "metadata": {},
   "outputs": [],
   "source": [
    "df"
   ]
  },
  {
   "cell_type": "code",
   "execution_count": null,
   "id": "a6d51e67",
   "metadata": {},
   "outputs": [],
   "source": []
  }
 ],
 "metadata": {
  "kernelspec": {
   "display_name": "Python 3 (ipykernel)",
   "language": "python",
   "name": "python3"
  },
  "language_info": {
   "codemirror_mode": {
    "name": "ipython",
    "version": 3
   },
   "file_extension": ".py",
   "mimetype": "text/x-python",
   "name": "python",
   "nbconvert_exporter": "python",
   "pygments_lexer": "ipython3",
   "version": "3.8.11"
  }
 },
 "nbformat": 4,
 "nbformat_minor": 5
}
