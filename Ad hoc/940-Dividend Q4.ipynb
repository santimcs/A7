{
 "cells": [
  {
   "cell_type": "code",
   "execution_count": 1,
   "metadata": {},
   "outputs": [
    {
     "data": {
      "text/plain": [
       "(datetime.date(2023, 5, 12), datetime.date(2023, 5, 11))"
      ]
     },
     "execution_count": 1,
     "metadata": {},
     "output_type": "execute_result"
    }
   ],
   "source": [
    "import pandas as pd\n",
    "from sqlalchemy import create_engine\n",
    "from datetime import date, timedelta\n",
    "from pandas.tseries.offsets import BDay\n",
    "import calendar\n",
    "\n",
    "engine = create_engine(\"mysql+pymysql://root:@localhost:3306/stock\")\n",
    "const = engine.connect()\n",
    "\n",
    "data_path = \"../data/\"\n",
    "csv_path = \"\\\\Users\\\\User\\\\iCloudDrive\\\\\"\n",
    "one_path = \"\\\\Users\\\\User\\\\OneDrive\\\\Documents\\\\Data\\\\\"\n",
    "osd_path = \"\\\\Users\\\\User\\\\OneDrive\\\\Documents\\\\obsidian-git-sync\\\\Data\\\\\"\n",
    "\n",
    "today = date.today()\n",
    "yesterday = today - timedelta(days=1)\n",
    "today, yesterday"
   ]
  },
  {
   "cell_type": "code",
   "execution_count": 2,
   "metadata": {},
   "outputs": [
    {
     "data": {
      "text/plain": [
       "(datetime.date(2023, 3, 19), datetime.date(2023, 3, 17))"
      ]
     },
     "execution_count": 2,
     "metadata": {},
     "output_type": "execute_result"
    }
   ],
   "source": [
    "num_business_days = BDay(1)\n",
    "yesterday = today - num_business_days\n",
    "yesterday = yesterday.date()\n",
    "today, yesterday"
   ]
  },
  {
   "cell_type": "code",
   "execution_count": 3,
   "metadata": {},
   "outputs": [],
   "source": [
    "format_dict = {    \n",
    "    'shares':'{:,}',    \n",
    "    'q4':'{:.4f}','q3':'{:.4f}','q2':'{:.4f}','q1':'{:.4f}','dividend':'{:.4f}','qtrly':'{:.4f}',\n",
    "    'price':'{:.2f}',    \n",
    "    'amount':'{:,.2f}','net':'{:,.2f}','cost_amt':'{:,.2f}',\n",
    "    'yield':'{:,.2f}%','pct':'{:,.2f}%',\n",
    "    'xdate':'{:%Y-%m-%d}','paiddate':'{:%Y-%m-%d}',\n",
    "              }"
   ]
  },
  {
   "cell_type": "code",
   "execution_count": 4,
   "metadata": {},
   "outputs": [
    {
     "data": {
      "text/plain": [
       "NAME         object\n",
       "Q4          float64\n",
       "Q3          float64\n",
       "Q2          float64\n",
       "Q1          float64\n",
       "DIVIDEND    float64\n",
       "PRICE       float64\n",
       "PERCENT     float64\n",
       "SHARES      float64\n",
       "XDATE        object\n",
       "PAIDDATE     object\n",
       "KIND         object\n",
       "ACTUAL        int64\n",
       "dtype: object"
      ]
     },
     "execution_count": 4,
     "metadata": {},
     "output_type": "execute_result"
    }
   ],
   "source": [
    "sql = \"\"\"\n",
    "SELECT *\n",
    "FROM dividend\n",
    "LIMIT 1\"\"\"\n",
    "struct = pd.read_sql(sql, const)\n",
    "struct.dtypes"
   ]
  },
  {
   "cell_type": "markdown",
   "metadata": {},
   "source": [
    "### New dividend stock"
   ]
  },
  {
   "cell_type": "code",
   "execution_count": 5,
   "metadata": {},
   "outputs": [
    {
     "data": {
      "text/html": [
       "<style type=\"text/css\">\n",
       "</style>\n",
       "<table id=\"T_228a7_\">\n",
       "  <thead>\n",
       "    <tr>\n",
       "      <th class=\"blank level0\" >&nbsp;</th>\n",
       "      <th class=\"col_heading level0 col0\" >name</th>\n",
       "      <th class=\"col_heading level0 col1\" >q4</th>\n",
       "      <th class=\"col_heading level0 col2\" >q3</th>\n",
       "      <th class=\"col_heading level0 col3\" >q2</th>\n",
       "      <th class=\"col_heading level0 col4\" >q1</th>\n",
       "      <th class=\"col_heading level0 col5\" >dividend</th>\n",
       "      <th class=\"col_heading level0 col6\" >shares</th>\n",
       "      <th class=\"col_heading level0 col7\" >xdate</th>\n",
       "      <th class=\"col_heading level0 col8\" >paiddate</th>\n",
       "      <th class=\"col_heading level0 col9\" >kind</th>\n",
       "      <th class=\"col_heading level0 col10\" >actual</th>\n",
       "    </tr>\n",
       "  </thead>\n",
       "  <tbody>\n",
       "  </tbody>\n",
       "</table>\n"
      ],
      "text/plain": [
       "<pandas.io.formats.style.Styler at 0x25abd5aca90>"
      ]
     },
     "execution_count": 5,
     "metadata": {},
     "output_type": "execute_result"
    }
   ],
   "source": [
    "name = 'TTB'\n",
    "sql = \"\"\"\n",
    "SELECT * \n",
    "FROM DIVIDEND\n",
    "WHERE name = '%s'\n",
    "\"\"\"\n",
    "sql = sql % name\n",
    "dividend = pd.read_sql(sql, const)\n",
    "dividend.drop(['PRICE', 'PERCENT'], axis=1, inplace=True)\n",
    "dividend.columns = dividend.columns.str.lower()\n",
    "dividend['shares'] = dividend['shares'].astype('int64')\n",
    "dividend['xdate'] = pd.to_datetime(dividend['xdate'])\n",
    "dividend['paiddate'] = pd.to_datetime(dividend['paiddate'])\n",
    "dividend.style.format(format_dict)"
   ]
  },
  {
   "cell_type": "code",
   "execution_count": 6,
   "metadata": {},
   "outputs": [
    {
     "data": {
      "text/plain": [
       "1"
      ]
     },
     "execution_count": 6,
     "metadata": {},
     "output_type": "execute_result"
    }
   ],
   "source": [
    "sqlIns = \"\"\"\n",
    "INSERT INTO dividend\n",
    "VALUES('TTB',.053,0,0,0,.053,0,0,000,'2023-04-18','2023-05-03','',0)\n",
    "\"\"\"\n",
    "rp = const.execute(sqlIns)\n",
    "rp.rowcount"
   ]
  },
  {
   "cell_type": "markdown",
   "metadata": {},
   "source": [
    "### Start of Update dividend"
   ]
  },
  {
   "cell_type": "code",
   "execution_count": 5,
   "metadata": {},
   "outputs": [],
   "source": [
    "def update_dividend1(q4,XDATE,PAIDDATE,actual,name):\n",
    "    sql = \"UPDATE dividend SET q4 = %s, dividend = q1+q2+q3+q4, XDATE = '%s', PAIDDATE = '%s', actual = %s WHERE name = '%s'\"\n",
    "    sql = sql % (q4,XDATE, PAIDDATE, actual,name)\n",
    "    rp = const.execute(sql)\n",
    "    return \"Records updated = \" + str(rp.rowcount)"
   ]
  },
  {
   "cell_type": "code",
   "execution_count": 6,
   "metadata": {
    "scrolled": true
   },
   "outputs": [
    {
     "data": {
      "text/html": [
       "<style type=\"text/css\">\n",
       "</style>\n",
       "<table id=\"T_3201c_\">\n",
       "  <thead>\n",
       "    <tr>\n",
       "      <th class=\"blank level0\" >&nbsp;</th>\n",
       "      <th class=\"col_heading level0 col0\" >name</th>\n",
       "      <th class=\"col_heading level0 col1\" >q4</th>\n",
       "      <th class=\"col_heading level0 col2\" >q3</th>\n",
       "      <th class=\"col_heading level0 col3\" >q2</th>\n",
       "      <th class=\"col_heading level0 col4\" >q1</th>\n",
       "      <th class=\"col_heading level0 col5\" >dividend</th>\n",
       "      <th class=\"col_heading level0 col6\" >shares</th>\n",
       "      <th class=\"col_heading level0 col7\" >xdate</th>\n",
       "      <th class=\"col_heading level0 col8\" >paiddate</th>\n",
       "      <th class=\"col_heading level0 col9\" >kind</th>\n",
       "      <th class=\"col_heading level0 col10\" >actual</th>\n",
       "    </tr>\n",
       "  </thead>\n",
       "  <tbody>\n",
       "    <tr>\n",
       "      <th id=\"T_3201c_level0_row0\" class=\"row_heading level0 row0\" >0</th>\n",
       "      <td id=\"T_3201c_row0_col0\" class=\"data row0 col0\" >KCE</td>\n",
       "      <td id=\"T_3201c_row0_col1\" class=\"data row0 col1\" >1.0000</td>\n",
       "      <td id=\"T_3201c_row0_col2\" class=\"data row0 col2\" >0.0000</td>\n",
       "      <td id=\"T_3201c_row0_col3\" class=\"data row0 col3\" >1.0000</td>\n",
       "      <td id=\"T_3201c_row0_col4\" class=\"data row0 col4\" >0.0000</td>\n",
       "      <td id=\"T_3201c_row0_col5\" class=\"data row0 col5\" >2.0000</td>\n",
       "      <td id=\"T_3201c_row0_col6\" class=\"data row0 col6\" >10,000</td>\n",
       "      <td id=\"T_3201c_row0_col7\" class=\"data row0 col7\" >2023-03-21</td>\n",
       "      <td id=\"T_3201c_row0_col8\" class=\"data row0 col8\" >2023-05-09</td>\n",
       "      <td id=\"T_3201c_row0_col9\" class=\"data row0 col9\" ></td>\n",
       "      <td id=\"T_3201c_row0_col10\" class=\"data row0 col10\" >0</td>\n",
       "    </tr>\n",
       "  </tbody>\n",
       "</table>\n"
      ],
      "text/plain": [
       "<pandas.io.formats.style.Styler at 0x18f3bdaa580>"
      ]
     },
     "execution_count": 6,
     "metadata": {},
     "output_type": "execute_result"
    }
   ],
   "source": [
    "name = 'KCE'\n",
    "sql = \"\"\"\n",
    "SELECT * FROM DIVIDEND WHERE name = '%s'\"\"\"\n",
    "sql = sql % name\n",
    "dividend = pd.read_sql(sql, const)\n",
    "dividend.drop(['PRICE', 'PERCENT'], axis=1, inplace=True)\n",
    "dividend.columns = dividend.columns.str.lower()\n",
    "dividend['shares'] = dividend['shares'].astype('int64')\n",
    "dividend['xdate'] = pd.to_datetime(dividend['xdate'])\n",
    "dividend['paiddate'] = pd.to_datetime(dividend['paiddate'])\n",
    "dividend.style.format(format_dict)"
   ]
  },
  {
   "cell_type": "code",
   "execution_count": 7,
   "metadata": {},
   "outputs": [
    {
     "data": {
      "text/plain": [
       "'Records updated = 1'"
      ]
     },
     "execution_count": 7,
     "metadata": {},
     "output_type": "execute_result"
    }
   ],
   "source": [
    "q4 = 0.6\n",
    "XDATE = '2023-03-20'\n",
    "PAIDDATE = '2023-05-12'\n",
    "actual = 1\n",
    "\n",
    "update_dividend1(q4,XDATE,PAIDDATE,actual,name)"
   ]
  },
  {
   "cell_type": "code",
   "execution_count": null,
   "metadata": {},
   "outputs": [],
   "source": [
    "def update_dividend2(shares,q4,actual,name):\n",
    "    sql = \"UPDATE dividend SET shares = %s, q4 = %s, dividend=q1+q2+q3+q4, actual = %s WHERE name = '%s'\"\n",
    "    sql = sql % (shares, q4, actual, name)\n",
    "    rp = const.execute(sql)\n",
    "    return \"Records updated = \" + str(rp.rowcount)"
   ]
  },
  {
   "cell_type": "code",
   "execution_count": null,
   "metadata": {},
   "outputs": [],
   "source": [
    "name = 'DTAC'\n",
    "sql = \"\"\"\n",
    "SELECT * \n",
    "FROM DIVIDEND\n",
    "WHERE name = '%s'\n",
    "\"\"\"\n",
    "sql = sql % name\n",
    "dividend = pd.read_sql(sql, const)\n",
    "dividend.drop(['PRICE', 'PERCENT'], axis=1, inplace=True)\n",
    "dividend.columns = dividend.columns.str.lower()\n",
    "dividend['shares'] = dividend['shares'].astype('int64')\n",
    "dividend['xdate'] = pd.to_datetime(dividend['xdate'])\n",
    "dividend['paiddate'] = pd.to_datetime(dividend['paiddate'])\n",
    "dividend.style.format(format_dict)"
   ]
  },
  {
   "cell_type": "code",
   "execution_count": null,
   "metadata": {},
   "outputs": [],
   "source": [
    "shares = 0000\n",
    "q4 = 1.05\n",
    "actual = 0"
   ]
  },
  {
   "cell_type": "code",
   "execution_count": null,
   "metadata": {},
   "outputs": [],
   "source": [
    "update_dividend2(shares,q4,actual,name)"
   ]
  },
  {
   "cell_type": "markdown",
   "metadata": {},
   "source": [
    "### Toggle actual status"
   ]
  },
  {
   "cell_type": "code",
   "execution_count": 2,
   "metadata": {},
   "outputs": [
    {
     "data": {
      "text/plain": [
       "1"
      ]
     },
     "execution_count": 2,
     "metadata": {},
     "output_type": "execute_result"
    }
   ],
   "source": [
    "name = 'SENA'\n",
    "actual = 0\n",
    "sqlUpd = \"UPDATE dividend SET actual = %s WHERE name = '%s'\"\n",
    "sqlUpd = sqlUpd % (actual, name)\n",
    "rp = const.execute(sqlUpd)\n",
    "rp.rowcount"
   ]
  },
  {
   "cell_type": "markdown",
   "metadata": {},
   "source": [
    "### Delete dividend record"
   ]
  },
  {
   "cell_type": "code",
   "execution_count": null,
   "metadata": {},
   "outputs": [],
   "source": [
    "sqlDel = '''\n",
    "DELETE FROM dividend\n",
    "WHERE name IN (\"LPF\")\n",
    "'''\n",
    "rp = const.execute(sqlDel)\n",
    "rp.rowcount"
   ]
  },
  {
   "cell_type": "markdown",
   "metadata": {},
   "source": [
    "### Start of output to cloud"
   ]
  },
  {
   "cell_type": "code",
   "execution_count": 5,
   "metadata": {
    "scrolled": true
   },
   "outputs": [
    {
     "name": "stdout",
     "output_type": "stream",
     "text": [
      "\n",
      "SELECT Y.NAME AS name,  Q4 AS qtrly, SHARES, XDATE, PAIDDATE, \n",
      "P.price AS price, Y.DIVIDEND, ACTUAL, B.price * B.volbuy AS cost_amt\n",
      "FROM dividend AS Y, price AS P, buy AS B\n",
      "WHERE Y.name = P.name \n",
      "AND Y.name = B.name \n",
      "AND Q4 > 0 \n",
      "AND P.date = '2023-03-09'\n",
      "ORDER BY name\n",
      "\n"
     ]
    }
   ],
   "source": [
    "sql = \"\"\"\n",
    "SELECT Y.NAME AS name,  Q4 AS qtrly, SHARES, XDATE, PAIDDATE, \n",
    "P.price AS price, Y.DIVIDEND, ACTUAL, B.price * B.volbuy AS cost_amt\n",
    "FROM dividend AS Y, price AS P, buy AS B\n",
    "WHERE Y.name = P.name \n",
    "AND Y.name = B.name \n",
    "AND Q4 > 0 \n",
    "AND P.date = '%s'\n",
    "ORDER BY name\n",
    "\"\"\"\n",
    "sql = sql % yesterday \n",
    "print(sql)"
   ]
  },
  {
   "cell_type": "code",
   "execution_count": 6,
   "metadata": {},
   "outputs": [],
   "source": [
    "cols = 'name qtrly shares amount net xdate paiddate cost_amt pct actual'.split()"
   ]
  },
  {
   "cell_type": "code",
   "execution_count": 7,
   "metadata": {},
   "outputs": [
    {
     "data": {
      "text/html": [
       "<style type=\"text/css\">\n",
       "</style>\n",
       "<table id=\"T_aac4a_\">\n",
       "  <thead>\n",
       "    <tr>\n",
       "      <th class=\"blank level0\" >&nbsp;</th>\n",
       "      <th class=\"col_heading level0 col0\" >name</th>\n",
       "      <th class=\"col_heading level0 col1\" >qtrly</th>\n",
       "      <th class=\"col_heading level0 col2\" >shares</th>\n",
       "      <th class=\"col_heading level0 col3\" >amount</th>\n",
       "      <th class=\"col_heading level0 col4\" >net</th>\n",
       "      <th class=\"col_heading level0 col5\" >xdate</th>\n",
       "      <th class=\"col_heading level0 col6\" >paiddate</th>\n",
       "      <th class=\"col_heading level0 col7\" >cost_amt</th>\n",
       "      <th class=\"col_heading level0 col8\" >pct</th>\n",
       "      <th class=\"col_heading level0 col9\" >actual</th>\n",
       "    </tr>\n",
       "  </thead>\n",
       "  <tbody>\n",
       "    <tr>\n",
       "      <th id=\"T_aac4a_level0_row0\" class=\"row_heading level0 row0\" >0</th>\n",
       "      <td id=\"T_aac4a_row0_col0\" class=\"data row0 col0\" >ASK</td>\n",
       "      <td id=\"T_aac4a_row0_col1\" class=\"data row0 col1\" >1.4400</td>\n",
       "      <td id=\"T_aac4a_row0_col2\" class=\"data row0 col2\" >4,500</td>\n",
       "      <td id=\"T_aac4a_row0_col3\" class=\"data row0 col3\" >6,480.00</td>\n",
       "      <td id=\"T_aac4a_row0_col4\" class=\"data row0 col4\" >5,832.00</td>\n",
       "      <td id=\"T_aac4a_row0_col5\" class=\"data row0 col5\" >2023-02-28</td>\n",
       "      <td id=\"T_aac4a_row0_col6\" class=\"data row0 col6\" >2023-04-27</td>\n",
       "      <td id=\"T_aac4a_row0_col7\" class=\"data row0 col7\" >139,500.00</td>\n",
       "      <td id=\"T_aac4a_row0_col8\" class=\"data row0 col8\" >4.18%</td>\n",
       "      <td id=\"T_aac4a_row0_col9\" class=\"data row0 col9\" >0</td>\n",
       "    </tr>\n",
       "    <tr>\n",
       "      <th id=\"T_aac4a_level0_row1\" class=\"row_heading level0 row1\" >1</th>\n",
       "      <td id=\"T_aac4a_row1_col0\" class=\"data row1 col0\" >ASP</td>\n",
       "      <td id=\"T_aac4a_row1_col1\" class=\"data row1 col1\" >0.1300</td>\n",
       "      <td id=\"T_aac4a_row1_col2\" class=\"data row1 col2\" >30,000</td>\n",
       "      <td id=\"T_aac4a_row1_col3\" class=\"data row1 col3\" >3,900.00</td>\n",
       "      <td id=\"T_aac4a_row1_col4\" class=\"data row1 col4\" >3,510.00</td>\n",
       "      <td id=\"T_aac4a_row1_col5\" class=\"data row1 col5\" >2023-03-08</td>\n",
       "      <td id=\"T_aac4a_row1_col6\" class=\"data row1 col6\" >2023-05-17</td>\n",
       "      <td id=\"T_aac4a_row1_col7\" class=\"data row1 col7\" >114,000.00</td>\n",
       "      <td id=\"T_aac4a_row1_col8\" class=\"data row1 col8\" >3.08%</td>\n",
       "      <td id=\"T_aac4a_row1_col9\" class=\"data row1 col9\" >0</td>\n",
       "    </tr>\n",
       "    <tr>\n",
       "      <th id=\"T_aac4a_level0_row2\" class=\"row_heading level0 row2\" >2</th>\n",
       "      <td id=\"T_aac4a_row2_col0\" class=\"data row2 col0\" >BANPU</td>\n",
       "      <td id=\"T_aac4a_row2_col1\" class=\"data row2 col1\" >0.7500</td>\n",
       "      <td id=\"T_aac4a_row2_col2\" class=\"data row2 col2\" >18,000</td>\n",
       "      <td id=\"T_aac4a_row2_col3\" class=\"data row2 col3\" >13,500.00</td>\n",
       "      <td id=\"T_aac4a_row2_col4\" class=\"data row2 col4\" >12,150.00</td>\n",
       "      <td id=\"T_aac4a_row2_col5\" class=\"data row2 col5\" >2023-04-10</td>\n",
       "      <td id=\"T_aac4a_row2_col6\" class=\"data row2 col6\" >2023-04-28</td>\n",
       "      <td id=\"T_aac4a_row2_col7\" class=\"data row2 col7\" >216,000.00</td>\n",
       "      <td id=\"T_aac4a_row2_col8\" class=\"data row2 col8\" >5.62%</td>\n",
       "      <td id=\"T_aac4a_row2_col9\" class=\"data row2 col9\" >1</td>\n",
       "    </tr>\n",
       "    <tr>\n",
       "      <th id=\"T_aac4a_level0_row3\" class=\"row_heading level0 row3\" >3</th>\n",
       "      <td id=\"T_aac4a_row3_col0\" class=\"data row3 col0\" >BCH</td>\n",
       "      <td id=\"T_aac4a_row3_col1\" class=\"data row3 col1\" >0.4000</td>\n",
       "      <td id=\"T_aac4a_row3_col2\" class=\"data row3 col2\" >15,000</td>\n",
       "      <td id=\"T_aac4a_row3_col3\" class=\"data row3 col3\" >6,000.00</td>\n",
       "      <td id=\"T_aac4a_row3_col4\" class=\"data row3 col4\" >5,400.00</td>\n",
       "      <td id=\"T_aac4a_row3_col5\" class=\"data row3 col5\" >2023-05-09</td>\n",
       "      <td id=\"T_aac4a_row3_col6\" class=\"data row3 col6\" >2023-05-19</td>\n",
       "      <td id=\"T_aac4a_row3_col7\" class=\"data row3 col7\" >321,900.00</td>\n",
       "      <td id=\"T_aac4a_row3_col8\" class=\"data row3 col8\" >1.68%</td>\n",
       "      <td id=\"T_aac4a_row3_col9\" class=\"data row3 col9\" >1</td>\n",
       "    </tr>\n",
       "    <tr>\n",
       "      <th id=\"T_aac4a_level0_row4\" class=\"row_heading level0 row4\" >4</th>\n",
       "      <td id=\"T_aac4a_row4_col0\" class=\"data row4 col0\" >CPNREIT</td>\n",
       "      <td id=\"T_aac4a_row4_col1\" class=\"data row4 col1\" >0.0607</td>\n",
       "      <td id=\"T_aac4a_row4_col2\" class=\"data row4 col2\" >55,000</td>\n",
       "      <td id=\"T_aac4a_row4_col3\" class=\"data row4 col3\" >3,338.50</td>\n",
       "      <td id=\"T_aac4a_row4_col4\" class=\"data row4 col4\" >3,004.65</td>\n",
       "      <td id=\"T_aac4a_row4_col5\" class=\"data row4 col5\" >2023-02-28</td>\n",
       "      <td id=\"T_aac4a_row4_col6\" class=\"data row4 col6\" >2023-03-16</td>\n",
       "      <td id=\"T_aac4a_row4_col7\" class=\"data row4 col7\" >990,000.00</td>\n",
       "      <td id=\"T_aac4a_row4_col8\" class=\"data row4 col8\" >0.30%</td>\n",
       "      <td id=\"T_aac4a_row4_col9\" class=\"data row4 col9\" >0</td>\n",
       "    </tr>\n",
       "    <tr>\n",
       "      <th id=\"T_aac4a_level0_row5\" class=\"row_heading level0 row5\" >5</th>\n",
       "      <td id=\"T_aac4a_row5_col0\" class=\"data row5 col0\" >DIF</td>\n",
       "      <td id=\"T_aac4a_row5_col1\" class=\"data row5 col1\" >0.2535</td>\n",
       "      <td id=\"T_aac4a_row5_col2\" class=\"data row5 col2\" >30,000</td>\n",
       "      <td id=\"T_aac4a_row5_col3\" class=\"data row5 col3\" >7,605.00</td>\n",
       "      <td id=\"T_aac4a_row5_col4\" class=\"data row5 col4\" >6,844.50</td>\n",
       "      <td id=\"T_aac4a_row5_col5\" class=\"data row5 col5\" >2023-02-10</td>\n",
       "      <td id=\"T_aac4a_row5_col6\" class=\"data row5 col6\" >2023-03-07</td>\n",
       "      <td id=\"T_aac4a_row5_col7\" class=\"data row5 col7\" >441,000.00</td>\n",
       "      <td id=\"T_aac4a_row5_col8\" class=\"data row5 col8\" >1.55%</td>\n",
       "      <td id=\"T_aac4a_row5_col9\" class=\"data row5 col9\" >0</td>\n",
       "    </tr>\n",
       "    <tr>\n",
       "      <th id=\"T_aac4a_level0_row6\" class=\"row_heading level0 row6\" >6</th>\n",
       "      <td id=\"T_aac4a_row6_col0\" class=\"data row6 col0\" >GVREIT</td>\n",
       "      <td id=\"T_aac4a_row6_col1\" class=\"data row6 col1\" >0.1980</td>\n",
       "      <td id=\"T_aac4a_row6_col2\" class=\"data row6 col2\" >40,000</td>\n",
       "      <td id=\"T_aac4a_row6_col3\" class=\"data row6 col3\" >7,920.00</td>\n",
       "      <td id=\"T_aac4a_row6_col4\" class=\"data row6 col4\" >7,128.00</td>\n",
       "      <td id=\"T_aac4a_row6_col5\" class=\"data row6 col5\" >2023-02-27</td>\n",
       "      <td id=\"T_aac4a_row6_col6\" class=\"data row6 col6\" >2023-03-10</td>\n",
       "      <td id=\"T_aac4a_row6_col7\" class=\"data row6 col7\" >356,000.00</td>\n",
       "      <td id=\"T_aac4a_row6_col8\" class=\"data row6 col8\" >2.00%</td>\n",
       "      <td id=\"T_aac4a_row6_col9\" class=\"data row6 col9\" >0</td>\n",
       "    </tr>\n",
       "    <tr>\n",
       "      <th id=\"T_aac4a_level0_row7\" class=\"row_heading level0 row7\" >7</th>\n",
       "      <td id=\"T_aac4a_row7_col0\" class=\"data row7 col0\" >IVL</td>\n",
       "      <td id=\"T_aac4a_row7_col1\" class=\"data row7 col1\" >0.4000</td>\n",
       "      <td id=\"T_aac4a_row7_col2\" class=\"data row7 col2\" >7,200</td>\n",
       "      <td id=\"T_aac4a_row7_col3\" class=\"data row7 col3\" >2,880.00</td>\n",
       "      <td id=\"T_aac4a_row7_col4\" class=\"data row7 col4\" >2,592.00</td>\n",
       "      <td id=\"T_aac4a_row7_col5\" class=\"data row7 col5\" >2023-05-03</td>\n",
       "      <td id=\"T_aac4a_row7_col6\" class=\"data row7 col6\" >2023-05-19</td>\n",
       "      <td id=\"T_aac4a_row7_col7\" class=\"data row7 col7\" >288,000.00</td>\n",
       "      <td id=\"T_aac4a_row7_col8\" class=\"data row7 col8\" >0.90%</td>\n",
       "      <td id=\"T_aac4a_row7_col9\" class=\"data row7 col9\" >1</td>\n",
       "    </tr>\n",
       "    <tr>\n",
       "      <th id=\"T_aac4a_level0_row8\" class=\"row_heading level0 row8\" >8</th>\n",
       "      <td id=\"T_aac4a_row8_col0\" class=\"data row8 col0\" >JASIF</td>\n",
       "      <td id=\"T_aac4a_row8_col1\" class=\"data row8 col1\" >0.2300</td>\n",
       "      <td id=\"T_aac4a_row8_col2\" class=\"data row8 col2\" >130,000</td>\n",
       "      <td id=\"T_aac4a_row8_col3\" class=\"data row8 col3\" >29,900.00</td>\n",
       "      <td id=\"T_aac4a_row8_col4\" class=\"data row8 col4\" >26,910.00</td>\n",
       "      <td id=\"T_aac4a_row8_col5\" class=\"data row8 col5\" >2023-03-02</td>\n",
       "      <td id=\"T_aac4a_row8_col6\" class=\"data row8 col6\" >2023-03-20</td>\n",
       "      <td id=\"T_aac4a_row8_col7\" class=\"data row8 col7\" >1,300,000.00</td>\n",
       "      <td id=\"T_aac4a_row8_col8\" class=\"data row8 col8\" >2.07%</td>\n",
       "      <td id=\"T_aac4a_row8_col9\" class=\"data row8 col9\" >0</td>\n",
       "    </tr>\n",
       "    <tr>\n",
       "      <th id=\"T_aac4a_level0_row9\" class=\"row_heading level0 row9\" >9</th>\n",
       "      <td id=\"T_aac4a_row9_col0\" class=\"data row9 col0\" >JMART</td>\n",
       "      <td id=\"T_aac4a_row9_col1\" class=\"data row9 col1\" >0.6600</td>\n",
       "      <td id=\"T_aac4a_row9_col2\" class=\"data row9 col2\" >4,800</td>\n",
       "      <td id=\"T_aac4a_row9_col3\" class=\"data row9 col3\" >3,168.00</td>\n",
       "      <td id=\"T_aac4a_row9_col4\" class=\"data row9 col4\" >2,851.20</td>\n",
       "      <td id=\"T_aac4a_row9_col5\" class=\"data row9 col5\" >2023-04-11</td>\n",
       "      <td id=\"T_aac4a_row9_col6\" class=\"data row9 col6\" >2023-05-03</td>\n",
       "      <td id=\"T_aac4a_row9_col7\" class=\"data row9 col7\" >178,800.00</td>\n",
       "      <td id=\"T_aac4a_row9_col8\" class=\"data row9 col8\" >1.59%</td>\n",
       "      <td id=\"T_aac4a_row9_col9\" class=\"data row9 col9\" >1</td>\n",
       "    </tr>\n",
       "    <tr>\n",
       "      <th id=\"T_aac4a_level0_row10\" class=\"row_heading level0 row10\" >10</th>\n",
       "      <td id=\"T_aac4a_row10_col0\" class=\"data row10 col0\" >JMT</td>\n",
       "      <td id=\"T_aac4a_row10_col1\" class=\"data row10 col1\" >0.5900</td>\n",
       "      <td id=\"T_aac4a_row10_col2\" class=\"data row10 col2\" >4,200</td>\n",
       "      <td id=\"T_aac4a_row10_col3\" class=\"data row10 col3\" >2,478.00</td>\n",
       "      <td id=\"T_aac4a_row10_col4\" class=\"data row10 col4\" >2,230.20</td>\n",
       "      <td id=\"T_aac4a_row10_col5\" class=\"data row10 col5\" >2023-04-11</td>\n",
       "      <td id=\"T_aac4a_row10_col6\" class=\"data row10 col6\" >2023-05-02</td>\n",
       "      <td id=\"T_aac4a_row10_col7\" class=\"data row10 col7\" >233,100.00</td>\n",
       "      <td id=\"T_aac4a_row10_col8\" class=\"data row10 col8\" >0.96%</td>\n",
       "      <td id=\"T_aac4a_row10_col9\" class=\"data row10 col9\" >1</td>\n",
       "    </tr>\n",
       "    <tr>\n",
       "      <th id=\"T_aac4a_level0_row11\" class=\"row_heading level0 row11\" >11</th>\n",
       "      <td id=\"T_aac4a_row11_col0\" class=\"data row11 col0\" >KCE</td>\n",
       "      <td id=\"T_aac4a_row11_col1\" class=\"data row11 col1\" >1.0000</td>\n",
       "      <td id=\"T_aac4a_row11_col2\" class=\"data row11 col2\" >10,000</td>\n",
       "      <td id=\"T_aac4a_row11_col3\" class=\"data row11 col3\" >10,000.00</td>\n",
       "      <td id=\"T_aac4a_row11_col4\" class=\"data row11 col4\" >9,000.00</td>\n",
       "      <td id=\"T_aac4a_row11_col5\" class=\"data row11 col5\" >2023-03-21</td>\n",
       "      <td id=\"T_aac4a_row11_col6\" class=\"data row11 col6\" >2023-05-09</td>\n",
       "      <td id=\"T_aac4a_row11_col7\" class=\"data row11 col7\" >772,500.00</td>\n",
       "      <td id=\"T_aac4a_row11_col8\" class=\"data row11 col8\" >1.17%</td>\n",
       "      <td id=\"T_aac4a_row11_col9\" class=\"data row11 col9\" >0</td>\n",
       "    </tr>\n",
       "    <tr>\n",
       "      <th id=\"T_aac4a_level0_row12\" class=\"row_heading level0 row12\" >12</th>\n",
       "      <td id=\"T_aac4a_row12_col0\" class=\"data row12 col0\" >MCS</td>\n",
       "      <td id=\"T_aac4a_row12_col1\" class=\"data row12 col1\" >0.2000</td>\n",
       "      <td id=\"T_aac4a_row12_col2\" class=\"data row12 col2\" >75,000</td>\n",
       "      <td id=\"T_aac4a_row12_col3\" class=\"data row12 col3\" >15,000.00</td>\n",
       "      <td id=\"T_aac4a_row12_col4\" class=\"data row12 col4\" >13,500.00</td>\n",
       "      <td id=\"T_aac4a_row12_col5\" class=\"data row12 col5\" >2023-03-17</td>\n",
       "      <td id=\"T_aac4a_row12_col6\" class=\"data row12 col6\" >2023-05-08</td>\n",
       "      <td id=\"T_aac4a_row12_col7\" class=\"data row12 col7\" >1,155,000.00</td>\n",
       "      <td id=\"T_aac4a_row12_col8\" class=\"data row12 col8\" >1.17%</td>\n",
       "      <td id=\"T_aac4a_row12_col9\" class=\"data row12 col9\" >1</td>\n",
       "    </tr>\n",
       "    <tr>\n",
       "      <th id=\"T_aac4a_level0_row13\" class=\"row_heading level0 row13\" >13</th>\n",
       "      <td id=\"T_aac4a_row13_col0\" class=\"data row13 col0\" >NER</td>\n",
       "      <td id=\"T_aac4a_row13_col1\" class=\"data row13 col1\" >0.3100</td>\n",
       "      <td id=\"T_aac4a_row13_col2\" class=\"data row13 col2\" >27,000</td>\n",
       "      <td id=\"T_aac4a_row13_col3\" class=\"data row13 col3\" >8,370.00</td>\n",
       "      <td id=\"T_aac4a_row13_col4\" class=\"data row13 col4\" >7,533.00</td>\n",
       "      <td id=\"T_aac4a_row13_col5\" class=\"data row13 col5\" >2023-04-20</td>\n",
       "      <td id=\"T_aac4a_row13_col6\" class=\"data row13 col6\" >2023-05-09</td>\n",
       "      <td id=\"T_aac4a_row13_col7\" class=\"data row13 col7\" >201,150.00</td>\n",
       "      <td id=\"T_aac4a_row13_col8\" class=\"data row13 col8\" >3.74%</td>\n",
       "      <td id=\"T_aac4a_row13_col9\" class=\"data row13 col9\" >1</td>\n",
       "    </tr>\n",
       "    <tr>\n",
       "      <th id=\"T_aac4a_level0_row14\" class=\"row_heading level0 row14\" >14</th>\n",
       "      <td id=\"T_aac4a_row14_col0\" class=\"data row14 col0\" >ORI</td>\n",
       "      <td id=\"T_aac4a_row14_col1\" class=\"data row14 col1\" >0.5700</td>\n",
       "      <td id=\"T_aac4a_row14_col2\" class=\"data row14 col2\" >45,000</td>\n",
       "      <td id=\"T_aac4a_row14_col3\" class=\"data row14 col3\" >25,650.00</td>\n",
       "      <td id=\"T_aac4a_row14_col4\" class=\"data row14 col4\" >23,085.00</td>\n",
       "      <td id=\"T_aac4a_row14_col5\" class=\"data row14 col5\" >2023-05-08</td>\n",
       "      <td id=\"T_aac4a_row14_col6\" class=\"data row14 col6\" >2023-05-25</td>\n",
       "      <td id=\"T_aac4a_row14_col7\" class=\"data row14 col7\" >495,000.00</td>\n",
       "      <td id=\"T_aac4a_row14_col8\" class=\"data row14 col8\" >4.66%</td>\n",
       "      <td id=\"T_aac4a_row14_col9\" class=\"data row14 col9\" >1</td>\n",
       "    </tr>\n",
       "    <tr>\n",
       "      <th id=\"T_aac4a_level0_row15\" class=\"row_heading level0 row15\" >15</th>\n",
       "      <td id=\"T_aac4a_row15_col0\" class=\"data row15 col0\" >PTTGC</td>\n",
       "      <td id=\"T_aac4a_row15_col1\" class=\"data row15 col1\" >0.2500</td>\n",
       "      <td id=\"T_aac4a_row15_col2\" class=\"data row15 col2\" >6,000</td>\n",
       "      <td id=\"T_aac4a_row15_col3\" class=\"data row15 col3\" >1,500.00</td>\n",
       "      <td id=\"T_aac4a_row15_col4\" class=\"data row15 col4\" >1,350.00</td>\n",
       "      <td id=\"T_aac4a_row15_col5\" class=\"data row15 col5\" >2023-02-27</td>\n",
       "      <td id=\"T_aac4a_row15_col6\" class=\"data row15 col6\" >2023-04-26</td>\n",
       "      <td id=\"T_aac4a_row15_col7\" class=\"data row15 col7\" >388,500.00</td>\n",
       "      <td id=\"T_aac4a_row15_col8\" class=\"data row15 col8\" >0.35%</td>\n",
       "      <td id=\"T_aac4a_row15_col9\" class=\"data row15 col9\" >0</td>\n",
       "    </tr>\n",
       "    <tr>\n",
       "      <th id=\"T_aac4a_level0_row16\" class=\"row_heading level0 row16\" >16</th>\n",
       "      <td id=\"T_aac4a_row16_col0\" class=\"data row16 col0\" >RCL</td>\n",
       "      <td id=\"T_aac4a_row16_col1\" class=\"data row16 col1\" >3.0000</td>\n",
       "      <td id=\"T_aac4a_row16_col2\" class=\"data row16 col2\" >27,000</td>\n",
       "      <td id=\"T_aac4a_row16_col3\" class=\"data row16 col3\" >81,000.00</td>\n",
       "      <td id=\"T_aac4a_row16_col4\" class=\"data row16 col4\" >72,900.00</td>\n",
       "      <td id=\"T_aac4a_row16_col5\" class=\"data row16 col5\" >2023-03-16</td>\n",
       "      <td id=\"T_aac4a_row16_col6\" class=\"data row16 col6\" >2023-05-19</td>\n",
       "      <td id=\"T_aac4a_row16_col7\" class=\"data row16 col7\" >1,046,250.00</td>\n",
       "      <td id=\"T_aac4a_row16_col8\" class=\"data row16 col8\" >6.97%</td>\n",
       "      <td id=\"T_aac4a_row16_col9\" class=\"data row16 col9\" >1</td>\n",
       "    </tr>\n",
       "    <tr>\n",
       "      <th id=\"T_aac4a_level0_row17\" class=\"row_heading level0 row17\" >17</th>\n",
       "      <td id=\"T_aac4a_row17_col0\" class=\"data row17 col0\" >SCC</td>\n",
       "      <td id=\"T_aac4a_row17_col1\" class=\"data row17 col1\" >2.0000</td>\n",
       "      <td id=\"T_aac4a_row17_col2\" class=\"data row17 col2\" >600</td>\n",
       "      <td id=\"T_aac4a_row17_col3\" class=\"data row17 col3\" >1,200.00</td>\n",
       "      <td id=\"T_aac4a_row17_col4\" class=\"data row17 col4\" >1,080.00</td>\n",
       "      <td id=\"T_aac4a_row17_col5\" class=\"data row17 col5\" >2023-04-07</td>\n",
       "      <td id=\"T_aac4a_row17_col6\" class=\"data row17 col6\" >2023-04-25</td>\n",
       "      <td id=\"T_aac4a_row17_col7\" class=\"data row17 col7\" >243,000.00</td>\n",
       "      <td id=\"T_aac4a_row17_col8\" class=\"data row17 col8\" >0.44%</td>\n",
       "      <td id=\"T_aac4a_row17_col9\" class=\"data row17 col9\" >1</td>\n",
       "    </tr>\n",
       "    <tr>\n",
       "      <th id=\"T_aac4a_level0_row18\" class=\"row_heading level0 row18\" >18</th>\n",
       "      <td id=\"T_aac4a_row18_col0\" class=\"data row18 col0\" >SENA</td>\n",
       "      <td id=\"T_aac4a_row18_col1\" class=\"data row18 col1\" >0.0784</td>\n",
       "      <td id=\"T_aac4a_row18_col2\" class=\"data row18 col2\" >105,000</td>\n",
       "      <td id=\"T_aac4a_row18_col3\" class=\"data row18 col3\" >8,232.00</td>\n",
       "      <td id=\"T_aac4a_row18_col4\" class=\"data row18 col4\" >7,408.80</td>\n",
       "      <td id=\"T_aac4a_row18_col5\" class=\"data row18 col5\" >2023-05-11</td>\n",
       "      <td id=\"T_aac4a_row18_col6\" class=\"data row18 col6\" >2023-05-25</td>\n",
       "      <td id=\"T_aac4a_row18_col7\" class=\"data row18 col7\" >470,400.00</td>\n",
       "      <td id=\"T_aac4a_row18_col8\" class=\"data row18 col8\" >1.58%</td>\n",
       "      <td id=\"T_aac4a_row18_col9\" class=\"data row18 col9\" >1</td>\n",
       "    </tr>\n",
       "    <tr>\n",
       "      <th id=\"T_aac4a_level0_row19\" class=\"row_heading level0 row19\" >19</th>\n",
       "      <td id=\"T_aac4a_row19_col0\" class=\"data row19 col0\" >SINGER</td>\n",
       "      <td id=\"T_aac4a_row19_col1\" class=\"data row19 col1\" >0.2600</td>\n",
       "      <td id=\"T_aac4a_row19_col2\" class=\"data row19 col2\" >6,000</td>\n",
       "      <td id=\"T_aac4a_row19_col3\" class=\"data row19 col3\" >1,560.00</td>\n",
       "      <td id=\"T_aac4a_row19_col4\" class=\"data row19 col4\" >1,404.00</td>\n",
       "      <td id=\"T_aac4a_row19_col5\" class=\"data row19 col5\" >2023-05-03</td>\n",
       "      <td id=\"T_aac4a_row19_col6\" class=\"data row19 col6\" >2023-05-19</td>\n",
       "      <td id=\"T_aac4a_row19_col7\" class=\"data row19 col7\" >148,800.00</td>\n",
       "      <td id=\"T_aac4a_row19_col8\" class=\"data row19 col8\" >0.94%</td>\n",
       "      <td id=\"T_aac4a_row19_col9\" class=\"data row19 col9\" >1</td>\n",
       "    </tr>\n",
       "    <tr>\n",
       "      <th id=\"T_aac4a_level0_row20\" class=\"row_heading level0 row20\" >20</th>\n",
       "      <td id=\"T_aac4a_row20_col0\" class=\"data row20 col0\" >STA</td>\n",
       "      <td id=\"T_aac4a_row20_col1\" class=\"data row20 col1\" >1.0000</td>\n",
       "      <td id=\"T_aac4a_row20_col2\" class=\"data row20 col2\" >5,000</td>\n",
       "      <td id=\"T_aac4a_row20_col3\" class=\"data row20 col3\" >5,000.00</td>\n",
       "      <td id=\"T_aac4a_row20_col4\" class=\"data row20 col4\" >4,500.00</td>\n",
       "      <td id=\"T_aac4a_row20_col5\" class=\"data row20 col5\" >2023-04-19</td>\n",
       "      <td id=\"T_aac4a_row20_col6\" class=\"data row20 col6\" >2023-05-08</td>\n",
       "      <td id=\"T_aac4a_row20_col7\" class=\"data row20 col7\" >200,000.00</td>\n",
       "      <td id=\"T_aac4a_row20_col8\" class=\"data row20 col8\" >2.25%</td>\n",
       "      <td id=\"T_aac4a_row20_col9\" class=\"data row20 col9\" >1</td>\n",
       "    </tr>\n",
       "    <tr>\n",
       "      <th id=\"T_aac4a_level0_row21\" class=\"row_heading level0 row21\" >21</th>\n",
       "      <td id=\"T_aac4a_row21_col0\" class=\"data row21 col0\" >SYNEX</td>\n",
       "      <td id=\"T_aac4a_row21_col1\" class=\"data row21 col1\" >0.5200</td>\n",
       "      <td id=\"T_aac4a_row21_col2\" class=\"data row21 col2\" >15,000</td>\n",
       "      <td id=\"T_aac4a_row21_col3\" class=\"data row21 col3\" >7,800.00</td>\n",
       "      <td id=\"T_aac4a_row21_col4\" class=\"data row21 col4\" >7,020.00</td>\n",
       "      <td id=\"T_aac4a_row21_col5\" class=\"data row21 col5\" >2023-03-09</td>\n",
       "      <td id=\"T_aac4a_row21_col6\" class=\"data row21 col6\" >2023-05-02</td>\n",
       "      <td id=\"T_aac4a_row21_col7\" class=\"data row21 col7\" >430,500.00</td>\n",
       "      <td id=\"T_aac4a_row21_col8\" class=\"data row21 col8\" >1.63%</td>\n",
       "      <td id=\"T_aac4a_row21_col9\" class=\"data row21 col9\" >0</td>\n",
       "    </tr>\n",
       "    <tr>\n",
       "      <th id=\"T_aac4a_level0_row22\" class=\"row_heading level0 row22\" >22</th>\n",
       "      <td id=\"T_aac4a_row22_col0\" class=\"data row22 col0\" >TFFIF</td>\n",
       "      <td id=\"T_aac4a_row22_col1\" class=\"data row22 col1\" >0.1032</td>\n",
       "      <td id=\"T_aac4a_row22_col2\" class=\"data row22 col2\" >10,000</td>\n",
       "      <td id=\"T_aac4a_row22_col3\" class=\"data row22 col3\" >1,032.00</td>\n",
       "      <td id=\"T_aac4a_row22_col4\" class=\"data row22 col4\" >928.80</td>\n",
       "      <td id=\"T_aac4a_row22_col5\" class=\"data row22 col5\" >2023-03-02</td>\n",
       "      <td id=\"T_aac4a_row22_col6\" class=\"data row22 col6\" >2023-03-21</td>\n",
       "      <td id=\"T_aac4a_row22_col7\" class=\"data row22 col7\" >75,000.00</td>\n",
       "      <td id=\"T_aac4a_row22_col8\" class=\"data row22 col8\" >1.24%</td>\n",
       "      <td id=\"T_aac4a_row22_col9\" class=\"data row22 col9\" >0</td>\n",
       "    </tr>\n",
       "    <tr>\n",
       "      <th id=\"T_aac4a_level0_row23\" class=\"row_heading level0 row23\" >23</th>\n",
       "      <td id=\"T_aac4a_row23_col0\" class=\"data row23 col0\" >TMT</td>\n",
       "      <td id=\"T_aac4a_row23_col1\" class=\"data row23 col1\" >0.1500</td>\n",
       "      <td id=\"T_aac4a_row23_col2\" class=\"data row23 col2\" >36,000</td>\n",
       "      <td id=\"T_aac4a_row23_col3\" class=\"data row23 col3\" >5,400.00</td>\n",
       "      <td id=\"T_aac4a_row23_col4\" class=\"data row23 col4\" >4,860.00</td>\n",
       "      <td id=\"T_aac4a_row23_col5\" class=\"data row23 col5\" >2023-04-18</td>\n",
       "      <td id=\"T_aac4a_row23_col6\" class=\"data row23 col6\" >2023-05-03</td>\n",
       "      <td id=\"T_aac4a_row23_col7\" class=\"data row23 col7\" >367,200.00</td>\n",
       "      <td id=\"T_aac4a_row23_col8\" class=\"data row23 col8\" >1.32%</td>\n",
       "      <td id=\"T_aac4a_row23_col9\" class=\"data row23 col9\" >1</td>\n",
       "    </tr>\n",
       "    <tr>\n",
       "      <th id=\"T_aac4a_level0_row24\" class=\"row_heading level0 row24\" >24</th>\n",
       "      <td id=\"T_aac4a_row24_col0\" class=\"data row24 col0\" >WHAIR</td>\n",
       "      <td id=\"T_aac4a_row24_col1\" class=\"data row24 col1\" >0.1218</td>\n",
       "      <td id=\"T_aac4a_row24_col2\" class=\"data row24 col2\" >50,000</td>\n",
       "      <td id=\"T_aac4a_row24_col3\" class=\"data row24 col3\" >6,090.00</td>\n",
       "      <td id=\"T_aac4a_row24_col4\" class=\"data row24 col4\" >5,481.00</td>\n",
       "      <td id=\"T_aac4a_row24_col5\" class=\"data row24 col5\" >2023-03-10</td>\n",
       "      <td id=\"T_aac4a_row24_col6\" class=\"data row24 col6\" >2023-03-30</td>\n",
       "      <td id=\"T_aac4a_row24_col7\" class=\"data row24 col7\" >435,000.00</td>\n",
       "      <td id=\"T_aac4a_row24_col8\" class=\"data row24 col8\" >1.26%</td>\n",
       "      <td id=\"T_aac4a_row24_col9\" class=\"data row24 col9\" >1</td>\n",
       "    </tr>\n",
       "    <tr>\n",
       "      <th id=\"T_aac4a_level0_row25\" class=\"row_heading level0 row25\" >25</th>\n",
       "      <td id=\"T_aac4a_row25_col0\" class=\"data row25 col0\" >WHART</td>\n",
       "      <td id=\"T_aac4a_row25_col1\" class=\"data row25 col1\" >0.1265</td>\n",
       "      <td id=\"T_aac4a_row25_col2\" class=\"data row25 col2\" >30,000</td>\n",
       "      <td id=\"T_aac4a_row25_col3\" class=\"data row25 col3\" >3,795.00</td>\n",
       "      <td id=\"T_aac4a_row25_col4\" class=\"data row25 col4\" >3,415.50</td>\n",
       "      <td id=\"T_aac4a_row25_col5\" class=\"data row25 col5\" >2023-03-08</td>\n",
       "      <td id=\"T_aac4a_row25_col6\" class=\"data row25 col6\" >2023-03-24</td>\n",
       "      <td id=\"T_aac4a_row25_col7\" class=\"data row25 col7\" >351,000.00</td>\n",
       "      <td id=\"T_aac4a_row25_col8\" class=\"data row25 col8\" >0.97%</td>\n",
       "      <td id=\"T_aac4a_row25_col9\" class=\"data row25 col9\" >0</td>\n",
       "    </tr>\n",
       "  </tbody>\n",
       "</table>\n"
      ],
      "text/plain": [
       "<pandas.io.formats.style.Styler at 0x280722c53d0>"
      ]
     },
     "execution_count": 7,
     "metadata": {},
     "output_type": "execute_result"
    }
   ],
   "source": [
    "dividend = pd.read_sql(sql, const)\n",
    "dividend.columns = dividend.columns.str.lower()\n",
    "dividend['shares'] = dividend['shares'].astype('int64')\n",
    "dividend['xdate'] = pd.to_datetime(dividend['xdate'])\n",
    "dividend['paiddate'] = pd.to_datetime(dividend['paiddate'])\n",
    "dividend['amount'] = round(dividend['shares'] * dividend['qtrly'], 2)\n",
    "dividend['net'] = round(dividend['amount'] * 0.9, 2)\n",
    "dividend['pct'] = round(dividend['net'] / dividend['cost_amt'] * 100, 2)\n",
    "dividend[cols].style.format(format_dict)"
   ]
  },
  {
   "cell_type": "code",
   "execution_count": 8,
   "metadata": {},
   "outputs": [
    {
     "data": {
      "text/plain": [
       "241918.65000000002"
      ]
     },
     "execution_count": 8,
     "metadata": {},
     "output_type": "execute_result"
    }
   ],
   "source": [
    "dividend.net.sum()"
   ]
  },
  {
   "cell_type": "code",
   "execution_count": 10,
   "metadata": {},
   "outputs": [],
   "source": [
    "file_name = 'dividend-q4.csv'\n",
    "data_file = data_path + file_name\n",
    "output_file = csv_path + file_name\n",
    "osd_file = osd_path + file_name\n",
    "one_file = one_path + file_name\n",
    "\n",
    "dividend[cols].sort_values(['name'],ascending=[True]).to_csv(output_file, index=False)\n",
    "dividend[cols].sort_values(['name'],ascending=[True]).to_csv(data_file, index=False)\n",
    "dividend[cols].sort_values(['name'],ascending=[True]).to_csv(osd_file, index=False)\n",
    "dividend[cols].sort_values(['name'],ascending=[True]).to_csv(one_file, index=False)"
   ]
  },
  {
   "cell_type": "markdown",
   "metadata": {},
   "source": [
    "### End of output to cloud"
   ]
  },
  {
   "cell_type": "code",
   "execution_count": null,
   "metadata": {},
   "outputs": [],
   "source": [
    "sqlUpd = \"\"\"\n",
    "UPDATE dividend\n",
    "SET xdate = DATE_ADD(xdate, INTERVAL 1 YEAR),\n",
    "    paiddate = DATE_ADD(paiddate, INTERVAL 1 YEAR),\n",
    "    actual = 0\n",
    "WHERE Q4 > 0\"\"\"\n",
    "rp = const.execute(sqlUpd)\n",
    "rp.rowcount"
   ]
  },
  {
   "cell_type": "code",
   "execution_count": null,
   "metadata": {},
   "outputs": [],
   "source": []
  }
 ],
 "metadata": {
  "anaconda-cloud": {},
  "kernelspec": {
   "display_name": "Python 3 (ipykernel)",
   "language": "python",
   "name": "python3"
  },
  "language_info": {
   "codemirror_mode": {
    "name": "ipython",
    "version": 3
   },
   "file_extension": ".py",
   "mimetype": "text/x-python",
   "name": "python",
   "nbconvert_exporter": "python",
   "pygments_lexer": "ipython3",
   "version": "3.8.11"
  }
 },
 "nbformat": 4,
 "nbformat_minor": 1
}
