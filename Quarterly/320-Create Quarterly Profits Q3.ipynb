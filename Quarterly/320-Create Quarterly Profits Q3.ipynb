{
 "cells": [
  {
   "cell_type": "markdown",
   "metadata": {},
   "source": [
    "### Restart and Run All Cells"
   ]
  },
  {
   "cell_type": "code",
   "execution_count": 1,
   "metadata": {},
   "outputs": [
    {
     "data": {
      "text/plain": [
       "'2023-02-14'"
      ]
     },
     "execution_count": 1,
     "metadata": {},
     "output_type": "execute_result"
    }
   ],
   "source": [
    "import pandas as pd\n",
    "from datetime import date, timedelta\n",
    "from sqlalchemy import create_engine\n",
    "engine = create_engine(\"sqlite:///c:\\\\ruby\\\\portlt\\\\db\\\\development.sqlite3\")\n",
    "conlt = engine.connect()\n",
    "year = 2022\n",
    "quarter = 3\n",
    "today = date.today()\n",
    "today_str = today.strftime(\"%Y-%m-%d\")\n",
    "today_str"
   ]
  },
  {
   "cell_type": "code",
   "execution_count": 2,
   "metadata": {},
   "outputs": [],
   "source": [
    "cols = 'name year quarter q_amt_c q_amt_p inc_profit percent'.split()\n",
    "\n",
    "format_dict = {\n",
    "                'q_amt':'{:,}','q_amt_c':'{:,}','q_amt_p':'{:,}','inc_profit':'{:,}',\n",
    "                'yoy_gain':'{:,}','acc_gain':'{:,}',   \n",
    "                'latest_amt':'{:,}','previous_amt':'{:,}','inc_amt':'{:,}',\n",
    "                'q_eps':'{:.4f}','y_eps':'{:.4f}','aq_eps':'{:.4f}','ay_eps':'{:.4f}',\n",
    "                'percent':'{:.2f}%','inc_pct':'{:.2f}%'\n",
    "              }"
   ]
  },
  {
   "cell_type": "code",
   "execution_count": 3,
   "metadata": {},
   "outputs": [
    {
     "name": "stdout",
     "output_type": "stream",
     "text": [
      "\n",
      "SELECT name,year,quarter,q_amt \n",
      "FROM epss \n",
      "WHERE (year = 2022 AND quarter <= 3) \n",
      "OR (year = 2022-1 AND quarter >= 3+1)\n",
      "ORDER BY year DESC, quarter DESC\n",
      "\n"
     ]
    }
   ],
   "source": [
    "sql = \"\"\"\n",
    "SELECT name,year,quarter,q_amt \n",
    "FROM epss \n",
    "WHERE (year = %s AND quarter <= %s) \n",
    "OR (year = %s-1 AND quarter >= %s+1)\n",
    "ORDER BY year DESC, quarter DESC\n",
    "\"\"\"\n",
    "sql = sql % (year, quarter, year, quarter)\n",
    "print(sql)"
   ]
  },
  {
   "cell_type": "code",
   "execution_count": 4,
   "metadata": {},
   "outputs": [
    {
     "data": {
      "text/html": [
       "<div>\n",
       "<style scoped>\n",
       "    .dataframe tbody tr th:only-of-type {\n",
       "        vertical-align: middle;\n",
       "    }\n",
       "\n",
       "    .dataframe tbody tr th {\n",
       "        vertical-align: top;\n",
       "    }\n",
       "\n",
       "    .dataframe thead th {\n",
       "        text-align: right;\n",
       "    }\n",
       "</style>\n",
       "<table border=\"1\" class=\"dataframe\">\n",
       "  <thead>\n",
       "    <tr style=\"text-align: right;\">\n",
       "      <th></th>\n",
       "      <th>name</th>\n",
       "      <th>year</th>\n",
       "      <th>quarter</th>\n",
       "      <th>q_amt</th>\n",
       "      <th>Counter</th>\n",
       "    </tr>\n",
       "  </thead>\n",
       "  <tbody>\n",
       "    <tr>\n",
       "      <th>100</th>\n",
       "      <td>KBANK</td>\n",
       "      <td>8087</td>\n",
       "      <td>10</td>\n",
       "      <td>42479861</td>\n",
       "      <td>4</td>\n",
       "    </tr>\n",
       "    <tr>\n",
       "      <th>207</th>\n",
       "      <td>TOP</td>\n",
       "      <td>8087</td>\n",
       "      <td>10</td>\n",
       "      <td>37553987</td>\n",
       "      <td>4</td>\n",
       "    </tr>\n",
       "    <tr>\n",
       "      <th>152</th>\n",
       "      <td>RBF</td>\n",
       "      <td>8087</td>\n",
       "      <td>10</td>\n",
       "      <td>491792</td>\n",
       "      <td>4</td>\n",
       "    </tr>\n",
       "    <tr>\n",
       "      <th>102</th>\n",
       "      <td>KEX</td>\n",
       "      <td>8087</td>\n",
       "      <td>10</td>\n",
       "      <td>-2502428</td>\n",
       "      <td>4</td>\n",
       "    </tr>\n",
       "    <tr>\n",
       "      <th>10</th>\n",
       "      <td>AOT</td>\n",
       "      <td>8087</td>\n",
       "      <td>10</td>\n",
       "      <td>-14912794</td>\n",
       "      <td>4</td>\n",
       "    </tr>\n",
       "  </tbody>\n",
       "</table>\n",
       "</div>"
      ],
      "text/plain": [
       "      name  year  quarter     q_amt  Counter\n",
       "100  KBANK  8087       10  42479861        4\n",
       "207    TOP  8087       10  37553987        4\n",
       "152    RBF  8087       10    491792        4\n",
       "102    KEX  8087       10  -2502428        4\n",
       "10     AOT  8087       10 -14912794        4"
      ]
     },
     "execution_count": 4,
     "metadata": {},
     "output_type": "execute_result"
    }
   ],
   "source": [
    "dfc = pd.read_sql(sql, conlt)\n",
    "dfc[\"Counter\"] = 1\n",
    "dfc_grp = dfc.groupby([\"name\"], as_index=False).sum()\n",
    "dfc_grp = dfc_grp[dfc_grp[\"Counter\"] == 4]\n",
    "dfc_grp.sample(5)"
   ]
  },
  {
   "cell_type": "code",
   "execution_count": 5,
   "metadata": {},
   "outputs": [
    {
     "name": "stdout",
     "output_type": "stream",
     "text": [
      "\n",
      "SELECT name,year,quarter,q_amt \n",
      "FROM epss \n",
      "WHERE (year = 2022 AND quarter <= 3-1) \n",
      "OR (year = 2022-1 AND quarter >= 3) \n",
      "ORDER BY year DESC, quarter DESC\n"
     ]
    }
   ],
   "source": [
    "sql = \"\"\"\n",
    "SELECT name,year,quarter,q_amt \n",
    "FROM epss \n",
    "WHERE (year = %s AND quarter <= %s-1) \n",
    "OR (year = %s-1 AND quarter >= %s) \n",
    "ORDER BY year DESC, quarter DESC\"\"\"\n",
    "sql = sql % (year, quarter, year, quarter)\n",
    "print(sql)"
   ]
  },
  {
   "cell_type": "code",
   "execution_count": 6,
   "metadata": {},
   "outputs": [
    {
     "data": {
      "text/html": [
       "<style type=\"text/css\">\n",
       "</style>\n",
       "<table id=\"T_6da76_\">\n",
       "  <thead>\n",
       "    <tr>\n",
       "      <th class=\"blank level0\" >&nbsp;</th>\n",
       "      <th class=\"col_heading level0 col0\" >name</th>\n",
       "      <th class=\"col_heading level0 col1\" >year</th>\n",
       "      <th class=\"col_heading level0 col2\" >quarter</th>\n",
       "      <th class=\"col_heading level0 col3\" >q_amt</th>\n",
       "      <th class=\"col_heading level0 col4\" >Counter</th>\n",
       "    </tr>\n",
       "  </thead>\n",
       "  <tbody>\n",
       "    <tr>\n",
       "      <th id=\"T_6da76_level0_row0\" class=\"row_heading level0 row0\" >14</th>\n",
       "      <td id=\"T_6da76_row0_col0\" class=\"data row0 col0\" >ASP</td>\n",
       "      <td id=\"T_6da76_row0_col1\" class=\"data row0 col1\" >8086</td>\n",
       "      <td id=\"T_6da76_row0_col2\" class=\"data row0 col2\" >10</td>\n",
       "      <td id=\"T_6da76_row0_col3\" class=\"data row0 col3\" >578,771</td>\n",
       "      <td id=\"T_6da76_row0_col4\" class=\"data row0 col4\" >4</td>\n",
       "    </tr>\n",
       "    <tr>\n",
       "      <th id=\"T_6da76_level0_row1\" class=\"row_heading level0 row1\" >58</th>\n",
       "      <td id=\"T_6da76_row1_col0\" class=\"data row1 col0\" >DIF</td>\n",
       "      <td id=\"T_6da76_row1_col1\" class=\"data row1 col1\" >8086</td>\n",
       "      <td id=\"T_6da76_row1_col2\" class=\"data row1 col2\" >10</td>\n",
       "      <td id=\"T_6da76_row1_col3\" class=\"data row1 col3\" >12,759,649</td>\n",
       "      <td id=\"T_6da76_row1_col4\" class=\"data row1 col4\" >4</td>\n",
       "    </tr>\n",
       "    <tr>\n",
       "      <th id=\"T_6da76_level0_row2\" class=\"row_heading level0 row2\" >8</th>\n",
       "      <td id=\"T_6da76_row2_col0\" class=\"data row2 col0\" >AMATA</td>\n",
       "      <td id=\"T_6da76_row2_col1\" class=\"data row2 col1\" >8086</td>\n",
       "      <td id=\"T_6da76_row2_col2\" class=\"data row2 col2\" >10</td>\n",
       "      <td id=\"T_6da76_row2_col3\" class=\"data row2 col3\" >2,171,767</td>\n",
       "      <td id=\"T_6da76_row2_col4\" class=\"data row2 col4\" >4</td>\n",
       "    </tr>\n",
       "    <tr>\n",
       "      <th id=\"T_6da76_level0_row3\" class=\"row_heading level0 row3\" >231</th>\n",
       "      <td id=\"T_6da76_row3_col0\" class=\"data row3 col0\" >WICE</td>\n",
       "      <td id=\"T_6da76_row3_col1\" class=\"data row3 col1\" >8086</td>\n",
       "      <td id=\"T_6da76_row3_col2\" class=\"data row3 col2\" >10</td>\n",
       "      <td id=\"T_6da76_row3_col3\" class=\"data row3 col3\" >670,741</td>\n",
       "      <td id=\"T_6da76_row3_col4\" class=\"data row3 col4\" >4</td>\n",
       "    </tr>\n",
       "    <tr>\n",
       "      <th id=\"T_6da76_level0_row4\" class=\"row_heading level0 row4\" >193</th>\n",
       "      <td id=\"T_6da76_row4_col0\" class=\"data row4 col0\" >TFFIF</td>\n",
       "      <td id=\"T_6da76_row4_col1\" class=\"data row4 col1\" >8086</td>\n",
       "      <td id=\"T_6da76_row4_col2\" class=\"data row4 col2\" >10</td>\n",
       "      <td id=\"T_6da76_row4_col3\" class=\"data row4 col3\" >1,209,444</td>\n",
       "      <td id=\"T_6da76_row4_col4\" class=\"data row4 col4\" >4</td>\n",
       "    </tr>\n",
       "  </tbody>\n",
       "</table>\n"
      ],
      "text/plain": [
       "<pandas.io.formats.style.Styler at 0x19f994a0790>"
      ]
     },
     "execution_count": 6,
     "metadata": {},
     "output_type": "execute_result"
    }
   ],
   "source": [
    "dfp = pd.read_sql(sql, conlt)\n",
    "dfp[\"Counter\"] = 1\n",
    "dfp_grp = dfp.groupby([\"name\"], as_index=False).sum()\n",
    "dfp_grp = dfp_grp[dfp_grp[\"Counter\"] == 4]\n",
    "dfp_grp.sample(5).style.format(format_dict)"
   ]
  },
  {
   "cell_type": "code",
   "execution_count": 7,
   "metadata": {},
   "outputs": [
    {
     "data": {
      "text/plain": [
       "(233,)"
      ]
     },
     "execution_count": 7,
     "metadata": {},
     "output_type": "execute_result"
    }
   ],
   "source": [
    "dfp.name.unique().shape"
   ]
  },
  {
   "cell_type": "code",
   "execution_count": 8,
   "metadata": {},
   "outputs": [
    {
     "data": {
      "text/plain": [
       "(233, 15)"
      ]
     },
     "execution_count": 8,
     "metadata": {},
     "output_type": "execute_result"
    }
   ],
   "source": [
    "sql = \"\"\"\n",
    "SELECT *\n",
    "FROM stocks\n",
    "\"\"\"\n",
    "stocks = pd.read_sql(sql, conlt)\n",
    "stocks.shape"
   ]
  },
  {
   "cell_type": "code",
   "execution_count": 9,
   "metadata": {},
   "outputs": [
    {
     "data": {
      "text/plain": [
       "(401, 9)"
      ]
     },
     "execution_count": 9,
     "metadata": {},
     "output_type": "execute_result"
    }
   ],
   "source": [
    "sql = \"\"\"\n",
    "SELECT *\n",
    "FROM tickers\n",
    "\"\"\"\n",
    "tickers = pd.read_sql(sql, conlt)\n",
    "tickers.shape"
   ]
  },
  {
   "cell_type": "code",
   "execution_count": 10,
   "metadata": {},
   "outputs": [
    {
     "data": {
      "text/html": [
       "<style type=\"text/css\">\n",
       "</style>\n",
       "<table id=\"T_31462_\">\n",
       "  <thead>\n",
       "    <tr>\n",
       "      <th class=\"blank level0\" >&nbsp;</th>\n",
       "      <th class=\"col_heading level0 col0\" >name</th>\n",
       "      <th class=\"col_heading level0 col1\" >year</th>\n",
       "      <th class=\"col_heading level0 col2\" >quarter</th>\n",
       "      <th class=\"col_heading level0 col3\" >q_amt_c</th>\n",
       "      <th class=\"col_heading level0 col4\" >q_amt_p</th>\n",
       "      <th class=\"col_heading level0 col5\" >inc_profit</th>\n",
       "      <th class=\"col_heading level0 col6\" >percent</th>\n",
       "    </tr>\n",
       "  </thead>\n",
       "  <tbody>\n",
       "    <tr>\n",
       "      <th id=\"T_31462_level0_row0\" class=\"row_heading level0 row0\" >185</th>\n",
       "      <td id=\"T_31462_row0_col0\" class=\"data row0 col0\" >SUPER</td>\n",
       "      <td id=\"T_31462_row0_col1\" class=\"data row0 col1\" >2022</td>\n",
       "      <td id=\"T_31462_row0_col2\" class=\"data row0 col2\" >Q3</td>\n",
       "      <td id=\"T_31462_row0_col3\" class=\"data row0 col3\" >999,566</td>\n",
       "      <td id=\"T_31462_row0_col4\" class=\"data row0 col4\" >1,607,875</td>\n",
       "      <td id=\"T_31462_row0_col5\" class=\"data row0 col5\" >-608,309</td>\n",
       "      <td id=\"T_31462_row0_col6\" class=\"data row0 col6\" >-37.83%</td>\n",
       "    </tr>\n",
       "    <tr>\n",
       "      <th id=\"T_31462_level0_row1\" class=\"row_heading level0 row1\" >93</th>\n",
       "      <td id=\"T_31462_row1_col0\" class=\"data row1 col0\" >IRPC</td>\n",
       "      <td id=\"T_31462_row1_col1\" class=\"data row1 col1\" >2022</td>\n",
       "      <td id=\"T_31462_row1_col2\" class=\"data row1 col2\" >Q3</td>\n",
       "      <td id=\"T_31462_row1_col3\" class=\"data row1 col3\" >4,979,223</td>\n",
       "      <td id=\"T_31462_row1_col4\" class=\"data row1 col4\" >9,683,390</td>\n",
       "      <td id=\"T_31462_row1_col5\" class=\"data row1 col5\" >-4,704,167</td>\n",
       "      <td id=\"T_31462_row1_col6\" class=\"data row1 col6\" >-48.58%</td>\n",
       "    </tr>\n",
       "    <tr>\n",
       "      <th id=\"T_31462_level0_row2\" class=\"row_heading level0 row2\" >139</th>\n",
       "      <td id=\"T_31462_row2_col0\" class=\"data row2 col0\" >PREB</td>\n",
       "      <td id=\"T_31462_row2_col1\" class=\"data row2 col1\" >2022</td>\n",
       "      <td id=\"T_31462_row2_col2\" class=\"data row2 col2\" >Q3</td>\n",
       "      <td id=\"T_31462_row2_col3\" class=\"data row2 col3\" >412,854</td>\n",
       "      <td id=\"T_31462_row2_col4\" class=\"data row2 col4\" >334,580</td>\n",
       "      <td id=\"T_31462_row2_col5\" class=\"data row2 col5\" >78,274</td>\n",
       "      <td id=\"T_31462_row2_col6\" class=\"data row2 col6\" >23.39%</td>\n",
       "    </tr>\n",
       "    <tr>\n",
       "      <th id=\"T_31462_level0_row3\" class=\"row_heading level0 row3\" >141</th>\n",
       "      <td id=\"T_31462_row3_col0\" class=\"data row3 col0\" >PSH</td>\n",
       "      <td id=\"T_31462_row3_col1\" class=\"data row3 col1\" >2022</td>\n",
       "      <td id=\"T_31462_row3_col2\" class=\"data row3 col2\" >Q3</td>\n",
       "      <td id=\"T_31462_row3_col3\" class=\"data row3 col3\" >2,589,196</td>\n",
       "      <td id=\"T_31462_row3_col4\" class=\"data row3 col4\" >2,300,590</td>\n",
       "      <td id=\"T_31462_row3_col5\" class=\"data row3 col5\" >288,606</td>\n",
       "      <td id=\"T_31462_row3_col6\" class=\"data row3 col6\" >12.54%</td>\n",
       "    </tr>\n",
       "    <tr>\n",
       "      <th id=\"T_31462_level0_row4\" class=\"row_heading level0 row4\" >173</th>\n",
       "      <td id=\"T_31462_row4_col0\" class=\"data row4 col0\" >SNC</td>\n",
       "      <td id=\"T_31462_row4_col1\" class=\"data row4 col1\" >2022</td>\n",
       "      <td id=\"T_31462_row4_col2\" class=\"data row4 col2\" >Q3</td>\n",
       "      <td id=\"T_31462_row4_col3\" class=\"data row4 col3\" >726,466</td>\n",
       "      <td id=\"T_31462_row4_col4\" class=\"data row4 col4\" >795,778</td>\n",
       "      <td id=\"T_31462_row4_col5\" class=\"data row4 col5\" >-69,312</td>\n",
       "      <td id=\"T_31462_row4_col6\" class=\"data row4 col6\" >-8.71%</td>\n",
       "    </tr>\n",
       "  </tbody>\n",
       "</table>\n"
      ],
      "text/plain": [
       "<pandas.io.formats.style.Styler at 0x19f9a54a3d0>"
      ]
     },
     "execution_count": 10,
     "metadata": {},
     "output_type": "execute_result"
    }
   ],
   "source": [
    "dfm = pd.merge(dfc_grp, dfp_grp, on=\"name\", suffixes=([\"_c\", \"_p\"]), how=\"inner\")\n",
    "dfm[\"inc_profit\"] = dfm[\"q_amt_c\"] - dfm[\"q_amt_p\"]\n",
    "dfm[\"percent\"] = round(dfm[\"inc_profit\"] / abs(dfm[\"q_amt_p\"]) * 100, 2)\n",
    "dfm[\"year\"] = year\n",
    "dfm[\"quarter\"] = \"Q\" + str(quarter)\n",
    "df_percent = dfm[cols]\n",
    "df_percent.sample(5).style.format(format_dict)"
   ]
  },
  {
   "cell_type": "code",
   "execution_count": 11,
   "metadata": {},
   "outputs": [
    {
     "name": "stdout",
     "output_type": "stream",
     "text": [
      "\n",
      "DELETE FROM qt_profits \n",
      "WHERE year = 2022 AND quarter = 'Q3'\n",
      "\n"
     ]
    },
    {
     "data": {
      "text/plain": [
       "221"
      ]
     },
     "execution_count": 11,
     "metadata": {},
     "output_type": "execute_result"
    }
   ],
   "source": [
    "sql = \"\"\"\n",
    "DELETE FROM qt_profits \n",
    "WHERE year = %s AND quarter = 'Q%s'\n",
    "\"\"\"\n",
    "sql = sql % (year, quarter)\n",
    "print(sql)\n",
    "\n",
    "rp = conlt.execute(sql)\n",
    "rp.rowcount"
   ]
  },
  {
   "cell_type": "code",
   "execution_count": 12,
   "metadata": {},
   "outputs": [
    {
     "data": {
      "text/html": [
       "<div>\n",
       "<style scoped>\n",
       "    .dataframe tbody tr th:only-of-type {\n",
       "        vertical-align: middle;\n",
       "    }\n",
       "\n",
       "    .dataframe tbody tr th {\n",
       "        vertical-align: top;\n",
       "    }\n",
       "\n",
       "    .dataframe thead th {\n",
       "        text-align: right;\n",
       "    }\n",
       "</style>\n",
       "<table border=\"1\" class=\"dataframe\">\n",
       "  <thead>\n",
       "    <tr style=\"text-align: right;\">\n",
       "      <th></th>\n",
       "      <th>name</th>\n",
       "      <th>id</th>\n",
       "    </tr>\n",
       "  </thead>\n",
       "  <tbody>\n",
       "    <tr>\n",
       "      <th>37</th>\n",
       "      <td>BANPU</td>\n",
       "      <td>47</td>\n",
       "    </tr>\n",
       "    <tr>\n",
       "      <th>191</th>\n",
       "      <td>MAJOR</td>\n",
       "      <td>282</td>\n",
       "    </tr>\n",
       "    <tr>\n",
       "      <th>237</th>\n",
       "      <td>PRM</td>\n",
       "      <td>639</td>\n",
       "    </tr>\n",
       "    <tr>\n",
       "      <th>79</th>\n",
       "      <td>CPNCG</td>\n",
       "      <td>122</td>\n",
       "    </tr>\n",
       "    <tr>\n",
       "      <th>179</th>\n",
       "      <td>LH</td>\n",
       "      <td>267</td>\n",
       "    </tr>\n",
       "  </tbody>\n",
       "</table>\n",
       "</div>"
      ],
      "text/plain": [
       "      name   id\n",
       "37   BANPU   47\n",
       "191  MAJOR  282\n",
       "237    PRM  639\n",
       "79   CPNCG  122\n",
       "179     LH  267"
      ]
     },
     "execution_count": 12,
     "metadata": {},
     "output_type": "execute_result"
    }
   ],
   "source": [
    "sql = \"SELECT name, id FROM tickers\"\n",
    "tickers = pd.read_sql(sql, conlt)\n",
    "tickers.sample(5)"
   ]
  },
  {
   "cell_type": "code",
   "execution_count": 13,
   "metadata": {},
   "outputs": [
    {
     "data": {
      "text/html": [
       "<style type=\"text/css\">\n",
       "</style>\n",
       "<table id=\"T_9bd40_\">\n",
       "  <thead>\n",
       "    <tr>\n",
       "      <th class=\"blank level0\" >&nbsp;</th>\n",
       "      <th class=\"col_heading level0 col0\" >name</th>\n",
       "      <th class=\"col_heading level0 col1\" >year</th>\n",
       "      <th class=\"col_heading level0 col2\" >quarter</th>\n",
       "      <th class=\"col_heading level0 col3\" >q_amt_c</th>\n",
       "      <th class=\"col_heading level0 col4\" >q_amt_p</th>\n",
       "      <th class=\"col_heading level0 col5\" >inc_profit</th>\n",
       "      <th class=\"col_heading level0 col6\" >percent</th>\n",
       "      <th class=\"col_heading level0 col7\" >id</th>\n",
       "    </tr>\n",
       "  </thead>\n",
       "  <tbody>\n",
       "    <tr>\n",
       "      <th id=\"T_9bd40_level0_row0\" class=\"row_heading level0 row0\" >0</th>\n",
       "      <td id=\"T_9bd40_row0_col0\" class=\"data row0 col0\" >ACE</td>\n",
       "      <td id=\"T_9bd40_row0_col1\" class=\"data row0 col1\" >2022</td>\n",
       "      <td id=\"T_9bd40_row0_col2\" class=\"data row0 col2\" >Q3</td>\n",
       "      <td id=\"T_9bd40_row0_col3\" class=\"data row0 col3\" >1,455,601</td>\n",
       "      <td id=\"T_9bd40_row0_col4\" class=\"data row0 col4\" >1,485,354</td>\n",
       "      <td id=\"T_9bd40_row0_col5\" class=\"data row0 col5\" >-29,753</td>\n",
       "      <td id=\"T_9bd40_row0_col6\" class=\"data row0 col6\" >-2.00%</td>\n",
       "      <td id=\"T_9bd40_row0_col7\" class=\"data row0 col7\" >698</td>\n",
       "    </tr>\n",
       "    <tr>\n",
       "      <th id=\"T_9bd40_level0_row1\" class=\"row_heading level0 row1\" >163</th>\n",
       "      <td id=\"T_9bd40_row1_col0\" class=\"data row1 col0\" >SCCC</td>\n",
       "      <td id=\"T_9bd40_row1_col1\" class=\"data row1 col1\" >2022</td>\n",
       "      <td id=\"T_9bd40_row1_col2\" class=\"data row1 col2\" >Q3</td>\n",
       "      <td id=\"T_9bd40_row1_col3\" class=\"data row1 col3\" >3,822,686</td>\n",
       "      <td id=\"T_9bd40_row1_col4\" class=\"data row1 col4\" >3,895,929</td>\n",
       "      <td id=\"T_9bd40_row1_col5\" class=\"data row1 col5\" >-73,243</td>\n",
       "      <td id=\"T_9bd40_row1_col6\" class=\"data row1 col6\" >-1.88%</td>\n",
       "      <td id=\"T_9bd40_row1_col7\" class=\"data row1 col7\" >428</td>\n",
       "    </tr>\n",
       "    <tr>\n",
       "      <th id=\"T_9bd40_level0_row2\" class=\"row_heading level0 row2\" >223</th>\n",
       "      <td id=\"T_9bd40_row2_col0\" class=\"data row2 col0\" >VIBHA</td>\n",
       "      <td id=\"T_9bd40_row2_col1\" class=\"data row2 col1\" >2022</td>\n",
       "      <td id=\"T_9bd40_row2_col2\" class=\"data row2 col2\" >Q3</td>\n",
       "      <td id=\"T_9bd40_row2_col3\" class=\"data row2 col3\" >1,799,830</td>\n",
       "      <td id=\"T_9bd40_row2_col4\" class=\"data row2 col4\" >2,133,915</td>\n",
       "      <td id=\"T_9bd40_row2_col5\" class=\"data row2 col5\" >-334,085</td>\n",
       "      <td id=\"T_9bd40_row2_col6\" class=\"data row2 col6\" >-15.66%</td>\n",
       "      <td id=\"T_9bd40_row2_col7\" class=\"data row2 col7\" >610</td>\n",
       "    </tr>\n",
       "    <tr>\n",
       "      <th id=\"T_9bd40_level0_row3\" class=\"row_heading level0 row3\" >22</th>\n",
       "      <td id=\"T_9bd40_row3_col0\" class=\"data row3 col0\" >BCH</td>\n",
       "      <td id=\"T_9bd40_row3_col1\" class=\"data row3 col1\" >2022</td>\n",
       "      <td id=\"T_9bd40_row3_col2\" class=\"data row3 col2\" >Q3</td>\n",
       "      <td id=\"T_9bd40_row3_col3\" class=\"data row3 col3\" >5,249,486</td>\n",
       "      <td id=\"T_9bd40_row3_col4\" class=\"data row3 col4\" >8,548,803</td>\n",
       "      <td id=\"T_9bd40_row3_col5\" class=\"data row3 col5\" >-3,299,317</td>\n",
       "      <td id=\"T_9bd40_row3_col6\" class=\"data row3 col6\" >-38.59%</td>\n",
       "      <td id=\"T_9bd40_row3_col7\" class=\"data row3 col7\" >51</td>\n",
       "    </tr>\n",
       "    <tr>\n",
       "      <th id=\"T_9bd40_level0_row4\" class=\"row_heading level0 row4\" >101</th>\n",
       "      <td id=\"T_9bd40_row4_col0\" class=\"data row4 col0\" >KEX</td>\n",
       "      <td id=\"T_9bd40_row4_col1\" class=\"data row4 col1\" >2022</td>\n",
       "      <td id=\"T_9bd40_row4_col2\" class=\"data row4 col2\" >Q3</td>\n",
       "      <td id=\"T_9bd40_row4_col3\" class=\"data row4 col3\" >-2,502,428</td>\n",
       "      <td id=\"T_9bd40_row4_col4\" class=\"data row4 col4\" >-1,814,949</td>\n",
       "      <td id=\"T_9bd40_row4_col5\" class=\"data row4 col5\" >-687,479</td>\n",
       "      <td id=\"T_9bd40_row4_col6\" class=\"data row4 col6\" >-37.88%</td>\n",
       "      <td id=\"T_9bd40_row4_col7\" class=\"data row4 col7\" >740</td>\n",
       "    </tr>\n",
       "  </tbody>\n",
       "</table>\n"
      ],
      "text/plain": [
       "<pandas.io.formats.style.Styler at 0x19f9a542910>"
      ]
     },
     "execution_count": 13,
     "metadata": {},
     "output_type": "execute_result"
    }
   ],
   "source": [
    "df_ins = pd.merge(df_percent, tickers, on=\"name\", how=\"inner\")\n",
    "df_ins.sample(5).style.format(format_dict)"
   ]
  },
  {
   "cell_type": "code",
   "execution_count": 14,
   "metadata": {},
   "outputs": [
    {
     "data": {
      "text/plain": [
       "231"
      ]
     },
     "execution_count": 14,
     "metadata": {},
     "output_type": "execute_result"
    }
   ],
   "source": [
    "rcds = df_ins.values.tolist()\n",
    "len(rcds)"
   ]
  },
  {
   "cell_type": "code",
   "execution_count": 15,
   "metadata": {},
   "outputs": [
    {
     "name": "stdout",
     "output_type": "stream",
     "text": [
      "\n",
      "INSERT INTO qt_profits (name, year, quarter, latest_amt, previous_amt, inc_amt, inc_pct, ticker_id) VALUES (?, ?, ?, ?, ?, ?, ?, ?)\n",
      "\n"
     ]
    }
   ],
   "source": [
    "sql = \"\"\"\n",
    "INSERT INTO qt_profits (name, year, quarter, latest_amt, previous_amt, \\\n",
    "inc_amt, inc_pct, ticker_id) \\\n",
    "VALUES (?, ?, ?, ?, ?, ?, ?, ?)\n",
    "\"\"\"\n",
    "print(sql)"
   ]
  },
  {
   "cell_type": "code",
   "execution_count": 16,
   "metadata": {},
   "outputs": [],
   "source": [
    "for rcd in rcds:\n",
    "    conlt.execute(sql, rcd)"
   ]
  },
  {
   "cell_type": "markdown",
   "metadata": {},
   "source": [
    "### End of loop"
   ]
  },
  {
   "cell_type": "code",
   "execution_count": 17,
   "metadata": {},
   "outputs": [
    {
     "data": {
      "text/html": [
       "<style type=\"text/css\">\n",
       "</style>\n",
       "<table id=\"T_b2ae3_\">\n",
       "  <thead>\n",
       "    <tr>\n",
       "      <th class=\"blank level0\" >&nbsp;</th>\n",
       "      <th class=\"col_heading level0 col0\" >name</th>\n",
       "      <th class=\"col_heading level0 col1\" >year</th>\n",
       "      <th class=\"col_heading level0 col2\" >quarter</th>\n",
       "      <th class=\"col_heading level0 col3\" >q_amt_c</th>\n",
       "      <th class=\"col_heading level0 col4\" >q_amt_p</th>\n",
       "      <th class=\"col_heading level0 col5\" >inc_profit</th>\n",
       "      <th class=\"col_heading level0 col6\" >percent</th>\n",
       "    </tr>\n",
       "  </thead>\n",
       "  <tbody>\n",
       "    <tr>\n",
       "      <th id=\"T_b2ae3_level0_row0\" class=\"row_heading level0 row0\" >6</th>\n",
       "      <td id=\"T_b2ae3_row0_col0\" class=\"data row0 col0\" >AIT</td>\n",
       "      <td id=\"T_b2ae3_row0_col1\" class=\"data row0 col1\" >2022</td>\n",
       "      <td id=\"T_b2ae3_row0_col2\" class=\"data row0 col2\" >Q3</td>\n",
       "      <td id=\"T_b2ae3_row0_col3\" class=\"data row0 col3\" >582,222</td>\n",
       "      <td id=\"T_b2ae3_row0_col4\" class=\"data row0 col4\" >556,639</td>\n",
       "      <td id=\"T_b2ae3_row0_col5\" class=\"data row0 col5\" >25,583</td>\n",
       "      <td id=\"T_b2ae3_row0_col6\" class=\"data row0 col6\" >4.60%</td>\n",
       "    </tr>\n",
       "    <tr>\n",
       "      <th id=\"T_b2ae3_level0_row1\" class=\"row_heading level0 row1\" >185</th>\n",
       "      <td id=\"T_b2ae3_row1_col0\" class=\"data row1 col0\" >SUPER</td>\n",
       "      <td id=\"T_b2ae3_row1_col1\" class=\"data row1 col1\" >2022</td>\n",
       "      <td id=\"T_b2ae3_row1_col2\" class=\"data row1 col2\" >Q3</td>\n",
       "      <td id=\"T_b2ae3_row1_col3\" class=\"data row1 col3\" >999,566</td>\n",
       "      <td id=\"T_b2ae3_row1_col4\" class=\"data row1 col4\" >1,607,875</td>\n",
       "      <td id=\"T_b2ae3_row1_col5\" class=\"data row1 col5\" >-608,309</td>\n",
       "      <td id=\"T_b2ae3_row1_col6\" class=\"data row1 col6\" >-37.83%</td>\n",
       "    </tr>\n",
       "    <tr>\n",
       "      <th id=\"T_b2ae3_level0_row2\" class=\"row_heading level0 row2\" >49</th>\n",
       "      <td id=\"T_b2ae3_row2_col0\" class=\"data row2 col0\" >CPF</td>\n",
       "      <td id=\"T_b2ae3_row2_col1\" class=\"data row2 col1\" >2022</td>\n",
       "      <td id=\"T_b2ae3_row2_col2\" class=\"data row2 col2\" >Q3</td>\n",
       "      <td id=\"T_b2ae3_row2_col3\" class=\"data row2 col3\" >18,877,729</td>\n",
       "      <td id=\"T_b2ae3_row2_col4\" class=\"data row2 col4\" >8,395,659</td>\n",
       "      <td id=\"T_b2ae3_row2_col5\" class=\"data row2 col5\" >10,482,070</td>\n",
       "      <td id=\"T_b2ae3_row2_col6\" class=\"data row2 col6\" >124.85%</td>\n",
       "    </tr>\n",
       "    <tr>\n",
       "      <th id=\"T_b2ae3_level0_row3\" class=\"row_heading level0 row3\" >170</th>\n",
       "      <td id=\"T_b2ae3_row3_col0\" class=\"data row3 col0\" >SKN</td>\n",
       "      <td id=\"T_b2ae3_row3_col1\" class=\"data row3 col1\" >2022</td>\n",
       "      <td id=\"T_b2ae3_row3_col2\" class=\"data row3 col2\" >Q3</td>\n",
       "      <td id=\"T_b2ae3_row3_col3\" class=\"data row3 col3\" >814,184</td>\n",
       "      <td id=\"T_b2ae3_row3_col4\" class=\"data row3 col4\" >889,910</td>\n",
       "      <td id=\"T_b2ae3_row3_col5\" class=\"data row3 col5\" >-75,726</td>\n",
       "      <td id=\"T_b2ae3_row3_col6\" class=\"data row3 col6\" >-8.51%</td>\n",
       "    </tr>\n",
       "    <tr>\n",
       "      <th id=\"T_b2ae3_level0_row4\" class=\"row_heading level0 row4\" >109</th>\n",
       "      <td id=\"T_b2ae3_row4_col0\" class=\"data row4 col0\" >LANNA</td>\n",
       "      <td id=\"T_b2ae3_row4_col1\" class=\"data row4 col1\" >2022</td>\n",
       "      <td id=\"T_b2ae3_row4_col2\" class=\"data row4 col2\" >Q3</td>\n",
       "      <td id=\"T_b2ae3_row4_col3\" class=\"data row4 col3\" >2,852,341</td>\n",
       "      <td id=\"T_b2ae3_row4_col4\" class=\"data row4 col4\" >2,821,353</td>\n",
       "      <td id=\"T_b2ae3_row4_col5\" class=\"data row4 col5\" >30,988</td>\n",
       "      <td id=\"T_b2ae3_row4_col6\" class=\"data row4 col6\" >1.10%</td>\n",
       "    </tr>\n",
       "  </tbody>\n",
       "</table>\n"
      ],
      "text/plain": [
       "<pandas.io.formats.style.Styler at 0x19f9a55c040>"
      ]
     },
     "execution_count": 17,
     "metadata": {},
     "output_type": "execute_result"
    }
   ],
   "source": [
    "criteria_1 = df_ins.q_amt_c > 440_000\n",
    "df_ins.loc[criteria_1, cols].sample(5).style.format(format_dict)"
   ]
  },
  {
   "cell_type": "code",
   "execution_count": 18,
   "metadata": {},
   "outputs": [
    {
     "data": {
      "text/html": [
       "<style type=\"text/css\">\n",
       "</style>\n",
       "<table id=\"T_23c2f_\">\n",
       "  <thead>\n",
       "    <tr>\n",
       "      <th class=\"blank level0\" >&nbsp;</th>\n",
       "      <th class=\"col_heading level0 col0\" >name</th>\n",
       "      <th class=\"col_heading level0 col1\" >year</th>\n",
       "      <th class=\"col_heading level0 col2\" >quarter</th>\n",
       "      <th class=\"col_heading level0 col3\" >q_amt_c</th>\n",
       "      <th class=\"col_heading level0 col4\" >q_amt_p</th>\n",
       "      <th class=\"col_heading level0 col5\" >inc_profit</th>\n",
       "      <th class=\"col_heading level0 col6\" >percent</th>\n",
       "    </tr>\n",
       "  </thead>\n",
       "  <tbody>\n",
       "    <tr>\n",
       "      <th id=\"T_23c2f_level0_row0\" class=\"row_heading level0 row0\" >164</th>\n",
       "      <td id=\"T_23c2f_row0_col0\" class=\"data row0 col0\" >SCGP</td>\n",
       "      <td id=\"T_23c2f_row0_col1\" class=\"data row0 col1\" >2022</td>\n",
       "      <td id=\"T_23c2f_row0_col2\" class=\"data row0 col2\" >Q3</td>\n",
       "      <td id=\"T_23c2f_row0_col3\" class=\"data row0 col3\" >7,466,698</td>\n",
       "      <td id=\"T_23c2f_row0_col4\" class=\"data row0 col4\" >7,410,265</td>\n",
       "      <td id=\"T_23c2f_row0_col5\" class=\"data row0 col5\" >56,433</td>\n",
       "      <td id=\"T_23c2f_row0_col6\" class=\"data row0 col6\" >0.76%</td>\n",
       "    </tr>\n",
       "    <tr>\n",
       "      <th id=\"T_23c2f_level0_row1\" class=\"row_heading level0 row1\" >102</th>\n",
       "      <td id=\"T_23c2f_row1_col0\" class=\"data row1 col0\" >KGI</td>\n",
       "      <td id=\"T_23c2f_row1_col1\" class=\"data row1 col1\" >2022</td>\n",
       "      <td id=\"T_23c2f_row1_col2\" class=\"data row1 col2\" >Q3</td>\n",
       "      <td id=\"T_23c2f_row1_col3\" class=\"data row1 col3\" >1,252,420</td>\n",
       "      <td id=\"T_23c2f_row1_col4\" class=\"data row1 col4\" >1,307,152</td>\n",
       "      <td id=\"T_23c2f_row1_col5\" class=\"data row1 col5\" >-54,732</td>\n",
       "      <td id=\"T_23c2f_row1_col6\" class=\"data row1 col6\" >-4.19%</td>\n",
       "    </tr>\n",
       "    <tr>\n",
       "      <th id=\"T_23c2f_level0_row2\" class=\"row_heading level0 row2\" >184</th>\n",
       "      <td id=\"T_23c2f_row2_col0\" class=\"data row2 col0\" >STGT</td>\n",
       "      <td id=\"T_23c2f_row2_col1\" class=\"data row2 col1\" >2022</td>\n",
       "      <td id=\"T_23c2f_row2_col2\" class=\"data row2 col2\" >Q3</td>\n",
       "      <td id=\"T_23c2f_row2_col3\" class=\"data row2 col3\" >3,530,109</td>\n",
       "      <td id=\"T_23c2f_row2_col4\" class=\"data row2 col4\" >8,041,123</td>\n",
       "      <td id=\"T_23c2f_row2_col5\" class=\"data row2 col5\" >-4,511,014</td>\n",
       "      <td id=\"T_23c2f_row2_col6\" class=\"data row2 col6\" >-56.10%</td>\n",
       "    </tr>\n",
       "    <tr>\n",
       "      <th id=\"T_23c2f_level0_row3\" class=\"row_heading level0 row3\" >133</th>\n",
       "      <td id=\"T_23c2f_row3_col0\" class=\"data row3 col0\" >OSP</td>\n",
       "      <td id=\"T_23c2f_row3_col1\" class=\"data row3 col1\" >2022</td>\n",
       "      <td id=\"T_23c2f_row3_col2\" class=\"data row3 col2\" >Q3</td>\n",
       "      <td id=\"T_23c2f_row3_col3\" class=\"data row3 col3\" >2,448,105</td>\n",
       "      <td id=\"T_23c2f_row3_col4\" class=\"data row3 col4\" >2,784,458</td>\n",
       "      <td id=\"T_23c2f_row3_col5\" class=\"data row3 col5\" >-336,353</td>\n",
       "      <td id=\"T_23c2f_row3_col6\" class=\"data row3 col6\" >-12.08%</td>\n",
       "    </tr>\n",
       "    <tr>\n",
       "      <th id=\"T_23c2f_level0_row4\" class=\"row_heading level0 row4\" >46</th>\n",
       "      <td id=\"T_23c2f_row4_col0\" class=\"data row4 col0\" >COM7</td>\n",
       "      <td id=\"T_23c2f_row4_col1\" class=\"data row4 col1\" >2022</td>\n",
       "      <td id=\"T_23c2f_row4_col2\" class=\"data row4 col2\" >Q3</td>\n",
       "      <td id=\"T_23c2f_row4_col3\" class=\"data row4 col3\" >3,035,153</td>\n",
       "      <td id=\"T_23c2f_row4_col4\" class=\"data row4 col4\" >2,880,990</td>\n",
       "      <td id=\"T_23c2f_row4_col5\" class=\"data row4 col5\" >154,163</td>\n",
       "      <td id=\"T_23c2f_row4_col6\" class=\"data row4 col6\" >5.35%</td>\n",
       "    </tr>\n",
       "  </tbody>\n",
       "</table>\n"
      ],
      "text/plain": [
       "<pandas.io.formats.style.Styler at 0x19f9a4f5490>"
      ]
     },
     "execution_count": 18,
     "metadata": {},
     "output_type": "execute_result"
    }
   ],
   "source": [
    "criteria_2 = df_ins.q_amt_p > 400_000\n",
    "df_ins.loc[criteria_2, cols].sample(5).style.format(format_dict)"
   ]
  },
  {
   "cell_type": "code",
   "execution_count": 19,
   "metadata": {},
   "outputs": [
    {
     "data": {
      "text/html": [
       "<style type=\"text/css\">\n",
       "</style>\n",
       "<table id=\"T_0f049_\">\n",
       "  <thead>\n",
       "    <tr>\n",
       "      <th class=\"blank level0\" >&nbsp;</th>\n",
       "      <th class=\"col_heading level0 col0\" >name</th>\n",
       "      <th class=\"col_heading level0 col1\" >year</th>\n",
       "      <th class=\"col_heading level0 col2\" >quarter</th>\n",
       "      <th class=\"col_heading level0 col3\" >q_amt_c</th>\n",
       "      <th class=\"col_heading level0 col4\" >q_amt_p</th>\n",
       "      <th class=\"col_heading level0 col5\" >inc_profit</th>\n",
       "      <th class=\"col_heading level0 col6\" >percent</th>\n",
       "    </tr>\n",
       "  </thead>\n",
       "  <tbody>\n",
       "    <tr>\n",
       "      <th id=\"T_0f049_level0_row0\" class=\"row_heading level0 row0\" >35</th>\n",
       "      <td id=\"T_0f049_row0_col0\" class=\"data row0 col0\" >BKI</td>\n",
       "      <td id=\"T_0f049_row0_col1\" class=\"data row0 col1\" >2022</td>\n",
       "      <td id=\"T_0f049_row0_col2\" class=\"data row0 col2\" >Q3</td>\n",
       "      <td id=\"T_0f049_row0_col3\" class=\"data row0 col3\" >-1,938,997</td>\n",
       "      <td id=\"T_0f049_row0_col4\" class=\"data row0 col4\" >-3,805,995</td>\n",
       "      <td id=\"T_0f049_row0_col5\" class=\"data row0 col5\" >1,866,998</td>\n",
       "      <td id=\"T_0f049_row0_col6\" class=\"data row0 col6\" >49.05%</td>\n",
       "    </tr>\n",
       "    <tr>\n",
       "      <th id=\"T_0f049_level0_row1\" class=\"row_heading level0 row1\" >104</th>\n",
       "      <td id=\"T_0f049_row1_col0\" class=\"data row1 col0\" >KSL</td>\n",
       "      <td id=\"T_0f049_row1_col1\" class=\"data row1 col1\" >2022</td>\n",
       "      <td id=\"T_0f049_row1_col2\" class=\"data row1 col2\" >Q3</td>\n",
       "      <td id=\"T_0f049_row1_col3\" class=\"data row1 col3\" >1,414,585</td>\n",
       "      <td id=\"T_0f049_row1_col4\" class=\"data row1 col4\" >951,975</td>\n",
       "      <td id=\"T_0f049_row1_col5\" class=\"data row1 col5\" >462,610</td>\n",
       "      <td id=\"T_0f049_row1_col6\" class=\"data row1 col6\" >48.59%</td>\n",
       "    </tr>\n",
       "    <tr>\n",
       "      <th id=\"T_0f049_level0_row2\" class=\"row_heading level0 row2\" >86</th>\n",
       "      <td id=\"T_0f049_row2_col0\" class=\"data row2 col0\" >III</td>\n",
       "      <td id=\"T_0f049_row2_col1\" class=\"data row2 col1\" >2022</td>\n",
       "      <td id=\"T_0f049_row2_col2\" class=\"data row2 col2\" >Q3</td>\n",
       "      <td id=\"T_0f049_row2_col3\" class=\"data row2 col3\" >492,038</td>\n",
       "      <td id=\"T_0f049_row2_col4\" class=\"data row2 col4\" >446,013</td>\n",
       "      <td id=\"T_0f049_row2_col5\" class=\"data row2 col5\" >46,025</td>\n",
       "      <td id=\"T_0f049_row2_col6\" class=\"data row2 col6\" >10.32%</td>\n",
       "    </tr>\n",
       "    <tr>\n",
       "      <th id=\"T_0f049_level0_row3\" class=\"row_heading level0 row3\" >174</th>\n",
       "      <td id=\"T_0f049_row3_col0\" class=\"data row3 col0\" >SPALI</td>\n",
       "      <td id=\"T_0f049_row3_col1\" class=\"data row3 col1\" >2022</td>\n",
       "      <td id=\"T_0f049_row3_col2\" class=\"data row3 col2\" >Q3</td>\n",
       "      <td id=\"T_0f049_row3_col3\" class=\"data row3 col3\" >8,880,962</td>\n",
       "      <td id=\"T_0f049_row3_col4\" class=\"data row3 col4\" >7,851,676</td>\n",
       "      <td id=\"T_0f049_row3_col5\" class=\"data row3 col5\" >1,029,286</td>\n",
       "      <td id=\"T_0f049_row3_col6\" class=\"data row3 col6\" >13.11%</td>\n",
       "    </tr>\n",
       "    <tr>\n",
       "      <th id=\"T_0f049_level0_row4\" class=\"row_heading level0 row4\" >27</th>\n",
       "      <td id=\"T_0f049_row4_col0\" class=\"data row4 col0\" >BE8</td>\n",
       "      <td id=\"T_0f049_row4_col1\" class=\"data row4 col1\" >2022</td>\n",
       "      <td id=\"T_0f049_row4_col2\" class=\"data row4 col2\" >Q3</td>\n",
       "      <td id=\"T_0f049_row4_col3\" class=\"data row4 col3\" >110,853</td>\n",
       "      <td id=\"T_0f049_row4_col4\" class=\"data row4 col4\" >96,714</td>\n",
       "      <td id=\"T_0f049_row4_col5\" class=\"data row4 col5\" >14,139</td>\n",
       "      <td id=\"T_0f049_row4_col6\" class=\"data row4 col6\" >14.62%</td>\n",
       "    </tr>\n",
       "  </tbody>\n",
       "</table>\n"
      ],
      "text/plain": [
       "<pandas.io.formats.style.Styler at 0x19f9a4c32e0>"
      ]
     },
     "execution_count": 19,
     "metadata": {},
     "output_type": "execute_result"
    }
   ],
   "source": [
    "criteria_3 = df_ins.percent > 10.00\n",
    "df_ins.loc[criteria_3, cols].sample(5).style.format(format_dict)"
   ]
  },
  {
   "cell_type": "code",
   "execution_count": 20,
   "metadata": {},
   "outputs": [
    {
     "data": {
      "text/html": [
       "<style type=\"text/css\">\n",
       "</style>\n",
       "<table id=\"T_b12f2_\">\n",
       "  <thead>\n",
       "    <tr>\n",
       "      <th class=\"blank level0\" >&nbsp;</th>\n",
       "      <th class=\"col_heading level0 col0\" >name</th>\n",
       "      <th class=\"col_heading level0 col1\" >year</th>\n",
       "      <th class=\"col_heading level0 col2\" >quarter</th>\n",
       "      <th class=\"col_heading level0 col3\" >q_amt_c</th>\n",
       "      <th class=\"col_heading level0 col4\" >q_amt_p</th>\n",
       "      <th class=\"col_heading level0 col5\" >inc_profit</th>\n",
       "      <th class=\"col_heading level0 col6\" >percent</th>\n",
       "    </tr>\n",
       "  </thead>\n",
       "  <tbody>\n",
       "    <tr>\n",
       "      <th id=\"T_b12f2_level0_row0\" class=\"row_heading level0 row0\" >5</th>\n",
       "      <td id=\"T_b12f2_row0_col0\" class=\"data row0 col0\" >AIMIRT</td>\n",
       "      <td id=\"T_b12f2_row0_col1\" class=\"data row0 col1\" >2022</td>\n",
       "      <td id=\"T_b12f2_row0_col2\" class=\"data row0 col2\" >Q3</td>\n",
       "      <td id=\"T_b12f2_row0_col3\" class=\"data row0 col3\" >693,015</td>\n",
       "      <td id=\"T_b12f2_row0_col4\" class=\"data row0 col4\" >566,114</td>\n",
       "      <td id=\"T_b12f2_row0_col5\" class=\"data row0 col5\" >126,901</td>\n",
       "      <td id=\"T_b12f2_row0_col6\" class=\"data row0 col6\" >22.42%</td>\n",
       "    </tr>\n",
       "    <tr>\n",
       "      <th id=\"T_b12f2_level0_row1\" class=\"row_heading level0 row1\" >143</th>\n",
       "      <td id=\"T_b12f2_row1_col0\" class=\"data row1 col0\" >PTG</td>\n",
       "      <td id=\"T_b12f2_row1_col1\" class=\"data row1 col1\" >2022</td>\n",
       "      <td id=\"T_b12f2_row1_col2\" class=\"data row1 col2\" >Q3</td>\n",
       "      <td id=\"T_b12f2_row1_col3\" class=\"data row1 col3\" >851,988</td>\n",
       "      <td id=\"T_b12f2_row1_col4\" class=\"data row1 col4\" >737,989</td>\n",
       "      <td id=\"T_b12f2_row1_col5\" class=\"data row1 col5\" >113,999</td>\n",
       "      <td id=\"T_b12f2_row1_col6\" class=\"data row1 col6\" >15.45%</td>\n",
       "    </tr>\n",
       "    <tr>\n",
       "      <th id=\"T_b12f2_level0_row2\" class=\"row_heading level0 row2\" >146</th>\n",
       "      <td id=\"T_b12f2_row2_col0\" class=\"data row2 col0\" >PTTEP</td>\n",
       "      <td id=\"T_b12f2_row2_col1\" class=\"data row2 col1\" >2022</td>\n",
       "      <td id=\"T_b12f2_row2_col2\" class=\"data row2 col2\" >Q3</td>\n",
       "      <td id=\"T_b12f2_row2_col3\" class=\"data row2 col3\" >65,936,017</td>\n",
       "      <td id=\"T_b12f2_row2_col4\" class=\"data row2 col4\" >51,309,276</td>\n",
       "      <td id=\"T_b12f2_row2_col5\" class=\"data row2 col5\" >14,626,741</td>\n",
       "      <td id=\"T_b12f2_row2_col6\" class=\"data row2 col6\" >28.51%</td>\n",
       "    </tr>\n",
       "    <tr>\n",
       "      <th id=\"T_b12f2_level0_row3\" class=\"row_heading level0 row3\" >37</th>\n",
       "      <td id=\"T_b12f2_row3_col0\" class=\"data row3 col0\" >BLAND</td>\n",
       "      <td id=\"T_b12f2_row3_col1\" class=\"data row3 col1\" >2022</td>\n",
       "      <td id=\"T_b12f2_row3_col2\" class=\"data row3 col2\" >Q3</td>\n",
       "      <td id=\"T_b12f2_row3_col3\" class=\"data row3 col3\" >1,215,802</td>\n",
       "      <td id=\"T_b12f2_row3_col4\" class=\"data row3 col4\" >1,016,832</td>\n",
       "      <td id=\"T_b12f2_row3_col5\" class=\"data row3 col5\" >198,970</td>\n",
       "      <td id=\"T_b12f2_row3_col6\" class=\"data row3 col6\" >19.57%</td>\n",
       "    </tr>\n",
       "    <tr>\n",
       "      <th id=\"T_b12f2_level0_row4\" class=\"row_heading level0 row4\" >168</th>\n",
       "      <td id=\"T_b12f2_row4_col0\" class=\"data row4 col0\" >SIRI</td>\n",
       "      <td id=\"T_b12f2_row4_col1\" class=\"data row4 col1\" >2022</td>\n",
       "      <td id=\"T_b12f2_row4_col2\" class=\"data row4 col2\" >Q3</td>\n",
       "      <td id=\"T_b12f2_row4_col3\" class=\"data row4 col3\" >2,831,419</td>\n",
       "      <td id=\"T_b12f2_row4_col4\" class=\"data row4 col4\" >2,191,557</td>\n",
       "      <td id=\"T_b12f2_row4_col5\" class=\"data row4 col5\" >639,862</td>\n",
       "      <td id=\"T_b12f2_row4_col6\" class=\"data row4 col6\" >29.20%</td>\n",
       "    </tr>\n",
       "  </tbody>\n",
       "</table>\n"
      ],
      "text/plain": [
       "<pandas.io.formats.style.Styler at 0x19f9a510130>"
      ]
     },
     "execution_count": 20,
     "metadata": {},
     "output_type": "execute_result"
    }
   ],
   "source": [
    "df_ins_criteria = criteria_1 & criteria_2 & criteria_3\n",
    "df_ins.loc[df_ins_criteria, cols].sample(5).style.format(format_dict)"
   ]
  },
  {
   "cell_type": "code",
   "execution_count": 21,
   "metadata": {},
   "outputs": [
    {
     "data": {
      "text/html": [
       "<style type=\"text/css\">\n",
       "</style>\n",
       "<table id=\"T_f4e87_\">\n",
       "  <thead>\n",
       "    <tr>\n",
       "      <th class=\"blank level0\" >&nbsp;</th>\n",
       "      <th class=\"col_heading level0 col0\" >name</th>\n",
       "      <th class=\"col_heading level0 col1\" >year</th>\n",
       "      <th class=\"col_heading level0 col2\" >quarter</th>\n",
       "      <th class=\"col_heading level0 col3\" >q_amt_c</th>\n",
       "      <th class=\"col_heading level0 col4\" >q_amt_p</th>\n",
       "      <th class=\"col_heading level0 col5\" >inc_profit</th>\n",
       "      <th class=\"col_heading level0 col6\" >percent</th>\n",
       "      <th class=\"col_heading level0 col7\" >id</th>\n",
       "    </tr>\n",
       "  </thead>\n",
       "  <tbody>\n",
       "    <tr>\n",
       "      <th id=\"T_f4e87_level0_row0\" class=\"row_heading level0 row0\" >54</th>\n",
       "      <td id=\"T_f4e87_row0_col0\" class=\"data row0 col0\" >CRC</td>\n",
       "      <td id=\"T_f4e87_row0_col1\" class=\"data row0 col1\" >2022</td>\n",
       "      <td id=\"T_f4e87_row0_col2\" class=\"data row0 col2\" >Q3</td>\n",
       "      <td id=\"T_f4e87_row0_col3\" class=\"data row0 col3\" >6,234,646</td>\n",
       "      <td id=\"T_f4e87_row0_col4\" class=\"data row0 col4\" >2,819,760</td>\n",
       "      <td id=\"T_f4e87_row0_col5\" class=\"data row0 col5\" >3,414,886</td>\n",
       "      <td id=\"T_f4e87_row0_col6\" class=\"data row0 col6\" >121.11%</td>\n",
       "      <td id=\"T_f4e87_row0_col7\" class=\"data row0 col7\" >708</td>\n",
       "    </tr>\n",
       "    <tr>\n",
       "      <th id=\"T_f4e87_level0_row1\" class=\"row_heading level0 row1\" >167</th>\n",
       "      <td id=\"T_f4e87_row1_col0\" class=\"data row1 col0\" >SINGER</td>\n",
       "      <td id=\"T_f4e87_row1_col1\" class=\"data row1 col1\" >2022</td>\n",
       "      <td id=\"T_f4e87_row1_col2\" class=\"data row1 col2\" >Q3</td>\n",
       "      <td id=\"T_f4e87_row1_col3\" class=\"data row1 col3\" >954,589</td>\n",
       "      <td id=\"T_f4e87_row1_col4\" class=\"data row1 col4\" >858,675</td>\n",
       "      <td id=\"T_f4e87_row1_col5\" class=\"data row1 col5\" >95,914</td>\n",
       "      <td id=\"T_f4e87_row1_col6\" class=\"data row1 col6\" >11.17%</td>\n",
       "      <td id=\"T_f4e87_row1_col7\" class=\"data row1 col7\" >446</td>\n",
       "    </tr>\n",
       "    <tr>\n",
       "      <th id=\"T_f4e87_level0_row2\" class=\"row_heading level0 row2\" >214</th>\n",
       "      <td id=\"T_f4e87_row2_col0\" class=\"data row2 col0\" >TTB</td>\n",
       "      <td id=\"T_f4e87_row2_col1\" class=\"data row2 col1\" >2022</td>\n",
       "      <td id=\"T_f4e87_row2_col2\" class=\"data row2 col2\" >Q3</td>\n",
       "      <td id=\"T_f4e87_row2_col3\" class=\"data row2 col3\" >13,147,199</td>\n",
       "      <td id=\"T_f4e87_row2_col4\" class=\"data row2 col4\" >11,791,212</td>\n",
       "      <td id=\"T_f4e87_row2_col5\" class=\"data row2 col5\" >1,355,987</td>\n",
       "      <td id=\"T_f4e87_row2_col6\" class=\"data row2 col6\" >11.50%</td>\n",
       "      <td id=\"T_f4e87_row2_col7\" class=\"data row2 col7\" >541</td>\n",
       "    </tr>\n",
       "    <tr>\n",
       "      <th id=\"T_f4e87_level0_row3\" class=\"row_heading level0 row3\" >110</th>\n",
       "      <td id=\"T_f4e87_row3_col0\" class=\"data row3 col0\" >LH</td>\n",
       "      <td id=\"T_f4e87_row3_col1\" class=\"data row3 col1\" >2022</td>\n",
       "      <td id=\"T_f4e87_row3_col2\" class=\"data row3 col2\" >Q3</td>\n",
       "      <td id=\"T_f4e87_row3_col3\" class=\"data row3 col3\" >8,334,140</td>\n",
       "      <td id=\"T_f4e87_row3_col4\" class=\"data row3 col4\" >7,392,926</td>\n",
       "      <td id=\"T_f4e87_row3_col5\" class=\"data row3 col5\" >941,214</td>\n",
       "      <td id=\"T_f4e87_row3_col6\" class=\"data row3 col6\" >12.73%</td>\n",
       "      <td id=\"T_f4e87_row3_col7\" class=\"data row3 col7\" >267</td>\n",
       "    </tr>\n",
       "    <tr>\n",
       "      <th id=\"T_f4e87_level0_row4\" class=\"row_heading level0 row4\" >116</th>\n",
       "      <td id=\"T_f4e87_row4_col0\" class=\"data row4 col0\" >M</td>\n",
       "      <td id=\"T_f4e87_row4_col1\" class=\"data row4 col1\" >2022</td>\n",
       "      <td id=\"T_f4e87_row4_col2\" class=\"data row4 col2\" >Q3</td>\n",
       "      <td id=\"T_f4e87_row4_col3\" class=\"data row4 col3\" >1,517,262</td>\n",
       "      <td id=\"T_f4e87_row4_col4\" class=\"data row4 col4\" >851,758</td>\n",
       "      <td id=\"T_f4e87_row4_col5\" class=\"data row4 col5\" >665,504</td>\n",
       "      <td id=\"T_f4e87_row4_col6\" class=\"data row4 col6\" >78.13%</td>\n",
       "      <td id=\"T_f4e87_row4_col7\" class=\"data row4 col7\" >279</td>\n",
       "    </tr>\n",
       "  </tbody>\n",
       "</table>\n"
      ],
      "text/plain": [
       "<pandas.io.formats.style.Styler at 0x19f9a4c3a00>"
      ]
     },
     "execution_count": 21,
     "metadata": {},
     "output_type": "execute_result"
    }
   ],
   "source": [
    "df_ins[df_ins_criteria].sort_values(by=[\"percent\"], ascending=[False]).sample(5).style.format(format_dict)"
   ]
  },
  {
   "cell_type": "code",
   "execution_count": 22,
   "metadata": {},
   "outputs": [
    {
     "data": {
      "text/html": [
       "<style type=\"text/css\">\n",
       "</style>\n",
       "<table id=\"T_577e4_\">\n",
       "  <thead>\n",
       "    <tr>\n",
       "      <th class=\"blank level0\" >&nbsp;</th>\n",
       "      <th class=\"col_heading level0 col0\" >name</th>\n",
       "      <th class=\"col_heading level0 col1\" >year</th>\n",
       "      <th class=\"col_heading level0 col2\" >quarter</th>\n",
       "      <th class=\"col_heading level0 col3\" >q_amt_c</th>\n",
       "      <th class=\"col_heading level0 col4\" >q_amt_p</th>\n",
       "      <th class=\"col_heading level0 col5\" >inc_profit</th>\n",
       "      <th class=\"col_heading level0 col6\" >percent</th>\n",
       "      <th class=\"col_heading level0 col7\" >id</th>\n",
       "    </tr>\n",
       "  </thead>\n",
       "  <tbody>\n",
       "    <tr>\n",
       "      <th id=\"T_577e4_level0_row0\" class=\"row_heading level0 row0\" >16</th>\n",
       "      <td id=\"T_577e4_row0_col0\" class=\"data row0 col0\" >AWC</td>\n",
       "      <td id=\"T_577e4_row0_col1\" class=\"data row0 col1\" >2022</td>\n",
       "      <td id=\"T_577e4_row0_col2\" class=\"data row0 col2\" >Q3</td>\n",
       "      <td id=\"T_577e4_row0_col3\" class=\"data row0 col3\" >3,414,980</td>\n",
       "      <td id=\"T_577e4_row0_col4\" class=\"data row0 col4\" >3,075,541</td>\n",
       "      <td id=\"T_577e4_row0_col5\" class=\"data row0 col5\" >339,439</td>\n",
       "      <td id=\"T_577e4_row0_col6\" class=\"data row0 col6\" >11.04%</td>\n",
       "      <td id=\"T_577e4_row0_col7\" class=\"data row0 col7\" >699</td>\n",
       "    </tr>\n",
       "    <tr>\n",
       "      <th id=\"T_577e4_level0_row1\" class=\"row_heading level0 row1\" >69</th>\n",
       "      <td id=\"T_577e4_row1_col0\" class=\"data row1 col0\" >FORTH</td>\n",
       "      <td id=\"T_577e4_row1_col1\" class=\"data row1 col1\" >2022</td>\n",
       "      <td id=\"T_577e4_row1_col2\" class=\"data row1 col2\" >Q3</td>\n",
       "      <td id=\"T_577e4_row1_col3\" class=\"data row1 col3\" >804,533</td>\n",
       "      <td id=\"T_577e4_row1_col4\" class=\"data row1 col4\" >720,234</td>\n",
       "      <td id=\"T_577e4_row1_col5\" class=\"data row1 col5\" >84,299</td>\n",
       "      <td id=\"T_577e4_row1_col6\" class=\"data row1 col6\" >11.70%</td>\n",
       "      <td id=\"T_577e4_row1_col7\" class=\"data row1 col7\" >176</td>\n",
       "    </tr>\n",
       "    <tr>\n",
       "      <th id=\"T_577e4_level0_row2\" class=\"row_heading level0 row2\" >148</th>\n",
       "      <td id=\"T_577e4_row2_col0\" class=\"data row2 col0\" >QH</td>\n",
       "      <td id=\"T_577e4_row2_col1\" class=\"data row2 col1\" >2022</td>\n",
       "      <td id=\"T_577e4_row2_col2\" class=\"data row2 col2\" >Q3</td>\n",
       "      <td id=\"T_577e4_row2_col3\" class=\"data row2 col3\" >2,234,029</td>\n",
       "      <td id=\"T_577e4_row2_col4\" class=\"data row2 col4\" >1,856,888</td>\n",
       "      <td id=\"T_577e4_row2_col5\" class=\"data row2 col5\" >377,141</td>\n",
       "      <td id=\"T_577e4_row2_col6\" class=\"data row2 col6\" >20.31%</td>\n",
       "      <td id=\"T_577e4_row2_col7\" class=\"data row2 col7\" >388</td>\n",
       "    </tr>\n",
       "    <tr>\n",
       "      <th id=\"T_577e4_level0_row3\" class=\"row_heading level0 row3\" >214</th>\n",
       "      <td id=\"T_577e4_row3_col0\" class=\"data row3 col0\" >TTB</td>\n",
       "      <td id=\"T_577e4_row3_col1\" class=\"data row3 col1\" >2022</td>\n",
       "      <td id=\"T_577e4_row3_col2\" class=\"data row3 col2\" >Q3</td>\n",
       "      <td id=\"T_577e4_row3_col3\" class=\"data row3 col3\" >13,147,199</td>\n",
       "      <td id=\"T_577e4_row3_col4\" class=\"data row3 col4\" >11,791,212</td>\n",
       "      <td id=\"T_577e4_row3_col5\" class=\"data row3 col5\" >1,355,987</td>\n",
       "      <td id=\"T_577e4_row3_col6\" class=\"data row3 col6\" >11.50%</td>\n",
       "      <td id=\"T_577e4_row3_col7\" class=\"data row3 col7\" >541</td>\n",
       "    </tr>\n",
       "    <tr>\n",
       "      <th id=\"T_577e4_level0_row4\" class=\"row_heading level0 row4\" >219</th>\n",
       "      <td id=\"T_577e4_row4_col0\" class=\"data row4 col0\" >TVO</td>\n",
       "      <td id=\"T_577e4_row4_col1\" class=\"data row4 col1\" >2022</td>\n",
       "      <td id=\"T_577e4_row4_col2\" class=\"data row4 col2\" >Q3</td>\n",
       "      <td id=\"T_577e4_row4_col3\" class=\"data row4 col3\" >2,306,639</td>\n",
       "      <td id=\"T_577e4_row4_col4\" class=\"data row4 col4\" >2,073,619</td>\n",
       "      <td id=\"T_577e4_row4_col5\" class=\"data row4 col5\" >233,020</td>\n",
       "      <td id=\"T_577e4_row4_col6\" class=\"data row4 col6\" >11.24%</td>\n",
       "      <td id=\"T_577e4_row4_col7\" class=\"data row4 col7\" >585</td>\n",
       "    </tr>\n",
       "  </tbody>\n",
       "</table>\n"
      ],
      "text/plain": [
       "<pandas.io.formats.style.Styler at 0x19f9a503e20>"
      ]
     },
     "execution_count": 22,
     "metadata": {},
     "output_type": "execute_result"
    }
   ],
   "source": [
    "df_ins[df_ins_criteria].sort_values(by=[\"name\"], ascending=[True]).sample(5).style.format(format_dict)"
   ]
  },
  {
   "cell_type": "code",
   "execution_count": 23,
   "metadata": {},
   "outputs": [
    {
     "data": {
      "text/html": [
       "<style type=\"text/css\">\n",
       "</style>\n",
       "<table id=\"T_88ff4_\">\n",
       "  <thead>\n",
       "    <tr>\n",
       "      <th class=\"blank level0\" >&nbsp;</th>\n",
       "      <th class=\"col_heading level0 col0\" >name</th>\n",
       "      <th class=\"col_heading level0 col1\" >year</th>\n",
       "      <th class=\"col_heading level0 col2\" >quarter</th>\n",
       "      <th class=\"col_heading level0 col3\" >q_amt_c</th>\n",
       "      <th class=\"col_heading level0 col4\" >q_amt_p</th>\n",
       "      <th class=\"col_heading level0 col5\" >inc_profit</th>\n",
       "      <th class=\"col_heading level0 col6\" >percent</th>\n",
       "      <th class=\"col_heading level0 col7\" >id</th>\n",
       "    </tr>\n",
       "  </thead>\n",
       "  <tbody>\n",
       "    <tr>\n",
       "      <th id=\"T_88ff4_level0_row0\" class=\"row_heading level0 row0\" >30</th>\n",
       "      <td id=\"T_88ff4_row0_col0\" class=\"data row0 col0\" >BEM</td>\n",
       "      <td id=\"T_88ff4_row0_col1\" class=\"data row0 col1\" >2022</td>\n",
       "      <td id=\"T_88ff4_row0_col2\" class=\"data row0 col2\" >Q3</td>\n",
       "      <td id=\"T_88ff4_row0_col3\" class=\"data row0 col3\" >2,228,913</td>\n",
       "      <td id=\"T_88ff4_row0_col4\" class=\"data row0 col4\" >1,474,508</td>\n",
       "      <td id=\"T_88ff4_row0_col5\" class=\"data row0 col5\" >754,405</td>\n",
       "      <td id=\"T_88ff4_row0_col6\" class=\"data row0 col6\" >51.16%</td>\n",
       "      <td id=\"T_88ff4_row0_col7\" class=\"data row0 col7\" >57</td>\n",
       "    </tr>\n",
       "    <tr>\n",
       "      <th id=\"T_88ff4_level0_row1\" class=\"row_heading level0 row1\" >174</th>\n",
       "      <td id=\"T_88ff4_row1_col0\" class=\"data row1 col0\" >SPALI</td>\n",
       "      <td id=\"T_88ff4_row1_col1\" class=\"data row1 col1\" >2022</td>\n",
       "      <td id=\"T_88ff4_row1_col2\" class=\"data row1 col2\" >Q3</td>\n",
       "      <td id=\"T_88ff4_row1_col3\" class=\"data row1 col3\" >8,880,962</td>\n",
       "      <td id=\"T_88ff4_row1_col4\" class=\"data row1 col4\" >7,851,676</td>\n",
       "      <td id=\"T_88ff4_row1_col5\" class=\"data row1 col5\" >1,029,286</td>\n",
       "      <td id=\"T_88ff4_row1_col6\" class=\"data row1 col6\" >13.11%</td>\n",
       "      <td id=\"T_88ff4_row1_col7\" class=\"data row1 col7\" >462</td>\n",
       "    </tr>\n",
       "    <tr>\n",
       "      <th id=\"T_88ff4_level0_row2\" class=\"row_heading level0 row2\" >116</th>\n",
       "      <td id=\"T_88ff4_row2_col0\" class=\"data row2 col0\" >M</td>\n",
       "      <td id=\"T_88ff4_row2_col1\" class=\"data row2 col1\" >2022</td>\n",
       "      <td id=\"T_88ff4_row2_col2\" class=\"data row2 col2\" >Q3</td>\n",
       "      <td id=\"T_88ff4_row2_col3\" class=\"data row2 col3\" >1,517,262</td>\n",
       "      <td id=\"T_88ff4_row2_col4\" class=\"data row2 col4\" >851,758</td>\n",
       "      <td id=\"T_88ff4_row2_col5\" class=\"data row2 col5\" >665,504</td>\n",
       "      <td id=\"T_88ff4_row2_col6\" class=\"data row2 col6\" >78.13%</td>\n",
       "      <td id=\"T_88ff4_row2_col7\" class=\"data row2 col7\" >279</td>\n",
       "    </tr>\n",
       "    <tr>\n",
       "      <th id=\"T_88ff4_level0_row3\" class=\"row_heading level0 row3\" >148</th>\n",
       "      <td id=\"T_88ff4_row3_col0\" class=\"data row3 col0\" >QH</td>\n",
       "      <td id=\"T_88ff4_row3_col1\" class=\"data row3 col1\" >2022</td>\n",
       "      <td id=\"T_88ff4_row3_col2\" class=\"data row3 col2\" >Q3</td>\n",
       "      <td id=\"T_88ff4_row3_col3\" class=\"data row3 col3\" >2,234,029</td>\n",
       "      <td id=\"T_88ff4_row3_col4\" class=\"data row3 col4\" >1,856,888</td>\n",
       "      <td id=\"T_88ff4_row3_col5\" class=\"data row3 col5\" >377,141</td>\n",
       "      <td id=\"T_88ff4_row3_col6\" class=\"data row3 col6\" >20.31%</td>\n",
       "      <td id=\"T_88ff4_row3_col7\" class=\"data row3 col7\" >388</td>\n",
       "    </tr>\n",
       "    <tr>\n",
       "      <th id=\"T_88ff4_level0_row4\" class=\"row_heading level0 row4\" >82</th>\n",
       "      <td id=\"T_88ff4_row4_col0\" class=\"data row4 col0\" >HFT</td>\n",
       "      <td id=\"T_88ff4_row4_col1\" class=\"data row4 col1\" >2022</td>\n",
       "      <td id=\"T_88ff4_row4_col2\" class=\"data row4 col2\" >Q3</td>\n",
       "      <td id=\"T_88ff4_row4_col3\" class=\"data row4 col3\" >488,568</td>\n",
       "      <td id=\"T_88ff4_row4_col4\" class=\"data row4 col4\" >419,316</td>\n",
       "      <td id=\"T_88ff4_row4_col5\" class=\"data row4 col5\" >69,252</td>\n",
       "      <td id=\"T_88ff4_row4_col6\" class=\"data row4 col6\" >16.52%</td>\n",
       "      <td id=\"T_88ff4_row4_col7\" class=\"data row4 col7\" >207</td>\n",
       "    </tr>\n",
       "  </tbody>\n",
       "</table>\n"
      ],
      "text/plain": [
       "<pandas.io.formats.style.Styler at 0x19f9a51e400>"
      ]
     },
     "execution_count": 23,
     "metadata": {},
     "output_type": "execute_result"
    }
   ],
   "source": [
    "df_ins[df_ins_criteria].sort_values(by=[\"name\"], ascending=[True]).sample(5).style.format(format_dict)"
   ]
  },
  {
   "cell_type": "code",
   "execution_count": 24,
   "metadata": {},
   "outputs": [
    {
     "name": "stdout",
     "output_type": "stream",
     "text": [
      "\n",
      "SELECT name, COUNT(*) AS 'Nbr. of Group of 4 Quarters'\n",
      "FROM qt_profits\n",
      "GROUP BY name\n",
      "HAVING COUNT(*) = 1\n",
      "ORDER BY COUNT(*) DESC, name\n",
      "\n"
     ]
    },
    {
     "data": {
      "text/html": [
       "<div>\n",
       "<style scoped>\n",
       "    .dataframe tbody tr th:only-of-type {\n",
       "        vertical-align: middle;\n",
       "    }\n",
       "\n",
       "    .dataframe tbody tr th {\n",
       "        vertical-align: top;\n",
       "    }\n",
       "\n",
       "    .dataframe thead th {\n",
       "        text-align: right;\n",
       "    }\n",
       "</style>\n",
       "<table border=\"1\" class=\"dataframe\">\n",
       "  <thead>\n",
       "    <tr style=\"text-align: right;\">\n",
       "      <th></th>\n",
       "      <th>name</th>\n",
       "      <th>Nbr. of Group of 4 Quarters</th>\n",
       "    </tr>\n",
       "  </thead>\n",
       "  <tbody>\n",
       "    <tr>\n",
       "      <th>0</th>\n",
       "      <td>BE8</td>\n",
       "      <td>1</td>\n",
       "    </tr>\n",
       "    <tr>\n",
       "      <th>1</th>\n",
       "      <td>ONEE</td>\n",
       "      <td>1</td>\n",
       "    </tr>\n",
       "  </tbody>\n",
       "</table>\n",
       "</div>"
      ],
      "text/plain": [
       "   name  Nbr. of Group of 4 Quarters\n",
       "0   BE8                            1\n",
       "1  ONEE                            1"
      ]
     },
     "execution_count": 24,
     "metadata": {},
     "output_type": "execute_result"
    }
   ],
   "source": [
    "sql = \"\"\"\n",
    "SELECT name, COUNT(*) AS 'Nbr. of Group of 4 Quarters'\n",
    "FROM qt_profits\n",
    "GROUP BY name\n",
    "HAVING COUNT(*) = 1\n",
    "ORDER BY COUNT(*) DESC, name\n",
    "\"\"\"\n",
    "print(sql)\n",
    "\n",
    "tmp = pd.read_sql(sql, conlt)\n",
    "tmp"
   ]
  }
 ],
 "metadata": {
  "anaconda-cloud": {},
  "kernelspec": {
   "display_name": "Python 3 (ipykernel)",
   "language": "python",
   "name": "python3"
  },
  "language_info": {
   "codemirror_mode": {
    "name": "ipython",
    "version": 3
   },
   "file_extension": ".py",
   "mimetype": "text/x-python",
   "name": "python",
   "nbconvert_exporter": "python",
   "pygments_lexer": "ipython3",
   "version": "3.8.11"
  }
 },
 "nbformat": 4,
 "nbformat_minor": 1
}
