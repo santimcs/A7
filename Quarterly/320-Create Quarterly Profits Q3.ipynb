{
 "cells": [
  {
   "cell_type": "markdown",
   "metadata": {},
   "source": [
    "### Restart and Run All Cells"
   ]
  },
  {
   "cell_type": "code",
   "execution_count": 1,
   "metadata": {},
   "outputs": [
    {
     "data": {
      "text/plain": [
       "'2023-08-10'"
      ]
     },
     "execution_count": 1,
     "metadata": {},
     "output_type": "execute_result"
    }
   ],
   "source": [
    "import pandas as pd\n",
    "from datetime import date, timedelta\n",
    "from sqlalchemy import create_engine\n",
    "engine = create_engine(\"sqlite:///c:\\\\ruby\\\\portlt\\\\db\\\\development.sqlite3\")\n",
    "conlt = engine.connect()\n",
    "year = 2023\n",
    "quarter = 3\n",
    "today = date.today()\n",
    "today_str = today.strftime(\"%Y-%m-%d\")\n",
    "today_str"
   ]
  },
  {
   "cell_type": "code",
   "execution_count": 2,
   "metadata": {},
   "outputs": [],
   "source": [
    "cols = 'name year quarter q_amt_c q_amt_p inc_profit percent'.split()\n",
    "\n",
    "format_dict = {\n",
    "                'q_amt':'{:,}','q_amt_c':'{:,}','q_amt_p':'{:,}','inc_profit':'{:,}',\n",
    "                'yoy_gain':'{:,}','acc_gain':'{:,}',   \n",
    "                'latest_amt':'{:,}','previous_amt':'{:,}','inc_amt':'{:,}',\n",
    "                'q_eps':'{:.4f}','y_eps':'{:.4f}','aq_eps':'{:.4f}','ay_eps':'{:.4f}',\n",
    "                'percent':'{:.2f}%','inc_pct':'{:.2f}%'\n",
    "              }"
   ]
  },
  {
   "cell_type": "code",
   "execution_count": 3,
   "metadata": {},
   "outputs": [
    {
     "name": "stdout",
     "output_type": "stream",
     "text": [
      "\n",
      "SELECT name,year,quarter,q_amt \n",
      "FROM epss \n",
      "WHERE (year = 2023 AND quarter <= 3) \n",
      "OR (year = 2023-1 AND quarter >= 3+1)\n",
      "ORDER BY year DESC, quarter DESC\n",
      "\n"
     ]
    }
   ],
   "source": [
    "sql = \"\"\"\n",
    "SELECT name,year,quarter,q_amt \n",
    "FROM epss \n",
    "WHERE (year = %s AND quarter <= %s) \n",
    "OR (year = %s-1 AND quarter >= %s+1)\n",
    "ORDER BY year DESC, quarter DESC\n",
    "\"\"\"\n",
    "sql = sql % (year, quarter, year, quarter)\n",
    "print(sql)"
   ]
  },
  {
   "cell_type": "code",
   "execution_count": 8,
   "metadata": {},
   "outputs": [
    {
     "data": {
      "text/html": [
       "<div>\n",
       "<style scoped>\n",
       "    .dataframe tbody tr th:only-of-type {\n",
       "        vertical-align: middle;\n",
       "    }\n",
       "\n",
       "    .dataframe tbody tr th {\n",
       "        vertical-align: top;\n",
       "    }\n",
       "\n",
       "    .dataframe thead th {\n",
       "        text-align: right;\n",
       "    }\n",
       "</style>\n",
       "<table border=\"1\" class=\"dataframe\">\n",
       "  <thead>\n",
       "    <tr style=\"text-align: right;\">\n",
       "      <th></th>\n",
       "      <th>name</th>\n",
       "      <th>year</th>\n",
       "      <th>quarter</th>\n",
       "      <th>q_amt</th>\n",
       "      <th>Counter</th>\n",
       "    </tr>\n",
       "  </thead>\n",
       "  <tbody>\n",
       "    <tr>\n",
       "      <th>129</th>\n",
       "      <td>OISHI</td>\n",
       "      <td>8091</td>\n",
       "      <td>10</td>\n",
       "      <td>1234225</td>\n",
       "      <td>4</td>\n",
       "    </tr>\n",
       "    <tr>\n",
       "      <th>70</th>\n",
       "      <td>FPT</td>\n",
       "      <td>8091</td>\n",
       "      <td>10</td>\n",
       "      <td>1742063</td>\n",
       "      <td>4</td>\n",
       "    </tr>\n",
       "    <tr>\n",
       "      <th>191</th>\n",
       "      <td>TFFIF</td>\n",
       "      <td>8091</td>\n",
       "      <td>10</td>\n",
       "      <td>2035986</td>\n",
       "      <td>4</td>\n",
       "    </tr>\n",
       "    <tr>\n",
       "      <th>121</th>\n",
       "      <td>MC</td>\n",
       "      <td>8091</td>\n",
       "      <td>10</td>\n",
       "      <td>901548</td>\n",
       "      <td>4</td>\n",
       "    </tr>\n",
       "  </tbody>\n",
       "</table>\n",
       "</div>"
      ],
      "text/plain": [
       "      name  year  quarter    q_amt  Counter\n",
       "129  OISHI  8091       10  1234225        4\n",
       "70     FPT  8091       10  1742063        4\n",
       "191  TFFIF  8091       10  2035986        4\n",
       "121     MC  8091       10   901548        4"
      ]
     },
     "execution_count": 8,
     "metadata": {},
     "output_type": "execute_result"
    }
   ],
   "source": [
    "dfc = pd.read_sql(sql, conlt)\n",
    "dfc[\"Counter\"] = 1\n",
    "dfc_grp = dfc.groupby([\"name\"], as_index=False).sum()\n",
    "dfc_grp = dfc_grp[dfc_grp[\"Counter\"] == 4]\n",
    "dfc_grp.sample(4)"
   ]
  },
  {
   "cell_type": "code",
   "execution_count": 9,
   "metadata": {},
   "outputs": [
    {
     "name": "stdout",
     "output_type": "stream",
     "text": [
      "\n",
      "SELECT name,year,quarter,q_amt \n",
      "FROM epss \n",
      "WHERE (year = 2023 AND quarter <= 3-1) \n",
      "OR (year = 2023-1 AND quarter >= 3) \n",
      "ORDER BY year DESC, quarter DESC\n"
     ]
    }
   ],
   "source": [
    "sql = \"\"\"\n",
    "SELECT name,year,quarter,q_amt \n",
    "FROM epss \n",
    "WHERE (year = %s AND quarter <= %s-1) \n",
    "OR (year = %s-1 AND quarter >= %s) \n",
    "ORDER BY year DESC, quarter DESC\"\"\"\n",
    "sql = sql % (year, quarter, year, quarter)\n",
    "print(sql)"
   ]
  },
  {
   "cell_type": "code",
   "execution_count": 10,
   "metadata": {},
   "outputs": [
    {
     "data": {
      "text/html": [
       "<style type=\"text/css\">\n",
       "</style>\n",
       "<table id=\"T_a7711_\">\n",
       "  <thead>\n",
       "    <tr>\n",
       "      <th class=\"blank level0\" >&nbsp;</th>\n",
       "      <th class=\"col_heading level0 col0\" >name</th>\n",
       "      <th class=\"col_heading level0 col1\" >year</th>\n",
       "      <th class=\"col_heading level0 col2\" >quarter</th>\n",
       "      <th class=\"col_heading level0 col3\" >q_amt</th>\n",
       "      <th class=\"col_heading level0 col4\" >Counter</th>\n",
       "    </tr>\n",
       "  </thead>\n",
       "  <tbody>\n",
       "    <tr>\n",
       "      <th id=\"T_a7711_level0_row0\" class=\"row_heading level0 row0\" >83</th>\n",
       "      <td id=\"T_a7711_row0_col0\" class=\"data row0 col0\" >HMPRO</td>\n",
       "      <td id=\"T_a7711_row0_col1\" class=\"data row0 col1\" >8090</td>\n",
       "      <td id=\"T_a7711_row0_col2\" class=\"data row0 col2\" >10</td>\n",
       "      <td id=\"T_a7711_row0_col3\" class=\"data row0 col3\" >6,417,062</td>\n",
       "      <td id=\"T_a7711_row0_col4\" class=\"data row0 col4\" >4</td>\n",
       "    </tr>\n",
       "    <tr>\n",
       "      <th id=\"T_a7711_level0_row1\" class=\"row_heading level0 row1\" >72</th>\n",
       "      <td id=\"T_a7711_row1_col0\" class=\"data row1 col0\" >GC</td>\n",
       "      <td id=\"T_a7711_row1_col1\" class=\"data row1 col1\" >8090</td>\n",
       "      <td id=\"T_a7711_row1_col2\" class=\"data row1 col2\" >10</td>\n",
       "      <td id=\"T_a7711_row1_col3\" class=\"data row1 col3\" >163,925</td>\n",
       "      <td id=\"T_a7711_row1_col4\" class=\"data row1 col4\" >4</td>\n",
       "    </tr>\n",
       "    <tr>\n",
       "      <th id=\"T_a7711_level0_row2\" class=\"row_heading level0 row2\" >92</th>\n",
       "      <td id=\"T_a7711_row2_col0\" class=\"data row2 col0\" >INTUCH</td>\n",
       "      <td id=\"T_a7711_row2_col1\" class=\"data row2 col1\" >8090</td>\n",
       "      <td id=\"T_a7711_row2_col2\" class=\"data row2 col2\" >10</td>\n",
       "      <td id=\"T_a7711_row2_col3\" class=\"data row2 col3\" >10,917,236</td>\n",
       "      <td id=\"T_a7711_row2_col4\" class=\"data row2 col4\" >4</td>\n",
       "    </tr>\n",
       "    <tr>\n",
       "      <th id=\"T_a7711_level0_row3\" class=\"row_heading level0 row3\" >10</th>\n",
       "      <td id=\"T_a7711_row3_col0\" class=\"data row3 col0\" >AOT</td>\n",
       "      <td id=\"T_a7711_row3_col1\" class=\"data row3 col1\" >8090</td>\n",
       "      <td id=\"T_a7711_row3_col2\" class=\"data row3 col2\" >10</td>\n",
       "      <td id=\"T_a7711_row3_col3\" class=\"data row3 col3\" >-1,336,443</td>\n",
       "      <td id=\"T_a7711_row3_col4\" class=\"data row3 col4\" >4</td>\n",
       "    </tr>\n",
       "    <tr>\n",
       "      <th id=\"T_a7711_level0_row4\" class=\"row_heading level0 row4\" >104</th>\n",
       "      <td id=\"T_a7711_row4_col0\" class=\"data row4 col0\" >KSL</td>\n",
       "      <td id=\"T_a7711_row4_col1\" class=\"data row4 col1\" >8090</td>\n",
       "      <td id=\"T_a7711_row4_col2\" class=\"data row4 col2\" >10</td>\n",
       "      <td id=\"T_a7711_row4_col3\" class=\"data row4 col3\" >1,530,380</td>\n",
       "      <td id=\"T_a7711_row4_col4\" class=\"data row4 col4\" >4</td>\n",
       "    </tr>\n",
       "  </tbody>\n",
       "</table>\n"
      ],
      "text/plain": [
       "<pandas.io.formats.style.Styler at 0x1b13ec24520>"
      ]
     },
     "execution_count": 10,
     "metadata": {},
     "output_type": "execute_result"
    }
   ],
   "source": [
    "dfp = pd.read_sql(sql, conlt)\n",
    "dfp[\"Counter\"] = 1\n",
    "dfp_grp = dfp.groupby([\"name\"], as_index=False).sum()\n",
    "dfp_grp = dfp_grp[dfp_grp[\"Counter\"] == 4]\n",
    "dfp_grp.sample(5).style.format(format_dict)"
   ]
  },
  {
   "cell_type": "code",
   "execution_count": 11,
   "metadata": {},
   "outputs": [
    {
     "data": {
      "text/plain": [
       "(231,)"
      ]
     },
     "execution_count": 11,
     "metadata": {},
     "output_type": "execute_result"
    }
   ],
   "source": [
    "dfp.name.unique().shape"
   ]
  },
  {
   "cell_type": "code",
   "execution_count": 12,
   "metadata": {},
   "outputs": [
    {
     "data": {
      "text/plain": [
       "(231, 15)"
      ]
     },
     "execution_count": 12,
     "metadata": {},
     "output_type": "execute_result"
    }
   ],
   "source": [
    "sql = \"\"\"\n",
    "SELECT *\n",
    "FROM stocks\n",
    "\"\"\"\n",
    "stocks = pd.read_sql(sql, conlt)\n",
    "stocks.shape"
   ]
  },
  {
   "cell_type": "code",
   "execution_count": 13,
   "metadata": {},
   "outputs": [
    {
     "data": {
      "text/plain": [
       "(399, 9)"
      ]
     },
     "execution_count": 13,
     "metadata": {},
     "output_type": "execute_result"
    }
   ],
   "source": [
    "sql = \"\"\"\n",
    "SELECT *\n",
    "FROM tickers\n",
    "\"\"\"\n",
    "tickers = pd.read_sql(sql, conlt)\n",
    "tickers.shape"
   ]
  },
  {
   "cell_type": "code",
   "execution_count": 14,
   "metadata": {},
   "outputs": [
    {
     "ename": "ValueError",
     "evalue": "Cannot take a larger sample than population when 'replace=False'",
     "output_type": "error",
     "traceback": [
      "\u001b[1;31m---------------------------------------------------------------------------\u001b[0m",
      "\u001b[1;31mValueError\u001b[0m                                Traceback (most recent call last)",
      "\u001b[1;32m~\\AppData\\Local\\Temp/ipykernel_18864/2619198201.py\u001b[0m in \u001b[0;36m<module>\u001b[1;34m\u001b[0m\n\u001b[0;32m      5\u001b[0m \u001b[0mdfm\u001b[0m\u001b[1;33m[\u001b[0m\u001b[1;34m\"quarter\"\u001b[0m\u001b[1;33m]\u001b[0m \u001b[1;33m=\u001b[0m \u001b[1;34m\"Q\"\u001b[0m \u001b[1;33m+\u001b[0m \u001b[0mstr\u001b[0m\u001b[1;33m(\u001b[0m\u001b[0mquarter\u001b[0m\u001b[1;33m)\u001b[0m\u001b[1;33m\u001b[0m\u001b[1;33m\u001b[0m\u001b[0m\n\u001b[0;32m      6\u001b[0m \u001b[0mdf_percent\u001b[0m \u001b[1;33m=\u001b[0m \u001b[0mdfm\u001b[0m\u001b[1;33m[\u001b[0m\u001b[0mcols\u001b[0m\u001b[1;33m]\u001b[0m\u001b[1;33m\u001b[0m\u001b[1;33m\u001b[0m\u001b[0m\n\u001b[1;32m----> 7\u001b[1;33m \u001b[0mdf_percent\u001b[0m\u001b[1;33m.\u001b[0m\u001b[0msample\u001b[0m\u001b[1;33m(\u001b[0m\u001b[1;36m5\u001b[0m\u001b[1;33m)\u001b[0m\u001b[1;33m.\u001b[0m\u001b[0mstyle\u001b[0m\u001b[1;33m.\u001b[0m\u001b[0mformat\u001b[0m\u001b[1;33m(\u001b[0m\u001b[0mformat_dict\u001b[0m\u001b[1;33m)\u001b[0m\u001b[1;33m\u001b[0m\u001b[1;33m\u001b[0m\u001b[0m\n\u001b[0m",
      "\u001b[1;32mC:\\ProgramData\\Anaconda3\\lib\\site-packages\\pandas\\core\\generic.py\u001b[0m in \u001b[0;36msample\u001b[1;34m(self, n, frac, replace, weights, random_state, axis, ignore_index)\u001b[0m\n\u001b[0;32m   5363\u001b[0m             )\n\u001b[0;32m   5364\u001b[0m \u001b[1;33m\u001b[0m\u001b[0m\n\u001b[1;32m-> 5365\u001b[1;33m         \u001b[0mlocs\u001b[0m \u001b[1;33m=\u001b[0m \u001b[0mrs\u001b[0m\u001b[1;33m.\u001b[0m\u001b[0mchoice\u001b[0m\u001b[1;33m(\u001b[0m\u001b[0maxis_length\u001b[0m\u001b[1;33m,\u001b[0m \u001b[0msize\u001b[0m\u001b[1;33m=\u001b[0m\u001b[0mn\u001b[0m\u001b[1;33m,\u001b[0m \u001b[0mreplace\u001b[0m\u001b[1;33m=\u001b[0m\u001b[0mreplace\u001b[0m\u001b[1;33m,\u001b[0m \u001b[0mp\u001b[0m\u001b[1;33m=\u001b[0m\u001b[0mweights\u001b[0m\u001b[1;33m)\u001b[0m\u001b[1;33m\u001b[0m\u001b[1;33m\u001b[0m\u001b[0m\n\u001b[0m\u001b[0;32m   5366\u001b[0m         \u001b[0mresult\u001b[0m \u001b[1;33m=\u001b[0m \u001b[0mself\u001b[0m\u001b[1;33m.\u001b[0m\u001b[0mtake\u001b[0m\u001b[1;33m(\u001b[0m\u001b[0mlocs\u001b[0m\u001b[1;33m,\u001b[0m \u001b[0maxis\u001b[0m\u001b[1;33m=\u001b[0m\u001b[0maxis\u001b[0m\u001b[1;33m)\u001b[0m\u001b[1;33m\u001b[0m\u001b[1;33m\u001b[0m\u001b[0m\n\u001b[0;32m   5367\u001b[0m         \u001b[1;32mif\u001b[0m \u001b[0mignore_index\u001b[0m\u001b[1;33m:\u001b[0m\u001b[1;33m\u001b[0m\u001b[1;33m\u001b[0m\u001b[0m\n",
      "\u001b[1;32mmtrand.pyx\u001b[0m in \u001b[0;36mnumpy.random.mtrand.RandomState.choice\u001b[1;34m()\u001b[0m\n",
      "\u001b[1;31mValueError\u001b[0m: Cannot take a larger sample than population when 'replace=False'"
     ]
    }
   ],
   "source": [
    "dfm = pd.merge(dfc_grp, dfp_grp, on=\"name\", suffixes=([\"_c\", \"_p\"]), how=\"inner\")\n",
    "dfm[\"inc_profit\"] = dfm[\"q_amt_c\"] - dfm[\"q_amt_p\"]\n",
    "dfm[\"percent\"] = round(dfm[\"inc_profit\"] / abs(dfm[\"q_amt_p\"]) * 100, 2)\n",
    "dfm[\"year\"] = year\n",
    "dfm[\"quarter\"] = \"Q\" + str(quarter)\n",
    "df_percent = dfm[cols]\n",
    "df_percent.sample(5).style.format(format_dict)"
   ]
  },
  {
   "cell_type": "code",
   "execution_count": 15,
   "metadata": {},
   "outputs": [
    {
     "name": "stdout",
     "output_type": "stream",
     "text": [
      "\n",
      "DELETE FROM qt_profits \n",
      "WHERE year = 2023 AND quarter = 'Q3'\n",
      "\n"
     ]
    },
    {
     "data": {
      "text/plain": [
       "0"
      ]
     },
     "execution_count": 15,
     "metadata": {},
     "output_type": "execute_result"
    }
   ],
   "source": [
    "sql = \"\"\"\n",
    "DELETE FROM qt_profits \n",
    "WHERE year = %s AND quarter = 'Q%s'\n",
    "\"\"\"\n",
    "sql = sql % (year, quarter)\n",
    "print(sql)\n",
    "\n",
    "rp = conlt.execute(sql)\n",
    "rp.rowcount"
   ]
  },
  {
   "cell_type": "code",
   "execution_count": 16,
   "metadata": {},
   "outputs": [
    {
     "data": {
      "text/html": [
       "<div>\n",
       "<style scoped>\n",
       "    .dataframe tbody tr th:only-of-type {\n",
       "        vertical-align: middle;\n",
       "    }\n",
       "\n",
       "    .dataframe tbody tr th {\n",
       "        vertical-align: top;\n",
       "    }\n",
       "\n",
       "    .dataframe thead th {\n",
       "        text-align: right;\n",
       "    }\n",
       "</style>\n",
       "<table border=\"1\" class=\"dataframe\">\n",
       "  <thead>\n",
       "    <tr style=\"text-align: right;\">\n",
       "      <th></th>\n",
       "      <th>name</th>\n",
       "      <th>id</th>\n",
       "    </tr>\n",
       "  </thead>\n",
       "  <tbody>\n",
       "    <tr>\n",
       "      <th>398</th>\n",
       "      <td>ZEN</td>\n",
       "      <td>689</td>\n",
       "    </tr>\n",
       "    <tr>\n",
       "      <th>52</th>\n",
       "      <td>BH</td>\n",
       "      <td>61</td>\n",
       "    </tr>\n",
       "    <tr>\n",
       "      <th>23</th>\n",
       "      <td>AQUA</td>\n",
       "      <td>29</td>\n",
       "    </tr>\n",
       "    <tr>\n",
       "      <th>292</th>\n",
       "      <td>SMPC</td>\n",
       "      <td>455</td>\n",
       "    </tr>\n",
       "    <tr>\n",
       "      <th>342</th>\n",
       "      <td>TIPH</td>\n",
       "      <td>529</td>\n",
       "    </tr>\n",
       "  </tbody>\n",
       "</table>\n",
       "</div>"
      ],
      "text/plain": [
       "     name   id\n",
       "398   ZEN  689\n",
       "52     BH   61\n",
       "23   AQUA   29\n",
       "292  SMPC  455\n",
       "342  TIPH  529"
      ]
     },
     "execution_count": 16,
     "metadata": {},
     "output_type": "execute_result"
    }
   ],
   "source": [
    "sql = \"SELECT name, id FROM tickers\"\n",
    "tickers = pd.read_sql(sql, conlt)\n",
    "tickers.sample(5)"
   ]
  },
  {
   "cell_type": "code",
   "execution_count": 17,
   "metadata": {},
   "outputs": [
    {
     "ename": "ValueError",
     "evalue": "Cannot take a larger sample than population when 'replace=False'",
     "output_type": "error",
     "traceback": [
      "\u001b[1;31m---------------------------------------------------------------------------\u001b[0m",
      "\u001b[1;31mValueError\u001b[0m                                Traceback (most recent call last)",
      "\u001b[1;32m~\\AppData\\Local\\Temp/ipykernel_18864/3859551649.py\u001b[0m in \u001b[0;36m<module>\u001b[1;34m\u001b[0m\n\u001b[0;32m      1\u001b[0m \u001b[0mdf_ins\u001b[0m \u001b[1;33m=\u001b[0m \u001b[0mpd\u001b[0m\u001b[1;33m.\u001b[0m\u001b[0mmerge\u001b[0m\u001b[1;33m(\u001b[0m\u001b[0mdf_percent\u001b[0m\u001b[1;33m,\u001b[0m \u001b[0mtickers\u001b[0m\u001b[1;33m,\u001b[0m \u001b[0mon\u001b[0m\u001b[1;33m=\u001b[0m\u001b[1;34m\"name\"\u001b[0m\u001b[1;33m,\u001b[0m \u001b[0mhow\u001b[0m\u001b[1;33m=\u001b[0m\u001b[1;34m\"inner\"\u001b[0m\u001b[1;33m)\u001b[0m\u001b[1;33m\u001b[0m\u001b[1;33m\u001b[0m\u001b[0m\n\u001b[1;32m----> 2\u001b[1;33m \u001b[0mdf_ins\u001b[0m\u001b[1;33m.\u001b[0m\u001b[0msample\u001b[0m\u001b[1;33m(\u001b[0m\u001b[1;36m5\u001b[0m\u001b[1;33m)\u001b[0m\u001b[1;33m.\u001b[0m\u001b[0mstyle\u001b[0m\u001b[1;33m.\u001b[0m\u001b[0mformat\u001b[0m\u001b[1;33m(\u001b[0m\u001b[0mformat_dict\u001b[0m\u001b[1;33m)\u001b[0m\u001b[1;33m\u001b[0m\u001b[1;33m\u001b[0m\u001b[0m\n\u001b[0m",
      "\u001b[1;32mC:\\ProgramData\\Anaconda3\\lib\\site-packages\\pandas\\core\\generic.py\u001b[0m in \u001b[0;36msample\u001b[1;34m(self, n, frac, replace, weights, random_state, axis, ignore_index)\u001b[0m\n\u001b[0;32m   5363\u001b[0m             )\n\u001b[0;32m   5364\u001b[0m \u001b[1;33m\u001b[0m\u001b[0m\n\u001b[1;32m-> 5365\u001b[1;33m         \u001b[0mlocs\u001b[0m \u001b[1;33m=\u001b[0m \u001b[0mrs\u001b[0m\u001b[1;33m.\u001b[0m\u001b[0mchoice\u001b[0m\u001b[1;33m(\u001b[0m\u001b[0maxis_length\u001b[0m\u001b[1;33m,\u001b[0m \u001b[0msize\u001b[0m\u001b[1;33m=\u001b[0m\u001b[0mn\u001b[0m\u001b[1;33m,\u001b[0m \u001b[0mreplace\u001b[0m\u001b[1;33m=\u001b[0m\u001b[0mreplace\u001b[0m\u001b[1;33m,\u001b[0m \u001b[0mp\u001b[0m\u001b[1;33m=\u001b[0m\u001b[0mweights\u001b[0m\u001b[1;33m)\u001b[0m\u001b[1;33m\u001b[0m\u001b[1;33m\u001b[0m\u001b[0m\n\u001b[0m\u001b[0;32m   5366\u001b[0m         \u001b[0mresult\u001b[0m \u001b[1;33m=\u001b[0m \u001b[0mself\u001b[0m\u001b[1;33m.\u001b[0m\u001b[0mtake\u001b[0m\u001b[1;33m(\u001b[0m\u001b[0mlocs\u001b[0m\u001b[1;33m,\u001b[0m \u001b[0maxis\u001b[0m\u001b[1;33m=\u001b[0m\u001b[0maxis\u001b[0m\u001b[1;33m)\u001b[0m\u001b[1;33m\u001b[0m\u001b[1;33m\u001b[0m\u001b[0m\n\u001b[0;32m   5367\u001b[0m         \u001b[1;32mif\u001b[0m \u001b[0mignore_index\u001b[0m\u001b[1;33m:\u001b[0m\u001b[1;33m\u001b[0m\u001b[1;33m\u001b[0m\u001b[0m\n",
      "\u001b[1;32mmtrand.pyx\u001b[0m in \u001b[0;36mnumpy.random.mtrand.RandomState.choice\u001b[1;34m()\u001b[0m\n",
      "\u001b[1;31mValueError\u001b[0m: Cannot take a larger sample than population when 'replace=False'"
     ]
    }
   ],
   "source": [
    "df_ins = pd.merge(df_percent, tickers, on=\"name\", how=\"inner\")\n",
    "df_ins.sample(5).style.format(format_dict)"
   ]
  },
  {
   "cell_type": "code",
   "execution_count": 18,
   "metadata": {},
   "outputs": [
    {
     "data": {
      "text/plain": [
       "4"
      ]
     },
     "execution_count": 18,
     "metadata": {},
     "output_type": "execute_result"
    }
   ],
   "source": [
    "rcds = df_ins.values.tolist()\n",
    "len(rcds)"
   ]
  },
  {
   "cell_type": "code",
   "execution_count": 19,
   "metadata": {},
   "outputs": [
    {
     "name": "stdout",
     "output_type": "stream",
     "text": [
      "\n",
      "INSERT INTO qt_profits (name, year, quarter, latest_amt, previous_amt, inc_amt, inc_pct, ticker_id) VALUES (?, ?, ?, ?, ?, ?, ?, ?)\n",
      "\n"
     ]
    }
   ],
   "source": [
    "sql = \"\"\"\n",
    "INSERT INTO qt_profits (name, year, quarter, latest_amt, previous_amt, \\\n",
    "inc_amt, inc_pct, ticker_id) \\\n",
    "VALUES (?, ?, ?, ?, ?, ?, ?, ?)\n",
    "\"\"\"\n",
    "print(sql)"
   ]
  },
  {
   "cell_type": "code",
   "execution_count": 20,
   "metadata": {},
   "outputs": [],
   "source": [
    "for rcd in rcds:\n",
    "    conlt.execute(sql, rcd)"
   ]
  },
  {
   "cell_type": "markdown",
   "metadata": {},
   "source": [
    "### End of loop"
   ]
  },
  {
   "cell_type": "code",
   "execution_count": 22,
   "metadata": {},
   "outputs": [
    {
     "data": {
      "text/html": [
       "<style type=\"text/css\">\n",
       "</style>\n",
       "<table id=\"T_e5e36_\">\n",
       "  <thead>\n",
       "    <tr>\n",
       "      <th class=\"blank level0\" >&nbsp;</th>\n",
       "      <th class=\"col_heading level0 col0\" >name</th>\n",
       "      <th class=\"col_heading level0 col1\" >year</th>\n",
       "      <th class=\"col_heading level0 col2\" >quarter</th>\n",
       "      <th class=\"col_heading level0 col3\" >q_amt_c</th>\n",
       "      <th class=\"col_heading level0 col4\" >q_amt_p</th>\n",
       "      <th class=\"col_heading level0 col5\" >inc_profit</th>\n",
       "      <th class=\"col_heading level0 col6\" >percent</th>\n",
       "    </tr>\n",
       "  </thead>\n",
       "  <tbody>\n",
       "    <tr>\n",
       "      <th id=\"T_e5e36_level0_row0\" class=\"row_heading level0 row0\" >2</th>\n",
       "      <td id=\"T_e5e36_row0_col0\" class=\"data row0 col0\" >OISHI</td>\n",
       "      <td id=\"T_e5e36_row0_col1\" class=\"data row0 col1\" >2023</td>\n",
       "      <td id=\"T_e5e36_row0_col2\" class=\"data row0 col2\" >Q3</td>\n",
       "      <td id=\"T_e5e36_row0_col3\" class=\"data row0 col3\" >1,234,225</td>\n",
       "      <td id=\"T_e5e36_row0_col4\" class=\"data row0 col4\" >1,187,041</td>\n",
       "      <td id=\"T_e5e36_row0_col5\" class=\"data row0 col5\" >47,184</td>\n",
       "      <td id=\"T_e5e36_row0_col6\" class=\"data row0 col6\" >3.97%</td>\n",
       "    </tr>\n",
       "    <tr>\n",
       "      <th id=\"T_e5e36_level0_row1\" class=\"row_heading level0 row1\" >1</th>\n",
       "      <td id=\"T_e5e36_row1_col0\" class=\"data row1 col0\" >MC</td>\n",
       "      <td id=\"T_e5e36_row1_col1\" class=\"data row1 col1\" >2023</td>\n",
       "      <td id=\"T_e5e36_row1_col2\" class=\"data row1 col2\" >Q3</td>\n",
       "      <td id=\"T_e5e36_row1_col3\" class=\"data row1 col3\" >901,548</td>\n",
       "      <td id=\"T_e5e36_row1_col4\" class=\"data row1 col4\" >847,819</td>\n",
       "      <td id=\"T_e5e36_row1_col5\" class=\"data row1 col5\" >53,729</td>\n",
       "      <td id=\"T_e5e36_row1_col6\" class=\"data row1 col6\" >6.34%</td>\n",
       "    </tr>\n",
       "    <tr>\n",
       "      <th id=\"T_e5e36_level0_row2\" class=\"row_heading level0 row2\" >0</th>\n",
       "      <td id=\"T_e5e36_row2_col0\" class=\"data row2 col0\" >FPT</td>\n",
       "      <td id=\"T_e5e36_row2_col1\" class=\"data row2 col1\" >2023</td>\n",
       "      <td id=\"T_e5e36_row2_col2\" class=\"data row2 col2\" >Q3</td>\n",
       "      <td id=\"T_e5e36_row2_col3\" class=\"data row2 col3\" >1,742,063</td>\n",
       "      <td id=\"T_e5e36_row2_col4\" class=\"data row2 col4\" >2,033,577</td>\n",
       "      <td id=\"T_e5e36_row2_col5\" class=\"data row2 col5\" >-291,514</td>\n",
       "      <td id=\"T_e5e36_row2_col6\" class=\"data row2 col6\" >-14.34%</td>\n",
       "    </tr>\n",
       "    <tr>\n",
       "      <th id=\"T_e5e36_level0_row3\" class=\"row_heading level0 row3\" >3</th>\n",
       "      <td id=\"T_e5e36_row3_col0\" class=\"data row3 col0\" >TFFIF</td>\n",
       "      <td id=\"T_e5e36_row3_col1\" class=\"data row3 col1\" >2023</td>\n",
       "      <td id=\"T_e5e36_row3_col2\" class=\"data row3 col2\" >Q3</td>\n",
       "      <td id=\"T_e5e36_row3_col3\" class=\"data row3 col3\" >2,035,986</td>\n",
       "      <td id=\"T_e5e36_row3_col4\" class=\"data row3 col4\" >1,996,055</td>\n",
       "      <td id=\"T_e5e36_row3_col5\" class=\"data row3 col5\" >39,931</td>\n",
       "      <td id=\"T_e5e36_row3_col6\" class=\"data row3 col6\" >2.00%</td>\n",
       "    </tr>\n",
       "  </tbody>\n",
       "</table>\n"
      ],
      "text/plain": [
       "<pandas.io.formats.style.Styler at 0x1b13fce0640>"
      ]
     },
     "execution_count": 22,
     "metadata": {},
     "output_type": "execute_result"
    }
   ],
   "source": [
    "criteria_1 = df_ins.q_amt_c > 440_000\n",
    "df_ins.loc[criteria_1, cols].sample(4).style.format(format_dict)"
   ]
  },
  {
   "cell_type": "code",
   "execution_count": 23,
   "metadata": {},
   "outputs": [
    {
     "data": {
      "text/html": [
       "<style type=\"text/css\">\n",
       "</style>\n",
       "<table id=\"T_5e1cf_\">\n",
       "  <thead>\n",
       "    <tr>\n",
       "      <th class=\"blank level0\" >&nbsp;</th>\n",
       "      <th class=\"col_heading level0 col0\" >name</th>\n",
       "      <th class=\"col_heading level0 col1\" >year</th>\n",
       "      <th class=\"col_heading level0 col2\" >quarter</th>\n",
       "      <th class=\"col_heading level0 col3\" >q_amt_c</th>\n",
       "      <th class=\"col_heading level0 col4\" >q_amt_p</th>\n",
       "      <th class=\"col_heading level0 col5\" >inc_profit</th>\n",
       "      <th class=\"col_heading level0 col6\" >percent</th>\n",
       "    </tr>\n",
       "  </thead>\n",
       "  <tbody>\n",
       "    <tr>\n",
       "      <th id=\"T_5e1cf_level0_row0\" class=\"row_heading level0 row0\" >2</th>\n",
       "      <td id=\"T_5e1cf_row0_col0\" class=\"data row0 col0\" >OISHI</td>\n",
       "      <td id=\"T_5e1cf_row0_col1\" class=\"data row0 col1\" >2023</td>\n",
       "      <td id=\"T_5e1cf_row0_col2\" class=\"data row0 col2\" >Q3</td>\n",
       "      <td id=\"T_5e1cf_row0_col3\" class=\"data row0 col3\" >1,234,225</td>\n",
       "      <td id=\"T_5e1cf_row0_col4\" class=\"data row0 col4\" >1,187,041</td>\n",
       "      <td id=\"T_5e1cf_row0_col5\" class=\"data row0 col5\" >47,184</td>\n",
       "      <td id=\"T_5e1cf_row0_col6\" class=\"data row0 col6\" >3.97%</td>\n",
       "    </tr>\n",
       "  </tbody>\n",
       "</table>\n"
      ],
      "text/plain": [
       "<pandas.io.formats.style.Styler at 0x1b13fce0dc0>"
      ]
     },
     "execution_count": 23,
     "metadata": {},
     "output_type": "execute_result"
    }
   ],
   "source": [
    "criteria_2 = df_ins.q_amt_p > 400_000\n",
    "df_ins.loc[criteria_2, cols].sample().style.format(format_dict)"
   ]
  },
  {
   "cell_type": "code",
   "execution_count": 25,
   "metadata": {},
   "outputs": [
    {
     "data": {
      "text/html": [
       "<style type=\"text/css\">\n",
       "</style>\n",
       "<table id=\"T_e2214_\">\n",
       "  <thead>\n",
       "    <tr>\n",
       "      <th class=\"blank level0\" >&nbsp;</th>\n",
       "      <th class=\"col_heading level0 col0\" >name</th>\n",
       "      <th class=\"col_heading level0 col1\" >year</th>\n",
       "      <th class=\"col_heading level0 col2\" >quarter</th>\n",
       "      <th class=\"col_heading level0 col3\" >q_amt_c</th>\n",
       "      <th class=\"col_heading level0 col4\" >q_amt_p</th>\n",
       "      <th class=\"col_heading level0 col5\" >inc_profit</th>\n",
       "      <th class=\"col_heading level0 col6\" >percent</th>\n",
       "    </tr>\n",
       "  </thead>\n",
       "  <tbody>\n",
       "  </tbody>\n",
       "</table>\n"
      ],
      "text/plain": [
       "<pandas.io.formats.style.Styler at 0x1b13fce0850>"
      ]
     },
     "execution_count": 25,
     "metadata": {},
     "output_type": "execute_result"
    }
   ],
   "source": [
    "criteria_3 = df_ins.percent > 10.00\n",
    "df_ins.loc[criteria_3, cols].style.format(format_dict)"
   ]
  },
  {
   "cell_type": "code",
   "execution_count": 26,
   "metadata": {},
   "outputs": [
    {
     "data": {
      "text/html": [
       "<style type=\"text/css\">\n",
       "</style>\n",
       "<table id=\"T_f6d45_\">\n",
       "  <thead>\n",
       "    <tr>\n",
       "      <th class=\"blank level0\" >&nbsp;</th>\n",
       "      <th class=\"col_heading level0 col0\" >name</th>\n",
       "      <th class=\"col_heading level0 col1\" >year</th>\n",
       "      <th class=\"col_heading level0 col2\" >quarter</th>\n",
       "      <th class=\"col_heading level0 col3\" >q_amt_c</th>\n",
       "      <th class=\"col_heading level0 col4\" >q_amt_p</th>\n",
       "      <th class=\"col_heading level0 col5\" >inc_profit</th>\n",
       "      <th class=\"col_heading level0 col6\" >percent</th>\n",
       "    </tr>\n",
       "  </thead>\n",
       "  <tbody>\n",
       "  </tbody>\n",
       "</table>\n"
      ],
      "text/plain": [
       "<pandas.io.formats.style.Styler at 0x1b13fce2c40>"
      ]
     },
     "execution_count": 26,
     "metadata": {},
     "output_type": "execute_result"
    }
   ],
   "source": [
    "df_ins_criteria = criteria_1 & criteria_2 & criteria_3\n",
    "df_ins.loc[df_ins_criteria, cols].style.format(format_dict)"
   ]
  },
  {
   "cell_type": "code",
   "execution_count": 27,
   "metadata": {},
   "outputs": [
    {
     "data": {
      "text/html": [
       "<style type=\"text/css\">\n",
       "</style>\n",
       "<table id=\"T_4005c_\">\n",
       "  <thead>\n",
       "    <tr>\n",
       "      <th class=\"blank level0\" >&nbsp;</th>\n",
       "      <th class=\"col_heading level0 col0\" >name</th>\n",
       "      <th class=\"col_heading level0 col1\" >year</th>\n",
       "      <th class=\"col_heading level0 col2\" >quarter</th>\n",
       "      <th class=\"col_heading level0 col3\" >q_amt_c</th>\n",
       "      <th class=\"col_heading level0 col4\" >q_amt_p</th>\n",
       "      <th class=\"col_heading level0 col5\" >inc_profit</th>\n",
       "      <th class=\"col_heading level0 col6\" >percent</th>\n",
       "      <th class=\"col_heading level0 col7\" >id</th>\n",
       "    </tr>\n",
       "  </thead>\n",
       "  <tbody>\n",
       "  </tbody>\n",
       "</table>\n"
      ],
      "text/plain": [
       "<pandas.io.formats.style.Styler at 0x1b13fc89340>"
      ]
     },
     "execution_count": 27,
     "metadata": {},
     "output_type": "execute_result"
    }
   ],
   "source": [
    "df_ins[df_ins_criteria].sort_values(by=[\"percent\"], ascending=[False]).style.format(format_dict)"
   ]
  },
  {
   "cell_type": "code",
   "execution_count": 28,
   "metadata": {},
   "outputs": [
    {
     "data": {
      "text/html": [
       "<style type=\"text/css\">\n",
       "</style>\n",
       "<table id=\"T_7c5d7_\">\n",
       "  <thead>\n",
       "    <tr>\n",
       "      <th class=\"blank level0\" >&nbsp;</th>\n",
       "      <th class=\"col_heading level0 col0\" >name</th>\n",
       "      <th class=\"col_heading level0 col1\" >year</th>\n",
       "      <th class=\"col_heading level0 col2\" >quarter</th>\n",
       "      <th class=\"col_heading level0 col3\" >q_amt_c</th>\n",
       "      <th class=\"col_heading level0 col4\" >q_amt_p</th>\n",
       "      <th class=\"col_heading level0 col5\" >inc_profit</th>\n",
       "      <th class=\"col_heading level0 col6\" >percent</th>\n",
       "      <th class=\"col_heading level0 col7\" >id</th>\n",
       "    </tr>\n",
       "  </thead>\n",
       "  <tbody>\n",
       "  </tbody>\n",
       "</table>\n"
      ],
      "text/plain": [
       "<pandas.io.formats.style.Styler at 0x1b13fc89ac0>"
      ]
     },
     "execution_count": 28,
     "metadata": {},
     "output_type": "execute_result"
    }
   ],
   "source": [
    "df_ins[df_ins_criteria].sort_values(by=[\"name\"], ascending=[True]).style.format(format_dict)"
   ]
  },
  {
   "cell_type": "code",
   "execution_count": 29,
   "metadata": {},
   "outputs": [
    {
     "data": {
      "text/html": [
       "<style type=\"text/css\">\n",
       "</style>\n",
       "<table id=\"T_e31f0_\">\n",
       "  <thead>\n",
       "    <tr>\n",
       "      <th class=\"blank level0\" >&nbsp;</th>\n",
       "      <th class=\"col_heading level0 col0\" >name</th>\n",
       "      <th class=\"col_heading level0 col1\" >year</th>\n",
       "      <th class=\"col_heading level0 col2\" >quarter</th>\n",
       "      <th class=\"col_heading level0 col3\" >q_amt_c</th>\n",
       "      <th class=\"col_heading level0 col4\" >q_amt_p</th>\n",
       "      <th class=\"col_heading level0 col5\" >inc_profit</th>\n",
       "      <th class=\"col_heading level0 col6\" >percent</th>\n",
       "      <th class=\"col_heading level0 col7\" >id</th>\n",
       "    </tr>\n",
       "  </thead>\n",
       "  <tbody>\n",
       "  </tbody>\n",
       "</table>\n"
      ],
      "text/plain": [
       "<pandas.io.formats.style.Styler at 0x1b13fcd5340>"
      ]
     },
     "execution_count": 29,
     "metadata": {},
     "output_type": "execute_result"
    }
   ],
   "source": [
    "df_ins[df_ins_criteria].sort_values(by=[\"name\"], ascending=[True]).style.format(format_dict)"
   ]
  },
  {
   "cell_type": "code",
   "execution_count": 30,
   "metadata": {},
   "outputs": [
    {
     "name": "stdout",
     "output_type": "stream",
     "text": [
      "\n",
      "SELECT name, COUNT(*) AS 'Nbr. of Group of 4 Quarters'\n",
      "FROM qt_profits\n",
      "GROUP BY name\n",
      "HAVING COUNT(*) = 1\n",
      "ORDER BY COUNT(*) DESC, name\n",
      "\n"
     ]
    },
    {
     "data": {
      "text/html": [
       "<div>\n",
       "<style scoped>\n",
       "    .dataframe tbody tr th:only-of-type {\n",
       "        vertical-align: middle;\n",
       "    }\n",
       "\n",
       "    .dataframe tbody tr th {\n",
       "        vertical-align: top;\n",
       "    }\n",
       "\n",
       "    .dataframe thead th {\n",
       "        text-align: right;\n",
       "    }\n",
       "</style>\n",
       "<table border=\"1\" class=\"dataframe\">\n",
       "  <thead>\n",
       "    <tr style=\"text-align: right;\">\n",
       "      <th></th>\n",
       "      <th>name</th>\n",
       "      <th>Nbr. of Group of 4 Quarters</th>\n",
       "    </tr>\n",
       "  </thead>\n",
       "  <tbody>\n",
       "  </tbody>\n",
       "</table>\n",
       "</div>"
      ],
      "text/plain": [
       "Empty DataFrame\n",
       "Columns: [name, Nbr. of Group of 4 Quarters]\n",
       "Index: []"
      ]
     },
     "execution_count": 30,
     "metadata": {},
     "output_type": "execute_result"
    }
   ],
   "source": [
    "sql = \"\"\"\n",
    "SELECT name, COUNT(*) AS 'Nbr. of Group of 4 Quarters'\n",
    "FROM qt_profits\n",
    "GROUP BY name\n",
    "HAVING COUNT(*) = 1\n",
    "ORDER BY COUNT(*) DESC, name\n",
    "\"\"\"\n",
    "print(sql)\n",
    "\n",
    "tmp = pd.read_sql(sql, conlt)\n",
    "tmp"
   ]
  },
  {
   "cell_type": "code",
   "execution_count": null,
   "metadata": {},
   "outputs": [],
   "source": []
  },
  {
   "cell_type": "code",
   "execution_count": null,
   "metadata": {},
   "outputs": [],
   "source": []
  }
 ],
 "metadata": {
  "anaconda-cloud": {},
  "kernelspec": {
   "display_name": "Python 3 (ipykernel)",
   "language": "python",
   "name": "python3"
  },
  "language_info": {
   "codemirror_mode": {
    "name": "ipython",
    "version": 3
   },
   "file_extension": ".py",
   "mimetype": "text/x-python",
   "name": "python",
   "nbconvert_exporter": "python",
   "pygments_lexer": "ipython3",
   "version": "3.8.11"
  }
 },
 "nbformat": 4,
 "nbformat_minor": 1
}
