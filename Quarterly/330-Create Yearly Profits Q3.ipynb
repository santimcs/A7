{
 "cells": [
  {
   "cell_type": "markdown",
   "metadata": {},
   "source": [
    "### Restart and Run All Cells"
   ]
  },
  {
   "cell_type": "code",
   "execution_count": 1,
   "metadata": {},
   "outputs": [
    {
     "data": {
      "text/plain": [
       "'2023-02-14'"
      ]
     },
     "execution_count": 1,
     "metadata": {},
     "output_type": "execute_result"
    }
   ],
   "source": [
    "import pandas as pd\n",
    "from datetime import date, timedelta\n",
    "from sqlalchemy import create_engine\n",
    "engine = create_engine(\"sqlite:///c:\\\\ruby\\\\portlt\\\\db\\\\development.sqlite3\")\n",
    "conlt = engine.connect()\n",
    "year = 2022\n",
    "quarter = 3\n",
    "today = date.today()\n",
    "today_str = today.strftime(\"%Y-%m-%d\")\n",
    "today_str"
   ]
  },
  {
   "cell_type": "code",
   "execution_count": 2,
   "metadata": {},
   "outputs": [],
   "source": [
    "cols = 'name year quarter q_amt_c q_amt_p inc_profit percent'.split()\n",
    "\n",
    "format_dict = {\n",
    "                'q_amt':'{:,}','q_amt_c':'{:,}','q_amt_p':'{:,}','inc_profit':'{:,}',\n",
    "                'yoy_gain':'{:,}','acc_gain':'{:,}',    \n",
    "                'q_eps':'{:.4f}','y_eps':'{:.4f}','aq_eps':'{:.4f}','ay_eps':'{:.4f}',\n",
    "                'percent':'{:.2f}%'\n",
    "              }"
   ]
  },
  {
   "cell_type": "code",
   "execution_count": 3,
   "metadata": {},
   "outputs": [
    {
     "name": "stdout",
     "output_type": "stream",
     "text": [
      "\n",
      "SELECT name,year,quarter,q_amt\n",
      "FROM epss \n",
      "WHERE (year = 2022 AND quarter <= 3) \n",
      "OR (year = 2022-1 AND quarter >= 3+1)\n",
      "ORDER BY year DESC, quarter DESC\n"
     ]
    }
   ],
   "source": [
    "sql = \"\"\"\n",
    "SELECT name,year,quarter,q_amt\n",
    "FROM epss \n",
    "WHERE (year = %s AND quarter <= %s) \n",
    "OR (year = %s-1 AND quarter >= %s+1)\n",
    "ORDER BY year DESC, quarter DESC\"\"\"\n",
    "sql = sql % (year, quarter, year, quarter)\n",
    "print(sql)"
   ]
  },
  {
   "cell_type": "code",
   "execution_count": 4,
   "metadata": {},
   "outputs": [
    {
     "data": {
      "text/html": [
       "<style type=\"text/css\">\n",
       "</style>\n",
       "<table id=\"T_395b1_\">\n",
       "  <thead>\n",
       "    <tr>\n",
       "      <th class=\"blank level0\" >&nbsp;</th>\n",
       "      <th class=\"col_heading level0 col0\" >name</th>\n",
       "      <th class=\"col_heading level0 col1\" >year</th>\n",
       "      <th class=\"col_heading level0 col2\" >quarter</th>\n",
       "      <th class=\"col_heading level0 col3\" >q_amt</th>\n",
       "      <th class=\"col_heading level0 col4\" >Counter</th>\n",
       "    </tr>\n",
       "  </thead>\n",
       "  <tbody>\n",
       "    <tr>\n",
       "      <th id=\"T_395b1_level0_row0\" class=\"row_heading level0 row0\" >41</th>\n",
       "      <td id=\"T_395b1_row0_col0\" class=\"data row0 col0\" >CBG</td>\n",
       "      <td id=\"T_395b1_row0_col1\" class=\"data row0 col1\" >8087</td>\n",
       "      <td id=\"T_395b1_row0_col2\" class=\"data row0 col2\" >10</td>\n",
       "      <td id=\"T_395b1_row0_col3\" class=\"data row0 col3\" >2,490,900</td>\n",
       "      <td id=\"T_395b1_row0_col4\" class=\"data row0 col4\" >4</td>\n",
       "    </tr>\n",
       "    <tr>\n",
       "      <th id=\"T_395b1_level0_row1\" class=\"row_heading level0 row1\" >135</th>\n",
       "      <td id=\"T_395b1_row1_col0\" class=\"data row1 col0\" >OSP</td>\n",
       "      <td id=\"T_395b1_row1_col1\" class=\"data row1 col1\" >8087</td>\n",
       "      <td id=\"T_395b1_row1_col2\" class=\"data row1 col2\" >10</td>\n",
       "      <td id=\"T_395b1_row1_col3\" class=\"data row1 col3\" >2,448,105</td>\n",
       "      <td id=\"T_395b1_row1_col4\" class=\"data row1 col4\" >4</td>\n",
       "    </tr>\n",
       "    <tr>\n",
       "      <th id=\"T_395b1_level0_row2\" class=\"row_heading level0 row2\" >12</th>\n",
       "      <td id=\"T_395b1_row2_col0\" class=\"data row2 col0\" >ASIAN</td>\n",
       "      <td id=\"T_395b1_row2_col1\" class=\"data row2 col1\" >8087</td>\n",
       "      <td id=\"T_395b1_row2_col2\" class=\"data row2 col2\" >10</td>\n",
       "      <td id=\"T_395b1_row2_col3\" class=\"data row2 col3\" >1,020,743</td>\n",
       "      <td id=\"T_395b1_row2_col4\" class=\"data row2 col4\" >4</td>\n",
       "    </tr>\n",
       "    <tr>\n",
       "      <th id=\"T_395b1_level0_row3\" class=\"row_heading level0 row3\" >129</th>\n",
       "      <td id=\"T_395b1_row3_col0\" class=\"data row3 col0\" >NER</td>\n",
       "      <td id=\"T_395b1_row3_col1\" class=\"data row3 col1\" >8087</td>\n",
       "      <td id=\"T_395b1_row3_col2\" class=\"data row3 col2\" >10</td>\n",
       "      <td id=\"T_395b1_row3_col3\" class=\"data row3 col3\" >1,984,536</td>\n",
       "      <td id=\"T_395b1_row3_col4\" class=\"data row3 col4\" >4</td>\n",
       "    </tr>\n",
       "    <tr>\n",
       "      <th id=\"T_395b1_level0_row4\" class=\"row_heading level0 row4\" >108</th>\n",
       "      <td id=\"T_395b1_row4_col0\" class=\"data row4 col0\" >KYE</td>\n",
       "      <td id=\"T_395b1_row4_col1\" class=\"data row4 col1\" >8087</td>\n",
       "      <td id=\"T_395b1_row4_col2\" class=\"data row4 col2\" >10</td>\n",
       "      <td id=\"T_395b1_row4_col3\" class=\"data row4 col3\" >65,069</td>\n",
       "      <td id=\"T_395b1_row4_col4\" class=\"data row4 col4\" >4</td>\n",
       "    </tr>\n",
       "  </tbody>\n",
       "</table>\n"
      ],
      "text/plain": [
       "<pandas.io.formats.style.Styler at 0x20d822f7b80>"
      ]
     },
     "execution_count": 4,
     "metadata": {},
     "output_type": "execute_result"
    }
   ],
   "source": [
    "dfc = pd.read_sql(sql, conlt)\n",
    "dfc[\"Counter\"] = 1\n",
    "dfc_grp = dfc.groupby([\"name\"], as_index=False).sum()\n",
    "dfc_grp = dfc_grp[dfc_grp[\"Counter\"] == 4]\n",
    "dfc_grp.sample(5).style.format(format_dict)"
   ]
  },
  {
   "cell_type": "code",
   "execution_count": 5,
   "metadata": {},
   "outputs": [
    {
     "name": "stdout",
     "output_type": "stream",
     "text": [
      "\n",
      "SELECT name,year,quarter,q_amt\n",
      "FROM epss \n",
      "WHERE (year = 2022-1 AND quarter <= 3) \n",
      "OR (year = 2022-2 AND quarter >= 3+1)\n",
      "ORDER BY year DESC, quarter DESC\n",
      "\n"
     ]
    }
   ],
   "source": [
    "sql = \"\"\"\n",
    "SELECT name,year,quarter,q_amt\n",
    "FROM epss \n",
    "WHERE (year = %s-1 AND quarter <= %s) \n",
    "OR (year = %s-2 AND quarter >= %s+1)\n",
    "ORDER BY year DESC, quarter DESC\n",
    "\"\"\"\n",
    "sql = sql % (year, quarter, year, quarter)\n",
    "print(sql)"
   ]
  },
  {
   "cell_type": "code",
   "execution_count": 6,
   "metadata": {},
   "outputs": [
    {
     "data": {
      "text/html": [
       "<style type=\"text/css\">\n",
       "</style>\n",
       "<table id=\"T_49d02_\">\n",
       "  <thead>\n",
       "    <tr>\n",
       "      <th class=\"blank level0\" >&nbsp;</th>\n",
       "      <th class=\"col_heading level0 col0\" >name</th>\n",
       "      <th class=\"col_heading level0 col1\" >year</th>\n",
       "      <th class=\"col_heading level0 col2\" >quarter</th>\n",
       "      <th class=\"col_heading level0 col3\" >q_amt</th>\n",
       "      <th class=\"col_heading level0 col4\" >Counter</th>\n",
       "    </tr>\n",
       "  </thead>\n",
       "  <tbody>\n",
       "    <tr>\n",
       "      <th id=\"T_49d02_level0_row0\" class=\"row_heading level0 row0\" >125</th>\n",
       "      <td id=\"T_49d02_row0_col0\" class=\"data row0 col0\" >MEGA</td>\n",
       "      <td id=\"T_49d02_row0_col1\" class=\"data row0 col1\" >8083</td>\n",
       "      <td id=\"T_49d02_row0_col2\" class=\"data row0 col2\" >10</td>\n",
       "      <td id=\"T_49d02_row0_col3\" class=\"data row0 col3\" >1,877,717</td>\n",
       "      <td id=\"T_49d02_row0_col4\" class=\"data row0 col4\" >4</td>\n",
       "    </tr>\n",
       "    <tr>\n",
       "      <th id=\"T_49d02_level0_row1\" class=\"row_heading level0 row1\" >178</th>\n",
       "      <td id=\"T_49d02_row1_col0\" class=\"data row1 col0\" >SPCG</td>\n",
       "      <td id=\"T_49d02_row1_col1\" class=\"data row1 col1\" >8083</td>\n",
       "      <td id=\"T_49d02_row1_col2\" class=\"data row1 col2\" >10</td>\n",
       "      <td id=\"T_49d02_row1_col3\" class=\"data row1 col3\" >2,512,467</td>\n",
       "      <td id=\"T_49d02_row1_col4\" class=\"data row1 col4\" >4</td>\n",
       "    </tr>\n",
       "    <tr>\n",
       "      <th id=\"T_49d02_level0_row2\" class=\"row_heading level0 row2\" >74</th>\n",
       "      <td id=\"T_49d02_row2_col0\" class=\"data row2 col0\" >GGC</td>\n",
       "      <td id=\"T_49d02_row2_col1\" class=\"data row2 col1\" >8083</td>\n",
       "      <td id=\"T_49d02_row2_col2\" class=\"data row2 col2\" >10</td>\n",
       "      <td id=\"T_49d02_row2_col3\" class=\"data row2 col3\" >983,347</td>\n",
       "      <td id=\"T_49d02_row2_col4\" class=\"data row2 col4\" >4</td>\n",
       "    </tr>\n",
       "    <tr>\n",
       "      <th id=\"T_49d02_level0_row3\" class=\"row_heading level0 row3\" >188</th>\n",
       "      <td id=\"T_49d02_row3_col0\" class=\"data row3 col0\" >SUPEREIF</td>\n",
       "      <td id=\"T_49d02_row3_col1\" class=\"data row3 col1\" >8083</td>\n",
       "      <td id=\"T_49d02_row3_col2\" class=\"data row3 col2\" >10</td>\n",
       "      <td id=\"T_49d02_row3_col3\" class=\"data row3 col3\" >392,187</td>\n",
       "      <td id=\"T_49d02_row3_col4\" class=\"data row3 col4\" >4</td>\n",
       "    </tr>\n",
       "    <tr>\n",
       "      <th id=\"T_49d02_level0_row4\" class=\"row_heading level0 row4\" >73</th>\n",
       "      <td id=\"T_49d02_row4_col0\" class=\"data row4 col0\" >GFPT</td>\n",
       "      <td id=\"T_49d02_row4_col1\" class=\"data row4 col1\" >8083</td>\n",
       "      <td id=\"T_49d02_row4_col2\" class=\"data row4 col2\" >10</td>\n",
       "      <td id=\"T_49d02_row4_col3\" class=\"data row4 col3\" >617,194</td>\n",
       "      <td id=\"T_49d02_row4_col4\" class=\"data row4 col4\" >4</td>\n",
       "    </tr>\n",
       "  </tbody>\n",
       "</table>\n"
      ],
      "text/plain": [
       "<pandas.io.formats.style.Styler at 0x20d8334be80>"
      ]
     },
     "execution_count": 6,
     "metadata": {},
     "output_type": "execute_result"
    }
   ],
   "source": [
    "dfp = pd.read_sql(sql, conlt)\n",
    "dfp[\"Counter\"] = 1\n",
    "dfp_grp = dfp.groupby([\"name\"], as_index=False).sum()\n",
    "dfp_grp = dfp_grp[dfp_grp[\"Counter\"] == 4]\n",
    "dfp_grp.sample(5).style.format(format_dict)"
   ]
  },
  {
   "cell_type": "code",
   "execution_count": 7,
   "metadata": {},
   "outputs": [
    {
     "data": {
      "text/html": [
       "<style type=\"text/css\">\n",
       "</style>\n",
       "<table id=\"T_37d18_\">\n",
       "  <thead>\n",
       "    <tr>\n",
       "      <th class=\"blank level0\" >&nbsp;</th>\n",
       "      <th class=\"col_heading level0 col0\" >name</th>\n",
       "      <th class=\"col_heading level0 col1\" >year</th>\n",
       "      <th class=\"col_heading level0 col2\" >quarter</th>\n",
       "      <th class=\"col_heading level0 col3\" >q_amt_c</th>\n",
       "      <th class=\"col_heading level0 col4\" >q_amt_p</th>\n",
       "      <th class=\"col_heading level0 col5\" >inc_profit</th>\n",
       "      <th class=\"col_heading level0 col6\" >percent</th>\n",
       "    </tr>\n",
       "  </thead>\n",
       "  <tbody>\n",
       "    <tr>\n",
       "      <th id=\"T_37d18_level0_row0\" class=\"row_heading level0 row0\" >15</th>\n",
       "      <td id=\"T_37d18_row0_col0\" class=\"data row0 col0\" >AWC</td>\n",
       "      <td id=\"T_37d18_row0_col1\" class=\"data row0 col1\" >2022</td>\n",
       "      <td id=\"T_37d18_row0_col2\" class=\"data row0 col2\" >Q3</td>\n",
       "      <td id=\"T_37d18_row0_col3\" class=\"data row0 col3\" >3,414,980</td>\n",
       "      <td id=\"T_37d18_row0_col4\" class=\"data row0 col4\" >-597,662</td>\n",
       "      <td id=\"T_37d18_row0_col5\" class=\"data row0 col5\" >4,012,642</td>\n",
       "      <td id=\"T_37d18_row0_col6\" class=\"data row0 col6\" >671.39%</td>\n",
       "    </tr>\n",
       "    <tr>\n",
       "      <th id=\"T_37d18_level0_row1\" class=\"row_heading level0 row1\" >198</th>\n",
       "      <td id=\"T_37d18_row1_col0\" class=\"data row1 col0\" >TMW</td>\n",
       "      <td id=\"T_37d18_row1_col1\" class=\"data row1 col1\" >2022</td>\n",
       "      <td id=\"T_37d18_row1_col2\" class=\"data row1 col2\" >Q3</td>\n",
       "      <td id=\"T_37d18_row1_col3\" class=\"data row1 col3\" >175,994</td>\n",
       "      <td id=\"T_37d18_row1_col4\" class=\"data row1 col4\" >137,823</td>\n",
       "      <td id=\"T_37d18_row1_col5\" class=\"data row1 col5\" >38,171</td>\n",
       "      <td id=\"T_37d18_row1_col6\" class=\"data row1 col6\" >27.70%</td>\n",
       "    </tr>\n",
       "    <tr>\n",
       "      <th id=\"T_37d18_level0_row2\" class=\"row_heading level0 row2\" >167</th>\n",
       "      <td id=\"T_37d18_row2_col0\" class=\"data row2 col0\" >SKR</td>\n",
       "      <td id=\"T_37d18_row2_col1\" class=\"data row2 col1\" >2022</td>\n",
       "      <td id=\"T_37d18_row2_col2\" class=\"data row2 col2\" >Q3</td>\n",
       "      <td id=\"T_37d18_row2_col3\" class=\"data row2 col3\" >1,676,234</td>\n",
       "      <td id=\"T_37d18_row2_col4\" class=\"data row2 col4\" >671,172</td>\n",
       "      <td id=\"T_37d18_row2_col5\" class=\"data row2 col5\" >1,005,062</td>\n",
       "      <td id=\"T_37d18_row2_col6\" class=\"data row2 col6\" >149.75%</td>\n",
       "    </tr>\n",
       "    <tr>\n",
       "      <th id=\"T_37d18_level0_row3\" class=\"row_heading level0 row3\" >29</th>\n",
       "      <td id=\"T_37d18_row3_col0\" class=\"data row3 col0\" >BGC</td>\n",
       "      <td id=\"T_37d18_row3_col1\" class=\"data row3 col1\" >2022</td>\n",
       "      <td id=\"T_37d18_row3_col2\" class=\"data row3 col2\" >Q3</td>\n",
       "      <td id=\"T_37d18_row3_col3\" class=\"data row3 col3\" >508,499</td>\n",
       "      <td id=\"T_37d18_row3_col4\" class=\"data row3 col4\" >550,097</td>\n",
       "      <td id=\"T_37d18_row3_col5\" class=\"data row3 col5\" >-41,598</td>\n",
       "      <td id=\"T_37d18_row3_col6\" class=\"data row3 col6\" >-7.56%</td>\n",
       "    </tr>\n",
       "    <tr>\n",
       "      <th id=\"T_37d18_level0_row4\" class=\"row_heading level0 row4\" >141</th>\n",
       "      <td id=\"T_37d18_row4_col0\" class=\"data row4 col0\" >PTT</td>\n",
       "      <td id=\"T_37d18_row4_col1\" class=\"data row4 col1\" >2022</td>\n",
       "      <td id=\"T_37d18_row4_col2\" class=\"data row4 col2\" >Q3</td>\n",
       "      <td id=\"T_37d18_row4_col3\" class=\"data row4 col3\" >100,847,152</td>\n",
       "      <td id=\"T_37d18_row4_col4\" class=\"data row4 col4\" >93,965,796</td>\n",
       "      <td id=\"T_37d18_row4_col5\" class=\"data row4 col5\" >6,881,356</td>\n",
       "      <td id=\"T_37d18_row4_col6\" class=\"data row4 col6\" >7.32%</td>\n",
       "    </tr>\n",
       "  </tbody>\n",
       "</table>\n"
      ],
      "text/plain": [
       "<pandas.io.formats.style.Styler at 0x20dff6a2c70>"
      ]
     },
     "execution_count": 7,
     "metadata": {},
     "output_type": "execute_result"
    }
   ],
   "source": [
    "dfm = pd.merge(dfc_grp, dfp_grp, on=\"name\", suffixes=([\"_c\", \"_p\"]), how=\"inner\")\n",
    "dfm[\"inc_profit\"] = dfm[\"q_amt_c\"] - dfm[\"q_amt_p\"]\n",
    "dfm[\"percent\"] = round(dfm[\"inc_profit\"] / abs(dfm[\"q_amt_p\"]) * 100, 2)\n",
    "dfm[\"year\"] = year\n",
    "dfm[\"quarter\"] = \"Q\" + str(quarter)\n",
    "df_percent = dfm[cols]\n",
    "df_percent.sample(5).style.format(format_dict)"
   ]
  },
  {
   "cell_type": "code",
   "execution_count": 8,
   "metadata": {},
   "outputs": [
    {
     "name": "stdout",
     "output_type": "stream",
     "text": [
      "\n",
      "DELETE FROM yr_profits \n",
      "WHERE year = 2022 AND quarter = \"Q3\"\n"
     ]
    },
    {
     "data": {
      "text/plain": [
       "216"
      ]
     },
     "execution_count": 8,
     "metadata": {},
     "output_type": "execute_result"
    }
   ],
   "source": [
    "sql = '''\n",
    "DELETE FROM yr_profits \n",
    "WHERE year = %s AND quarter = \"Q%s\"'''\n",
    "sql = sql % (year, quarter)\n",
    "print(sql)\n",
    "\n",
    "rp = conlt.execute(sql)\n",
    "rp.rowcount"
   ]
  },
  {
   "cell_type": "code",
   "execution_count": 9,
   "metadata": {},
   "outputs": [
    {
     "data": {
      "text/plain": [
       "226"
      ]
     },
     "execution_count": 9,
     "metadata": {},
     "output_type": "execute_result"
    }
   ],
   "source": [
    "sql = \"SELECT name, id FROM tickers\"\n",
    "tickers = pd.read_sql(sql, conlt)\n",
    "df_ins = pd.merge(df_percent, tickers, on=\"name\", how=\"inner\")\n",
    "rcds = df_ins.values.tolist()\n",
    "len(rcds)"
   ]
  },
  {
   "cell_type": "code",
   "execution_count": 10,
   "metadata": {},
   "outputs": [
    {
     "name": "stdout",
     "output_type": "stream",
     "text": [
      "\n",
      "INSERT INTO yr_profits (name, year, quarter, latest_amt, previous_amt, inc_amt, inc_pct, ticker_id) \n",
      "VALUES (?, ?, ?, ?, ?, ?, ?, ?)\n"
     ]
    }
   ],
   "source": [
    "sql = \"\"\"\n",
    "INSERT INTO yr_profits (name, year, quarter, latest_amt, previous_amt, inc_amt, inc_pct, ticker_id) \n",
    "VALUES (?, ?, ?, ?, ?, ?, ?, ?)\"\"\"\n",
    "print(sql)"
   ]
  },
  {
   "cell_type": "code",
   "execution_count": 11,
   "metadata": {},
   "outputs": [],
   "source": [
    "for rcd in rcds:\n",
    "    conlt.execute(sql, rcd)"
   ]
  },
  {
   "cell_type": "markdown",
   "metadata": {},
   "source": [
    "### End of loop"
   ]
  },
  {
   "cell_type": "code",
   "execution_count": 12,
   "metadata": {},
   "outputs": [
    {
     "data": {
      "text/html": [
       "<style type=\"text/css\">\n",
       "</style>\n",
       "<table id=\"T_e6682_\">\n",
       "  <thead>\n",
       "    <tr>\n",
       "      <th class=\"blank level0\" >&nbsp;</th>\n",
       "      <th class=\"col_heading level0 col0\" >name</th>\n",
       "      <th class=\"col_heading level0 col1\" >year</th>\n",
       "      <th class=\"col_heading level0 col2\" >quarter</th>\n",
       "      <th class=\"col_heading level0 col3\" >q_amt_c</th>\n",
       "      <th class=\"col_heading level0 col4\" >q_amt_p</th>\n",
       "      <th class=\"col_heading level0 col5\" >inc_profit</th>\n",
       "      <th class=\"col_heading level0 col6\" >percent</th>\n",
       "    </tr>\n",
       "  </thead>\n",
       "  <tbody>\n",
       "    <tr>\n",
       "      <th id=\"T_e6682_level0_row0\" class=\"row_heading level0 row0\" >160</th>\n",
       "      <td id=\"T_e6682_row0_col0\" class=\"data row0 col0\" >SCGP</td>\n",
       "      <td id=\"T_e6682_row0_col1\" class=\"data row0 col1\" >2022</td>\n",
       "      <td id=\"T_e6682_row0_col2\" class=\"data row0 col2\" >Q3</td>\n",
       "      <td id=\"T_e6682_row0_col3\" class=\"data row0 col3\" >7,466,698</td>\n",
       "      <td id=\"T_e6682_row0_col4\" class=\"data row0 col4\" >7,664,850</td>\n",
       "      <td id=\"T_e6682_row0_col5\" class=\"data row0 col5\" >-198,152</td>\n",
       "      <td id=\"T_e6682_row0_col6\" class=\"data row0 col6\" >-2.59%</td>\n",
       "    </tr>\n",
       "    <tr>\n",
       "      <th id=\"T_e6682_level0_row1\" class=\"row_heading level0 row1\" >66</th>\n",
       "      <td id=\"T_e6682_row1_col0\" class=\"data row1 col0\" >ESSO</td>\n",
       "      <td id=\"T_e6682_row1_col1\" class=\"data row1 col1\" >2022</td>\n",
       "      <td id=\"T_e6682_row1_col2\" class=\"data row1 col2\" >Q3</td>\n",
       "      <td id=\"T_e6682_row1_col3\" class=\"data row1 col3\" >11,822,040</td>\n",
       "      <td id=\"T_e6682_row1_col4\" class=\"data row1 col4\" >4,126,097</td>\n",
       "      <td id=\"T_e6682_row1_col5\" class=\"data row1 col5\" >7,695,943</td>\n",
       "      <td id=\"T_e6682_row1_col6\" class=\"data row1 col6\" >186.52%</td>\n",
       "    </tr>\n",
       "    <tr>\n",
       "      <th id=\"T_e6682_level0_row2\" class=\"row_heading level0 row2\" >93</th>\n",
       "      <td id=\"T_e6682_row2_col0\" class=\"data row2 col0\" >JASIF</td>\n",
       "      <td id=\"T_e6682_row2_col1\" class=\"data row2 col1\" >2022</td>\n",
       "      <td id=\"T_e6682_row2_col2\" class=\"data row2 col2\" >Q3</td>\n",
       "      <td id=\"T_e6682_row2_col3\" class=\"data row2 col3\" >6,944,110</td>\n",
       "      <td id=\"T_e6682_row2_col4\" class=\"data row2 col4\" >8,129,081</td>\n",
       "      <td id=\"T_e6682_row2_col5\" class=\"data row2 col5\" >-1,184,971</td>\n",
       "      <td id=\"T_e6682_row2_col6\" class=\"data row2 col6\" >-14.58%</td>\n",
       "    </tr>\n",
       "    <tr>\n",
       "      <th id=\"T_e6682_level0_row3\" class=\"row_heading level0 row3\" >222</th>\n",
       "      <td id=\"T_e6682_row3_col0\" class=\"data row3 col0\" >WHART</td>\n",
       "      <td id=\"T_e6682_row3_col1\" class=\"data row3 col1\" >2022</td>\n",
       "      <td id=\"T_e6682_row3_col2\" class=\"data row3 col2\" >Q3</td>\n",
       "      <td id=\"T_e6682_row3_col3\" class=\"data row3 col3\" >1,900,269</td>\n",
       "      <td id=\"T_e6682_row3_col4\" class=\"data row3 col4\" >2,308,085</td>\n",
       "      <td id=\"T_e6682_row3_col5\" class=\"data row3 col5\" >-407,816</td>\n",
       "      <td id=\"T_e6682_row3_col6\" class=\"data row3 col6\" >-17.67%</td>\n",
       "    </tr>\n",
       "    <tr>\n",
       "      <th id=\"T_e6682_level0_row4\" class=\"row_heading level0 row4\" >184</th>\n",
       "      <td id=\"T_e6682_row4_col0\" class=\"data row4 col0\" >SYNEX</td>\n",
       "      <td id=\"T_e6682_row4_col1\" class=\"data row4 col1\" >2022</td>\n",
       "      <td id=\"T_e6682_row4_col2\" class=\"data row4 col2\" >Q3</td>\n",
       "      <td id=\"T_e6682_row4_col3\" class=\"data row4 col3\" >899,451</td>\n",
       "      <td id=\"T_e6682_row4_col4\" class=\"data row4 col4\" >764,070</td>\n",
       "      <td id=\"T_e6682_row4_col5\" class=\"data row4 col5\" >135,381</td>\n",
       "      <td id=\"T_e6682_row4_col6\" class=\"data row4 col6\" >17.72%</td>\n",
       "    </tr>\n",
       "  </tbody>\n",
       "</table>\n"
      ],
      "text/plain": [
       "<pandas.io.formats.style.Styler at 0x20dff73cf10>"
      ]
     },
     "execution_count": 12,
     "metadata": {},
     "output_type": "execute_result"
    }
   ],
   "source": [
    "criteria_1 = df_ins.q_amt_c > 440_000\n",
    "df_ins.loc[criteria_1, cols].sample(5).style.format(format_dict)"
   ]
  },
  {
   "cell_type": "code",
   "execution_count": 13,
   "metadata": {},
   "outputs": [
    {
     "data": {
      "text/html": [
       "<style type=\"text/css\">\n",
       "</style>\n",
       "<table id=\"T_c482e_\">\n",
       "  <thead>\n",
       "    <tr>\n",
       "      <th class=\"blank level0\" >&nbsp;</th>\n",
       "      <th class=\"col_heading level0 col0\" >name</th>\n",
       "      <th class=\"col_heading level0 col1\" >year</th>\n",
       "      <th class=\"col_heading level0 col2\" >quarter</th>\n",
       "      <th class=\"col_heading level0 col3\" >q_amt_c</th>\n",
       "      <th class=\"col_heading level0 col4\" >q_amt_p</th>\n",
       "      <th class=\"col_heading level0 col5\" >inc_profit</th>\n",
       "      <th class=\"col_heading level0 col6\" >percent</th>\n",
       "    </tr>\n",
       "  </thead>\n",
       "  <tbody>\n",
       "    <tr>\n",
       "      <th id=\"T_c482e_level0_row0\" class=\"row_heading level0 row0\" >68</th>\n",
       "      <td id=\"T_c482e_row0_col0\" class=\"data row0 col0\" >FPT</td>\n",
       "      <td id=\"T_c482e_row0_col1\" class=\"data row0 col1\" >2022</td>\n",
       "      <td id=\"T_c482e_row0_col2\" class=\"data row0 col2\" >Q3</td>\n",
       "      <td id=\"T_c482e_row0_col3\" class=\"data row0 col3\" >1,901,129</td>\n",
       "      <td id=\"T_c482e_row0_col4\" class=\"data row0 col4\" >2,714,180</td>\n",
       "      <td id=\"T_c482e_row0_col5\" class=\"data row0 col5\" >-813,051</td>\n",
       "      <td id=\"T_c482e_row0_col6\" class=\"data row0 col6\" >-29.96%</td>\n",
       "    </tr>\n",
       "    <tr>\n",
       "      <th id=\"T_c482e_level0_row1\" class=\"row_heading level0 row1\" >170</th>\n",
       "      <td id=\"T_c482e_row1_col0\" class=\"data row1 col0\" >SPALI</td>\n",
       "      <td id=\"T_c482e_row1_col1\" class=\"data row1 col1\" >2022</td>\n",
       "      <td id=\"T_c482e_row1_col2\" class=\"data row1 col2\" >Q3</td>\n",
       "      <td id=\"T_c482e_row1_col3\" class=\"data row1 col3\" >8,880,962</td>\n",
       "      <td id=\"T_c482e_row1_col4\" class=\"data row1 col4\" >6,055,750</td>\n",
       "      <td id=\"T_c482e_row1_col5\" class=\"data row1 col5\" >2,825,212</td>\n",
       "      <td id=\"T_c482e_row1_col6\" class=\"data row1 col6\" >46.65%</td>\n",
       "    </tr>\n",
       "    <tr>\n",
       "      <th id=\"T_c482e_level0_row2\" class=\"row_heading level0 row2\" >154</th>\n",
       "      <td id=\"T_c482e_row2_col0\" class=\"data row2 col0\" >SAT</td>\n",
       "      <td id=\"T_c482e_row2_col1\" class=\"data row2 col1\" >2022</td>\n",
       "      <td id=\"T_c482e_row2_col2\" class=\"data row2 col2\" >Q3</td>\n",
       "      <td id=\"T_c482e_row2_col3\" class=\"data row2 col3\" >907,833</td>\n",
       "      <td id=\"T_c482e_row2_col4\" class=\"data row2 col4\" >1,012,725</td>\n",
       "      <td id=\"T_c482e_row2_col5\" class=\"data row2 col5\" >-104,892</td>\n",
       "      <td id=\"T_c482e_row2_col6\" class=\"data row2 col6\" >-10.36%</td>\n",
       "    </tr>\n",
       "    <tr>\n",
       "      <th id=\"T_c482e_level0_row3\" class=\"row_heading level0 row3\" >159</th>\n",
       "      <td id=\"T_c482e_row3_col0\" class=\"data row3 col0\" >SCCC</td>\n",
       "      <td id=\"T_c482e_row3_col1\" class=\"data row3 col1\" >2022</td>\n",
       "      <td id=\"T_c482e_row3_col2\" class=\"data row3 col2\" >Q3</td>\n",
       "      <td id=\"T_c482e_row3_col3\" class=\"data row3 col3\" >3,822,686</td>\n",
       "      <td id=\"T_c482e_row3_col4\" class=\"data row3 col4\" >4,117,213</td>\n",
       "      <td id=\"T_c482e_row3_col5\" class=\"data row3 col5\" >-294,527</td>\n",
       "      <td id=\"T_c482e_row3_col6\" class=\"data row3 col6\" >-7.15%</td>\n",
       "    </tr>\n",
       "    <tr>\n",
       "      <th id=\"T_c482e_level0_row4\" class=\"row_heading level0 row4\" >207</th>\n",
       "      <td id=\"T_c482e_row4_col0\" class=\"data row4 col0\" >TSTH</td>\n",
       "      <td id=\"T_c482e_row4_col1\" class=\"data row4 col1\" >2022</td>\n",
       "      <td id=\"T_c482e_row4_col2\" class=\"data row4 col2\" >Q3</td>\n",
       "      <td id=\"T_c482e_row4_col3\" class=\"data row4 col3\" >823,146</td>\n",
       "      <td id=\"T_c482e_row4_col4\" class=\"data row4 col4\" >2,761,232</td>\n",
       "      <td id=\"T_c482e_row4_col5\" class=\"data row4 col5\" >-1,938,086</td>\n",
       "      <td id=\"T_c482e_row4_col6\" class=\"data row4 col6\" >-70.19%</td>\n",
       "    </tr>\n",
       "  </tbody>\n",
       "</table>\n"
      ],
      "text/plain": [
       "<pandas.io.formats.style.Styler at 0x20d83393910>"
      ]
     },
     "execution_count": 13,
     "metadata": {},
     "output_type": "execute_result"
    }
   ],
   "source": [
    "criteria_2 = df_ins.q_amt_p > 400_000\n",
    "df_ins.loc[criteria_2, cols].sample(5).style.format(format_dict)"
   ]
  },
  {
   "cell_type": "code",
   "execution_count": 14,
   "metadata": {},
   "outputs": [
    {
     "data": {
      "text/html": [
       "<style type=\"text/css\">\n",
       "</style>\n",
       "<table id=\"T_af1fd_\">\n",
       "  <thead>\n",
       "    <tr>\n",
       "      <th class=\"blank level0\" >&nbsp;</th>\n",
       "      <th class=\"col_heading level0 col0\" >name</th>\n",
       "      <th class=\"col_heading level0 col1\" >year</th>\n",
       "      <th class=\"col_heading level0 col2\" >quarter</th>\n",
       "      <th class=\"col_heading level0 col3\" >q_amt_c</th>\n",
       "      <th class=\"col_heading level0 col4\" >q_amt_p</th>\n",
       "      <th class=\"col_heading level0 col5\" >inc_profit</th>\n",
       "      <th class=\"col_heading level0 col6\" >percent</th>\n",
       "    </tr>\n",
       "  </thead>\n",
       "  <tbody>\n",
       "    <tr>\n",
       "      <th id=\"T_af1fd_level0_row0\" class=\"row_heading level0 row0\" >18</th>\n",
       "      <td id=\"T_af1fd_row0_col0\" class=\"data row0 col0\" >BANPU</td>\n",
       "      <td id=\"T_af1fd_row0_col1\" class=\"data row0 col1\" >2022</td>\n",
       "      <td id=\"T_af1fd_row0_col2\" class=\"data row0 col2\" >Q3</td>\n",
       "      <td id=\"T_af1fd_row0_col3\" class=\"data row0 col3\" >44,283,431</td>\n",
       "      <td id=\"T_af1fd_row0_col4\" class=\"data row0 col4\" >5,897,490</td>\n",
       "      <td id=\"T_af1fd_row0_col5\" class=\"data row0 col5\" >38,385,941</td>\n",
       "      <td id=\"T_af1fd_row0_col6\" class=\"data row0 col6\" >650.89%</td>\n",
       "    </tr>\n",
       "    <tr>\n",
       "      <th id=\"T_af1fd_level0_row1\" class=\"row_heading level0 row1\" >187</th>\n",
       "      <td id=\"T_af1fd_row1_col0\" class=\"data row1 col0\" >TFFIF</td>\n",
       "      <td id=\"T_af1fd_row1_col1\" class=\"data row1 col1\" >2022</td>\n",
       "      <td id=\"T_af1fd_row1_col2\" class=\"data row1 col2\" >Q3</td>\n",
       "      <td id=\"T_af1fd_row1_col3\" class=\"data row1 col3\" >1,390,654</td>\n",
       "      <td id=\"T_af1fd_row1_col4\" class=\"data row1 col4\" >1,086,172</td>\n",
       "      <td id=\"T_af1fd_row1_col5\" class=\"data row1 col5\" >304,482</td>\n",
       "      <td id=\"T_af1fd_row1_col6\" class=\"data row1 col6\" >28.03%</td>\n",
       "    </tr>\n",
       "    <tr>\n",
       "      <th id=\"T_af1fd_level0_row2\" class=\"row_heading level0 row2\" >5</th>\n",
       "      <td id=\"T_af1fd_row2_col0\" class=\"data row2 col0\" >AIMIRT</td>\n",
       "      <td id=\"T_af1fd_row2_col1\" class=\"data row2 col1\" >2022</td>\n",
       "      <td id=\"T_af1fd_row2_col2\" class=\"data row2 col2\" >Q3</td>\n",
       "      <td id=\"T_af1fd_row2_col3\" class=\"data row2 col3\" >693,015</td>\n",
       "      <td id=\"T_af1fd_row2_col4\" class=\"data row2 col4\" >437,639</td>\n",
       "      <td id=\"T_af1fd_row2_col5\" class=\"data row2 col5\" >255,376</td>\n",
       "      <td id=\"T_af1fd_row2_col6\" class=\"data row2 col6\" >58.35%</td>\n",
       "    </tr>\n",
       "    <tr>\n",
       "      <th id=\"T_af1fd_level0_row3\" class=\"row_heading level0 row3\" >40</th>\n",
       "      <td id=\"T_af1fd_row3_col0\" class=\"data row3 col0\" >CENTEL</td>\n",
       "      <td id=\"T_af1fd_row3_col1\" class=\"data row3 col1\" >2022</td>\n",
       "      <td id=\"T_af1fd_row3_col2\" class=\"data row3 col2\" >Q3</td>\n",
       "      <td id=\"T_af1fd_row3_col3\" class=\"data row3 col3\" >52,641</td>\n",
       "      <td id=\"T_af1fd_row3_col4\" class=\"data row3 col4\" >-3,252,627</td>\n",
       "      <td id=\"T_af1fd_row3_col5\" class=\"data row3 col5\" >3,305,268</td>\n",
       "      <td id=\"T_af1fd_row3_col6\" class=\"data row3 col6\" >101.62%</td>\n",
       "    </tr>\n",
       "    <tr>\n",
       "      <th id=\"T_af1fd_level0_row4\" class=\"row_heading level0 row4\" >28</th>\n",
       "      <td id=\"T_af1fd_row4_col0\" class=\"data row4 col0\" >BEM</td>\n",
       "      <td id=\"T_af1fd_row4_col1\" class=\"data row4 col1\" >2022</td>\n",
       "      <td id=\"T_af1fd_row4_col2\" class=\"data row4 col2\" >Q3</td>\n",
       "      <td id=\"T_af1fd_row4_col3\" class=\"data row4 col3\" >2,228,913</td>\n",
       "      <td id=\"T_af1fd_row4_col4\" class=\"data row4 col4\" >1,183,772</td>\n",
       "      <td id=\"T_af1fd_row4_col5\" class=\"data row4 col5\" >1,045,141</td>\n",
       "      <td id=\"T_af1fd_row4_col6\" class=\"data row4 col6\" >88.29%</td>\n",
       "    </tr>\n",
       "  </tbody>\n",
       "</table>\n"
      ],
      "text/plain": [
       "<pandas.io.formats.style.Styler at 0x20d83404040>"
      ]
     },
     "execution_count": 14,
     "metadata": {},
     "output_type": "execute_result"
    }
   ],
   "source": [
    "criteria_3 = df_ins.percent > 10.00\n",
    "df_ins.loc[criteria_3, cols].sample(5).style.format(format_dict)"
   ]
  },
  {
   "cell_type": "code",
   "execution_count": 15,
   "metadata": {},
   "outputs": [
    {
     "data": {
      "text/html": [
       "<style type=\"text/css\">\n",
       "</style>\n",
       "<table id=\"T_faf2f_\">\n",
       "  <thead>\n",
       "    <tr>\n",
       "      <th class=\"blank level0\" >&nbsp;</th>\n",
       "      <th class=\"col_heading level0 col0\" >name</th>\n",
       "      <th class=\"col_heading level0 col1\" >year</th>\n",
       "      <th class=\"col_heading level0 col2\" >quarter</th>\n",
       "      <th class=\"col_heading level0 col3\" >q_amt_c</th>\n",
       "      <th class=\"col_heading level0 col4\" >q_amt_p</th>\n",
       "      <th class=\"col_heading level0 col5\" >inc_profit</th>\n",
       "      <th class=\"col_heading level0 col6\" >percent</th>\n",
       "    </tr>\n",
       "  </thead>\n",
       "  <tbody>\n",
       "    <tr>\n",
       "      <th id=\"T_faf2f_level0_row0\" class=\"row_heading level0 row0\" >60</th>\n",
       "      <td id=\"T_faf2f_row0_col0\" class=\"data row0 col0\" >EA</td>\n",
       "      <td id=\"T_faf2f_row0_col1\" class=\"data row0 col1\" >2022</td>\n",
       "      <td id=\"T_faf2f_row0_col2\" class=\"data row0 col2\" >Q3</td>\n",
       "      <td id=\"T_faf2f_row0_col3\" class=\"data row0 col3\" >7,313,344</td>\n",
       "      <td id=\"T_faf2f_row0_col4\" class=\"data row0 col4\" >5,702,847</td>\n",
       "      <td id=\"T_faf2f_row0_col5\" class=\"data row0 col5\" >1,610,497</td>\n",
       "      <td id=\"T_faf2f_row0_col6\" class=\"data row0 col6\" >28.24%</td>\n",
       "    </tr>\n",
       "    <tr>\n",
       "      <th id=\"T_faf2f_level0_row1\" class=\"row_heading level0 row1\" >3</th>\n",
       "      <td id=\"T_faf2f_row1_col0\" class=\"data row1 col0\" >AH</td>\n",
       "      <td id=\"T_faf2f_row1_col1\" class=\"data row1 col1\" >2022</td>\n",
       "      <td id=\"T_faf2f_row1_col2\" class=\"data row1 col2\" >Q3</td>\n",
       "      <td id=\"T_faf2f_row1_col3\" class=\"data row1 col3\" >1,541,418</td>\n",
       "      <td id=\"T_faf2f_row1_col4\" class=\"data row1 col4\" >1,041,977</td>\n",
       "      <td id=\"T_faf2f_row1_col5\" class=\"data row1 col5\" >499,441</td>\n",
       "      <td id=\"T_faf2f_row1_col6\" class=\"data row1 col6\" >47.93%</td>\n",
       "    </tr>\n",
       "    <tr>\n",
       "      <th id=\"T_faf2f_level0_row2\" class=\"row_heading level0 row2\" >81</th>\n",
       "      <td id=\"T_faf2f_row2_col0\" class=\"data row2 col0\" >HMPRO</td>\n",
       "      <td id=\"T_faf2f_row2_col1\" class=\"data row2 col1\" >2022</td>\n",
       "      <td id=\"T_faf2f_row2_col2\" class=\"data row2 col2\" >Q3</td>\n",
       "      <td id=\"T_faf2f_row2_col3\" class=\"data row2 col3\" >6,339,392</td>\n",
       "      <td id=\"T_faf2f_row2_col4\" class=\"data row2 col4\" >5,210,457</td>\n",
       "      <td id=\"T_faf2f_row2_col5\" class=\"data row2 col5\" >1,128,935</td>\n",
       "      <td id=\"T_faf2f_row2_col6\" class=\"data row2 col6\" >21.67%</td>\n",
       "    </tr>\n",
       "    <tr>\n",
       "      <th id=\"T_faf2f_level0_row3\" class=\"row_heading level0 row3\" >209</th>\n",
       "      <td id=\"T_faf2f_row3_col0\" class=\"data row3 col0\" >TTB</td>\n",
       "      <td id=\"T_faf2f_row3_col1\" class=\"data row3 col1\" >2022</td>\n",
       "      <td id=\"T_faf2f_row3_col2\" class=\"data row3 col2\" >Q3</td>\n",
       "      <td id=\"T_faf2f_row3_col3\" class=\"data row3 col3\" >13,147,199</td>\n",
       "      <td id=\"T_faf2f_row3_col4\" class=\"data row3 col4\" >8,909,595</td>\n",
       "      <td id=\"T_faf2f_row3_col5\" class=\"data row3 col5\" >4,237,604</td>\n",
       "      <td id=\"T_faf2f_row3_col6\" class=\"data row3 col6\" >47.56%</td>\n",
       "    </tr>\n",
       "    <tr>\n",
       "      <th id=\"T_faf2f_level0_row4\" class=\"row_heading level0 row4\" >188</th>\n",
       "      <td id=\"T_faf2f_row4_col0\" class=\"data row4 col0\" >TFG</td>\n",
       "      <td id=\"T_faf2f_row4_col1\" class=\"data row4 col1\" >2022</td>\n",
       "      <td id=\"T_faf2f_row4_col2\" class=\"data row4 col2\" >Q3</td>\n",
       "      <td id=\"T_faf2f_row4_col3\" class=\"data row4 col3\" >3,733,094</td>\n",
       "      <td id=\"T_faf2f_row4_col4\" class=\"data row4 col4\" >847,771</td>\n",
       "      <td id=\"T_faf2f_row4_col5\" class=\"data row4 col5\" >2,885,323</td>\n",
       "      <td id=\"T_faf2f_row4_col6\" class=\"data row4 col6\" >340.34%</td>\n",
       "    </tr>\n",
       "  </tbody>\n",
       "</table>\n"
      ],
      "text/plain": [
       "<pandas.io.formats.style.Styler at 0x20d83393940>"
      ]
     },
     "execution_count": 15,
     "metadata": {},
     "output_type": "execute_result"
    }
   ],
   "source": [
    "final_criteria = criteria_1 & criteria_2 & criteria_3\n",
    "df_ins.loc[final_criteria, cols].sort_values(by=[\"percent\"], ascending=[False]).sample(5).style.format(format_dict)"
   ]
  },
  {
   "cell_type": "code",
   "execution_count": 16,
   "metadata": {},
   "outputs": [
    {
     "data": {
      "text/html": [
       "<style type=\"text/css\">\n",
       "</style>\n",
       "<table id=\"T_bfe53_\">\n",
       "  <thead>\n",
       "    <tr>\n",
       "      <th class=\"blank level0\" >&nbsp;</th>\n",
       "      <th class=\"col_heading level0 col0\" >name</th>\n",
       "      <th class=\"col_heading level0 col1\" >year</th>\n",
       "      <th class=\"col_heading level0 col2\" >quarter</th>\n",
       "      <th class=\"col_heading level0 col3\" >q_amt_c</th>\n",
       "      <th class=\"col_heading level0 col4\" >q_amt_p</th>\n",
       "      <th class=\"col_heading level0 col5\" >inc_profit</th>\n",
       "      <th class=\"col_heading level0 col6\" >percent</th>\n",
       "    </tr>\n",
       "  </thead>\n",
       "  <tbody>\n",
       "    <tr>\n",
       "      <th id=\"T_bfe53_level0_row0\" class=\"row_heading level0 row0\" >71</th>\n",
       "      <td id=\"T_bfe53_row0_col0\" class=\"data row0 col0\" >GFPT</td>\n",
       "      <td id=\"T_bfe53_row0_col1\" class=\"data row0 col1\" >2022</td>\n",
       "      <td id=\"T_bfe53_row0_col2\" class=\"data row0 col2\" >Q3</td>\n",
       "      <td id=\"T_bfe53_row0_col3\" class=\"data row0 col3\" >1,646,990</td>\n",
       "      <td id=\"T_bfe53_row0_col4\" class=\"data row0 col4\" >617,194</td>\n",
       "      <td id=\"T_bfe53_row0_col5\" class=\"data row0 col5\" >1,029,796</td>\n",
       "      <td id=\"T_bfe53_row0_col6\" class=\"data row0 col6\" >166.85%</td>\n",
       "    </tr>\n",
       "    <tr>\n",
       "      <th id=\"T_bfe53_level0_row1\" class=\"row_heading level0 row1\" >166</th>\n",
       "      <td id=\"T_bfe53_row1_col0\" class=\"data row1 col0\" >SKN</td>\n",
       "      <td id=\"T_bfe53_row1_col1\" class=\"data row1 col1\" >2022</td>\n",
       "      <td id=\"T_bfe53_row1_col2\" class=\"data row1 col2\" >Q3</td>\n",
       "      <td id=\"T_bfe53_row1_col3\" class=\"data row1 col3\" >814,184</td>\n",
       "      <td id=\"T_bfe53_row1_col4\" class=\"data row1 col4\" >498,309</td>\n",
       "      <td id=\"T_bfe53_row1_col5\" class=\"data row1 col5\" >315,875</td>\n",
       "      <td id=\"T_bfe53_row1_col6\" class=\"data row1 col6\" >63.39%</td>\n",
       "    </tr>\n",
       "    <tr>\n",
       "      <th id=\"T_bfe53_level0_row2\" class=\"row_heading level0 row2\" >31</th>\n",
       "      <td id=\"T_bfe53_row2_col0\" class=\"data row2 col0\" >BH</td>\n",
       "      <td id=\"T_bfe53_row2_col1\" class=\"data row2 col1\" >2022</td>\n",
       "      <td id=\"T_bfe53_row2_col2\" class=\"data row2 col2\" >Q3</td>\n",
       "      <td id=\"T_bfe53_row2_col3\" class=\"data row2 col3\" >4,004,426</td>\n",
       "      <td id=\"T_bfe53_row2_col4\" class=\"data row2 col4\" >776,568</td>\n",
       "      <td id=\"T_bfe53_row2_col5\" class=\"data row2 col5\" >3,227,858</td>\n",
       "      <td id=\"T_bfe53_row2_col6\" class=\"data row2 col6\" >415.66%</td>\n",
       "    </tr>\n",
       "    <tr>\n",
       "      <th id=\"T_bfe53_level0_row3\" class=\"row_heading level0 row3\" >44</th>\n",
       "      <td id=\"T_bfe53_row3_col0\" class=\"data row3 col0\" >COM7</td>\n",
       "      <td id=\"T_bfe53_row3_col1\" class=\"data row3 col1\" >2022</td>\n",
       "      <td id=\"T_bfe53_row3_col2\" class=\"data row3 col2\" >Q3</td>\n",
       "      <td id=\"T_bfe53_row3_col3\" class=\"data row3 col3\" >3,035,153</td>\n",
       "      <td id=\"T_bfe53_row3_col4\" class=\"data row3 col4\" >2,279,167</td>\n",
       "      <td id=\"T_bfe53_row3_col5\" class=\"data row3 col5\" >755,986</td>\n",
       "      <td id=\"T_bfe53_row3_col6\" class=\"data row3 col6\" >33.17%</td>\n",
       "    </tr>\n",
       "    <tr>\n",
       "      <th id=\"T_bfe53_level0_row4\" class=\"row_heading level0 row4\" >107</th>\n",
       "      <td id=\"T_bfe53_row4_col0\" class=\"data row4 col0\" >LH</td>\n",
       "      <td id=\"T_bfe53_row4_col1\" class=\"data row4 col1\" >2022</td>\n",
       "      <td id=\"T_bfe53_row4_col2\" class=\"data row4 col2\" >Q3</td>\n",
       "      <td id=\"T_bfe53_row4_col3\" class=\"data row4 col3\" >8,334,140</td>\n",
       "      <td id=\"T_bfe53_row4_col4\" class=\"data row4 col4\" >7,278,457</td>\n",
       "      <td id=\"T_bfe53_row4_col5\" class=\"data row4 col5\" >1,055,683</td>\n",
       "      <td id=\"T_bfe53_row4_col6\" class=\"data row4 col6\" >14.50%</td>\n",
       "    </tr>\n",
       "  </tbody>\n",
       "</table>\n"
      ],
      "text/plain": [
       "<pandas.io.formats.style.Styler at 0x20d83408dc0>"
      ]
     },
     "execution_count": 16,
     "metadata": {},
     "output_type": "execute_result"
    }
   ],
   "source": [
    "df_ins.loc[final_criteria, cols].sort_values(by=[\"name\"], ascending=[True]).sample(5).style.format(format_dict)"
   ]
  },
  {
   "cell_type": "code",
   "execution_count": 17,
   "metadata": {},
   "outputs": [
    {
     "data": {
      "text/html": [
       "<style type=\"text/css\">\n",
       "</style>\n",
       "<table id=\"T_6178e_\">\n",
       "  <thead>\n",
       "    <tr>\n",
       "      <th class=\"blank level0\" >&nbsp;</th>\n",
       "      <th class=\"col_heading level0 col0\" >name</th>\n",
       "      <th class=\"col_heading level0 col1\" >year</th>\n",
       "      <th class=\"col_heading level0 col2\" >quarter</th>\n",
       "      <th class=\"col_heading level0 col3\" >q_amt_c</th>\n",
       "      <th class=\"col_heading level0 col4\" >q_amt_p</th>\n",
       "      <th class=\"col_heading level0 col5\" >inc_profit</th>\n",
       "      <th class=\"col_heading level0 col6\" >percent</th>\n",
       "    </tr>\n",
       "  </thead>\n",
       "  <tbody>\n",
       "    <tr>\n",
       "      <th id=\"T_6178e_level0_row0\" class=\"row_heading level0 row0\" >8</th>\n",
       "      <td id=\"T_6178e_row0_col0\" class=\"data row0 col0\" >AMATA</td>\n",
       "      <td id=\"T_6178e_row0_col1\" class=\"data row0 col1\" >2022</td>\n",
       "      <td id=\"T_6178e_row0_col2\" class=\"data row0 col2\" >Q3</td>\n",
       "      <td id=\"T_6178e_row0_col3\" class=\"data row0 col3\" >2,296,513</td>\n",
       "      <td id=\"T_6178e_row0_col4\" class=\"data row0 col4\" >1,058,096</td>\n",
       "      <td id=\"T_6178e_row0_col5\" class=\"data row0 col5\" >1,238,417</td>\n",
       "      <td id=\"T_6178e_row0_col6\" class=\"data row0 col6\" >117.04%</td>\n",
       "    </tr>\n",
       "    <tr>\n",
       "      <th id=\"T_6178e_level0_row1\" class=\"row_heading level0 row1\" >41</th>\n",
       "      <td id=\"T_6178e_row1_col0\" class=\"data row1 col0\" >CHG</td>\n",
       "      <td id=\"T_6178e_row1_col1\" class=\"data row1 col1\" >2022</td>\n",
       "      <td id=\"T_6178e_row1_col2\" class=\"data row1 col2\" >Q3</td>\n",
       "      <td id=\"T_6178e_row1_col3\" class=\"data row1 col3\" >4,305,776</td>\n",
       "      <td id=\"T_6178e_row1_col4\" class=\"data row1 col4\" >2,644,996</td>\n",
       "      <td id=\"T_6178e_row1_col5\" class=\"data row1 col5\" >1,660,780</td>\n",
       "      <td id=\"T_6178e_row1_col6\" class=\"data row1 col6\" >62.79%</td>\n",
       "    </tr>\n",
       "    <tr>\n",
       "      <th id=\"T_6178e_level0_row2\" class=\"row_heading level0 row2\" >126</th>\n",
       "      <td id=\"T_6178e_row2_col0\" class=\"data row2 col0\" >OISHI</td>\n",
       "      <td id=\"T_6178e_row2_col1\" class=\"data row2 col1\" >2022</td>\n",
       "      <td id=\"T_6178e_row2_col2\" class=\"data row2 col2\" >Q3</td>\n",
       "      <td id=\"T_6178e_row2_col3\" class=\"data row2 col3\" >1,028,962</td>\n",
       "      <td id=\"T_6178e_row2_col4\" class=\"data row2 col4\" >730,662</td>\n",
       "      <td id=\"T_6178e_row2_col5\" class=\"data row2 col5\" >298,300</td>\n",
       "      <td id=\"T_6178e_row2_col6\" class=\"data row2 col6\" >40.83%</td>\n",
       "    </tr>\n",
       "    <tr>\n",
       "      <th id=\"T_6178e_level0_row3\" class=\"row_heading level0 row3\" >201</th>\n",
       "      <td id=\"T_6178e_row3_col0\" class=\"data row3 col0\" >TPIPL</td>\n",
       "      <td id=\"T_6178e_row3_col1\" class=\"data row3 col1\" >2022</td>\n",
       "      <td id=\"T_6178e_row3_col2\" class=\"data row3 col2\" >Q3</td>\n",
       "      <td id=\"T_6178e_row3_col3\" class=\"data row3 col3\" >7,761,502</td>\n",
       "      <td id=\"T_6178e_row3_col4\" class=\"data row3 col4\" >3,930,600</td>\n",
       "      <td id=\"T_6178e_row3_col5\" class=\"data row3 col5\" >3,830,902</td>\n",
       "      <td id=\"T_6178e_row3_col6\" class=\"data row3 col6\" >97.46%</td>\n",
       "    </tr>\n",
       "    <tr>\n",
       "      <th id=\"T_6178e_level0_row4\" class=\"row_heading level0 row4\" >76</th>\n",
       "      <td id=\"T_6178e_row4_col0\" class=\"data row4 col0\" >GULF</td>\n",
       "      <td id=\"T_6178e_row4_col1\" class=\"data row4 col1\" >2022</td>\n",
       "      <td id=\"T_6178e_row4_col2\" class=\"data row4 col2\" >Q3</td>\n",
       "      <td id=\"T_6178e_row4_col3\" class=\"data row4 col3\" >9,055,342</td>\n",
       "      <td id=\"T_6178e_row4_col4\" class=\"data row4 col4\" >6,471,046</td>\n",
       "      <td id=\"T_6178e_row4_col5\" class=\"data row4 col5\" >2,584,296</td>\n",
       "      <td id=\"T_6178e_row4_col6\" class=\"data row4 col6\" >39.94%</td>\n",
       "    </tr>\n",
       "  </tbody>\n",
       "</table>\n"
      ],
      "text/plain": [
       "<pandas.io.formats.style.Styler at 0x20d8340e3a0>"
      ]
     },
     "execution_count": 17,
     "metadata": {},
     "output_type": "execute_result"
    }
   ],
   "source": [
    "df_ins.loc[final_criteria, cols].sort_values(by=[\"name\"], ascending=[True]).sample(5).style.format(format_dict)"
   ]
  },
  {
   "cell_type": "code",
   "execution_count": null,
   "metadata": {},
   "outputs": [],
   "source": []
  }
 ],
 "metadata": {
  "anaconda-cloud": {},
  "kernelspec": {
   "display_name": "Python 3 (ipykernel)",
   "language": "python",
   "name": "python3"
  },
  "language_info": {
   "codemirror_mode": {
    "name": "ipython",
    "version": 3
   },
   "file_extension": ".py",
   "mimetype": "text/x-python",
   "name": "python",
   "nbconvert_exporter": "python",
   "pygments_lexer": "ipython3",
   "version": "3.8.11"
  }
 },
 "nbformat": 4,
 "nbformat_minor": 1
}
