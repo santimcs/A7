{
 "cells": [
  {
   "cell_type": "markdown",
   "metadata": {},
   "source": [
    "### Restart and Run All"
   ]
  },
  {
   "cell_type": "code",
   "execution_count": 1,
   "metadata": {},
   "outputs": [
    {
     "data": {
      "text/plain": [
       "datetime.date(2023, 2, 18)"
      ]
     },
     "execution_count": 1,
     "metadata": {},
     "output_type": "execute_result"
    }
   ],
   "source": [
    "import pandas as pd\n",
    "from datetime import date, timedelta\n",
    "from sqlalchemy import create_engine\n",
    "\n",
    "engine = create_engine('sqlite:///c:\\\\ruby\\\\portlt\\\\db\\\\development.sqlite3')\n",
    "conlt = engine.connect()\n",
    "\n",
    "pd.set_option('display.float_format','{:,.2f}'.format)\n",
    "pd.set_option('display.max_rows',None)\n",
    "\n",
    "year = 2023\n",
    "quarter = 1\n",
    "\n",
    "today = date.today()\n",
    "today"
   ]
  },
  {
   "cell_type": "code",
   "execution_count": 2,
   "metadata": {},
   "outputs": [
    {
     "data": {
      "text/html": [
       "<div>\n",
       "<style scoped>\n",
       "    .dataframe tbody tr th:only-of-type {\n",
       "        vertical-align: middle;\n",
       "    }\n",
       "\n",
       "    .dataframe tbody tr th {\n",
       "        vertical-align: top;\n",
       "    }\n",
       "\n",
       "    .dataframe thead th {\n",
       "        text-align: right;\n",
       "    }\n",
       "</style>\n",
       "<table border=\"1\" class=\"dataframe\">\n",
       "  <thead>\n",
       "    <tr style=\"text-align: right;\">\n",
       "      <th></th>\n",
       "      <th>name</th>\n",
       "      <th>year</th>\n",
       "      <th>quarter</th>\n",
       "      <th>q_amt</th>\n",
       "      <th>Counter</th>\n",
       "    </tr>\n",
       "  </thead>\n",
       "  <tbody>\n",
       "    <tr>\n",
       "      <th>80</th>\n",
       "      <td>GVREIT</td>\n",
       "      <td>8089</td>\n",
       "      <td>10</td>\n",
       "      <td>643255</td>\n",
       "      <td>4</td>\n",
       "    </tr>\n",
       "    <tr>\n",
       "      <th>123</th>\n",
       "      <td>MC</td>\n",
       "      <td>8089</td>\n",
       "      <td>10</td>\n",
       "      <td>832309</td>\n",
       "      <td>4</td>\n",
       "    </tr>\n",
       "    <tr>\n",
       "      <th>131</th>\n",
       "      <td>OISHI</td>\n",
       "      <td>8089</td>\n",
       "      <td>10</td>\n",
       "      <td>1126122</td>\n",
       "      <td>4</td>\n",
       "    </tr>\n",
       "    <tr>\n",
       "      <th>193</th>\n",
       "      <td>TFFIF</td>\n",
       "      <td>8089</td>\n",
       "      <td>10</td>\n",
       "      <td>1921578</td>\n",
       "      <td>4</td>\n",
       "    </tr>\n",
       "  </tbody>\n",
       "</table>\n",
       "</div>"
      ],
      "text/plain": [
       "       name  year  quarter    q_amt  Counter\n",
       "80   GVREIT  8089       10   643255        4\n",
       "123      MC  8089       10   832309        4\n",
       "131   OISHI  8089       10  1126122        4\n",
       "193   TFFIF  8089       10  1921578        4"
      ]
     },
     "execution_count": 2,
     "metadata": {},
     "output_type": "execute_result"
    }
   ],
   "source": [
    "sql = '''\n",
    "SELECT name,year,quarter,q_amt \n",
    "FROM epss \n",
    "WHERE (year = %s AND quarter <= %s)\n",
    "OR (year = %s-1 AND quarter >= %s+1) \n",
    "ORDER BY year DESC, quarter DESC'''\n",
    "sql = sql % (year, quarter, year, quarter)\n",
    "dfc = pd.read_sql(sql, conlt)\n",
    "dfc['Counter'] = 1\n",
    "dfc_grp = dfc.groupby(['name'], as_index=False).sum()\n",
    "dfc_grp = dfc_grp[dfc_grp['Counter'] == 4]\n",
    "dfc_grp"
   ]
  },
  {
   "cell_type": "code",
   "execution_count": 3,
   "metadata": {},
   "outputs": [
    {
     "name": "stdout",
     "output_type": "stream",
     "text": [
      "\n",
      "SELECT name,year,quarter,q_amt \n",
      "FROM epss \n",
      "WHERE (year = 2023 AND quarter <= 1-1) \n",
      "OR (year = 2023-1 AND quarter >= 1) \n",
      "ORDER BY year DESC, quarter DESC\n"
     ]
    }
   ],
   "source": [
    "sql = '''\n",
    "SELECT name,year,quarter,q_amt \n",
    "FROM epss \n",
    "WHERE (year = %s AND quarter <= %s-1) \n",
    "OR (year = %s-1 AND quarter >= %s) \n",
    "ORDER BY year DESC, quarter DESC'''\n",
    "sql = sql % (year, quarter, year, quarter)\n",
    "print(sql)"
   ]
  },
  {
   "cell_type": "code",
   "execution_count": 4,
   "metadata": {},
   "outputs": [
    {
     "data": {
      "text/plain": [
       "(71, 5)"
      ]
     },
     "execution_count": 4,
     "metadata": {},
     "output_type": "execute_result"
    }
   ],
   "source": [
    "dfp = pd.read_sql(sql, conlt)\n",
    "dfp['Counter'] = 1\n",
    "dfp_grp = dfp.groupby(['name'], as_index=False).sum()\n",
    "dfp_grp = dfp_grp[dfp_grp['Counter'] == 4]\n",
    "dfp_grp.shape"
   ]
  },
  {
   "cell_type": "code",
   "execution_count": 5,
   "metadata": {},
   "outputs": [
    {
     "data": {
      "text/html": [
       "<div>\n",
       "<style scoped>\n",
       "    .dataframe tbody tr th:only-of-type {\n",
       "        vertical-align: middle;\n",
       "    }\n",
       "\n",
       "    .dataframe tbody tr th {\n",
       "        vertical-align: top;\n",
       "    }\n",
       "\n",
       "    .dataframe thead th {\n",
       "        text-align: right;\n",
       "    }\n",
       "</style>\n",
       "<table border=\"1\" class=\"dataframe\">\n",
       "  <thead>\n",
       "    <tr style=\"text-align: right;\">\n",
       "      <th></th>\n",
       "      <th>name</th>\n",
       "      <th>year</th>\n",
       "      <th>quarter</th>\n",
       "      <th>q_amt_c</th>\n",
       "      <th>q_amt_p</th>\n",
       "      <th>inc_profit</th>\n",
       "      <th>Pct</th>\n",
       "    </tr>\n",
       "  </thead>\n",
       "  <tbody>\n",
       "    <tr>\n",
       "      <th>0</th>\n",
       "      <td>GVREIT</td>\n",
       "      <td>2023</td>\n",
       "      <td>Q1</td>\n",
       "      <td>643255</td>\n",
       "      <td>642743</td>\n",
       "      <td>512</td>\n",
       "      <td>0.08</td>\n",
       "    </tr>\n",
       "    <tr>\n",
       "      <th>1</th>\n",
       "      <td>MC</td>\n",
       "      <td>2023</td>\n",
       "      <td>Q1</td>\n",
       "      <td>832309</td>\n",
       "      <td>740276</td>\n",
       "      <td>92033</td>\n",
       "      <td>12.43</td>\n",
       "    </tr>\n",
       "    <tr>\n",
       "      <th>2</th>\n",
       "      <td>OISHI</td>\n",
       "      <td>2023</td>\n",
       "      <td>Q1</td>\n",
       "      <td>1126122</td>\n",
       "      <td>1197453</td>\n",
       "      <td>-71331</td>\n",
       "      <td>-5.96</td>\n",
       "    </tr>\n",
       "    <tr>\n",
       "      <th>3</th>\n",
       "      <td>TFFIF</td>\n",
       "      <td>2023</td>\n",
       "      <td>Q1</td>\n",
       "      <td>1921578</td>\n",
       "      <td>1851409</td>\n",
       "      <td>70169</td>\n",
       "      <td>3.79</td>\n",
       "    </tr>\n",
       "  </tbody>\n",
       "</table>\n",
       "</div>"
      ],
      "text/plain": [
       "     name  year quarter  q_amt_c  q_amt_p  inc_profit   Pct\n",
       "0  GVREIT  2023      Q1   643255   642743         512  0.08\n",
       "1      MC  2023      Q1   832309   740276       92033 12.43\n",
       "2   OISHI  2023      Q1  1126122  1197453      -71331 -5.96\n",
       "3   TFFIF  2023      Q1  1921578  1851409       70169  3.79"
      ]
     },
     "execution_count": 5,
     "metadata": {},
     "output_type": "execute_result"
    }
   ],
   "source": [
    "dfm = pd.merge(dfc_grp, dfp_grp, on='name', suffixes=(['_c','_p']), how='inner')\n",
    "dfm['inc_profit'] = dfm['q_amt_c']-dfm['q_amt_p']\n",
    "dfm['Pct'] = round(dfm['inc_profit']/abs(dfm['q_amt_p'])*100,2)\n",
    "dfm['year'] = year\n",
    "dfm['quarter'] = 'Q'+str(quarter)\n",
    "df_pct = dfm[['name','year','quarter','q_amt_c','q_amt_p','inc_profit','Pct']]\n",
    "df_pct"
   ]
  },
  {
   "cell_type": "code",
   "execution_count": 6,
   "metadata": {},
   "outputs": [
    {
     "name": "stdout",
     "output_type": "stream",
     "text": [
      "\n",
      "DELETE FROM qt_profits \n",
      "WHERE year = 2023 AND quarter = 'Q1'\n"
     ]
    }
   ],
   "source": [
    "sql = \"\"\"\n",
    "DELETE FROM qt_profits \n",
    "WHERE year = %s AND quarter = 'Q%s'\"\"\"\n",
    "sql = sql % (year,quarter)\n",
    "print(sql)"
   ]
  },
  {
   "cell_type": "code",
   "execution_count": 7,
   "metadata": {},
   "outputs": [
    {
     "data": {
      "text/plain": [
       "0"
      ]
     },
     "execution_count": 7,
     "metadata": {},
     "output_type": "execute_result"
    }
   ],
   "source": [
    "rp = conlt.execute(sql)\n",
    "rp.rowcount"
   ]
  },
  {
   "cell_type": "code",
   "execution_count": 8,
   "metadata": {},
   "outputs": [
    {
     "data": {
      "text/plain": [
       "(401, 2)"
      ]
     },
     "execution_count": 8,
     "metadata": {},
     "output_type": "execute_result"
    }
   ],
   "source": [
    "sql = 'SELECT name, id FROM tickers'\n",
    "tickers = pd.read_sql(sql, conlt)\n",
    "tickers.shape"
   ]
  },
  {
   "cell_type": "code",
   "execution_count": 9,
   "metadata": {},
   "outputs": [
    {
     "data": {
      "text/plain": [
       "name           object\n",
       "year            int64\n",
       "quarter        object\n",
       "q_amt_c         int64\n",
       "q_amt_p         int64\n",
       "inc_profit      int64\n",
       "Pct           float64\n",
       "id              int64\n",
       "dtype: object"
      ]
     },
     "execution_count": 9,
     "metadata": {},
     "output_type": "execute_result"
    }
   ],
   "source": [
    "df_ins = pd.merge(df_pct, tickers, on='name', how='inner')\n",
    "df_ins.dtypes"
   ]
  },
  {
   "cell_type": "code",
   "execution_count": 10,
   "metadata": {},
   "outputs": [
    {
     "data": {
      "text/plain": [
       "4"
      ]
     },
     "execution_count": 10,
     "metadata": {},
     "output_type": "execute_result"
    }
   ],
   "source": [
    "rcds = df_ins.values.tolist()\n",
    "len(rcds)"
   ]
  },
  {
   "cell_type": "code",
   "execution_count": 11,
   "metadata": {},
   "outputs": [
    {
     "name": "stdout",
     "output_type": "stream",
     "text": [
      "['GVREIT', 2023, 'Q1', 643255, 642743, 512, 0.08, 654]\n",
      "['MC', 2023, 'Q1', 832309, 740276, 92033, 12.43, 291]\n",
      "['OISHI', 2023, 'Q1', 1126122, 1197453, -71331, -5.96, 338]\n",
      "['TFFIF', 2023, 'Q1', 1921578, 1851409, 70169, 3.79, 686]\n"
     ]
    }
   ],
   "source": [
    "for rcd in rcds:\n",
    "    print(rcd)"
   ]
  },
  {
   "cell_type": "code",
   "execution_count": 12,
   "metadata": {},
   "outputs": [
    {
     "name": "stdout",
     "output_type": "stream",
     "text": [
      "\n",
      "INSERT INTO qt_profits (name, year, quarter, latest_amt, previous_amt, inc_amt, inc_pct, ticker_id)  VALUES (?, ?, ?, ?, ?, ?, ?, ?)\n"
     ]
    }
   ],
   "source": [
    "sql = \"\"\"\n",
    "INSERT INTO qt_profits (name, year, quarter, latest_amt, previous_amt, inc_amt, inc_pct, ticker_id) \\\n",
    " VALUES (?, ?, ?, ?, ?, ?, ?, ?)\"\"\"\n",
    "print(sql)"
   ]
  },
  {
   "cell_type": "code",
   "execution_count": 13,
   "metadata": {},
   "outputs": [],
   "source": [
    "for rcd in rcds:\n",
    "    conlt.execute(sql, rcd)"
   ]
  },
  {
   "cell_type": "markdown",
   "metadata": {},
   "source": [
    "### End of loop"
   ]
  },
  {
   "cell_type": "code",
   "execution_count": 14,
   "metadata": {},
   "outputs": [],
   "source": [
    "cols = 'name year quarter q_amt_c q_amt_p inc_profit Pct'.split()"
   ]
  },
  {
   "cell_type": "code",
   "execution_count": 15,
   "metadata": {},
   "outputs": [
    {
     "data": {
      "text/html": [
       "<div>\n",
       "<style scoped>\n",
       "    .dataframe tbody tr th:only-of-type {\n",
       "        vertical-align: middle;\n",
       "    }\n",
       "\n",
       "    .dataframe tbody tr th {\n",
       "        vertical-align: top;\n",
       "    }\n",
       "\n",
       "    .dataframe thead th {\n",
       "        text-align: right;\n",
       "    }\n",
       "</style>\n",
       "<table border=\"1\" class=\"dataframe\">\n",
       "  <thead>\n",
       "    <tr style=\"text-align: right;\">\n",
       "      <th></th>\n",
       "      <th>name</th>\n",
       "      <th>year</th>\n",
       "      <th>quarter</th>\n",
       "      <th>q_amt_c</th>\n",
       "      <th>q_amt_p</th>\n",
       "      <th>inc_profit</th>\n",
       "      <th>Pct</th>\n",
       "    </tr>\n",
       "  </thead>\n",
       "  <tbody>\n",
       "    <tr>\n",
       "      <th>1</th>\n",
       "      <td>MC</td>\n",
       "      <td>2023</td>\n",
       "      <td>Q1</td>\n",
       "      <td>832309</td>\n",
       "      <td>740276</td>\n",
       "      <td>92033</td>\n",
       "      <td>12.43</td>\n",
       "    </tr>\n",
       "    <tr>\n",
       "      <th>3</th>\n",
       "      <td>TFFIF</td>\n",
       "      <td>2023</td>\n",
       "      <td>Q1</td>\n",
       "      <td>1921578</td>\n",
       "      <td>1851409</td>\n",
       "      <td>70169</td>\n",
       "      <td>3.79</td>\n",
       "    </tr>\n",
       "    <tr>\n",
       "      <th>0</th>\n",
       "      <td>GVREIT</td>\n",
       "      <td>2023</td>\n",
       "      <td>Q1</td>\n",
       "      <td>643255</td>\n",
       "      <td>642743</td>\n",
       "      <td>512</td>\n",
       "      <td>0.08</td>\n",
       "    </tr>\n",
       "    <tr>\n",
       "      <th>2</th>\n",
       "      <td>OISHI</td>\n",
       "      <td>2023</td>\n",
       "      <td>Q1</td>\n",
       "      <td>1126122</td>\n",
       "      <td>1197453</td>\n",
       "      <td>-71331</td>\n",
       "      <td>-5.96</td>\n",
       "    </tr>\n",
       "  </tbody>\n",
       "</table>\n",
       "</div>"
      ],
      "text/plain": [
       "     name  year quarter  q_amt_c  q_amt_p  inc_profit   Pct\n",
       "1      MC  2023      Q1   832309   740276       92033 12.43\n",
       "3   TFFIF  2023      Q1  1921578  1851409       70169  3.79\n",
       "0  GVREIT  2023      Q1   643255   642743         512  0.08\n",
       "2   OISHI  2023      Q1  1126122  1197453      -71331 -5.96"
      ]
     },
     "execution_count": 15,
     "metadata": {},
     "output_type": "execute_result"
    }
   ],
   "source": [
    "criteria_1 = df_ins.q_amt_c > 440000\n",
    "df_ins.loc[criteria_1,cols].sort_values(['Pct'],ascending=[False]).head()"
   ]
  },
  {
   "cell_type": "code",
   "execution_count": 16,
   "metadata": {},
   "outputs": [
    {
     "data": {
      "text/html": [
       "<div>\n",
       "<style scoped>\n",
       "    .dataframe tbody tr th:only-of-type {\n",
       "        vertical-align: middle;\n",
       "    }\n",
       "\n",
       "    .dataframe tbody tr th {\n",
       "        vertical-align: top;\n",
       "    }\n",
       "\n",
       "    .dataframe thead th {\n",
       "        text-align: right;\n",
       "    }\n",
       "</style>\n",
       "<table border=\"1\" class=\"dataframe\">\n",
       "  <thead>\n",
       "    <tr style=\"text-align: right;\">\n",
       "      <th></th>\n",
       "      <th>name</th>\n",
       "      <th>year</th>\n",
       "      <th>quarter</th>\n",
       "      <th>q_amt_c</th>\n",
       "      <th>q_amt_p</th>\n",
       "      <th>inc_profit</th>\n",
       "      <th>Pct</th>\n",
       "    </tr>\n",
       "  </thead>\n",
       "  <tbody>\n",
       "    <tr>\n",
       "      <th>1</th>\n",
       "      <td>MC</td>\n",
       "      <td>2023</td>\n",
       "      <td>Q1</td>\n",
       "      <td>832309</td>\n",
       "      <td>740276</td>\n",
       "      <td>92033</td>\n",
       "      <td>12.43</td>\n",
       "    </tr>\n",
       "    <tr>\n",
       "      <th>3</th>\n",
       "      <td>TFFIF</td>\n",
       "      <td>2023</td>\n",
       "      <td>Q1</td>\n",
       "      <td>1921578</td>\n",
       "      <td>1851409</td>\n",
       "      <td>70169</td>\n",
       "      <td>3.79</td>\n",
       "    </tr>\n",
       "    <tr>\n",
       "      <th>0</th>\n",
       "      <td>GVREIT</td>\n",
       "      <td>2023</td>\n",
       "      <td>Q1</td>\n",
       "      <td>643255</td>\n",
       "      <td>642743</td>\n",
       "      <td>512</td>\n",
       "      <td>0.08</td>\n",
       "    </tr>\n",
       "    <tr>\n",
       "      <th>2</th>\n",
       "      <td>OISHI</td>\n",
       "      <td>2023</td>\n",
       "      <td>Q1</td>\n",
       "      <td>1126122</td>\n",
       "      <td>1197453</td>\n",
       "      <td>-71331</td>\n",
       "      <td>-5.96</td>\n",
       "    </tr>\n",
       "  </tbody>\n",
       "</table>\n",
       "</div>"
      ],
      "text/plain": [
       "     name  year quarter  q_amt_c  q_amt_p  inc_profit   Pct\n",
       "1      MC  2023      Q1   832309   740276       92033 12.43\n",
       "3   TFFIF  2023      Q1  1921578  1851409       70169  3.79\n",
       "0  GVREIT  2023      Q1   643255   642743         512  0.08\n",
       "2   OISHI  2023      Q1  1126122  1197453      -71331 -5.96"
      ]
     },
     "execution_count": 16,
     "metadata": {},
     "output_type": "execute_result"
    }
   ],
   "source": [
    "criteria_2 = df_ins.q_amt_p > 400000\n",
    "df_ins.loc[criteria_2,cols].sort_values(['Pct'],ascending=[False]).head()"
   ]
  },
  {
   "cell_type": "code",
   "execution_count": 17,
   "metadata": {},
   "outputs": [
    {
     "data": {
      "text/html": [
       "<div>\n",
       "<style scoped>\n",
       "    .dataframe tbody tr th:only-of-type {\n",
       "        vertical-align: middle;\n",
       "    }\n",
       "\n",
       "    .dataframe tbody tr th {\n",
       "        vertical-align: top;\n",
       "    }\n",
       "\n",
       "    .dataframe thead th {\n",
       "        text-align: right;\n",
       "    }\n",
       "</style>\n",
       "<table border=\"1\" class=\"dataframe\">\n",
       "  <thead>\n",
       "    <tr style=\"text-align: right;\">\n",
       "      <th></th>\n",
       "      <th>name</th>\n",
       "      <th>year</th>\n",
       "      <th>quarter</th>\n",
       "      <th>q_amt_c</th>\n",
       "      <th>q_amt_p</th>\n",
       "      <th>inc_profit</th>\n",
       "      <th>Pct</th>\n",
       "    </tr>\n",
       "  </thead>\n",
       "  <tbody>\n",
       "    <tr>\n",
       "      <th>1</th>\n",
       "      <td>MC</td>\n",
       "      <td>2023</td>\n",
       "      <td>Q1</td>\n",
       "      <td>832309</td>\n",
       "      <td>740276</td>\n",
       "      <td>92033</td>\n",
       "      <td>12.43</td>\n",
       "    </tr>\n",
       "  </tbody>\n",
       "</table>\n",
       "</div>"
      ],
      "text/plain": [
       "  name  year quarter  q_amt_c  q_amt_p  inc_profit   Pct\n",
       "1   MC  2023      Q1   832309   740276       92033 12.43"
      ]
     },
     "execution_count": 17,
     "metadata": {},
     "output_type": "execute_result"
    }
   ],
   "source": [
    "criteria_3 = df_ins.Pct > 10\n",
    "df_ins.loc[criteria_3,cols].sort_values(['Pct'],ascending=[False]).head()"
   ]
  },
  {
   "cell_type": "code",
   "execution_count": 18,
   "metadata": {},
   "outputs": [
    {
     "data": {
      "text/html": [
       "<div>\n",
       "<style scoped>\n",
       "    .dataframe tbody tr th:only-of-type {\n",
       "        vertical-align: middle;\n",
       "    }\n",
       "\n",
       "    .dataframe tbody tr th {\n",
       "        vertical-align: top;\n",
       "    }\n",
       "\n",
       "    .dataframe thead th {\n",
       "        text-align: right;\n",
       "    }\n",
       "</style>\n",
       "<table border=\"1\" class=\"dataframe\">\n",
       "  <thead>\n",
       "    <tr style=\"text-align: right;\">\n",
       "      <th></th>\n",
       "      <th>name</th>\n",
       "      <th>year</th>\n",
       "      <th>quarter</th>\n",
       "      <th>q_amt_c</th>\n",
       "      <th>q_amt_p</th>\n",
       "      <th>inc_profit</th>\n",
       "      <th>Pct</th>\n",
       "    </tr>\n",
       "  </thead>\n",
       "  <tbody>\n",
       "    <tr>\n",
       "      <th>1</th>\n",
       "      <td>MC</td>\n",
       "      <td>2023</td>\n",
       "      <td>Q1</td>\n",
       "      <td>832309</td>\n",
       "      <td>740276</td>\n",
       "      <td>92033</td>\n",
       "      <td>12.43</td>\n",
       "    </tr>\n",
       "  </tbody>\n",
       "</table>\n",
       "</div>"
      ],
      "text/plain": [
       "  name  year quarter  q_amt_c  q_amt_p  inc_profit   Pct\n",
       "1   MC  2023      Q1   832309   740276       92033 12.43"
      ]
     },
     "execution_count": 18,
     "metadata": {},
     "output_type": "execute_result"
    }
   ],
   "source": [
    "df_ins_criteria = criteria_1 & criteria_2 & criteria_3\n",
    "df_ins.loc[df_ins_criteria,cols].sort_values(['Pct'],ascending=[False]).head()"
   ]
  }
 ],
 "metadata": {
  "anaconda-cloud": {},
  "kernelspec": {
   "display_name": "Python 3 (ipykernel)",
   "language": "python",
   "name": "python3"
  },
  "language_info": {
   "codemirror_mode": {
    "name": "ipython",
    "version": 3
   },
   "file_extension": ".py",
   "mimetype": "text/x-python",
   "name": "python",
   "nbconvert_exporter": "python",
   "pygments_lexer": "ipython3",
   "version": "3.8.11"
  }
 },
 "nbformat": 4,
 "nbformat_minor": 1
}
