{
 "cells": [
  {
   "cell_type": "markdown",
   "metadata": {},
   "source": [
    "### Restart and Run All Cells"
   ]
  },
  {
   "cell_type": "code",
   "execution_count": 1,
   "metadata": {},
   "outputs": [
    {
     "data": {
      "text/plain": [
       "'2023-01-11'"
      ]
     },
     "execution_count": 1,
     "metadata": {},
     "output_type": "execute_result"
    }
   ],
   "source": [
    "import pandas as pd\n",
    "from datetime import date, timedelta\n",
    "from sqlalchemy import create_engine\n",
    "engine = create_engine(\"sqlite:///c:\\\\ruby\\\\portlt\\\\db\\\\development.sqlite3\")\n",
    "conlt = engine.connect()\n",
    "year = 2022\n",
    "quarter = 3\n",
    "today = date.today()\n",
    "today_str = today.strftime(\"%Y-%m-%d\")\n",
    "today_str"
   ]
  },
  {
   "cell_type": "code",
   "execution_count": 3,
   "metadata": {},
   "outputs": [],
   "source": [
    "cols = 'name year quarter q_amt_c q_amt_p inc_profit percent'.split()\n",
    "\n",
    "format_dict = {\n",
    "                'q_amt':'{:,}','q_amt_c':'{:,}','q_amt_p':'{:,}','inc_profit':'{:,}',\n",
    "                'yoy_gain':'{:,}','acc_gain':'{:,}',   \n",
    "                'latest_amt':'{:,}','previous_amt':'{:,}','inc_amt':'{:,}',\n",
    "                'q_eps':'{:.4f}','y_eps':'{:.4f}','aq_eps':'{:.4f}','ay_eps':'{:.4f}',\n",
    "                'percent':'{:.2f}%','inc_pct':'{:.2f}%'\n",
    "              }"
   ]
  },
  {
   "cell_type": "code",
   "execution_count": 4,
   "metadata": {},
   "outputs": [
    {
     "name": "stdout",
     "output_type": "stream",
     "text": [
      "\n",
      "SELECT name,year,quarter,q_amt \n",
      "FROM epss \n",
      "WHERE (year = 2022 AND quarter <= 3) \n",
      "OR (year = 2022-1 AND quarter >= 3+1)\n",
      "ORDER BY year DESC, quarter DESC\n",
      "\n"
     ]
    }
   ],
   "source": [
    "sql = \"\"\"\n",
    "SELECT name,year,quarter,q_amt \n",
    "FROM epss \n",
    "WHERE (year = %s AND quarter <= %s) \n",
    "OR (year = %s-1 AND quarter >= %s+1)\n",
    "ORDER BY year DESC, quarter DESC\n",
    "\"\"\"\n",
    "sql = sql % (year, quarter, year, quarter)\n",
    "print(sql)"
   ]
  },
  {
   "cell_type": "code",
   "execution_count": 6,
   "metadata": {},
   "outputs": [
    {
     "data": {
      "text/html": [
       "<div>\n",
       "<style scoped>\n",
       "    .dataframe tbody tr th:only-of-type {\n",
       "        vertical-align: middle;\n",
       "    }\n",
       "\n",
       "    .dataframe tbody tr th {\n",
       "        vertical-align: top;\n",
       "    }\n",
       "\n",
       "    .dataframe thead th {\n",
       "        text-align: right;\n",
       "    }\n",
       "</style>\n",
       "<table border=\"1\" class=\"dataframe\">\n",
       "  <thead>\n",
       "    <tr style=\"text-align: right;\">\n",
       "      <th></th>\n",
       "      <th>name</th>\n",
       "      <th>year</th>\n",
       "      <th>quarter</th>\n",
       "      <th>q_amt</th>\n",
       "      <th>Counter</th>\n",
       "    </tr>\n",
       "  </thead>\n",
       "  <tbody>\n",
       "    <tr>\n",
       "      <th>50</th>\n",
       "      <td>CPN</td>\n",
       "      <td>8087</td>\n",
       "      <td>10</td>\n",
       "      <td>9769856</td>\n",
       "      <td>4</td>\n",
       "    </tr>\n",
       "    <tr>\n",
       "      <th>111</th>\n",
       "      <td>LH</td>\n",
       "      <td>8087</td>\n",
       "      <td>10</td>\n",
       "      <td>8334140</td>\n",
       "      <td>4</td>\n",
       "    </tr>\n",
       "    <tr>\n",
       "      <th>142</th>\n",
       "      <td>PRM</td>\n",
       "      <td>8087</td>\n",
       "      <td>10</td>\n",
       "      <td>1698355</td>\n",
       "      <td>4</td>\n",
       "    </tr>\n",
       "    <tr>\n",
       "      <th>121</th>\n",
       "      <td>MAKRO</td>\n",
       "      <td>8087</td>\n",
       "      <td>10</td>\n",
       "      <td>14319482</td>\n",
       "      <td>4</td>\n",
       "    </tr>\n",
       "    <tr>\n",
       "      <th>185</th>\n",
       "      <td>STEC</td>\n",
       "      <td>8087</td>\n",
       "      <td>10</td>\n",
       "      <td>919069</td>\n",
       "      <td>4</td>\n",
       "    </tr>\n",
       "  </tbody>\n",
       "</table>\n",
       "</div>"
      ],
      "text/plain": [
       "      name  year  quarter     q_amt  Counter\n",
       "50     CPN  8087       10   9769856        4\n",
       "111     LH  8087       10   8334140        4\n",
       "142    PRM  8087       10   1698355        4\n",
       "121  MAKRO  8087       10  14319482        4\n",
       "185   STEC  8087       10    919069        4"
      ]
     },
     "execution_count": 6,
     "metadata": {},
     "output_type": "execute_result"
    }
   ],
   "source": [
    "dfc = pd.read_sql(sql, conlt)\n",
    "dfc[\"Counter\"] = 1\n",
    "dfc_grp = dfc.groupby([\"name\"], as_index=False).sum()\n",
    "dfc_grp = dfc_grp[dfc_grp[\"Counter\"] == 4]\n",
    "dfc_grp.sample(5)"
   ]
  },
  {
   "cell_type": "code",
   "execution_count": 7,
   "metadata": {},
   "outputs": [
    {
     "name": "stdout",
     "output_type": "stream",
     "text": [
      "\n",
      "SELECT name,year,quarter,q_amt \n",
      "FROM epss \n",
      "WHERE (year = 2022 AND quarter <= 3-1) \n",
      "OR (year = 2022-1 AND quarter >= 3) \n",
      "ORDER BY year DESC, quarter DESC\n"
     ]
    }
   ],
   "source": [
    "sql = \"\"\"\n",
    "SELECT name,year,quarter,q_amt \n",
    "FROM epss \n",
    "WHERE (year = %s AND quarter <= %s-1) \n",
    "OR (year = %s-1 AND quarter >= %s) \n",
    "ORDER BY year DESC, quarter DESC\"\"\"\n",
    "sql = sql % (year, quarter, year, quarter)\n",
    "print(sql)"
   ]
  },
  {
   "cell_type": "code",
   "execution_count": 8,
   "metadata": {},
   "outputs": [
    {
     "data": {
      "text/html": [
       "<style type=\"text/css\">\n",
       "</style>\n",
       "<table id=\"T_7ce2d_\">\n",
       "  <thead>\n",
       "    <tr>\n",
       "      <th class=\"blank level0\" >&nbsp;</th>\n",
       "      <th class=\"col_heading level0 col0\" >name</th>\n",
       "      <th class=\"col_heading level0 col1\" >year</th>\n",
       "      <th class=\"col_heading level0 col2\" >quarter</th>\n",
       "      <th class=\"col_heading level0 col3\" >q_amt</th>\n",
       "      <th class=\"col_heading level0 col4\" >Counter</th>\n",
       "    </tr>\n",
       "  </thead>\n",
       "  <tbody>\n",
       "    <tr>\n",
       "      <th id=\"T_7ce2d_level0_row0\" class=\"row_heading level0 row0\" >113</th>\n",
       "      <td id=\"T_7ce2d_row0_col0\" class=\"data row0 col0\" >LHK</td>\n",
       "      <td id=\"T_7ce2d_row0_col1\" class=\"data row0 col1\" >8086</td>\n",
       "      <td id=\"T_7ce2d_row0_col2\" class=\"data row0 col2\" >10</td>\n",
       "      <td id=\"T_7ce2d_row0_col3\" class=\"data row0 col3\" >177,256</td>\n",
       "      <td id=\"T_7ce2d_row0_col4\" class=\"data row0 col4\" >4</td>\n",
       "    </tr>\n",
       "    <tr>\n",
       "      <th id=\"T_7ce2d_level0_row1\" class=\"row_heading level0 row1\" >49</th>\n",
       "      <td id=\"T_7ce2d_row1_col0\" class=\"data row1 col0\" >CPF</td>\n",
       "      <td id=\"T_7ce2d_row1_col1\" class=\"data row1 col1\" >8086</td>\n",
       "      <td id=\"T_7ce2d_row1_col2\" class=\"data row1 col2\" >10</td>\n",
       "      <td id=\"T_7ce2d_row1_col3\" class=\"data row1 col3\" >8,395,659</td>\n",
       "      <td id=\"T_7ce2d_row1_col4\" class=\"data row1 col4\" >4</td>\n",
       "    </tr>\n",
       "    <tr>\n",
       "      <th id=\"T_7ce2d_level0_row2\" class=\"row_heading level0 row2\" >191</th>\n",
       "      <td id=\"T_7ce2d_row2_col0\" class=\"data row2 col0\" >TASCO</td>\n",
       "      <td id=\"T_7ce2d_row2_col1\" class=\"data row2 col1\" >8086</td>\n",
       "      <td id=\"T_7ce2d_row2_col2\" class=\"data row2 col2\" >10</td>\n",
       "      <td id=\"T_7ce2d_row2_col3\" class=\"data row2 col3\" >1,733,182</td>\n",
       "      <td id=\"T_7ce2d_row2_col4\" class=\"data row2 col4\" >4</td>\n",
       "    </tr>\n",
       "    <tr>\n",
       "      <th id=\"T_7ce2d_level0_row3\" class=\"row_heading level0 row3\" >134</th>\n",
       "      <td id=\"T_7ce2d_row3_col0\" class=\"data row3 col0\" >ORI</td>\n",
       "      <td id=\"T_7ce2d_row3_col1\" class=\"data row3 col1\" >8086</td>\n",
       "      <td id=\"T_7ce2d_row3_col2\" class=\"data row3 col2\" >10</td>\n",
       "      <td id=\"T_7ce2d_row3_col3\" class=\"data row3 col3\" >3,410,091</td>\n",
       "      <td id=\"T_7ce2d_row3_col4\" class=\"data row3 col4\" >4</td>\n",
       "    </tr>\n",
       "    <tr>\n",
       "      <th id=\"T_7ce2d_level0_row4\" class=\"row_heading level0 row4\" >18</th>\n",
       "      <td id=\"T_7ce2d_row4_col0\" class=\"data row4 col0\" >BAM</td>\n",
       "      <td id=\"T_7ce2d_row4_col1\" class=\"data row4 col1\" >8086</td>\n",
       "      <td id=\"T_7ce2d_row4_col2\" class=\"data row4 col2\" >10</td>\n",
       "      <td id=\"T_7ce2d_row4_col3\" class=\"data row4 col3\" >2,705,410</td>\n",
       "      <td id=\"T_7ce2d_row4_col4\" class=\"data row4 col4\" >4</td>\n",
       "    </tr>\n",
       "  </tbody>\n",
       "</table>\n"
      ],
      "text/plain": [
       "<pandas.io.formats.style.Styler at 0x2711bc06af0>"
      ]
     },
     "execution_count": 8,
     "metadata": {},
     "output_type": "execute_result"
    }
   ],
   "source": [
    "dfp = pd.read_sql(sql, conlt)\n",
    "dfp[\"Counter\"] = 1\n",
    "dfp_grp = dfp.groupby([\"name\"], as_index=False).sum()\n",
    "dfp_grp = dfp_grp[dfp_grp[\"Counter\"] == 4]\n",
    "dfp_grp.sample(5).style.format(format_dict)"
   ]
  },
  {
   "cell_type": "code",
   "execution_count": 9,
   "metadata": {},
   "outputs": [
    {
     "data": {
      "text/plain": [
       "(233,)"
      ]
     },
     "execution_count": 9,
     "metadata": {},
     "output_type": "execute_result"
    }
   ],
   "source": [
    "dfp.name.unique().shape"
   ]
  },
  {
   "cell_type": "code",
   "execution_count": 10,
   "metadata": {},
   "outputs": [
    {
     "data": {
      "text/plain": [
       "(233, 15)"
      ]
     },
     "execution_count": 10,
     "metadata": {},
     "output_type": "execute_result"
    }
   ],
   "source": [
    "sql = \"\"\"\n",
    "SELECT *\n",
    "FROM stocks\n",
    "\"\"\"\n",
    "stocks = pd.read_sql(sql, conlt)\n",
    "stocks.shape"
   ]
  },
  {
   "cell_type": "code",
   "execution_count": 11,
   "metadata": {},
   "outputs": [
    {
     "data": {
      "text/plain": [
       "(401, 9)"
      ]
     },
     "execution_count": 11,
     "metadata": {},
     "output_type": "execute_result"
    }
   ],
   "source": [
    "sql = \"\"\"\n",
    "SELECT *\n",
    "FROM tickers\n",
    "\"\"\"\n",
    "tickers = pd.read_sql(sql, conlt)\n",
    "tickers.shape"
   ]
  },
  {
   "cell_type": "code",
   "execution_count": 12,
   "metadata": {},
   "outputs": [
    {
     "data": {
      "text/html": [
       "<style type=\"text/css\">\n",
       "</style>\n",
       "<table id=\"T_35479_\">\n",
       "  <thead>\n",
       "    <tr>\n",
       "      <th class=\"blank level0\" >&nbsp;</th>\n",
       "      <th class=\"col_heading level0 col0\" >name</th>\n",
       "      <th class=\"col_heading level0 col1\" >year</th>\n",
       "      <th class=\"col_heading level0 col2\" >quarter</th>\n",
       "      <th class=\"col_heading level0 col3\" >q_amt_c</th>\n",
       "      <th class=\"col_heading level0 col4\" >q_amt_p</th>\n",
       "      <th class=\"col_heading level0 col5\" >inc_profit</th>\n",
       "      <th class=\"col_heading level0 col6\" >percent</th>\n",
       "    </tr>\n",
       "  </thead>\n",
       "  <tbody>\n",
       "    <tr>\n",
       "      <th id=\"T_35479_level0_row0\" class=\"row_heading level0 row0\" >76</th>\n",
       "      <td id=\"T_35479_row0_col0\" class=\"data row0 col0\" >HANA</td>\n",
       "      <td id=\"T_35479_row0_col1\" class=\"data row0 col1\" >2022</td>\n",
       "      <td id=\"T_35479_row0_col2\" class=\"data row0 col2\" >Q3</td>\n",
       "      <td id=\"T_35479_row0_col3\" class=\"data row0 col3\" >970,153</td>\n",
       "      <td id=\"T_35479_row0_col4\" class=\"data row0 col4\" >1,117,296</td>\n",
       "      <td id=\"T_35479_row0_col5\" class=\"data row0 col5\" >-147,143</td>\n",
       "      <td id=\"T_35479_row0_col6\" class=\"data row0 col6\" >-13.17%</td>\n",
       "    </tr>\n",
       "    <tr>\n",
       "      <th id=\"T_35479_level0_row1\" class=\"row_heading level0 row1\" >175</th>\n",
       "      <td id=\"T_35479_row1_col0\" class=\"data row1 col0\" >SUPEREIF</td>\n",
       "      <td id=\"T_35479_row1_col1\" class=\"data row1 col1\" >2022</td>\n",
       "      <td id=\"T_35479_row1_col2\" class=\"data row1 col2\" >Q3</td>\n",
       "      <td id=\"T_35479_row1_col3\" class=\"data row1 col3\" >111,467</td>\n",
       "      <td id=\"T_35479_row1_col4\" class=\"data row1 col4\" >56,986</td>\n",
       "      <td id=\"T_35479_row1_col5\" class=\"data row1 col5\" >54,481</td>\n",
       "      <td id=\"T_35479_row1_col6\" class=\"data row1 col6\" >95.60%</td>\n",
       "    </tr>\n",
       "    <tr>\n",
       "      <th id=\"T_35479_level0_row2\" class=\"row_heading level0 row2\" >35</th>\n",
       "      <td id=\"T_35479_row2_col0\" class=\"data row2 col0\" >BLA</td>\n",
       "      <td id=\"T_35479_row2_col1\" class=\"data row2 col1\" >2022</td>\n",
       "      <td id=\"T_35479_row2_col2\" class=\"data row2 col2\" >Q3</td>\n",
       "      <td id=\"T_35479_row2_col3\" class=\"data row2 col3\" >3,206,511</td>\n",
       "      <td id=\"T_35479_row2_col4\" class=\"data row2 col4\" >3,444,585</td>\n",
       "      <td id=\"T_35479_row2_col5\" class=\"data row2 col5\" >-238,074</td>\n",
       "      <td id=\"T_35479_row2_col6\" class=\"data row2 col6\" >-6.91%</td>\n",
       "    </tr>\n",
       "    <tr>\n",
       "      <th id=\"T_35479_level0_row3\" class=\"row_heading level0 row3\" >71</th>\n",
       "      <td id=\"T_35479_row3_col0\" class=\"data row3 col0\" >GPSC</td>\n",
       "      <td id=\"T_35479_row3_col1\" class=\"data row3 col1\" >2022</td>\n",
       "      <td id=\"T_35479_row3_col2\" class=\"data row3 col2\" >Q3</td>\n",
       "      <td id=\"T_35479_row3_col3\" class=\"data row3 col3\" >2,496,103</td>\n",
       "      <td id=\"T_35479_row3_col4\" class=\"data row3 col4\" >4,039,969</td>\n",
       "      <td id=\"T_35479_row3_col5\" class=\"data row3 col5\" >-1,543,866</td>\n",
       "      <td id=\"T_35479_row3_col6\" class=\"data row3 col6\" >-38.21%</td>\n",
       "    </tr>\n",
       "    <tr>\n",
       "      <th id=\"T_35479_level0_row4\" class=\"row_heading level0 row4\" >107</th>\n",
       "      <td id=\"T_35479_row4_col0\" class=\"data row4 col0\" >LPN</td>\n",
       "      <td id=\"T_35479_row4_col1\" class=\"data row4 col1\" >2022</td>\n",
       "      <td id=\"T_35479_row4_col2\" class=\"data row4 col2\" >Q3</td>\n",
       "      <td id=\"T_35479_row4_col3\" class=\"data row4 col3\" >606,642</td>\n",
       "      <td id=\"T_35479_row4_col4\" class=\"data row4 col4\" >397,259</td>\n",
       "      <td id=\"T_35479_row4_col5\" class=\"data row4 col5\" >209,383</td>\n",
       "      <td id=\"T_35479_row4_col6\" class=\"data row4 col6\" >52.71%</td>\n",
       "    </tr>\n",
       "  </tbody>\n",
       "</table>\n"
      ],
      "text/plain": [
       "<pandas.io.formats.style.Styler at 0x2711ccb4130>"
      ]
     },
     "execution_count": 12,
     "metadata": {},
     "output_type": "execute_result"
    }
   ],
   "source": [
    "dfm = pd.merge(dfc_grp, dfp_grp, on=\"name\", suffixes=([\"_c\", \"_p\"]), how=\"inner\")\n",
    "dfm[\"inc_profit\"] = dfm[\"q_amt_c\"] - dfm[\"q_amt_p\"]\n",
    "dfm[\"percent\"] = round(dfm[\"inc_profit\"] / abs(dfm[\"q_amt_p\"]) * 100, 2)\n",
    "dfm[\"year\"] = year\n",
    "dfm[\"quarter\"] = \"Q\" + str(quarter)\n",
    "df_percent = dfm[cols]\n",
    "df_percent.sample(5).style.format(format_dict)"
   ]
  },
  {
   "cell_type": "code",
   "execution_count": null,
   "metadata": {},
   "outputs": [],
   "source": [
    "sql = \"\"\"\n",
    "DELETE FROM qt_profits \n",
    "WHERE year = %s AND quarter = 'Q%s'\n",
    "\"\"\"\n",
    "sql = sql % (year, quarter)\n",
    "print(sql)\n",
    "\n",
    "rp = conlt.execute(sql)\n",
    "rp.rowcount"
   ]
  },
  {
   "cell_type": "code",
   "execution_count": null,
   "metadata": {},
   "outputs": [],
   "source": [
    "sql = \"SELECT name, id FROM tickers\"\n",
    "tickers = pd.read_sql(sql, conlt)\n",
    "tickers.head()"
   ]
  },
  {
   "cell_type": "code",
   "execution_count": null,
   "metadata": {},
   "outputs": [],
   "source": [
    "df_ins = pd.merge(df_percent, tickers, on=\"name\", how=\"inner\")\n",
    "df_ins.head().style.format(format_dict)"
   ]
  },
  {
   "cell_type": "code",
   "execution_count": null,
   "metadata": {},
   "outputs": [],
   "source": [
    "rcds = df_ins.values.tolist()\n",
    "len(rcds)"
   ]
  },
  {
   "cell_type": "code",
   "execution_count": null,
   "metadata": {},
   "outputs": [],
   "source": [
    "#for rcd in rcds:\n",
    "#    print(rcd)"
   ]
  },
  {
   "cell_type": "code",
   "execution_count": null,
   "metadata": {},
   "outputs": [],
   "source": [
    "sql = \"\"\"\n",
    "INSERT INTO qt_profits (name, year, quarter, latest_amt, previous_amt, \\\n",
    "inc_amt, inc_pct, ticker_id) \\\n",
    "VALUES (?, ?, ?, ?, ?, ?, ?, ?)\n",
    "\"\"\"\n",
    "print(sql)"
   ]
  },
  {
   "cell_type": "code",
   "execution_count": null,
   "metadata": {},
   "outputs": [],
   "source": [
    "for rcd in rcds:\n",
    "    conlt.execute(sql, rcd)"
   ]
  },
  {
   "cell_type": "markdown",
   "metadata": {},
   "source": [
    "### End of loop"
   ]
  },
  {
   "cell_type": "code",
   "execution_count": null,
   "metadata": {},
   "outputs": [],
   "source": [
    "criteria_1 = df_ins.q_amt_c > 440_000\n",
    "df_ins.loc[criteria_1, cols].head().style.format(format_dict)"
   ]
  },
  {
   "cell_type": "code",
   "execution_count": null,
   "metadata": {},
   "outputs": [],
   "source": [
    "criteria_2 = df_ins.q_amt_p > 400_000\n",
    "df_ins.loc[criteria_2, cols].head().style.format(format_dict)"
   ]
  },
  {
   "cell_type": "code",
   "execution_count": null,
   "metadata": {},
   "outputs": [],
   "source": [
    "criteria_3 = df_ins.percent > 10.00\n",
    "df_ins.loc[criteria_3, cols].head().style.format(format_dict)"
   ]
  },
  {
   "cell_type": "code",
   "execution_count": null,
   "metadata": {},
   "outputs": [],
   "source": [
    "df_ins_criteria = criteria_1 & criteria_2 & criteria_3\n",
    "df_ins.loc[df_ins_criteria, cols].head().style.format(format_dict)"
   ]
  },
  {
   "cell_type": "code",
   "execution_count": null,
   "metadata": {},
   "outputs": [],
   "source": [
    "df_ins[df_ins_criteria].sort_values(by=[\"percent\"], ascending=[False]).head().style.format(format_dict)"
   ]
  },
  {
   "cell_type": "code",
   "execution_count": null,
   "metadata": {},
   "outputs": [],
   "source": [
    "df_ins[df_ins_criteria].sort_values(by=[\"name\"], ascending=[True]).head().style.format(format_dict)"
   ]
  },
  {
   "cell_type": "code",
   "execution_count": null,
   "metadata": {},
   "outputs": [],
   "source": [
    "df_ins[df_ins_criteria].sort_values(by=[\"name\"], ascending=[True]).head().style.format(format_dict)"
   ]
  },
  {
   "cell_type": "code",
   "execution_count": null,
   "metadata": {},
   "outputs": [],
   "source": []
  },
  {
   "cell_type": "code",
   "execution_count": null,
   "metadata": {},
   "outputs": [],
   "source": [
    "sql = \"\"\"\n",
    "SELECT name, COUNT(*) AS 'Nbr. of Group of 4 Quarters'\n",
    "FROM qt_profits\n",
    "GROUP BY name\n",
    "HAVING COUNT(*) = 1\n",
    "ORDER BY COUNT(*) DESC, name\n",
    "\"\"\"\n",
    "print(sql)\n",
    "\n",
    "tmp = pd.read_sql(sql, conlt)\n",
    "tmp"
   ]
  },
  {
   "cell_type": "code",
   "execution_count": null,
   "metadata": {},
   "outputs": [],
   "source": [
    "name = 'OR'\n",
    "sql = \"\"\"\n",
    "SELECT *\n",
    "FROM epss\n",
    "WHERE name = '%s'\n",
    "ORDER BY year DESC, quarter DESC\n",
    "\"\"\"\n",
    "sql = sql % name\n",
    "print(sql)\n",
    "\n",
    "epss = pd.read_sql(sql, conlt)\n",
    "epss"
   ]
  },
  {
   "cell_type": "code",
   "execution_count": null,
   "metadata": {},
   "outputs": [],
   "source": [
    "sql = \"\"\"\n",
    "SELECT name, COUNT(*) AS 'Nbr. of Quarters'\n",
    "FROM epss\n",
    "GROUP BY name\n",
    "HAVING COUNT(*) < 5\n",
    "ORDER BY COUNT(*) DESC, name\n",
    "\"\"\"\n",
    "print(sql)\n",
    "\n",
    "tmp = pd.read_sql(sql, conlt)\n",
    "tmp"
   ]
  }
 ],
 "metadata": {
  "anaconda-cloud": {},
  "kernelspec": {
   "display_name": "Python 3 (ipykernel)",
   "language": "python",
   "name": "python3"
  },
  "language_info": {
   "codemirror_mode": {
    "name": "ipython",
    "version": 3
   },
   "file_extension": ".py",
   "mimetype": "text/x-python",
   "name": "python",
   "nbconvert_exporter": "python",
   "pygments_lexer": "ipython3",
   "version": "3.8.11"
  }
 },
 "nbformat": 4,
 "nbformat_minor": 1
}
