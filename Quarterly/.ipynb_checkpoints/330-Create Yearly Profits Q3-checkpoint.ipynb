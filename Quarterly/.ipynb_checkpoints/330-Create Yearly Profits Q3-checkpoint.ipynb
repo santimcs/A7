{
 "cells": [
  {
   "cell_type": "markdown",
   "metadata": {},
   "source": [
    "### Restart and Run All Cells"
   ]
  },
  {
   "cell_type": "code",
   "execution_count": 1,
   "metadata": {},
   "outputs": [
    {
     "data": {
      "text/plain": [
       "'2023-01-11'"
      ]
     },
     "execution_count": 1,
     "metadata": {},
     "output_type": "execute_result"
    }
   ],
   "source": [
    "import pandas as pd\n",
    "from datetime import date, timedelta\n",
    "from sqlalchemy import create_engine\n",
    "engine = create_engine(\"sqlite:///c:\\\\ruby\\\\portlt\\\\db\\\\development.sqlite3\")\n",
    "conlt = engine.connect()\n",
    "year = 2022\n",
    "quarter = 3\n",
    "today = date.today()\n",
    "today_str = today.strftime(\"%Y-%m-%d\")\n",
    "today_str"
   ]
  },
  {
   "cell_type": "code",
   "execution_count": 2,
   "metadata": {},
   "outputs": [],
   "source": [
    "cols = 'name year quarter q_amt_c q_amt_p inc_profit percent'.split()\n",
    "\n",
    "format_dict = {\n",
    "                'q_amt':'{:,}','q_amt_c':'{:,}','q_amt_p':'{:,}','inc_profit':'{:,}',\n",
    "                'yoy_gain':'{:,}','acc_gain':'{:,}',    \n",
    "                'q_eps':'{:.4f}','y_eps':'{:.4f}','aq_eps':'{:.4f}','ay_eps':'{:.4f}',\n",
    "                'percent':'{:.2f}%'\n",
    "              }"
   ]
  },
  {
   "cell_type": "code",
   "execution_count": 3,
   "metadata": {},
   "outputs": [
    {
     "name": "stdout",
     "output_type": "stream",
     "text": [
      "\n",
      "SELECT name,year,quarter,q_amt\n",
      "FROM epss \n",
      "WHERE (year = 2022 AND quarter <= 3) \n",
      "OR (year = 2022-1 AND quarter >= 3+1)\n",
      "ORDER BY year DESC, quarter DESC\n"
     ]
    }
   ],
   "source": [
    "sql = \"\"\"\n",
    "SELECT name,year,quarter,q_amt\n",
    "FROM epss \n",
    "WHERE (year = %s AND quarter <= %s) \n",
    "OR (year = %s-1 AND quarter >= %s+1)\n",
    "ORDER BY year DESC, quarter DESC\"\"\"\n",
    "sql = sql % (year, quarter, year, quarter)\n",
    "print(sql)"
   ]
  },
  {
   "cell_type": "code",
   "execution_count": 4,
   "metadata": {},
   "outputs": [
    {
     "data": {
      "text/html": [
       "<style type=\"text/css\">\n",
       "</style>\n",
       "<table id=\"T_ffe35_\">\n",
       "  <thead>\n",
       "    <tr>\n",
       "      <th class=\"blank level0\" >&nbsp;</th>\n",
       "      <th class=\"col_heading level0 col0\" >name</th>\n",
       "      <th class=\"col_heading level0 col1\" >year</th>\n",
       "      <th class=\"col_heading level0 col2\" >quarter</th>\n",
       "      <th class=\"col_heading level0 col3\" >q_amt</th>\n",
       "      <th class=\"col_heading level0 col4\" >Counter</th>\n",
       "    </tr>\n",
       "  </thead>\n",
       "  <tbody>\n",
       "    <tr>\n",
       "      <th id=\"T_ffe35_level0_row0\" class=\"row_heading level0 row0\" >134</th>\n",
       "      <td id=\"T_ffe35_row0_col0\" class=\"data row0 col0\" >ORI</td>\n",
       "      <td id=\"T_ffe35_row0_col1\" class=\"data row0 col1\" >8087</td>\n",
       "      <td id=\"T_ffe35_row0_col2\" class=\"data row0 col2\" >10</td>\n",
       "      <td id=\"T_ffe35_row0_col3\" class=\"data row0 col3\" >3,549,011</td>\n",
       "      <td id=\"T_ffe35_row0_col4\" class=\"data row0 col4\" >4</td>\n",
       "    </tr>\n",
       "    <tr>\n",
       "      <th id=\"T_ffe35_level0_row1\" class=\"row_heading level0 row1\" >1</th>\n",
       "      <td id=\"T_ffe35_row1_col0\" class=\"data row1 col0\" >ADVANC</td>\n",
       "      <td id=\"T_ffe35_row1_col1\" class=\"data row1 col1\" >8087</td>\n",
       "      <td id=\"T_ffe35_row1_col2\" class=\"data row1 col2\" >10</td>\n",
       "      <td id=\"T_ffe35_row1_col3\" class=\"data row1 col3\" >25,511,368</td>\n",
       "      <td id=\"T_ffe35_row1_col4\" class=\"data row1 col4\" >4</td>\n",
       "    </tr>\n",
       "    <tr>\n",
       "      <th id=\"T_ffe35_level0_row2\" class=\"row_heading level0 row2\" >191</th>\n",
       "      <td id=\"T_ffe35_row2_col0\" class=\"data row2 col0\" >TASCO</td>\n",
       "      <td id=\"T_ffe35_row2_col1\" class=\"data row2 col1\" >8087</td>\n",
       "      <td id=\"T_ffe35_row2_col2\" class=\"data row2 col2\" >10</td>\n",
       "      <td id=\"T_ffe35_row2_col3\" class=\"data row2 col3\" >1,864,221</td>\n",
       "      <td id=\"T_ffe35_row2_col4\" class=\"data row2 col4\" >4</td>\n",
       "    </tr>\n",
       "    <tr>\n",
       "      <th id=\"T_ffe35_level0_row3\" class=\"row_heading level0 row3\" >147</th>\n",
       "      <td id=\"T_ffe35_row3_col0\" class=\"data row3 col0\" >PTT</td>\n",
       "      <td id=\"T_ffe35_row3_col1\" class=\"data row3 col1\" >8087</td>\n",
       "      <td id=\"T_ffe35_row3_col2\" class=\"data row3 col2\" >10</td>\n",
       "      <td id=\"T_ffe35_row3_col3\" class=\"data row3 col3\" >100,847,152</td>\n",
       "      <td id=\"T_ffe35_row3_col4\" class=\"data row3 col4\" >4</td>\n",
       "    </tr>\n",
       "    <tr>\n",
       "      <th id=\"T_ffe35_level0_row4\" class=\"row_heading level0 row4\" >193</th>\n",
       "      <td id=\"T_ffe35_row4_col0\" class=\"data row4 col0\" >TFFIF</td>\n",
       "      <td id=\"T_ffe35_row4_col1\" class=\"data row4 col1\" >8087</td>\n",
       "      <td id=\"T_ffe35_row4_col2\" class=\"data row4 col2\" >10</td>\n",
       "      <td id=\"T_ffe35_row4_col3\" class=\"data row4 col3\" >1,390,654</td>\n",
       "      <td id=\"T_ffe35_row4_col4\" class=\"data row4 col4\" >4</td>\n",
       "    </tr>\n",
       "  </tbody>\n",
       "</table>\n"
      ],
      "text/plain": [
       "<pandas.io.formats.style.Styler at 0x20cd8918790>"
      ]
     },
     "execution_count": 4,
     "metadata": {},
     "output_type": "execute_result"
    }
   ],
   "source": [
    "dfc = pd.read_sql(sql, conlt)\n",
    "dfc[\"Counter\"] = 1\n",
    "dfc_grp = dfc.groupby([\"name\"], as_index=False).sum()\n",
    "dfc_grp = dfc_grp[dfc_grp[\"Counter\"] == 4]\n",
    "dfc_grp.sample(5).style.format(format_dict)"
   ]
  },
  {
   "cell_type": "code",
   "execution_count": 5,
   "metadata": {},
   "outputs": [
    {
     "name": "stdout",
     "output_type": "stream",
     "text": [
      "\n",
      "SELECT name,year,quarter,q_amt\n",
      "FROM epss \n",
      "WHERE (year = 2022-1 AND quarter <= 3) \n",
      "OR (year = 2022-2 AND quarter >= 3+1)\n",
      "ORDER BY year DESC, quarter DESC\n",
      "\n"
     ]
    }
   ],
   "source": [
    "sql = \"\"\"\n",
    "SELECT name,year,quarter,q_amt\n",
    "FROM epss \n",
    "WHERE (year = %s-1 AND quarter <= %s) \n",
    "OR (year = %s-2 AND quarter >= %s+1)\n",
    "ORDER BY year DESC, quarter DESC\n",
    "\"\"\"\n",
    "sql = sql % (year, quarter, year, quarter)\n",
    "print(sql)"
   ]
  },
  {
   "cell_type": "code",
   "execution_count": 6,
   "metadata": {},
   "outputs": [
    {
     "data": {
      "text/html": [
       "<style type=\"text/css\">\n",
       "</style>\n",
       "<table id=\"T_3c831_\">\n",
       "  <thead>\n",
       "    <tr>\n",
       "      <th class=\"blank level0\" >&nbsp;</th>\n",
       "      <th class=\"col_heading level0 col0\" >name</th>\n",
       "      <th class=\"col_heading level0 col1\" >year</th>\n",
       "      <th class=\"col_heading level0 col2\" >quarter</th>\n",
       "      <th class=\"col_heading level0 col3\" >q_amt</th>\n",
       "      <th class=\"col_heading level0 col4\" >Counter</th>\n",
       "    </tr>\n",
       "  </thead>\n",
       "  <tbody>\n",
       "    <tr>\n",
       "      <th id=\"T_3c831_level0_row0\" class=\"row_heading level0 row0\" >75</th>\n",
       "      <td id=\"T_3c831_row0_col0\" class=\"data row0 col0\" >GLOBAL</td>\n",
       "      <td id=\"T_3c831_row0_col1\" class=\"data row0 col1\" >8083</td>\n",
       "      <td id=\"T_3c831_row0_col2\" class=\"data row0 col2\" >10</td>\n",
       "      <td id=\"T_3c831_row0_col3\" class=\"data row0 col3\" >2,974,789</td>\n",
       "      <td id=\"T_3c831_row0_col4\" class=\"data row0 col4\" >4</td>\n",
       "    </tr>\n",
       "    <tr>\n",
       "      <th id=\"T_3c831_level0_row1\" class=\"row_heading level0 row1\" >74</th>\n",
       "      <td id=\"T_3c831_row1_col0\" class=\"data row1 col0\" >GGC</td>\n",
       "      <td id=\"T_3c831_row1_col1\" class=\"data row1 col1\" >8083</td>\n",
       "      <td id=\"T_3c831_row1_col2\" class=\"data row1 col2\" >10</td>\n",
       "      <td id=\"T_3c831_row1_col3\" class=\"data row1 col3\" >983,347</td>\n",
       "      <td id=\"T_3c831_row1_col4\" class=\"data row1 col4\" >4</td>\n",
       "    </tr>\n",
       "    <tr>\n",
       "      <th id=\"T_3c831_level0_row2\" class=\"row_heading level0 row2\" >42</th>\n",
       "      <td id=\"T_3c831_row2_col0\" class=\"data row2 col0\" >CENTEL</td>\n",
       "      <td id=\"T_3c831_row2_col1\" class=\"data row2 col1\" >8083</td>\n",
       "      <td id=\"T_3c831_row2_col2\" class=\"data row2 col2\" >10</td>\n",
       "      <td id=\"T_3c831_row2_col3\" class=\"data row2 col3\" >-3,252,627</td>\n",
       "      <td id=\"T_3c831_row2_col4\" class=\"data row2 col4\" >4</td>\n",
       "    </tr>\n",
       "    <tr>\n",
       "      <th id=\"T_3c831_level0_row3\" class=\"row_heading level0 row3\" >177</th>\n",
       "      <td id=\"T_3c831_row3_col0\" class=\"data row3 col0\" >SPC</td>\n",
       "      <td id=\"T_3c831_row3_col1\" class=\"data row3 col1\" >8083</td>\n",
       "      <td id=\"T_3c831_row3_col2\" class=\"data row3 col2\" >10</td>\n",
       "      <td id=\"T_3c831_row3_col3\" class=\"data row3 col3\" >1,777,920</td>\n",
       "      <td id=\"T_3c831_row3_col4\" class=\"data row3 col4\" >4</td>\n",
       "    </tr>\n",
       "    <tr>\n",
       "      <th id=\"T_3c831_level0_row4\" class=\"row_heading level0 row4\" >87</th>\n",
       "      <td id=\"T_3c831_row4_col0\" class=\"data row4 col0\" >ILM</td>\n",
       "      <td id=\"T_3c831_row4_col1\" class=\"data row4 col1\" >8083</td>\n",
       "      <td id=\"T_3c831_row4_col2\" class=\"data row4 col2\" >10</td>\n",
       "      <td id=\"T_3c831_row4_col3\" class=\"data row4 col3\" >445,215</td>\n",
       "      <td id=\"T_3c831_row4_col4\" class=\"data row4 col4\" >4</td>\n",
       "    </tr>\n",
       "  </tbody>\n",
       "</table>\n"
      ],
      "text/plain": [
       "<pandas.io.formats.style.Styler at 0x20cd928f100>"
      ]
     },
     "execution_count": 6,
     "metadata": {},
     "output_type": "execute_result"
    }
   ],
   "source": [
    "dfp = pd.read_sql(sql, conlt)\n",
    "dfp[\"Counter\"] = 1\n",
    "dfp_grp = dfp.groupby([\"name\"], as_index=False).sum()\n",
    "dfp_grp = dfp_grp[dfp_grp[\"Counter\"] == 4]\n",
    "dfp_grp.sample(5).style.format(format_dict)"
   ]
  },
  {
   "cell_type": "code",
   "execution_count": 7,
   "metadata": {},
   "outputs": [
    {
     "data": {
      "text/html": [
       "<style type=\"text/css\">\n",
       "</style>\n",
       "<table id=\"T_51a93_\">\n",
       "  <thead>\n",
       "    <tr>\n",
       "      <th class=\"blank level0\" >&nbsp;</th>\n",
       "      <th class=\"col_heading level0 col0\" >name</th>\n",
       "      <th class=\"col_heading level0 col1\" >year</th>\n",
       "      <th class=\"col_heading level0 col2\" >quarter</th>\n",
       "      <th class=\"col_heading level0 col3\" >q_amt_c</th>\n",
       "      <th class=\"col_heading level0 col4\" >q_amt_p</th>\n",
       "      <th class=\"col_heading level0 col5\" >inc_profit</th>\n",
       "      <th class=\"col_heading level0 col6\" >percent</th>\n",
       "    </tr>\n",
       "  </thead>\n",
       "  <tbody>\n",
       "    <tr>\n",
       "      <th id=\"T_51a93_level0_row0\" class=\"row_heading level0 row0\" >85</th>\n",
       "      <td id=\"T_51a93_row0_col0\" class=\"data row0 col0\" >IRPC</td>\n",
       "      <td id=\"T_51a93_row0_col1\" class=\"data row0 col1\" >2022</td>\n",
       "      <td id=\"T_51a93_row0_col2\" class=\"data row0 col2\" >Q3</td>\n",
       "      <td id=\"T_51a93_row0_col3\" class=\"data row0 col3\" >4,979,223</td>\n",
       "      <td id=\"T_51a93_row0_col4\" class=\"data row0 col4\" >13,918,559</td>\n",
       "      <td id=\"T_51a93_row0_col5\" class=\"data row0 col5\" >-8,939,336</td>\n",
       "      <td id=\"T_51a93_row0_col6\" class=\"data row0 col6\" >-64.23%</td>\n",
       "    </tr>\n",
       "    <tr>\n",
       "      <th id=\"T_51a93_level0_row1\" class=\"row_heading level0 row1\" >165</th>\n",
       "      <td id=\"T_51a93_row1_col0\" class=\"data row1 col0\" >SSP</td>\n",
       "      <td id=\"T_51a93_row1_col1\" class=\"data row1 col1\" >2022</td>\n",
       "      <td id=\"T_51a93_row1_col2\" class=\"data row1 col2\" >Q3</td>\n",
       "      <td id=\"T_51a93_row1_col3\" class=\"data row1 col3\" >1,356,292</td>\n",
       "      <td id=\"T_51a93_row1_col4\" class=\"data row1 col4\" >851,710</td>\n",
       "      <td id=\"T_51a93_row1_col5\" class=\"data row1 col5\" >504,582</td>\n",
       "      <td id=\"T_51a93_row1_col6\" class=\"data row1 col6\" >59.24%</td>\n",
       "    </tr>\n",
       "    <tr>\n",
       "      <th id=\"T_51a93_level0_row2\" class=\"row_heading level0 row2\" >119</th>\n",
       "      <td id=\"T_51a93_row2_col0\" class=\"data row2 col0\" >ORI</td>\n",
       "      <td id=\"T_51a93_row2_col1\" class=\"data row2 col1\" >2022</td>\n",
       "      <td id=\"T_51a93_row2_col2\" class=\"data row2 col2\" >Q3</td>\n",
       "      <td id=\"T_51a93_row2_col3\" class=\"data row2 col3\" >3,549,011</td>\n",
       "      <td id=\"T_51a93_row2_col4\" class=\"data row2 col4\" >3,028,548</td>\n",
       "      <td id=\"T_51a93_row2_col5\" class=\"data row2 col5\" >520,463</td>\n",
       "      <td id=\"T_51a93_row2_col6\" class=\"data row2 col6\" >17.19%</td>\n",
       "    </tr>\n",
       "    <tr>\n",
       "      <th id=\"T_51a93_level0_row3\" class=\"row_heading level0 row3\" >0</th>\n",
       "      <td id=\"T_51a93_row3_col0\" class=\"data row3 col0\" >ACE</td>\n",
       "      <td id=\"T_51a93_row3_col1\" class=\"data row3 col1\" >2022</td>\n",
       "      <td id=\"T_51a93_row3_col2\" class=\"data row3 col2\" >Q3</td>\n",
       "      <td id=\"T_51a93_row3_col3\" class=\"data row3 col3\" >1,455,601</td>\n",
       "      <td id=\"T_51a93_row3_col4\" class=\"data row3 col4\" >1,392,091</td>\n",
       "      <td id=\"T_51a93_row3_col5\" class=\"data row3 col5\" >63,510</td>\n",
       "      <td id=\"T_51a93_row3_col6\" class=\"data row3 col6\" >4.56%</td>\n",
       "    </tr>\n",
       "    <tr>\n",
       "      <th id=\"T_51a93_level0_row4\" class=\"row_heading level0 row4\" >47</th>\n",
       "      <td id=\"T_51a93_row4_col0\" class=\"data row4 col0\" >CPTGF</td>\n",
       "      <td id=\"T_51a93_row4_col1\" class=\"data row4 col1\" >2022</td>\n",
       "      <td id=\"T_51a93_row4_col2\" class=\"data row4 col2\" >Q3</td>\n",
       "      <td id=\"T_51a93_row4_col3\" class=\"data row4 col3\" >485,548</td>\n",
       "      <td id=\"T_51a93_row4_col4\" class=\"data row4 col4\" >681,239</td>\n",
       "      <td id=\"T_51a93_row4_col5\" class=\"data row4 col5\" >-195,691</td>\n",
       "      <td id=\"T_51a93_row4_col6\" class=\"data row4 col6\" >-28.73%</td>\n",
       "    </tr>\n",
       "  </tbody>\n",
       "</table>\n"
      ],
      "text/plain": [
       "<pandas.io.formats.style.Styler at 0x20cd99ba1c0>"
      ]
     },
     "execution_count": 7,
     "metadata": {},
     "output_type": "execute_result"
    }
   ],
   "source": [
    "dfm = pd.merge(dfc_grp, dfp_grp, on=\"name\", suffixes=([\"_c\", \"_p\"]), how=\"inner\")\n",
    "dfm[\"inc_profit\"] = dfm[\"q_amt_c\"] - dfm[\"q_amt_p\"]\n",
    "dfm[\"percent\"] = round(dfm[\"inc_profit\"] / abs(dfm[\"q_amt_p\"]) * 100, 2)\n",
    "dfm[\"year\"] = year\n",
    "dfm[\"quarter\"] = \"Q\" + str(quarter)\n",
    "df_percent = dfm[cols]\n",
    "df_percent.sample(5).style.format(format_dict)"
   ]
  },
  {
   "cell_type": "code",
   "execution_count": 8,
   "metadata": {},
   "outputs": [
    {
     "name": "stdout",
     "output_type": "stream",
     "text": [
      "\n",
      "DELETE FROM yr_profits \n",
      "WHERE year = 2022 AND quarter = \"Q3\"\n"
     ]
    },
    {
     "data": {
      "text/plain": [
       "210"
      ]
     },
     "execution_count": 8,
     "metadata": {},
     "output_type": "execute_result"
    }
   ],
   "source": [
    "sql = '''\n",
    "DELETE FROM yr_profits \n",
    "WHERE year = %s AND quarter = \"Q%s\"'''\n",
    "sql = sql % (year, quarter)\n",
    "print(sql)\n",
    "\n",
    "rp = conlt.execute(sql)\n",
    "rp.rowcount"
   ]
  },
  {
   "cell_type": "code",
   "execution_count": 9,
   "metadata": {},
   "outputs": [
    {
     "data": {
      "text/plain": [
       "211"
      ]
     },
     "execution_count": 9,
     "metadata": {},
     "output_type": "execute_result"
    }
   ],
   "source": [
    "sql = \"SELECT name, id FROM tickers\"\n",
    "tickers = pd.read_sql(sql, conlt)\n",
    "df_ins = pd.merge(df_percent, tickers, on=\"name\", how=\"inner\")\n",
    "rcds = df_ins.values.tolist()\n",
    "len(rcds)"
   ]
  },
  {
   "cell_type": "code",
   "execution_count": null,
   "metadata": {},
   "outputs": [],
   "source": [
    "sql = \"\"\"\n",
    "INSERT INTO yr_profits (name, year, quarter, latest_amt, previous_amt, inc_amt, inc_pct, ticker_id) \n",
    "VALUES (?, ?, ?, ?, ?, ?, ?, ?)\"\"\"\n",
    "print(sql)"
   ]
  },
  {
   "cell_type": "code",
   "execution_count": null,
   "metadata": {},
   "outputs": [],
   "source": [
    "for rcd in rcds:\n",
    "    conlt.execute(sql, rcd)"
   ]
  },
  {
   "cell_type": "markdown",
   "metadata": {},
   "source": [
    "### End of loop"
   ]
  },
  {
   "cell_type": "code",
   "execution_count": null,
   "metadata": {},
   "outputs": [],
   "source": [
    "criteria_1 = df_ins.q_amt_c > 440_000\n",
    "df_ins.loc[criteria_1, cols].head().style.format(format_dict)"
   ]
  },
  {
   "cell_type": "code",
   "execution_count": null,
   "metadata": {},
   "outputs": [],
   "source": [
    "criteria_2 = df_ins.q_amt_p > 400_000\n",
    "df_ins.loc[criteria_2, cols].head().style.format(format_dict)"
   ]
  },
  {
   "cell_type": "code",
   "execution_count": null,
   "metadata": {},
   "outputs": [],
   "source": [
    "criteria_3 = df_ins.percent > 10.00\n",
    "df_ins.loc[criteria_3, cols].head().style.format(format_dict)"
   ]
  },
  {
   "cell_type": "code",
   "execution_count": null,
   "metadata": {},
   "outputs": [],
   "source": [
    "final_criteria = criteria_1 & criteria_2 & criteria_3\n",
    "df_ins.loc[final_criteria, cols].sort_values(by=[\"percent\"], ascending=[False]).head().style.format(format_dict)"
   ]
  },
  {
   "cell_type": "code",
   "execution_count": null,
   "metadata": {},
   "outputs": [],
   "source": [
    "df_ins.loc[final_criteria, cols].sort_values(by=[\"name\"], ascending=[True]).head().style.format(format_dict)"
   ]
  },
  {
   "cell_type": "code",
   "execution_count": null,
   "metadata": {},
   "outputs": [],
   "source": [
    "df_ins.loc[final_criteria, cols].sort_values(by=[\"name\"], ascending=[True]).head().style.format(format_dict)"
   ]
  },
  {
   "cell_type": "code",
   "execution_count": null,
   "metadata": {},
   "outputs": [],
   "source": []
  }
 ],
 "metadata": {
  "anaconda-cloud": {},
  "kernelspec": {
   "display_name": "Python 3 (ipykernel)",
   "language": "python",
   "name": "python3"
  },
  "language_info": {
   "codemirror_mode": {
    "name": "ipython",
    "version": 3
   },
   "file_extension": ".py",
   "mimetype": "text/x-python",
   "name": "python",
   "nbconvert_exporter": "python",
   "pygments_lexer": "ipython3",
   "version": "3.8.11"
  }
 },
 "nbformat": 4,
 "nbformat_minor": 1
}
