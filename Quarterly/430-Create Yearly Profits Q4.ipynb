{
 "cells": [
  {
   "cell_type": "markdown",
   "metadata": {},
   "source": [
    "### Restart and Run All Cells"
   ]
  },
  {
   "cell_type": "code",
   "execution_count": 1,
   "metadata": {},
   "outputs": [],
   "source": [
    "import pandas as pd\n",
    "from sqlalchemy import create_engine\n",
    "engine = create_engine(\"sqlite:///c:\\\\ruby\\\\portlt\\\\db\\\\development.sqlite3\")\n",
    "conlt = engine.connect()\n",
    "year = 2022\n",
    "quarter = 4"
   ]
  },
  {
   "cell_type": "code",
   "execution_count": 2,
   "metadata": {},
   "outputs": [],
   "source": [
    "cols = 'name year quarter q_amt_c q_amt_p inc_profit percent'.split()\n",
    "\n",
    "format_dict = {\n",
    "                'q_amt':'{:,}','q_amt_c':'{:,}','q_amt_p':'{:,}','inc_profit':'{:,}',\n",
    "                'yoy_gain':'{:,}','acc_gain':'{:,}',    \n",
    "                'q_eps':'{:.4f}','y_eps':'{:.4f}','aq_eps':'{:.4f}','ay_eps':'{:.4f}',\n",
    "                'percent':'{:.2f}%'\n",
    "              }"
   ]
  },
  {
   "cell_type": "code",
   "execution_count": 3,
   "metadata": {},
   "outputs": [
    {
     "name": "stdout",
     "output_type": "stream",
     "text": [
      "\n",
      "SELECT name,year,quarter,q_amt\n",
      "FROM epss \n",
      "WHERE (year = 2022 AND quarter <= 4) \n",
      "OR (year = 2022-1 AND quarter >= 4+1)\n",
      "ORDER BY year DESC, quarter DESC\n"
     ]
    }
   ],
   "source": [
    "sql = \"\"\"\n",
    "SELECT name,year,quarter,q_amt\n",
    "FROM epss \n",
    "WHERE (year = %s AND quarter <= %s) \n",
    "OR (year = %s-1 AND quarter >= %s+1)\n",
    "ORDER BY year DESC, quarter DESC\"\"\"\n",
    "sql = sql % (year, quarter, year, quarter)\n",
    "print(sql)"
   ]
  },
  {
   "cell_type": "code",
   "execution_count": 4,
   "metadata": {},
   "outputs": [
    {
     "data": {
      "text/html": [
       "<style type=\"text/css\">\n",
       "</style>\n",
       "<table id=\"T_f478e_\">\n",
       "  <thead>\n",
       "    <tr>\n",
       "      <th class=\"blank level0\" >&nbsp;</th>\n",
       "      <th class=\"col_heading level0 col0\" >name</th>\n",
       "      <th class=\"col_heading level0 col1\" >year</th>\n",
       "      <th class=\"col_heading level0 col2\" >quarter</th>\n",
       "      <th class=\"col_heading level0 col3\" >q_amt</th>\n",
       "      <th class=\"col_heading level0 col4\" >Counter</th>\n",
       "    </tr>\n",
       "  </thead>\n",
       "  <tbody>\n",
       "    <tr>\n",
       "      <th id=\"T_f478e_level0_row0\" class=\"row_heading level0 row0\" >0</th>\n",
       "      <td id=\"T_f478e_row0_col0\" class=\"data row0 col0\" >ACE</td>\n",
       "      <td id=\"T_f478e_row0_col1\" class=\"data row0 col1\" >8088</td>\n",
       "      <td id=\"T_f478e_row0_col2\" class=\"data row0 col2\" >10</td>\n",
       "      <td id=\"T_f478e_row0_col3\" class=\"data row0 col3\" >1,281,979</td>\n",
       "      <td id=\"T_f478e_row0_col4\" class=\"data row0 col4\" >4</td>\n",
       "    </tr>\n",
       "    <tr>\n",
       "      <th id=\"T_f478e_level0_row1\" class=\"row_heading level0 row1\" >1</th>\n",
       "      <td id=\"T_f478e_row1_col0\" class=\"data row1 col0\" >ADVANC</td>\n",
       "      <td id=\"T_f478e_row1_col1\" class=\"data row1 col1\" >8088</td>\n",
       "      <td id=\"T_f478e_row1_col2\" class=\"data row1 col2\" >10</td>\n",
       "      <td id=\"T_f478e_row1_col3\" class=\"data row1 col3\" >26,011,284</td>\n",
       "      <td id=\"T_f478e_row1_col4\" class=\"data row1 col4\" >4</td>\n",
       "    </tr>\n",
       "    <tr>\n",
       "      <th id=\"T_f478e_level0_row2\" class=\"row_heading level0 row2\" >3</th>\n",
       "      <td id=\"T_f478e_row2_col0\" class=\"data row2 col0\" >AH</td>\n",
       "      <td id=\"T_f478e_row2_col1\" class=\"data row2 col1\" >8088</td>\n",
       "      <td id=\"T_f478e_row2_col2\" class=\"data row2 col2\" >10</td>\n",
       "      <td id=\"T_f478e_row2_col3\" class=\"data row2 col3\" >1,823,648</td>\n",
       "      <td id=\"T_f478e_row2_col4\" class=\"data row2 col4\" >4</td>\n",
       "    </tr>\n",
       "    <tr>\n",
       "      <th id=\"T_f478e_level0_row3\" class=\"row_heading level0 row3\" >4</th>\n",
       "      <td id=\"T_f478e_row3_col0\" class=\"data row3 col0\" >AIE</td>\n",
       "      <td id=\"T_f478e_row3_col1\" class=\"data row3 col1\" >8088</td>\n",
       "      <td id=\"T_f478e_row3_col2\" class=\"data row3 col2\" >10</td>\n",
       "      <td id=\"T_f478e_row3_col3\" class=\"data row3 col3\" >-22,132</td>\n",
       "      <td id=\"T_f478e_row3_col4\" class=\"data row3 col4\" >4</td>\n",
       "    </tr>\n",
       "    <tr>\n",
       "      <th id=\"T_f478e_level0_row4\" class=\"row_heading level0 row4\" >5</th>\n",
       "      <td id=\"T_f478e_row4_col0\" class=\"data row4 col0\" >AIMIRT</td>\n",
       "      <td id=\"T_f478e_row4_col1\" class=\"data row4 col1\" >8088</td>\n",
       "      <td id=\"T_f478e_row4_col2\" class=\"data row4 col2\" >10</td>\n",
       "      <td id=\"T_f478e_row4_col3\" class=\"data row4 col3\" >688,432</td>\n",
       "      <td id=\"T_f478e_row4_col4\" class=\"data row4 col4\" >4</td>\n",
       "    </tr>\n",
       "  </tbody>\n",
       "</table>\n"
      ],
      "text/plain": [
       "<pandas.io.formats.style.Styler at 0x1d0e832d250>"
      ]
     },
     "execution_count": 4,
     "metadata": {},
     "output_type": "execute_result"
    }
   ],
   "source": [
    "dfc = pd.read_sql(sql, conlt)\n",
    "dfc[\"Counter\"] = 1\n",
    "dfc_grp = dfc.groupby([\"name\"], as_index=False).sum()\n",
    "dfc_grp = dfc_grp[dfc_grp[\"Counter\"] == 4]\n",
    "dfc_grp.head().style.format(format_dict)"
   ]
  },
  {
   "cell_type": "code",
   "execution_count": 5,
   "metadata": {},
   "outputs": [
    {
     "name": "stdout",
     "output_type": "stream",
     "text": [
      "\n",
      "SELECT name,year,quarter,q_amt\n",
      "FROM epss \n",
      "WHERE (year = 2022-1 AND quarter <= 4) \n",
      "OR (year = 2022-2 AND quarter >= 4+1)\n",
      "ORDER BY year DESC, quarter DESC\n",
      "\n"
     ]
    }
   ],
   "source": [
    "sql = \"\"\"\n",
    "SELECT name,year,quarter,q_amt\n",
    "FROM epss \n",
    "WHERE (year = %s-1 AND quarter <= %s) \n",
    "OR (year = %s-2 AND quarter >= %s+1)\n",
    "ORDER BY year DESC, quarter DESC\n",
    "\"\"\"\n",
    "sql = sql % (year, quarter, year, quarter)\n",
    "print(sql)"
   ]
  },
  {
   "cell_type": "code",
   "execution_count": 6,
   "metadata": {},
   "outputs": [
    {
     "data": {
      "text/html": [
       "<style type=\"text/css\">\n",
       "</style>\n",
       "<table id=\"T_594fc_\">\n",
       "  <thead>\n",
       "    <tr>\n",
       "      <th class=\"blank level0\" >&nbsp;</th>\n",
       "      <th class=\"col_heading level0 col0\" >name</th>\n",
       "      <th class=\"col_heading level0 col1\" >year</th>\n",
       "      <th class=\"col_heading level0 col2\" >quarter</th>\n",
       "      <th class=\"col_heading level0 col3\" >q_amt</th>\n",
       "      <th class=\"col_heading level0 col4\" >Counter</th>\n",
       "    </tr>\n",
       "  </thead>\n",
       "  <tbody>\n",
       "    <tr>\n",
       "      <th id=\"T_594fc_level0_row0\" class=\"row_heading level0 row0\" >0</th>\n",
       "      <td id=\"T_594fc_row0_col0\" class=\"data row0 col0\" >ACE</td>\n",
       "      <td id=\"T_594fc_row0_col1\" class=\"data row0 col1\" >8084</td>\n",
       "      <td id=\"T_594fc_row0_col2\" class=\"data row0 col2\" >10</td>\n",
       "      <td id=\"T_594fc_row0_col3\" class=\"data row0 col3\" >1,505,681</td>\n",
       "      <td id=\"T_594fc_row0_col4\" class=\"data row0 col4\" >4</td>\n",
       "    </tr>\n",
       "    <tr>\n",
       "      <th id=\"T_594fc_level0_row1\" class=\"row_heading level0 row1\" >1</th>\n",
       "      <td id=\"T_594fc_row1_col0\" class=\"data row1 col0\" >ADVANC</td>\n",
       "      <td id=\"T_594fc_row1_col1\" class=\"data row1 col1\" >8084</td>\n",
       "      <td id=\"T_594fc_row1_col2\" class=\"data row1 col2\" >10</td>\n",
       "      <td id=\"T_594fc_row1_col3\" class=\"data row1 col3\" >26,922,146</td>\n",
       "      <td id=\"T_594fc_row1_col4\" class=\"data row1 col4\" >4</td>\n",
       "    </tr>\n",
       "    <tr>\n",
       "      <th id=\"T_594fc_level0_row2\" class=\"row_heading level0 row2\" >2</th>\n",
       "      <td id=\"T_594fc_row2_col0\" class=\"data row2 col0\" >AEONTS</td>\n",
       "      <td id=\"T_594fc_row2_col1\" class=\"data row2 col1\" >8084</td>\n",
       "      <td id=\"T_594fc_row2_col2\" class=\"data row2 col2\" >10</td>\n",
       "      <td id=\"T_594fc_row2_col3\" class=\"data row2 col3\" >3,553,041</td>\n",
       "      <td id=\"T_594fc_row2_col4\" class=\"data row2 col4\" >4</td>\n",
       "    </tr>\n",
       "    <tr>\n",
       "      <th id=\"T_594fc_level0_row3\" class=\"row_heading level0 row3\" >3</th>\n",
       "      <td id=\"T_594fc_row3_col0\" class=\"data row3 col0\" >AH</td>\n",
       "      <td id=\"T_594fc_row3_col1\" class=\"data row3 col1\" >8084</td>\n",
       "      <td id=\"T_594fc_row3_col2\" class=\"data row3 col2\" >10</td>\n",
       "      <td id=\"T_594fc_row3_col3\" class=\"data row3 col3\" >1,023,968</td>\n",
       "      <td id=\"T_594fc_row3_col4\" class=\"data row3 col4\" >4</td>\n",
       "    </tr>\n",
       "    <tr>\n",
       "      <th id=\"T_594fc_level0_row4\" class=\"row_heading level0 row4\" >4</th>\n",
       "      <td id=\"T_594fc_row4_col0\" class=\"data row4 col0\" >AIE</td>\n",
       "      <td id=\"T_594fc_row4_col1\" class=\"data row4 col1\" >8084</td>\n",
       "      <td id=\"T_594fc_row4_col2\" class=\"data row4 col2\" >10</td>\n",
       "      <td id=\"T_594fc_row4_col3\" class=\"data row4 col3\" >423,622</td>\n",
       "      <td id=\"T_594fc_row4_col4\" class=\"data row4 col4\" >4</td>\n",
       "    </tr>\n",
       "  </tbody>\n",
       "</table>\n"
      ],
      "text/plain": [
       "<pandas.io.formats.style.Styler at 0x1d0ebdbfd60>"
      ]
     },
     "execution_count": 6,
     "metadata": {},
     "output_type": "execute_result"
    }
   ],
   "source": [
    "dfp = pd.read_sql(sql, conlt)\n",
    "dfp[\"Counter\"] = 1\n",
    "dfp_grp = dfp.groupby([\"name\"], as_index=False).sum()\n",
    "dfp_grp = dfp_grp[dfp_grp[\"Counter\"] == 4]\n",
    "dfp_grp.head().style.format(format_dict)"
   ]
  },
  {
   "cell_type": "code",
   "execution_count": 7,
   "metadata": {},
   "outputs": [
    {
     "data": {
      "text/html": [
       "<style type=\"text/css\">\n",
       "</style>\n",
       "<table id=\"T_d22a8_\">\n",
       "  <thead>\n",
       "    <tr>\n",
       "      <th class=\"blank level0\" >&nbsp;</th>\n",
       "      <th class=\"col_heading level0 col0\" >name</th>\n",
       "      <th class=\"col_heading level0 col1\" >year</th>\n",
       "      <th class=\"col_heading level0 col2\" >quarter</th>\n",
       "      <th class=\"col_heading level0 col3\" >q_amt_c</th>\n",
       "      <th class=\"col_heading level0 col4\" >q_amt_p</th>\n",
       "      <th class=\"col_heading level0 col5\" >inc_profit</th>\n",
       "      <th class=\"col_heading level0 col6\" >percent</th>\n",
       "    </tr>\n",
       "  </thead>\n",
       "  <tbody>\n",
       "    <tr>\n",
       "      <th id=\"T_d22a8_level0_row0\" class=\"row_heading level0 row0\" >0</th>\n",
       "      <td id=\"T_d22a8_row0_col0\" class=\"data row0 col0\" >ACE</td>\n",
       "      <td id=\"T_d22a8_row0_col1\" class=\"data row0 col1\" >2022</td>\n",
       "      <td id=\"T_d22a8_row0_col2\" class=\"data row0 col2\" >Q4</td>\n",
       "      <td id=\"T_d22a8_row0_col3\" class=\"data row0 col3\" >1,281,979</td>\n",
       "      <td id=\"T_d22a8_row0_col4\" class=\"data row0 col4\" >1,505,681</td>\n",
       "      <td id=\"T_d22a8_row0_col5\" class=\"data row0 col5\" >-223,702</td>\n",
       "      <td id=\"T_d22a8_row0_col6\" class=\"data row0 col6\" >-14.86%</td>\n",
       "    </tr>\n",
       "    <tr>\n",
       "      <th id=\"T_d22a8_level0_row1\" class=\"row_heading level0 row1\" >1</th>\n",
       "      <td id=\"T_d22a8_row1_col0\" class=\"data row1 col0\" >ADVANC</td>\n",
       "      <td id=\"T_d22a8_row1_col1\" class=\"data row1 col1\" >2022</td>\n",
       "      <td id=\"T_d22a8_row1_col2\" class=\"data row1 col2\" >Q4</td>\n",
       "      <td id=\"T_d22a8_row1_col3\" class=\"data row1 col3\" >26,011,284</td>\n",
       "      <td id=\"T_d22a8_row1_col4\" class=\"data row1 col4\" >26,922,146</td>\n",
       "      <td id=\"T_d22a8_row1_col5\" class=\"data row1 col5\" >-910,862</td>\n",
       "      <td id=\"T_d22a8_row1_col6\" class=\"data row1 col6\" >-3.38%</td>\n",
       "    </tr>\n",
       "    <tr>\n",
       "      <th id=\"T_d22a8_level0_row2\" class=\"row_heading level0 row2\" >2</th>\n",
       "      <td id=\"T_d22a8_row2_col0\" class=\"data row2 col0\" >AH</td>\n",
       "      <td id=\"T_d22a8_row2_col1\" class=\"data row2 col1\" >2022</td>\n",
       "      <td id=\"T_d22a8_row2_col2\" class=\"data row2 col2\" >Q4</td>\n",
       "      <td id=\"T_d22a8_row2_col3\" class=\"data row2 col3\" >1,823,648</td>\n",
       "      <td id=\"T_d22a8_row2_col4\" class=\"data row2 col4\" >1,023,968</td>\n",
       "      <td id=\"T_d22a8_row2_col5\" class=\"data row2 col5\" >799,680</td>\n",
       "      <td id=\"T_d22a8_row2_col6\" class=\"data row2 col6\" >78.10%</td>\n",
       "    </tr>\n",
       "    <tr>\n",
       "      <th id=\"T_d22a8_level0_row3\" class=\"row_heading level0 row3\" >3</th>\n",
       "      <td id=\"T_d22a8_row3_col0\" class=\"data row3 col0\" >AIE</td>\n",
       "      <td id=\"T_d22a8_row3_col1\" class=\"data row3 col1\" >2022</td>\n",
       "      <td id=\"T_d22a8_row3_col2\" class=\"data row3 col2\" >Q4</td>\n",
       "      <td id=\"T_d22a8_row3_col3\" class=\"data row3 col3\" >-22,132</td>\n",
       "      <td id=\"T_d22a8_row3_col4\" class=\"data row3 col4\" >423,622</td>\n",
       "      <td id=\"T_d22a8_row3_col5\" class=\"data row3 col5\" >-445,754</td>\n",
       "      <td id=\"T_d22a8_row3_col6\" class=\"data row3 col6\" >-105.22%</td>\n",
       "    </tr>\n",
       "    <tr>\n",
       "      <th id=\"T_d22a8_level0_row4\" class=\"row_heading level0 row4\" >4</th>\n",
       "      <td id=\"T_d22a8_row4_col0\" class=\"data row4 col0\" >AIMIRT</td>\n",
       "      <td id=\"T_d22a8_row4_col1\" class=\"data row4 col1\" >2022</td>\n",
       "      <td id=\"T_d22a8_row4_col2\" class=\"data row4 col2\" >Q4</td>\n",
       "      <td id=\"T_d22a8_row4_col3\" class=\"data row4 col3\" >688,432</td>\n",
       "      <td id=\"T_d22a8_row4_col4\" class=\"data row4 col4\" >487,775</td>\n",
       "      <td id=\"T_d22a8_row4_col5\" class=\"data row4 col5\" >200,657</td>\n",
       "      <td id=\"T_d22a8_row4_col6\" class=\"data row4 col6\" >41.14%</td>\n",
       "    </tr>\n",
       "  </tbody>\n",
       "</table>\n"
      ],
      "text/plain": [
       "<pandas.io.formats.style.Styler at 0x1d0ebde3cd0>"
      ]
     },
     "execution_count": 7,
     "metadata": {},
     "output_type": "execute_result"
    }
   ],
   "source": [
    "dfm = pd.merge(dfc_grp, dfp_grp, on=\"name\", suffixes=([\"_c\", \"_p\"]), how=\"inner\")\n",
    "dfm[\"inc_profit\"] = dfm[\"q_amt_c\"] - dfm[\"q_amt_p\"]\n",
    "dfm[\"percent\"] = round(dfm[\"inc_profit\"] / abs(dfm[\"q_amt_p\"]) * 100, 2)\n",
    "dfm[\"year\"] = year\n",
    "dfm[\"quarter\"] = \"Q\" + str(quarter)\n",
    "df_percent = dfm[cols]\n",
    "df_percent.head().style.format(format_dict)"
   ]
  },
  {
   "cell_type": "code",
   "execution_count": 8,
   "metadata": {},
   "outputs": [
    {
     "name": "stdout",
     "output_type": "stream",
     "text": [
      "\n",
      "DELETE FROM yr_profits \n",
      "WHERE year = 2022 AND quarter = \"Q4\"\n"
     ]
    },
    {
     "data": {
      "text/plain": [
       "205"
      ]
     },
     "execution_count": 8,
     "metadata": {},
     "output_type": "execute_result"
    }
   ],
   "source": [
    "sql = '''\n",
    "DELETE FROM yr_profits \n",
    "WHERE year = %s AND quarter = \"Q%s\"'''\n",
    "sql = sql % (year, quarter)\n",
    "print(sql)\n",
    "\n",
    "rp = conlt.execute(sql)\n",
    "rp.rowcount"
   ]
  },
  {
   "cell_type": "code",
   "execution_count": 9,
   "metadata": {},
   "outputs": [
    {
     "data": {
      "text/plain": [
       "207"
      ]
     },
     "execution_count": 9,
     "metadata": {},
     "output_type": "execute_result"
    }
   ],
   "source": [
    "sql = \"SELECT name, id FROM tickers\"\n",
    "tickers = pd.read_sql(sql, conlt)\n",
    "df_ins = pd.merge(df_percent, tickers, on=\"name\", how=\"inner\")\n",
    "rcds = df_ins.values.tolist()\n",
    "len(rcds)"
   ]
  },
  {
   "cell_type": "code",
   "execution_count": 10,
   "metadata": {
    "scrolled": false
   },
   "outputs": [],
   "source": [
    "#for rcd in rcds:\n",
    "#    print(rcd)"
   ]
  },
  {
   "cell_type": "code",
   "execution_count": 11,
   "metadata": {},
   "outputs": [
    {
     "name": "stdout",
     "output_type": "stream",
     "text": [
      "\n",
      "INSERT INTO yr_profits (name, year, quarter, latest_amt, previous_amt, inc_amt, inc_pct, ticker_id) \n",
      "VALUES (?, ?, ?, ?, ?, ?, ?, ?)\n"
     ]
    }
   ],
   "source": [
    "sql = \"\"\"\n",
    "INSERT INTO yr_profits (name, year, quarter, latest_amt, previous_amt, inc_amt, inc_pct, ticker_id) \n",
    "VALUES (?, ?, ?, ?, ?, ?, ?, ?)\"\"\"\n",
    "print(sql)"
   ]
  },
  {
   "cell_type": "code",
   "execution_count": 12,
   "metadata": {},
   "outputs": [],
   "source": [
    "for rcd in rcds:\n",
    "    conlt.execute(sql, rcd)"
   ]
  },
  {
   "cell_type": "markdown",
   "metadata": {},
   "source": [
    "### End of loop"
   ]
  },
  {
   "cell_type": "code",
   "execution_count": 13,
   "metadata": {},
   "outputs": [
    {
     "data": {
      "text/html": [
       "<style type=\"text/css\">\n",
       "</style>\n",
       "<table id=\"T_58ad2_\">\n",
       "  <thead>\n",
       "    <tr>\n",
       "      <th class=\"blank level0\" >&nbsp;</th>\n",
       "      <th class=\"col_heading level0 col0\" >name</th>\n",
       "      <th class=\"col_heading level0 col1\" >year</th>\n",
       "      <th class=\"col_heading level0 col2\" >quarter</th>\n",
       "      <th class=\"col_heading level0 col3\" >q_amt_c</th>\n",
       "      <th class=\"col_heading level0 col4\" >q_amt_p</th>\n",
       "      <th class=\"col_heading level0 col5\" >inc_profit</th>\n",
       "      <th class=\"col_heading level0 col6\" >percent</th>\n",
       "    </tr>\n",
       "  </thead>\n",
       "  <tbody>\n",
       "    <tr>\n",
       "      <th id=\"T_58ad2_level0_row0\" class=\"row_heading level0 row0\" >0</th>\n",
       "      <td id=\"T_58ad2_row0_col0\" class=\"data row0 col0\" >ACE</td>\n",
       "      <td id=\"T_58ad2_row0_col1\" class=\"data row0 col1\" >2022</td>\n",
       "      <td id=\"T_58ad2_row0_col2\" class=\"data row0 col2\" >Q4</td>\n",
       "      <td id=\"T_58ad2_row0_col3\" class=\"data row0 col3\" >1,281,979</td>\n",
       "      <td id=\"T_58ad2_row0_col4\" class=\"data row0 col4\" >1,505,681</td>\n",
       "      <td id=\"T_58ad2_row0_col5\" class=\"data row0 col5\" >-223,702</td>\n",
       "      <td id=\"T_58ad2_row0_col6\" class=\"data row0 col6\" >-14.86%</td>\n",
       "    </tr>\n",
       "    <tr>\n",
       "      <th id=\"T_58ad2_level0_row1\" class=\"row_heading level0 row1\" >1</th>\n",
       "      <td id=\"T_58ad2_row1_col0\" class=\"data row1 col0\" >ADVANC</td>\n",
       "      <td id=\"T_58ad2_row1_col1\" class=\"data row1 col1\" >2022</td>\n",
       "      <td id=\"T_58ad2_row1_col2\" class=\"data row1 col2\" >Q4</td>\n",
       "      <td id=\"T_58ad2_row1_col3\" class=\"data row1 col3\" >26,011,284</td>\n",
       "      <td id=\"T_58ad2_row1_col4\" class=\"data row1 col4\" >26,922,146</td>\n",
       "      <td id=\"T_58ad2_row1_col5\" class=\"data row1 col5\" >-910,862</td>\n",
       "      <td id=\"T_58ad2_row1_col6\" class=\"data row1 col6\" >-3.38%</td>\n",
       "    </tr>\n",
       "    <tr>\n",
       "      <th id=\"T_58ad2_level0_row2\" class=\"row_heading level0 row2\" >2</th>\n",
       "      <td id=\"T_58ad2_row2_col0\" class=\"data row2 col0\" >AH</td>\n",
       "      <td id=\"T_58ad2_row2_col1\" class=\"data row2 col1\" >2022</td>\n",
       "      <td id=\"T_58ad2_row2_col2\" class=\"data row2 col2\" >Q4</td>\n",
       "      <td id=\"T_58ad2_row2_col3\" class=\"data row2 col3\" >1,823,648</td>\n",
       "      <td id=\"T_58ad2_row2_col4\" class=\"data row2 col4\" >1,023,968</td>\n",
       "      <td id=\"T_58ad2_row2_col5\" class=\"data row2 col5\" >799,680</td>\n",
       "      <td id=\"T_58ad2_row2_col6\" class=\"data row2 col6\" >78.10%</td>\n",
       "    </tr>\n",
       "    <tr>\n",
       "      <th id=\"T_58ad2_level0_row3\" class=\"row_heading level0 row3\" >4</th>\n",
       "      <td id=\"T_58ad2_row3_col0\" class=\"data row3 col0\" >AIMIRT</td>\n",
       "      <td id=\"T_58ad2_row3_col1\" class=\"data row3 col1\" >2022</td>\n",
       "      <td id=\"T_58ad2_row3_col2\" class=\"data row3 col2\" >Q4</td>\n",
       "      <td id=\"T_58ad2_row3_col3\" class=\"data row3 col3\" >688,432</td>\n",
       "      <td id=\"T_58ad2_row3_col4\" class=\"data row3 col4\" >487,775</td>\n",
       "      <td id=\"T_58ad2_row3_col5\" class=\"data row3 col5\" >200,657</td>\n",
       "      <td id=\"T_58ad2_row3_col6\" class=\"data row3 col6\" >41.14%</td>\n",
       "    </tr>\n",
       "    <tr>\n",
       "      <th id=\"T_58ad2_level0_row4\" class=\"row_heading level0 row4\" >5</th>\n",
       "      <td id=\"T_58ad2_row4_col0\" class=\"data row4 col0\" >AIT</td>\n",
       "      <td id=\"T_58ad2_row4_col1\" class=\"data row4 col1\" >2022</td>\n",
       "      <td id=\"T_58ad2_row4_col2\" class=\"data row4 col2\" >Q4</td>\n",
       "      <td id=\"T_58ad2_row4_col3\" class=\"data row4 col3\" >541,645</td>\n",
       "      <td id=\"T_58ad2_row4_col4\" class=\"data row4 col4\" >527,125</td>\n",
       "      <td id=\"T_58ad2_row4_col5\" class=\"data row4 col5\" >14,520</td>\n",
       "      <td id=\"T_58ad2_row4_col6\" class=\"data row4 col6\" >2.75%</td>\n",
       "    </tr>\n",
       "  </tbody>\n",
       "</table>\n"
      ],
      "text/plain": [
       "<pandas.io.formats.style.Styler at 0x1d0ebde3850>"
      ]
     },
     "execution_count": 13,
     "metadata": {},
     "output_type": "execute_result"
    }
   ],
   "source": [
    "criteria_1 = df_ins.q_amt_c > 440_000\n",
    "df_ins.loc[criteria_1, cols].head().style.format(format_dict)"
   ]
  },
  {
   "cell_type": "code",
   "execution_count": 14,
   "metadata": {},
   "outputs": [
    {
     "data": {
      "text/html": [
       "<style type=\"text/css\">\n",
       "</style>\n",
       "<table id=\"T_9f6db_\">\n",
       "  <thead>\n",
       "    <tr>\n",
       "      <th class=\"blank level0\" >&nbsp;</th>\n",
       "      <th class=\"col_heading level0 col0\" >name</th>\n",
       "      <th class=\"col_heading level0 col1\" >year</th>\n",
       "      <th class=\"col_heading level0 col2\" >quarter</th>\n",
       "      <th class=\"col_heading level0 col3\" >q_amt_c</th>\n",
       "      <th class=\"col_heading level0 col4\" >q_amt_p</th>\n",
       "      <th class=\"col_heading level0 col5\" >inc_profit</th>\n",
       "      <th class=\"col_heading level0 col6\" >percent</th>\n",
       "    </tr>\n",
       "  </thead>\n",
       "  <tbody>\n",
       "    <tr>\n",
       "      <th id=\"T_9f6db_level0_row0\" class=\"row_heading level0 row0\" >0</th>\n",
       "      <td id=\"T_9f6db_row0_col0\" class=\"data row0 col0\" >ACE</td>\n",
       "      <td id=\"T_9f6db_row0_col1\" class=\"data row0 col1\" >2022</td>\n",
       "      <td id=\"T_9f6db_row0_col2\" class=\"data row0 col2\" >Q4</td>\n",
       "      <td id=\"T_9f6db_row0_col3\" class=\"data row0 col3\" >1,281,979</td>\n",
       "      <td id=\"T_9f6db_row0_col4\" class=\"data row0 col4\" >1,505,681</td>\n",
       "      <td id=\"T_9f6db_row0_col5\" class=\"data row0 col5\" >-223,702</td>\n",
       "      <td id=\"T_9f6db_row0_col6\" class=\"data row0 col6\" >-14.86%</td>\n",
       "    </tr>\n",
       "    <tr>\n",
       "      <th id=\"T_9f6db_level0_row1\" class=\"row_heading level0 row1\" >1</th>\n",
       "      <td id=\"T_9f6db_row1_col0\" class=\"data row1 col0\" >ADVANC</td>\n",
       "      <td id=\"T_9f6db_row1_col1\" class=\"data row1 col1\" >2022</td>\n",
       "      <td id=\"T_9f6db_row1_col2\" class=\"data row1 col2\" >Q4</td>\n",
       "      <td id=\"T_9f6db_row1_col3\" class=\"data row1 col3\" >26,011,284</td>\n",
       "      <td id=\"T_9f6db_row1_col4\" class=\"data row1 col4\" >26,922,146</td>\n",
       "      <td id=\"T_9f6db_row1_col5\" class=\"data row1 col5\" >-910,862</td>\n",
       "      <td id=\"T_9f6db_row1_col6\" class=\"data row1 col6\" >-3.38%</td>\n",
       "    </tr>\n",
       "    <tr>\n",
       "      <th id=\"T_9f6db_level0_row2\" class=\"row_heading level0 row2\" >2</th>\n",
       "      <td id=\"T_9f6db_row2_col0\" class=\"data row2 col0\" >AH</td>\n",
       "      <td id=\"T_9f6db_row2_col1\" class=\"data row2 col1\" >2022</td>\n",
       "      <td id=\"T_9f6db_row2_col2\" class=\"data row2 col2\" >Q4</td>\n",
       "      <td id=\"T_9f6db_row2_col3\" class=\"data row2 col3\" >1,823,648</td>\n",
       "      <td id=\"T_9f6db_row2_col4\" class=\"data row2 col4\" >1,023,968</td>\n",
       "      <td id=\"T_9f6db_row2_col5\" class=\"data row2 col5\" >799,680</td>\n",
       "      <td id=\"T_9f6db_row2_col6\" class=\"data row2 col6\" >78.10%</td>\n",
       "    </tr>\n",
       "    <tr>\n",
       "      <th id=\"T_9f6db_level0_row3\" class=\"row_heading level0 row3\" >3</th>\n",
       "      <td id=\"T_9f6db_row3_col0\" class=\"data row3 col0\" >AIE</td>\n",
       "      <td id=\"T_9f6db_row3_col1\" class=\"data row3 col1\" >2022</td>\n",
       "      <td id=\"T_9f6db_row3_col2\" class=\"data row3 col2\" >Q4</td>\n",
       "      <td id=\"T_9f6db_row3_col3\" class=\"data row3 col3\" >-22,132</td>\n",
       "      <td id=\"T_9f6db_row3_col4\" class=\"data row3 col4\" >423,622</td>\n",
       "      <td id=\"T_9f6db_row3_col5\" class=\"data row3 col5\" >-445,754</td>\n",
       "      <td id=\"T_9f6db_row3_col6\" class=\"data row3 col6\" >-105.22%</td>\n",
       "    </tr>\n",
       "    <tr>\n",
       "      <th id=\"T_9f6db_level0_row4\" class=\"row_heading level0 row4\" >4</th>\n",
       "      <td id=\"T_9f6db_row4_col0\" class=\"data row4 col0\" >AIMIRT</td>\n",
       "      <td id=\"T_9f6db_row4_col1\" class=\"data row4 col1\" >2022</td>\n",
       "      <td id=\"T_9f6db_row4_col2\" class=\"data row4 col2\" >Q4</td>\n",
       "      <td id=\"T_9f6db_row4_col3\" class=\"data row4 col3\" >688,432</td>\n",
       "      <td id=\"T_9f6db_row4_col4\" class=\"data row4 col4\" >487,775</td>\n",
       "      <td id=\"T_9f6db_row4_col5\" class=\"data row4 col5\" >200,657</td>\n",
       "      <td id=\"T_9f6db_row4_col6\" class=\"data row4 col6\" >41.14%</td>\n",
       "    </tr>\n",
       "  </tbody>\n",
       "</table>\n"
      ],
      "text/plain": [
       "<pandas.io.formats.style.Styler at 0x1d0ebde3d90>"
      ]
     },
     "execution_count": 14,
     "metadata": {},
     "output_type": "execute_result"
    }
   ],
   "source": [
    "criteria_2 = df_ins.q_amt_p > 400_000\n",
    "df_ins.loc[criteria_2, cols].head().style.format(format_dict)"
   ]
  },
  {
   "cell_type": "code",
   "execution_count": 15,
   "metadata": {},
   "outputs": [
    {
     "data": {
      "text/html": [
       "<style type=\"text/css\">\n",
       "</style>\n",
       "<table id=\"T_b15fc_\">\n",
       "  <thead>\n",
       "    <tr>\n",
       "      <th class=\"blank level0\" >&nbsp;</th>\n",
       "      <th class=\"col_heading level0 col0\" >name</th>\n",
       "      <th class=\"col_heading level0 col1\" >year</th>\n",
       "      <th class=\"col_heading level0 col2\" >quarter</th>\n",
       "      <th class=\"col_heading level0 col3\" >q_amt_c</th>\n",
       "      <th class=\"col_heading level0 col4\" >q_amt_p</th>\n",
       "      <th class=\"col_heading level0 col5\" >inc_profit</th>\n",
       "      <th class=\"col_heading level0 col6\" >percent</th>\n",
       "    </tr>\n",
       "  </thead>\n",
       "  <tbody>\n",
       "    <tr>\n",
       "      <th id=\"T_b15fc_level0_row0\" class=\"row_heading level0 row0\" >2</th>\n",
       "      <td id=\"T_b15fc_row0_col0\" class=\"data row0 col0\" >AH</td>\n",
       "      <td id=\"T_b15fc_row0_col1\" class=\"data row0 col1\" >2022</td>\n",
       "      <td id=\"T_b15fc_row0_col2\" class=\"data row0 col2\" >Q4</td>\n",
       "      <td id=\"T_b15fc_row0_col3\" class=\"data row0 col3\" >1,823,648</td>\n",
       "      <td id=\"T_b15fc_row0_col4\" class=\"data row0 col4\" >1,023,968</td>\n",
       "      <td id=\"T_b15fc_row0_col5\" class=\"data row0 col5\" >799,680</td>\n",
       "      <td id=\"T_b15fc_row0_col6\" class=\"data row0 col6\" >78.10%</td>\n",
       "    </tr>\n",
       "    <tr>\n",
       "      <th id=\"T_b15fc_level0_row1\" class=\"row_heading level0 row1\" >4</th>\n",
       "      <td id=\"T_b15fc_row1_col0\" class=\"data row1 col0\" >AIMIRT</td>\n",
       "      <td id=\"T_b15fc_row1_col1\" class=\"data row1 col1\" >2022</td>\n",
       "      <td id=\"T_b15fc_row1_col2\" class=\"data row1 col2\" >Q4</td>\n",
       "      <td id=\"T_b15fc_row1_col3\" class=\"data row1 col3\" >688,432</td>\n",
       "      <td id=\"T_b15fc_row1_col4\" class=\"data row1 col4\" >487,775</td>\n",
       "      <td id=\"T_b15fc_row1_col5\" class=\"data row1 col5\" >200,657</td>\n",
       "      <td id=\"T_b15fc_row1_col6\" class=\"data row1 col6\" >41.14%</td>\n",
       "    </tr>\n",
       "    <tr>\n",
       "      <th id=\"T_b15fc_level0_row2\" class=\"row_heading level0 row2\" >7</th>\n",
       "      <td id=\"T_b15fc_row2_col0\" class=\"data row2 col0\" >AMATA</td>\n",
       "      <td id=\"T_b15fc_row2_col1\" class=\"data row2 col1\" >2022</td>\n",
       "      <td id=\"T_b15fc_row2_col2\" class=\"data row2 col2\" >Q4</td>\n",
       "      <td id=\"T_b15fc_row2_col3\" class=\"data row2 col3\" >2,341,355</td>\n",
       "      <td id=\"T_b15fc_row2_col4\" class=\"data row2 col4\" >1,402,287</td>\n",
       "      <td id=\"T_b15fc_row2_col5\" class=\"data row2 col5\" >939,068</td>\n",
       "      <td id=\"T_b15fc_row2_col6\" class=\"data row2 col6\" >66.97%</td>\n",
       "    </tr>\n",
       "    <tr>\n",
       "      <th id=\"T_b15fc_level0_row3\" class=\"row_heading level0 row3\" >8</th>\n",
       "      <td id=\"T_b15fc_row3_col0\" class=\"data row3 col0\" >ANAN</td>\n",
       "      <td id=\"T_b15fc_row3_col1\" class=\"data row3 col1\" >2022</td>\n",
       "      <td id=\"T_b15fc_row3_col2\" class=\"data row3 col2\" >Q4</td>\n",
       "      <td id=\"T_b15fc_row3_col3\" class=\"data row3 col3\" >-295,785</td>\n",
       "      <td id=\"T_b15fc_row3_col4\" class=\"data row3 col4\" >-457,342</td>\n",
       "      <td id=\"T_b15fc_row3_col5\" class=\"data row3 col5\" >161,557</td>\n",
       "      <td id=\"T_b15fc_row3_col6\" class=\"data row3 col6\" >35.33%</td>\n",
       "    </tr>\n",
       "    <tr>\n",
       "      <th id=\"T_b15fc_level0_row4\" class=\"row_heading level0 row4\" >9</th>\n",
       "      <td id=\"T_b15fc_row4_col0\" class=\"data row4 col0\" >AOT</td>\n",
       "      <td id=\"T_b15fc_row4_col1\" class=\"data row4 col1\" >2022</td>\n",
       "      <td id=\"T_b15fc_row4_col2\" class=\"data row4 col2\" >Q4</td>\n",
       "      <td id=\"T_b15fc_row4_col3\" class=\"data row4 col3\" >-11,087,867</td>\n",
       "      <td id=\"T_b15fc_row4_col4\" class=\"data row4 col4\" >-16,322,014</td>\n",
       "      <td id=\"T_b15fc_row4_col5\" class=\"data row4 col5\" >5,234,147</td>\n",
       "      <td id=\"T_b15fc_row4_col6\" class=\"data row4 col6\" >32.07%</td>\n",
       "    </tr>\n",
       "  </tbody>\n",
       "</table>\n"
      ],
      "text/plain": [
       "<pandas.io.formats.style.Styler at 0x1d0ebe62a60>"
      ]
     },
     "execution_count": 15,
     "metadata": {},
     "output_type": "execute_result"
    }
   ],
   "source": [
    "criteria_3 = df_ins.percent > 10.00\n",
    "df_ins.loc[criteria_3, cols].head().style.format(format_dict)"
   ]
  },
  {
   "cell_type": "code",
   "execution_count": 16,
   "metadata": {},
   "outputs": [
    {
     "data": {
      "text/html": [
       "<style type=\"text/css\">\n",
       "</style>\n",
       "<table id=\"T_819c3_\">\n",
       "  <thead>\n",
       "    <tr>\n",
       "      <th class=\"blank level0\" >&nbsp;</th>\n",
       "      <th class=\"col_heading level0 col0\" >name</th>\n",
       "      <th class=\"col_heading level0 col1\" >year</th>\n",
       "      <th class=\"col_heading level0 col2\" >quarter</th>\n",
       "      <th class=\"col_heading level0 col3\" >q_amt_c</th>\n",
       "      <th class=\"col_heading level0 col4\" >q_amt_p</th>\n",
       "      <th class=\"col_heading level0 col5\" >inc_profit</th>\n",
       "      <th class=\"col_heading level0 col6\" >percent</th>\n",
       "    </tr>\n",
       "  </thead>\n",
       "  <tbody>\n",
       "    <tr>\n",
       "      <th id=\"T_819c3_level0_row0\" class=\"row_heading level0 row0\" >172</th>\n",
       "      <td id=\"T_819c3_row0_col0\" class=\"data row0 col0\" >TFG</td>\n",
       "      <td id=\"T_819c3_row0_col1\" class=\"data row0 col1\" >2022</td>\n",
       "      <td id=\"T_819c3_row0_col2\" class=\"data row0 col2\" >Q4</td>\n",
       "      <td id=\"T_819c3_row0_col3\" class=\"data row0 col3\" >4,721,969</td>\n",
       "      <td id=\"T_819c3_row0_col4\" class=\"data row0 col4\" >561,701</td>\n",
       "      <td id=\"T_819c3_row0_col5\" class=\"data row0 col5\" >4,160,268</td>\n",
       "      <td id=\"T_819c3_row0_col6\" class=\"data row0 col6\" >740.66%</td>\n",
       "    </tr>\n",
       "    <tr>\n",
       "      <th id=\"T_819c3_level0_row1\" class=\"row_heading level0 row1\" >15</th>\n",
       "      <td id=\"T_819c3_row1_col0\" class=\"data row1 col0\" >AWC</td>\n",
       "      <td id=\"T_819c3_row1_col1\" class=\"data row1 col1\" >2022</td>\n",
       "      <td id=\"T_819c3_row1_col2\" class=\"data row1 col2\" >Q4</td>\n",
       "      <td id=\"T_819c3_row1_col3\" class=\"data row1 col3\" >3,853,861</td>\n",
       "      <td id=\"T_819c3_row1_col4\" class=\"data row1 col4\" >861,479</td>\n",
       "      <td id=\"T_819c3_row1_col5\" class=\"data row1 col5\" >2,992,382</td>\n",
       "      <td id=\"T_819c3_row1_col6\" class=\"data row1 col6\" >347.35%</td>\n",
       "    </tr>\n",
       "    <tr>\n",
       "      <th id=\"T_819c3_level0_row2\" class=\"row_heading level0 row2\" >18</th>\n",
       "      <td id=\"T_819c3_row2_col0\" class=\"data row2 col0\" >BANPU</td>\n",
       "      <td id=\"T_819c3_row2_col1\" class=\"data row2 col1\" >2022</td>\n",
       "      <td id=\"T_819c3_row2_col2\" class=\"data row2 col2\" >Q4</td>\n",
       "      <td id=\"T_819c3_row2_col3\" class=\"data row2 col3\" >40,518,967</td>\n",
       "      <td id=\"T_819c3_row2_col4\" class=\"data row2 col4\" >9,851,795</td>\n",
       "      <td id=\"T_819c3_row2_col5\" class=\"data row2 col5\" >30,667,172</td>\n",
       "      <td id=\"T_819c3_row2_col6\" class=\"data row2 col6\" >311.29%</td>\n",
       "    </tr>\n",
       "    <tr>\n",
       "      <th id=\"T_819c3_level0_row3\" class=\"row_heading level0 row3\" >30</th>\n",
       "      <td id=\"T_819c3_row3_col0\" class=\"data row3 col0\" >BH</td>\n",
       "      <td id=\"T_819c3_row3_col1\" class=\"data row3 col1\" >2022</td>\n",
       "      <td id=\"T_819c3_row3_col2\" class=\"data row3 col2\" >Q4</td>\n",
       "      <td id=\"T_819c3_row3_col3\" class=\"data row3 col3\" >4,938,222</td>\n",
       "      <td id=\"T_819c3_row3_col4\" class=\"data row3 col4\" >1,215,678</td>\n",
       "      <td id=\"T_819c3_row3_col5\" class=\"data row3 col5\" >3,722,544</td>\n",
       "      <td id=\"T_819c3_row3_col6\" class=\"data row3 col6\" >306.21%</td>\n",
       "    </tr>\n",
       "    <tr>\n",
       "      <th id=\"T_819c3_level0_row4\" class=\"row_heading level0 row4\" >184</th>\n",
       "      <td id=\"T_819c3_row4_col0\" class=\"data row4 col0\" >TOP</td>\n",
       "      <td id=\"T_819c3_row4_col1\" class=\"data row4 col1\" >2022</td>\n",
       "      <td id=\"T_819c3_row4_col2\" class=\"data row4 col2\" >Q4</td>\n",
       "      <td id=\"T_819c3_row4_col3\" class=\"data row4 col3\" >32,668,135</td>\n",
       "      <td id=\"T_819c3_row4_col4\" class=\"data row4 col4\" >12,578,026</td>\n",
       "      <td id=\"T_819c3_row4_col5\" class=\"data row4 col5\" >20,090,109</td>\n",
       "      <td id=\"T_819c3_row4_col6\" class=\"data row4 col6\" >159.72%</td>\n",
       "    </tr>\n",
       "  </tbody>\n",
       "</table>\n"
      ],
      "text/plain": [
       "<pandas.io.formats.style.Styler at 0x1d0e832d550>"
      ]
     },
     "execution_count": 16,
     "metadata": {},
     "output_type": "execute_result"
    }
   ],
   "source": [
    "final_criteria = criteria_1 & criteria_2 & criteria_3\n",
    "df_ins.loc[final_criteria, cols].sort_values(by=[\"percent\"], ascending=[False]).head().style.format(format_dict)"
   ]
  },
  {
   "cell_type": "code",
   "execution_count": 17,
   "metadata": {},
   "outputs": [
    {
     "data": {
      "text/html": [
       "<style type=\"text/css\">\n",
       "</style>\n",
       "<table id=\"T_9c170_\">\n",
       "  <thead>\n",
       "    <tr>\n",
       "      <th class=\"blank level0\" >&nbsp;</th>\n",
       "      <th class=\"col_heading level0 col0\" >name</th>\n",
       "      <th class=\"col_heading level0 col1\" >year</th>\n",
       "      <th class=\"col_heading level0 col2\" >quarter</th>\n",
       "      <th class=\"col_heading level0 col3\" >q_amt_c</th>\n",
       "      <th class=\"col_heading level0 col4\" >q_amt_p</th>\n",
       "      <th class=\"col_heading level0 col5\" >inc_profit</th>\n",
       "      <th class=\"col_heading level0 col6\" >percent</th>\n",
       "    </tr>\n",
       "  </thead>\n",
       "  <tbody>\n",
       "    <tr>\n",
       "      <th id=\"T_9c170_level0_row0\" class=\"row_heading level0 row0\" >2</th>\n",
       "      <td id=\"T_9c170_row0_col0\" class=\"data row0 col0\" >AH</td>\n",
       "      <td id=\"T_9c170_row0_col1\" class=\"data row0 col1\" >2022</td>\n",
       "      <td id=\"T_9c170_row0_col2\" class=\"data row0 col2\" >Q4</td>\n",
       "      <td id=\"T_9c170_row0_col3\" class=\"data row0 col3\" >1,823,648</td>\n",
       "      <td id=\"T_9c170_row0_col4\" class=\"data row0 col4\" >1,023,968</td>\n",
       "      <td id=\"T_9c170_row0_col5\" class=\"data row0 col5\" >799,680</td>\n",
       "      <td id=\"T_9c170_row0_col6\" class=\"data row0 col6\" >78.10%</td>\n",
       "    </tr>\n",
       "    <tr>\n",
       "      <th id=\"T_9c170_level0_row1\" class=\"row_heading level0 row1\" >4</th>\n",
       "      <td id=\"T_9c170_row1_col0\" class=\"data row1 col0\" >AIMIRT</td>\n",
       "      <td id=\"T_9c170_row1_col1\" class=\"data row1 col1\" >2022</td>\n",
       "      <td id=\"T_9c170_row1_col2\" class=\"data row1 col2\" >Q4</td>\n",
       "      <td id=\"T_9c170_row1_col3\" class=\"data row1 col3\" >688,432</td>\n",
       "      <td id=\"T_9c170_row1_col4\" class=\"data row1 col4\" >487,775</td>\n",
       "      <td id=\"T_9c170_row1_col5\" class=\"data row1 col5\" >200,657</td>\n",
       "      <td id=\"T_9c170_row1_col6\" class=\"data row1 col6\" >41.14%</td>\n",
       "    </tr>\n",
       "    <tr>\n",
       "      <th id=\"T_9c170_level0_row2\" class=\"row_heading level0 row2\" >7</th>\n",
       "      <td id=\"T_9c170_row2_col0\" class=\"data row2 col0\" >AMATA</td>\n",
       "      <td id=\"T_9c170_row2_col1\" class=\"data row2 col1\" >2022</td>\n",
       "      <td id=\"T_9c170_row2_col2\" class=\"data row2 col2\" >Q4</td>\n",
       "      <td id=\"T_9c170_row2_col3\" class=\"data row2 col3\" >2,341,355</td>\n",
       "      <td id=\"T_9c170_row2_col4\" class=\"data row2 col4\" >1,402,287</td>\n",
       "      <td id=\"T_9c170_row2_col5\" class=\"data row2 col5\" >939,068</td>\n",
       "      <td id=\"T_9c170_row2_col6\" class=\"data row2 col6\" >66.97%</td>\n",
       "    </tr>\n",
       "    <tr>\n",
       "      <th id=\"T_9c170_level0_row3\" class=\"row_heading level0 row3\" >10</th>\n",
       "      <td id=\"T_9c170_row3_col0\" class=\"data row3 col0\" >AP</td>\n",
       "      <td id=\"T_9c170_row3_col1\" class=\"data row3 col1\" >2022</td>\n",
       "      <td id=\"T_9c170_row3_col2\" class=\"data row3 col2\" >Q4</td>\n",
       "      <td id=\"T_9c170_row3_col3\" class=\"data row3 col3\" >5,877,448</td>\n",
       "      <td id=\"T_9c170_row3_col4\" class=\"data row3 col4\" >4,543,060</td>\n",
       "      <td id=\"T_9c170_row3_col5\" class=\"data row3 col5\" >1,334,388</td>\n",
       "      <td id=\"T_9c170_row3_col6\" class=\"data row3 col6\" >29.37%</td>\n",
       "    </tr>\n",
       "    <tr>\n",
       "      <th id=\"T_9c170_level0_row4\" class=\"row_heading level0 row4\" >12</th>\n",
       "      <td id=\"T_9c170_row4_col0\" class=\"data row4 col0\" >ASK</td>\n",
       "      <td id=\"T_9c170_row4_col1\" class=\"data row4 col1\" >2022</td>\n",
       "      <td id=\"T_9c170_row4_col2\" class=\"data row4 col2\" >Q4</td>\n",
       "      <td id=\"T_9c170_row4_col3\" class=\"data row4 col3\" >1,512,140</td>\n",
       "      <td id=\"T_9c170_row4_col4\" class=\"data row4 col4\" >1,202,804</td>\n",
       "      <td id=\"T_9c170_row4_col5\" class=\"data row4 col5\" >309,336</td>\n",
       "      <td id=\"T_9c170_row4_col6\" class=\"data row4 col6\" >25.72%</td>\n",
       "    </tr>\n",
       "  </tbody>\n",
       "</table>\n"
      ],
      "text/plain": [
       "<pandas.io.formats.style.Styler at 0x1d0ebea75e0>"
      ]
     },
     "execution_count": 17,
     "metadata": {},
     "output_type": "execute_result"
    }
   ],
   "source": [
    "df_ins.loc[final_criteria, cols].sort_values(by=[\"name\"], ascending=[True]).head().style.format(format_dict)"
   ]
  },
  {
   "cell_type": "code",
   "execution_count": 18,
   "metadata": {},
   "outputs": [
    {
     "data": {
      "text/html": [
       "<style type=\"text/css\">\n",
       "</style>\n",
       "<table id=\"T_58206_\">\n",
       "  <thead>\n",
       "    <tr>\n",
       "      <th class=\"blank level0\" >&nbsp;</th>\n",
       "      <th class=\"col_heading level0 col0\" >name</th>\n",
       "      <th class=\"col_heading level0 col1\" >year</th>\n",
       "      <th class=\"col_heading level0 col2\" >quarter</th>\n",
       "      <th class=\"col_heading level0 col3\" >q_amt_c</th>\n",
       "      <th class=\"col_heading level0 col4\" >q_amt_p</th>\n",
       "      <th class=\"col_heading level0 col5\" >inc_profit</th>\n",
       "      <th class=\"col_heading level0 col6\" >percent</th>\n",
       "    </tr>\n",
       "  </thead>\n",
       "  <tbody>\n",
       "    <tr>\n",
       "      <th id=\"T_58206_level0_row0\" class=\"row_heading level0 row0\" >2</th>\n",
       "      <td id=\"T_58206_row0_col0\" class=\"data row0 col0\" >AH</td>\n",
       "      <td id=\"T_58206_row0_col1\" class=\"data row0 col1\" >2022</td>\n",
       "      <td id=\"T_58206_row0_col2\" class=\"data row0 col2\" >Q4</td>\n",
       "      <td id=\"T_58206_row0_col3\" class=\"data row0 col3\" >1,823,648</td>\n",
       "      <td id=\"T_58206_row0_col4\" class=\"data row0 col4\" >1,023,968</td>\n",
       "      <td id=\"T_58206_row0_col5\" class=\"data row0 col5\" >799,680</td>\n",
       "      <td id=\"T_58206_row0_col6\" class=\"data row0 col6\" >78.10%</td>\n",
       "    </tr>\n",
       "    <tr>\n",
       "      <th id=\"T_58206_level0_row1\" class=\"row_heading level0 row1\" >4</th>\n",
       "      <td id=\"T_58206_row1_col0\" class=\"data row1 col0\" >AIMIRT</td>\n",
       "      <td id=\"T_58206_row1_col1\" class=\"data row1 col1\" >2022</td>\n",
       "      <td id=\"T_58206_row1_col2\" class=\"data row1 col2\" >Q4</td>\n",
       "      <td id=\"T_58206_row1_col3\" class=\"data row1 col3\" >688,432</td>\n",
       "      <td id=\"T_58206_row1_col4\" class=\"data row1 col4\" >487,775</td>\n",
       "      <td id=\"T_58206_row1_col5\" class=\"data row1 col5\" >200,657</td>\n",
       "      <td id=\"T_58206_row1_col6\" class=\"data row1 col6\" >41.14%</td>\n",
       "    </tr>\n",
       "    <tr>\n",
       "      <th id=\"T_58206_level0_row2\" class=\"row_heading level0 row2\" >7</th>\n",
       "      <td id=\"T_58206_row2_col0\" class=\"data row2 col0\" >AMATA</td>\n",
       "      <td id=\"T_58206_row2_col1\" class=\"data row2 col1\" >2022</td>\n",
       "      <td id=\"T_58206_row2_col2\" class=\"data row2 col2\" >Q4</td>\n",
       "      <td id=\"T_58206_row2_col3\" class=\"data row2 col3\" >2,341,355</td>\n",
       "      <td id=\"T_58206_row2_col4\" class=\"data row2 col4\" >1,402,287</td>\n",
       "      <td id=\"T_58206_row2_col5\" class=\"data row2 col5\" >939,068</td>\n",
       "      <td id=\"T_58206_row2_col6\" class=\"data row2 col6\" >66.97%</td>\n",
       "    </tr>\n",
       "    <tr>\n",
       "      <th id=\"T_58206_level0_row3\" class=\"row_heading level0 row3\" >10</th>\n",
       "      <td id=\"T_58206_row3_col0\" class=\"data row3 col0\" >AP</td>\n",
       "      <td id=\"T_58206_row3_col1\" class=\"data row3 col1\" >2022</td>\n",
       "      <td id=\"T_58206_row3_col2\" class=\"data row3 col2\" >Q4</td>\n",
       "      <td id=\"T_58206_row3_col3\" class=\"data row3 col3\" >5,877,448</td>\n",
       "      <td id=\"T_58206_row3_col4\" class=\"data row3 col4\" >4,543,060</td>\n",
       "      <td id=\"T_58206_row3_col5\" class=\"data row3 col5\" >1,334,388</td>\n",
       "      <td id=\"T_58206_row3_col6\" class=\"data row3 col6\" >29.37%</td>\n",
       "    </tr>\n",
       "    <tr>\n",
       "      <th id=\"T_58206_level0_row4\" class=\"row_heading level0 row4\" >12</th>\n",
       "      <td id=\"T_58206_row4_col0\" class=\"data row4 col0\" >ASK</td>\n",
       "      <td id=\"T_58206_row4_col1\" class=\"data row4 col1\" >2022</td>\n",
       "      <td id=\"T_58206_row4_col2\" class=\"data row4 col2\" >Q4</td>\n",
       "      <td id=\"T_58206_row4_col3\" class=\"data row4 col3\" >1,512,140</td>\n",
       "      <td id=\"T_58206_row4_col4\" class=\"data row4 col4\" >1,202,804</td>\n",
       "      <td id=\"T_58206_row4_col5\" class=\"data row4 col5\" >309,336</td>\n",
       "      <td id=\"T_58206_row4_col6\" class=\"data row4 col6\" >25.72%</td>\n",
       "    </tr>\n",
       "  </tbody>\n",
       "</table>\n"
      ],
      "text/plain": [
       "<pandas.io.formats.style.Styler at 0x1d0ebeb6550>"
      ]
     },
     "execution_count": 18,
     "metadata": {},
     "output_type": "execute_result"
    }
   ],
   "source": [
    "df_ins.loc[final_criteria, cols].sort_values(by=[\"name\"], ascending=[True]).head().style.format(format_dict)"
   ]
  },
  {
   "cell_type": "code",
   "execution_count": null,
   "metadata": {},
   "outputs": [],
   "source": []
  }
 ],
 "metadata": {
  "anaconda-cloud": {},
  "kernelspec": {
   "display_name": "Python 3 (ipykernel)",
   "language": "python",
   "name": "python3"
  },
  "language_info": {
   "codemirror_mode": {
    "name": "ipython",
    "version": 3
   },
   "file_extension": ".py",
   "mimetype": "text/x-python",
   "name": "python",
   "nbconvert_exporter": "python",
   "pygments_lexer": "ipython3",
   "version": "3.8.11"
  }
 },
 "nbformat": 4,
 "nbformat_minor": 1
}
